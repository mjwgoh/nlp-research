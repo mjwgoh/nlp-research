{
 "cells": [
  {
   "cell_type": "code",
   "execution_count": 2,
   "metadata": {
    "collapsed": true
   },
   "outputs": [],
   "source": [
    "import pandas as pd\n",
    "import numpy as np"
   ]
  },
  {
   "cell_type": "code",
   "execution_count": 3,
   "outputs": [
    {
     "name": "stderr",
     "output_type": "stream",
     "text": [
      "/var/folders/1j/m3_4482d21x5c4l8wtby4flr0000gn/T/ipykernel_42406/3625148448.py:1: DtypeWarning: Columns (15) have mixed types. Specify dtype option on import or set low_memory=False.\n",
      "  exploratory = pd.read_csv(\"/Users/gohjunwei/Dropbox/4 - upworthy (mike)/Upworthy data documentation/upworthy-archive-datasets/upworthy-archive-confirmatory-packages-03.12.2020.csv\")\n"
     ]
    }
   ],
   "source": [
    "exploratory = pd.read_csv(\"/Users/gohjunwei/Dropbox/4 - upworthy (mike)/Upworthy data documentation/upworthy-archive-datasets/upworthy-archive-confirmatory-packages-03.12.2020.csv\")"
   ],
   "metadata": {
    "collapsed": false
   }
  },
  {
   "cell_type": "markdown",
   "source": [
    "We begin by looking at the first few rows of the dataset to get a sense of what the data looks like."
   ],
   "metadata": {
    "collapsed": false
   }
  },
  {
   "cell_type": "code",
   "execution_count": 4,
   "outputs": [
    {
     "data": {
      "text/plain": "        Unnamed: 0               created_at               updated_at  \\\n0               11  2014-11-20 11:33:26.475  2016-04-02 16:25:54.046   \n1               12  2014-11-20 15:00:01.032  2016-04-02 16:25:54.128   \n2               13  2014-11-20 11:33:51.973  2016-04-02 16:25:54.069   \n3               14  2014-11-20 11:34:12.107  2016-04-02 16:25:54.049   \n4               15  2014-11-20 11:34:33.935  2016-04-02 16:25:54.072   \n...            ...                      ...                      ...   \n105546      150810  2014-11-20 06:16:50.918  2016-04-02 16:31:44.998   \n105547      150811  2014-11-20 06:17:39.811   2016-04-02 16:31:44.87   \n105548      150812  2014-11-20 06:18:48.894  2016-04-02 16:31:45.009   \n105549      150814  2014-11-20 06:21:12.691  2016-04-02 16:31:45.151   \n105550      150815  2014-11-20 06:23:12.728  2016-04-02 16:31:46.012   \n\n            clickability_test_id                           excerpt  \\\n0       546dd17e26714c82cc00001c  Things that matter. Pass 'em on.   \n1       546e01d626714c6c4400004e  Things that matter. Pass 'em on.   \n2       546dd17e26714c82cc00001c  Things that matter. Pass 'em on.   \n3       546dd17e26714c82cc00001c  Things that matter. Pass 'em on.   \n4       546dd17e26714c82cc00001c  Things that matter. Pass 'em on.   \n...                          ...                               ...   \n105546  546d86879ad54ec65b000038  Things that matter. Pass 'em on.   \n105547  546d86879ad54ec65b000038  Things that matter. Pass 'em on.   \n105548  546d86879ad54ec65b000038  Things that matter. Pass 'em on.   \n105549  546d86879ad54ec65b000038  Things that matter. Pass 'em on.   \n105550  546d86879ad54ec65b000038  Things that matter. Pass 'em on.   \n\n                                                 headline  \\\n0       Let’s See … Hire Cops, Pay Teachers, Buy Books...   \n1       People Sent This Lesbian Questions And Her Rai...   \n2       $3 Million Is What It Takes For A State To Leg...   \n3       The Fact That Sometimes Innocent People Are Ex...   \n4       Reason #351 To End The Death Penalty: It Costs...   \n...                                                   ...   \n105546  Life For The People Of North Korea Is Worse Th...   \n105547  Kim Jong Un Would Really Hate For You To Watch...   \n105548  When She Was 9 Years Old, This Girl Saw A Woma...   \n105549  This Incredible Young Woman Walked Through The...   \n105550  She Took The Stage To Ask The World To Shed Li...   \n\n                                                     lede  \\\n0       <p>Iff you start with the basic fact that inno...   \n1           <p>I'll be honest. I've wondered about 7.</p>   \n2       <p>Iff you start with the basic fact that inno...   \n3       <p>Iff you start with the basic fact that inno...   \n4       <p>Iff you start with the basic fact that inno...   \n...                                                   ...   \n105546  <p>At age 21, Yeonmi Park is a brand new activ...   \n105547  <p>At age 21, Yeonmi Park is a brand new activ...   \n105548  <p>At age 21, Yeonmi Park is a brand new activ...   \n105549  <p>At age 21, Yeonmi Park is a brand new activ...   \n105550  <p>At age 21, Yeonmi Park is a brand new activ...   \n\n                                                     slug  \\\n0       let-s-see-hire-cops-pay-teachers-buy-books-for...   \n1       people-sent-this-lesbian-questions-and-her-rai...   \n2       3-million-is-what-it-takes-for-a-state-to-lega...   \n3       the-fact-that-sometimes-innocent-people-are-ex...   \n4       reason-351-to-end-the-death-penalty-it-costs-3...   \n...                                                   ...   \n105546  life-for-the-people-of-north-korea-is-worse-th...   \n105547  kim-jong-un-would-really-hate-for-you-to-watch...   \n105548  when-she-was-9-years-old-this-girl-saw-a-woman...   \n105549  this-incredible-young-woman-walked-through-the...   \n105550  she-took-the-stage-to-ask-the-world-to-shed-li...   \n\n                   eyecatcher_id  impressions  clicks  significance  \\\n0       546dce659ad54ec65b000041         3118       8           0.1   \n1       546d1b4bfd3617f091000041         4587     130          55.8   \n2       546dce659ad54ec65b000041         3017      19          26.9   \n3       546dce659ad54ec65b000041         2974      26         100.0   \n4       546dce659ad54ec65b000041         3050      10           0.2   \n...                          ...          ...     ...           ...   \n105546  545c477e74bfe7589400000b         6825     176         100.0   \n105547  545c477e74bfe7589400000b         6744     177          82.0   \n105548  545c477e74bfe7589400000b         6683     154          31.3   \n105549  545c477e74bfe7589400000b         6826     132           1.3   \n105550  545c477e74bfe7589400000b         6786      97           0.0   \n\n        first_place  winner share_text square  test_week  \n0             False   False        NaN    NaN     201446  \n1             False   False        NaN    NaN     201446  \n2             False   False        NaN    NaN     201446  \n3              True   False        NaN    NaN     201446  \n4             False   False        NaN    NaN     201446  \n...             ...     ...        ...    ...        ...  \n105546         True   False        NaN    NaN     201446  \n105547        False   False        NaN    NaN     201446  \n105548        False   False        NaN    NaN     201446  \n105549        False   False        NaN    NaN     201446  \n105550        False   False        NaN    NaN     201446  \n\n[105551 rows x 17 columns]",
      "text/html": "<div>\n<style scoped>\n    .dataframe tbody tr th:only-of-type {\n        vertical-align: middle;\n    }\n\n    .dataframe tbody tr th {\n        vertical-align: top;\n    }\n\n    .dataframe thead th {\n        text-align: right;\n    }\n</style>\n<table border=\"1\" class=\"dataframe\">\n  <thead>\n    <tr style=\"text-align: right;\">\n      <th></th>\n      <th>Unnamed: 0</th>\n      <th>created_at</th>\n      <th>updated_at</th>\n      <th>clickability_test_id</th>\n      <th>excerpt</th>\n      <th>headline</th>\n      <th>lede</th>\n      <th>slug</th>\n      <th>eyecatcher_id</th>\n      <th>impressions</th>\n      <th>clicks</th>\n      <th>significance</th>\n      <th>first_place</th>\n      <th>winner</th>\n      <th>share_text</th>\n      <th>square</th>\n      <th>test_week</th>\n    </tr>\n  </thead>\n  <tbody>\n    <tr>\n      <th>0</th>\n      <td>11</td>\n      <td>2014-11-20 11:33:26.475</td>\n      <td>2016-04-02 16:25:54.046</td>\n      <td>546dd17e26714c82cc00001c</td>\n      <td>Things that matter. Pass 'em on.</td>\n      <td>Let’s See … Hire Cops, Pay Teachers, Buy Books...</td>\n      <td>&lt;p&gt;Iff you start with the basic fact that inno...</td>\n      <td>let-s-see-hire-cops-pay-teachers-buy-books-for...</td>\n      <td>546dce659ad54ec65b000041</td>\n      <td>3118</td>\n      <td>8</td>\n      <td>0.1</td>\n      <td>False</td>\n      <td>False</td>\n      <td>NaN</td>\n      <td>NaN</td>\n      <td>201446</td>\n    </tr>\n    <tr>\n      <th>1</th>\n      <td>12</td>\n      <td>2014-11-20 15:00:01.032</td>\n      <td>2016-04-02 16:25:54.128</td>\n      <td>546e01d626714c6c4400004e</td>\n      <td>Things that matter. Pass 'em on.</td>\n      <td>People Sent This Lesbian Questions And Her Rai...</td>\n      <td>&lt;p&gt;I'll be honest. I've wondered about 7.&lt;/p&gt;</td>\n      <td>people-sent-this-lesbian-questions-and-her-rai...</td>\n      <td>546d1b4bfd3617f091000041</td>\n      <td>4587</td>\n      <td>130</td>\n      <td>55.8</td>\n      <td>False</td>\n      <td>False</td>\n      <td>NaN</td>\n      <td>NaN</td>\n      <td>201446</td>\n    </tr>\n    <tr>\n      <th>2</th>\n      <td>13</td>\n      <td>2014-11-20 11:33:51.973</td>\n      <td>2016-04-02 16:25:54.069</td>\n      <td>546dd17e26714c82cc00001c</td>\n      <td>Things that matter. Pass 'em on.</td>\n      <td>$3 Million Is What It Takes For A State To Leg...</td>\n      <td>&lt;p&gt;Iff you start with the basic fact that inno...</td>\n      <td>3-million-is-what-it-takes-for-a-state-to-lega...</td>\n      <td>546dce659ad54ec65b000041</td>\n      <td>3017</td>\n      <td>19</td>\n      <td>26.9</td>\n      <td>False</td>\n      <td>False</td>\n      <td>NaN</td>\n      <td>NaN</td>\n      <td>201446</td>\n    </tr>\n    <tr>\n      <th>3</th>\n      <td>14</td>\n      <td>2014-11-20 11:34:12.107</td>\n      <td>2016-04-02 16:25:54.049</td>\n      <td>546dd17e26714c82cc00001c</td>\n      <td>Things that matter. Pass 'em on.</td>\n      <td>The Fact That Sometimes Innocent People Are Ex...</td>\n      <td>&lt;p&gt;Iff you start with the basic fact that inno...</td>\n      <td>the-fact-that-sometimes-innocent-people-are-ex...</td>\n      <td>546dce659ad54ec65b000041</td>\n      <td>2974</td>\n      <td>26</td>\n      <td>100.0</td>\n      <td>True</td>\n      <td>False</td>\n      <td>NaN</td>\n      <td>NaN</td>\n      <td>201446</td>\n    </tr>\n    <tr>\n      <th>4</th>\n      <td>15</td>\n      <td>2014-11-20 11:34:33.935</td>\n      <td>2016-04-02 16:25:54.072</td>\n      <td>546dd17e26714c82cc00001c</td>\n      <td>Things that matter. Pass 'em on.</td>\n      <td>Reason #351 To End The Death Penalty: It Costs...</td>\n      <td>&lt;p&gt;Iff you start with the basic fact that inno...</td>\n      <td>reason-351-to-end-the-death-penalty-it-costs-3...</td>\n      <td>546dce659ad54ec65b000041</td>\n      <td>3050</td>\n      <td>10</td>\n      <td>0.2</td>\n      <td>False</td>\n      <td>False</td>\n      <td>NaN</td>\n      <td>NaN</td>\n      <td>201446</td>\n    </tr>\n    <tr>\n      <th>...</th>\n      <td>...</td>\n      <td>...</td>\n      <td>...</td>\n      <td>...</td>\n      <td>...</td>\n      <td>...</td>\n      <td>...</td>\n      <td>...</td>\n      <td>...</td>\n      <td>...</td>\n      <td>...</td>\n      <td>...</td>\n      <td>...</td>\n      <td>...</td>\n      <td>...</td>\n      <td>...</td>\n      <td>...</td>\n    </tr>\n    <tr>\n      <th>105546</th>\n      <td>150810</td>\n      <td>2014-11-20 06:16:50.918</td>\n      <td>2016-04-02 16:31:44.998</td>\n      <td>546d86879ad54ec65b000038</td>\n      <td>Things that matter. Pass 'em on.</td>\n      <td>Life For The People Of North Korea Is Worse Th...</td>\n      <td>&lt;p&gt;At age 21, Yeonmi Park is a brand new activ...</td>\n      <td>life-for-the-people-of-north-korea-is-worse-th...</td>\n      <td>545c477e74bfe7589400000b</td>\n      <td>6825</td>\n      <td>176</td>\n      <td>100.0</td>\n      <td>True</td>\n      <td>False</td>\n      <td>NaN</td>\n      <td>NaN</td>\n      <td>201446</td>\n    </tr>\n    <tr>\n      <th>105547</th>\n      <td>150811</td>\n      <td>2014-11-20 06:17:39.811</td>\n      <td>2016-04-02 16:31:44.87</td>\n      <td>546d86879ad54ec65b000038</td>\n      <td>Things that matter. Pass 'em on.</td>\n      <td>Kim Jong Un Would Really Hate For You To Watch...</td>\n      <td>&lt;p&gt;At age 21, Yeonmi Park is a brand new activ...</td>\n      <td>kim-jong-un-would-really-hate-for-you-to-watch...</td>\n      <td>545c477e74bfe7589400000b</td>\n      <td>6744</td>\n      <td>177</td>\n      <td>82.0</td>\n      <td>False</td>\n      <td>False</td>\n      <td>NaN</td>\n      <td>NaN</td>\n      <td>201446</td>\n    </tr>\n    <tr>\n      <th>105548</th>\n      <td>150812</td>\n      <td>2014-11-20 06:18:48.894</td>\n      <td>2016-04-02 16:31:45.009</td>\n      <td>546d86879ad54ec65b000038</td>\n      <td>Things that matter. Pass 'em on.</td>\n      <td>When She Was 9 Years Old, This Girl Saw A Woma...</td>\n      <td>&lt;p&gt;At age 21, Yeonmi Park is a brand new activ...</td>\n      <td>when-she-was-9-years-old-this-girl-saw-a-woman...</td>\n      <td>545c477e74bfe7589400000b</td>\n      <td>6683</td>\n      <td>154</td>\n      <td>31.3</td>\n      <td>False</td>\n      <td>False</td>\n      <td>NaN</td>\n      <td>NaN</td>\n      <td>201446</td>\n    </tr>\n    <tr>\n      <th>105549</th>\n      <td>150814</td>\n      <td>2014-11-20 06:21:12.691</td>\n      <td>2016-04-02 16:31:45.151</td>\n      <td>546d86879ad54ec65b000038</td>\n      <td>Things that matter. Pass 'em on.</td>\n      <td>This Incredible Young Woman Walked Through The...</td>\n      <td>&lt;p&gt;At age 21, Yeonmi Park is a brand new activ...</td>\n      <td>this-incredible-young-woman-walked-through-the...</td>\n      <td>545c477e74bfe7589400000b</td>\n      <td>6826</td>\n      <td>132</td>\n      <td>1.3</td>\n      <td>False</td>\n      <td>False</td>\n      <td>NaN</td>\n      <td>NaN</td>\n      <td>201446</td>\n    </tr>\n    <tr>\n      <th>105550</th>\n      <td>150815</td>\n      <td>2014-11-20 06:23:12.728</td>\n      <td>2016-04-02 16:31:46.012</td>\n      <td>546d86879ad54ec65b000038</td>\n      <td>Things that matter. Pass 'em on.</td>\n      <td>She Took The Stage To Ask The World To Shed Li...</td>\n      <td>&lt;p&gt;At age 21, Yeonmi Park is a brand new activ...</td>\n      <td>she-took-the-stage-to-ask-the-world-to-shed-li...</td>\n      <td>545c477e74bfe7589400000b</td>\n      <td>6786</td>\n      <td>97</td>\n      <td>0.0</td>\n      <td>False</td>\n      <td>False</td>\n      <td>NaN</td>\n      <td>NaN</td>\n      <td>201446</td>\n    </tr>\n  </tbody>\n</table>\n<p>105551 rows × 17 columns</p>\n</div>"
     },
     "execution_count": 4,
     "metadata": {},
     "output_type": "execute_result"
    }
   ],
   "source": [
    "exploratory"
   ],
   "metadata": {
    "collapsed": false
   }
  },
  {
   "cell_type": "markdown",
   "source": [
    "We can see that the dataset is only a partial dataset. We proceed by combining the datasets to get a complete dataset."
   ],
   "metadata": {
    "collapsed": false
   }
  },
  {
   "cell_type": "code",
   "execution_count": 5,
   "outputs": [
    {
     "name": "stderr",
     "output_type": "stream",
     "text": [
      "/var/folders/1j/m3_4482d21x5c4l8wtby4flr0000gn/T/ipykernel_42406/382507864.py:1: DtypeWarning: Columns (15) have mixed types. Specify dtype option on import or set low_memory=False.\n",
      "  confirmatory = pd.read_csv(\"/Users/gohjunwei/Dropbox/4 - upworthy (mike)/Upworthy data documentation/upworthy-archive-datasets/upworthy-archive-confirmatory-packages-03.12.2020.csv\")\n"
     ]
    }
   ],
   "source": [
    "confirmatory = pd.read_csv(\"/Users/gohjunwei/Dropbox/4 - upworthy (mike)/Upworthy data documentation/upworthy-archive-datasets/upworthy-archive-confirmatory-packages-03.12.2020.csv\")\n",
    "holdout = pd.read_csv(\"/Users/gohjunwei/Dropbox/4 - upworthy (mike)/Upworthy data documentation/upworthy-archive-datasets/upworthy-archive-holdout-packages-03.12.2020.csv\")"
   ],
   "metadata": {
    "collapsed": false
   }
  },
  {
   "cell_type": "markdown",
   "source": [
    "We combine the datasets into a single dataset."
   ],
   "metadata": {
    "collapsed": false
   }
  },
  {
   "cell_type": "code",
   "execution_count": 6,
   "outputs": [],
   "source": [
    "df = pd.concat([exploratory, confirmatory, holdout])"
   ],
   "metadata": {
    "collapsed": false
   }
  },
  {
   "cell_type": "markdown",
   "source": [
    "We rename the first column to `id` for easier reference. Each ID represents a separate test. Here, we"
   ],
   "metadata": {
    "collapsed": false
   }
  },
  {
   "cell_type": "code",
   "execution_count": 7,
   "outputs": [],
   "source": [
    "df.rename(columns={exploratory.columns[0]: \"id\"}, inplace=True)"
   ],
   "metadata": {
    "collapsed": false
   }
  },
  {
   "cell_type": "code",
   "execution_count": 8,
   "outputs": [
    {
     "data": {
      "text/plain": "           id               created_at               updated_at  \\\n0          11  2014-11-20 11:33:26.475  2016-04-02 16:25:54.046   \n1          12  2014-11-20 15:00:01.032  2016-04-02 16:25:54.128   \n2          13  2014-11-20 11:33:51.973  2016-04-02 16:25:54.069   \n3          14  2014-11-20 11:34:12.107  2016-04-02 16:25:54.049   \n4          15  2014-11-20 11:34:33.935  2016-04-02 16:25:54.072   \n...       ...                      ...                      ...   \n22595  150793  2014-11-20 02:52:17.483   2016-04-02 16:31:40.69   \n22596  150806  2014-11-20 04:48:29.008  2016-04-02 16:25:54.006   \n22597  150807   2014-11-20 04:48:37.59  2016-04-02 16:25:54.009   \n22598  150808  2014-11-20 04:48:52.325  2016-04-02 16:25:54.013   \n22599  150809  2014-11-20 04:49:19.374  2016-04-02 16:25:54.016   \n\n           clickability_test_id                           excerpt  \\\n0      546dd17e26714c82cc00001c  Things that matter. Pass 'em on.   \n1      546e01d626714c6c4400004e  Things that matter. Pass 'em on.   \n2      546dd17e26714c82cc00001c  Things that matter. Pass 'em on.   \n3      546dd17e26714c82cc00001c  Things that matter. Pass 'em on.   \n4      546dd17e26714c82cc00001c  Things that matter. Pass 'em on.   \n...                         ...                               ...   \n22595  546d564284ad3817bc000025  Things that matter. Pass 'em on.   \n22596  546d702084ad380752000038  Things that matter. Pass 'em on.   \n22597  546d702084ad380752000038  Things that matter. Pass 'em on.   \n22598  546d702084ad380752000038  Things that matter. Pass 'em on.   \n22599  546d702084ad380752000038  Things that matter. Pass 'em on.   \n\n                                                headline  \\\n0      Let’s See … Hire Cops, Pay Teachers, Buy Books...   \n1      People Sent This Lesbian Questions And Her Rai...   \n2      $3 Million Is What It Takes For A State To Leg...   \n3      The Fact That Sometimes Innocent People Are Ex...   \n4      Reason #351 To End The Death Penalty: It Costs...   \n...                                                  ...   \n22595  An Artist Animates The Ugly Truth We Should Al...   \n22596  They're Being Called 'Walmart's Worst Nightmar...   \n22597  They're Being Called 'Walmart's Worst Nightmar...   \n22598  They're Being Called 'Walmart's Worst Nightmar...   \n22599  They're Being Called 'Walmart's Worst Nightmar...   \n\n                                                    lede  \\\n0      <p>Iff you start with the basic fact that inno...   \n1          <p>I'll be honest. I've wondered about 7.</p>   \n2      <p>Iff you start with the basic fact that inno...   \n3      <p>Iff you start with the basic fact that inno...   \n4      <p>Iff you start with the basic fact that inno...   \n...                                                  ...   \n22595  <p>Sad but true: It took the deaths of several...   \n22596  <p>When I saw *why* people are calling them \"W...   \n22597  <p>When I saw *why* people are calling them \"W...   \n22598  <p>When I saw *why* people are calling them \"W...   \n22599  <p>When I saw *why* people are calling them \"W...   \n\n                                                    slug  \\\n0      let-s-see-hire-cops-pay-teachers-buy-books-for...   \n1      people-sent-this-lesbian-questions-and-her-rai...   \n2      3-million-is-what-it-takes-for-a-state-to-lega...   \n3      the-fact-that-sometimes-innocent-people-are-ex...   \n4      reason-351-to-end-the-death-penalty-it-costs-3...   \n...                                                  ...   \n22595  an-artist-animates-the-ugly-truth-we-should-al...   \n22596  theyre-being-called-walmarts-worst-nightmare-a...   \n22597  theyre-being-called-walmarts-worst-nightmare-a...   \n22598  theyre-being-called-walmarts-worst-nightmare-a...   \n22599  theyre-being-called-walmarts-worst-nightmare-a...   \n\n                  eyecatcher_id  impressions  clicks  significance  \\\n0      546dce659ad54ec65b000041         3118       8           0.1   \n1      546d1b4bfd3617f091000041         4587     130          55.8   \n2      546dce659ad54ec65b000041         3017      19          26.9   \n3      546dce659ad54ec65b000041         2974      26         100.0   \n4      546dce659ad54ec65b000041         3050      10           0.2   \n...                         ...          ...     ...           ...   \n22595  546d574a9ad54e2af0000020        10011      53           0.4   \n22596  546d2dcd9ad54e2af000000a        10137     169           0.0   \n22597  546d6fa19ad54ec1f9000017         9955     315           0.5   \n22598  546d6fa126714c0538000040        10055     291           0.0   \n22599  546d6fa19ad54eec8d00002d        10184     399         100.0   \n\n       first_place  winner share_text square  test_week  \n0            False   False        NaN    NaN     201446  \n1            False   False        NaN    NaN     201446  \n2            False   False        NaN    NaN     201446  \n3             True   False        NaN    NaN     201446  \n4            False   False        NaN    NaN     201446  \n...            ...     ...        ...    ...        ...  \n22595        False   False        NaN    NaN     201446  \n22596        False   False        NaN    NaN     201446  \n22597        False   False        NaN    NaN     201446  \n22598        False   False        NaN    NaN     201446  \n22599         True   False        NaN    NaN     201446  \n\n[233702 rows x 17 columns]",
      "text/html": "<div>\n<style scoped>\n    .dataframe tbody tr th:only-of-type {\n        vertical-align: middle;\n    }\n\n    .dataframe tbody tr th {\n        vertical-align: top;\n    }\n\n    .dataframe thead th {\n        text-align: right;\n    }\n</style>\n<table border=\"1\" class=\"dataframe\">\n  <thead>\n    <tr style=\"text-align: right;\">\n      <th></th>\n      <th>id</th>\n      <th>created_at</th>\n      <th>updated_at</th>\n      <th>clickability_test_id</th>\n      <th>excerpt</th>\n      <th>headline</th>\n      <th>lede</th>\n      <th>slug</th>\n      <th>eyecatcher_id</th>\n      <th>impressions</th>\n      <th>clicks</th>\n      <th>significance</th>\n      <th>first_place</th>\n      <th>winner</th>\n      <th>share_text</th>\n      <th>square</th>\n      <th>test_week</th>\n    </tr>\n  </thead>\n  <tbody>\n    <tr>\n      <th>0</th>\n      <td>11</td>\n      <td>2014-11-20 11:33:26.475</td>\n      <td>2016-04-02 16:25:54.046</td>\n      <td>546dd17e26714c82cc00001c</td>\n      <td>Things that matter. Pass 'em on.</td>\n      <td>Let’s See … Hire Cops, Pay Teachers, Buy Books...</td>\n      <td>&lt;p&gt;Iff you start with the basic fact that inno...</td>\n      <td>let-s-see-hire-cops-pay-teachers-buy-books-for...</td>\n      <td>546dce659ad54ec65b000041</td>\n      <td>3118</td>\n      <td>8</td>\n      <td>0.1</td>\n      <td>False</td>\n      <td>False</td>\n      <td>NaN</td>\n      <td>NaN</td>\n      <td>201446</td>\n    </tr>\n    <tr>\n      <th>1</th>\n      <td>12</td>\n      <td>2014-11-20 15:00:01.032</td>\n      <td>2016-04-02 16:25:54.128</td>\n      <td>546e01d626714c6c4400004e</td>\n      <td>Things that matter. Pass 'em on.</td>\n      <td>People Sent This Lesbian Questions And Her Rai...</td>\n      <td>&lt;p&gt;I'll be honest. I've wondered about 7.&lt;/p&gt;</td>\n      <td>people-sent-this-lesbian-questions-and-her-rai...</td>\n      <td>546d1b4bfd3617f091000041</td>\n      <td>4587</td>\n      <td>130</td>\n      <td>55.8</td>\n      <td>False</td>\n      <td>False</td>\n      <td>NaN</td>\n      <td>NaN</td>\n      <td>201446</td>\n    </tr>\n    <tr>\n      <th>2</th>\n      <td>13</td>\n      <td>2014-11-20 11:33:51.973</td>\n      <td>2016-04-02 16:25:54.069</td>\n      <td>546dd17e26714c82cc00001c</td>\n      <td>Things that matter. Pass 'em on.</td>\n      <td>$3 Million Is What It Takes For A State To Leg...</td>\n      <td>&lt;p&gt;Iff you start with the basic fact that inno...</td>\n      <td>3-million-is-what-it-takes-for-a-state-to-lega...</td>\n      <td>546dce659ad54ec65b000041</td>\n      <td>3017</td>\n      <td>19</td>\n      <td>26.9</td>\n      <td>False</td>\n      <td>False</td>\n      <td>NaN</td>\n      <td>NaN</td>\n      <td>201446</td>\n    </tr>\n    <tr>\n      <th>3</th>\n      <td>14</td>\n      <td>2014-11-20 11:34:12.107</td>\n      <td>2016-04-02 16:25:54.049</td>\n      <td>546dd17e26714c82cc00001c</td>\n      <td>Things that matter. Pass 'em on.</td>\n      <td>The Fact That Sometimes Innocent People Are Ex...</td>\n      <td>&lt;p&gt;Iff you start with the basic fact that inno...</td>\n      <td>the-fact-that-sometimes-innocent-people-are-ex...</td>\n      <td>546dce659ad54ec65b000041</td>\n      <td>2974</td>\n      <td>26</td>\n      <td>100.0</td>\n      <td>True</td>\n      <td>False</td>\n      <td>NaN</td>\n      <td>NaN</td>\n      <td>201446</td>\n    </tr>\n    <tr>\n      <th>4</th>\n      <td>15</td>\n      <td>2014-11-20 11:34:33.935</td>\n      <td>2016-04-02 16:25:54.072</td>\n      <td>546dd17e26714c82cc00001c</td>\n      <td>Things that matter. Pass 'em on.</td>\n      <td>Reason #351 To End The Death Penalty: It Costs...</td>\n      <td>&lt;p&gt;Iff you start with the basic fact that inno...</td>\n      <td>reason-351-to-end-the-death-penalty-it-costs-3...</td>\n      <td>546dce659ad54ec65b000041</td>\n      <td>3050</td>\n      <td>10</td>\n      <td>0.2</td>\n      <td>False</td>\n      <td>False</td>\n      <td>NaN</td>\n      <td>NaN</td>\n      <td>201446</td>\n    </tr>\n    <tr>\n      <th>...</th>\n      <td>...</td>\n      <td>...</td>\n      <td>...</td>\n      <td>...</td>\n      <td>...</td>\n      <td>...</td>\n      <td>...</td>\n      <td>...</td>\n      <td>...</td>\n      <td>...</td>\n      <td>...</td>\n      <td>...</td>\n      <td>...</td>\n      <td>...</td>\n      <td>...</td>\n      <td>...</td>\n      <td>...</td>\n    </tr>\n    <tr>\n      <th>22595</th>\n      <td>150793</td>\n      <td>2014-11-20 02:52:17.483</td>\n      <td>2016-04-02 16:31:40.69</td>\n      <td>546d564284ad3817bc000025</td>\n      <td>Things that matter. Pass 'em on.</td>\n      <td>An Artist Animates The Ugly Truth We Should Al...</td>\n      <td>&lt;p&gt;Sad but true: It took the deaths of several...</td>\n      <td>an-artist-animates-the-ugly-truth-we-should-al...</td>\n      <td>546d574a9ad54e2af0000020</td>\n      <td>10011</td>\n      <td>53</td>\n      <td>0.4</td>\n      <td>False</td>\n      <td>False</td>\n      <td>NaN</td>\n      <td>NaN</td>\n      <td>201446</td>\n    </tr>\n    <tr>\n      <th>22596</th>\n      <td>150806</td>\n      <td>2014-11-20 04:48:29.008</td>\n      <td>2016-04-02 16:25:54.006</td>\n      <td>546d702084ad380752000038</td>\n      <td>Things that matter. Pass 'em on.</td>\n      <td>They're Being Called 'Walmart's Worst Nightmar...</td>\n      <td>&lt;p&gt;When I saw *why* people are calling them \"W...</td>\n      <td>theyre-being-called-walmarts-worst-nightmare-a...</td>\n      <td>546d2dcd9ad54e2af000000a</td>\n      <td>10137</td>\n      <td>169</td>\n      <td>0.0</td>\n      <td>False</td>\n      <td>False</td>\n      <td>NaN</td>\n      <td>NaN</td>\n      <td>201446</td>\n    </tr>\n    <tr>\n      <th>22597</th>\n      <td>150807</td>\n      <td>2014-11-20 04:48:37.59</td>\n      <td>2016-04-02 16:25:54.009</td>\n      <td>546d702084ad380752000038</td>\n      <td>Things that matter. Pass 'em on.</td>\n      <td>They're Being Called 'Walmart's Worst Nightmar...</td>\n      <td>&lt;p&gt;When I saw *why* people are calling them \"W...</td>\n      <td>theyre-being-called-walmarts-worst-nightmare-a...</td>\n      <td>546d6fa19ad54ec1f9000017</td>\n      <td>9955</td>\n      <td>315</td>\n      <td>0.5</td>\n      <td>False</td>\n      <td>False</td>\n      <td>NaN</td>\n      <td>NaN</td>\n      <td>201446</td>\n    </tr>\n    <tr>\n      <th>22598</th>\n      <td>150808</td>\n      <td>2014-11-20 04:48:52.325</td>\n      <td>2016-04-02 16:25:54.013</td>\n      <td>546d702084ad380752000038</td>\n      <td>Things that matter. Pass 'em on.</td>\n      <td>They're Being Called 'Walmart's Worst Nightmar...</td>\n      <td>&lt;p&gt;When I saw *why* people are calling them \"W...</td>\n      <td>theyre-being-called-walmarts-worst-nightmare-a...</td>\n      <td>546d6fa126714c0538000040</td>\n      <td>10055</td>\n      <td>291</td>\n      <td>0.0</td>\n      <td>False</td>\n      <td>False</td>\n      <td>NaN</td>\n      <td>NaN</td>\n      <td>201446</td>\n    </tr>\n    <tr>\n      <th>22599</th>\n      <td>150809</td>\n      <td>2014-11-20 04:49:19.374</td>\n      <td>2016-04-02 16:25:54.016</td>\n      <td>546d702084ad380752000038</td>\n      <td>Things that matter. Pass 'em on.</td>\n      <td>They're Being Called 'Walmart's Worst Nightmar...</td>\n      <td>&lt;p&gt;When I saw *why* people are calling them \"W...</td>\n      <td>theyre-being-called-walmarts-worst-nightmare-a...</td>\n      <td>546d6fa19ad54eec8d00002d</td>\n      <td>10184</td>\n      <td>399</td>\n      <td>100.0</td>\n      <td>True</td>\n      <td>False</td>\n      <td>NaN</td>\n      <td>NaN</td>\n      <td>201446</td>\n    </tr>\n  </tbody>\n</table>\n<p>233702 rows × 17 columns</p>\n</div>"
     },
     "execution_count": 8,
     "metadata": {},
     "output_type": "execute_result"
    }
   ],
   "source": [
    "df"
   ],
   "metadata": {
    "collapsed": false
   }
  },
  {
   "cell_type": "markdown",
   "source": [
    "Here, we see that there are a total of 311934 unique tests in the dataset."
   ],
   "metadata": {
    "collapsed": false
   }
  },
  {
   "cell_type": "code",
   "execution_count": 9,
   "outputs": [
    {
     "name": "stdout",
     "output_type": "stream",
     "text": [
      "<class 'pandas.core.frame.DataFrame'>\n",
      "RangeIndex: 105551 entries, 0 to 105550\n",
      "Data columns (total 17 columns):\n",
      " #   Column                Non-Null Count   Dtype  \n",
      "---  ------                --------------   -----  \n",
      " 0   Unnamed: 0            105551 non-null  int64  \n",
      " 1   created_at            105551 non-null  object \n",
      " 2   updated_at            105551 non-null  object \n",
      " 3   clickability_test_id  105551 non-null  object \n",
      " 4   excerpt               94335 non-null   object \n",
      " 5   headline              105551 non-null  object \n",
      " 6   lede                  105485 non-null  object \n",
      " 7   slug                  105551 non-null  object \n",
      " 8   eyecatcher_id         105420 non-null  object \n",
      " 9   impressions           105551 non-null  int64  \n",
      " 10  clicks                105551 non-null  int64  \n",
      " 11  significance          105551 non-null  float64\n",
      " 12  first_place           105551 non-null  bool   \n",
      " 13  winner                105551 non-null  bool   \n",
      " 14  share_text            14632 non-null   object \n",
      " 15  square                34850 non-null   object \n",
      " 16  test_week             105551 non-null  int64  \n",
      "dtypes: bool(2), float64(1), int64(4), object(10)\n",
      "memory usage: 12.3+ MB\n"
     ]
    }
   ],
   "source": [
    "exploratory.info()"
   ],
   "metadata": {
    "collapsed": false
   }
  },
  {
   "cell_type": "markdown",
   "source": [
    "- **`created_at`**: Time the package was created (timezone unknown). This column records when each content package was initially created in the system.\n",
    "\n",
    "- **`test_week`**: Week the package was created, a variable constructed by the archive creators for stratified random sampling. This helps in organizing and analyzing the data by specific time periods.\n",
    "\n",
    "- **`clickability_test_id`**: The test ID. Viewers were randomly assigned to packages with the same test ID, allowing for controlled experiments on clickability.\n",
    "\n",
    "- **`impressions`**: The number of viewers who were assigned to this package. The total number of participants for a given test is the sum of impressions for all packages that share the same clickability_test_id.\n",
    "\n",
    "- **`headline`**: The headline being tested. This is a critical component of the content package as it's a major factor influencing click-through rates.\n",
    "\n",
    "- **`eyecatcher_id`**: Image ID. Image files are not available. Packages that shared the same image have the same eyecatcher_id, indicating they used the same visual element.\n",
    "\n",
    "- **`clicks`**: The number of viewers (impressions) that clicked on the package. The click rate for a given package is the number of clicks divided by the number of impressions.\n",
    "\n",
    "- **`excerpt`**: Article excerpt. This may provide additional context or teaser information about the content package.\n",
    "\n",
    "- **`lede`**: The opening sentence or paragraph of the story, often used to hook the reader.\n",
    "\n",
    "- **`slug`**: Internal name for the web address. This is typically a URL-friendly version of the headline or a key aspect of the content.\n",
    "\n",
    "- **`share_text`**: Summary for display on social media when the article is shared. This was not shown in tests since tests were conducted on the Upworthy website.\n",
    "\n",
    "- **`square`**: When used, part of the same social media sharing suggestion as the share text. It might be a specific format or template for sharing content.\n",
    "\n",
    "- **`significance`**: NOT an estimate of statistical significance; a complex, inconsistent calculation that compared the clicks on a package to the clicks on all previous packages that were fielded on the same pages.\n",
    "\n",
    "- **`first_place`**: Along with significance, shown to editors to guide decisions about what test to choose. It indicates whether a package was initially considered the most promising based on certain metrics.\n",
    "\n",
    "- **`winner`**: Whether a package was selected by editors to be used on the Upworthy site after the test. This reflects the outcome of the testing process in terms of content selection.\n",
    "\n",
    "- **`updated_at`**: The last time the package was updated in the Upworthy system. This tracks any changes or updates made to the package after its initial creation."
   ],
   "metadata": {
    "collapsed": false
   }
  },
  {
   "cell_type": "markdown",
   "source": [
    "We confirm that all tests have a unique ID."
   ],
   "metadata": {
    "collapsed": false
   }
  },
  {
   "cell_type": "code",
   "execution_count": 10,
   "outputs": [
    {
     "data": {
      "text/plain": "128151"
     },
     "execution_count": 10,
     "metadata": {},
     "output_type": "execute_result"
    }
   ],
   "source": [
    "df[\"id\"].nunique()"
   ],
   "metadata": {
    "collapsed": false
   }
  },
  {
   "cell_type": "markdown",
   "source": [
    "We remove all duplicate tests from the dataset."
   ],
   "metadata": {
    "collapsed": false
   }
  },
  {
   "cell_type": "code",
   "execution_count": 11,
   "outputs": [],
   "source": [
    "df.drop_duplicates(subset=\"id\", inplace=True)"
   ],
   "metadata": {
    "collapsed": false
   }
  },
  {
   "cell_type": "code",
   "execution_count": 12,
   "outputs": [
    {
     "data": {
      "text/plain": "           id               created_at               updated_at  \\\n0          11  2014-11-20 11:33:26.475  2016-04-02 16:25:54.046   \n1          12  2014-11-20 15:00:01.032  2016-04-02 16:25:54.128   \n2          13  2014-11-20 11:33:51.973  2016-04-02 16:25:54.069   \n3          14  2014-11-20 11:34:12.107  2016-04-02 16:25:54.049   \n4          15  2014-11-20 11:34:33.935  2016-04-02 16:25:54.072   \n...       ...                      ...                      ...   \n22595  150793  2014-11-20 02:52:17.483   2016-04-02 16:31:40.69   \n22596  150806  2014-11-20 04:48:29.008  2016-04-02 16:25:54.006   \n22597  150807   2014-11-20 04:48:37.59  2016-04-02 16:25:54.009   \n22598  150808  2014-11-20 04:48:52.325  2016-04-02 16:25:54.013   \n22599  150809  2014-11-20 04:49:19.374  2016-04-02 16:25:54.016   \n\n           clickability_test_id                           excerpt  \\\n0      546dd17e26714c82cc00001c  Things that matter. Pass 'em on.   \n1      546e01d626714c6c4400004e  Things that matter. Pass 'em on.   \n2      546dd17e26714c82cc00001c  Things that matter. Pass 'em on.   \n3      546dd17e26714c82cc00001c  Things that matter. Pass 'em on.   \n4      546dd17e26714c82cc00001c  Things that matter. Pass 'em on.   \n...                         ...                               ...   \n22595  546d564284ad3817bc000025  Things that matter. Pass 'em on.   \n22596  546d702084ad380752000038  Things that matter. Pass 'em on.   \n22597  546d702084ad380752000038  Things that matter. Pass 'em on.   \n22598  546d702084ad380752000038  Things that matter. Pass 'em on.   \n22599  546d702084ad380752000038  Things that matter. Pass 'em on.   \n\n                                                headline  \\\n0      Let’s See … Hire Cops, Pay Teachers, Buy Books...   \n1      People Sent This Lesbian Questions And Her Rai...   \n2      $3 Million Is What It Takes For A State To Leg...   \n3      The Fact That Sometimes Innocent People Are Ex...   \n4      Reason #351 To End The Death Penalty: It Costs...   \n...                                                  ...   \n22595  An Artist Animates The Ugly Truth We Should Al...   \n22596  They're Being Called 'Walmart's Worst Nightmar...   \n22597  They're Being Called 'Walmart's Worst Nightmar...   \n22598  They're Being Called 'Walmart's Worst Nightmar...   \n22599  They're Being Called 'Walmart's Worst Nightmar...   \n\n                                                    lede  \\\n0      <p>Iff you start with the basic fact that inno...   \n1          <p>I'll be honest. I've wondered about 7.</p>   \n2      <p>Iff you start with the basic fact that inno...   \n3      <p>Iff you start with the basic fact that inno...   \n4      <p>Iff you start with the basic fact that inno...   \n...                                                  ...   \n22595  <p>Sad but true: It took the deaths of several...   \n22596  <p>When I saw *why* people are calling them \"W...   \n22597  <p>When I saw *why* people are calling them \"W...   \n22598  <p>When I saw *why* people are calling them \"W...   \n22599  <p>When I saw *why* people are calling them \"W...   \n\n                                                    slug  \\\n0      let-s-see-hire-cops-pay-teachers-buy-books-for...   \n1      people-sent-this-lesbian-questions-and-her-rai...   \n2      3-million-is-what-it-takes-for-a-state-to-lega...   \n3      the-fact-that-sometimes-innocent-people-are-ex...   \n4      reason-351-to-end-the-death-penalty-it-costs-3...   \n...                                                  ...   \n22595  an-artist-animates-the-ugly-truth-we-should-al...   \n22596  theyre-being-called-walmarts-worst-nightmare-a...   \n22597  theyre-being-called-walmarts-worst-nightmare-a...   \n22598  theyre-being-called-walmarts-worst-nightmare-a...   \n22599  theyre-being-called-walmarts-worst-nightmare-a...   \n\n                  eyecatcher_id  impressions  clicks  significance  \\\n0      546dce659ad54ec65b000041         3118       8           0.1   \n1      546d1b4bfd3617f091000041         4587     130          55.8   \n2      546dce659ad54ec65b000041         3017      19          26.9   \n3      546dce659ad54ec65b000041         2974      26         100.0   \n4      546dce659ad54ec65b000041         3050      10           0.2   \n...                         ...          ...     ...           ...   \n22595  546d574a9ad54e2af0000020        10011      53           0.4   \n22596  546d2dcd9ad54e2af000000a        10137     169           0.0   \n22597  546d6fa19ad54ec1f9000017         9955     315           0.5   \n22598  546d6fa126714c0538000040        10055     291           0.0   \n22599  546d6fa19ad54eec8d00002d        10184     399         100.0   \n\n       first_place  winner share_text square  test_week  \n0            False   False        NaN    NaN     201446  \n1            False   False        NaN    NaN     201446  \n2            False   False        NaN    NaN     201446  \n3             True   False        NaN    NaN     201446  \n4            False   False        NaN    NaN     201446  \n...            ...     ...        ...    ...        ...  \n22595        False   False        NaN    NaN     201446  \n22596        False   False        NaN    NaN     201446  \n22597        False   False        NaN    NaN     201446  \n22598        False   False        NaN    NaN     201446  \n22599         True   False        NaN    NaN     201446  \n\n[128151 rows x 17 columns]",
      "text/html": "<div>\n<style scoped>\n    .dataframe tbody tr th:only-of-type {\n        vertical-align: middle;\n    }\n\n    .dataframe tbody tr th {\n        vertical-align: top;\n    }\n\n    .dataframe thead th {\n        text-align: right;\n    }\n</style>\n<table border=\"1\" class=\"dataframe\">\n  <thead>\n    <tr style=\"text-align: right;\">\n      <th></th>\n      <th>id</th>\n      <th>created_at</th>\n      <th>updated_at</th>\n      <th>clickability_test_id</th>\n      <th>excerpt</th>\n      <th>headline</th>\n      <th>lede</th>\n      <th>slug</th>\n      <th>eyecatcher_id</th>\n      <th>impressions</th>\n      <th>clicks</th>\n      <th>significance</th>\n      <th>first_place</th>\n      <th>winner</th>\n      <th>share_text</th>\n      <th>square</th>\n      <th>test_week</th>\n    </tr>\n  </thead>\n  <tbody>\n    <tr>\n      <th>0</th>\n      <td>11</td>\n      <td>2014-11-20 11:33:26.475</td>\n      <td>2016-04-02 16:25:54.046</td>\n      <td>546dd17e26714c82cc00001c</td>\n      <td>Things that matter. Pass 'em on.</td>\n      <td>Let’s See … Hire Cops, Pay Teachers, Buy Books...</td>\n      <td>&lt;p&gt;Iff you start with the basic fact that inno...</td>\n      <td>let-s-see-hire-cops-pay-teachers-buy-books-for...</td>\n      <td>546dce659ad54ec65b000041</td>\n      <td>3118</td>\n      <td>8</td>\n      <td>0.1</td>\n      <td>False</td>\n      <td>False</td>\n      <td>NaN</td>\n      <td>NaN</td>\n      <td>201446</td>\n    </tr>\n    <tr>\n      <th>1</th>\n      <td>12</td>\n      <td>2014-11-20 15:00:01.032</td>\n      <td>2016-04-02 16:25:54.128</td>\n      <td>546e01d626714c6c4400004e</td>\n      <td>Things that matter. Pass 'em on.</td>\n      <td>People Sent This Lesbian Questions And Her Rai...</td>\n      <td>&lt;p&gt;I'll be honest. I've wondered about 7.&lt;/p&gt;</td>\n      <td>people-sent-this-lesbian-questions-and-her-rai...</td>\n      <td>546d1b4bfd3617f091000041</td>\n      <td>4587</td>\n      <td>130</td>\n      <td>55.8</td>\n      <td>False</td>\n      <td>False</td>\n      <td>NaN</td>\n      <td>NaN</td>\n      <td>201446</td>\n    </tr>\n    <tr>\n      <th>2</th>\n      <td>13</td>\n      <td>2014-11-20 11:33:51.973</td>\n      <td>2016-04-02 16:25:54.069</td>\n      <td>546dd17e26714c82cc00001c</td>\n      <td>Things that matter. Pass 'em on.</td>\n      <td>$3 Million Is What It Takes For A State To Leg...</td>\n      <td>&lt;p&gt;Iff you start with the basic fact that inno...</td>\n      <td>3-million-is-what-it-takes-for-a-state-to-lega...</td>\n      <td>546dce659ad54ec65b000041</td>\n      <td>3017</td>\n      <td>19</td>\n      <td>26.9</td>\n      <td>False</td>\n      <td>False</td>\n      <td>NaN</td>\n      <td>NaN</td>\n      <td>201446</td>\n    </tr>\n    <tr>\n      <th>3</th>\n      <td>14</td>\n      <td>2014-11-20 11:34:12.107</td>\n      <td>2016-04-02 16:25:54.049</td>\n      <td>546dd17e26714c82cc00001c</td>\n      <td>Things that matter. Pass 'em on.</td>\n      <td>The Fact That Sometimes Innocent People Are Ex...</td>\n      <td>&lt;p&gt;Iff you start with the basic fact that inno...</td>\n      <td>the-fact-that-sometimes-innocent-people-are-ex...</td>\n      <td>546dce659ad54ec65b000041</td>\n      <td>2974</td>\n      <td>26</td>\n      <td>100.0</td>\n      <td>True</td>\n      <td>False</td>\n      <td>NaN</td>\n      <td>NaN</td>\n      <td>201446</td>\n    </tr>\n    <tr>\n      <th>4</th>\n      <td>15</td>\n      <td>2014-11-20 11:34:33.935</td>\n      <td>2016-04-02 16:25:54.072</td>\n      <td>546dd17e26714c82cc00001c</td>\n      <td>Things that matter. Pass 'em on.</td>\n      <td>Reason #351 To End The Death Penalty: It Costs...</td>\n      <td>&lt;p&gt;Iff you start with the basic fact that inno...</td>\n      <td>reason-351-to-end-the-death-penalty-it-costs-3...</td>\n      <td>546dce659ad54ec65b000041</td>\n      <td>3050</td>\n      <td>10</td>\n      <td>0.2</td>\n      <td>False</td>\n      <td>False</td>\n      <td>NaN</td>\n      <td>NaN</td>\n      <td>201446</td>\n    </tr>\n    <tr>\n      <th>...</th>\n      <td>...</td>\n      <td>...</td>\n      <td>...</td>\n      <td>...</td>\n      <td>...</td>\n      <td>...</td>\n      <td>...</td>\n      <td>...</td>\n      <td>...</td>\n      <td>...</td>\n      <td>...</td>\n      <td>...</td>\n      <td>...</td>\n      <td>...</td>\n      <td>...</td>\n      <td>...</td>\n      <td>...</td>\n    </tr>\n    <tr>\n      <th>22595</th>\n      <td>150793</td>\n      <td>2014-11-20 02:52:17.483</td>\n      <td>2016-04-02 16:31:40.69</td>\n      <td>546d564284ad3817bc000025</td>\n      <td>Things that matter. Pass 'em on.</td>\n      <td>An Artist Animates The Ugly Truth We Should Al...</td>\n      <td>&lt;p&gt;Sad but true: It took the deaths of several...</td>\n      <td>an-artist-animates-the-ugly-truth-we-should-al...</td>\n      <td>546d574a9ad54e2af0000020</td>\n      <td>10011</td>\n      <td>53</td>\n      <td>0.4</td>\n      <td>False</td>\n      <td>False</td>\n      <td>NaN</td>\n      <td>NaN</td>\n      <td>201446</td>\n    </tr>\n    <tr>\n      <th>22596</th>\n      <td>150806</td>\n      <td>2014-11-20 04:48:29.008</td>\n      <td>2016-04-02 16:25:54.006</td>\n      <td>546d702084ad380752000038</td>\n      <td>Things that matter. Pass 'em on.</td>\n      <td>They're Being Called 'Walmart's Worst Nightmar...</td>\n      <td>&lt;p&gt;When I saw *why* people are calling them \"W...</td>\n      <td>theyre-being-called-walmarts-worst-nightmare-a...</td>\n      <td>546d2dcd9ad54e2af000000a</td>\n      <td>10137</td>\n      <td>169</td>\n      <td>0.0</td>\n      <td>False</td>\n      <td>False</td>\n      <td>NaN</td>\n      <td>NaN</td>\n      <td>201446</td>\n    </tr>\n    <tr>\n      <th>22597</th>\n      <td>150807</td>\n      <td>2014-11-20 04:48:37.59</td>\n      <td>2016-04-02 16:25:54.009</td>\n      <td>546d702084ad380752000038</td>\n      <td>Things that matter. Pass 'em on.</td>\n      <td>They're Being Called 'Walmart's Worst Nightmar...</td>\n      <td>&lt;p&gt;When I saw *why* people are calling them \"W...</td>\n      <td>theyre-being-called-walmarts-worst-nightmare-a...</td>\n      <td>546d6fa19ad54ec1f9000017</td>\n      <td>9955</td>\n      <td>315</td>\n      <td>0.5</td>\n      <td>False</td>\n      <td>False</td>\n      <td>NaN</td>\n      <td>NaN</td>\n      <td>201446</td>\n    </tr>\n    <tr>\n      <th>22598</th>\n      <td>150808</td>\n      <td>2014-11-20 04:48:52.325</td>\n      <td>2016-04-02 16:25:54.013</td>\n      <td>546d702084ad380752000038</td>\n      <td>Things that matter. Pass 'em on.</td>\n      <td>They're Being Called 'Walmart's Worst Nightmar...</td>\n      <td>&lt;p&gt;When I saw *why* people are calling them \"W...</td>\n      <td>theyre-being-called-walmarts-worst-nightmare-a...</td>\n      <td>546d6fa126714c0538000040</td>\n      <td>10055</td>\n      <td>291</td>\n      <td>0.0</td>\n      <td>False</td>\n      <td>False</td>\n      <td>NaN</td>\n      <td>NaN</td>\n      <td>201446</td>\n    </tr>\n    <tr>\n      <th>22599</th>\n      <td>150809</td>\n      <td>2014-11-20 04:49:19.374</td>\n      <td>2016-04-02 16:25:54.016</td>\n      <td>546d702084ad380752000038</td>\n      <td>Things that matter. Pass 'em on.</td>\n      <td>They're Being Called 'Walmart's Worst Nightmar...</td>\n      <td>&lt;p&gt;When I saw *why* people are calling them \"W...</td>\n      <td>theyre-being-called-walmarts-worst-nightmare-a...</td>\n      <td>546d6fa19ad54eec8d00002d</td>\n      <td>10184</td>\n      <td>399</td>\n      <td>100.0</td>\n      <td>True</td>\n      <td>False</td>\n      <td>NaN</td>\n      <td>NaN</td>\n      <td>201446</td>\n    </tr>\n  </tbody>\n</table>\n<p>128151 rows × 17 columns</p>\n</div>"
     },
     "execution_count": 12,
     "metadata": {},
     "output_type": "execute_result"
    }
   ],
   "source": [
    "df"
   ],
   "metadata": {
    "collapsed": false
   }
  },
  {
   "cell_type": "markdown",
   "source": [
    "We now determine the total number of unique tests in the dataset."
   ],
   "metadata": {
    "collapsed": false
   }
  },
  {
   "cell_type": "code",
   "execution_count": 13,
   "outputs": [
    {
     "data": {
      "text/plain": "27614"
     },
     "execution_count": 13,
     "metadata": {},
     "output_type": "execute_result"
    }
   ],
   "source": [
    "df[\"clickability_test_id\"].nunique()"
   ],
   "metadata": {
    "collapsed": false
   }
  },
  {
   "cell_type": "markdown",
   "source": [
    "Now, we remove all tests where there is only one experiment. In other words, if count of `clickability_test_id` is 1, we remove the test."
   ],
   "metadata": {
    "collapsed": false
   }
  },
  {
   "cell_type": "code",
   "execution_count": 14,
   "outputs": [],
   "source": [
    "df = df.groupby(\"clickability_test_id\").filter(lambda x: len(x) > 1)"
   ],
   "metadata": {
    "collapsed": false
   }
  },
  {
   "cell_type": "code",
   "execution_count": 15,
   "outputs": [
    {
     "data": {
      "text/plain": "           id               created_at               updated_at  \\\n0          11  2014-11-20 11:33:26.475  2016-04-02 16:25:54.046   \n1          12  2014-11-20 15:00:01.032  2016-04-02 16:25:54.128   \n2          13  2014-11-20 11:33:51.973  2016-04-02 16:25:54.069   \n3          14  2014-11-20 11:34:12.107  2016-04-02 16:25:54.049   \n4          15  2014-11-20 11:34:33.935  2016-04-02 16:25:54.072   \n...       ...                      ...                      ...   \n22595  150793  2014-11-20 02:52:17.483   2016-04-02 16:31:40.69   \n22596  150806  2014-11-20 04:48:29.008  2016-04-02 16:25:54.006   \n22597  150807   2014-11-20 04:48:37.59  2016-04-02 16:25:54.009   \n22598  150808  2014-11-20 04:48:52.325  2016-04-02 16:25:54.013   \n22599  150809  2014-11-20 04:49:19.374  2016-04-02 16:25:54.016   \n\n           clickability_test_id                           excerpt  \\\n0      546dd17e26714c82cc00001c  Things that matter. Pass 'em on.   \n1      546e01d626714c6c4400004e  Things that matter. Pass 'em on.   \n2      546dd17e26714c82cc00001c  Things that matter. Pass 'em on.   \n3      546dd17e26714c82cc00001c  Things that matter. Pass 'em on.   \n4      546dd17e26714c82cc00001c  Things that matter. Pass 'em on.   \n...                         ...                               ...   \n22595  546d564284ad3817bc000025  Things that matter. Pass 'em on.   \n22596  546d702084ad380752000038  Things that matter. Pass 'em on.   \n22597  546d702084ad380752000038  Things that matter. Pass 'em on.   \n22598  546d702084ad380752000038  Things that matter. Pass 'em on.   \n22599  546d702084ad380752000038  Things that matter. Pass 'em on.   \n\n                                                headline  \\\n0      Let’s See … Hire Cops, Pay Teachers, Buy Books...   \n1      People Sent This Lesbian Questions And Her Rai...   \n2      $3 Million Is What It Takes For A State To Leg...   \n3      The Fact That Sometimes Innocent People Are Ex...   \n4      Reason #351 To End The Death Penalty: It Costs...   \n...                                                  ...   \n22595  An Artist Animates The Ugly Truth We Should Al...   \n22596  They're Being Called 'Walmart's Worst Nightmar...   \n22597  They're Being Called 'Walmart's Worst Nightmar...   \n22598  They're Being Called 'Walmart's Worst Nightmar...   \n22599  They're Being Called 'Walmart's Worst Nightmar...   \n\n                                                    lede  \\\n0      <p>Iff you start with the basic fact that inno...   \n1          <p>I'll be honest. I've wondered about 7.</p>   \n2      <p>Iff you start with the basic fact that inno...   \n3      <p>Iff you start with the basic fact that inno...   \n4      <p>Iff you start with the basic fact that inno...   \n...                                                  ...   \n22595  <p>Sad but true: It took the deaths of several...   \n22596  <p>When I saw *why* people are calling them \"W...   \n22597  <p>When I saw *why* people are calling them \"W...   \n22598  <p>When I saw *why* people are calling them \"W...   \n22599  <p>When I saw *why* people are calling them \"W...   \n\n                                                    slug  \\\n0      let-s-see-hire-cops-pay-teachers-buy-books-for...   \n1      people-sent-this-lesbian-questions-and-her-rai...   \n2      3-million-is-what-it-takes-for-a-state-to-lega...   \n3      the-fact-that-sometimes-innocent-people-are-ex...   \n4      reason-351-to-end-the-death-penalty-it-costs-3...   \n...                                                  ...   \n22595  an-artist-animates-the-ugly-truth-we-should-al...   \n22596  theyre-being-called-walmarts-worst-nightmare-a...   \n22597  theyre-being-called-walmarts-worst-nightmare-a...   \n22598  theyre-being-called-walmarts-worst-nightmare-a...   \n22599  theyre-being-called-walmarts-worst-nightmare-a...   \n\n                  eyecatcher_id  impressions  clicks  significance  \\\n0      546dce659ad54ec65b000041         3118       8           0.1   \n1      546d1b4bfd3617f091000041         4587     130          55.8   \n2      546dce659ad54ec65b000041         3017      19          26.9   \n3      546dce659ad54ec65b000041         2974      26         100.0   \n4      546dce659ad54ec65b000041         3050      10           0.2   \n...                         ...          ...     ...           ...   \n22595  546d574a9ad54e2af0000020        10011      53           0.4   \n22596  546d2dcd9ad54e2af000000a        10137     169           0.0   \n22597  546d6fa19ad54ec1f9000017         9955     315           0.5   \n22598  546d6fa126714c0538000040        10055     291           0.0   \n22599  546d6fa19ad54eec8d00002d        10184     399         100.0   \n\n       first_place  winner share_text square  test_week  \n0            False   False        NaN    NaN     201446  \n1            False   False        NaN    NaN     201446  \n2            False   False        NaN    NaN     201446  \n3             True   False        NaN    NaN     201446  \n4            False   False        NaN    NaN     201446  \n...            ...     ...        ...    ...        ...  \n22595        False   False        NaN    NaN     201446  \n22596        False   False        NaN    NaN     201446  \n22597        False   False        NaN    NaN     201446  \n22598        False   False        NaN    NaN     201446  \n22599         True   False        NaN    NaN     201446  \n\n[128149 rows x 17 columns]",
      "text/html": "<div>\n<style scoped>\n    .dataframe tbody tr th:only-of-type {\n        vertical-align: middle;\n    }\n\n    .dataframe tbody tr th {\n        vertical-align: top;\n    }\n\n    .dataframe thead th {\n        text-align: right;\n    }\n</style>\n<table border=\"1\" class=\"dataframe\">\n  <thead>\n    <tr style=\"text-align: right;\">\n      <th></th>\n      <th>id</th>\n      <th>created_at</th>\n      <th>updated_at</th>\n      <th>clickability_test_id</th>\n      <th>excerpt</th>\n      <th>headline</th>\n      <th>lede</th>\n      <th>slug</th>\n      <th>eyecatcher_id</th>\n      <th>impressions</th>\n      <th>clicks</th>\n      <th>significance</th>\n      <th>first_place</th>\n      <th>winner</th>\n      <th>share_text</th>\n      <th>square</th>\n      <th>test_week</th>\n    </tr>\n  </thead>\n  <tbody>\n    <tr>\n      <th>0</th>\n      <td>11</td>\n      <td>2014-11-20 11:33:26.475</td>\n      <td>2016-04-02 16:25:54.046</td>\n      <td>546dd17e26714c82cc00001c</td>\n      <td>Things that matter. Pass 'em on.</td>\n      <td>Let’s See … Hire Cops, Pay Teachers, Buy Books...</td>\n      <td>&lt;p&gt;Iff you start with the basic fact that inno...</td>\n      <td>let-s-see-hire-cops-pay-teachers-buy-books-for...</td>\n      <td>546dce659ad54ec65b000041</td>\n      <td>3118</td>\n      <td>8</td>\n      <td>0.1</td>\n      <td>False</td>\n      <td>False</td>\n      <td>NaN</td>\n      <td>NaN</td>\n      <td>201446</td>\n    </tr>\n    <tr>\n      <th>1</th>\n      <td>12</td>\n      <td>2014-11-20 15:00:01.032</td>\n      <td>2016-04-02 16:25:54.128</td>\n      <td>546e01d626714c6c4400004e</td>\n      <td>Things that matter. Pass 'em on.</td>\n      <td>People Sent This Lesbian Questions And Her Rai...</td>\n      <td>&lt;p&gt;I'll be honest. I've wondered about 7.&lt;/p&gt;</td>\n      <td>people-sent-this-lesbian-questions-and-her-rai...</td>\n      <td>546d1b4bfd3617f091000041</td>\n      <td>4587</td>\n      <td>130</td>\n      <td>55.8</td>\n      <td>False</td>\n      <td>False</td>\n      <td>NaN</td>\n      <td>NaN</td>\n      <td>201446</td>\n    </tr>\n    <tr>\n      <th>2</th>\n      <td>13</td>\n      <td>2014-11-20 11:33:51.973</td>\n      <td>2016-04-02 16:25:54.069</td>\n      <td>546dd17e26714c82cc00001c</td>\n      <td>Things that matter. Pass 'em on.</td>\n      <td>$3 Million Is What It Takes For A State To Leg...</td>\n      <td>&lt;p&gt;Iff you start with the basic fact that inno...</td>\n      <td>3-million-is-what-it-takes-for-a-state-to-lega...</td>\n      <td>546dce659ad54ec65b000041</td>\n      <td>3017</td>\n      <td>19</td>\n      <td>26.9</td>\n      <td>False</td>\n      <td>False</td>\n      <td>NaN</td>\n      <td>NaN</td>\n      <td>201446</td>\n    </tr>\n    <tr>\n      <th>3</th>\n      <td>14</td>\n      <td>2014-11-20 11:34:12.107</td>\n      <td>2016-04-02 16:25:54.049</td>\n      <td>546dd17e26714c82cc00001c</td>\n      <td>Things that matter. Pass 'em on.</td>\n      <td>The Fact That Sometimes Innocent People Are Ex...</td>\n      <td>&lt;p&gt;Iff you start with the basic fact that inno...</td>\n      <td>the-fact-that-sometimes-innocent-people-are-ex...</td>\n      <td>546dce659ad54ec65b000041</td>\n      <td>2974</td>\n      <td>26</td>\n      <td>100.0</td>\n      <td>True</td>\n      <td>False</td>\n      <td>NaN</td>\n      <td>NaN</td>\n      <td>201446</td>\n    </tr>\n    <tr>\n      <th>4</th>\n      <td>15</td>\n      <td>2014-11-20 11:34:33.935</td>\n      <td>2016-04-02 16:25:54.072</td>\n      <td>546dd17e26714c82cc00001c</td>\n      <td>Things that matter. Pass 'em on.</td>\n      <td>Reason #351 To End The Death Penalty: It Costs...</td>\n      <td>&lt;p&gt;Iff you start with the basic fact that inno...</td>\n      <td>reason-351-to-end-the-death-penalty-it-costs-3...</td>\n      <td>546dce659ad54ec65b000041</td>\n      <td>3050</td>\n      <td>10</td>\n      <td>0.2</td>\n      <td>False</td>\n      <td>False</td>\n      <td>NaN</td>\n      <td>NaN</td>\n      <td>201446</td>\n    </tr>\n    <tr>\n      <th>...</th>\n      <td>...</td>\n      <td>...</td>\n      <td>...</td>\n      <td>...</td>\n      <td>...</td>\n      <td>...</td>\n      <td>...</td>\n      <td>...</td>\n      <td>...</td>\n      <td>...</td>\n      <td>...</td>\n      <td>...</td>\n      <td>...</td>\n      <td>...</td>\n      <td>...</td>\n      <td>...</td>\n      <td>...</td>\n    </tr>\n    <tr>\n      <th>22595</th>\n      <td>150793</td>\n      <td>2014-11-20 02:52:17.483</td>\n      <td>2016-04-02 16:31:40.69</td>\n      <td>546d564284ad3817bc000025</td>\n      <td>Things that matter. Pass 'em on.</td>\n      <td>An Artist Animates The Ugly Truth We Should Al...</td>\n      <td>&lt;p&gt;Sad but true: It took the deaths of several...</td>\n      <td>an-artist-animates-the-ugly-truth-we-should-al...</td>\n      <td>546d574a9ad54e2af0000020</td>\n      <td>10011</td>\n      <td>53</td>\n      <td>0.4</td>\n      <td>False</td>\n      <td>False</td>\n      <td>NaN</td>\n      <td>NaN</td>\n      <td>201446</td>\n    </tr>\n    <tr>\n      <th>22596</th>\n      <td>150806</td>\n      <td>2014-11-20 04:48:29.008</td>\n      <td>2016-04-02 16:25:54.006</td>\n      <td>546d702084ad380752000038</td>\n      <td>Things that matter. Pass 'em on.</td>\n      <td>They're Being Called 'Walmart's Worst Nightmar...</td>\n      <td>&lt;p&gt;When I saw *why* people are calling them \"W...</td>\n      <td>theyre-being-called-walmarts-worst-nightmare-a...</td>\n      <td>546d2dcd9ad54e2af000000a</td>\n      <td>10137</td>\n      <td>169</td>\n      <td>0.0</td>\n      <td>False</td>\n      <td>False</td>\n      <td>NaN</td>\n      <td>NaN</td>\n      <td>201446</td>\n    </tr>\n    <tr>\n      <th>22597</th>\n      <td>150807</td>\n      <td>2014-11-20 04:48:37.59</td>\n      <td>2016-04-02 16:25:54.009</td>\n      <td>546d702084ad380752000038</td>\n      <td>Things that matter. Pass 'em on.</td>\n      <td>They're Being Called 'Walmart's Worst Nightmar...</td>\n      <td>&lt;p&gt;When I saw *why* people are calling them \"W...</td>\n      <td>theyre-being-called-walmarts-worst-nightmare-a...</td>\n      <td>546d6fa19ad54ec1f9000017</td>\n      <td>9955</td>\n      <td>315</td>\n      <td>0.5</td>\n      <td>False</td>\n      <td>False</td>\n      <td>NaN</td>\n      <td>NaN</td>\n      <td>201446</td>\n    </tr>\n    <tr>\n      <th>22598</th>\n      <td>150808</td>\n      <td>2014-11-20 04:48:52.325</td>\n      <td>2016-04-02 16:25:54.013</td>\n      <td>546d702084ad380752000038</td>\n      <td>Things that matter. Pass 'em on.</td>\n      <td>They're Being Called 'Walmart's Worst Nightmar...</td>\n      <td>&lt;p&gt;When I saw *why* people are calling them \"W...</td>\n      <td>theyre-being-called-walmarts-worst-nightmare-a...</td>\n      <td>546d6fa126714c0538000040</td>\n      <td>10055</td>\n      <td>291</td>\n      <td>0.0</td>\n      <td>False</td>\n      <td>False</td>\n      <td>NaN</td>\n      <td>NaN</td>\n      <td>201446</td>\n    </tr>\n    <tr>\n      <th>22599</th>\n      <td>150809</td>\n      <td>2014-11-20 04:49:19.374</td>\n      <td>2016-04-02 16:25:54.016</td>\n      <td>546d702084ad380752000038</td>\n      <td>Things that matter. Pass 'em on.</td>\n      <td>They're Being Called 'Walmart's Worst Nightmar...</td>\n      <td>&lt;p&gt;When I saw *why* people are calling them \"W...</td>\n      <td>theyre-being-called-walmarts-worst-nightmare-a...</td>\n      <td>546d6fa19ad54eec8d00002d</td>\n      <td>10184</td>\n      <td>399</td>\n      <td>100.0</td>\n      <td>True</td>\n      <td>False</td>\n      <td>NaN</td>\n      <td>NaN</td>\n      <td>201446</td>\n    </tr>\n  </tbody>\n</table>\n<p>128149 rows × 17 columns</p>\n</div>"
     },
     "execution_count": 15,
     "metadata": {},
     "output_type": "execute_result"
    }
   ],
   "source": [
    "df"
   ],
   "metadata": {
    "collapsed": false
   }
  },
  {
   "cell_type": "markdown",
   "source": [
    "We begin by cleaning the data. First, we calculate the CTR of each content piece by dividing the number of clicks by the number of impressions."
   ],
   "metadata": {
    "collapsed": false
   }
  },
  {
   "cell_type": "code",
   "execution_count": 16,
   "outputs": [
    {
     "data": {
      "text/plain": "27612"
     },
     "execution_count": 16,
     "metadata": {},
     "output_type": "execute_result"
    }
   ],
   "source": [
    "df[\"clickability_test_id\"].nunique()"
   ],
   "metadata": {
    "collapsed": false
   }
  },
  {
   "cell_type": "markdown",
   "source": [
    "We end up with 27612 unique tests that we can draw from."
   ],
   "metadata": {
    "collapsed": false
   }
  },
  {
   "cell_type": "code",
   "execution_count": 17,
   "outputs": [],
   "source": [
    "df[\"CTR\"] = df[\"clicks\"] / df[\"impressions\"]"
   ],
   "metadata": {
    "collapsed": false
   }
  },
  {
   "cell_type": "code",
   "execution_count": 18,
   "outputs": [
    {
     "data": {
      "text/plain": "           id               created_at               updated_at  \\\n0          11  2014-11-20 11:33:26.475  2016-04-02 16:25:54.046   \n1          12  2014-11-20 15:00:01.032  2016-04-02 16:25:54.128   \n2          13  2014-11-20 11:33:51.973  2016-04-02 16:25:54.069   \n3          14  2014-11-20 11:34:12.107  2016-04-02 16:25:54.049   \n4          15  2014-11-20 11:34:33.935  2016-04-02 16:25:54.072   \n...       ...                      ...                      ...   \n22595  150793  2014-11-20 02:52:17.483   2016-04-02 16:31:40.69   \n22596  150806  2014-11-20 04:48:29.008  2016-04-02 16:25:54.006   \n22597  150807   2014-11-20 04:48:37.59  2016-04-02 16:25:54.009   \n22598  150808  2014-11-20 04:48:52.325  2016-04-02 16:25:54.013   \n22599  150809  2014-11-20 04:49:19.374  2016-04-02 16:25:54.016   \n\n           clickability_test_id                           excerpt  \\\n0      546dd17e26714c82cc00001c  Things that matter. Pass 'em on.   \n1      546e01d626714c6c4400004e  Things that matter. Pass 'em on.   \n2      546dd17e26714c82cc00001c  Things that matter. Pass 'em on.   \n3      546dd17e26714c82cc00001c  Things that matter. Pass 'em on.   \n4      546dd17e26714c82cc00001c  Things that matter. Pass 'em on.   \n...                         ...                               ...   \n22595  546d564284ad3817bc000025  Things that matter. Pass 'em on.   \n22596  546d702084ad380752000038  Things that matter. Pass 'em on.   \n22597  546d702084ad380752000038  Things that matter. Pass 'em on.   \n22598  546d702084ad380752000038  Things that matter. Pass 'em on.   \n22599  546d702084ad380752000038  Things that matter. Pass 'em on.   \n\n                                                headline  \\\n0      Let’s See … Hire Cops, Pay Teachers, Buy Books...   \n1      People Sent This Lesbian Questions And Her Rai...   \n2      $3 Million Is What It Takes For A State To Leg...   \n3      The Fact That Sometimes Innocent People Are Ex...   \n4      Reason #351 To End The Death Penalty: It Costs...   \n...                                                  ...   \n22595  An Artist Animates The Ugly Truth We Should Al...   \n22596  They're Being Called 'Walmart's Worst Nightmar...   \n22597  They're Being Called 'Walmart's Worst Nightmar...   \n22598  They're Being Called 'Walmart's Worst Nightmar...   \n22599  They're Being Called 'Walmart's Worst Nightmar...   \n\n                                                    lede  \\\n0      <p>Iff you start with the basic fact that inno...   \n1          <p>I'll be honest. I've wondered about 7.</p>   \n2      <p>Iff you start with the basic fact that inno...   \n3      <p>Iff you start with the basic fact that inno...   \n4      <p>Iff you start with the basic fact that inno...   \n...                                                  ...   \n22595  <p>Sad but true: It took the deaths of several...   \n22596  <p>When I saw *why* people are calling them \"W...   \n22597  <p>When I saw *why* people are calling them \"W...   \n22598  <p>When I saw *why* people are calling them \"W...   \n22599  <p>When I saw *why* people are calling them \"W...   \n\n                                                    slug  \\\n0      let-s-see-hire-cops-pay-teachers-buy-books-for...   \n1      people-sent-this-lesbian-questions-and-her-rai...   \n2      3-million-is-what-it-takes-for-a-state-to-lega...   \n3      the-fact-that-sometimes-innocent-people-are-ex...   \n4      reason-351-to-end-the-death-penalty-it-costs-3...   \n...                                                  ...   \n22595  an-artist-animates-the-ugly-truth-we-should-al...   \n22596  theyre-being-called-walmarts-worst-nightmare-a...   \n22597  theyre-being-called-walmarts-worst-nightmare-a...   \n22598  theyre-being-called-walmarts-worst-nightmare-a...   \n22599  theyre-being-called-walmarts-worst-nightmare-a...   \n\n                  eyecatcher_id  impressions  clicks  significance  \\\n0      546dce659ad54ec65b000041         3118       8           0.1   \n1      546d1b4bfd3617f091000041         4587     130          55.8   \n2      546dce659ad54ec65b000041         3017      19          26.9   \n3      546dce659ad54ec65b000041         2974      26         100.0   \n4      546dce659ad54ec65b000041         3050      10           0.2   \n...                         ...          ...     ...           ...   \n22595  546d574a9ad54e2af0000020        10011      53           0.4   \n22596  546d2dcd9ad54e2af000000a        10137     169           0.0   \n22597  546d6fa19ad54ec1f9000017         9955     315           0.5   \n22598  546d6fa126714c0538000040        10055     291           0.0   \n22599  546d6fa19ad54eec8d00002d        10184     399         100.0   \n\n       first_place  winner share_text square  test_week       CTR  \n0            False   False        NaN    NaN     201446  0.002566  \n1            False   False        NaN    NaN     201446  0.028341  \n2            False   False        NaN    NaN     201446  0.006298  \n3             True   False        NaN    NaN     201446  0.008742  \n4            False   False        NaN    NaN     201446  0.003279  \n...            ...     ...        ...    ...        ...       ...  \n22595        False   False        NaN    NaN     201446  0.005294  \n22596        False   False        NaN    NaN     201446  0.016672  \n22597        False   False        NaN    NaN     201446  0.031642  \n22598        False   False        NaN    NaN     201446  0.028941  \n22599         True   False        NaN    NaN     201446  0.039179  \n\n[128149 rows x 18 columns]",
      "text/html": "<div>\n<style scoped>\n    .dataframe tbody tr th:only-of-type {\n        vertical-align: middle;\n    }\n\n    .dataframe tbody tr th {\n        vertical-align: top;\n    }\n\n    .dataframe thead th {\n        text-align: right;\n    }\n</style>\n<table border=\"1\" class=\"dataframe\">\n  <thead>\n    <tr style=\"text-align: right;\">\n      <th></th>\n      <th>id</th>\n      <th>created_at</th>\n      <th>updated_at</th>\n      <th>clickability_test_id</th>\n      <th>excerpt</th>\n      <th>headline</th>\n      <th>lede</th>\n      <th>slug</th>\n      <th>eyecatcher_id</th>\n      <th>impressions</th>\n      <th>clicks</th>\n      <th>significance</th>\n      <th>first_place</th>\n      <th>winner</th>\n      <th>share_text</th>\n      <th>square</th>\n      <th>test_week</th>\n      <th>CTR</th>\n    </tr>\n  </thead>\n  <tbody>\n    <tr>\n      <th>0</th>\n      <td>11</td>\n      <td>2014-11-20 11:33:26.475</td>\n      <td>2016-04-02 16:25:54.046</td>\n      <td>546dd17e26714c82cc00001c</td>\n      <td>Things that matter. Pass 'em on.</td>\n      <td>Let’s See … Hire Cops, Pay Teachers, Buy Books...</td>\n      <td>&lt;p&gt;Iff you start with the basic fact that inno...</td>\n      <td>let-s-see-hire-cops-pay-teachers-buy-books-for...</td>\n      <td>546dce659ad54ec65b000041</td>\n      <td>3118</td>\n      <td>8</td>\n      <td>0.1</td>\n      <td>False</td>\n      <td>False</td>\n      <td>NaN</td>\n      <td>NaN</td>\n      <td>201446</td>\n      <td>0.002566</td>\n    </tr>\n    <tr>\n      <th>1</th>\n      <td>12</td>\n      <td>2014-11-20 15:00:01.032</td>\n      <td>2016-04-02 16:25:54.128</td>\n      <td>546e01d626714c6c4400004e</td>\n      <td>Things that matter. Pass 'em on.</td>\n      <td>People Sent This Lesbian Questions And Her Rai...</td>\n      <td>&lt;p&gt;I'll be honest. I've wondered about 7.&lt;/p&gt;</td>\n      <td>people-sent-this-lesbian-questions-and-her-rai...</td>\n      <td>546d1b4bfd3617f091000041</td>\n      <td>4587</td>\n      <td>130</td>\n      <td>55.8</td>\n      <td>False</td>\n      <td>False</td>\n      <td>NaN</td>\n      <td>NaN</td>\n      <td>201446</td>\n      <td>0.028341</td>\n    </tr>\n    <tr>\n      <th>2</th>\n      <td>13</td>\n      <td>2014-11-20 11:33:51.973</td>\n      <td>2016-04-02 16:25:54.069</td>\n      <td>546dd17e26714c82cc00001c</td>\n      <td>Things that matter. Pass 'em on.</td>\n      <td>$3 Million Is What It Takes For A State To Leg...</td>\n      <td>&lt;p&gt;Iff you start with the basic fact that inno...</td>\n      <td>3-million-is-what-it-takes-for-a-state-to-lega...</td>\n      <td>546dce659ad54ec65b000041</td>\n      <td>3017</td>\n      <td>19</td>\n      <td>26.9</td>\n      <td>False</td>\n      <td>False</td>\n      <td>NaN</td>\n      <td>NaN</td>\n      <td>201446</td>\n      <td>0.006298</td>\n    </tr>\n    <tr>\n      <th>3</th>\n      <td>14</td>\n      <td>2014-11-20 11:34:12.107</td>\n      <td>2016-04-02 16:25:54.049</td>\n      <td>546dd17e26714c82cc00001c</td>\n      <td>Things that matter. Pass 'em on.</td>\n      <td>The Fact That Sometimes Innocent People Are Ex...</td>\n      <td>&lt;p&gt;Iff you start with the basic fact that inno...</td>\n      <td>the-fact-that-sometimes-innocent-people-are-ex...</td>\n      <td>546dce659ad54ec65b000041</td>\n      <td>2974</td>\n      <td>26</td>\n      <td>100.0</td>\n      <td>True</td>\n      <td>False</td>\n      <td>NaN</td>\n      <td>NaN</td>\n      <td>201446</td>\n      <td>0.008742</td>\n    </tr>\n    <tr>\n      <th>4</th>\n      <td>15</td>\n      <td>2014-11-20 11:34:33.935</td>\n      <td>2016-04-02 16:25:54.072</td>\n      <td>546dd17e26714c82cc00001c</td>\n      <td>Things that matter. Pass 'em on.</td>\n      <td>Reason #351 To End The Death Penalty: It Costs...</td>\n      <td>&lt;p&gt;Iff you start with the basic fact that inno...</td>\n      <td>reason-351-to-end-the-death-penalty-it-costs-3...</td>\n      <td>546dce659ad54ec65b000041</td>\n      <td>3050</td>\n      <td>10</td>\n      <td>0.2</td>\n      <td>False</td>\n      <td>False</td>\n      <td>NaN</td>\n      <td>NaN</td>\n      <td>201446</td>\n      <td>0.003279</td>\n    </tr>\n    <tr>\n      <th>...</th>\n      <td>...</td>\n      <td>...</td>\n      <td>...</td>\n      <td>...</td>\n      <td>...</td>\n      <td>...</td>\n      <td>...</td>\n      <td>...</td>\n      <td>...</td>\n      <td>...</td>\n      <td>...</td>\n      <td>...</td>\n      <td>...</td>\n      <td>...</td>\n      <td>...</td>\n      <td>...</td>\n      <td>...</td>\n      <td>...</td>\n    </tr>\n    <tr>\n      <th>22595</th>\n      <td>150793</td>\n      <td>2014-11-20 02:52:17.483</td>\n      <td>2016-04-02 16:31:40.69</td>\n      <td>546d564284ad3817bc000025</td>\n      <td>Things that matter. Pass 'em on.</td>\n      <td>An Artist Animates The Ugly Truth We Should Al...</td>\n      <td>&lt;p&gt;Sad but true: It took the deaths of several...</td>\n      <td>an-artist-animates-the-ugly-truth-we-should-al...</td>\n      <td>546d574a9ad54e2af0000020</td>\n      <td>10011</td>\n      <td>53</td>\n      <td>0.4</td>\n      <td>False</td>\n      <td>False</td>\n      <td>NaN</td>\n      <td>NaN</td>\n      <td>201446</td>\n      <td>0.005294</td>\n    </tr>\n    <tr>\n      <th>22596</th>\n      <td>150806</td>\n      <td>2014-11-20 04:48:29.008</td>\n      <td>2016-04-02 16:25:54.006</td>\n      <td>546d702084ad380752000038</td>\n      <td>Things that matter. Pass 'em on.</td>\n      <td>They're Being Called 'Walmart's Worst Nightmar...</td>\n      <td>&lt;p&gt;When I saw *why* people are calling them \"W...</td>\n      <td>theyre-being-called-walmarts-worst-nightmare-a...</td>\n      <td>546d2dcd9ad54e2af000000a</td>\n      <td>10137</td>\n      <td>169</td>\n      <td>0.0</td>\n      <td>False</td>\n      <td>False</td>\n      <td>NaN</td>\n      <td>NaN</td>\n      <td>201446</td>\n      <td>0.016672</td>\n    </tr>\n    <tr>\n      <th>22597</th>\n      <td>150807</td>\n      <td>2014-11-20 04:48:37.59</td>\n      <td>2016-04-02 16:25:54.009</td>\n      <td>546d702084ad380752000038</td>\n      <td>Things that matter. Pass 'em on.</td>\n      <td>They're Being Called 'Walmart's Worst Nightmar...</td>\n      <td>&lt;p&gt;When I saw *why* people are calling them \"W...</td>\n      <td>theyre-being-called-walmarts-worst-nightmare-a...</td>\n      <td>546d6fa19ad54ec1f9000017</td>\n      <td>9955</td>\n      <td>315</td>\n      <td>0.5</td>\n      <td>False</td>\n      <td>False</td>\n      <td>NaN</td>\n      <td>NaN</td>\n      <td>201446</td>\n      <td>0.031642</td>\n    </tr>\n    <tr>\n      <th>22598</th>\n      <td>150808</td>\n      <td>2014-11-20 04:48:52.325</td>\n      <td>2016-04-02 16:25:54.013</td>\n      <td>546d702084ad380752000038</td>\n      <td>Things that matter. Pass 'em on.</td>\n      <td>They're Being Called 'Walmart's Worst Nightmar...</td>\n      <td>&lt;p&gt;When I saw *why* people are calling them \"W...</td>\n      <td>theyre-being-called-walmarts-worst-nightmare-a...</td>\n      <td>546d6fa126714c0538000040</td>\n      <td>10055</td>\n      <td>291</td>\n      <td>0.0</td>\n      <td>False</td>\n      <td>False</td>\n      <td>NaN</td>\n      <td>NaN</td>\n      <td>201446</td>\n      <td>0.028941</td>\n    </tr>\n    <tr>\n      <th>22599</th>\n      <td>150809</td>\n      <td>2014-11-20 04:49:19.374</td>\n      <td>2016-04-02 16:25:54.016</td>\n      <td>546d702084ad380752000038</td>\n      <td>Things that matter. Pass 'em on.</td>\n      <td>They're Being Called 'Walmart's Worst Nightmar...</td>\n      <td>&lt;p&gt;When I saw *why* people are calling them \"W...</td>\n      <td>theyre-being-called-walmarts-worst-nightmare-a...</td>\n      <td>546d6fa19ad54eec8d00002d</td>\n      <td>10184</td>\n      <td>399</td>\n      <td>100.0</td>\n      <td>True</td>\n      <td>False</td>\n      <td>NaN</td>\n      <td>NaN</td>\n      <td>201446</td>\n      <td>0.039179</td>\n    </tr>\n  </tbody>\n</table>\n<p>128149 rows × 18 columns</p>\n</div>"
     },
     "execution_count": 18,
     "metadata": {},
     "output_type": "execute_result"
    }
   ],
   "source": [
    "df"
   ],
   "metadata": {
    "collapsed": false
   }
  },
  {
   "cell_type": "markdown",
   "source": [
    "We now proceed to remove all tests where there are variations in the image. We do this by removing all tests where there are variations in the `eyecatcher_id`."
   ],
   "metadata": {
    "collapsed": false
   }
  },
  {
   "cell_type": "code",
   "execution_count": 19,
   "outputs": [],
   "source": [
    "df = df.groupby(\"clickability_test_id\").filter(lambda x: len(x[\"eyecatcher_id\"].unique()) == 1)"
   ],
   "metadata": {
    "collapsed": false
   }
  },
  {
   "cell_type": "code",
   "execution_count": 20,
   "outputs": [
    {
     "data": {
      "text/plain": "           id               created_at               updated_at  \\\n0          11  2014-11-20 11:33:26.475  2016-04-02 16:25:54.046   \n1          12  2014-11-20 15:00:01.032  2016-04-02 16:25:54.128   \n2          13  2014-11-20 11:33:51.973  2016-04-02 16:25:54.069   \n3          14  2014-11-20 11:34:12.107  2016-04-02 16:25:54.049   \n4          15  2014-11-20 11:34:33.935  2016-04-02 16:25:54.072   \n...       ...                      ...                      ...   \n22587  150778  2014-11-20 02:12:35.923  2016-04-02 16:25:53.927   \n22588  150779  2014-11-20 02:12:35.963  2016-04-02 16:31:40.659   \n22589  150780  2014-11-20 02:12:36.023   2016-04-02 16:25:53.96   \n22590  150781  2014-11-20 02:12:36.114  2016-04-02 16:25:53.929   \n22591  150782  2014-11-20 02:12:36.241  2016-04-02 16:25:53.932   \n\n           clickability_test_id                           excerpt  \\\n0      546dd17e26714c82cc00001c  Things that matter. Pass 'em on.   \n1      546e01d626714c6c4400004e  Things that matter. Pass 'em on.   \n2      546dd17e26714c82cc00001c  Things that matter. Pass 'em on.   \n3      546dd17e26714c82cc00001c  Things that matter. Pass 'em on.   \n4      546dd17e26714c82cc00001c  Things that matter. Pass 'em on.   \n...                         ...                               ...   \n22587  546d4e139ad54eec8d000019  Things that matter. Pass 'em on.   \n22588  546d4e139ad54eec8d000019  Things that matter. Pass 'em on.   \n22589  546d4e139ad54eec8d000019  Things that matter. Pass 'em on.   \n22590  546d4e139ad54eec8d000019  Things that matter. Pass 'em on.   \n22591  546d4e139ad54eec8d000019  Things that matter. Pass 'em on.   \n\n                                                headline  \\\n0      Let’s See … Hire Cops, Pay Teachers, Buy Books...   \n1      People Sent This Lesbian Questions And Her Rai...   \n2      $3 Million Is What It Takes For A State To Leg...   \n3      The Fact That Sometimes Innocent People Are Ex...   \n4      Reason #351 To End The Death Penalty: It Costs...   \n...                                                  ...   \n22587  Say Goodbye To The News You Once Knew. These 2...   \n22588  Say Goodbye To The News You Once Knew. These 2...   \n22589  Say Goodbye To The News You Once Knew. These 2...   \n22590  Say Goodbye To The News You Once Knew. These 2...   \n22591  Say Goodbye To The News You Once Knew. These 2...   \n\n                                                    lede  \\\n0      <p>Iff you start with the basic fact that inno...   \n1          <p>I'll be honest. I've wondered about 7.</p>   \n2      <p>Iff you start with the basic fact that inno...   \n3      <p>Iff you start with the basic fact that inno...   \n4      <p>Iff you start with the basic fact that inno...   \n...                                                  ...   \n22587  <p>This is a pretty great idea for a TV show! ...   \n22588  <p>This is a pretty great idea for a TV show! ...   \n22589  <p>This is a pretty great idea for a TV show! ...   \n22590  <p>This is a pretty great idea for a TV show! ...   \n22591  <p>This is a pretty great idea for a TV show! ...   \n\n                                                    slug  \\\n0      let-s-see-hire-cops-pay-teachers-buy-books-for...   \n1      people-sent-this-lesbian-questions-and-her-rai...   \n2      3-million-is-what-it-takes-for-a-state-to-lega...   \n3      the-fact-that-sometimes-innocent-people-are-ex...   \n4      reason-351-to-end-the-death-penalty-it-costs-3...   \n...                                                  ...   \n22587  say-goodbye-to-the-news-you-once-knew-these-2-...   \n22588  say-goodbye-to-the-news-you-once-knew-these-2-...   \n22589  say-goodbye-to-the-news-you-once-knew-these-2-...   \n22590  say-goodbye-to-the-news-you-once-knew-these-2-...   \n22591  say-goodbye-to-the-news-you-once-knew-these-2-...   \n\n                  eyecatcher_id  impressions  clicks  significance  \\\n0      546dce659ad54ec65b000041         3118       8           0.1   \n1      546d1b4bfd3617f091000041         4587     130          55.8   \n2      546dce659ad54ec65b000041         3017      19          26.9   \n3      546dce659ad54ec65b000041         2974      26         100.0   \n4      546dce659ad54ec65b000041         3050      10           0.2   \n...                         ...          ...     ...           ...   \n22587  546a84cc5b606a1fa0000022         4026      12           8.2   \n22588  546a84cc5b606a1fa0000022         4017      22         100.0   \n22589  546a84cc5b606a1fa0000022         4027      23          89.3   \n22590  546a84cc5b606a1fa0000022         4130      21          69.2   \n22591  546a84cc5b606a1fa0000022         4120      21          69.9   \n\n       first_place  winner                                         share_text  \\\n0            False   False                                                NaN   \n1            False   False                                                NaN   \n2            False   False                                                NaN   \n3             True   False                                                NaN   \n4            False   False                                                NaN   \n...            ...     ...                                                ...   \n22587        False   False                                                NaN   \n22588         True   False  These 2 people have 1 unique way to say 'scram...   \n22589        False   False  Say no to the kind of news that WANTS you to b...   \n22590        False   False  If it were opposite day, every news hour would...   \n22591        False   False  What if a news show wants to do the opposite o...   \n\n      square  test_week       CTR  \n0        NaN     201446  0.002566  \n1        NaN     201446  0.028341  \n2        NaN     201446  0.006298  \n3        NaN     201446  0.008742  \n4        NaN     201446  0.003279  \n...      ...        ...       ...  \n22587    NaN     201446  0.002981  \n22588    NaN     201446  0.005477  \n22589    NaN     201446  0.005711  \n22590    NaN     201446  0.005085  \n22591    NaN     201446  0.005097  \n\n[81816 rows x 18 columns]",
      "text/html": "<div>\n<style scoped>\n    .dataframe tbody tr th:only-of-type {\n        vertical-align: middle;\n    }\n\n    .dataframe tbody tr th {\n        vertical-align: top;\n    }\n\n    .dataframe thead th {\n        text-align: right;\n    }\n</style>\n<table border=\"1\" class=\"dataframe\">\n  <thead>\n    <tr style=\"text-align: right;\">\n      <th></th>\n      <th>id</th>\n      <th>created_at</th>\n      <th>updated_at</th>\n      <th>clickability_test_id</th>\n      <th>excerpt</th>\n      <th>headline</th>\n      <th>lede</th>\n      <th>slug</th>\n      <th>eyecatcher_id</th>\n      <th>impressions</th>\n      <th>clicks</th>\n      <th>significance</th>\n      <th>first_place</th>\n      <th>winner</th>\n      <th>share_text</th>\n      <th>square</th>\n      <th>test_week</th>\n      <th>CTR</th>\n    </tr>\n  </thead>\n  <tbody>\n    <tr>\n      <th>0</th>\n      <td>11</td>\n      <td>2014-11-20 11:33:26.475</td>\n      <td>2016-04-02 16:25:54.046</td>\n      <td>546dd17e26714c82cc00001c</td>\n      <td>Things that matter. Pass 'em on.</td>\n      <td>Let’s See … Hire Cops, Pay Teachers, Buy Books...</td>\n      <td>&lt;p&gt;Iff you start with the basic fact that inno...</td>\n      <td>let-s-see-hire-cops-pay-teachers-buy-books-for...</td>\n      <td>546dce659ad54ec65b000041</td>\n      <td>3118</td>\n      <td>8</td>\n      <td>0.1</td>\n      <td>False</td>\n      <td>False</td>\n      <td>NaN</td>\n      <td>NaN</td>\n      <td>201446</td>\n      <td>0.002566</td>\n    </tr>\n    <tr>\n      <th>1</th>\n      <td>12</td>\n      <td>2014-11-20 15:00:01.032</td>\n      <td>2016-04-02 16:25:54.128</td>\n      <td>546e01d626714c6c4400004e</td>\n      <td>Things that matter. Pass 'em on.</td>\n      <td>People Sent This Lesbian Questions And Her Rai...</td>\n      <td>&lt;p&gt;I'll be honest. I've wondered about 7.&lt;/p&gt;</td>\n      <td>people-sent-this-lesbian-questions-and-her-rai...</td>\n      <td>546d1b4bfd3617f091000041</td>\n      <td>4587</td>\n      <td>130</td>\n      <td>55.8</td>\n      <td>False</td>\n      <td>False</td>\n      <td>NaN</td>\n      <td>NaN</td>\n      <td>201446</td>\n      <td>0.028341</td>\n    </tr>\n    <tr>\n      <th>2</th>\n      <td>13</td>\n      <td>2014-11-20 11:33:51.973</td>\n      <td>2016-04-02 16:25:54.069</td>\n      <td>546dd17e26714c82cc00001c</td>\n      <td>Things that matter. Pass 'em on.</td>\n      <td>$3 Million Is What It Takes For A State To Leg...</td>\n      <td>&lt;p&gt;Iff you start with the basic fact that inno...</td>\n      <td>3-million-is-what-it-takes-for-a-state-to-lega...</td>\n      <td>546dce659ad54ec65b000041</td>\n      <td>3017</td>\n      <td>19</td>\n      <td>26.9</td>\n      <td>False</td>\n      <td>False</td>\n      <td>NaN</td>\n      <td>NaN</td>\n      <td>201446</td>\n      <td>0.006298</td>\n    </tr>\n    <tr>\n      <th>3</th>\n      <td>14</td>\n      <td>2014-11-20 11:34:12.107</td>\n      <td>2016-04-02 16:25:54.049</td>\n      <td>546dd17e26714c82cc00001c</td>\n      <td>Things that matter. Pass 'em on.</td>\n      <td>The Fact That Sometimes Innocent People Are Ex...</td>\n      <td>&lt;p&gt;Iff you start with the basic fact that inno...</td>\n      <td>the-fact-that-sometimes-innocent-people-are-ex...</td>\n      <td>546dce659ad54ec65b000041</td>\n      <td>2974</td>\n      <td>26</td>\n      <td>100.0</td>\n      <td>True</td>\n      <td>False</td>\n      <td>NaN</td>\n      <td>NaN</td>\n      <td>201446</td>\n      <td>0.008742</td>\n    </tr>\n    <tr>\n      <th>4</th>\n      <td>15</td>\n      <td>2014-11-20 11:34:33.935</td>\n      <td>2016-04-02 16:25:54.072</td>\n      <td>546dd17e26714c82cc00001c</td>\n      <td>Things that matter. Pass 'em on.</td>\n      <td>Reason #351 To End The Death Penalty: It Costs...</td>\n      <td>&lt;p&gt;Iff you start with the basic fact that inno...</td>\n      <td>reason-351-to-end-the-death-penalty-it-costs-3...</td>\n      <td>546dce659ad54ec65b000041</td>\n      <td>3050</td>\n      <td>10</td>\n      <td>0.2</td>\n      <td>False</td>\n      <td>False</td>\n      <td>NaN</td>\n      <td>NaN</td>\n      <td>201446</td>\n      <td>0.003279</td>\n    </tr>\n    <tr>\n      <th>...</th>\n      <td>...</td>\n      <td>...</td>\n      <td>...</td>\n      <td>...</td>\n      <td>...</td>\n      <td>...</td>\n      <td>...</td>\n      <td>...</td>\n      <td>...</td>\n      <td>...</td>\n      <td>...</td>\n      <td>...</td>\n      <td>...</td>\n      <td>...</td>\n      <td>...</td>\n      <td>...</td>\n      <td>...</td>\n      <td>...</td>\n    </tr>\n    <tr>\n      <th>22587</th>\n      <td>150778</td>\n      <td>2014-11-20 02:12:35.923</td>\n      <td>2016-04-02 16:25:53.927</td>\n      <td>546d4e139ad54eec8d000019</td>\n      <td>Things that matter. Pass 'em on.</td>\n      <td>Say Goodbye To The News You Once Knew. These 2...</td>\n      <td>&lt;p&gt;This is a pretty great idea for a TV show! ...</td>\n      <td>say-goodbye-to-the-news-you-once-knew-these-2-...</td>\n      <td>546a84cc5b606a1fa0000022</td>\n      <td>4026</td>\n      <td>12</td>\n      <td>8.2</td>\n      <td>False</td>\n      <td>False</td>\n      <td>NaN</td>\n      <td>NaN</td>\n      <td>201446</td>\n      <td>0.002981</td>\n    </tr>\n    <tr>\n      <th>22588</th>\n      <td>150779</td>\n      <td>2014-11-20 02:12:35.963</td>\n      <td>2016-04-02 16:31:40.659</td>\n      <td>546d4e139ad54eec8d000019</td>\n      <td>Things that matter. Pass 'em on.</td>\n      <td>Say Goodbye To The News You Once Knew. These 2...</td>\n      <td>&lt;p&gt;This is a pretty great idea for a TV show! ...</td>\n      <td>say-goodbye-to-the-news-you-once-knew-these-2-...</td>\n      <td>546a84cc5b606a1fa0000022</td>\n      <td>4017</td>\n      <td>22</td>\n      <td>100.0</td>\n      <td>True</td>\n      <td>False</td>\n      <td>These 2 people have 1 unique way to say 'scram...</td>\n      <td>NaN</td>\n      <td>201446</td>\n      <td>0.005477</td>\n    </tr>\n    <tr>\n      <th>22589</th>\n      <td>150780</td>\n      <td>2014-11-20 02:12:36.023</td>\n      <td>2016-04-02 16:25:53.96</td>\n      <td>546d4e139ad54eec8d000019</td>\n      <td>Things that matter. Pass 'em on.</td>\n      <td>Say Goodbye To The News You Once Knew. These 2...</td>\n      <td>&lt;p&gt;This is a pretty great idea for a TV show! ...</td>\n      <td>say-goodbye-to-the-news-you-once-knew-these-2-...</td>\n      <td>546a84cc5b606a1fa0000022</td>\n      <td>4027</td>\n      <td>23</td>\n      <td>89.3</td>\n      <td>False</td>\n      <td>False</td>\n      <td>Say no to the kind of news that WANTS you to b...</td>\n      <td>NaN</td>\n      <td>201446</td>\n      <td>0.005711</td>\n    </tr>\n    <tr>\n      <th>22590</th>\n      <td>150781</td>\n      <td>2014-11-20 02:12:36.114</td>\n      <td>2016-04-02 16:25:53.929</td>\n      <td>546d4e139ad54eec8d000019</td>\n      <td>Things that matter. Pass 'em on.</td>\n      <td>Say Goodbye To The News You Once Knew. These 2...</td>\n      <td>&lt;p&gt;This is a pretty great idea for a TV show! ...</td>\n      <td>say-goodbye-to-the-news-you-once-knew-these-2-...</td>\n      <td>546a84cc5b606a1fa0000022</td>\n      <td>4130</td>\n      <td>21</td>\n      <td>69.2</td>\n      <td>False</td>\n      <td>False</td>\n      <td>If it were opposite day, every news hour would...</td>\n      <td>NaN</td>\n      <td>201446</td>\n      <td>0.005085</td>\n    </tr>\n    <tr>\n      <th>22591</th>\n      <td>150782</td>\n      <td>2014-11-20 02:12:36.241</td>\n      <td>2016-04-02 16:25:53.932</td>\n      <td>546d4e139ad54eec8d000019</td>\n      <td>Things that matter. Pass 'em on.</td>\n      <td>Say Goodbye To The News You Once Knew. These 2...</td>\n      <td>&lt;p&gt;This is a pretty great idea for a TV show! ...</td>\n      <td>say-goodbye-to-the-news-you-once-knew-these-2-...</td>\n      <td>546a84cc5b606a1fa0000022</td>\n      <td>4120</td>\n      <td>21</td>\n      <td>69.9</td>\n      <td>False</td>\n      <td>False</td>\n      <td>What if a news show wants to do the opposite o...</td>\n      <td>NaN</td>\n      <td>201446</td>\n      <td>0.005097</td>\n    </tr>\n  </tbody>\n</table>\n<p>81816 rows × 18 columns</p>\n</div>"
     },
     "execution_count": 20,
     "metadata": {},
     "output_type": "execute_result"
    }
   ],
   "source": [
    "df"
   ],
   "metadata": {
    "collapsed": false
   }
  },
  {
   "cell_type": "code",
   "execution_count": 21,
   "outputs": [
    {
     "data": {
      "text/plain": "17882"
     },
     "execution_count": 21,
     "metadata": {},
     "output_type": "execute_result"
    }
   ],
   "source": [
    "df[\"clickability_test_id\"].nunique()"
   ],
   "metadata": {
    "collapsed": false
   }
  },
  {
   "cell_type": "markdown",
   "source": [
    "We end up with 17882 unique tests that we can draw from."
   ],
   "metadata": {
    "collapsed": false
   }
  },
  {
   "cell_type": "code",
   "execution_count": 22,
   "outputs": [],
   "source": [
    "df['headline'] = df['headline'].astype(str)\n",
    "df['lede'] = df['lede'].astype(str)\n",
    "df['slug'] = df['slug'].astype(str)"
   ],
   "metadata": {
    "collapsed": false
   }
  },
  {
   "cell_type": "code",
   "execution_count": 23,
   "outputs": [
    {
     "name": "stdout",
     "output_type": "stream",
     "text": [
      "<class 'pandas.core.frame.DataFrame'>\n",
      "Index: 81816 entries, 0 to 22591\n",
      "Data columns (total 18 columns):\n",
      " #   Column                Non-Null Count  Dtype  \n",
      "---  ------                --------------  -----  \n",
      " 0   id                    81816 non-null  int64  \n",
      " 1   created_at            81816 non-null  object \n",
      " 2   updated_at            81816 non-null  object \n",
      " 3   clickability_test_id  81816 non-null  object \n",
      " 4   excerpt               73130 non-null  object \n",
      " 5   headline              81816 non-null  object \n",
      " 6   lede                  81816 non-null  object \n",
      " 7   slug                  81816 non-null  object \n",
      " 8   eyecatcher_id         81660 non-null  object \n",
      " 9   impressions           81816 non-null  int64  \n",
      " 10  clicks                81816 non-null  int64  \n",
      " 11  significance          81816 non-null  float64\n",
      " 12  first_place           81816 non-null  bool   \n",
      " 13  winner                81816 non-null  bool   \n",
      " 14  share_text            13721 non-null  object \n",
      " 15  square                26275 non-null  object \n",
      " 16  test_week             81816 non-null  int64  \n",
      " 17  CTR                   81816 non-null  float64\n",
      "dtypes: bool(2), float64(2), int64(4), object(10)\n",
      "memory usage: 10.8+ MB\n"
     ]
    }
   ],
   "source": [
    "df.info()"
   ],
   "metadata": {
    "collapsed": false
   }
  },
  {
   "cell_type": "markdown",
   "source": [
    "We now have a final dataset that we can use. This will be the raw source of truth for all future analysis."
   ],
   "metadata": {
    "collapsed": false
   }
  },
  {
   "cell_type": "code",
   "execution_count": 24,
   "outputs": [],
   "source": [
    "df['created_at'] = pd.to_datetime(df['created_at'], errors = 'coerce')\n",
    "df['updated_at'] = pd.to_datetime(df['updated_at'], errors = 'coerce')"
   ],
   "metadata": {
    "collapsed": false
   }
  },
  {
   "cell_type": "code",
   "execution_count": 25,
   "outputs": [],
   "source": [
    "df['timedelta'] = df['updated_at'] - df['created_at']"
   ],
   "metadata": {
    "collapsed": false
   }
  },
  {
   "cell_type": "code",
   "execution_count": 26,
   "outputs": [],
   "source": [
    "df['timedelta_numeric'] = pd.to_timedelta(df['timedelta']).dt.total_seconds()"
   ],
   "metadata": {
    "collapsed": false
   }
  },
  {
   "cell_type": "code",
   "execution_count": 27,
   "outputs": [],
   "source": [
    "from sklearn.preprocessing import MinMaxScaler\n",
    "\n",
    "timedelta_array = df[['timedelta_numeric']].values  # Convert to a 2D array\n",
    "scaler = MinMaxScaler()\n",
    "df['timedelta_minmax'] = scaler.fit_transform(timedelta_array)"
   ],
   "metadata": {
    "collapsed": false
   }
  },
  {
   "cell_type": "code",
   "execution_count": 28,
   "outputs": [],
   "source": [
    "df.to_csv('df_cleaned.csv', index=False)"
   ],
   "metadata": {
    "collapsed": false
   }
  },
  {
   "cell_type": "code",
   "execution_count": 29,
   "outputs": [],
   "source": [
    "df = df.dropna(subset = ['timedelta_minmax'])"
   ],
   "metadata": {
    "collapsed": false
   }
  },
  {
   "cell_type": "code",
   "execution_count": 30,
   "outputs": [
    {
     "data": {
      "text/plain": "           id              created_at              updated_at  \\\n0          11 2014-11-20 11:33:26.475 2016-04-02 16:25:54.046   \n1          12 2014-11-20 15:00:01.032 2016-04-02 16:25:54.128   \n2          13 2014-11-20 11:33:51.973 2016-04-02 16:25:54.069   \n3          14 2014-11-20 11:34:12.107 2016-04-02 16:25:54.049   \n4          15 2014-11-20 11:34:33.935 2016-04-02 16:25:54.072   \n...       ...                     ...                     ...   \n22587  150778 2014-11-20 02:12:35.923 2016-04-02 16:25:53.927   \n22588  150779 2014-11-20 02:12:35.963 2016-04-02 16:31:40.659   \n22589  150780 2014-11-20 02:12:36.023 2016-04-02 16:25:53.960   \n22590  150781 2014-11-20 02:12:36.114 2016-04-02 16:25:53.929   \n22591  150782 2014-11-20 02:12:36.241 2016-04-02 16:25:53.932   \n\n           clickability_test_id                           excerpt  \\\n0      546dd17e26714c82cc00001c  Things that matter. Pass 'em on.   \n1      546e01d626714c6c4400004e  Things that matter. Pass 'em on.   \n2      546dd17e26714c82cc00001c  Things that matter. Pass 'em on.   \n3      546dd17e26714c82cc00001c  Things that matter. Pass 'em on.   \n4      546dd17e26714c82cc00001c  Things that matter. Pass 'em on.   \n...                         ...                               ...   \n22587  546d4e139ad54eec8d000019  Things that matter. Pass 'em on.   \n22588  546d4e139ad54eec8d000019  Things that matter. Pass 'em on.   \n22589  546d4e139ad54eec8d000019  Things that matter. Pass 'em on.   \n22590  546d4e139ad54eec8d000019  Things that matter. Pass 'em on.   \n22591  546d4e139ad54eec8d000019  Things that matter. Pass 'em on.   \n\n                                                headline  \\\n0      Let’s See … Hire Cops, Pay Teachers, Buy Books...   \n1      People Sent This Lesbian Questions And Her Rai...   \n2      $3 Million Is What It Takes For A State To Leg...   \n3      The Fact That Sometimes Innocent People Are Ex...   \n4      Reason #351 To End The Death Penalty: It Costs...   \n...                                                  ...   \n22587  Say Goodbye To The News You Once Knew. These 2...   \n22588  Say Goodbye To The News You Once Knew. These 2...   \n22589  Say Goodbye To The News You Once Knew. These 2...   \n22590  Say Goodbye To The News You Once Knew. These 2...   \n22591  Say Goodbye To The News You Once Knew. These 2...   \n\n                                                    lede  \\\n0      <p>Iff you start with the basic fact that inno...   \n1          <p>I'll be honest. I've wondered about 7.</p>   \n2      <p>Iff you start with the basic fact that inno...   \n3      <p>Iff you start with the basic fact that inno...   \n4      <p>Iff you start with the basic fact that inno...   \n...                                                  ...   \n22587  <p>This is a pretty great idea for a TV show! ...   \n22588  <p>This is a pretty great idea for a TV show! ...   \n22589  <p>This is a pretty great idea for a TV show! ...   \n22590  <p>This is a pretty great idea for a TV show! ...   \n22591  <p>This is a pretty great idea for a TV show! ...   \n\n                                                    slug  \\\n0      let-s-see-hire-cops-pay-teachers-buy-books-for...   \n1      people-sent-this-lesbian-questions-and-her-rai...   \n2      3-million-is-what-it-takes-for-a-state-to-lega...   \n3      the-fact-that-sometimes-innocent-people-are-ex...   \n4      reason-351-to-end-the-death-penalty-it-costs-3...   \n...                                                  ...   \n22587  say-goodbye-to-the-news-you-once-knew-these-2-...   \n22588  say-goodbye-to-the-news-you-once-knew-these-2-...   \n22589  say-goodbye-to-the-news-you-once-knew-these-2-...   \n22590  say-goodbye-to-the-news-you-once-knew-these-2-...   \n22591  say-goodbye-to-the-news-you-once-knew-these-2-...   \n\n                  eyecatcher_id  impressions  ...  significance  first_place  \\\n0      546dce659ad54ec65b000041         3118  ...           0.1        False   \n1      546d1b4bfd3617f091000041         4587  ...          55.8        False   \n2      546dce659ad54ec65b000041         3017  ...          26.9        False   \n3      546dce659ad54ec65b000041         2974  ...         100.0         True   \n4      546dce659ad54ec65b000041         3050  ...           0.2        False   \n...                         ...          ...  ...           ...          ...   \n22587  546a84cc5b606a1fa0000022         4026  ...           8.2        False   \n22588  546a84cc5b606a1fa0000022         4017  ...         100.0         True   \n22589  546a84cc5b606a1fa0000022         4027  ...          89.3        False   \n22590  546a84cc5b606a1fa0000022         4130  ...          69.2        False   \n22591  546a84cc5b606a1fa0000022         4120  ...          69.9        False   \n\n       winner                                         share_text square  \\\n0       False                                                NaN    NaN   \n1       False                                                NaN    NaN   \n2       False                                                NaN    NaN   \n3       False                                                NaN    NaN   \n4       False                                                NaN    NaN   \n...       ...                                                ...    ...   \n22587   False                                                NaN    NaN   \n22588   False  These 2 people have 1 unique way to say 'scram...    NaN   \n22589   False  Say no to the kind of news that WANTS you to b...    NaN   \n22590   False  If it were opposite day, every news hour would...    NaN   \n22591   False  What if a news show wants to do the opposite o...    NaN   \n\n      test_week       CTR                timedelta timedelta_numeric  \\\n0        201446  0.002566 499 days 04:52:27.571000      4.313115e+07   \n1        201446  0.028341 499 days 01:25:53.096000      4.311875e+07   \n2        201446  0.006298 499 days 04:52:02.096000      4.313112e+07   \n3        201446  0.008742 499 days 04:51:41.942000      4.313110e+07   \n4        201446  0.003279 499 days 04:51:20.137000      4.313108e+07   \n...         ...       ...                      ...               ...   \n22587    201446  0.002981 499 days 14:13:18.004000      4.316480e+07   \n22588    201446  0.005477 499 days 14:19:04.696000      4.316514e+07   \n22589    201446  0.005711 499 days 14:13:17.937000      4.316480e+07   \n22590    201446  0.005085 499 days 14:13:17.815000      4.316480e+07   \n22591    201446  0.005097 499 days 14:13:17.691000      4.316480e+07   \n\n       timedelta_minmax  \n0              0.227090  \n1              0.226888  \n2              0.227090  \n3              0.227090  \n4              0.227089  \n...                 ...  \n22587          0.227641  \n22588          0.227647  \n22589          0.227641  \n22590          0.227641  \n22591          0.227641  \n\n[78506 rows x 21 columns]",
      "text/html": "<div>\n<style scoped>\n    .dataframe tbody tr th:only-of-type {\n        vertical-align: middle;\n    }\n\n    .dataframe tbody tr th {\n        vertical-align: top;\n    }\n\n    .dataframe thead th {\n        text-align: right;\n    }\n</style>\n<table border=\"1\" class=\"dataframe\">\n  <thead>\n    <tr style=\"text-align: right;\">\n      <th></th>\n      <th>id</th>\n      <th>created_at</th>\n      <th>updated_at</th>\n      <th>clickability_test_id</th>\n      <th>excerpt</th>\n      <th>headline</th>\n      <th>lede</th>\n      <th>slug</th>\n      <th>eyecatcher_id</th>\n      <th>impressions</th>\n      <th>...</th>\n      <th>significance</th>\n      <th>first_place</th>\n      <th>winner</th>\n      <th>share_text</th>\n      <th>square</th>\n      <th>test_week</th>\n      <th>CTR</th>\n      <th>timedelta</th>\n      <th>timedelta_numeric</th>\n      <th>timedelta_minmax</th>\n    </tr>\n  </thead>\n  <tbody>\n    <tr>\n      <th>0</th>\n      <td>11</td>\n      <td>2014-11-20 11:33:26.475</td>\n      <td>2016-04-02 16:25:54.046</td>\n      <td>546dd17e26714c82cc00001c</td>\n      <td>Things that matter. Pass 'em on.</td>\n      <td>Let’s See … Hire Cops, Pay Teachers, Buy Books...</td>\n      <td>&lt;p&gt;Iff you start with the basic fact that inno...</td>\n      <td>let-s-see-hire-cops-pay-teachers-buy-books-for...</td>\n      <td>546dce659ad54ec65b000041</td>\n      <td>3118</td>\n      <td>...</td>\n      <td>0.1</td>\n      <td>False</td>\n      <td>False</td>\n      <td>NaN</td>\n      <td>NaN</td>\n      <td>201446</td>\n      <td>0.002566</td>\n      <td>499 days 04:52:27.571000</td>\n      <td>4.313115e+07</td>\n      <td>0.227090</td>\n    </tr>\n    <tr>\n      <th>1</th>\n      <td>12</td>\n      <td>2014-11-20 15:00:01.032</td>\n      <td>2016-04-02 16:25:54.128</td>\n      <td>546e01d626714c6c4400004e</td>\n      <td>Things that matter. Pass 'em on.</td>\n      <td>People Sent This Lesbian Questions And Her Rai...</td>\n      <td>&lt;p&gt;I'll be honest. I've wondered about 7.&lt;/p&gt;</td>\n      <td>people-sent-this-lesbian-questions-and-her-rai...</td>\n      <td>546d1b4bfd3617f091000041</td>\n      <td>4587</td>\n      <td>...</td>\n      <td>55.8</td>\n      <td>False</td>\n      <td>False</td>\n      <td>NaN</td>\n      <td>NaN</td>\n      <td>201446</td>\n      <td>0.028341</td>\n      <td>499 days 01:25:53.096000</td>\n      <td>4.311875e+07</td>\n      <td>0.226888</td>\n    </tr>\n    <tr>\n      <th>2</th>\n      <td>13</td>\n      <td>2014-11-20 11:33:51.973</td>\n      <td>2016-04-02 16:25:54.069</td>\n      <td>546dd17e26714c82cc00001c</td>\n      <td>Things that matter. Pass 'em on.</td>\n      <td>$3 Million Is What It Takes For A State To Leg...</td>\n      <td>&lt;p&gt;Iff you start with the basic fact that inno...</td>\n      <td>3-million-is-what-it-takes-for-a-state-to-lega...</td>\n      <td>546dce659ad54ec65b000041</td>\n      <td>3017</td>\n      <td>...</td>\n      <td>26.9</td>\n      <td>False</td>\n      <td>False</td>\n      <td>NaN</td>\n      <td>NaN</td>\n      <td>201446</td>\n      <td>0.006298</td>\n      <td>499 days 04:52:02.096000</td>\n      <td>4.313112e+07</td>\n      <td>0.227090</td>\n    </tr>\n    <tr>\n      <th>3</th>\n      <td>14</td>\n      <td>2014-11-20 11:34:12.107</td>\n      <td>2016-04-02 16:25:54.049</td>\n      <td>546dd17e26714c82cc00001c</td>\n      <td>Things that matter. Pass 'em on.</td>\n      <td>The Fact That Sometimes Innocent People Are Ex...</td>\n      <td>&lt;p&gt;Iff you start with the basic fact that inno...</td>\n      <td>the-fact-that-sometimes-innocent-people-are-ex...</td>\n      <td>546dce659ad54ec65b000041</td>\n      <td>2974</td>\n      <td>...</td>\n      <td>100.0</td>\n      <td>True</td>\n      <td>False</td>\n      <td>NaN</td>\n      <td>NaN</td>\n      <td>201446</td>\n      <td>0.008742</td>\n      <td>499 days 04:51:41.942000</td>\n      <td>4.313110e+07</td>\n      <td>0.227090</td>\n    </tr>\n    <tr>\n      <th>4</th>\n      <td>15</td>\n      <td>2014-11-20 11:34:33.935</td>\n      <td>2016-04-02 16:25:54.072</td>\n      <td>546dd17e26714c82cc00001c</td>\n      <td>Things that matter. Pass 'em on.</td>\n      <td>Reason #351 To End The Death Penalty: It Costs...</td>\n      <td>&lt;p&gt;Iff you start with the basic fact that inno...</td>\n      <td>reason-351-to-end-the-death-penalty-it-costs-3...</td>\n      <td>546dce659ad54ec65b000041</td>\n      <td>3050</td>\n      <td>...</td>\n      <td>0.2</td>\n      <td>False</td>\n      <td>False</td>\n      <td>NaN</td>\n      <td>NaN</td>\n      <td>201446</td>\n      <td>0.003279</td>\n      <td>499 days 04:51:20.137000</td>\n      <td>4.313108e+07</td>\n      <td>0.227089</td>\n    </tr>\n    <tr>\n      <th>...</th>\n      <td>...</td>\n      <td>...</td>\n      <td>...</td>\n      <td>...</td>\n      <td>...</td>\n      <td>...</td>\n      <td>...</td>\n      <td>...</td>\n      <td>...</td>\n      <td>...</td>\n      <td>...</td>\n      <td>...</td>\n      <td>...</td>\n      <td>...</td>\n      <td>...</td>\n      <td>...</td>\n      <td>...</td>\n      <td>...</td>\n      <td>...</td>\n      <td>...</td>\n      <td>...</td>\n    </tr>\n    <tr>\n      <th>22587</th>\n      <td>150778</td>\n      <td>2014-11-20 02:12:35.923</td>\n      <td>2016-04-02 16:25:53.927</td>\n      <td>546d4e139ad54eec8d000019</td>\n      <td>Things that matter. Pass 'em on.</td>\n      <td>Say Goodbye To The News You Once Knew. These 2...</td>\n      <td>&lt;p&gt;This is a pretty great idea for a TV show! ...</td>\n      <td>say-goodbye-to-the-news-you-once-knew-these-2-...</td>\n      <td>546a84cc5b606a1fa0000022</td>\n      <td>4026</td>\n      <td>...</td>\n      <td>8.2</td>\n      <td>False</td>\n      <td>False</td>\n      <td>NaN</td>\n      <td>NaN</td>\n      <td>201446</td>\n      <td>0.002981</td>\n      <td>499 days 14:13:18.004000</td>\n      <td>4.316480e+07</td>\n      <td>0.227641</td>\n    </tr>\n    <tr>\n      <th>22588</th>\n      <td>150779</td>\n      <td>2014-11-20 02:12:35.963</td>\n      <td>2016-04-02 16:31:40.659</td>\n      <td>546d4e139ad54eec8d000019</td>\n      <td>Things that matter. Pass 'em on.</td>\n      <td>Say Goodbye To The News You Once Knew. These 2...</td>\n      <td>&lt;p&gt;This is a pretty great idea for a TV show! ...</td>\n      <td>say-goodbye-to-the-news-you-once-knew-these-2-...</td>\n      <td>546a84cc5b606a1fa0000022</td>\n      <td>4017</td>\n      <td>...</td>\n      <td>100.0</td>\n      <td>True</td>\n      <td>False</td>\n      <td>These 2 people have 1 unique way to say 'scram...</td>\n      <td>NaN</td>\n      <td>201446</td>\n      <td>0.005477</td>\n      <td>499 days 14:19:04.696000</td>\n      <td>4.316514e+07</td>\n      <td>0.227647</td>\n    </tr>\n    <tr>\n      <th>22589</th>\n      <td>150780</td>\n      <td>2014-11-20 02:12:36.023</td>\n      <td>2016-04-02 16:25:53.960</td>\n      <td>546d4e139ad54eec8d000019</td>\n      <td>Things that matter. Pass 'em on.</td>\n      <td>Say Goodbye To The News You Once Knew. These 2...</td>\n      <td>&lt;p&gt;This is a pretty great idea for a TV show! ...</td>\n      <td>say-goodbye-to-the-news-you-once-knew-these-2-...</td>\n      <td>546a84cc5b606a1fa0000022</td>\n      <td>4027</td>\n      <td>...</td>\n      <td>89.3</td>\n      <td>False</td>\n      <td>False</td>\n      <td>Say no to the kind of news that WANTS you to b...</td>\n      <td>NaN</td>\n      <td>201446</td>\n      <td>0.005711</td>\n      <td>499 days 14:13:17.937000</td>\n      <td>4.316480e+07</td>\n      <td>0.227641</td>\n    </tr>\n    <tr>\n      <th>22590</th>\n      <td>150781</td>\n      <td>2014-11-20 02:12:36.114</td>\n      <td>2016-04-02 16:25:53.929</td>\n      <td>546d4e139ad54eec8d000019</td>\n      <td>Things that matter. Pass 'em on.</td>\n      <td>Say Goodbye To The News You Once Knew. These 2...</td>\n      <td>&lt;p&gt;This is a pretty great idea for a TV show! ...</td>\n      <td>say-goodbye-to-the-news-you-once-knew-these-2-...</td>\n      <td>546a84cc5b606a1fa0000022</td>\n      <td>4130</td>\n      <td>...</td>\n      <td>69.2</td>\n      <td>False</td>\n      <td>False</td>\n      <td>If it were opposite day, every news hour would...</td>\n      <td>NaN</td>\n      <td>201446</td>\n      <td>0.005085</td>\n      <td>499 days 14:13:17.815000</td>\n      <td>4.316480e+07</td>\n      <td>0.227641</td>\n    </tr>\n    <tr>\n      <th>22591</th>\n      <td>150782</td>\n      <td>2014-11-20 02:12:36.241</td>\n      <td>2016-04-02 16:25:53.932</td>\n      <td>546d4e139ad54eec8d000019</td>\n      <td>Things that matter. Pass 'em on.</td>\n      <td>Say Goodbye To The News You Once Knew. These 2...</td>\n      <td>&lt;p&gt;This is a pretty great idea for a TV show! ...</td>\n      <td>say-goodbye-to-the-news-you-once-knew-these-2-...</td>\n      <td>546a84cc5b606a1fa0000022</td>\n      <td>4120</td>\n      <td>...</td>\n      <td>69.9</td>\n      <td>False</td>\n      <td>False</td>\n      <td>What if a news show wants to do the opposite o...</td>\n      <td>NaN</td>\n      <td>201446</td>\n      <td>0.005097</td>\n      <td>499 days 14:13:17.691000</td>\n      <td>4.316480e+07</td>\n      <td>0.227641</td>\n    </tr>\n  </tbody>\n</table>\n<p>78506 rows × 21 columns</p>\n</div>"
     },
     "execution_count": 30,
     "metadata": {},
     "output_type": "execute_result"
    }
   ],
   "source": [
    "df"
   ],
   "metadata": {
    "collapsed": false
   }
  },
  {
   "cell_type": "markdown",
   "source": [
    "We now calculate clicks_rl, such that:\n",
    "\n",
    "clicks_rl ~ Binomial(impressions_rl, θ_rl)"
   ],
   "metadata": {
    "collapsed": false
   }
  },
  {
   "cell_type": "code",
   "execution_count": 31,
   "outputs": [],
   "source": [
    "from sklearn.model_selection import train_test_split\n",
    "X = df.drop(['CTR'], axis = 1)\n",
    "y = df['CTR']\n",
    "\n",
    "X_train, X_test, y_train, y_test = train_test_split(X, y, test_size=0.2, random_state=42)\n",
    "\n",
    "X_train.to_csv('df_cleaned_X_train.csv', index=False)\n",
    "X_test.to_csv('df_cleaned_X_test.csv', index=False)\n",
    "\n",
    "y_train.to_csv('df_cleaned_y_train.csv', index=False)\n",
    "y_test.to_csv('df_cleaned_y_test.csv', index=False)"
   ],
   "metadata": {
    "collapsed": false
   }
  },
  {
   "cell_type": "code",
   "execution_count": 32,
   "outputs": [
    {
     "data": {
      "text/plain": "62804"
     },
     "execution_count": 32,
     "metadata": {},
     "output_type": "execute_result"
    }
   ],
   "source": [
    "len(X_train)"
   ],
   "metadata": {
    "collapsed": false
   }
  },
  {
   "cell_type": "code",
   "execution_count": 33,
   "outputs": [
    {
     "data": {
      "text/plain": "15702"
     },
     "execution_count": 33,
     "metadata": {},
     "output_type": "execute_result"
    }
   ],
   "source": [
    "len(X_test)"
   ],
   "metadata": {
    "collapsed": false
   }
  },
  {
   "cell_type": "code",
   "execution_count": null,
   "outputs": [],
   "source": [],
   "metadata": {
    "collapsed": false
   }
  }
 ],
 "metadata": {
  "kernelspec": {
   "display_name": "Python 3",
   "language": "python",
   "name": "python3"
  },
  "language_info": {
   "codemirror_mode": {
    "name": "ipython",
    "version": 2
   },
   "file_extension": ".py",
   "mimetype": "text/x-python",
   "name": "python",
   "nbconvert_exporter": "python",
   "pygments_lexer": "ipython2",
   "version": "2.7.6"
  }
 },
 "nbformat": 4,
 "nbformat_minor": 0
}
