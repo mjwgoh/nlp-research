{
 "cells": [
  {
   "cell_type": "markdown",
   "source": [
    "We begin by conducting sentiment analysis using a dictionary."
   ],
   "metadata": {
    "collapsed": false
   }
  },
  {
   "cell_type": "code",
   "execution_count": 173,
   "outputs": [],
   "source": [
    "import pandas as pd\n",
    "import numpy as np"
   ],
   "metadata": {
    "collapsed": false
   }
  },
  {
   "cell_type": "code",
   "execution_count": 174,
   "metadata": {
    "collapsed": true
   },
   "outputs": [],
   "source": [
    "df = pd.read_csv('df_cleaned_X_train.csv')\n",
    "df_test  = pd.read_csv('df_cleaned_X_test.csv')\n",
    "\n",
    "df_train = pd.read_csv('df_cleaned_y_train.csv')\n",
    "df_test_y = pd.read_csv('df_cleaned_y_test.csv')"
   ]
  },
  {
   "cell_type": "code",
   "execution_count": 175,
   "outputs": [
    {
     "data": {
      "text/plain": "           id               created_at               updated_at  \\\n0      135871  2014-12-14 01:11:50.638  2016-04-02 16:31:58.139   \n1      148756  2014-11-09 19:50:25.589  2016-04-02 16:31:36.967   \n2       38486  2014-03-24 02:19:28.068  2016-04-02 16:26:23.861   \n3      147221  2014-10-20 00:19:19.265  2016-04-02 16:31:12.466   \n4       86092  2014-02-27 00:32:44.843  2016-04-02 16:29:00.646   \n...       ...                      ...                      ...   \n62799   14059  2015-03-27 16:57:13.191  2016-04-02 16:24:54.695   \n62800  129829  2014-11-02 17:38:46.671  2016-04-02 16:31:30.048   \n62801  133246  2014-11-25 20:44:40.537  2016-04-02 16:31:46.470   \n62802    1803  2015-01-08 03:56:53.527  2016-04-02 16:32:06.924   \n62803   35566  2014-02-24 18:33:45.178  2016-04-02 16:26:15.178   \n\n           clickability_test_id  \\\n0      548ce28d6536610018050000   \n1      545fc565dba561926a00000f   \n2      532f93deca310662e3000001   \n3      54445507ecd9a245d8000005   \n4      530e86e775e6a740a500004f   \n...                         ...   \n62799  55158be9616664002c100000   \n62800  5456566ab2bd23dced000009   \n62801  5474e8ae32376400120c0000   \n62802  54adffc76331630012440000   \n62803  530b8c33b768517a1400000f   \n\n                                                 excerpt  \\\n0                                                    NaN   \n1                       Things that matter. Pass 'em on.   \n2         Things that matter. Pass 'em on. #PromotedPost   \n3                       Things that matter. Pass 'em on.   \n4                                The drawings are bonus.   \n...                                                  ...   \n62799                      It was completely unexpected.   \n62800                   Things that matter. Pass 'em on.   \n62801  What dating a woman with an eating disorder is...   \n62802                      Humans. We're an odd species.   \n62803                 We surely can do better than this.   \n\n                                                headline  \\\n0      He Dissed A Rape Victim On National TV And Now...   \n1      You Might Call Jacob A Man With Lipstick. Well...   \n2      I Wouldn't Eat That If I Were You... It's Not ...   \n3      Despite What Happened At The End Of 'Titanic,'...   \n4      Economist Takes 2 Minutes And A Whiteboard To ...   \n...                                                  ...   \n62799  A scientist watched a bunch of male baboons di...   \n62800  How To Make The Most Awkward Kid Conversation ...   \n62801  A Beautiful And Real Response To A Disgusting ...   \n62802  The Bizarre Human Tendency That Drew Us To Her...   \n62803  17 Disconcerting Facts To Make You Realize How...   \n\n                                                    lede  \\\n0      <p>Anytime there's a new sexual assault case b...   \n1      <p>Meet Jacob. You might have met a person lik...   \n2      <p>Is anyone else as excited as I am for the n...   \n3      <p>You can see Leo really cares about what's h...   \n4      <p>I don't think rich people are generally mal...   \n...                                                  ...   \n62799  <p>The baboons show up halfway through. Just g...   \n62800  <p>Whether you're a parent or not, protecting ...   \n62801  <p><strong style=\"background-color: initial;\">...   \n62802  <p>Humans. We're an odd species.<span></span><...   \n62803  <p>I love my country. That doesn't mean I thin...   \n\n                                                    slug  \\\n0      he-dissed-a-rape-victim-on-national-tv-and-now...   \n1      you-might-call-jacob-a-man-with-lipstick-well-...   \n2      i-wouldnt-eat-that-if-i-were-you-its-not-poiso...   \n3      despite-what-happened-at-the-end-of-titanic-le...   \n4      economist-takes-2-minutes-and-a-whiteboard-to-...   \n...                                                  ...   \n62799  a-scientist-watched-a-bunch-of-male-baboons-di...   \n62800  how-to-make-the-most-awkward-kid-conversation-...   \n62801  a-beautiful-and-real-response-to-a-disgusting-...   \n62802  the-bizarre-human-tendency-that-drew-us-to-her...   \n62803  17-disconcerting-facts-to-make-you-realize-how...   \n\n                  eyecatcher_id  impressions  clicks  significance  \\\n0      548c6a30333034001b240000         3013      39         100.0   \n1      545dd264f1cb1f440b00001d         3103      62          24.8   \n2      5332ba0d1fae79f09f002be6         2233      40          89.0   \n3      5443f2398996644f84000015         3162      11           0.1   \n4      5332b6591fae79f09f000d6e         3670      86         100.0   \n...                         ...          ...     ...           ...   \n62799  5514afe3303261001c4d0000         2118      80          85.4   \n62800  545662b209e1045b59000015         3871      15           0.0   \n62801  5474b5541631de66cc00004a         2985      51           8.1   \n62802  54ab1fa962336500152a0000         2870      48          32.0   \n62803  5332f81aa2fc90ead00012d0         3029      68           0.1   \n\n       first_place  winner                                         share_text  \\\n0             True   False                                                NaN   \n1            False   False                                                NaN   \n2            False   False                                                NaN   \n3            False   False                                                NaN   \n4             True   False                                                NaN   \n...            ...     ...                                                ...   \n62799        False   False                  He didn't see it coming *at all.*   \n62800        False   False                                                NaN   \n62801        False   False                 It's time we all heard the truth.    \n62802        False   False  In 1987, the world was captivated by one littl...   \n62803        False   False                                                NaN   \n\n                                                  square  test_week  \\\n0                                                    NaN     201450   \n1                                                    NaN     201445   \n2      TakePartChavez20-19a6cac618ec3d3bf0f340ae6eb3d...     201412   \n3                                                    NaN     201442   \n4          benefits-e403880bf5ddc759e67826b8284a9846.png     201408   \n...                                                  ...        ...   \n62799                                                NaN     201512   \n62800                                                NaN     201444   \n62801                                                NaN     201447   \n62802                                                NaN     201501   \n62803  represent3-2-ff82c11b758d44231a79916d8324ce22.jpg     201408   \n\n                      timedelta  timedelta_numeric  timedelta_minmax  \n0      475 days 15:20:07.501000       4.109521e+07          0.193770  \n1      509 days 20:41:11.378000       4.405207e+07          0.242162  \n2      740 days 14:06:55.793000       6.398682e+07          0.568413  \n3      530 days 16:11:53.201000       4.585031e+07          0.271592  \n4      765 days 15:56:15.803000       6.615338e+07          0.603870  \n...                         ...                ...               ...  \n62799  371 days 23:27:41.504000       3.213886e+07          0.047192  \n62800  516 days 22:52:43.377000       4.466476e+07          0.252189  \n62801  493 days 19:47:05.933000       4.266643e+07          0.219485  \n62802  450 days 12:35:13.397000       3.892531e+07          0.158258  \n62803         767 days 21:52:30       6.634755e+07          0.607048  \n\n[62804 rows x 20 columns]",
      "text/html": "<div>\n<style scoped>\n    .dataframe tbody tr th:only-of-type {\n        vertical-align: middle;\n    }\n\n    .dataframe tbody tr th {\n        vertical-align: top;\n    }\n\n    .dataframe thead th {\n        text-align: right;\n    }\n</style>\n<table border=\"1\" class=\"dataframe\">\n  <thead>\n    <tr style=\"text-align: right;\">\n      <th></th>\n      <th>id</th>\n      <th>created_at</th>\n      <th>updated_at</th>\n      <th>clickability_test_id</th>\n      <th>excerpt</th>\n      <th>headline</th>\n      <th>lede</th>\n      <th>slug</th>\n      <th>eyecatcher_id</th>\n      <th>impressions</th>\n      <th>clicks</th>\n      <th>significance</th>\n      <th>first_place</th>\n      <th>winner</th>\n      <th>share_text</th>\n      <th>square</th>\n      <th>test_week</th>\n      <th>timedelta</th>\n      <th>timedelta_numeric</th>\n      <th>timedelta_minmax</th>\n    </tr>\n  </thead>\n  <tbody>\n    <tr>\n      <th>0</th>\n      <td>135871</td>\n      <td>2014-12-14 01:11:50.638</td>\n      <td>2016-04-02 16:31:58.139</td>\n      <td>548ce28d6536610018050000</td>\n      <td>NaN</td>\n      <td>He Dissed A Rape Victim On National TV And Now...</td>\n      <td>&lt;p&gt;Anytime there's a new sexual assault case b...</td>\n      <td>he-dissed-a-rape-victim-on-national-tv-and-now...</td>\n      <td>548c6a30333034001b240000</td>\n      <td>3013</td>\n      <td>39</td>\n      <td>100.0</td>\n      <td>True</td>\n      <td>False</td>\n      <td>NaN</td>\n      <td>NaN</td>\n      <td>201450</td>\n      <td>475 days 15:20:07.501000</td>\n      <td>4.109521e+07</td>\n      <td>0.193770</td>\n    </tr>\n    <tr>\n      <th>1</th>\n      <td>148756</td>\n      <td>2014-11-09 19:50:25.589</td>\n      <td>2016-04-02 16:31:36.967</td>\n      <td>545fc565dba561926a00000f</td>\n      <td>Things that matter. Pass 'em on.</td>\n      <td>You Might Call Jacob A Man With Lipstick. Well...</td>\n      <td>&lt;p&gt;Meet Jacob. You might have met a person lik...</td>\n      <td>you-might-call-jacob-a-man-with-lipstick-well-...</td>\n      <td>545dd264f1cb1f440b00001d</td>\n      <td>3103</td>\n      <td>62</td>\n      <td>24.8</td>\n      <td>False</td>\n      <td>False</td>\n      <td>NaN</td>\n      <td>NaN</td>\n      <td>201445</td>\n      <td>509 days 20:41:11.378000</td>\n      <td>4.405207e+07</td>\n      <td>0.242162</td>\n    </tr>\n    <tr>\n      <th>2</th>\n      <td>38486</td>\n      <td>2014-03-24 02:19:28.068</td>\n      <td>2016-04-02 16:26:23.861</td>\n      <td>532f93deca310662e3000001</td>\n      <td>Things that matter. Pass 'em on. #PromotedPost</td>\n      <td>I Wouldn't Eat That If I Were You... It's Not ...</td>\n      <td>&lt;p&gt;Is anyone else as excited as I am for the n...</td>\n      <td>i-wouldnt-eat-that-if-i-were-you-its-not-poiso...</td>\n      <td>5332ba0d1fae79f09f002be6</td>\n      <td>2233</td>\n      <td>40</td>\n      <td>89.0</td>\n      <td>False</td>\n      <td>False</td>\n      <td>NaN</td>\n      <td>TakePartChavez20-19a6cac618ec3d3bf0f340ae6eb3d...</td>\n      <td>201412</td>\n      <td>740 days 14:06:55.793000</td>\n      <td>6.398682e+07</td>\n      <td>0.568413</td>\n    </tr>\n    <tr>\n      <th>3</th>\n      <td>147221</td>\n      <td>2014-10-20 00:19:19.265</td>\n      <td>2016-04-02 16:31:12.466</td>\n      <td>54445507ecd9a245d8000005</td>\n      <td>Things that matter. Pass 'em on.</td>\n      <td>Despite What Happened At The End Of 'Titanic,'...</td>\n      <td>&lt;p&gt;You can see Leo really cares about what's h...</td>\n      <td>despite-what-happened-at-the-end-of-titanic-le...</td>\n      <td>5443f2398996644f84000015</td>\n      <td>3162</td>\n      <td>11</td>\n      <td>0.1</td>\n      <td>False</td>\n      <td>False</td>\n      <td>NaN</td>\n      <td>NaN</td>\n      <td>201442</td>\n      <td>530 days 16:11:53.201000</td>\n      <td>4.585031e+07</td>\n      <td>0.271592</td>\n    </tr>\n    <tr>\n      <th>4</th>\n      <td>86092</td>\n      <td>2014-02-27 00:32:44.843</td>\n      <td>2016-04-02 16:29:00.646</td>\n      <td>530e86e775e6a740a500004f</td>\n      <td>The drawings are bonus.</td>\n      <td>Economist Takes 2 Minutes And A Whiteboard To ...</td>\n      <td>&lt;p&gt;I don't think rich people are generally mal...</td>\n      <td>economist-takes-2-minutes-and-a-whiteboard-to-...</td>\n      <td>5332b6591fae79f09f000d6e</td>\n      <td>3670</td>\n      <td>86</td>\n      <td>100.0</td>\n      <td>True</td>\n      <td>False</td>\n      <td>NaN</td>\n      <td>benefits-e403880bf5ddc759e67826b8284a9846.png</td>\n      <td>201408</td>\n      <td>765 days 15:56:15.803000</td>\n      <td>6.615338e+07</td>\n      <td>0.603870</td>\n    </tr>\n    <tr>\n      <th>...</th>\n      <td>...</td>\n      <td>...</td>\n      <td>...</td>\n      <td>...</td>\n      <td>...</td>\n      <td>...</td>\n      <td>...</td>\n      <td>...</td>\n      <td>...</td>\n      <td>...</td>\n      <td>...</td>\n      <td>...</td>\n      <td>...</td>\n      <td>...</td>\n      <td>...</td>\n      <td>...</td>\n      <td>...</td>\n      <td>...</td>\n      <td>...</td>\n      <td>...</td>\n    </tr>\n    <tr>\n      <th>62799</th>\n      <td>14059</td>\n      <td>2015-03-27 16:57:13.191</td>\n      <td>2016-04-02 16:24:54.695</td>\n      <td>55158be9616664002c100000</td>\n      <td>It was completely unexpected.</td>\n      <td>A scientist watched a bunch of male baboons di...</td>\n      <td>&lt;p&gt;The baboons show up halfway through. Just g...</td>\n      <td>a-scientist-watched-a-bunch-of-male-baboons-di...</td>\n      <td>5514afe3303261001c4d0000</td>\n      <td>2118</td>\n      <td>80</td>\n      <td>85.4</td>\n      <td>False</td>\n      <td>False</td>\n      <td>He didn't see it coming *at all.*</td>\n      <td>NaN</td>\n      <td>201512</td>\n      <td>371 days 23:27:41.504000</td>\n      <td>3.213886e+07</td>\n      <td>0.047192</td>\n    </tr>\n    <tr>\n      <th>62800</th>\n      <td>129829</td>\n      <td>2014-11-02 17:38:46.671</td>\n      <td>2016-04-02 16:31:30.048</td>\n      <td>5456566ab2bd23dced000009</td>\n      <td>Things that matter. Pass 'em on.</td>\n      <td>How To Make The Most Awkward Kid Conversation ...</td>\n      <td>&lt;p&gt;Whether you're a parent or not, protecting ...</td>\n      <td>how-to-make-the-most-awkward-kid-conversation-...</td>\n      <td>545662b209e1045b59000015</td>\n      <td>3871</td>\n      <td>15</td>\n      <td>0.0</td>\n      <td>False</td>\n      <td>False</td>\n      <td>NaN</td>\n      <td>NaN</td>\n      <td>201444</td>\n      <td>516 days 22:52:43.377000</td>\n      <td>4.466476e+07</td>\n      <td>0.252189</td>\n    </tr>\n    <tr>\n      <th>62801</th>\n      <td>133246</td>\n      <td>2014-11-25 20:44:40.537</td>\n      <td>2016-04-02 16:31:46.470</td>\n      <td>5474e8ae32376400120c0000</td>\n      <td>What dating a woman with an eating disorder is...</td>\n      <td>A Beautiful And Real Response To A Disgusting ...</td>\n      <td>&lt;p&gt;&lt;strong style=\"background-color: initial;\"&gt;...</td>\n      <td>a-beautiful-and-real-response-to-a-disgusting-...</td>\n      <td>5474b5541631de66cc00004a</td>\n      <td>2985</td>\n      <td>51</td>\n      <td>8.1</td>\n      <td>False</td>\n      <td>False</td>\n      <td>It's time we all heard the truth.</td>\n      <td>NaN</td>\n      <td>201447</td>\n      <td>493 days 19:47:05.933000</td>\n      <td>4.266643e+07</td>\n      <td>0.219485</td>\n    </tr>\n    <tr>\n      <th>62802</th>\n      <td>1803</td>\n      <td>2015-01-08 03:56:53.527</td>\n      <td>2016-04-02 16:32:06.924</td>\n      <td>54adffc76331630012440000</td>\n      <td>Humans. We're an odd species.</td>\n      <td>The Bizarre Human Tendency That Drew Us To Her...</td>\n      <td>&lt;p&gt;Humans. We're an odd species.&lt;span&gt;&lt;/span&gt;&lt;...</td>\n      <td>the-bizarre-human-tendency-that-drew-us-to-her...</td>\n      <td>54ab1fa962336500152a0000</td>\n      <td>2870</td>\n      <td>48</td>\n      <td>32.0</td>\n      <td>False</td>\n      <td>False</td>\n      <td>In 1987, the world was captivated by one littl...</td>\n      <td>NaN</td>\n      <td>201501</td>\n      <td>450 days 12:35:13.397000</td>\n      <td>3.892531e+07</td>\n      <td>0.158258</td>\n    </tr>\n    <tr>\n      <th>62803</th>\n      <td>35566</td>\n      <td>2014-02-24 18:33:45.178</td>\n      <td>2016-04-02 16:26:15.178</td>\n      <td>530b8c33b768517a1400000f</td>\n      <td>We surely can do better than this.</td>\n      <td>17 Disconcerting Facts To Make You Realize How...</td>\n      <td>&lt;p&gt;I love my country. That doesn't mean I thin...</td>\n      <td>17-disconcerting-facts-to-make-you-realize-how...</td>\n      <td>5332f81aa2fc90ead00012d0</td>\n      <td>3029</td>\n      <td>68</td>\n      <td>0.1</td>\n      <td>False</td>\n      <td>False</td>\n      <td>NaN</td>\n      <td>represent3-2-ff82c11b758d44231a79916d8324ce22.jpg</td>\n      <td>201408</td>\n      <td>767 days 21:52:30</td>\n      <td>6.634755e+07</td>\n      <td>0.607048</td>\n    </tr>\n  </tbody>\n</table>\n<p>62804 rows × 20 columns</p>\n</div>"
     },
     "execution_count": 175,
     "metadata": {},
     "output_type": "execute_result"
    }
   ],
   "source": [
    "df"
   ],
   "metadata": {
    "collapsed": false
   }
  },
  {
   "cell_type": "code",
   "execution_count": 176,
   "outputs": [
    {
     "data": {
      "text/plain": "                  id   impressions        clicks  significance      test_week  \\\ncount   62804.000000  62804.000000  62804.000000  62804.000000   62804.000000   \nmean    77500.471355   3596.146042     53.287498     41.010356  201423.116107   \nstd     44200.160258   1461.289965     45.689207     39.884687      53.306474   \nmin        11.000000      1.000000      0.000000      0.000000  201320.000000   \n25%     36621.250000   2769.000000     23.000000      2.600000  201406.000000   \n50%     79026.000000   3141.000000     41.000000     25.800000  201432.000000   \n75%    116134.250000   4113.000000     68.000000     87.100000  201445.000000   \nmax    150814.000000  36908.000000    822.000000    100.000000  201517.000000   \n\n       timedelta_numeric  timedelta_minmax  \ncount       6.280400e+04      62804.000000  \nmean        5.552603e+07          0.429944  \nstd         1.590361e+07          0.260277  \nmin         2.925533e+07          0.000000  \n25%         4.380097e+07          0.238053  \n50%         5.155567e+07          0.364966  \n75%         6.717402e+07          0.620574  \nmax         9.035791e+07          1.000000  ",
      "text/html": "<div>\n<style scoped>\n    .dataframe tbody tr th:only-of-type {\n        vertical-align: middle;\n    }\n\n    .dataframe tbody tr th {\n        vertical-align: top;\n    }\n\n    .dataframe thead th {\n        text-align: right;\n    }\n</style>\n<table border=\"1\" class=\"dataframe\">\n  <thead>\n    <tr style=\"text-align: right;\">\n      <th></th>\n      <th>id</th>\n      <th>impressions</th>\n      <th>clicks</th>\n      <th>significance</th>\n      <th>test_week</th>\n      <th>timedelta_numeric</th>\n      <th>timedelta_minmax</th>\n    </tr>\n  </thead>\n  <tbody>\n    <tr>\n      <th>count</th>\n      <td>62804.000000</td>\n      <td>62804.000000</td>\n      <td>62804.000000</td>\n      <td>62804.000000</td>\n      <td>62804.000000</td>\n      <td>6.280400e+04</td>\n      <td>62804.000000</td>\n    </tr>\n    <tr>\n      <th>mean</th>\n      <td>77500.471355</td>\n      <td>3596.146042</td>\n      <td>53.287498</td>\n      <td>41.010356</td>\n      <td>201423.116107</td>\n      <td>5.552603e+07</td>\n      <td>0.429944</td>\n    </tr>\n    <tr>\n      <th>std</th>\n      <td>44200.160258</td>\n      <td>1461.289965</td>\n      <td>45.689207</td>\n      <td>39.884687</td>\n      <td>53.306474</td>\n      <td>1.590361e+07</td>\n      <td>0.260277</td>\n    </tr>\n    <tr>\n      <th>min</th>\n      <td>11.000000</td>\n      <td>1.000000</td>\n      <td>0.000000</td>\n      <td>0.000000</td>\n      <td>201320.000000</td>\n      <td>2.925533e+07</td>\n      <td>0.000000</td>\n    </tr>\n    <tr>\n      <th>25%</th>\n      <td>36621.250000</td>\n      <td>2769.000000</td>\n      <td>23.000000</td>\n      <td>2.600000</td>\n      <td>201406.000000</td>\n      <td>4.380097e+07</td>\n      <td>0.238053</td>\n    </tr>\n    <tr>\n      <th>50%</th>\n      <td>79026.000000</td>\n      <td>3141.000000</td>\n      <td>41.000000</td>\n      <td>25.800000</td>\n      <td>201432.000000</td>\n      <td>5.155567e+07</td>\n      <td>0.364966</td>\n    </tr>\n    <tr>\n      <th>75%</th>\n      <td>116134.250000</td>\n      <td>4113.000000</td>\n      <td>68.000000</td>\n      <td>87.100000</td>\n      <td>201445.000000</td>\n      <td>6.717402e+07</td>\n      <td>0.620574</td>\n    </tr>\n    <tr>\n      <th>max</th>\n      <td>150814.000000</td>\n      <td>36908.000000</td>\n      <td>822.000000</td>\n      <td>100.000000</td>\n      <td>201517.000000</td>\n      <td>9.035791e+07</td>\n      <td>1.000000</td>\n    </tr>\n  </tbody>\n</table>\n</div>"
     },
     "execution_count": 176,
     "metadata": {},
     "output_type": "execute_result"
    }
   ],
   "source": [
    "df.describe()"
   ],
   "metadata": {
    "collapsed": false
   }
  },
  {
   "cell_type": "code",
   "execution_count": 177,
   "outputs": [
    {
     "name": "stdout",
     "output_type": "stream",
     "text": [
      "<class 'pandas.core.frame.DataFrame'>\n",
      "RangeIndex: 62804 entries, 0 to 62803\n",
      "Data columns (total 20 columns):\n",
      " #   Column                Non-Null Count  Dtype  \n",
      "---  ------                --------------  -----  \n",
      " 0   id                    62804 non-null  int64  \n",
      " 1   created_at            62804 non-null  object \n",
      " 2   updated_at            62804 non-null  object \n",
      " 3   clickability_test_id  62804 non-null  object \n",
      " 4   excerpt               56308 non-null  object \n",
      " 5   headline              62803 non-null  object \n",
      " 6   lede                  62748 non-null  object \n",
      " 7   slug                  62804 non-null  object \n",
      " 8   eyecatcher_id         62668 non-null  object \n",
      " 9   impressions           62804 non-null  int64  \n",
      " 10  clicks                62804 non-null  int64  \n",
      " 11  significance          62804 non-null  float64\n",
      " 12  first_place           62804 non-null  bool   \n",
      " 13  winner                62804 non-null  bool   \n",
      " 14  share_text            10937 non-null  object \n",
      " 15  square                18491 non-null  object \n",
      " 16  test_week             62804 non-null  int64  \n",
      " 17  timedelta             62804 non-null  object \n",
      " 18  timedelta_numeric     62804 non-null  float64\n",
      " 19  timedelta_minmax      62804 non-null  float64\n",
      "dtypes: bool(2), float64(3), int64(4), object(11)\n",
      "memory usage: 8.7+ MB\n"
     ]
    }
   ],
   "source": [
    "df.info()"
   ],
   "metadata": {
    "collapsed": false
   }
  },
  {
   "cell_type": "markdown",
   "source": [
    "Checking through the data, we see that everything appears to be in order."
   ],
   "metadata": {
    "collapsed": false
   }
  },
  {
   "cell_type": "markdown",
   "source": [
    "We continue by importing NLTK for dictionary-based sentiment analysis. We will conduct sentiment analysis using VADER, which is a dictionary based sentiment analysis tool. Following which, we run a regression analysis on the dataset."
   ],
   "metadata": {
    "collapsed": false
   }
  },
  {
   "cell_type": "code",
   "execution_count": 178,
   "outputs": [
    {
     "name": "stderr",
     "output_type": "stream",
     "text": [
      "[nltk_data] Downloading package vader_lexicon to\n",
      "[nltk_data]     /Users/gohjunwei/nltk_data...\n",
      "[nltk_data]   Package vader_lexicon is already up-to-date!\n",
      "[nltk_data] Downloading package sentiwordnet to\n",
      "[nltk_data]     /Users/gohjunwei/nltk_data...\n",
      "[nltk_data]   Package sentiwordnet is already up-to-date!\n"
     ]
    },
    {
     "data": {
      "text/plain": "True"
     },
     "execution_count": 178,
     "metadata": {},
     "output_type": "execute_result"
    }
   ],
   "source": [
    "import nltk\n",
    "from nltk.sentiment import SentimentIntensityAnalyzer\n",
    "from nltk.corpus import sentiwordnet as swn\n",
    "\n",
    "# Download VADER lexicon and SentiWordNet\n",
    "nltk.download('vader_lexicon')\n",
    "nltk.download('sentiwordnet')"
   ],
   "metadata": {
    "collapsed": false
   }
  },
  {
   "cell_type": "markdown",
   "source": [
    "We begin by using the Valence Aware Dictionary and Sentiment Reasoner (VADER) to conduct sentiment analysis on our headlines. Note that VADER automatically handles negation, takes into consideration intensity modifiers, conjunctions, as well as capitalization. We will use the VADER model 'out of the box' - no parameter changes are made."
   ],
   "metadata": {
    "collapsed": false
   }
  },
  {
   "cell_type": "code",
   "execution_count": 179,
   "outputs": [],
   "source": [
    "# Initializing the sentiment intensity analyzer\n",
    "sia = SentimentIntensityAnalyzer()"
   ],
   "metadata": {
    "collapsed": false
   }
  },
  {
   "cell_type": "code",
   "execution_count": 180,
   "outputs": [],
   "source": [
    "df['headline'] = df['headline'].astype(str)\n",
    "df_test['headline'] = df_test['headline'].astype(str)"
   ],
   "metadata": {
    "collapsed": false
   }
  },
  {
   "cell_type": "code",
   "execution_count": 181,
   "outputs": [
    {
     "data": {
      "text/plain": "           id               created_at               updated_at  \\\n0      135871  2014-12-14 01:11:50.638  2016-04-02 16:31:58.139   \n1      148756  2014-11-09 19:50:25.589  2016-04-02 16:31:36.967   \n2       38486  2014-03-24 02:19:28.068  2016-04-02 16:26:23.861   \n3      147221  2014-10-20 00:19:19.265  2016-04-02 16:31:12.466   \n4       86092  2014-02-27 00:32:44.843  2016-04-02 16:29:00.646   \n...       ...                      ...                      ...   \n62799   14059  2015-03-27 16:57:13.191  2016-04-02 16:24:54.695   \n62800  129829  2014-11-02 17:38:46.671  2016-04-02 16:31:30.048   \n62801  133246  2014-11-25 20:44:40.537  2016-04-02 16:31:46.470   \n62802    1803  2015-01-08 03:56:53.527  2016-04-02 16:32:06.924   \n62803   35566  2014-02-24 18:33:45.178  2016-04-02 16:26:15.178   \n\n           clickability_test_id  \\\n0      548ce28d6536610018050000   \n1      545fc565dba561926a00000f   \n2      532f93deca310662e3000001   \n3      54445507ecd9a245d8000005   \n4      530e86e775e6a740a500004f   \n...                         ...   \n62799  55158be9616664002c100000   \n62800  5456566ab2bd23dced000009   \n62801  5474e8ae32376400120c0000   \n62802  54adffc76331630012440000   \n62803  530b8c33b768517a1400000f   \n\n                                                 excerpt  \\\n0                                                    NaN   \n1                       Things that matter. Pass 'em on.   \n2         Things that matter. Pass 'em on. #PromotedPost   \n3                       Things that matter. Pass 'em on.   \n4                                The drawings are bonus.   \n...                                                  ...   \n62799                      It was completely unexpected.   \n62800                   Things that matter. Pass 'em on.   \n62801  What dating a woman with an eating disorder is...   \n62802                      Humans. We're an odd species.   \n62803                 We surely can do better than this.   \n\n                                                headline  \\\n0      He Dissed A Rape Victim On National TV And Now...   \n1      You Might Call Jacob A Man With Lipstick. Well...   \n2      I Wouldn't Eat That If I Were You... It's Not ...   \n3      Despite What Happened At The End Of 'Titanic,'...   \n4      Economist Takes 2 Minutes And A Whiteboard To ...   \n...                                                  ...   \n62799  A scientist watched a bunch of male baboons di...   \n62800  How To Make The Most Awkward Kid Conversation ...   \n62801  A Beautiful And Real Response To A Disgusting ...   \n62802  The Bizarre Human Tendency That Drew Us To Her...   \n62803  17 Disconcerting Facts To Make You Realize How...   \n\n                                                    lede  \\\n0      <p>Anytime there's a new sexual assault case b...   \n1      <p>Meet Jacob. You might have met a person lik...   \n2      <p>Is anyone else as excited as I am for the n...   \n3      <p>You can see Leo really cares about what's h...   \n4      <p>I don't think rich people are generally mal...   \n...                                                  ...   \n62799  <p>The baboons show up halfway through. Just g...   \n62800  <p>Whether you're a parent or not, protecting ...   \n62801  <p><strong style=\"background-color: initial;\">...   \n62802  <p>Humans. We're an odd species.<span></span><...   \n62803  <p>I love my country. That doesn't mean I thin...   \n\n                                                    slug  \\\n0      he-dissed-a-rape-victim-on-national-tv-and-now...   \n1      you-might-call-jacob-a-man-with-lipstick-well-...   \n2      i-wouldnt-eat-that-if-i-were-you-its-not-poiso...   \n3      despite-what-happened-at-the-end-of-titanic-le...   \n4      economist-takes-2-minutes-and-a-whiteboard-to-...   \n...                                                  ...   \n62799  a-scientist-watched-a-bunch-of-male-baboons-di...   \n62800  how-to-make-the-most-awkward-kid-conversation-...   \n62801  a-beautiful-and-real-response-to-a-disgusting-...   \n62802  the-bizarre-human-tendency-that-drew-us-to-her...   \n62803  17-disconcerting-facts-to-make-you-realize-how...   \n\n                  eyecatcher_id  impressions  clicks  significance  \\\n0      548c6a30333034001b240000         3013      39         100.0   \n1      545dd264f1cb1f440b00001d         3103      62          24.8   \n2      5332ba0d1fae79f09f002be6         2233      40          89.0   \n3      5443f2398996644f84000015         3162      11           0.1   \n4      5332b6591fae79f09f000d6e         3670      86         100.0   \n...                         ...          ...     ...           ...   \n62799  5514afe3303261001c4d0000         2118      80          85.4   \n62800  545662b209e1045b59000015         3871      15           0.0   \n62801  5474b5541631de66cc00004a         2985      51           8.1   \n62802  54ab1fa962336500152a0000         2870      48          32.0   \n62803  5332f81aa2fc90ead00012d0         3029      68           0.1   \n\n       first_place  winner                                         share_text  \\\n0             True   False                                                NaN   \n1            False   False                                                NaN   \n2            False   False                                                NaN   \n3            False   False                                                NaN   \n4             True   False                                                NaN   \n...            ...     ...                                                ...   \n62799        False   False                  He didn't see it coming *at all.*   \n62800        False   False                                                NaN   \n62801        False   False                 It's time we all heard the truth.    \n62802        False   False  In 1987, the world was captivated by one littl...   \n62803        False   False                                                NaN   \n\n                                                  square  test_week  \\\n0                                                    NaN     201450   \n1                                                    NaN     201445   \n2      TakePartChavez20-19a6cac618ec3d3bf0f340ae6eb3d...     201412   \n3                                                    NaN     201442   \n4          benefits-e403880bf5ddc759e67826b8284a9846.png     201408   \n...                                                  ...        ...   \n62799                                                NaN     201512   \n62800                                                NaN     201444   \n62801                                                NaN     201447   \n62802                                                NaN     201501   \n62803  represent3-2-ff82c11b758d44231a79916d8324ce22.jpg     201408   \n\n                      timedelta  timedelta_numeric  timedelta_minmax  \n0      475 days 15:20:07.501000       4.109521e+07          0.193770  \n1      509 days 20:41:11.378000       4.405207e+07          0.242162  \n2      740 days 14:06:55.793000       6.398682e+07          0.568413  \n3      530 days 16:11:53.201000       4.585031e+07          0.271592  \n4      765 days 15:56:15.803000       6.615338e+07          0.603870  \n...                         ...                ...               ...  \n62799  371 days 23:27:41.504000       3.213886e+07          0.047192  \n62800  516 days 22:52:43.377000       4.466476e+07          0.252189  \n62801  493 days 19:47:05.933000       4.266643e+07          0.219485  \n62802  450 days 12:35:13.397000       3.892531e+07          0.158258  \n62803         767 days 21:52:30       6.634755e+07          0.607048  \n\n[62804 rows x 20 columns]",
      "text/html": "<div>\n<style scoped>\n    .dataframe tbody tr th:only-of-type {\n        vertical-align: middle;\n    }\n\n    .dataframe tbody tr th {\n        vertical-align: top;\n    }\n\n    .dataframe thead th {\n        text-align: right;\n    }\n</style>\n<table border=\"1\" class=\"dataframe\">\n  <thead>\n    <tr style=\"text-align: right;\">\n      <th></th>\n      <th>id</th>\n      <th>created_at</th>\n      <th>updated_at</th>\n      <th>clickability_test_id</th>\n      <th>excerpt</th>\n      <th>headline</th>\n      <th>lede</th>\n      <th>slug</th>\n      <th>eyecatcher_id</th>\n      <th>impressions</th>\n      <th>clicks</th>\n      <th>significance</th>\n      <th>first_place</th>\n      <th>winner</th>\n      <th>share_text</th>\n      <th>square</th>\n      <th>test_week</th>\n      <th>timedelta</th>\n      <th>timedelta_numeric</th>\n      <th>timedelta_minmax</th>\n    </tr>\n  </thead>\n  <tbody>\n    <tr>\n      <th>0</th>\n      <td>135871</td>\n      <td>2014-12-14 01:11:50.638</td>\n      <td>2016-04-02 16:31:58.139</td>\n      <td>548ce28d6536610018050000</td>\n      <td>NaN</td>\n      <td>He Dissed A Rape Victim On National TV And Now...</td>\n      <td>&lt;p&gt;Anytime there's a new sexual assault case b...</td>\n      <td>he-dissed-a-rape-victim-on-national-tv-and-now...</td>\n      <td>548c6a30333034001b240000</td>\n      <td>3013</td>\n      <td>39</td>\n      <td>100.0</td>\n      <td>True</td>\n      <td>False</td>\n      <td>NaN</td>\n      <td>NaN</td>\n      <td>201450</td>\n      <td>475 days 15:20:07.501000</td>\n      <td>4.109521e+07</td>\n      <td>0.193770</td>\n    </tr>\n    <tr>\n      <th>1</th>\n      <td>148756</td>\n      <td>2014-11-09 19:50:25.589</td>\n      <td>2016-04-02 16:31:36.967</td>\n      <td>545fc565dba561926a00000f</td>\n      <td>Things that matter. Pass 'em on.</td>\n      <td>You Might Call Jacob A Man With Lipstick. Well...</td>\n      <td>&lt;p&gt;Meet Jacob. You might have met a person lik...</td>\n      <td>you-might-call-jacob-a-man-with-lipstick-well-...</td>\n      <td>545dd264f1cb1f440b00001d</td>\n      <td>3103</td>\n      <td>62</td>\n      <td>24.8</td>\n      <td>False</td>\n      <td>False</td>\n      <td>NaN</td>\n      <td>NaN</td>\n      <td>201445</td>\n      <td>509 days 20:41:11.378000</td>\n      <td>4.405207e+07</td>\n      <td>0.242162</td>\n    </tr>\n    <tr>\n      <th>2</th>\n      <td>38486</td>\n      <td>2014-03-24 02:19:28.068</td>\n      <td>2016-04-02 16:26:23.861</td>\n      <td>532f93deca310662e3000001</td>\n      <td>Things that matter. Pass 'em on. #PromotedPost</td>\n      <td>I Wouldn't Eat That If I Were You... It's Not ...</td>\n      <td>&lt;p&gt;Is anyone else as excited as I am for the n...</td>\n      <td>i-wouldnt-eat-that-if-i-were-you-its-not-poiso...</td>\n      <td>5332ba0d1fae79f09f002be6</td>\n      <td>2233</td>\n      <td>40</td>\n      <td>89.0</td>\n      <td>False</td>\n      <td>False</td>\n      <td>NaN</td>\n      <td>TakePartChavez20-19a6cac618ec3d3bf0f340ae6eb3d...</td>\n      <td>201412</td>\n      <td>740 days 14:06:55.793000</td>\n      <td>6.398682e+07</td>\n      <td>0.568413</td>\n    </tr>\n    <tr>\n      <th>3</th>\n      <td>147221</td>\n      <td>2014-10-20 00:19:19.265</td>\n      <td>2016-04-02 16:31:12.466</td>\n      <td>54445507ecd9a245d8000005</td>\n      <td>Things that matter. Pass 'em on.</td>\n      <td>Despite What Happened At The End Of 'Titanic,'...</td>\n      <td>&lt;p&gt;You can see Leo really cares about what's h...</td>\n      <td>despite-what-happened-at-the-end-of-titanic-le...</td>\n      <td>5443f2398996644f84000015</td>\n      <td>3162</td>\n      <td>11</td>\n      <td>0.1</td>\n      <td>False</td>\n      <td>False</td>\n      <td>NaN</td>\n      <td>NaN</td>\n      <td>201442</td>\n      <td>530 days 16:11:53.201000</td>\n      <td>4.585031e+07</td>\n      <td>0.271592</td>\n    </tr>\n    <tr>\n      <th>4</th>\n      <td>86092</td>\n      <td>2014-02-27 00:32:44.843</td>\n      <td>2016-04-02 16:29:00.646</td>\n      <td>530e86e775e6a740a500004f</td>\n      <td>The drawings are bonus.</td>\n      <td>Economist Takes 2 Minutes And A Whiteboard To ...</td>\n      <td>&lt;p&gt;I don't think rich people are generally mal...</td>\n      <td>economist-takes-2-minutes-and-a-whiteboard-to-...</td>\n      <td>5332b6591fae79f09f000d6e</td>\n      <td>3670</td>\n      <td>86</td>\n      <td>100.0</td>\n      <td>True</td>\n      <td>False</td>\n      <td>NaN</td>\n      <td>benefits-e403880bf5ddc759e67826b8284a9846.png</td>\n      <td>201408</td>\n      <td>765 days 15:56:15.803000</td>\n      <td>6.615338e+07</td>\n      <td>0.603870</td>\n    </tr>\n    <tr>\n      <th>...</th>\n      <td>...</td>\n      <td>...</td>\n      <td>...</td>\n      <td>...</td>\n      <td>...</td>\n      <td>...</td>\n      <td>...</td>\n      <td>...</td>\n      <td>...</td>\n      <td>...</td>\n      <td>...</td>\n      <td>...</td>\n      <td>...</td>\n      <td>...</td>\n      <td>...</td>\n      <td>...</td>\n      <td>...</td>\n      <td>...</td>\n      <td>...</td>\n      <td>...</td>\n    </tr>\n    <tr>\n      <th>62799</th>\n      <td>14059</td>\n      <td>2015-03-27 16:57:13.191</td>\n      <td>2016-04-02 16:24:54.695</td>\n      <td>55158be9616664002c100000</td>\n      <td>It was completely unexpected.</td>\n      <td>A scientist watched a bunch of male baboons di...</td>\n      <td>&lt;p&gt;The baboons show up halfway through. Just g...</td>\n      <td>a-scientist-watched-a-bunch-of-male-baboons-di...</td>\n      <td>5514afe3303261001c4d0000</td>\n      <td>2118</td>\n      <td>80</td>\n      <td>85.4</td>\n      <td>False</td>\n      <td>False</td>\n      <td>He didn't see it coming *at all.*</td>\n      <td>NaN</td>\n      <td>201512</td>\n      <td>371 days 23:27:41.504000</td>\n      <td>3.213886e+07</td>\n      <td>0.047192</td>\n    </tr>\n    <tr>\n      <th>62800</th>\n      <td>129829</td>\n      <td>2014-11-02 17:38:46.671</td>\n      <td>2016-04-02 16:31:30.048</td>\n      <td>5456566ab2bd23dced000009</td>\n      <td>Things that matter. Pass 'em on.</td>\n      <td>How To Make The Most Awkward Kid Conversation ...</td>\n      <td>&lt;p&gt;Whether you're a parent or not, protecting ...</td>\n      <td>how-to-make-the-most-awkward-kid-conversation-...</td>\n      <td>545662b209e1045b59000015</td>\n      <td>3871</td>\n      <td>15</td>\n      <td>0.0</td>\n      <td>False</td>\n      <td>False</td>\n      <td>NaN</td>\n      <td>NaN</td>\n      <td>201444</td>\n      <td>516 days 22:52:43.377000</td>\n      <td>4.466476e+07</td>\n      <td>0.252189</td>\n    </tr>\n    <tr>\n      <th>62801</th>\n      <td>133246</td>\n      <td>2014-11-25 20:44:40.537</td>\n      <td>2016-04-02 16:31:46.470</td>\n      <td>5474e8ae32376400120c0000</td>\n      <td>What dating a woman with an eating disorder is...</td>\n      <td>A Beautiful And Real Response To A Disgusting ...</td>\n      <td>&lt;p&gt;&lt;strong style=\"background-color: initial;\"&gt;...</td>\n      <td>a-beautiful-and-real-response-to-a-disgusting-...</td>\n      <td>5474b5541631de66cc00004a</td>\n      <td>2985</td>\n      <td>51</td>\n      <td>8.1</td>\n      <td>False</td>\n      <td>False</td>\n      <td>It's time we all heard the truth.</td>\n      <td>NaN</td>\n      <td>201447</td>\n      <td>493 days 19:47:05.933000</td>\n      <td>4.266643e+07</td>\n      <td>0.219485</td>\n    </tr>\n    <tr>\n      <th>62802</th>\n      <td>1803</td>\n      <td>2015-01-08 03:56:53.527</td>\n      <td>2016-04-02 16:32:06.924</td>\n      <td>54adffc76331630012440000</td>\n      <td>Humans. We're an odd species.</td>\n      <td>The Bizarre Human Tendency That Drew Us To Her...</td>\n      <td>&lt;p&gt;Humans. We're an odd species.&lt;span&gt;&lt;/span&gt;&lt;...</td>\n      <td>the-bizarre-human-tendency-that-drew-us-to-her...</td>\n      <td>54ab1fa962336500152a0000</td>\n      <td>2870</td>\n      <td>48</td>\n      <td>32.0</td>\n      <td>False</td>\n      <td>False</td>\n      <td>In 1987, the world was captivated by one littl...</td>\n      <td>NaN</td>\n      <td>201501</td>\n      <td>450 days 12:35:13.397000</td>\n      <td>3.892531e+07</td>\n      <td>0.158258</td>\n    </tr>\n    <tr>\n      <th>62803</th>\n      <td>35566</td>\n      <td>2014-02-24 18:33:45.178</td>\n      <td>2016-04-02 16:26:15.178</td>\n      <td>530b8c33b768517a1400000f</td>\n      <td>We surely can do better than this.</td>\n      <td>17 Disconcerting Facts To Make You Realize How...</td>\n      <td>&lt;p&gt;I love my country. That doesn't mean I thin...</td>\n      <td>17-disconcerting-facts-to-make-you-realize-how...</td>\n      <td>5332f81aa2fc90ead00012d0</td>\n      <td>3029</td>\n      <td>68</td>\n      <td>0.1</td>\n      <td>False</td>\n      <td>False</td>\n      <td>NaN</td>\n      <td>represent3-2-ff82c11b758d44231a79916d8324ce22.jpg</td>\n      <td>201408</td>\n      <td>767 days 21:52:30</td>\n      <td>6.634755e+07</td>\n      <td>0.607048</td>\n    </tr>\n  </tbody>\n</table>\n<p>62804 rows × 20 columns</p>\n</div>"
     },
     "execution_count": 181,
     "metadata": {},
     "output_type": "execute_result"
    }
   ],
   "source": [
    "df"
   ],
   "metadata": {
    "collapsed": false
   }
  },
  {
   "cell_type": "code",
   "execution_count": 182,
   "outputs": [],
   "source": [
    "df['vader'] = df['headline'].apply(lambda x: sia.polarity_scores(x)['compound'])\n",
    "df_test['vader'] = df_test['headline'].apply(lambda x: sia.polarity_scores(x)['compound'])"
   ],
   "metadata": {
    "collapsed": false
   }
  },
  {
   "cell_type": "code",
   "execution_count": 183,
   "outputs": [
    {
     "data": {
      "text/plain": "           id               created_at               updated_at  \\\n0      135871  2014-12-14 01:11:50.638  2016-04-02 16:31:58.139   \n1      148756  2014-11-09 19:50:25.589  2016-04-02 16:31:36.967   \n2       38486  2014-03-24 02:19:28.068  2016-04-02 16:26:23.861   \n3      147221  2014-10-20 00:19:19.265  2016-04-02 16:31:12.466   \n4       86092  2014-02-27 00:32:44.843  2016-04-02 16:29:00.646   \n...       ...                      ...                      ...   \n62799   14059  2015-03-27 16:57:13.191  2016-04-02 16:24:54.695   \n62800  129829  2014-11-02 17:38:46.671  2016-04-02 16:31:30.048   \n62801  133246  2014-11-25 20:44:40.537  2016-04-02 16:31:46.470   \n62802    1803  2015-01-08 03:56:53.527  2016-04-02 16:32:06.924   \n62803   35566  2014-02-24 18:33:45.178  2016-04-02 16:26:15.178   \n\n           clickability_test_id  \\\n0      548ce28d6536610018050000   \n1      545fc565dba561926a00000f   \n2      532f93deca310662e3000001   \n3      54445507ecd9a245d8000005   \n4      530e86e775e6a740a500004f   \n...                         ...   \n62799  55158be9616664002c100000   \n62800  5456566ab2bd23dced000009   \n62801  5474e8ae32376400120c0000   \n62802  54adffc76331630012440000   \n62803  530b8c33b768517a1400000f   \n\n                                                 excerpt  \\\n0                                                    NaN   \n1                       Things that matter. Pass 'em on.   \n2         Things that matter. Pass 'em on. #PromotedPost   \n3                       Things that matter. Pass 'em on.   \n4                                The drawings are bonus.   \n...                                                  ...   \n62799                      It was completely unexpected.   \n62800                   Things that matter. Pass 'em on.   \n62801  What dating a woman with an eating disorder is...   \n62802                      Humans. We're an odd species.   \n62803                 We surely can do better than this.   \n\n                                                headline  \\\n0      He Dissed A Rape Victim On National TV And Now...   \n1      You Might Call Jacob A Man With Lipstick. Well...   \n2      I Wouldn't Eat That If I Were You... It's Not ...   \n3      Despite What Happened At The End Of 'Titanic,'...   \n4      Economist Takes 2 Minutes And A Whiteboard To ...   \n...                                                  ...   \n62799  A scientist watched a bunch of male baboons di...   \n62800  How To Make The Most Awkward Kid Conversation ...   \n62801  A Beautiful And Real Response To A Disgusting ...   \n62802  The Bizarre Human Tendency That Drew Us To Her...   \n62803  17 Disconcerting Facts To Make You Realize How...   \n\n                                                    lede  \\\n0      <p>Anytime there's a new sexual assault case b...   \n1      <p>Meet Jacob. You might have met a person lik...   \n2      <p>Is anyone else as excited as I am for the n...   \n3      <p>You can see Leo really cares about what's h...   \n4      <p>I don't think rich people are generally mal...   \n...                                                  ...   \n62799  <p>The baboons show up halfway through. Just g...   \n62800  <p>Whether you're a parent or not, protecting ...   \n62801  <p><strong style=\"background-color: initial;\">...   \n62802  <p>Humans. We're an odd species.<span></span><...   \n62803  <p>I love my country. That doesn't mean I thin...   \n\n                                                    slug  \\\n0      he-dissed-a-rape-victim-on-national-tv-and-now...   \n1      you-might-call-jacob-a-man-with-lipstick-well-...   \n2      i-wouldnt-eat-that-if-i-were-you-its-not-poiso...   \n3      despite-what-happened-at-the-end-of-titanic-le...   \n4      economist-takes-2-minutes-and-a-whiteboard-to-...   \n...                                                  ...   \n62799  a-scientist-watched-a-bunch-of-male-baboons-di...   \n62800  how-to-make-the-most-awkward-kid-conversation-...   \n62801  a-beautiful-and-real-response-to-a-disgusting-...   \n62802  the-bizarre-human-tendency-that-drew-us-to-her...   \n62803  17-disconcerting-facts-to-make-you-realize-how...   \n\n                  eyecatcher_id  impressions  ...  significance  first_place  \\\n0      548c6a30333034001b240000         3013  ...         100.0         True   \n1      545dd264f1cb1f440b00001d         3103  ...          24.8        False   \n2      5332ba0d1fae79f09f002be6         2233  ...          89.0        False   \n3      5443f2398996644f84000015         3162  ...           0.1        False   \n4      5332b6591fae79f09f000d6e         3670  ...         100.0         True   \n...                         ...          ...  ...           ...          ...   \n62799  5514afe3303261001c4d0000         2118  ...          85.4        False   \n62800  545662b209e1045b59000015         3871  ...           0.0        False   \n62801  5474b5541631de66cc00004a         2985  ...           8.1        False   \n62802  54ab1fa962336500152a0000         2870  ...          32.0        False   \n62803  5332f81aa2fc90ead00012d0         3029  ...           0.1        False   \n\n       winner                                         share_text  \\\n0       False                                                NaN   \n1       False                                                NaN   \n2       False                                                NaN   \n3       False                                                NaN   \n4       False                                                NaN   \n...       ...                                                ...   \n62799   False                  He didn't see it coming *at all.*   \n62800   False                                                NaN   \n62801   False                 It's time we all heard the truth.    \n62802   False  In 1987, the world was captivated by one littl...   \n62803   False                                                NaN   \n\n                                                  square test_week  \\\n0                                                    NaN    201450   \n1                                                    NaN    201445   \n2      TakePartChavez20-19a6cac618ec3d3bf0f340ae6eb3d...    201412   \n3                                                    NaN    201442   \n4          benefits-e403880bf5ddc759e67826b8284a9846.png    201408   \n...                                                  ...       ...   \n62799                                                NaN    201512   \n62800                                                NaN    201444   \n62801                                                NaN    201447   \n62802                                                NaN    201501   \n62803  represent3-2-ff82c11b758d44231a79916d8324ce22.jpg    201408   \n\n                      timedelta timedelta_numeric  timedelta_minmax   vader  \n0      475 days 15:20:07.501000      4.109521e+07          0.193770 -0.9081  \n1      509 days 20:41:11.378000      4.405207e+07          0.242162  0.2732  \n2      740 days 14:06:55.793000      6.398682e+07          0.568413  0.4310  \n3      530 days 16:11:53.201000      4.585031e+07          0.271592  0.5719  \n4      765 days 15:56:15.803000      6.615338e+07          0.603870  0.5574  \n...                         ...               ...               ...     ...  \n62799  371 days 23:27:41.504000      3.213886e+07          0.047192 -0.1027  \n62800  516 days 22:52:43.377000      4.466476e+07          0.252189 -0.4188  \n62801  493 days 19:47:05.933000      4.266643e+07          0.219485  0.1280  \n62802  450 days 12:35:13.397000      3.892531e+07          0.158258 -0.6705  \n62803         767 days 21:52:30      6.634755e+07          0.607048 -0.4767  \n\n[62804 rows x 21 columns]",
      "text/html": "<div>\n<style scoped>\n    .dataframe tbody tr th:only-of-type {\n        vertical-align: middle;\n    }\n\n    .dataframe tbody tr th {\n        vertical-align: top;\n    }\n\n    .dataframe thead th {\n        text-align: right;\n    }\n</style>\n<table border=\"1\" class=\"dataframe\">\n  <thead>\n    <tr style=\"text-align: right;\">\n      <th></th>\n      <th>id</th>\n      <th>created_at</th>\n      <th>updated_at</th>\n      <th>clickability_test_id</th>\n      <th>excerpt</th>\n      <th>headline</th>\n      <th>lede</th>\n      <th>slug</th>\n      <th>eyecatcher_id</th>\n      <th>impressions</th>\n      <th>...</th>\n      <th>significance</th>\n      <th>first_place</th>\n      <th>winner</th>\n      <th>share_text</th>\n      <th>square</th>\n      <th>test_week</th>\n      <th>timedelta</th>\n      <th>timedelta_numeric</th>\n      <th>timedelta_minmax</th>\n      <th>vader</th>\n    </tr>\n  </thead>\n  <tbody>\n    <tr>\n      <th>0</th>\n      <td>135871</td>\n      <td>2014-12-14 01:11:50.638</td>\n      <td>2016-04-02 16:31:58.139</td>\n      <td>548ce28d6536610018050000</td>\n      <td>NaN</td>\n      <td>He Dissed A Rape Victim On National TV And Now...</td>\n      <td>&lt;p&gt;Anytime there's a new sexual assault case b...</td>\n      <td>he-dissed-a-rape-victim-on-national-tv-and-now...</td>\n      <td>548c6a30333034001b240000</td>\n      <td>3013</td>\n      <td>...</td>\n      <td>100.0</td>\n      <td>True</td>\n      <td>False</td>\n      <td>NaN</td>\n      <td>NaN</td>\n      <td>201450</td>\n      <td>475 days 15:20:07.501000</td>\n      <td>4.109521e+07</td>\n      <td>0.193770</td>\n      <td>-0.9081</td>\n    </tr>\n    <tr>\n      <th>1</th>\n      <td>148756</td>\n      <td>2014-11-09 19:50:25.589</td>\n      <td>2016-04-02 16:31:36.967</td>\n      <td>545fc565dba561926a00000f</td>\n      <td>Things that matter. Pass 'em on.</td>\n      <td>You Might Call Jacob A Man With Lipstick. Well...</td>\n      <td>&lt;p&gt;Meet Jacob. You might have met a person lik...</td>\n      <td>you-might-call-jacob-a-man-with-lipstick-well-...</td>\n      <td>545dd264f1cb1f440b00001d</td>\n      <td>3103</td>\n      <td>...</td>\n      <td>24.8</td>\n      <td>False</td>\n      <td>False</td>\n      <td>NaN</td>\n      <td>NaN</td>\n      <td>201445</td>\n      <td>509 days 20:41:11.378000</td>\n      <td>4.405207e+07</td>\n      <td>0.242162</td>\n      <td>0.2732</td>\n    </tr>\n    <tr>\n      <th>2</th>\n      <td>38486</td>\n      <td>2014-03-24 02:19:28.068</td>\n      <td>2016-04-02 16:26:23.861</td>\n      <td>532f93deca310662e3000001</td>\n      <td>Things that matter. Pass 'em on. #PromotedPost</td>\n      <td>I Wouldn't Eat That If I Were You... It's Not ...</td>\n      <td>&lt;p&gt;Is anyone else as excited as I am for the n...</td>\n      <td>i-wouldnt-eat-that-if-i-were-you-its-not-poiso...</td>\n      <td>5332ba0d1fae79f09f002be6</td>\n      <td>2233</td>\n      <td>...</td>\n      <td>89.0</td>\n      <td>False</td>\n      <td>False</td>\n      <td>NaN</td>\n      <td>TakePartChavez20-19a6cac618ec3d3bf0f340ae6eb3d...</td>\n      <td>201412</td>\n      <td>740 days 14:06:55.793000</td>\n      <td>6.398682e+07</td>\n      <td>0.568413</td>\n      <td>0.4310</td>\n    </tr>\n    <tr>\n      <th>3</th>\n      <td>147221</td>\n      <td>2014-10-20 00:19:19.265</td>\n      <td>2016-04-02 16:31:12.466</td>\n      <td>54445507ecd9a245d8000005</td>\n      <td>Things that matter. Pass 'em on.</td>\n      <td>Despite What Happened At The End Of 'Titanic,'...</td>\n      <td>&lt;p&gt;You can see Leo really cares about what's h...</td>\n      <td>despite-what-happened-at-the-end-of-titanic-le...</td>\n      <td>5443f2398996644f84000015</td>\n      <td>3162</td>\n      <td>...</td>\n      <td>0.1</td>\n      <td>False</td>\n      <td>False</td>\n      <td>NaN</td>\n      <td>NaN</td>\n      <td>201442</td>\n      <td>530 days 16:11:53.201000</td>\n      <td>4.585031e+07</td>\n      <td>0.271592</td>\n      <td>0.5719</td>\n    </tr>\n    <tr>\n      <th>4</th>\n      <td>86092</td>\n      <td>2014-02-27 00:32:44.843</td>\n      <td>2016-04-02 16:29:00.646</td>\n      <td>530e86e775e6a740a500004f</td>\n      <td>The drawings are bonus.</td>\n      <td>Economist Takes 2 Minutes And A Whiteboard To ...</td>\n      <td>&lt;p&gt;I don't think rich people are generally mal...</td>\n      <td>economist-takes-2-minutes-and-a-whiteboard-to-...</td>\n      <td>5332b6591fae79f09f000d6e</td>\n      <td>3670</td>\n      <td>...</td>\n      <td>100.0</td>\n      <td>True</td>\n      <td>False</td>\n      <td>NaN</td>\n      <td>benefits-e403880bf5ddc759e67826b8284a9846.png</td>\n      <td>201408</td>\n      <td>765 days 15:56:15.803000</td>\n      <td>6.615338e+07</td>\n      <td>0.603870</td>\n      <td>0.5574</td>\n    </tr>\n    <tr>\n      <th>...</th>\n      <td>...</td>\n      <td>...</td>\n      <td>...</td>\n      <td>...</td>\n      <td>...</td>\n      <td>...</td>\n      <td>...</td>\n      <td>...</td>\n      <td>...</td>\n      <td>...</td>\n      <td>...</td>\n      <td>...</td>\n      <td>...</td>\n      <td>...</td>\n      <td>...</td>\n      <td>...</td>\n      <td>...</td>\n      <td>...</td>\n      <td>...</td>\n      <td>...</td>\n      <td>...</td>\n    </tr>\n    <tr>\n      <th>62799</th>\n      <td>14059</td>\n      <td>2015-03-27 16:57:13.191</td>\n      <td>2016-04-02 16:24:54.695</td>\n      <td>55158be9616664002c100000</td>\n      <td>It was completely unexpected.</td>\n      <td>A scientist watched a bunch of male baboons di...</td>\n      <td>&lt;p&gt;The baboons show up halfway through. Just g...</td>\n      <td>a-scientist-watched-a-bunch-of-male-baboons-di...</td>\n      <td>5514afe3303261001c4d0000</td>\n      <td>2118</td>\n      <td>...</td>\n      <td>85.4</td>\n      <td>False</td>\n      <td>False</td>\n      <td>He didn't see it coming *at all.*</td>\n      <td>NaN</td>\n      <td>201512</td>\n      <td>371 days 23:27:41.504000</td>\n      <td>3.213886e+07</td>\n      <td>0.047192</td>\n      <td>-0.1027</td>\n    </tr>\n    <tr>\n      <th>62800</th>\n      <td>129829</td>\n      <td>2014-11-02 17:38:46.671</td>\n      <td>2016-04-02 16:31:30.048</td>\n      <td>5456566ab2bd23dced000009</td>\n      <td>Things that matter. Pass 'em on.</td>\n      <td>How To Make The Most Awkward Kid Conversation ...</td>\n      <td>&lt;p&gt;Whether you're a parent or not, protecting ...</td>\n      <td>how-to-make-the-most-awkward-kid-conversation-...</td>\n      <td>545662b209e1045b59000015</td>\n      <td>3871</td>\n      <td>...</td>\n      <td>0.0</td>\n      <td>False</td>\n      <td>False</td>\n      <td>NaN</td>\n      <td>NaN</td>\n      <td>201444</td>\n      <td>516 days 22:52:43.377000</td>\n      <td>4.466476e+07</td>\n      <td>0.252189</td>\n      <td>-0.4188</td>\n    </tr>\n    <tr>\n      <th>62801</th>\n      <td>133246</td>\n      <td>2014-11-25 20:44:40.537</td>\n      <td>2016-04-02 16:31:46.470</td>\n      <td>5474e8ae32376400120c0000</td>\n      <td>What dating a woman with an eating disorder is...</td>\n      <td>A Beautiful And Real Response To A Disgusting ...</td>\n      <td>&lt;p&gt;&lt;strong style=\"background-color: initial;\"&gt;...</td>\n      <td>a-beautiful-and-real-response-to-a-disgusting-...</td>\n      <td>5474b5541631de66cc00004a</td>\n      <td>2985</td>\n      <td>...</td>\n      <td>8.1</td>\n      <td>False</td>\n      <td>False</td>\n      <td>It's time we all heard the truth.</td>\n      <td>NaN</td>\n      <td>201447</td>\n      <td>493 days 19:47:05.933000</td>\n      <td>4.266643e+07</td>\n      <td>0.219485</td>\n      <td>0.1280</td>\n    </tr>\n    <tr>\n      <th>62802</th>\n      <td>1803</td>\n      <td>2015-01-08 03:56:53.527</td>\n      <td>2016-04-02 16:32:06.924</td>\n      <td>54adffc76331630012440000</td>\n      <td>Humans. We're an odd species.</td>\n      <td>The Bizarre Human Tendency That Drew Us To Her...</td>\n      <td>&lt;p&gt;Humans. We're an odd species.&lt;span&gt;&lt;/span&gt;&lt;...</td>\n      <td>the-bizarre-human-tendency-that-drew-us-to-her...</td>\n      <td>54ab1fa962336500152a0000</td>\n      <td>2870</td>\n      <td>...</td>\n      <td>32.0</td>\n      <td>False</td>\n      <td>False</td>\n      <td>In 1987, the world was captivated by one littl...</td>\n      <td>NaN</td>\n      <td>201501</td>\n      <td>450 days 12:35:13.397000</td>\n      <td>3.892531e+07</td>\n      <td>0.158258</td>\n      <td>-0.6705</td>\n    </tr>\n    <tr>\n      <th>62803</th>\n      <td>35566</td>\n      <td>2014-02-24 18:33:45.178</td>\n      <td>2016-04-02 16:26:15.178</td>\n      <td>530b8c33b768517a1400000f</td>\n      <td>We surely can do better than this.</td>\n      <td>17 Disconcerting Facts To Make You Realize How...</td>\n      <td>&lt;p&gt;I love my country. That doesn't mean I thin...</td>\n      <td>17-disconcerting-facts-to-make-you-realize-how...</td>\n      <td>5332f81aa2fc90ead00012d0</td>\n      <td>3029</td>\n      <td>...</td>\n      <td>0.1</td>\n      <td>False</td>\n      <td>False</td>\n      <td>NaN</td>\n      <td>represent3-2-ff82c11b758d44231a79916d8324ce22.jpg</td>\n      <td>201408</td>\n      <td>767 days 21:52:30</td>\n      <td>6.634755e+07</td>\n      <td>0.607048</td>\n      <td>-0.4767</td>\n    </tr>\n  </tbody>\n</table>\n<p>62804 rows × 21 columns</p>\n</div>"
     },
     "execution_count": 183,
     "metadata": {},
     "output_type": "execute_result"
    }
   ],
   "source": [
    "df"
   ],
   "metadata": {
    "collapsed": false
   }
  },
  {
   "cell_type": "markdown",
   "source": [
    "We now calculate the text complexity of the headline. We do so using textstat, and calculate the text complexity using the Flesch Reading Ease and the Flesch-Kincaid Grade Level to obtain a readability score. We also calculate the text complexity score using the Gunning-Fog score, which is the measure that Robertson et al used in their analysis. In addition, we calculate the length of each headline."
   ],
   "metadata": {
    "collapsed": false
   }
  },
  {
   "cell_type": "code",
   "execution_count": 184,
   "outputs": [],
   "source": [
    "import textstat\n",
    "\n",
    "df['flesch_reading'] = df['headline'].apply(lambda x: textstat.flesch_reading_ease(x))\n",
    "df['flesch_kincaid'] = df['headline'].apply(lambda x: textstat.textstat.flesch_kincaid_grade(x))\n",
    "df['gunning_fog'] = df['headline'].apply(lambda x: textstat.gunning_fog(x))\n",
    "df['length'] = df['headline'].apply(lambda x: len(x))\n",
    "\n",
    "df_test['flesch_reading'] = df_test['headline'].apply(lambda x: textstat.flesch_reading_ease(x))\n",
    "df_test['flesch_kincaid'] = df_test['headline'].apply(lambda x: textstat.textstat.flesch_kincaid_grade(x))\n",
    "df_test['gunning_fog'] = df_test['headline'].apply(lambda x: textstat.gunning_fog(x))\n",
    "df_test['length'] = df_test['headline'].apply(lambda x: len(x))"
   ],
   "metadata": {
    "collapsed": false
   }
  },
  {
   "cell_type": "code",
   "execution_count": 185,
   "outputs": [
    {
     "data": {
      "text/plain": "           id               created_at               updated_at  \\\n0      135871  2014-12-14 01:11:50.638  2016-04-02 16:31:58.139   \n1      148756  2014-11-09 19:50:25.589  2016-04-02 16:31:36.967   \n2       38486  2014-03-24 02:19:28.068  2016-04-02 16:26:23.861   \n3      147221  2014-10-20 00:19:19.265  2016-04-02 16:31:12.466   \n4       86092  2014-02-27 00:32:44.843  2016-04-02 16:29:00.646   \n...       ...                      ...                      ...   \n62799   14059  2015-03-27 16:57:13.191  2016-04-02 16:24:54.695   \n62800  129829  2014-11-02 17:38:46.671  2016-04-02 16:31:30.048   \n62801  133246  2014-11-25 20:44:40.537  2016-04-02 16:31:46.470   \n62802    1803  2015-01-08 03:56:53.527  2016-04-02 16:32:06.924   \n62803   35566  2014-02-24 18:33:45.178  2016-04-02 16:26:15.178   \n\n           clickability_test_id  \\\n0      548ce28d6536610018050000   \n1      545fc565dba561926a00000f   \n2      532f93deca310662e3000001   \n3      54445507ecd9a245d8000005   \n4      530e86e775e6a740a500004f   \n...                         ...   \n62799  55158be9616664002c100000   \n62800  5456566ab2bd23dced000009   \n62801  5474e8ae32376400120c0000   \n62802  54adffc76331630012440000   \n62803  530b8c33b768517a1400000f   \n\n                                                 excerpt  \\\n0                                                    NaN   \n1                       Things that matter. Pass 'em on.   \n2         Things that matter. Pass 'em on. #PromotedPost   \n3                       Things that matter. Pass 'em on.   \n4                                The drawings are bonus.   \n...                                                  ...   \n62799                      It was completely unexpected.   \n62800                   Things that matter. Pass 'em on.   \n62801  What dating a woman with an eating disorder is...   \n62802                      Humans. We're an odd species.   \n62803                 We surely can do better than this.   \n\n                                                headline  \\\n0      He Dissed A Rape Victim On National TV And Now...   \n1      You Might Call Jacob A Man With Lipstick. Well...   \n2      I Wouldn't Eat That If I Were You... It's Not ...   \n3      Despite What Happened At The End Of 'Titanic,'...   \n4      Economist Takes 2 Minutes And A Whiteboard To ...   \n...                                                  ...   \n62799  A scientist watched a bunch of male baboons di...   \n62800  How To Make The Most Awkward Kid Conversation ...   \n62801  A Beautiful And Real Response To A Disgusting ...   \n62802  The Bizarre Human Tendency That Drew Us To Her...   \n62803  17 Disconcerting Facts To Make You Realize How...   \n\n                                                    lede  \\\n0      <p>Anytime there's a new sexual assault case b...   \n1      <p>Meet Jacob. You might have met a person lik...   \n2      <p>Is anyone else as excited as I am for the n...   \n3      <p>You can see Leo really cares about what's h...   \n4      <p>I don't think rich people are generally mal...   \n...                                                  ...   \n62799  <p>The baboons show up halfway through. Just g...   \n62800  <p>Whether you're a parent or not, protecting ...   \n62801  <p><strong style=\"background-color: initial;\">...   \n62802  <p>Humans. We're an odd species.<span></span><...   \n62803  <p>I love my country. That doesn't mean I thin...   \n\n                                                    slug  \\\n0      he-dissed-a-rape-victim-on-national-tv-and-now...   \n1      you-might-call-jacob-a-man-with-lipstick-well-...   \n2      i-wouldnt-eat-that-if-i-were-you-its-not-poiso...   \n3      despite-what-happened-at-the-end-of-titanic-le...   \n4      economist-takes-2-minutes-and-a-whiteboard-to-...   \n...                                                  ...   \n62799  a-scientist-watched-a-bunch-of-male-baboons-di...   \n62800  how-to-make-the-most-awkward-kid-conversation-...   \n62801  a-beautiful-and-real-response-to-a-disgusting-...   \n62802  the-bizarre-human-tendency-that-drew-us-to-her...   \n62803  17-disconcerting-facts-to-make-you-realize-how...   \n\n                  eyecatcher_id  impressions  ...  \\\n0      548c6a30333034001b240000         3013  ...   \n1      545dd264f1cb1f440b00001d         3103  ...   \n2      5332ba0d1fae79f09f002be6         2233  ...   \n3      5443f2398996644f84000015         3162  ...   \n4      5332b6591fae79f09f000d6e         3670  ...   \n...                         ...          ...  ...   \n62799  5514afe3303261001c4d0000         2118  ...   \n62800  545662b209e1045b59000015         3871  ...   \n62801  5474b5541631de66cc00004a         2985  ...   \n62802  54ab1fa962336500152a0000         2870  ...   \n62803  5332f81aa2fc90ead00012d0         3029  ...   \n\n                                                  square  test_week  \\\n0                                                    NaN     201450   \n1                                                    NaN     201445   \n2      TakePartChavez20-19a6cac618ec3d3bf0f340ae6eb3d...     201412   \n3                                                    NaN     201442   \n4          benefits-e403880bf5ddc759e67826b8284a9846.png     201408   \n...                                                  ...        ...   \n62799                                                NaN     201512   \n62800                                                NaN     201444   \n62801                                                NaN     201447   \n62802                                                NaN     201501   \n62803  represent3-2-ff82c11b758d44231a79916d8324ce22.jpg     201408   \n\n                      timedelta  timedelta_numeric timedelta_minmax   vader  \\\n0      475 days 15:20:07.501000       4.109521e+07         0.193770 -0.9081   \n1      509 days 20:41:11.378000       4.405207e+07         0.242162  0.2732   \n2      740 days 14:06:55.793000       6.398682e+07         0.568413  0.4310   \n3      530 days 16:11:53.201000       4.585031e+07         0.271592  0.5719   \n4      765 days 15:56:15.803000       6.615338e+07         0.603870  0.5574   \n...                         ...                ...              ...     ...   \n62799  371 days 23:27:41.504000       3.213886e+07         0.047192 -0.1027   \n62800  516 days 22:52:43.377000       4.466476e+07         0.252189 -0.4188   \n62801  493 days 19:47:05.933000       4.266643e+07         0.219485  0.1280   \n62802  450 days 12:35:13.397000       3.892531e+07         0.158258 -0.6705   \n62803         767 days 21:52:30       6.634755e+07         0.607048 -0.4767   \n\n       flesch_reading flesch_kincaid  gunning_fog  length  \n0               88.06            5.2         9.15      79  \n1               91.07            2.0         2.28      89  \n2               97.70            1.5         3.00      78  \n3               71.14            7.6         9.15     100  \n4               71.14            7.6         9.15      99  \n...               ...            ...          ...     ...  \n62799           72.32            5.0         8.33      93  \n62800           69.79            6.0         8.00      58  \n62801           41.36           10.7        11.35      77  \n62802           55.24            9.5        13.90      95  \n62803           45.76           11.1        13.86      96  \n\n[62804 rows x 25 columns]",
      "text/html": "<div>\n<style scoped>\n    .dataframe tbody tr th:only-of-type {\n        vertical-align: middle;\n    }\n\n    .dataframe tbody tr th {\n        vertical-align: top;\n    }\n\n    .dataframe thead th {\n        text-align: right;\n    }\n</style>\n<table border=\"1\" class=\"dataframe\">\n  <thead>\n    <tr style=\"text-align: right;\">\n      <th></th>\n      <th>id</th>\n      <th>created_at</th>\n      <th>updated_at</th>\n      <th>clickability_test_id</th>\n      <th>excerpt</th>\n      <th>headline</th>\n      <th>lede</th>\n      <th>slug</th>\n      <th>eyecatcher_id</th>\n      <th>impressions</th>\n      <th>...</th>\n      <th>square</th>\n      <th>test_week</th>\n      <th>timedelta</th>\n      <th>timedelta_numeric</th>\n      <th>timedelta_minmax</th>\n      <th>vader</th>\n      <th>flesch_reading</th>\n      <th>flesch_kincaid</th>\n      <th>gunning_fog</th>\n      <th>length</th>\n    </tr>\n  </thead>\n  <tbody>\n    <tr>\n      <th>0</th>\n      <td>135871</td>\n      <td>2014-12-14 01:11:50.638</td>\n      <td>2016-04-02 16:31:58.139</td>\n      <td>548ce28d6536610018050000</td>\n      <td>NaN</td>\n      <td>He Dissed A Rape Victim On National TV And Now...</td>\n      <td>&lt;p&gt;Anytime there's a new sexual assault case b...</td>\n      <td>he-dissed-a-rape-victim-on-national-tv-and-now...</td>\n      <td>548c6a30333034001b240000</td>\n      <td>3013</td>\n      <td>...</td>\n      <td>NaN</td>\n      <td>201450</td>\n      <td>475 days 15:20:07.501000</td>\n      <td>4.109521e+07</td>\n      <td>0.193770</td>\n      <td>-0.9081</td>\n      <td>88.06</td>\n      <td>5.2</td>\n      <td>9.15</td>\n      <td>79</td>\n    </tr>\n    <tr>\n      <th>1</th>\n      <td>148756</td>\n      <td>2014-11-09 19:50:25.589</td>\n      <td>2016-04-02 16:31:36.967</td>\n      <td>545fc565dba561926a00000f</td>\n      <td>Things that matter. Pass 'em on.</td>\n      <td>You Might Call Jacob A Man With Lipstick. Well...</td>\n      <td>&lt;p&gt;Meet Jacob. You might have met a person lik...</td>\n      <td>you-might-call-jacob-a-man-with-lipstick-well-...</td>\n      <td>545dd264f1cb1f440b00001d</td>\n      <td>3103</td>\n      <td>...</td>\n      <td>NaN</td>\n      <td>201445</td>\n      <td>509 days 20:41:11.378000</td>\n      <td>4.405207e+07</td>\n      <td>0.242162</td>\n      <td>0.2732</td>\n      <td>91.07</td>\n      <td>2.0</td>\n      <td>2.28</td>\n      <td>89</td>\n    </tr>\n    <tr>\n      <th>2</th>\n      <td>38486</td>\n      <td>2014-03-24 02:19:28.068</td>\n      <td>2016-04-02 16:26:23.861</td>\n      <td>532f93deca310662e3000001</td>\n      <td>Things that matter. Pass 'em on. #PromotedPost</td>\n      <td>I Wouldn't Eat That If I Were You... It's Not ...</td>\n      <td>&lt;p&gt;Is anyone else as excited as I am for the n...</td>\n      <td>i-wouldnt-eat-that-if-i-were-you-its-not-poiso...</td>\n      <td>5332ba0d1fae79f09f002be6</td>\n      <td>2233</td>\n      <td>...</td>\n      <td>TakePartChavez20-19a6cac618ec3d3bf0f340ae6eb3d...</td>\n      <td>201412</td>\n      <td>740 days 14:06:55.793000</td>\n      <td>6.398682e+07</td>\n      <td>0.568413</td>\n      <td>0.4310</td>\n      <td>97.70</td>\n      <td>1.5</td>\n      <td>3.00</td>\n      <td>78</td>\n    </tr>\n    <tr>\n      <th>3</th>\n      <td>147221</td>\n      <td>2014-10-20 00:19:19.265</td>\n      <td>2016-04-02 16:31:12.466</td>\n      <td>54445507ecd9a245d8000005</td>\n      <td>Things that matter. Pass 'em on.</td>\n      <td>Despite What Happened At The End Of 'Titanic,'...</td>\n      <td>&lt;p&gt;You can see Leo really cares about what's h...</td>\n      <td>despite-what-happened-at-the-end-of-titanic-le...</td>\n      <td>5443f2398996644f84000015</td>\n      <td>3162</td>\n      <td>...</td>\n      <td>NaN</td>\n      <td>201442</td>\n      <td>530 days 16:11:53.201000</td>\n      <td>4.585031e+07</td>\n      <td>0.271592</td>\n      <td>0.5719</td>\n      <td>71.14</td>\n      <td>7.6</td>\n      <td>9.15</td>\n      <td>100</td>\n    </tr>\n    <tr>\n      <th>4</th>\n      <td>86092</td>\n      <td>2014-02-27 00:32:44.843</td>\n      <td>2016-04-02 16:29:00.646</td>\n      <td>530e86e775e6a740a500004f</td>\n      <td>The drawings are bonus.</td>\n      <td>Economist Takes 2 Minutes And A Whiteboard To ...</td>\n      <td>&lt;p&gt;I don't think rich people are generally mal...</td>\n      <td>economist-takes-2-minutes-and-a-whiteboard-to-...</td>\n      <td>5332b6591fae79f09f000d6e</td>\n      <td>3670</td>\n      <td>...</td>\n      <td>benefits-e403880bf5ddc759e67826b8284a9846.png</td>\n      <td>201408</td>\n      <td>765 days 15:56:15.803000</td>\n      <td>6.615338e+07</td>\n      <td>0.603870</td>\n      <td>0.5574</td>\n      <td>71.14</td>\n      <td>7.6</td>\n      <td>9.15</td>\n      <td>99</td>\n    </tr>\n    <tr>\n      <th>...</th>\n      <td>...</td>\n      <td>...</td>\n      <td>...</td>\n      <td>...</td>\n      <td>...</td>\n      <td>...</td>\n      <td>...</td>\n      <td>...</td>\n      <td>...</td>\n      <td>...</td>\n      <td>...</td>\n      <td>...</td>\n      <td>...</td>\n      <td>...</td>\n      <td>...</td>\n      <td>...</td>\n      <td>...</td>\n      <td>...</td>\n      <td>...</td>\n      <td>...</td>\n      <td>...</td>\n    </tr>\n    <tr>\n      <th>62799</th>\n      <td>14059</td>\n      <td>2015-03-27 16:57:13.191</td>\n      <td>2016-04-02 16:24:54.695</td>\n      <td>55158be9616664002c100000</td>\n      <td>It was completely unexpected.</td>\n      <td>A scientist watched a bunch of male baboons di...</td>\n      <td>&lt;p&gt;The baboons show up halfway through. Just g...</td>\n      <td>a-scientist-watched-a-bunch-of-male-baboons-di...</td>\n      <td>5514afe3303261001c4d0000</td>\n      <td>2118</td>\n      <td>...</td>\n      <td>NaN</td>\n      <td>201512</td>\n      <td>371 days 23:27:41.504000</td>\n      <td>3.213886e+07</td>\n      <td>0.047192</td>\n      <td>-0.1027</td>\n      <td>72.32</td>\n      <td>5.0</td>\n      <td>8.33</td>\n      <td>93</td>\n    </tr>\n    <tr>\n      <th>62800</th>\n      <td>129829</td>\n      <td>2014-11-02 17:38:46.671</td>\n      <td>2016-04-02 16:31:30.048</td>\n      <td>5456566ab2bd23dced000009</td>\n      <td>Things that matter. Pass 'em on.</td>\n      <td>How To Make The Most Awkward Kid Conversation ...</td>\n      <td>&lt;p&gt;Whether you're a parent or not, protecting ...</td>\n      <td>how-to-make-the-most-awkward-kid-conversation-...</td>\n      <td>545662b209e1045b59000015</td>\n      <td>3871</td>\n      <td>...</td>\n      <td>NaN</td>\n      <td>201444</td>\n      <td>516 days 22:52:43.377000</td>\n      <td>4.466476e+07</td>\n      <td>0.252189</td>\n      <td>-0.4188</td>\n      <td>69.79</td>\n      <td>6.0</td>\n      <td>8.00</td>\n      <td>58</td>\n    </tr>\n    <tr>\n      <th>62801</th>\n      <td>133246</td>\n      <td>2014-11-25 20:44:40.537</td>\n      <td>2016-04-02 16:31:46.470</td>\n      <td>5474e8ae32376400120c0000</td>\n      <td>What dating a woman with an eating disorder is...</td>\n      <td>A Beautiful And Real Response To A Disgusting ...</td>\n      <td>&lt;p&gt;&lt;strong style=\"background-color: initial;\"&gt;...</td>\n      <td>a-beautiful-and-real-response-to-a-disgusting-...</td>\n      <td>5474b5541631de66cc00004a</td>\n      <td>2985</td>\n      <td>...</td>\n      <td>NaN</td>\n      <td>201447</td>\n      <td>493 days 19:47:05.933000</td>\n      <td>4.266643e+07</td>\n      <td>0.219485</td>\n      <td>0.1280</td>\n      <td>41.36</td>\n      <td>10.7</td>\n      <td>11.35</td>\n      <td>77</td>\n    </tr>\n    <tr>\n      <th>62802</th>\n      <td>1803</td>\n      <td>2015-01-08 03:56:53.527</td>\n      <td>2016-04-02 16:32:06.924</td>\n      <td>54adffc76331630012440000</td>\n      <td>Humans. We're an odd species.</td>\n      <td>The Bizarre Human Tendency That Drew Us To Her...</td>\n      <td>&lt;p&gt;Humans. We're an odd species.&lt;span&gt;&lt;/span&gt;&lt;...</td>\n      <td>the-bizarre-human-tendency-that-drew-us-to-her...</td>\n      <td>54ab1fa962336500152a0000</td>\n      <td>2870</td>\n      <td>...</td>\n      <td>NaN</td>\n      <td>201501</td>\n      <td>450 days 12:35:13.397000</td>\n      <td>3.892531e+07</td>\n      <td>0.158258</td>\n      <td>-0.6705</td>\n      <td>55.24</td>\n      <td>9.5</td>\n      <td>13.90</td>\n      <td>95</td>\n    </tr>\n    <tr>\n      <th>62803</th>\n      <td>35566</td>\n      <td>2014-02-24 18:33:45.178</td>\n      <td>2016-04-02 16:26:15.178</td>\n      <td>530b8c33b768517a1400000f</td>\n      <td>We surely can do better than this.</td>\n      <td>17 Disconcerting Facts To Make You Realize How...</td>\n      <td>&lt;p&gt;I love my country. That doesn't mean I thin...</td>\n      <td>17-disconcerting-facts-to-make-you-realize-how...</td>\n      <td>5332f81aa2fc90ead00012d0</td>\n      <td>3029</td>\n      <td>...</td>\n      <td>represent3-2-ff82c11b758d44231a79916d8324ce22.jpg</td>\n      <td>201408</td>\n      <td>767 days 21:52:30</td>\n      <td>6.634755e+07</td>\n      <td>0.607048</td>\n      <td>-0.4767</td>\n      <td>45.76</td>\n      <td>11.1</td>\n      <td>13.86</td>\n      <td>96</td>\n    </tr>\n  </tbody>\n</table>\n<p>62804 rows × 25 columns</p>\n</div>"
     },
     "execution_count": 185,
     "metadata": {},
     "output_type": "execute_result"
    }
   ],
   "source": [
    "df"
   ],
   "metadata": {
    "collapsed": false
   }
  },
  {
   "cell_type": "markdown",
   "source": [
    "We note that the vader, flesch_reading, and flesch_kincaid scores are all within a predefined range. We will therefore only normalize the length of the text and the Gunning Fog scores.\n",
    "\n",
    "We will scale the length of  the text using min-max scaling."
   ],
   "metadata": {
    "collapsed": false
   }
  },
  {
   "cell_type": "code",
   "execution_count": 186,
   "outputs": [],
   "source": [
    "max_length = max(df['length'])\n",
    "min_length = min(df['length'])\n",
    "\n",
    "max_length_test = max(df_test['length'])\n",
    "min_length_test = min(df_test['length'])\n",
    "\n",
    "\n",
    "df['length_minmax'] = (df['length'] - min_length) / (max_length - min_length)\n",
    "df_test['length_minmax'] = (df_test['length'] - min_length_test) / (max_length_test - min_length_test)"
   ],
   "metadata": {
    "collapsed": false
   }
  },
  {
   "cell_type": "code",
   "execution_count": 187,
   "outputs": [
    {
     "data": {
      "text/plain": "           id               created_at               updated_at  \\\n0      135871  2014-12-14 01:11:50.638  2016-04-02 16:31:58.139   \n1      148756  2014-11-09 19:50:25.589  2016-04-02 16:31:36.967   \n2       38486  2014-03-24 02:19:28.068  2016-04-02 16:26:23.861   \n3      147221  2014-10-20 00:19:19.265  2016-04-02 16:31:12.466   \n4       86092  2014-02-27 00:32:44.843  2016-04-02 16:29:00.646   \n...       ...                      ...                      ...   \n62799   14059  2015-03-27 16:57:13.191  2016-04-02 16:24:54.695   \n62800  129829  2014-11-02 17:38:46.671  2016-04-02 16:31:30.048   \n62801  133246  2014-11-25 20:44:40.537  2016-04-02 16:31:46.470   \n62802    1803  2015-01-08 03:56:53.527  2016-04-02 16:32:06.924   \n62803   35566  2014-02-24 18:33:45.178  2016-04-02 16:26:15.178   \n\n           clickability_test_id  \\\n0      548ce28d6536610018050000   \n1      545fc565dba561926a00000f   \n2      532f93deca310662e3000001   \n3      54445507ecd9a245d8000005   \n4      530e86e775e6a740a500004f   \n...                         ...   \n62799  55158be9616664002c100000   \n62800  5456566ab2bd23dced000009   \n62801  5474e8ae32376400120c0000   \n62802  54adffc76331630012440000   \n62803  530b8c33b768517a1400000f   \n\n                                                 excerpt  \\\n0                                                    NaN   \n1                       Things that matter. Pass 'em on.   \n2         Things that matter. Pass 'em on. #PromotedPost   \n3                       Things that matter. Pass 'em on.   \n4                                The drawings are bonus.   \n...                                                  ...   \n62799                      It was completely unexpected.   \n62800                   Things that matter. Pass 'em on.   \n62801  What dating a woman with an eating disorder is...   \n62802                      Humans. We're an odd species.   \n62803                 We surely can do better than this.   \n\n                                                headline  \\\n0      He Dissed A Rape Victim On National TV And Now...   \n1      You Might Call Jacob A Man With Lipstick. Well...   \n2      I Wouldn't Eat That If I Were You... It's Not ...   \n3      Despite What Happened At The End Of 'Titanic,'...   \n4      Economist Takes 2 Minutes And A Whiteboard To ...   \n...                                                  ...   \n62799  A scientist watched a bunch of male baboons di...   \n62800  How To Make The Most Awkward Kid Conversation ...   \n62801  A Beautiful And Real Response To A Disgusting ...   \n62802  The Bizarre Human Tendency That Drew Us To Her...   \n62803  17 Disconcerting Facts To Make You Realize How...   \n\n                                                    lede  \\\n0      <p>Anytime there's a new sexual assault case b...   \n1      <p>Meet Jacob. You might have met a person lik...   \n2      <p>Is anyone else as excited as I am for the n...   \n3      <p>You can see Leo really cares about what's h...   \n4      <p>I don't think rich people are generally mal...   \n...                                                  ...   \n62799  <p>The baboons show up halfway through. Just g...   \n62800  <p>Whether you're a parent or not, protecting ...   \n62801  <p><strong style=\"background-color: initial;\">...   \n62802  <p>Humans. We're an odd species.<span></span><...   \n62803  <p>I love my country. That doesn't mean I thin...   \n\n                                                    slug  \\\n0      he-dissed-a-rape-victim-on-national-tv-and-now...   \n1      you-might-call-jacob-a-man-with-lipstick-well-...   \n2      i-wouldnt-eat-that-if-i-were-you-its-not-poiso...   \n3      despite-what-happened-at-the-end-of-titanic-le...   \n4      economist-takes-2-minutes-and-a-whiteboard-to-...   \n...                                                  ...   \n62799  a-scientist-watched-a-bunch-of-male-baboons-di...   \n62800  how-to-make-the-most-awkward-kid-conversation-...   \n62801  a-beautiful-and-real-response-to-a-disgusting-...   \n62802  the-bizarre-human-tendency-that-drew-us-to-her...   \n62803  17-disconcerting-facts-to-make-you-realize-how...   \n\n                  eyecatcher_id  impressions  ...  test_week  \\\n0      548c6a30333034001b240000         3013  ...     201450   \n1      545dd264f1cb1f440b00001d         3103  ...     201445   \n2      5332ba0d1fae79f09f002be6         2233  ...     201412   \n3      5443f2398996644f84000015         3162  ...     201442   \n4      5332b6591fae79f09f000d6e         3670  ...     201408   \n...                         ...          ...  ...        ...   \n62799  5514afe3303261001c4d0000         2118  ...     201512   \n62800  545662b209e1045b59000015         3871  ...     201444   \n62801  5474b5541631de66cc00004a         2985  ...     201447   \n62802  54ab1fa962336500152a0000         2870  ...     201501   \n62803  5332f81aa2fc90ead00012d0         3029  ...     201408   \n\n                      timedelta  timedelta_numeric  timedelta_minmax   vader  \\\n0      475 days 15:20:07.501000       4.109521e+07          0.193770 -0.9081   \n1      509 days 20:41:11.378000       4.405207e+07          0.242162  0.2732   \n2      740 days 14:06:55.793000       6.398682e+07          0.568413  0.4310   \n3      530 days 16:11:53.201000       4.585031e+07          0.271592  0.5719   \n4      765 days 15:56:15.803000       6.615338e+07          0.603870  0.5574   \n...                         ...                ...               ...     ...   \n62799  371 days 23:27:41.504000       3.213886e+07          0.047192 -0.1027   \n62800  516 days 22:52:43.377000       4.466476e+07          0.252189 -0.4188   \n62801  493 days 19:47:05.933000       4.266643e+07          0.219485  0.1280   \n62802  450 days 12:35:13.397000       3.892531e+07          0.158258 -0.6705   \n62803         767 days 21:52:30       6.634755e+07          0.607048 -0.4767   \n\n      flesch_reading  flesch_kincaid gunning_fog  length  length_minmax  \n0              88.06             5.2        9.15      79       0.554745  \n1              91.07             2.0        2.28      89       0.627737  \n2              97.70             1.5        3.00      78       0.547445  \n3              71.14             7.6        9.15     100       0.708029  \n4              71.14             7.6        9.15      99       0.700730  \n...              ...             ...         ...     ...            ...  \n62799          72.32             5.0        8.33      93       0.656934  \n62800          69.79             6.0        8.00      58       0.401460  \n62801          41.36            10.7       11.35      77       0.540146  \n62802          55.24             9.5       13.90      95       0.671533  \n62803          45.76            11.1       13.86      96       0.678832  \n\n[62804 rows x 26 columns]",
      "text/html": "<div>\n<style scoped>\n    .dataframe tbody tr th:only-of-type {\n        vertical-align: middle;\n    }\n\n    .dataframe tbody tr th {\n        vertical-align: top;\n    }\n\n    .dataframe thead th {\n        text-align: right;\n    }\n</style>\n<table border=\"1\" class=\"dataframe\">\n  <thead>\n    <tr style=\"text-align: right;\">\n      <th></th>\n      <th>id</th>\n      <th>created_at</th>\n      <th>updated_at</th>\n      <th>clickability_test_id</th>\n      <th>excerpt</th>\n      <th>headline</th>\n      <th>lede</th>\n      <th>slug</th>\n      <th>eyecatcher_id</th>\n      <th>impressions</th>\n      <th>...</th>\n      <th>test_week</th>\n      <th>timedelta</th>\n      <th>timedelta_numeric</th>\n      <th>timedelta_minmax</th>\n      <th>vader</th>\n      <th>flesch_reading</th>\n      <th>flesch_kincaid</th>\n      <th>gunning_fog</th>\n      <th>length</th>\n      <th>length_minmax</th>\n    </tr>\n  </thead>\n  <tbody>\n    <tr>\n      <th>0</th>\n      <td>135871</td>\n      <td>2014-12-14 01:11:50.638</td>\n      <td>2016-04-02 16:31:58.139</td>\n      <td>548ce28d6536610018050000</td>\n      <td>NaN</td>\n      <td>He Dissed A Rape Victim On National TV And Now...</td>\n      <td>&lt;p&gt;Anytime there's a new sexual assault case b...</td>\n      <td>he-dissed-a-rape-victim-on-national-tv-and-now...</td>\n      <td>548c6a30333034001b240000</td>\n      <td>3013</td>\n      <td>...</td>\n      <td>201450</td>\n      <td>475 days 15:20:07.501000</td>\n      <td>4.109521e+07</td>\n      <td>0.193770</td>\n      <td>-0.9081</td>\n      <td>88.06</td>\n      <td>5.2</td>\n      <td>9.15</td>\n      <td>79</td>\n      <td>0.554745</td>\n    </tr>\n    <tr>\n      <th>1</th>\n      <td>148756</td>\n      <td>2014-11-09 19:50:25.589</td>\n      <td>2016-04-02 16:31:36.967</td>\n      <td>545fc565dba561926a00000f</td>\n      <td>Things that matter. Pass 'em on.</td>\n      <td>You Might Call Jacob A Man With Lipstick. Well...</td>\n      <td>&lt;p&gt;Meet Jacob. You might have met a person lik...</td>\n      <td>you-might-call-jacob-a-man-with-lipstick-well-...</td>\n      <td>545dd264f1cb1f440b00001d</td>\n      <td>3103</td>\n      <td>...</td>\n      <td>201445</td>\n      <td>509 days 20:41:11.378000</td>\n      <td>4.405207e+07</td>\n      <td>0.242162</td>\n      <td>0.2732</td>\n      <td>91.07</td>\n      <td>2.0</td>\n      <td>2.28</td>\n      <td>89</td>\n      <td>0.627737</td>\n    </tr>\n    <tr>\n      <th>2</th>\n      <td>38486</td>\n      <td>2014-03-24 02:19:28.068</td>\n      <td>2016-04-02 16:26:23.861</td>\n      <td>532f93deca310662e3000001</td>\n      <td>Things that matter. Pass 'em on. #PromotedPost</td>\n      <td>I Wouldn't Eat That If I Were You... It's Not ...</td>\n      <td>&lt;p&gt;Is anyone else as excited as I am for the n...</td>\n      <td>i-wouldnt-eat-that-if-i-were-you-its-not-poiso...</td>\n      <td>5332ba0d1fae79f09f002be6</td>\n      <td>2233</td>\n      <td>...</td>\n      <td>201412</td>\n      <td>740 days 14:06:55.793000</td>\n      <td>6.398682e+07</td>\n      <td>0.568413</td>\n      <td>0.4310</td>\n      <td>97.70</td>\n      <td>1.5</td>\n      <td>3.00</td>\n      <td>78</td>\n      <td>0.547445</td>\n    </tr>\n    <tr>\n      <th>3</th>\n      <td>147221</td>\n      <td>2014-10-20 00:19:19.265</td>\n      <td>2016-04-02 16:31:12.466</td>\n      <td>54445507ecd9a245d8000005</td>\n      <td>Things that matter. Pass 'em on.</td>\n      <td>Despite What Happened At The End Of 'Titanic,'...</td>\n      <td>&lt;p&gt;You can see Leo really cares about what's h...</td>\n      <td>despite-what-happened-at-the-end-of-titanic-le...</td>\n      <td>5443f2398996644f84000015</td>\n      <td>3162</td>\n      <td>...</td>\n      <td>201442</td>\n      <td>530 days 16:11:53.201000</td>\n      <td>4.585031e+07</td>\n      <td>0.271592</td>\n      <td>0.5719</td>\n      <td>71.14</td>\n      <td>7.6</td>\n      <td>9.15</td>\n      <td>100</td>\n      <td>0.708029</td>\n    </tr>\n    <tr>\n      <th>4</th>\n      <td>86092</td>\n      <td>2014-02-27 00:32:44.843</td>\n      <td>2016-04-02 16:29:00.646</td>\n      <td>530e86e775e6a740a500004f</td>\n      <td>The drawings are bonus.</td>\n      <td>Economist Takes 2 Minutes And A Whiteboard To ...</td>\n      <td>&lt;p&gt;I don't think rich people are generally mal...</td>\n      <td>economist-takes-2-minutes-and-a-whiteboard-to-...</td>\n      <td>5332b6591fae79f09f000d6e</td>\n      <td>3670</td>\n      <td>...</td>\n      <td>201408</td>\n      <td>765 days 15:56:15.803000</td>\n      <td>6.615338e+07</td>\n      <td>0.603870</td>\n      <td>0.5574</td>\n      <td>71.14</td>\n      <td>7.6</td>\n      <td>9.15</td>\n      <td>99</td>\n      <td>0.700730</td>\n    </tr>\n    <tr>\n      <th>...</th>\n      <td>...</td>\n      <td>...</td>\n      <td>...</td>\n      <td>...</td>\n      <td>...</td>\n      <td>...</td>\n      <td>...</td>\n      <td>...</td>\n      <td>...</td>\n      <td>...</td>\n      <td>...</td>\n      <td>...</td>\n      <td>...</td>\n      <td>...</td>\n      <td>...</td>\n      <td>...</td>\n      <td>...</td>\n      <td>...</td>\n      <td>...</td>\n      <td>...</td>\n      <td>...</td>\n    </tr>\n    <tr>\n      <th>62799</th>\n      <td>14059</td>\n      <td>2015-03-27 16:57:13.191</td>\n      <td>2016-04-02 16:24:54.695</td>\n      <td>55158be9616664002c100000</td>\n      <td>It was completely unexpected.</td>\n      <td>A scientist watched a bunch of male baboons di...</td>\n      <td>&lt;p&gt;The baboons show up halfway through. Just g...</td>\n      <td>a-scientist-watched-a-bunch-of-male-baboons-di...</td>\n      <td>5514afe3303261001c4d0000</td>\n      <td>2118</td>\n      <td>...</td>\n      <td>201512</td>\n      <td>371 days 23:27:41.504000</td>\n      <td>3.213886e+07</td>\n      <td>0.047192</td>\n      <td>-0.1027</td>\n      <td>72.32</td>\n      <td>5.0</td>\n      <td>8.33</td>\n      <td>93</td>\n      <td>0.656934</td>\n    </tr>\n    <tr>\n      <th>62800</th>\n      <td>129829</td>\n      <td>2014-11-02 17:38:46.671</td>\n      <td>2016-04-02 16:31:30.048</td>\n      <td>5456566ab2bd23dced000009</td>\n      <td>Things that matter. Pass 'em on.</td>\n      <td>How To Make The Most Awkward Kid Conversation ...</td>\n      <td>&lt;p&gt;Whether you're a parent or not, protecting ...</td>\n      <td>how-to-make-the-most-awkward-kid-conversation-...</td>\n      <td>545662b209e1045b59000015</td>\n      <td>3871</td>\n      <td>...</td>\n      <td>201444</td>\n      <td>516 days 22:52:43.377000</td>\n      <td>4.466476e+07</td>\n      <td>0.252189</td>\n      <td>-0.4188</td>\n      <td>69.79</td>\n      <td>6.0</td>\n      <td>8.00</td>\n      <td>58</td>\n      <td>0.401460</td>\n    </tr>\n    <tr>\n      <th>62801</th>\n      <td>133246</td>\n      <td>2014-11-25 20:44:40.537</td>\n      <td>2016-04-02 16:31:46.470</td>\n      <td>5474e8ae32376400120c0000</td>\n      <td>What dating a woman with an eating disorder is...</td>\n      <td>A Beautiful And Real Response To A Disgusting ...</td>\n      <td>&lt;p&gt;&lt;strong style=\"background-color: initial;\"&gt;...</td>\n      <td>a-beautiful-and-real-response-to-a-disgusting-...</td>\n      <td>5474b5541631de66cc00004a</td>\n      <td>2985</td>\n      <td>...</td>\n      <td>201447</td>\n      <td>493 days 19:47:05.933000</td>\n      <td>4.266643e+07</td>\n      <td>0.219485</td>\n      <td>0.1280</td>\n      <td>41.36</td>\n      <td>10.7</td>\n      <td>11.35</td>\n      <td>77</td>\n      <td>0.540146</td>\n    </tr>\n    <tr>\n      <th>62802</th>\n      <td>1803</td>\n      <td>2015-01-08 03:56:53.527</td>\n      <td>2016-04-02 16:32:06.924</td>\n      <td>54adffc76331630012440000</td>\n      <td>Humans. We're an odd species.</td>\n      <td>The Bizarre Human Tendency That Drew Us To Her...</td>\n      <td>&lt;p&gt;Humans. We're an odd species.&lt;span&gt;&lt;/span&gt;&lt;...</td>\n      <td>the-bizarre-human-tendency-that-drew-us-to-her...</td>\n      <td>54ab1fa962336500152a0000</td>\n      <td>2870</td>\n      <td>...</td>\n      <td>201501</td>\n      <td>450 days 12:35:13.397000</td>\n      <td>3.892531e+07</td>\n      <td>0.158258</td>\n      <td>-0.6705</td>\n      <td>55.24</td>\n      <td>9.5</td>\n      <td>13.90</td>\n      <td>95</td>\n      <td>0.671533</td>\n    </tr>\n    <tr>\n      <th>62803</th>\n      <td>35566</td>\n      <td>2014-02-24 18:33:45.178</td>\n      <td>2016-04-02 16:26:15.178</td>\n      <td>530b8c33b768517a1400000f</td>\n      <td>We surely can do better than this.</td>\n      <td>17 Disconcerting Facts To Make You Realize How...</td>\n      <td>&lt;p&gt;I love my country. That doesn't mean I thin...</td>\n      <td>17-disconcerting-facts-to-make-you-realize-how...</td>\n      <td>5332f81aa2fc90ead00012d0</td>\n      <td>3029</td>\n      <td>...</td>\n      <td>201408</td>\n      <td>767 days 21:52:30</td>\n      <td>6.634755e+07</td>\n      <td>0.607048</td>\n      <td>-0.4767</td>\n      <td>45.76</td>\n      <td>11.1</td>\n      <td>13.86</td>\n      <td>96</td>\n      <td>0.678832</td>\n    </tr>\n  </tbody>\n</table>\n<p>62804 rows × 26 columns</p>\n</div>"
     },
     "execution_count": 187,
     "metadata": {},
     "output_type": "execute_result"
    }
   ],
   "source": [
    "df"
   ],
   "metadata": {
    "collapsed": false
   }
  },
  {
   "cell_type": "markdown",
   "source": [
    "We will normalize the Gunning Fog scores by z-scaling them."
   ],
   "metadata": {
    "collapsed": false
   }
  },
  {
   "cell_type": "code",
   "execution_count": 188,
   "outputs": [],
   "source": [
    "df['gunning_fog_standardized'] = (df['gunning_fog'] - df['gunning_fog'].mean()) / df['gunning_fog'].std()\n",
    "\n",
    "df_test['gunning_fog_standardized'] = (df_test['gunning_fog'] - df_test['gunning_fog'].mean()) / df_test['gunning_fog'].std()"
   ],
   "metadata": {
    "collapsed": false
   }
  },
  {
   "cell_type": "code",
   "execution_count": 189,
   "outputs": [
    {
     "data": {
      "text/plain": "           id               created_at               updated_at  \\\n0      135871  2014-12-14 01:11:50.638  2016-04-02 16:31:58.139   \n1      148756  2014-11-09 19:50:25.589  2016-04-02 16:31:36.967   \n2       38486  2014-03-24 02:19:28.068  2016-04-02 16:26:23.861   \n3      147221  2014-10-20 00:19:19.265  2016-04-02 16:31:12.466   \n4       86092  2014-02-27 00:32:44.843  2016-04-02 16:29:00.646   \n...       ...                      ...                      ...   \n62799   14059  2015-03-27 16:57:13.191  2016-04-02 16:24:54.695   \n62800  129829  2014-11-02 17:38:46.671  2016-04-02 16:31:30.048   \n62801  133246  2014-11-25 20:44:40.537  2016-04-02 16:31:46.470   \n62802    1803  2015-01-08 03:56:53.527  2016-04-02 16:32:06.924   \n62803   35566  2014-02-24 18:33:45.178  2016-04-02 16:26:15.178   \n\n           clickability_test_id  \\\n0      548ce28d6536610018050000   \n1      545fc565dba561926a00000f   \n2      532f93deca310662e3000001   \n3      54445507ecd9a245d8000005   \n4      530e86e775e6a740a500004f   \n...                         ...   \n62799  55158be9616664002c100000   \n62800  5456566ab2bd23dced000009   \n62801  5474e8ae32376400120c0000   \n62802  54adffc76331630012440000   \n62803  530b8c33b768517a1400000f   \n\n                                                 excerpt  \\\n0                                                    NaN   \n1                       Things that matter. Pass 'em on.   \n2         Things that matter. Pass 'em on. #PromotedPost   \n3                       Things that matter. Pass 'em on.   \n4                                The drawings are bonus.   \n...                                                  ...   \n62799                      It was completely unexpected.   \n62800                   Things that matter. Pass 'em on.   \n62801  What dating a woman with an eating disorder is...   \n62802                      Humans. We're an odd species.   \n62803                 We surely can do better than this.   \n\n                                                headline  \\\n0      He Dissed A Rape Victim On National TV And Now...   \n1      You Might Call Jacob A Man With Lipstick. Well...   \n2      I Wouldn't Eat That If I Were You... It's Not ...   \n3      Despite What Happened At The End Of 'Titanic,'...   \n4      Economist Takes 2 Minutes And A Whiteboard To ...   \n...                                                  ...   \n62799  A scientist watched a bunch of male baboons di...   \n62800  How To Make The Most Awkward Kid Conversation ...   \n62801  A Beautiful And Real Response To A Disgusting ...   \n62802  The Bizarre Human Tendency That Drew Us To Her...   \n62803  17 Disconcerting Facts To Make You Realize How...   \n\n                                                    lede  \\\n0      <p>Anytime there's a new sexual assault case b...   \n1      <p>Meet Jacob. You might have met a person lik...   \n2      <p>Is anyone else as excited as I am for the n...   \n3      <p>You can see Leo really cares about what's h...   \n4      <p>I don't think rich people are generally mal...   \n...                                                  ...   \n62799  <p>The baboons show up halfway through. Just g...   \n62800  <p>Whether you're a parent or not, protecting ...   \n62801  <p><strong style=\"background-color: initial;\">...   \n62802  <p>Humans. We're an odd species.<span></span><...   \n62803  <p>I love my country. That doesn't mean I thin...   \n\n                                                    slug  \\\n0      he-dissed-a-rape-victim-on-national-tv-and-now...   \n1      you-might-call-jacob-a-man-with-lipstick-well-...   \n2      i-wouldnt-eat-that-if-i-were-you-its-not-poiso...   \n3      despite-what-happened-at-the-end-of-titanic-le...   \n4      economist-takes-2-minutes-and-a-whiteboard-to-...   \n...                                                  ...   \n62799  a-scientist-watched-a-bunch-of-male-baboons-di...   \n62800  how-to-make-the-most-awkward-kid-conversation-...   \n62801  a-beautiful-and-real-response-to-a-disgusting-...   \n62802  the-bizarre-human-tendency-that-drew-us-to-her...   \n62803  17-disconcerting-facts-to-make-you-realize-how...   \n\n                  eyecatcher_id  impressions  ...                 timedelta  \\\n0      548c6a30333034001b240000         3013  ...  475 days 15:20:07.501000   \n1      545dd264f1cb1f440b00001d         3103  ...  509 days 20:41:11.378000   \n2      5332ba0d1fae79f09f002be6         2233  ...  740 days 14:06:55.793000   \n3      5443f2398996644f84000015         3162  ...  530 days 16:11:53.201000   \n4      5332b6591fae79f09f000d6e         3670  ...  765 days 15:56:15.803000   \n...                         ...          ...  ...                       ...   \n62799  5514afe3303261001c4d0000         2118  ...  371 days 23:27:41.504000   \n62800  545662b209e1045b59000015         3871  ...  516 days 22:52:43.377000   \n62801  5474b5541631de66cc00004a         2985  ...  493 days 19:47:05.933000   \n62802  54ab1fa962336500152a0000         2870  ...  450 days 12:35:13.397000   \n62803  5332f81aa2fc90ead00012d0         3029  ...         767 days 21:52:30   \n\n       timedelta_numeric  timedelta_minmax   vader flesch_reading  \\\n0           4.109521e+07          0.193770 -0.9081          88.06   \n1           4.405207e+07          0.242162  0.2732          91.07   \n2           6.398682e+07          0.568413  0.4310          97.70   \n3           4.585031e+07          0.271592  0.5719          71.14   \n4           6.615338e+07          0.603870  0.5574          71.14   \n...                  ...               ...     ...            ...   \n62799       3.213886e+07          0.047192 -0.1027          72.32   \n62800       4.466476e+07          0.252189 -0.4188          69.79   \n62801       4.266643e+07          0.219485  0.1280          41.36   \n62802       3.892531e+07          0.158258 -0.6705          55.24   \n62803       6.634755e+07          0.607048 -0.4767          45.76   \n\n      flesch_kincaid  gunning_fog length  length_minmax  \\\n0                5.2         9.15     79       0.554745   \n1                2.0         2.28     89       0.627737   \n2                1.5         3.00     78       0.547445   \n3                7.6         9.15    100       0.708029   \n4                7.6         9.15     99       0.700730   \n...              ...          ...    ...            ...   \n62799            5.0         8.33     93       0.656934   \n62800            6.0         8.00     58       0.401460   \n62801           10.7        11.35     77       0.540146   \n62802            9.5        13.90     95       0.671533   \n62803           11.1        13.86     96       0.678832   \n\n       gunning_fog_standardized  \n0                      0.664763  \n1                     -1.603525  \n2                     -1.365801  \n3                      0.664763  \n4                      0.664763  \n...                         ...  \n62799                  0.394021  \n62800                  0.285064  \n62801                  1.391144  \n62802                  2.233085  \n62803                  2.219878  \n\n[62804 rows x 27 columns]",
      "text/html": "<div>\n<style scoped>\n    .dataframe tbody tr th:only-of-type {\n        vertical-align: middle;\n    }\n\n    .dataframe tbody tr th {\n        vertical-align: top;\n    }\n\n    .dataframe thead th {\n        text-align: right;\n    }\n</style>\n<table border=\"1\" class=\"dataframe\">\n  <thead>\n    <tr style=\"text-align: right;\">\n      <th></th>\n      <th>id</th>\n      <th>created_at</th>\n      <th>updated_at</th>\n      <th>clickability_test_id</th>\n      <th>excerpt</th>\n      <th>headline</th>\n      <th>lede</th>\n      <th>slug</th>\n      <th>eyecatcher_id</th>\n      <th>impressions</th>\n      <th>...</th>\n      <th>timedelta</th>\n      <th>timedelta_numeric</th>\n      <th>timedelta_minmax</th>\n      <th>vader</th>\n      <th>flesch_reading</th>\n      <th>flesch_kincaid</th>\n      <th>gunning_fog</th>\n      <th>length</th>\n      <th>length_minmax</th>\n      <th>gunning_fog_standardized</th>\n    </tr>\n  </thead>\n  <tbody>\n    <tr>\n      <th>0</th>\n      <td>135871</td>\n      <td>2014-12-14 01:11:50.638</td>\n      <td>2016-04-02 16:31:58.139</td>\n      <td>548ce28d6536610018050000</td>\n      <td>NaN</td>\n      <td>He Dissed A Rape Victim On National TV And Now...</td>\n      <td>&lt;p&gt;Anytime there's a new sexual assault case b...</td>\n      <td>he-dissed-a-rape-victim-on-national-tv-and-now...</td>\n      <td>548c6a30333034001b240000</td>\n      <td>3013</td>\n      <td>...</td>\n      <td>475 days 15:20:07.501000</td>\n      <td>4.109521e+07</td>\n      <td>0.193770</td>\n      <td>-0.9081</td>\n      <td>88.06</td>\n      <td>5.2</td>\n      <td>9.15</td>\n      <td>79</td>\n      <td>0.554745</td>\n      <td>0.664763</td>\n    </tr>\n    <tr>\n      <th>1</th>\n      <td>148756</td>\n      <td>2014-11-09 19:50:25.589</td>\n      <td>2016-04-02 16:31:36.967</td>\n      <td>545fc565dba561926a00000f</td>\n      <td>Things that matter. Pass 'em on.</td>\n      <td>You Might Call Jacob A Man With Lipstick. Well...</td>\n      <td>&lt;p&gt;Meet Jacob. You might have met a person lik...</td>\n      <td>you-might-call-jacob-a-man-with-lipstick-well-...</td>\n      <td>545dd264f1cb1f440b00001d</td>\n      <td>3103</td>\n      <td>...</td>\n      <td>509 days 20:41:11.378000</td>\n      <td>4.405207e+07</td>\n      <td>0.242162</td>\n      <td>0.2732</td>\n      <td>91.07</td>\n      <td>2.0</td>\n      <td>2.28</td>\n      <td>89</td>\n      <td>0.627737</td>\n      <td>-1.603525</td>\n    </tr>\n    <tr>\n      <th>2</th>\n      <td>38486</td>\n      <td>2014-03-24 02:19:28.068</td>\n      <td>2016-04-02 16:26:23.861</td>\n      <td>532f93deca310662e3000001</td>\n      <td>Things that matter. Pass 'em on. #PromotedPost</td>\n      <td>I Wouldn't Eat That If I Were You... It's Not ...</td>\n      <td>&lt;p&gt;Is anyone else as excited as I am for the n...</td>\n      <td>i-wouldnt-eat-that-if-i-were-you-its-not-poiso...</td>\n      <td>5332ba0d1fae79f09f002be6</td>\n      <td>2233</td>\n      <td>...</td>\n      <td>740 days 14:06:55.793000</td>\n      <td>6.398682e+07</td>\n      <td>0.568413</td>\n      <td>0.4310</td>\n      <td>97.70</td>\n      <td>1.5</td>\n      <td>3.00</td>\n      <td>78</td>\n      <td>0.547445</td>\n      <td>-1.365801</td>\n    </tr>\n    <tr>\n      <th>3</th>\n      <td>147221</td>\n      <td>2014-10-20 00:19:19.265</td>\n      <td>2016-04-02 16:31:12.466</td>\n      <td>54445507ecd9a245d8000005</td>\n      <td>Things that matter. Pass 'em on.</td>\n      <td>Despite What Happened At The End Of 'Titanic,'...</td>\n      <td>&lt;p&gt;You can see Leo really cares about what's h...</td>\n      <td>despite-what-happened-at-the-end-of-titanic-le...</td>\n      <td>5443f2398996644f84000015</td>\n      <td>3162</td>\n      <td>...</td>\n      <td>530 days 16:11:53.201000</td>\n      <td>4.585031e+07</td>\n      <td>0.271592</td>\n      <td>0.5719</td>\n      <td>71.14</td>\n      <td>7.6</td>\n      <td>9.15</td>\n      <td>100</td>\n      <td>0.708029</td>\n      <td>0.664763</td>\n    </tr>\n    <tr>\n      <th>4</th>\n      <td>86092</td>\n      <td>2014-02-27 00:32:44.843</td>\n      <td>2016-04-02 16:29:00.646</td>\n      <td>530e86e775e6a740a500004f</td>\n      <td>The drawings are bonus.</td>\n      <td>Economist Takes 2 Minutes And A Whiteboard To ...</td>\n      <td>&lt;p&gt;I don't think rich people are generally mal...</td>\n      <td>economist-takes-2-minutes-and-a-whiteboard-to-...</td>\n      <td>5332b6591fae79f09f000d6e</td>\n      <td>3670</td>\n      <td>...</td>\n      <td>765 days 15:56:15.803000</td>\n      <td>6.615338e+07</td>\n      <td>0.603870</td>\n      <td>0.5574</td>\n      <td>71.14</td>\n      <td>7.6</td>\n      <td>9.15</td>\n      <td>99</td>\n      <td>0.700730</td>\n      <td>0.664763</td>\n    </tr>\n    <tr>\n      <th>...</th>\n      <td>...</td>\n      <td>...</td>\n      <td>...</td>\n      <td>...</td>\n      <td>...</td>\n      <td>...</td>\n      <td>...</td>\n      <td>...</td>\n      <td>...</td>\n      <td>...</td>\n      <td>...</td>\n      <td>...</td>\n      <td>...</td>\n      <td>...</td>\n      <td>...</td>\n      <td>...</td>\n      <td>...</td>\n      <td>...</td>\n      <td>...</td>\n      <td>...</td>\n      <td>...</td>\n    </tr>\n    <tr>\n      <th>62799</th>\n      <td>14059</td>\n      <td>2015-03-27 16:57:13.191</td>\n      <td>2016-04-02 16:24:54.695</td>\n      <td>55158be9616664002c100000</td>\n      <td>It was completely unexpected.</td>\n      <td>A scientist watched a bunch of male baboons di...</td>\n      <td>&lt;p&gt;The baboons show up halfway through. Just g...</td>\n      <td>a-scientist-watched-a-bunch-of-male-baboons-di...</td>\n      <td>5514afe3303261001c4d0000</td>\n      <td>2118</td>\n      <td>...</td>\n      <td>371 days 23:27:41.504000</td>\n      <td>3.213886e+07</td>\n      <td>0.047192</td>\n      <td>-0.1027</td>\n      <td>72.32</td>\n      <td>5.0</td>\n      <td>8.33</td>\n      <td>93</td>\n      <td>0.656934</td>\n      <td>0.394021</td>\n    </tr>\n    <tr>\n      <th>62800</th>\n      <td>129829</td>\n      <td>2014-11-02 17:38:46.671</td>\n      <td>2016-04-02 16:31:30.048</td>\n      <td>5456566ab2bd23dced000009</td>\n      <td>Things that matter. Pass 'em on.</td>\n      <td>How To Make The Most Awkward Kid Conversation ...</td>\n      <td>&lt;p&gt;Whether you're a parent or not, protecting ...</td>\n      <td>how-to-make-the-most-awkward-kid-conversation-...</td>\n      <td>545662b209e1045b59000015</td>\n      <td>3871</td>\n      <td>...</td>\n      <td>516 days 22:52:43.377000</td>\n      <td>4.466476e+07</td>\n      <td>0.252189</td>\n      <td>-0.4188</td>\n      <td>69.79</td>\n      <td>6.0</td>\n      <td>8.00</td>\n      <td>58</td>\n      <td>0.401460</td>\n      <td>0.285064</td>\n    </tr>\n    <tr>\n      <th>62801</th>\n      <td>133246</td>\n      <td>2014-11-25 20:44:40.537</td>\n      <td>2016-04-02 16:31:46.470</td>\n      <td>5474e8ae32376400120c0000</td>\n      <td>What dating a woman with an eating disorder is...</td>\n      <td>A Beautiful And Real Response To A Disgusting ...</td>\n      <td>&lt;p&gt;&lt;strong style=\"background-color: initial;\"&gt;...</td>\n      <td>a-beautiful-and-real-response-to-a-disgusting-...</td>\n      <td>5474b5541631de66cc00004a</td>\n      <td>2985</td>\n      <td>...</td>\n      <td>493 days 19:47:05.933000</td>\n      <td>4.266643e+07</td>\n      <td>0.219485</td>\n      <td>0.1280</td>\n      <td>41.36</td>\n      <td>10.7</td>\n      <td>11.35</td>\n      <td>77</td>\n      <td>0.540146</td>\n      <td>1.391144</td>\n    </tr>\n    <tr>\n      <th>62802</th>\n      <td>1803</td>\n      <td>2015-01-08 03:56:53.527</td>\n      <td>2016-04-02 16:32:06.924</td>\n      <td>54adffc76331630012440000</td>\n      <td>Humans. We're an odd species.</td>\n      <td>The Bizarre Human Tendency That Drew Us To Her...</td>\n      <td>&lt;p&gt;Humans. We're an odd species.&lt;span&gt;&lt;/span&gt;&lt;...</td>\n      <td>the-bizarre-human-tendency-that-drew-us-to-her...</td>\n      <td>54ab1fa962336500152a0000</td>\n      <td>2870</td>\n      <td>...</td>\n      <td>450 days 12:35:13.397000</td>\n      <td>3.892531e+07</td>\n      <td>0.158258</td>\n      <td>-0.6705</td>\n      <td>55.24</td>\n      <td>9.5</td>\n      <td>13.90</td>\n      <td>95</td>\n      <td>0.671533</td>\n      <td>2.233085</td>\n    </tr>\n    <tr>\n      <th>62803</th>\n      <td>35566</td>\n      <td>2014-02-24 18:33:45.178</td>\n      <td>2016-04-02 16:26:15.178</td>\n      <td>530b8c33b768517a1400000f</td>\n      <td>We surely can do better than this.</td>\n      <td>17 Disconcerting Facts To Make You Realize How...</td>\n      <td>&lt;p&gt;I love my country. That doesn't mean I thin...</td>\n      <td>17-disconcerting-facts-to-make-you-realize-how...</td>\n      <td>5332f81aa2fc90ead00012d0</td>\n      <td>3029</td>\n      <td>...</td>\n      <td>767 days 21:52:30</td>\n      <td>6.634755e+07</td>\n      <td>0.607048</td>\n      <td>-0.4767</td>\n      <td>45.76</td>\n      <td>11.1</td>\n      <td>13.86</td>\n      <td>96</td>\n      <td>0.678832</td>\n      <td>2.219878</td>\n    </tr>\n  </tbody>\n</table>\n<p>62804 rows × 27 columns</p>\n</div>"
     },
     "execution_count": 189,
     "metadata": {},
     "output_type": "execute_result"
    }
   ],
   "source": [
    "df"
   ],
   "metadata": {
    "collapsed": false
   }
  },
  {
   "cell_type": "markdown",
   "source": [
    "Given that flesch_reading, flesch_kincaid, and gunning_fog are all similar measures, we will only select one measure for use. In this instance, we will use the flesch_reading score in our regression analysis."
   ],
   "metadata": {
    "collapsed": false
   }
  },
  {
   "cell_type": "markdown",
   "source": [
    "Now, we run a linear regression, leveraging Lasso to select our features."
   ],
   "metadata": {
    "collapsed": false
   }
  },
  {
   "cell_type": "code",
   "execution_count": 190,
   "outputs": [
    {
     "name": "stdout",
     "output_type": "stream",
     "text": [
      "<class 'pandas.core.frame.DataFrame'>\n",
      "RangeIndex: 62804 entries, 0 to 62803\n",
      "Data columns (total 27 columns):\n",
      " #   Column                    Non-Null Count  Dtype  \n",
      "---  ------                    --------------  -----  \n",
      " 0   id                        62804 non-null  int64  \n",
      " 1   created_at                62804 non-null  object \n",
      " 2   updated_at                62804 non-null  object \n",
      " 3   clickability_test_id      62804 non-null  object \n",
      " 4   excerpt                   56308 non-null  object \n",
      " 5   headline                  62804 non-null  object \n",
      " 6   lede                      62748 non-null  object \n",
      " 7   slug                      62804 non-null  object \n",
      " 8   eyecatcher_id             62668 non-null  object \n",
      " 9   impressions               62804 non-null  int64  \n",
      " 10  clicks                    62804 non-null  int64  \n",
      " 11  significance              62804 non-null  float64\n",
      " 12  first_place               62804 non-null  bool   \n",
      " 13  winner                    62804 non-null  bool   \n",
      " 14  share_text                10937 non-null  object \n",
      " 15  square                    18491 non-null  object \n",
      " 16  test_week                 62804 non-null  int64  \n",
      " 17  timedelta                 62804 non-null  object \n",
      " 18  timedelta_numeric         62804 non-null  float64\n",
      " 19  timedelta_minmax          62804 non-null  float64\n",
      " 20  vader                     62804 non-null  float64\n",
      " 21  flesch_reading            62804 non-null  float64\n",
      " 22  flesch_kincaid            62804 non-null  float64\n",
      " 23  gunning_fog               62804 non-null  float64\n",
      " 24  length                    62804 non-null  int64  \n",
      " 25  length_minmax             62804 non-null  float64\n",
      " 26  gunning_fog_standardized  62804 non-null  float64\n",
      "dtypes: bool(2), float64(9), int64(5), object(11)\n",
      "memory usage: 12.1+ MB\n"
     ]
    }
   ],
   "source": [
    "df.info()"
   ],
   "metadata": {
    "collapsed": false
   }
  },
  {
   "cell_type": "code",
   "execution_count": 191,
   "outputs": [
    {
     "data": {
      "text/plain": "           id               created_at               updated_at  \\\n0       44780  2013-06-02 05:49:17.404  2016-04-02 16:26:46.136   \n1      140883  2015-02-16 15:44:58.358  2016-04-02 16:32:15.521   \n2       70226  2013-11-11 23:36:36.286  2016-04-02 16:28:07.357   \n3       99116  2014-07-01 03:27:24.037  2016-04-02 16:29:42.712   \n4       70373  2013-11-13 00:42:40.580  2016-04-02 16:28:07.771   \n...       ...                      ...                      ...   \n15697    2113  2015-01-15 15:58:26.811  2016-04-02 16:24:28.373   \n15698   94759  2014-08-14 16:57:42.132  2016-04-02 16:29:29.119   \n15699   68392  2013-10-30 17:14:38.853  2016-04-02 16:27:58.853   \n15700   51494  2014-09-30 00:29:35.408  2016-04-02 16:27:05.068   \n15701  106295  2014-08-06 21:48:05.940  2016-04-02 16:30:05.339   \n\n           clickability_test_id  \\\n0      51aad5b15dfb9eb185001c4d   \n1      54e20f3a303461001a330000   \n2      5281646ac3987bed59000688   \n3      53b22a77d98e8ab30300002e   \n4      5282c909e029d172d600f616   \n...                         ...   \n15697  54b7e3a264313300124f0000   \n15698  53ecd19cf1e88439e3000023   \n15699  52713dd038659ab9bd0004e2   \n15700  5429e938aba7703bc4000066   \n15701  53e2a2955d8d32f731000008   \n\n                                                 excerpt  \\\n0                           This is why Barbie is awful.   \n1            Yeah, seriously: Why IS this still a thing?   \n2      Kids on people who are still afraid of gays: \"...   \n3      Why the Supreme Court's Hobby Lobby decision i...   \n4                       Things that matter. Pass 'em on.   \n...                                                  ...   \n15697           Issues that matter. Pass them on and on.   \n15698  Just because you don't hear it doesn't mean it...   \n15699  The really easy way to check and see if your H...   \n15700                   Things that matter. Pass 'em on.   \n15701                   Things that matter. Pass 'em on.   \n\n                                                headline  \\\n0      This Guy Sure Knows A Lot About Barbie. And He...   \n1      The fact that this specialty magazine is still...   \n2      'You Can't Be All Bossy To People.' Hear That,...   \n3      Hobby Lobby Gets What It Wants And John Oliver...   \n4      How One Simple Youtube Video Saved Cynthia Fro...   \n...                                                  ...   \n15697  A Question All Couples Should Talk About Befor...   \n15698  This Kind Of Conversation Often Happens In Pri...   \n15699  How To Tell If Your Idiotic Halloween Costume ...   \n15700      One Guy's Specific Thoughts About Bisexuality   \n15701  It Sounds Hard To Cut A Developing Country's I...   \n\n                                                    lede  \\\n0      <p>Watch what happens when this guy starts tal...   \n1      <p>Yeah, seriously: Why IS this still a thing?...   \n2      Sometimes cute little kids understand things m...   \n3      <p>The Supreme Court ruled that Hobby Lobby (a...   \n4      After watching this, I feel compelled to sign ...   \n...                                                  ...   \n15697  <p>Should men have a say when it comes to a wo...   \n15698  <p>A TV show reminds us why we call it reprodu...   \n15699  Every year we have to go through another round...   \n15700  <p>One man articulately explains what bisexual...   \n15701  <p>John Green went to Ethiopia with the Gates ...   \n\n                                                    slug  \\\n0      this-guy-sure-knows-a-lot-about-barbie-and-he-...   \n1      the-fact-that-this-specialty-magazine-is-still...   \n2      you-cant-be-all-bossy-to-people-hear-that-homo...   \n3      hobby-lobby-gets-what-it-wants-and-john-oliver...   \n4      how-one-simple-youtube-video-saved-cynthia-fro...   \n...                                                  ...   \n15697  a-question-all-couples-should-talk-about-befor...   \n15698  this-kind-of-conversation-often-happens-in-pri...   \n15699  how-to-tell-if-your-idiotic-halloween-costume-...   \n15700  one-guys-specific-thoughts-about-bisexuality-m...   \n15701  it-sounds-hard-to-cut-a-developing-countrys-in...   \n\n                  eyecatcher_id  impressions  ...                  timedelta  \\\n0      5332bba21fae79f09f005455         2928  ...  1035 days 10:37:28.732000   \n1      54e20f463034610028310000         1542  ...   411 days 00:47:17.163000   \n2      5332c1da1fae79f09f00f2a9         5009  ...   872 days 16:51:31.071000   \n3      53b1ed93d98e8a6f30000014         4040  ...   641 days 13:02:18.675000   \n4      5332b73c1fae79f09f00157e         8494  ...   871 days 15:45:27.191000   \n...                         ...          ...  ...                        ...   \n15697  54b69b20626463001e1b0000         3106  ...   443 days 00:26:01.562000   \n15698  53e53b89220776c9b9000024         3067  ...   596 days 23:31:46.987000   \n15699  5332c1631fae79f09f00e5cc         6686  ...          884 days 23:13:20   \n15700  54288905389e1ccd0c000029         7115  ...   550 days 15:57:29.660000   \n15701  53e1d3b2e80b549519000070         2810  ...   604 days 18:41:59.399000   \n\n       timedelta_numeric  timedelta_minmax   vader flesch_reading  \\\n0           8.946225e+07          0.985341  0.3591         106.67   \n1           3.551324e+07          0.102416  0.0000          72.16   \n2           7.540149e+07          0.755224  0.0000          83.32   \n3           5.542934e+07          0.428362  0.0258          71.14   \n4           7.531113e+07          0.753745  0.4215          78.25   \n...                  ...               ...     ...            ...   \n15697       3.827676e+07          0.147644  0.0000          92.12   \n15698       5.157911e+07          0.365349  0.0000          72.16   \n15699       7.646120e+07          0.772567 -0.7964          58.28   \n15700       4.757745e+07          0.299858  0.0000          14.63   \n15701       5.225292e+07          0.376377 -0.7506          69.11   \n\n      flesch_kincaid  gunning_fog length  length_minmax  \\\n0                0.1         2.80     69       0.311475   \n1                7.2         8.90     89       0.420765   \n2                2.9         6.00     59       0.256831   \n3                7.6         6.80     92       0.437158   \n4                4.8         8.00     61       0.267760   \n...              ...          ...    ...            ...   \n15697            3.6         5.20     68       0.306011   \n15698            7.2         8.90     84       0.393443   \n15699            8.4        11.35     73       0.333333   \n15700           12.7        15.73     45       0.180328   \n15701            8.3         9.71    100       0.480874   \n\n       gunning_fog_standardized  \n0                     -1.436524  \n1                      0.561872  \n2                     -0.388185  \n3                     -0.126101  \n4                      0.267027  \n...                         ...  \n15697                 -0.650270  \n15698                  0.561872  \n15699                  1.364507  \n15700                  2.799421  \n15701                  0.827233  \n\n[15702 rows x 27 columns]",
      "text/html": "<div>\n<style scoped>\n    .dataframe tbody tr th:only-of-type {\n        vertical-align: middle;\n    }\n\n    .dataframe tbody tr th {\n        vertical-align: top;\n    }\n\n    .dataframe thead th {\n        text-align: right;\n    }\n</style>\n<table border=\"1\" class=\"dataframe\">\n  <thead>\n    <tr style=\"text-align: right;\">\n      <th></th>\n      <th>id</th>\n      <th>created_at</th>\n      <th>updated_at</th>\n      <th>clickability_test_id</th>\n      <th>excerpt</th>\n      <th>headline</th>\n      <th>lede</th>\n      <th>slug</th>\n      <th>eyecatcher_id</th>\n      <th>impressions</th>\n      <th>...</th>\n      <th>timedelta</th>\n      <th>timedelta_numeric</th>\n      <th>timedelta_minmax</th>\n      <th>vader</th>\n      <th>flesch_reading</th>\n      <th>flesch_kincaid</th>\n      <th>gunning_fog</th>\n      <th>length</th>\n      <th>length_minmax</th>\n      <th>gunning_fog_standardized</th>\n    </tr>\n  </thead>\n  <tbody>\n    <tr>\n      <th>0</th>\n      <td>44780</td>\n      <td>2013-06-02 05:49:17.404</td>\n      <td>2016-04-02 16:26:46.136</td>\n      <td>51aad5b15dfb9eb185001c4d</td>\n      <td>This is why Barbie is awful.</td>\n      <td>This Guy Sure Knows A Lot About Barbie. And He...</td>\n      <td>&lt;p&gt;Watch what happens when this guy starts tal...</td>\n      <td>this-guy-sure-knows-a-lot-about-barbie-and-he-...</td>\n      <td>5332bba21fae79f09f005455</td>\n      <td>2928</td>\n      <td>...</td>\n      <td>1035 days 10:37:28.732000</td>\n      <td>8.946225e+07</td>\n      <td>0.985341</td>\n      <td>0.3591</td>\n      <td>106.67</td>\n      <td>0.1</td>\n      <td>2.80</td>\n      <td>69</td>\n      <td>0.311475</td>\n      <td>-1.436524</td>\n    </tr>\n    <tr>\n      <th>1</th>\n      <td>140883</td>\n      <td>2015-02-16 15:44:58.358</td>\n      <td>2016-04-02 16:32:15.521</td>\n      <td>54e20f3a303461001a330000</td>\n      <td>Yeah, seriously: Why IS this still a thing?</td>\n      <td>The fact that this specialty magazine is still...</td>\n      <td>&lt;p&gt;Yeah, seriously: Why IS this still a thing?...</td>\n      <td>the-fact-that-this-specialty-magazine-is-still...</td>\n      <td>54e20f463034610028310000</td>\n      <td>1542</td>\n      <td>...</td>\n      <td>411 days 00:47:17.163000</td>\n      <td>3.551324e+07</td>\n      <td>0.102416</td>\n      <td>0.0000</td>\n      <td>72.16</td>\n      <td>7.2</td>\n      <td>8.90</td>\n      <td>89</td>\n      <td>0.420765</td>\n      <td>0.561872</td>\n    </tr>\n    <tr>\n      <th>2</th>\n      <td>70226</td>\n      <td>2013-11-11 23:36:36.286</td>\n      <td>2016-04-02 16:28:07.357</td>\n      <td>5281646ac3987bed59000688</td>\n      <td>Kids on people who are still afraid of gays: \"...</td>\n      <td>'You Can't Be All Bossy To People.' Hear That,...</td>\n      <td>Sometimes cute little kids understand things m...</td>\n      <td>you-cant-be-all-bossy-to-people-hear-that-homo...</td>\n      <td>5332c1da1fae79f09f00f2a9</td>\n      <td>5009</td>\n      <td>...</td>\n      <td>872 days 16:51:31.071000</td>\n      <td>7.540149e+07</td>\n      <td>0.755224</td>\n      <td>0.0000</td>\n      <td>83.32</td>\n      <td>2.9</td>\n      <td>6.00</td>\n      <td>59</td>\n      <td>0.256831</td>\n      <td>-0.388185</td>\n    </tr>\n    <tr>\n      <th>3</th>\n      <td>99116</td>\n      <td>2014-07-01 03:27:24.037</td>\n      <td>2016-04-02 16:29:42.712</td>\n      <td>53b22a77d98e8ab30300002e</td>\n      <td>Why the Supreme Court's Hobby Lobby decision i...</td>\n      <td>Hobby Lobby Gets What It Wants And John Oliver...</td>\n      <td>&lt;p&gt;The Supreme Court ruled that Hobby Lobby (a...</td>\n      <td>hobby-lobby-gets-what-it-wants-and-john-oliver...</td>\n      <td>53b1ed93d98e8a6f30000014</td>\n      <td>4040</td>\n      <td>...</td>\n      <td>641 days 13:02:18.675000</td>\n      <td>5.542934e+07</td>\n      <td>0.428362</td>\n      <td>0.0258</td>\n      <td>71.14</td>\n      <td>7.6</td>\n      <td>6.80</td>\n      <td>92</td>\n      <td>0.437158</td>\n      <td>-0.126101</td>\n    </tr>\n    <tr>\n      <th>4</th>\n      <td>70373</td>\n      <td>2013-11-13 00:42:40.580</td>\n      <td>2016-04-02 16:28:07.771</td>\n      <td>5282c909e029d172d600f616</td>\n      <td>Things that matter. Pass 'em on.</td>\n      <td>How One Simple Youtube Video Saved Cynthia Fro...</td>\n      <td>After watching this, I feel compelled to sign ...</td>\n      <td>how-one-simple-youtube-video-saved-cynthia-fro...</td>\n      <td>5332b73c1fae79f09f00157e</td>\n      <td>8494</td>\n      <td>...</td>\n      <td>871 days 15:45:27.191000</td>\n      <td>7.531113e+07</td>\n      <td>0.753745</td>\n      <td>0.4215</td>\n      <td>78.25</td>\n      <td>4.8</td>\n      <td>8.00</td>\n      <td>61</td>\n      <td>0.267760</td>\n      <td>0.267027</td>\n    </tr>\n    <tr>\n      <th>...</th>\n      <td>...</td>\n      <td>...</td>\n      <td>...</td>\n      <td>...</td>\n      <td>...</td>\n      <td>...</td>\n      <td>...</td>\n      <td>...</td>\n      <td>...</td>\n      <td>...</td>\n      <td>...</td>\n      <td>...</td>\n      <td>...</td>\n      <td>...</td>\n      <td>...</td>\n      <td>...</td>\n      <td>...</td>\n      <td>...</td>\n      <td>...</td>\n      <td>...</td>\n      <td>...</td>\n    </tr>\n    <tr>\n      <th>15697</th>\n      <td>2113</td>\n      <td>2015-01-15 15:58:26.811</td>\n      <td>2016-04-02 16:24:28.373</td>\n      <td>54b7e3a264313300124f0000</td>\n      <td>Issues that matter. Pass them on and on.</td>\n      <td>A Question All Couples Should Talk About Befor...</td>\n      <td>&lt;p&gt;Should men have a say when it comes to a wo...</td>\n      <td>a-question-all-couples-should-talk-about-befor...</td>\n      <td>54b69b20626463001e1b0000</td>\n      <td>3106</td>\n      <td>...</td>\n      <td>443 days 00:26:01.562000</td>\n      <td>3.827676e+07</td>\n      <td>0.147644</td>\n      <td>0.0000</td>\n      <td>92.12</td>\n      <td>3.6</td>\n      <td>5.20</td>\n      <td>68</td>\n      <td>0.306011</td>\n      <td>-0.650270</td>\n    </tr>\n    <tr>\n      <th>15698</th>\n      <td>94759</td>\n      <td>2014-08-14 16:57:42.132</td>\n      <td>2016-04-02 16:29:29.119</td>\n      <td>53ecd19cf1e88439e3000023</td>\n      <td>Just because you don't hear it doesn't mean it...</td>\n      <td>This Kind Of Conversation Often Happens In Pri...</td>\n      <td>&lt;p&gt;A TV show reminds us why we call it reprodu...</td>\n      <td>this-kind-of-conversation-often-happens-in-pri...</td>\n      <td>53e53b89220776c9b9000024</td>\n      <td>3067</td>\n      <td>...</td>\n      <td>596 days 23:31:46.987000</td>\n      <td>5.157911e+07</td>\n      <td>0.365349</td>\n      <td>0.0000</td>\n      <td>72.16</td>\n      <td>7.2</td>\n      <td>8.90</td>\n      <td>84</td>\n      <td>0.393443</td>\n      <td>0.561872</td>\n    </tr>\n    <tr>\n      <th>15699</th>\n      <td>68392</td>\n      <td>2013-10-30 17:14:38.853</td>\n      <td>2016-04-02 16:27:58.853</td>\n      <td>52713dd038659ab9bd0004e2</td>\n      <td>The really easy way to check and see if your H...</td>\n      <td>How To Tell If Your Idiotic Halloween Costume ...</td>\n      <td>Every year we have to go through another round...</td>\n      <td>how-to-tell-if-your-idiotic-halloween-costume-...</td>\n      <td>5332c1631fae79f09f00e5cc</td>\n      <td>6686</td>\n      <td>...</td>\n      <td>884 days 23:13:20</td>\n      <td>7.646120e+07</td>\n      <td>0.772567</td>\n      <td>-0.7964</td>\n      <td>58.28</td>\n      <td>8.4</td>\n      <td>11.35</td>\n      <td>73</td>\n      <td>0.333333</td>\n      <td>1.364507</td>\n    </tr>\n    <tr>\n      <th>15700</th>\n      <td>51494</td>\n      <td>2014-09-30 00:29:35.408</td>\n      <td>2016-04-02 16:27:05.068</td>\n      <td>5429e938aba7703bc4000066</td>\n      <td>Things that matter. Pass 'em on.</td>\n      <td>One Guy's Specific Thoughts About Bisexuality</td>\n      <td>&lt;p&gt;One man articulately explains what bisexual...</td>\n      <td>one-guys-specific-thoughts-about-bisexuality-m...</td>\n      <td>54288905389e1ccd0c000029</td>\n      <td>7115</td>\n      <td>...</td>\n      <td>550 days 15:57:29.660000</td>\n      <td>4.757745e+07</td>\n      <td>0.299858</td>\n      <td>0.0000</td>\n      <td>14.63</td>\n      <td>12.7</td>\n      <td>15.73</td>\n      <td>45</td>\n      <td>0.180328</td>\n      <td>2.799421</td>\n    </tr>\n    <tr>\n      <th>15701</th>\n      <td>106295</td>\n      <td>2014-08-06 21:48:05.940</td>\n      <td>2016-04-02 16:30:05.339</td>\n      <td>53e2a2955d8d32f731000008</td>\n      <td>Things that matter. Pass 'em on.</td>\n      <td>It Sounds Hard To Cut A Developing Country's I...</td>\n      <td>&lt;p&gt;John Green went to Ethiopia with the Gates ...</td>\n      <td>it-sounds-hard-to-cut-a-developing-countrys-in...</td>\n      <td>53e1d3b2e80b549519000070</td>\n      <td>2810</td>\n      <td>...</td>\n      <td>604 days 18:41:59.399000</td>\n      <td>5.225292e+07</td>\n      <td>0.376377</td>\n      <td>-0.7506</td>\n      <td>69.11</td>\n      <td>8.3</td>\n      <td>9.71</td>\n      <td>100</td>\n      <td>0.480874</td>\n      <td>0.827233</td>\n    </tr>\n  </tbody>\n</table>\n<p>15702 rows × 27 columns</p>\n</div>"
     },
     "execution_count": 191,
     "metadata": {},
     "output_type": "execute_result"
    }
   ],
   "source": [
    "df_test"
   ],
   "metadata": {
    "collapsed": false
   }
  },
  {
   "cell_type": "code",
   "execution_count": 192,
   "outputs": [],
   "source": [
    "X_train = df[['timedelta_minmax', 'vader', 'flesch_reading', 'length_minmax']]\n",
    "X_test = df_test[['timedelta_minmax', 'vader', 'flesch_reading', 'length_minmax']]\n",
    "\n",
    "y_train = df_train\n",
    "y_test = df_test_y"
   ],
   "metadata": {
    "collapsed": false
   }
  },
  {
   "cell_type": "markdown",
   "source": [
    "We determine the significance of each variable"
   ],
   "metadata": {
    "collapsed": false
   }
  },
  {
   "cell_type": "code",
   "execution_count": 193,
   "outputs": [
    {
     "name": "stdout",
     "output_type": "stream",
     "text": [
      "                            OLS Regression Results                            \n",
      "==============================================================================\n",
      "Dep. Variable:                    CTR   R-squared:                       0.184\n",
      "Model:                            OLS   Adj. R-squared:                  0.184\n",
      "Method:                 Least Squares   F-statistic:                     3544.\n",
      "Date:                Sun, 03 Mar 2024   Prob (F-statistic):               0.00\n",
      "Time:                        16:04:37   Log-Likelihood:             1.9288e+05\n",
      "No. Observations:               62804   AIC:                        -3.857e+05\n",
      "Df Residuals:                   62799   BIC:                        -3.857e+05\n",
      "Df Model:                           4                                         \n",
      "Covariance Type:            nonrobust                                         \n",
      "====================================================================================\n",
      "                       coef    std err          t      P>|t|      [0.025      0.975]\n",
      "------------------------------------------------------------------------------------\n",
      "const               -0.0002      0.000     -0.683      0.494      -0.001       0.000\n",
      "timedelta_minmax     0.0201      0.000    116.200      0.000       0.020       0.020\n",
      "vader               -0.0017      0.000    -16.258      0.000      -0.002      -0.001\n",
      "flesch_reading     2.12e-06   1.36e-06      1.563      0.118   -5.39e-07    4.78e-06\n",
      "length_minmax        0.0119      0.000     27.986      0.000       0.011       0.013\n",
      "==============================================================================\n",
      "Omnibus:                    28737.317   Durbin-Watson:                   2.001\n",
      "Prob(Omnibus):                  0.000   Jarque-Bera (JB):           247912.683\n",
      "Skew:                           2.006   Prob(JB):                         0.00\n",
      "Kurtosis:                      11.868   Cond. No.                         975.\n",
      "==============================================================================\n",
      "\n",
      "Notes:\n",
      "[1] Standard Errors assume that the covariance matrix of the errors is correctly specified.\n"
     ]
    }
   ],
   "source": [
    "import statsmodels.api as sm\n",
    "\n",
    "# Add a constant to the features\n",
    "X_train_with_constant = sm.add_constant(X_train)\n",
    "\n",
    "# Fit an ordinary least squares regression model\n",
    "model = sm.OLS(y_train, X_train_with_constant)\n",
    "results = model.fit()\n",
    "\n",
    "# Print the summary of the results\n",
    "print(results.summary())"
   ],
   "metadata": {
    "collapsed": false
   }
  },
  {
   "cell_type": "markdown",
   "source": [
    "Here, we see that all coefficients are significant at 15% LOS. the regression model has a relatively poor R2 value. In other words, we are unable to accurately predict the CTRs based on existing finegrained sentiment data.\n",
    "\n",
    "We now attempt to run a logistic regression. We begin by scaling our input features."
   ],
   "metadata": {
    "collapsed": false
   }
  },
  {
   "cell_type": "code",
   "execution_count": 194,
   "outputs": [
    {
     "name": "stderr",
     "output_type": "stream",
     "text": [
      "/Users/gohjunwei/anaconda3/lib/python3.11/site-packages/sklearn/utils/validation.py:767: FutureWarning: is_sparse is deprecated and will be removed in a future version. Check `isinstance(dtype, pd.SparseDtype)` instead.\n",
      "  if not hasattr(array, \"sparse\") and array.dtypes.apply(is_sparse).any():\n",
      "/Users/gohjunwei/anaconda3/lib/python3.11/site-packages/sklearn/utils/validation.py:605: FutureWarning: is_sparse is deprecated and will be removed in a future version. Check `isinstance(dtype, pd.SparseDtype)` instead.\n",
      "  if is_sparse(pd_dtype):\n",
      "/Users/gohjunwei/anaconda3/lib/python3.11/site-packages/sklearn/utils/validation.py:614: FutureWarning: is_sparse is deprecated and will be removed in a future version. Check `isinstance(dtype, pd.SparseDtype)` instead.\n",
      "  if is_sparse(pd_dtype) or not is_extension_array_dtype(pd_dtype):\n",
      "/Users/gohjunwei/anaconda3/lib/python3.11/site-packages/sklearn/utils/validation.py:767: FutureWarning: is_sparse is deprecated and will be removed in a future version. Check `isinstance(dtype, pd.SparseDtype)` instead.\n",
      "  if not hasattr(array, \"sparse\") and array.dtypes.apply(is_sparse).any():\n",
      "/Users/gohjunwei/anaconda3/lib/python3.11/site-packages/sklearn/utils/validation.py:605: FutureWarning: is_sparse is deprecated and will be removed in a future version. Check `isinstance(dtype, pd.SparseDtype)` instead.\n",
      "  if is_sparse(pd_dtype):\n",
      "/Users/gohjunwei/anaconda3/lib/python3.11/site-packages/sklearn/utils/validation.py:614: FutureWarning: is_sparse is deprecated and will be removed in a future version. Check `isinstance(dtype, pd.SparseDtype)` instead.\n",
      "  if is_sparse(pd_dtype) or not is_extension_array_dtype(pd_dtype):\n",
      "/Users/gohjunwei/anaconda3/lib/python3.11/site-packages/sklearn/utils/validation.py:767: FutureWarning: is_sparse is deprecated and will be removed in a future version. Check `isinstance(dtype, pd.SparseDtype)` instead.\n",
      "  if not hasattr(array, \"sparse\") and array.dtypes.apply(is_sparse).any():\n",
      "/Users/gohjunwei/anaconda3/lib/python3.11/site-packages/sklearn/utils/validation.py:605: FutureWarning: is_sparse is deprecated and will be removed in a future version. Check `isinstance(dtype, pd.SparseDtype)` instead.\n",
      "  if is_sparse(pd_dtype):\n",
      "/Users/gohjunwei/anaconda3/lib/python3.11/site-packages/sklearn/utils/validation.py:614: FutureWarning: is_sparse is deprecated and will be removed in a future version. Check `isinstance(dtype, pd.SparseDtype)` instead.\n",
      "  if is_sparse(pd_dtype) or not is_extension_array_dtype(pd_dtype):\n",
      "/Users/gohjunwei/anaconda3/lib/python3.11/site-packages/sklearn/utils/validation.py:767: FutureWarning: is_sparse is deprecated and will be removed in a future version. Check `isinstance(dtype, pd.SparseDtype)` instead.\n",
      "  if not hasattr(array, \"sparse\") and array.dtypes.apply(is_sparse).any():\n",
      "/Users/gohjunwei/anaconda3/lib/python3.11/site-packages/sklearn/utils/validation.py:605: FutureWarning: is_sparse is deprecated and will be removed in a future version. Check `isinstance(dtype, pd.SparseDtype)` instead.\n",
      "  if is_sparse(pd_dtype):\n",
      "/Users/gohjunwei/anaconda3/lib/python3.11/site-packages/sklearn/utils/validation.py:614: FutureWarning: is_sparse is deprecated and will be removed in a future version. Check `isinstance(dtype, pd.SparseDtype)` instead.\n",
      "  if is_sparse(pd_dtype) or not is_extension_array_dtype(pd_dtype):\n"
     ]
    }
   ],
   "source": [
    "from sklearn.preprocessing import StandardScaler\n",
    "scaler = StandardScaler()\n",
    "X_train_scaled = scaler.fit_transform(df[['timedelta_numeric', 'vader', 'flesch_reading', 'length']])\n",
    "X_test_scaled = scaler.fit_transform(df_test[['timedelta_numeric', 'vader', 'flesch_reading', 'length']])"
   ],
   "metadata": {
    "collapsed": false
   }
  },
  {
   "cell_type": "code",
   "execution_count": 195,
   "outputs": [],
   "source": [
    "epsilon = 1e-6\n",
    "y_train['CTR_adj'] = y_train['CTR'].apply(lambda x: np.clip(x, epsilon, 1 - epsilon))\n",
    "y_train['CTR_logit'] = np.log(y_train['CTR_adj'] / (1 - y_train['CTR_adj']))\n",
    "\n",
    "y_test['CTR_adj'] = y_test['CTR'].apply(lambda x: np.clip(x, epsilon, 1 - epsilon))\n",
    "y_test['CTR_logit'] = np.log(y_test['CTR_adj'] / (1 - y_test['CTR_adj']))"
   ],
   "metadata": {
    "collapsed": false
   }
  },
  {
   "cell_type": "code",
   "execution_count": 196,
   "outputs": [
    {
     "data": {
      "text/plain": "            CTR   CTR_adj  CTR_logit\n0      0.012944  0.012944  -4.334101\n1      0.019981  0.019981  -3.892807\n2      0.017913  0.017913  -4.004146\n3      0.003479  0.003479  -5.657580\n4      0.023433  0.023433  -3.729887\n...         ...       ...        ...\n62799  0.037771  0.037771  -3.237698\n62800  0.003875  0.003875  -5.549335\n62801  0.017085  0.017085  -4.052296\n62802  0.016725  0.016725  -4.074000\n62803  0.022450  0.022450  -3.773775\n\n[62804 rows x 3 columns]",
      "text/html": "<div>\n<style scoped>\n    .dataframe tbody tr th:only-of-type {\n        vertical-align: middle;\n    }\n\n    .dataframe tbody tr th {\n        vertical-align: top;\n    }\n\n    .dataframe thead th {\n        text-align: right;\n    }\n</style>\n<table border=\"1\" class=\"dataframe\">\n  <thead>\n    <tr style=\"text-align: right;\">\n      <th></th>\n      <th>CTR</th>\n      <th>CTR_adj</th>\n      <th>CTR_logit</th>\n    </tr>\n  </thead>\n  <tbody>\n    <tr>\n      <th>0</th>\n      <td>0.012944</td>\n      <td>0.012944</td>\n      <td>-4.334101</td>\n    </tr>\n    <tr>\n      <th>1</th>\n      <td>0.019981</td>\n      <td>0.019981</td>\n      <td>-3.892807</td>\n    </tr>\n    <tr>\n      <th>2</th>\n      <td>0.017913</td>\n      <td>0.017913</td>\n      <td>-4.004146</td>\n    </tr>\n    <tr>\n      <th>3</th>\n      <td>0.003479</td>\n      <td>0.003479</td>\n      <td>-5.657580</td>\n    </tr>\n    <tr>\n      <th>4</th>\n      <td>0.023433</td>\n      <td>0.023433</td>\n      <td>-3.729887</td>\n    </tr>\n    <tr>\n      <th>...</th>\n      <td>...</td>\n      <td>...</td>\n      <td>...</td>\n    </tr>\n    <tr>\n      <th>62799</th>\n      <td>0.037771</td>\n      <td>0.037771</td>\n      <td>-3.237698</td>\n    </tr>\n    <tr>\n      <th>62800</th>\n      <td>0.003875</td>\n      <td>0.003875</td>\n      <td>-5.549335</td>\n    </tr>\n    <tr>\n      <th>62801</th>\n      <td>0.017085</td>\n      <td>0.017085</td>\n      <td>-4.052296</td>\n    </tr>\n    <tr>\n      <th>62802</th>\n      <td>0.016725</td>\n      <td>0.016725</td>\n      <td>-4.074000</td>\n    </tr>\n    <tr>\n      <th>62803</th>\n      <td>0.022450</td>\n      <td>0.022450</td>\n      <td>-3.773775</td>\n    </tr>\n  </tbody>\n</table>\n<p>62804 rows × 3 columns</p>\n</div>"
     },
     "execution_count": 196,
     "metadata": {},
     "output_type": "execute_result"
    }
   ],
   "source": [
    "y_train"
   ],
   "metadata": {
    "collapsed": false
   }
  },
  {
   "cell_type": "markdown",
   "source": [
    "We note, once again, that the R^2 fit values are extremely poor. Given the complexities involved, we propose that we simplify our analysis. Instead of predicting the actual CTR, we now see if for some headline, a predicted CTR Is likely to be above or below median.\n",
    "\n",
    "We define a high CTR as one that exists above the 50th percentile of all CTRs, a low CTR to be one that exists below the 50 percentile of all CTRs."
   ],
   "metadata": {
    "collapsed": false
   }
  },
  {
   "cell_type": "code",
   "execution_count": 197,
   "outputs": [
    {
     "data": {
      "text/plain": "            CTR   CTR_adj  CTR_logit\n0      0.013320  0.013320  -4.305104\n1      0.003891  0.003891  -5.545177\n2      0.016570  0.016570  -4.083442\n3      0.016832  0.016832  -4.067517\n4      0.008477  0.008477  -4.761936\n...         ...       ...        ...\n78501  0.037771  0.037771  -3.237698\n78502  0.003875  0.003875  -5.549335\n78503  0.017085  0.017085  -4.052296\n78504  0.016725  0.016725  -4.074000\n78505  0.022450  0.022450  -3.773775\n\n[78506 rows x 3 columns]",
      "text/html": "<div>\n<style scoped>\n    .dataframe tbody tr th:only-of-type {\n        vertical-align: middle;\n    }\n\n    .dataframe tbody tr th {\n        vertical-align: top;\n    }\n\n    .dataframe thead th {\n        text-align: right;\n    }\n</style>\n<table border=\"1\" class=\"dataframe\">\n  <thead>\n    <tr style=\"text-align: right;\">\n      <th></th>\n      <th>CTR</th>\n      <th>CTR_adj</th>\n      <th>CTR_logit</th>\n    </tr>\n  </thead>\n  <tbody>\n    <tr>\n      <th>0</th>\n      <td>0.013320</td>\n      <td>0.013320</td>\n      <td>-4.305104</td>\n    </tr>\n    <tr>\n      <th>1</th>\n      <td>0.003891</td>\n      <td>0.003891</td>\n      <td>-5.545177</td>\n    </tr>\n    <tr>\n      <th>2</th>\n      <td>0.016570</td>\n      <td>0.016570</td>\n      <td>-4.083442</td>\n    </tr>\n    <tr>\n      <th>3</th>\n      <td>0.016832</td>\n      <td>0.016832</td>\n      <td>-4.067517</td>\n    </tr>\n    <tr>\n      <th>4</th>\n      <td>0.008477</td>\n      <td>0.008477</td>\n      <td>-4.761936</td>\n    </tr>\n    <tr>\n      <th>...</th>\n      <td>...</td>\n      <td>...</td>\n      <td>...</td>\n    </tr>\n    <tr>\n      <th>78501</th>\n      <td>0.037771</td>\n      <td>0.037771</td>\n      <td>-3.237698</td>\n    </tr>\n    <tr>\n      <th>78502</th>\n      <td>0.003875</td>\n      <td>0.003875</td>\n      <td>-5.549335</td>\n    </tr>\n    <tr>\n      <th>78503</th>\n      <td>0.017085</td>\n      <td>0.017085</td>\n      <td>-4.052296</td>\n    </tr>\n    <tr>\n      <th>78504</th>\n      <td>0.016725</td>\n      <td>0.016725</td>\n      <td>-4.074000</td>\n    </tr>\n    <tr>\n      <th>78505</th>\n      <td>0.022450</td>\n      <td>0.022450</td>\n      <td>-3.773775</td>\n    </tr>\n  </tbody>\n</table>\n<p>78506 rows × 3 columns</p>\n</div>"
     },
     "execution_count": 197,
     "metadata": {},
     "output_type": "execute_result"
    }
   ],
   "source": [
    "ctr_all = pd.concat([y_test, y_train], ignore_index = True)\n",
    "ctr_all"
   ],
   "metadata": {
    "collapsed": false
   }
  },
  {
   "cell_type": "code",
   "execution_count": 198,
   "outputs": [],
   "source": [
    "median = ctr_all['CTR'].median()"
   ],
   "metadata": {
    "collapsed": false
   }
  },
  {
   "cell_type": "markdown",
   "source": [
    "Instead of running a regression, we attempt to use a classification algorithm to determine if we are able to predict for a given headline of a certain sentiment, if the CTR is likely to be above or below median."
   ],
   "metadata": {
    "collapsed": false
   }
  },
  {
   "cell_type": "code",
   "execution_count": 199,
   "outputs": [],
   "source": [
    "y_test['above_median'] = np.where(y_test['CTR'] > median, 1, 0)\n",
    "y_train['above_median'] = np.where(y_train['CTR'] > median, 1, 0)"
   ],
   "metadata": {
    "collapsed": false
   }
  },
  {
   "cell_type": "code",
   "execution_count": 200,
   "outputs": [
    {
     "data": {
      "text/plain": "            CTR   CTR_adj  CTR_logit  above_median\n0      0.013320  0.013320  -4.305104             1\n1      0.003891  0.003891  -5.545177             0\n2      0.016570  0.016570  -4.083442             1\n3      0.016832  0.016832  -4.067517             1\n4      0.008477  0.008477  -4.761936             0\n...         ...       ...        ...           ...\n15697  0.012878  0.012878  -4.339250             1\n15698  0.009782  0.009782  -4.617428             0\n15699  0.022435  0.022435  -3.774445             1\n15700  0.007168  0.007168  -4.930941             0\n15701  0.005694  0.005694  -5.162641             0\n\n[15702 rows x 4 columns]",
      "text/html": "<div>\n<style scoped>\n    .dataframe tbody tr th:only-of-type {\n        vertical-align: middle;\n    }\n\n    .dataframe tbody tr th {\n        vertical-align: top;\n    }\n\n    .dataframe thead th {\n        text-align: right;\n    }\n</style>\n<table border=\"1\" class=\"dataframe\">\n  <thead>\n    <tr style=\"text-align: right;\">\n      <th></th>\n      <th>CTR</th>\n      <th>CTR_adj</th>\n      <th>CTR_logit</th>\n      <th>above_median</th>\n    </tr>\n  </thead>\n  <tbody>\n    <tr>\n      <th>0</th>\n      <td>0.013320</td>\n      <td>0.013320</td>\n      <td>-4.305104</td>\n      <td>1</td>\n    </tr>\n    <tr>\n      <th>1</th>\n      <td>0.003891</td>\n      <td>0.003891</td>\n      <td>-5.545177</td>\n      <td>0</td>\n    </tr>\n    <tr>\n      <th>2</th>\n      <td>0.016570</td>\n      <td>0.016570</td>\n      <td>-4.083442</td>\n      <td>1</td>\n    </tr>\n    <tr>\n      <th>3</th>\n      <td>0.016832</td>\n      <td>0.016832</td>\n      <td>-4.067517</td>\n      <td>1</td>\n    </tr>\n    <tr>\n      <th>4</th>\n      <td>0.008477</td>\n      <td>0.008477</td>\n      <td>-4.761936</td>\n      <td>0</td>\n    </tr>\n    <tr>\n      <th>...</th>\n      <td>...</td>\n      <td>...</td>\n      <td>...</td>\n      <td>...</td>\n    </tr>\n    <tr>\n      <th>15697</th>\n      <td>0.012878</td>\n      <td>0.012878</td>\n      <td>-4.339250</td>\n      <td>1</td>\n    </tr>\n    <tr>\n      <th>15698</th>\n      <td>0.009782</td>\n      <td>0.009782</td>\n      <td>-4.617428</td>\n      <td>0</td>\n    </tr>\n    <tr>\n      <th>15699</th>\n      <td>0.022435</td>\n      <td>0.022435</td>\n      <td>-3.774445</td>\n      <td>1</td>\n    </tr>\n    <tr>\n      <th>15700</th>\n      <td>0.007168</td>\n      <td>0.007168</td>\n      <td>-4.930941</td>\n      <td>0</td>\n    </tr>\n    <tr>\n      <th>15701</th>\n      <td>0.005694</td>\n      <td>0.005694</td>\n      <td>-5.162641</td>\n      <td>0</td>\n    </tr>\n  </tbody>\n</table>\n<p>15702 rows × 4 columns</p>\n</div>"
     },
     "execution_count": 200,
     "metadata": {},
     "output_type": "execute_result"
    }
   ],
   "source": [
    "y_test"
   ],
   "metadata": {
    "collapsed": false
   }
  },
  {
   "cell_type": "markdown",
   "source": [
    "We begin by using a simple decision tree classifier."
   ],
   "metadata": {
    "collapsed": false
   }
  },
  {
   "cell_type": "code",
   "execution_count": 201,
   "outputs": [
    {
     "name": "stderr",
     "output_type": "stream",
     "text": [
      "/Users/gohjunwei/anaconda3/lib/python3.11/site-packages/sklearn/utils/validation.py:605: FutureWarning: is_sparse is deprecated and will be removed in a future version. Check `isinstance(dtype, pd.SparseDtype)` instead.\n",
      "  if is_sparse(pd_dtype):\n",
      "/Users/gohjunwei/anaconda3/lib/python3.11/site-packages/sklearn/utils/validation.py:614: FutureWarning: is_sparse is deprecated and will be removed in a future version. Check `isinstance(dtype, pd.SparseDtype)` instead.\n",
      "  if is_sparse(pd_dtype) or not is_extension_array_dtype(pd_dtype):\n",
      "/Users/gohjunwei/anaconda3/lib/python3.11/site-packages/sklearn/utils/validation.py:605: FutureWarning: is_sparse is deprecated and will be removed in a future version. Check `isinstance(dtype, pd.SparseDtype)` instead.\n",
      "  if is_sparse(pd_dtype):\n",
      "/Users/gohjunwei/anaconda3/lib/python3.11/site-packages/sklearn/utils/validation.py:614: FutureWarning: is_sparse is deprecated and will be removed in a future version. Check `isinstance(dtype, pd.SparseDtype)` instead.\n",
      "  if is_sparse(pd_dtype) or not is_extension_array_dtype(pd_dtype):\n",
      "/Users/gohjunwei/anaconda3/lib/python3.11/site-packages/sklearn/utils/validation.py:605: FutureWarning: is_sparse is deprecated and will be removed in a future version. Check `isinstance(dtype, pd.SparseDtype)` instead.\n",
      "  if is_sparse(pd_dtype):\n",
      "/Users/gohjunwei/anaconda3/lib/python3.11/site-packages/sklearn/utils/validation.py:614: FutureWarning: is_sparse is deprecated and will be removed in a future version. Check `isinstance(dtype, pd.SparseDtype)` instead.\n",
      "  if is_sparse(pd_dtype) or not is_extension_array_dtype(pd_dtype):\n",
      "/Users/gohjunwei/anaconda3/lib/python3.11/site-packages/sklearn/utils/validation.py:605: FutureWarning: is_sparse is deprecated and will be removed in a future version. Check `isinstance(dtype, pd.SparseDtype)` instead.\n",
      "  if is_sparse(pd_dtype):\n",
      "/Users/gohjunwei/anaconda3/lib/python3.11/site-packages/sklearn/utils/validation.py:614: FutureWarning: is_sparse is deprecated and will be removed in a future version. Check `isinstance(dtype, pd.SparseDtype)` instead.\n",
      "  if is_sparse(pd_dtype) or not is_extension_array_dtype(pd_dtype):\n"
     ]
    }
   ],
   "source": [
    "from sklearn.tree import DecisionTreeClassifier\n",
    "from sklearn.metrics import accuracy_score\n",
    "\n",
    "classifier = DecisionTreeClassifier()\n",
    "\n",
    "classifier.fit(X_train_scaled, y_train['above_median'])\n",
    "\n",
    "y_pred = classifier.predict(X_test_scaled)\n",
    "\n",
    "accuracy = accuracy_score(y_test['above_median'], y_pred)"
   ],
   "metadata": {
    "collapsed": false
   }
  },
  {
   "cell_type": "code",
   "execution_count": 202,
   "outputs": [
    {
     "data": {
      "text/plain": "0.6219589861164183"
     },
     "execution_count": 202,
     "metadata": {},
     "output_type": "execute_result"
    }
   ],
   "source": [
    "accuracy"
   ],
   "metadata": {
    "collapsed": false
   }
  },
  {
   "cell_type": "markdown",
   "source": [
    "Interestingly, we are able to obtain an accuracy score in excess of 0.5 (null accuracy). We aim to improve the accuracy score by incorporating additional variables. We will continue our project with a simplified scope."
   ],
   "metadata": {
    "collapsed": false
   }
  },
  {
   "cell_type": "code",
   "execution_count": 203,
   "outputs": [
    {
     "name": "stderr",
     "output_type": "stream",
     "text": [
      "/Users/gohjunwei/anaconda3/lib/python3.11/site-packages/sklearn/utils/validation.py:767: FutureWarning: is_sparse is deprecated and will be removed in a future version. Check `isinstance(dtype, pd.SparseDtype)` instead.\n",
      "  if not hasattr(array, \"sparse\") and array.dtypes.apply(is_sparse).any():\n",
      "/Users/gohjunwei/anaconda3/lib/python3.11/site-packages/sklearn/utils/validation.py:605: FutureWarning: is_sparse is deprecated and will be removed in a future version. Check `isinstance(dtype, pd.SparseDtype)` instead.\n",
      "  if is_sparse(pd_dtype):\n",
      "/Users/gohjunwei/anaconda3/lib/python3.11/site-packages/sklearn/utils/validation.py:614: FutureWarning: is_sparse is deprecated and will be removed in a future version. Check `isinstance(dtype, pd.SparseDtype)` instead.\n",
      "  if is_sparse(pd_dtype) or not is_extension_array_dtype(pd_dtype):\n",
      "/Users/gohjunwei/anaconda3/lib/python3.11/site-packages/sklearn/utils/validation.py:767: FutureWarning: is_sparse is deprecated and will be removed in a future version. Check `isinstance(dtype, pd.SparseDtype)` instead.\n",
      "  if not hasattr(array, \"sparse\") and array.dtypes.apply(is_sparse).any():\n",
      "/Users/gohjunwei/anaconda3/lib/python3.11/site-packages/sklearn/utils/validation.py:605: FutureWarning: is_sparse is deprecated and will be removed in a future version. Check `isinstance(dtype, pd.SparseDtype)` instead.\n",
      "  if is_sparse(pd_dtype):\n",
      "/Users/gohjunwei/anaconda3/lib/python3.11/site-packages/sklearn/utils/validation.py:614: FutureWarning: is_sparse is deprecated and will be removed in a future version. Check `isinstance(dtype, pd.SparseDtype)` instead.\n",
      "  if is_sparse(pd_dtype) or not is_extension_array_dtype(pd_dtype):\n",
      "/Users/gohjunwei/anaconda3/lib/python3.11/site-packages/sklearn/utils/validation.py:767: FutureWarning: is_sparse is deprecated and will be removed in a future version. Check `isinstance(dtype, pd.SparseDtype)` instead.\n",
      "  if not hasattr(array, \"sparse\") and array.dtypes.apply(is_sparse).any():\n",
      "/Users/gohjunwei/anaconda3/lib/python3.11/site-packages/sklearn/utils/validation.py:605: FutureWarning: is_sparse is deprecated and will be removed in a future version. Check `isinstance(dtype, pd.SparseDtype)` instead.\n",
      "  if is_sparse(pd_dtype):\n",
      "/Users/gohjunwei/anaconda3/lib/python3.11/site-packages/sklearn/utils/validation.py:614: FutureWarning: is_sparse is deprecated and will be removed in a future version. Check `isinstance(dtype, pd.SparseDtype)` instead.\n",
      "  if is_sparse(pd_dtype) or not is_extension_array_dtype(pd_dtype):\n",
      "/Users/gohjunwei/anaconda3/lib/python3.11/site-packages/sklearn/utils/validation.py:767: FutureWarning: is_sparse is deprecated and will be removed in a future version. Check `isinstance(dtype, pd.SparseDtype)` instead.\n",
      "  if not hasattr(array, \"sparse\") and array.dtypes.apply(is_sparse).any():\n",
      "/Users/gohjunwei/anaconda3/lib/python3.11/site-packages/sklearn/utils/validation.py:605: FutureWarning: is_sparse is deprecated and will be removed in a future version. Check `isinstance(dtype, pd.SparseDtype)` instead.\n",
      "  if is_sparse(pd_dtype):\n",
      "/Users/gohjunwei/anaconda3/lib/python3.11/site-packages/sklearn/utils/validation.py:614: FutureWarning: is_sparse is deprecated and will be removed in a future version. Check `isinstance(dtype, pd.SparseDtype)` instead.\n",
      "  if is_sparse(pd_dtype) or not is_extension_array_dtype(pd_dtype):\n"
     ]
    }
   ],
   "source": [
    "X_train_scaled = scaler.fit_transform(df[['timedelta_numeric', 'vader', 'flesch_reading', 'gunning_fog', 'length']])\n",
    "X_test_scaled = scaler.fit_transform(df_test[['timedelta_numeric', 'vader', 'flesch_reading', 'gunning_fog', 'length']])"
   ],
   "metadata": {
    "collapsed": false
   }
  },
  {
   "cell_type": "code",
   "execution_count": 204,
   "outputs": [
    {
     "name": "stderr",
     "output_type": "stream",
     "text": [
      "/Users/gohjunwei/anaconda3/lib/python3.11/site-packages/sklearn/utils/validation.py:605: FutureWarning: is_sparse is deprecated and will be removed in a future version. Check `isinstance(dtype, pd.SparseDtype)` instead.\n",
      "  if is_sparse(pd_dtype):\n",
      "/Users/gohjunwei/anaconda3/lib/python3.11/site-packages/sklearn/utils/validation.py:614: FutureWarning: is_sparse is deprecated and will be removed in a future version. Check `isinstance(dtype, pd.SparseDtype)` instead.\n",
      "  if is_sparse(pd_dtype) or not is_extension_array_dtype(pd_dtype):\n",
      "/Users/gohjunwei/anaconda3/lib/python3.11/site-packages/sklearn/utils/validation.py:605: FutureWarning: is_sparse is deprecated and will be removed in a future version. Check `isinstance(dtype, pd.SparseDtype)` instead.\n",
      "  if is_sparse(pd_dtype):\n",
      "/Users/gohjunwei/anaconda3/lib/python3.11/site-packages/sklearn/utils/validation.py:614: FutureWarning: is_sparse is deprecated and will be removed in a future version. Check `isinstance(dtype, pd.SparseDtype)` instead.\n",
      "  if is_sparse(pd_dtype) or not is_extension_array_dtype(pd_dtype):\n",
      "/Users/gohjunwei/anaconda3/lib/python3.11/site-packages/sklearn/utils/validation.py:605: FutureWarning: is_sparse is deprecated and will be removed in a future version. Check `isinstance(dtype, pd.SparseDtype)` instead.\n",
      "  if is_sparse(pd_dtype):\n",
      "/Users/gohjunwei/anaconda3/lib/python3.11/site-packages/sklearn/utils/validation.py:614: FutureWarning: is_sparse is deprecated and will be removed in a future version. Check `isinstance(dtype, pd.SparseDtype)` instead.\n",
      "  if is_sparse(pd_dtype) or not is_extension_array_dtype(pd_dtype):\n",
      "/Users/gohjunwei/anaconda3/lib/python3.11/site-packages/sklearn/utils/validation.py:605: FutureWarning: is_sparse is deprecated and will be removed in a future version. Check `isinstance(dtype, pd.SparseDtype)` instead.\n",
      "  if is_sparse(pd_dtype):\n",
      "/Users/gohjunwei/anaconda3/lib/python3.11/site-packages/sklearn/utils/validation.py:614: FutureWarning: is_sparse is deprecated and will be removed in a future version. Check `isinstance(dtype, pd.SparseDtype)` instead.\n",
      "  if is_sparse(pd_dtype) or not is_extension_array_dtype(pd_dtype):\n"
     ]
    }
   ],
   "source": [
    "classifier.fit(X_train_scaled, y_train['above_median'])\n",
    "\n",
    "y_pred = classifier.predict(X_test_scaled)\n",
    "\n",
    "accuracy = accuracy_score(y_test['above_median'], y_pred)\n"
   ],
   "metadata": {
    "collapsed": false
   }
  },
  {
   "cell_type": "code",
   "execution_count": 205,
   "outputs": [
    {
     "data": {
      "text/plain": "0.630747675455356"
     },
     "execution_count": 205,
     "metadata": {},
     "output_type": "execute_result"
    }
   ],
   "source": [
    "accuracy"
   ],
   "metadata": {
    "collapsed": false
   }
  },
  {
   "cell_type": "markdown",
   "source": [
    "We note that the addition of the gunning_fog complexity score does not significantly improve the accuracy score. We continue our analysis using our existing featureset:\n",
    "\n",
    "'timedelta_numeric', 'vader', 'flesch_reading', 'length'"
   ],
   "metadata": {
    "collapsed": false
   }
  },
  {
   "cell_type": "markdown",
   "source": [
    "In order to improve the classification accuracy, we attempt to implement a gradient boosted tree."
   ],
   "metadata": {
    "collapsed": false
   }
  },
  {
   "cell_type": "code",
   "execution_count": 206,
   "outputs": [
    {
     "name": "stderr",
     "output_type": "stream",
     "text": [
      "/Users/gohjunwei/anaconda3/lib/python3.11/site-packages/sklearn/utils/validation.py:767: FutureWarning: is_sparse is deprecated and will be removed in a future version. Check `isinstance(dtype, pd.SparseDtype)` instead.\n",
      "  if not hasattr(array, \"sparse\") and array.dtypes.apply(is_sparse).any():\n",
      "/Users/gohjunwei/anaconda3/lib/python3.11/site-packages/sklearn/utils/validation.py:605: FutureWarning: is_sparse is deprecated and will be removed in a future version. Check `isinstance(dtype, pd.SparseDtype)` instead.\n",
      "  if is_sparse(pd_dtype):\n",
      "/Users/gohjunwei/anaconda3/lib/python3.11/site-packages/sklearn/utils/validation.py:614: FutureWarning: is_sparse is deprecated and will be removed in a future version. Check `isinstance(dtype, pd.SparseDtype)` instead.\n",
      "  if is_sparse(pd_dtype) or not is_extension_array_dtype(pd_dtype):\n",
      "/Users/gohjunwei/anaconda3/lib/python3.11/site-packages/sklearn/utils/validation.py:767: FutureWarning: is_sparse is deprecated and will be removed in a future version. Check `isinstance(dtype, pd.SparseDtype)` instead.\n",
      "  if not hasattr(array, \"sparse\") and array.dtypes.apply(is_sparse).any():\n",
      "/Users/gohjunwei/anaconda3/lib/python3.11/site-packages/sklearn/utils/validation.py:605: FutureWarning: is_sparse is deprecated and will be removed in a future version. Check `isinstance(dtype, pd.SparseDtype)` instead.\n",
      "  if is_sparse(pd_dtype):\n",
      "/Users/gohjunwei/anaconda3/lib/python3.11/site-packages/sklearn/utils/validation.py:614: FutureWarning: is_sparse is deprecated and will be removed in a future version. Check `isinstance(dtype, pd.SparseDtype)` instead.\n",
      "  if is_sparse(pd_dtype) or not is_extension_array_dtype(pd_dtype):\n",
      "/Users/gohjunwei/anaconda3/lib/python3.11/site-packages/sklearn/utils/validation.py:767: FutureWarning: is_sparse is deprecated and will be removed in a future version. Check `isinstance(dtype, pd.SparseDtype)` instead.\n",
      "  if not hasattr(array, \"sparse\") and array.dtypes.apply(is_sparse).any():\n",
      "/Users/gohjunwei/anaconda3/lib/python3.11/site-packages/sklearn/utils/validation.py:605: FutureWarning: is_sparse is deprecated and will be removed in a future version. Check `isinstance(dtype, pd.SparseDtype)` instead.\n",
      "  if is_sparse(pd_dtype):\n",
      "/Users/gohjunwei/anaconda3/lib/python3.11/site-packages/sklearn/utils/validation.py:614: FutureWarning: is_sparse is deprecated and will be removed in a future version. Check `isinstance(dtype, pd.SparseDtype)` instead.\n",
      "  if is_sparse(pd_dtype) or not is_extension_array_dtype(pd_dtype):\n",
      "/Users/gohjunwei/anaconda3/lib/python3.11/site-packages/sklearn/utils/validation.py:767: FutureWarning: is_sparse is deprecated and will be removed in a future version. Check `isinstance(dtype, pd.SparseDtype)` instead.\n",
      "  if not hasattr(array, \"sparse\") and array.dtypes.apply(is_sparse).any():\n",
      "/Users/gohjunwei/anaconda3/lib/python3.11/site-packages/sklearn/utils/validation.py:605: FutureWarning: is_sparse is deprecated and will be removed in a future version. Check `isinstance(dtype, pd.SparseDtype)` instead.\n",
      "  if is_sparse(pd_dtype):\n",
      "/Users/gohjunwei/anaconda3/lib/python3.11/site-packages/sklearn/utils/validation.py:614: FutureWarning: is_sparse is deprecated and will be removed in a future version. Check `isinstance(dtype, pd.SparseDtype)` instead.\n",
      "  if is_sparse(pd_dtype) or not is_extension_array_dtype(pd_dtype):\n"
     ]
    }
   ],
   "source": [
    "from sklearn.ensemble import GradientBoostingClassifier\n",
    "\n",
    "X_train_scaled = scaler.fit_transform(df[['timedelta_numeric', 'vader', 'flesch_reading', 'length']])\n",
    "X_test_scaled = scaler.fit_transform(df_test[['timedelta_numeric', 'vader', 'flesch_reading', 'length']])\n",
    "\n",
    "gb_clf = GradientBoostingClassifier(n_estimators=100, learning_rate=0.1, max_depth=3, random_state=42)"
   ],
   "metadata": {
    "collapsed": false
   }
  },
  {
   "cell_type": "code",
   "execution_count": 207,
   "outputs": [
    {
     "name": "stderr",
     "output_type": "stream",
     "text": [
      "/Users/gohjunwei/anaconda3/lib/python3.11/site-packages/sklearn/utils/validation.py:605: FutureWarning: is_sparse is deprecated and will be removed in a future version. Check `isinstance(dtype, pd.SparseDtype)` instead.\n",
      "  if is_sparse(pd_dtype):\n",
      "/Users/gohjunwei/anaconda3/lib/python3.11/site-packages/sklearn/utils/validation.py:614: FutureWarning: is_sparse is deprecated and will be removed in a future version. Check `isinstance(dtype, pd.SparseDtype)` instead.\n",
      "  if is_sparse(pd_dtype) or not is_extension_array_dtype(pd_dtype):\n"
     ]
    },
    {
     "data": {
      "text/plain": "GradientBoostingClassifier(random_state=42)",
      "text/html": "<style>#sk-container-id-9 {color: black;background-color: white;}#sk-container-id-9 pre{padding: 0;}#sk-container-id-9 div.sk-toggleable {background-color: white;}#sk-container-id-9 label.sk-toggleable__label {cursor: pointer;display: block;width: 100%;margin-bottom: 0;padding: 0.3em;box-sizing: border-box;text-align: center;}#sk-container-id-9 label.sk-toggleable__label-arrow:before {content: \"▸\";float: left;margin-right: 0.25em;color: #696969;}#sk-container-id-9 label.sk-toggleable__label-arrow:hover:before {color: black;}#sk-container-id-9 div.sk-estimator:hover label.sk-toggleable__label-arrow:before {color: black;}#sk-container-id-9 div.sk-toggleable__content {max-height: 0;max-width: 0;overflow: hidden;text-align: left;background-color: #f0f8ff;}#sk-container-id-9 div.sk-toggleable__content pre {margin: 0.2em;color: black;border-radius: 0.25em;background-color: #f0f8ff;}#sk-container-id-9 input.sk-toggleable__control:checked~div.sk-toggleable__content {max-height: 200px;max-width: 100%;overflow: auto;}#sk-container-id-9 input.sk-toggleable__control:checked~label.sk-toggleable__label-arrow:before {content: \"▾\";}#sk-container-id-9 div.sk-estimator input.sk-toggleable__control:checked~label.sk-toggleable__label {background-color: #d4ebff;}#sk-container-id-9 div.sk-label input.sk-toggleable__control:checked~label.sk-toggleable__label {background-color: #d4ebff;}#sk-container-id-9 input.sk-hidden--visually {border: 0;clip: rect(1px 1px 1px 1px);clip: rect(1px, 1px, 1px, 1px);height: 1px;margin: -1px;overflow: hidden;padding: 0;position: absolute;width: 1px;}#sk-container-id-9 div.sk-estimator {font-family: monospace;background-color: #f0f8ff;border: 1px dotted black;border-radius: 0.25em;box-sizing: border-box;margin-bottom: 0.5em;}#sk-container-id-9 div.sk-estimator:hover {background-color: #d4ebff;}#sk-container-id-9 div.sk-parallel-item::after {content: \"\";width: 100%;border-bottom: 1px solid gray;flex-grow: 1;}#sk-container-id-9 div.sk-label:hover label.sk-toggleable__label {background-color: #d4ebff;}#sk-container-id-9 div.sk-serial::before {content: \"\";position: absolute;border-left: 1px solid gray;box-sizing: border-box;top: 0;bottom: 0;left: 50%;z-index: 0;}#sk-container-id-9 div.sk-serial {display: flex;flex-direction: column;align-items: center;background-color: white;padding-right: 0.2em;padding-left: 0.2em;position: relative;}#sk-container-id-9 div.sk-item {position: relative;z-index: 1;}#sk-container-id-9 div.sk-parallel {display: flex;align-items: stretch;justify-content: center;background-color: white;position: relative;}#sk-container-id-9 div.sk-item::before, #sk-container-id-9 div.sk-parallel-item::before {content: \"\";position: absolute;border-left: 1px solid gray;box-sizing: border-box;top: 0;bottom: 0;left: 50%;z-index: -1;}#sk-container-id-9 div.sk-parallel-item {display: flex;flex-direction: column;z-index: 1;position: relative;background-color: white;}#sk-container-id-9 div.sk-parallel-item:first-child::after {align-self: flex-end;width: 50%;}#sk-container-id-9 div.sk-parallel-item:last-child::after {align-self: flex-start;width: 50%;}#sk-container-id-9 div.sk-parallel-item:only-child::after {width: 0;}#sk-container-id-9 div.sk-dashed-wrapped {border: 1px dashed gray;margin: 0 0.4em 0.5em 0.4em;box-sizing: border-box;padding-bottom: 0.4em;background-color: white;}#sk-container-id-9 div.sk-label label {font-family: monospace;font-weight: bold;display: inline-block;line-height: 1.2em;}#sk-container-id-9 div.sk-label-container {text-align: center;}#sk-container-id-9 div.sk-container {/* jupyter's `normalize.less` sets `[hidden] { display: none; }` but bootstrap.min.css set `[hidden] { display: none !important; }` so we also need the `!important` here to be able to override the default hidden behavior on the sphinx rendered scikit-learn.org. See: https://github.com/scikit-learn/scikit-learn/issues/21755 */display: inline-block !important;position: relative;}#sk-container-id-9 div.sk-text-repr-fallback {display: none;}</style><div id=\"sk-container-id-9\" class=\"sk-top-container\"><div class=\"sk-text-repr-fallback\"><pre>GradientBoostingClassifier(random_state=42)</pre><b>In a Jupyter environment, please rerun this cell to show the HTML representation or trust the notebook. <br />On GitHub, the HTML representation is unable to render, please try loading this page with nbviewer.org.</b></div><div class=\"sk-container\" hidden><div class=\"sk-item\"><div class=\"sk-estimator sk-toggleable\"><input class=\"sk-toggleable__control sk-hidden--visually\" id=\"sk-estimator-id-17\" type=\"checkbox\" checked><label for=\"sk-estimator-id-17\" class=\"sk-toggleable__label sk-toggleable__label-arrow\">GradientBoostingClassifier</label><div class=\"sk-toggleable__content\"><pre>GradientBoostingClassifier(random_state=42)</pre></div></div></div></div></div>"
     },
     "execution_count": 207,
     "metadata": {},
     "output_type": "execute_result"
    }
   ],
   "source": [
    "gb_clf.fit(X_train_scaled, y_train['above_median'])"
   ],
   "metadata": {
    "collapsed": false
   }
  },
  {
   "cell_type": "code",
   "execution_count": 208,
   "outputs": [
    {
     "name": "stdout",
     "output_type": "stream",
     "text": [
      "Model Accuracy: 0.66\n"
     ]
    },
    {
     "name": "stderr",
     "output_type": "stream",
     "text": [
      "/Users/gohjunwei/anaconda3/lib/python3.11/site-packages/sklearn/utils/validation.py:605: FutureWarning: is_sparse is deprecated and will be removed in a future version. Check `isinstance(dtype, pd.SparseDtype)` instead.\n",
      "  if is_sparse(pd_dtype):\n",
      "/Users/gohjunwei/anaconda3/lib/python3.11/site-packages/sklearn/utils/validation.py:614: FutureWarning: is_sparse is deprecated and will be removed in a future version. Check `isinstance(dtype, pd.SparseDtype)` instead.\n",
      "  if is_sparse(pd_dtype) or not is_extension_array_dtype(pd_dtype):\n",
      "/Users/gohjunwei/anaconda3/lib/python3.11/site-packages/sklearn/utils/validation.py:605: FutureWarning: is_sparse is deprecated and will be removed in a future version. Check `isinstance(dtype, pd.SparseDtype)` instead.\n",
      "  if is_sparse(pd_dtype):\n",
      "/Users/gohjunwei/anaconda3/lib/python3.11/site-packages/sklearn/utils/validation.py:614: FutureWarning: is_sparse is deprecated and will be removed in a future version. Check `isinstance(dtype, pd.SparseDtype)` instead.\n",
      "  if is_sparse(pd_dtype) or not is_extension_array_dtype(pd_dtype):\n",
      "/Users/gohjunwei/anaconda3/lib/python3.11/site-packages/sklearn/utils/validation.py:605: FutureWarning: is_sparse is deprecated and will be removed in a future version. Check `isinstance(dtype, pd.SparseDtype)` instead.\n",
      "  if is_sparse(pd_dtype):\n",
      "/Users/gohjunwei/anaconda3/lib/python3.11/site-packages/sklearn/utils/validation.py:614: FutureWarning: is_sparse is deprecated and will be removed in a future version. Check `isinstance(dtype, pd.SparseDtype)` instead.\n",
      "  if is_sparse(pd_dtype) or not is_extension_array_dtype(pd_dtype):\n"
     ]
    }
   ],
   "source": [
    "y_pred = gb_clf.predict(X_test_scaled)\n",
    "\n",
    "accuracy = accuracy_score(y_test['above_median'], y_pred)\n",
    "print(f\"Model Accuracy: {accuracy:.2f}\")"
   ],
   "metadata": {
    "collapsed": false
   }
  },
  {
   "cell_type": "markdown",
   "source": [
    "Here, we improve the model accuracy of gradient boosted trees to 66%."
   ],
   "metadata": {
    "collapsed": false
   }
  },
  {
   "cell_type": "markdown",
   "source": [
    "We now attempt to finetune our model accuracy by leveraging XGBoost."
   ],
   "metadata": {
    "collapsed": false
   }
  },
  {
   "cell_type": "code",
   "execution_count": 209,
   "outputs": [
    {
     "name": "stderr",
     "output_type": "stream",
     "text": [
      "/Users/gohjunwei/anaconda3/lib/python3.11/site-packages/sklearn/utils/validation.py:605: FutureWarning: is_sparse is deprecated and will be removed in a future version. Check `isinstance(dtype, pd.SparseDtype)` instead.\n",
      "  if is_sparse(pd_dtype):\n",
      "/Users/gohjunwei/anaconda3/lib/python3.11/site-packages/sklearn/utils/validation.py:614: FutureWarning: is_sparse is deprecated and will be removed in a future version. Check `isinstance(dtype, pd.SparseDtype)` instead.\n",
      "  if is_sparse(pd_dtype) or not is_extension_array_dtype(pd_dtype):\n",
      "/Users/gohjunwei/anaconda3/lib/python3.11/site-packages/sklearn/utils/validation.py:605: FutureWarning: is_sparse is deprecated and will be removed in a future version. Check `isinstance(dtype, pd.SparseDtype)` instead.\n",
      "  if is_sparse(pd_dtype):\n",
      "/Users/gohjunwei/anaconda3/lib/python3.11/site-packages/sklearn/utils/validation.py:614: FutureWarning: is_sparse is deprecated and will be removed in a future version. Check `isinstance(dtype, pd.SparseDtype)` instead.\n",
      "  if is_sparse(pd_dtype) or not is_extension_array_dtype(pd_dtype):\n",
      "/Users/gohjunwei/anaconda3/lib/python3.11/site-packages/sklearn/utils/validation.py:605: FutureWarning: is_sparse is deprecated and will be removed in a future version. Check `isinstance(dtype, pd.SparseDtype)` instead.\n",
      "  if is_sparse(pd_dtype):\n",
      "/Users/gohjunwei/anaconda3/lib/python3.11/site-packages/sklearn/utils/validation.py:614: FutureWarning: is_sparse is deprecated and will be removed in a future version. Check `isinstance(dtype, pd.SparseDtype)` instead.\n",
      "  if is_sparse(pd_dtype) or not is_extension_array_dtype(pd_dtype):\n"
     ]
    },
    {
     "name": "stdout",
     "output_type": "stream",
     "text": [
      "Fitting 3 folds for each of 25 candidates, totalling 75 fits\n"
     ]
    },
    {
     "name": "stderr",
     "output_type": "stream",
     "text": [
      "/Users/gohjunwei/anaconda3/lib/python3.11/site-packages/sklearn/utils/validation.py:605: FutureWarning: is_sparse is deprecated and will be removed in a future version. Check `isinstance(dtype, pd.SparseDtype)` instead.\n",
      "  if is_sparse(pd_dtype):\n",
      "/Users/gohjunwei/anaconda3/lib/python3.11/site-packages/sklearn/utils/validation.py:614: FutureWarning: is_sparse is deprecated and will be removed in a future version. Check `isinstance(dtype, pd.SparseDtype)` instead.\n",
      "  if is_sparse(pd_dtype) or not is_extension_array_dtype(pd_dtype):\n",
      "/Users/gohjunwei/anaconda3/lib/python3.11/site-packages/sklearn/utils/validation.py:605: FutureWarning: is_sparse is deprecated and will be removed in a future version. Check `isinstance(dtype, pd.SparseDtype)` instead.\n",
      "  if is_sparse(pd_dtype):\n",
      "/Users/gohjunwei/anaconda3/lib/python3.11/site-packages/sklearn/utils/validation.py:614: FutureWarning: is_sparse is deprecated and will be removed in a future version. Check `isinstance(dtype, pd.SparseDtype)` instead.\n",
      "  if is_sparse(pd_dtype) or not is_extension_array_dtype(pd_dtype):\n",
      "/Users/gohjunwei/anaconda3/lib/python3.11/site-packages/sklearn/utils/validation.py:605: FutureWarning: is_sparse is deprecated and will be removed in a future version. Check `isinstance(dtype, pd.SparseDtype)` instead.\n",
      "  if is_sparse(pd_dtype):\n",
      "/Users/gohjunwei/anaconda3/lib/python3.11/site-packages/sklearn/utils/validation.py:614: FutureWarning: is_sparse is deprecated and will be removed in a future version. Check `isinstance(dtype, pd.SparseDtype)` instead.\n",
      "  if is_sparse(pd_dtype) or not is_extension_array_dtype(pd_dtype):\n"
     ]
    },
    {
     "name": "stdout",
     "output_type": "stream",
     "text": [
      "[CV] END learning_rate=0.19727005942368125, max_depth=13, n_estimators=171; total time=   1.1s\n"
     ]
    },
    {
     "name": "stderr",
     "output_type": "stream",
     "text": [
      "/Users/gohjunwei/anaconda3/lib/python3.11/site-packages/sklearn/utils/validation.py:605: FutureWarning: is_sparse is deprecated and will be removed in a future version. Check `isinstance(dtype, pd.SparseDtype)` instead.\n",
      "  if is_sparse(pd_dtype):\n",
      "/Users/gohjunwei/anaconda3/lib/python3.11/site-packages/sklearn/utils/validation.py:614: FutureWarning: is_sparse is deprecated and will be removed in a future version. Check `isinstance(dtype, pd.SparseDtype)` instead.\n",
      "  if is_sparse(pd_dtype) or not is_extension_array_dtype(pd_dtype):\n",
      "/Users/gohjunwei/anaconda3/lib/python3.11/site-packages/sklearn/utils/validation.py:605: FutureWarning: is_sparse is deprecated and will be removed in a future version. Check `isinstance(dtype, pd.SparseDtype)` instead.\n",
      "  if is_sparse(pd_dtype):\n",
      "/Users/gohjunwei/anaconda3/lib/python3.11/site-packages/sklearn/utils/validation.py:614: FutureWarning: is_sparse is deprecated and will be removed in a future version. Check `isinstance(dtype, pd.SparseDtype)` instead.\n",
      "  if is_sparse(pd_dtype) or not is_extension_array_dtype(pd_dtype):\n",
      "/Users/gohjunwei/anaconda3/lib/python3.11/site-packages/sklearn/utils/validation.py:605: FutureWarning: is_sparse is deprecated and will be removed in a future version. Check `isinstance(dtype, pd.SparseDtype)` instead.\n",
      "  if is_sparse(pd_dtype):\n",
      "/Users/gohjunwei/anaconda3/lib/python3.11/site-packages/sklearn/utils/validation.py:614: FutureWarning: is_sparse is deprecated and will be removed in a future version. Check `isinstance(dtype, pd.SparseDtype)` instead.\n",
      "  if is_sparse(pd_dtype) or not is_extension_array_dtype(pd_dtype):\n"
     ]
    },
    {
     "name": "stdout",
     "output_type": "stream",
     "text": [
      "[CV] END learning_rate=0.19727005942368125, max_depth=13, n_estimators=171; total time=   1.2s\n"
     ]
    },
    {
     "name": "stderr",
     "output_type": "stream",
     "text": [
      "/Users/gohjunwei/anaconda3/lib/python3.11/site-packages/sklearn/utils/validation.py:605: FutureWarning: is_sparse is deprecated and will be removed in a future version. Check `isinstance(dtype, pd.SparseDtype)` instead.\n",
      "  if is_sparse(pd_dtype):\n",
      "/Users/gohjunwei/anaconda3/lib/python3.11/site-packages/sklearn/utils/validation.py:614: FutureWarning: is_sparse is deprecated and will be removed in a future version. Check `isinstance(dtype, pd.SparseDtype)` instead.\n",
      "  if is_sparse(pd_dtype) or not is_extension_array_dtype(pd_dtype):\n",
      "/Users/gohjunwei/anaconda3/lib/python3.11/site-packages/sklearn/utils/validation.py:605: FutureWarning: is_sparse is deprecated and will be removed in a future version. Check `isinstance(dtype, pd.SparseDtype)` instead.\n",
      "  if is_sparse(pd_dtype):\n",
      "/Users/gohjunwei/anaconda3/lib/python3.11/site-packages/sklearn/utils/validation.py:614: FutureWarning: is_sparse is deprecated and will be removed in a future version. Check `isinstance(dtype, pd.SparseDtype)` instead.\n",
      "  if is_sparse(pd_dtype) or not is_extension_array_dtype(pd_dtype):\n",
      "/Users/gohjunwei/anaconda3/lib/python3.11/site-packages/sklearn/utils/validation.py:605: FutureWarning: is_sparse is deprecated and will be removed in a future version. Check `isinstance(dtype, pd.SparseDtype)` instead.\n",
      "  if is_sparse(pd_dtype):\n",
      "/Users/gohjunwei/anaconda3/lib/python3.11/site-packages/sklearn/utils/validation.py:614: FutureWarning: is_sparse is deprecated and will be removed in a future version. Check `isinstance(dtype, pd.SparseDtype)` instead.\n",
      "  if is_sparse(pd_dtype) or not is_extension_array_dtype(pd_dtype):\n"
     ]
    },
    {
     "name": "stdout",
     "output_type": "stream",
     "text": [
      "[CV] END learning_rate=0.19727005942368125, max_depth=13, n_estimators=171; total time=   1.0s\n"
     ]
    },
    {
     "name": "stderr",
     "output_type": "stream",
     "text": [
      "/Users/gohjunwei/anaconda3/lib/python3.11/site-packages/sklearn/utils/validation.py:605: FutureWarning: is_sparse is deprecated and will be removed in a future version. Check `isinstance(dtype, pd.SparseDtype)` instead.\n",
      "  if is_sparse(pd_dtype):\n",
      "/Users/gohjunwei/anaconda3/lib/python3.11/site-packages/sklearn/utils/validation.py:614: FutureWarning: is_sparse is deprecated and will be removed in a future version. Check `isinstance(dtype, pd.SparseDtype)` instead.\n",
      "  if is_sparse(pd_dtype) or not is_extension_array_dtype(pd_dtype):\n",
      "/Users/gohjunwei/anaconda3/lib/python3.11/site-packages/sklearn/utils/validation.py:605: FutureWarning: is_sparse is deprecated and will be removed in a future version. Check `isinstance(dtype, pd.SparseDtype)` instead.\n",
      "  if is_sparse(pd_dtype):\n",
      "/Users/gohjunwei/anaconda3/lib/python3.11/site-packages/sklearn/utils/validation.py:614: FutureWarning: is_sparse is deprecated and will be removed in a future version. Check `isinstance(dtype, pd.SparseDtype)` instead.\n",
      "  if is_sparse(pd_dtype) or not is_extension_array_dtype(pd_dtype):\n",
      "/Users/gohjunwei/anaconda3/lib/python3.11/site-packages/sklearn/utils/validation.py:605: FutureWarning: is_sparse is deprecated and will be removed in a future version. Check `isinstance(dtype, pd.SparseDtype)` instead.\n",
      "  if is_sparse(pd_dtype):\n",
      "/Users/gohjunwei/anaconda3/lib/python3.11/site-packages/sklearn/utils/validation.py:614: FutureWarning: is_sparse is deprecated and will be removed in a future version. Check `isinstance(dtype, pd.SparseDtype)` instead.\n",
      "  if is_sparse(pd_dtype) or not is_extension_array_dtype(pd_dtype):\n"
     ]
    },
    {
     "name": "stdout",
     "output_type": "stream",
     "text": [
      "[CV] END learning_rate=0.3093292420985183, max_depth=9, n_estimators=221; total time=   0.9s\n"
     ]
    },
    {
     "name": "stderr",
     "output_type": "stream",
     "text": [
      "/Users/gohjunwei/anaconda3/lib/python3.11/site-packages/sklearn/utils/validation.py:605: FutureWarning: is_sparse is deprecated and will be removed in a future version. Check `isinstance(dtype, pd.SparseDtype)` instead.\n",
      "  if is_sparse(pd_dtype):\n",
      "/Users/gohjunwei/anaconda3/lib/python3.11/site-packages/sklearn/utils/validation.py:614: FutureWarning: is_sparse is deprecated and will be removed in a future version. Check `isinstance(dtype, pd.SparseDtype)` instead.\n",
      "  if is_sparse(pd_dtype) or not is_extension_array_dtype(pd_dtype):\n",
      "/Users/gohjunwei/anaconda3/lib/python3.11/site-packages/sklearn/utils/validation.py:605: FutureWarning: is_sparse is deprecated and will be removed in a future version. Check `isinstance(dtype, pd.SparseDtype)` instead.\n",
      "  if is_sparse(pd_dtype):\n",
      "/Users/gohjunwei/anaconda3/lib/python3.11/site-packages/sklearn/utils/validation.py:614: FutureWarning: is_sparse is deprecated and will be removed in a future version. Check `isinstance(dtype, pd.SparseDtype)` instead.\n",
      "  if is_sparse(pd_dtype) or not is_extension_array_dtype(pd_dtype):\n",
      "/Users/gohjunwei/anaconda3/lib/python3.11/site-packages/sklearn/utils/validation.py:605: FutureWarning: is_sparse is deprecated and will be removed in a future version. Check `isinstance(dtype, pd.SparseDtype)` instead.\n",
      "  if is_sparse(pd_dtype):\n",
      "/Users/gohjunwei/anaconda3/lib/python3.11/site-packages/sklearn/utils/validation.py:614: FutureWarning: is_sparse is deprecated and will be removed in a future version. Check `isinstance(dtype, pd.SparseDtype)` instead.\n",
      "  if is_sparse(pd_dtype) or not is_extension_array_dtype(pd_dtype):\n"
     ]
    },
    {
     "name": "stdout",
     "output_type": "stream",
     "text": [
      "[CV] END learning_rate=0.3093292420985183, max_depth=9, n_estimators=221; total time=   1.1s\n"
     ]
    },
    {
     "name": "stderr",
     "output_type": "stream",
     "text": [
      "/Users/gohjunwei/anaconda3/lib/python3.11/site-packages/sklearn/utils/validation.py:605: FutureWarning: is_sparse is deprecated and will be removed in a future version. Check `isinstance(dtype, pd.SparseDtype)` instead.\n",
      "  if is_sparse(pd_dtype):\n",
      "/Users/gohjunwei/anaconda3/lib/python3.11/site-packages/sklearn/utils/validation.py:614: FutureWarning: is_sparse is deprecated and will be removed in a future version. Check `isinstance(dtype, pd.SparseDtype)` instead.\n",
      "  if is_sparse(pd_dtype) or not is_extension_array_dtype(pd_dtype):\n",
      "/Users/gohjunwei/anaconda3/lib/python3.11/site-packages/sklearn/utils/validation.py:605: FutureWarning: is_sparse is deprecated and will be removed in a future version. Check `isinstance(dtype, pd.SparseDtype)` instead.\n",
      "  if is_sparse(pd_dtype):\n",
      "/Users/gohjunwei/anaconda3/lib/python3.11/site-packages/sklearn/utils/validation.py:614: FutureWarning: is_sparse is deprecated and will be removed in a future version. Check `isinstance(dtype, pd.SparseDtype)` instead.\n",
      "  if is_sparse(pd_dtype) or not is_extension_array_dtype(pd_dtype):\n",
      "/Users/gohjunwei/anaconda3/lib/python3.11/site-packages/sklearn/utils/validation.py:605: FutureWarning: is_sparse is deprecated and will be removed in a future version. Check `isinstance(dtype, pd.SparseDtype)` instead.\n",
      "  if is_sparse(pd_dtype):\n",
      "/Users/gohjunwei/anaconda3/lib/python3.11/site-packages/sklearn/utils/validation.py:614: FutureWarning: is_sparse is deprecated and will be removed in a future version. Check `isinstance(dtype, pd.SparseDtype)` instead.\n",
      "  if is_sparse(pd_dtype) or not is_extension_array_dtype(pd_dtype):\n"
     ]
    },
    {
     "name": "stdout",
     "output_type": "stream",
     "text": [
      "[CV] END learning_rate=0.3093292420985183, max_depth=9, n_estimators=221; total time=   0.9s\n"
     ]
    },
    {
     "name": "stderr",
     "output_type": "stream",
     "text": [
      "/Users/gohjunwei/anaconda3/lib/python3.11/site-packages/sklearn/utils/validation.py:605: FutureWarning: is_sparse is deprecated and will be removed in a future version. Check `isinstance(dtype, pd.SparseDtype)` instead.\n",
      "  if is_sparse(pd_dtype):\n",
      "/Users/gohjunwei/anaconda3/lib/python3.11/site-packages/sklearn/utils/validation.py:614: FutureWarning: is_sparse is deprecated and will be removed in a future version. Check `isinstance(dtype, pd.SparseDtype)` instead.\n",
      "  if is_sparse(pd_dtype) or not is_extension_array_dtype(pd_dtype):\n",
      "/Users/gohjunwei/anaconda3/lib/python3.11/site-packages/sklearn/utils/validation.py:605: FutureWarning: is_sparse is deprecated and will be removed in a future version. Check `isinstance(dtype, pd.SparseDtype)` instead.\n",
      "  if is_sparse(pd_dtype):\n",
      "/Users/gohjunwei/anaconda3/lib/python3.11/site-packages/sklearn/utils/validation.py:614: FutureWarning: is_sparse is deprecated and will be removed in a future version. Check `isinstance(dtype, pd.SparseDtype)` instead.\n",
      "  if is_sparse(pd_dtype) or not is_extension_array_dtype(pd_dtype):\n",
      "/Users/gohjunwei/anaconda3/lib/python3.11/site-packages/sklearn/utils/validation.py:605: FutureWarning: is_sparse is deprecated and will be removed in a future version. Check `isinstance(dtype, pd.SparseDtype)` instead.\n",
      "  if is_sparse(pd_dtype):\n",
      "/Users/gohjunwei/anaconda3/lib/python3.11/site-packages/sklearn/utils/validation.py:614: FutureWarning: is_sparse is deprecated and will be removed in a future version. Check `isinstance(dtype, pd.SparseDtype)` instead.\n",
      "  if is_sparse(pd_dtype) or not is_extension_array_dtype(pd_dtype):\n"
     ]
    },
    {
     "name": "stdout",
     "output_type": "stream",
     "text": [
      "[CV] END learning_rate=0.08799726016810132, max_depth=13, n_estimators=558; total time=   3.5s\n"
     ]
    },
    {
     "name": "stderr",
     "output_type": "stream",
     "text": [
      "/Users/gohjunwei/anaconda3/lib/python3.11/site-packages/sklearn/utils/validation.py:605: FutureWarning: is_sparse is deprecated and will be removed in a future version. Check `isinstance(dtype, pd.SparseDtype)` instead.\n",
      "  if is_sparse(pd_dtype):\n",
      "/Users/gohjunwei/anaconda3/lib/python3.11/site-packages/sklearn/utils/validation.py:614: FutureWarning: is_sparse is deprecated and will be removed in a future version. Check `isinstance(dtype, pd.SparseDtype)` instead.\n",
      "  if is_sparse(pd_dtype) or not is_extension_array_dtype(pd_dtype):\n",
      "/Users/gohjunwei/anaconda3/lib/python3.11/site-packages/sklearn/utils/validation.py:605: FutureWarning: is_sparse is deprecated and will be removed in a future version. Check `isinstance(dtype, pd.SparseDtype)` instead.\n",
      "  if is_sparse(pd_dtype):\n",
      "/Users/gohjunwei/anaconda3/lib/python3.11/site-packages/sklearn/utils/validation.py:614: FutureWarning: is_sparse is deprecated and will be removed in a future version. Check `isinstance(dtype, pd.SparseDtype)` instead.\n",
      "  if is_sparse(pd_dtype) or not is_extension_array_dtype(pd_dtype):\n",
      "/Users/gohjunwei/anaconda3/lib/python3.11/site-packages/sklearn/utils/validation.py:605: FutureWarning: is_sparse is deprecated and will be removed in a future version. Check `isinstance(dtype, pd.SparseDtype)` instead.\n",
      "  if is_sparse(pd_dtype):\n",
      "/Users/gohjunwei/anaconda3/lib/python3.11/site-packages/sklearn/utils/validation.py:614: FutureWarning: is_sparse is deprecated and will be removed in a future version. Check `isinstance(dtype, pd.SparseDtype)` instead.\n",
      "  if is_sparse(pd_dtype) or not is_extension_array_dtype(pd_dtype):\n"
     ]
    },
    {
     "name": "stdout",
     "output_type": "stream",
     "text": [
      "[CV] END learning_rate=0.08799726016810132, max_depth=13, n_estimators=558; total time=   3.0s\n"
     ]
    },
    {
     "name": "stderr",
     "output_type": "stream",
     "text": [
      "/Users/gohjunwei/anaconda3/lib/python3.11/site-packages/sklearn/utils/validation.py:605: FutureWarning: is_sparse is deprecated and will be removed in a future version. Check `isinstance(dtype, pd.SparseDtype)` instead.\n",
      "  if is_sparse(pd_dtype):\n",
      "/Users/gohjunwei/anaconda3/lib/python3.11/site-packages/sklearn/utils/validation.py:614: FutureWarning: is_sparse is deprecated and will be removed in a future version. Check `isinstance(dtype, pd.SparseDtype)` instead.\n",
      "  if is_sparse(pd_dtype) or not is_extension_array_dtype(pd_dtype):\n",
      "/Users/gohjunwei/anaconda3/lib/python3.11/site-packages/sklearn/utils/validation.py:605: FutureWarning: is_sparse is deprecated and will be removed in a future version. Check `isinstance(dtype, pd.SparseDtype)` instead.\n",
      "  if is_sparse(pd_dtype):\n",
      "/Users/gohjunwei/anaconda3/lib/python3.11/site-packages/sklearn/utils/validation.py:614: FutureWarning: is_sparse is deprecated and will be removed in a future version. Check `isinstance(dtype, pd.SparseDtype)` instead.\n",
      "  if is_sparse(pd_dtype) or not is_extension_array_dtype(pd_dtype):\n",
      "/Users/gohjunwei/anaconda3/lib/python3.11/site-packages/sklearn/utils/validation.py:605: FutureWarning: is_sparse is deprecated and will be removed in a future version. Check `isinstance(dtype, pd.SparseDtype)` instead.\n",
      "  if is_sparse(pd_dtype):\n",
      "/Users/gohjunwei/anaconda3/lib/python3.11/site-packages/sklearn/utils/validation.py:614: FutureWarning: is_sparse is deprecated and will be removed in a future version. Check `isinstance(dtype, pd.SparseDtype)` instead.\n",
      "  if is_sparse(pd_dtype) or not is_extension_array_dtype(pd_dtype):\n"
     ]
    },
    {
     "name": "stdout",
     "output_type": "stream",
     "text": [
      "[CV] END learning_rate=0.08799726016810132, max_depth=13, n_estimators=558; total time=   4.0s\n"
     ]
    },
    {
     "name": "stderr",
     "output_type": "stream",
     "text": [
      "/Users/gohjunwei/anaconda3/lib/python3.11/site-packages/sklearn/utils/validation.py:605: FutureWarning: is_sparse is deprecated and will be removed in a future version. Check `isinstance(dtype, pd.SparseDtype)` instead.\n",
      "  if is_sparse(pd_dtype):\n",
      "/Users/gohjunwei/anaconda3/lib/python3.11/site-packages/sklearn/utils/validation.py:614: FutureWarning: is_sparse is deprecated and will be removed in a future version. Check `isinstance(dtype, pd.SparseDtype)` instead.\n",
      "  if is_sparse(pd_dtype) or not is_extension_array_dtype(pd_dtype):\n",
      "/Users/gohjunwei/anaconda3/lib/python3.11/site-packages/sklearn/utils/validation.py:605: FutureWarning: is_sparse is deprecated and will be removed in a future version. Check `isinstance(dtype, pd.SparseDtype)` instead.\n",
      "  if is_sparse(pd_dtype):\n",
      "/Users/gohjunwei/anaconda3/lib/python3.11/site-packages/sklearn/utils/validation.py:614: FutureWarning: is_sparse is deprecated and will be removed in a future version. Check `isinstance(dtype, pd.SparseDtype)` instead.\n",
      "  if is_sparse(pd_dtype) or not is_extension_array_dtype(pd_dtype):\n",
      "/Users/gohjunwei/anaconda3/lib/python3.11/site-packages/sklearn/utils/validation.py:605: FutureWarning: is_sparse is deprecated and will be removed in a future version. Check `isinstance(dtype, pd.SparseDtype)` instead.\n",
      "  if is_sparse(pd_dtype):\n",
      "/Users/gohjunwei/anaconda3/lib/python3.11/site-packages/sklearn/utils/validation.py:614: FutureWarning: is_sparse is deprecated and will be removed in a future version. Check `isinstance(dtype, pd.SparseDtype)` instead.\n",
      "  if is_sparse(pd_dtype) or not is_extension_array_dtype(pd_dtype):\n"
     ]
    },
    {
     "name": "stdout",
     "output_type": "stream",
     "text": [
      "[CV] END learning_rate=0.4430880728874676, max_depth=6, n_estimators=971; total time=   2.1s\n"
     ]
    },
    {
     "name": "stderr",
     "output_type": "stream",
     "text": [
      "/Users/gohjunwei/anaconda3/lib/python3.11/site-packages/sklearn/utils/validation.py:605: FutureWarning: is_sparse is deprecated and will be removed in a future version. Check `isinstance(dtype, pd.SparseDtype)` instead.\n",
      "  if is_sparse(pd_dtype):\n",
      "/Users/gohjunwei/anaconda3/lib/python3.11/site-packages/sklearn/utils/validation.py:614: FutureWarning: is_sparse is deprecated and will be removed in a future version. Check `isinstance(dtype, pd.SparseDtype)` instead.\n",
      "  if is_sparse(pd_dtype) or not is_extension_array_dtype(pd_dtype):\n",
      "/Users/gohjunwei/anaconda3/lib/python3.11/site-packages/sklearn/utils/validation.py:605: FutureWarning: is_sparse is deprecated and will be removed in a future version. Check `isinstance(dtype, pd.SparseDtype)` instead.\n",
      "  if is_sparse(pd_dtype):\n",
      "/Users/gohjunwei/anaconda3/lib/python3.11/site-packages/sklearn/utils/validation.py:614: FutureWarning: is_sparse is deprecated and will be removed in a future version. Check `isinstance(dtype, pd.SparseDtype)` instead.\n",
      "  if is_sparse(pd_dtype) or not is_extension_array_dtype(pd_dtype):\n",
      "/Users/gohjunwei/anaconda3/lib/python3.11/site-packages/sklearn/utils/validation.py:605: FutureWarning: is_sparse is deprecated and will be removed in a future version. Check `isinstance(dtype, pd.SparseDtype)` instead.\n",
      "  if is_sparse(pd_dtype):\n",
      "/Users/gohjunwei/anaconda3/lib/python3.11/site-packages/sklearn/utils/validation.py:614: FutureWarning: is_sparse is deprecated and will be removed in a future version. Check `isinstance(dtype, pd.SparseDtype)` instead.\n",
      "  if is_sparse(pd_dtype) or not is_extension_array_dtype(pd_dtype):\n"
     ]
    },
    {
     "name": "stdout",
     "output_type": "stream",
     "text": [
      "[CV] END learning_rate=0.4430880728874676, max_depth=6, n_estimators=971; total time=   2.5s\n"
     ]
    },
    {
     "name": "stderr",
     "output_type": "stream",
     "text": [
      "/Users/gohjunwei/anaconda3/lib/python3.11/site-packages/sklearn/utils/validation.py:605: FutureWarning: is_sparse is deprecated and will be removed in a future version. Check `isinstance(dtype, pd.SparseDtype)` instead.\n",
      "  if is_sparse(pd_dtype):\n",
      "/Users/gohjunwei/anaconda3/lib/python3.11/site-packages/sklearn/utils/validation.py:614: FutureWarning: is_sparse is deprecated and will be removed in a future version. Check `isinstance(dtype, pd.SparseDtype)` instead.\n",
      "  if is_sparse(pd_dtype) or not is_extension_array_dtype(pd_dtype):\n",
      "/Users/gohjunwei/anaconda3/lib/python3.11/site-packages/sklearn/utils/validation.py:605: FutureWarning: is_sparse is deprecated and will be removed in a future version. Check `isinstance(dtype, pd.SparseDtype)` instead.\n",
      "  if is_sparse(pd_dtype):\n",
      "/Users/gohjunwei/anaconda3/lib/python3.11/site-packages/sklearn/utils/validation.py:614: FutureWarning: is_sparse is deprecated and will be removed in a future version. Check `isinstance(dtype, pd.SparseDtype)` instead.\n",
      "  if is_sparse(pd_dtype) or not is_extension_array_dtype(pd_dtype):\n",
      "/Users/gohjunwei/anaconda3/lib/python3.11/site-packages/sklearn/utils/validation.py:605: FutureWarning: is_sparse is deprecated and will be removed in a future version. Check `isinstance(dtype, pd.SparseDtype)` instead.\n",
      "  if is_sparse(pd_dtype):\n",
      "/Users/gohjunwei/anaconda3/lib/python3.11/site-packages/sklearn/utils/validation.py:614: FutureWarning: is_sparse is deprecated and will be removed in a future version. Check `isinstance(dtype, pd.SparseDtype)` instead.\n",
      "  if is_sparse(pd_dtype) or not is_extension_array_dtype(pd_dtype):\n"
     ]
    },
    {
     "name": "stdout",
     "output_type": "stream",
     "text": [
      "[CV] END learning_rate=0.4430880728874676, max_depth=6, n_estimators=971; total time=   2.5s\n"
     ]
    },
    {
     "name": "stderr",
     "output_type": "stream",
     "text": [
      "/Users/gohjunwei/anaconda3/lib/python3.11/site-packages/sklearn/utils/validation.py:605: FutureWarning: is_sparse is deprecated and will be removed in a future version. Check `isinstance(dtype, pd.SparseDtype)` instead.\n",
      "  if is_sparse(pd_dtype):\n",
      "/Users/gohjunwei/anaconda3/lib/python3.11/site-packages/sklearn/utils/validation.py:614: FutureWarning: is_sparse is deprecated and will be removed in a future version. Check `isinstance(dtype, pd.SparseDtype)` instead.\n",
      "  if is_sparse(pd_dtype) or not is_extension_array_dtype(pd_dtype):\n",
      "/Users/gohjunwei/anaconda3/lib/python3.11/site-packages/sklearn/utils/validation.py:605: FutureWarning: is_sparse is deprecated and will be removed in a future version. Check `isinstance(dtype, pd.SparseDtype)` instead.\n",
      "  if is_sparse(pd_dtype):\n",
      "/Users/gohjunwei/anaconda3/lib/python3.11/site-packages/sklearn/utils/validation.py:614: FutureWarning: is_sparse is deprecated and will be removed in a future version. Check `isinstance(dtype, pd.SparseDtype)` instead.\n",
      "  if is_sparse(pd_dtype) or not is_extension_array_dtype(pd_dtype):\n",
      "/Users/gohjunwei/anaconda3/lib/python3.11/site-packages/sklearn/utils/validation.py:605: FutureWarning: is_sparse is deprecated and will be removed in a future version. Check `isinstance(dtype, pd.SparseDtype)` instead.\n",
      "  if is_sparse(pd_dtype):\n",
      "/Users/gohjunwei/anaconda3/lib/python3.11/site-packages/sklearn/utils/validation.py:614: FutureWarning: is_sparse is deprecated and will be removed in a future version. Check `isinstance(dtype, pd.SparseDtype)` instead.\n",
      "  if is_sparse(pd_dtype) or not is_extension_array_dtype(pd_dtype):\n"
     ]
    },
    {
     "name": "stdout",
     "output_type": "stream",
     "text": [
      "[CV] END learning_rate=0.36403628889802275, max_depth=8, n_estimators=408; total time=   1.4s\n"
     ]
    },
    {
     "name": "stderr",
     "output_type": "stream",
     "text": [
      "/Users/gohjunwei/anaconda3/lib/python3.11/site-packages/sklearn/utils/validation.py:605: FutureWarning: is_sparse is deprecated and will be removed in a future version. Check `isinstance(dtype, pd.SparseDtype)` instead.\n",
      "  if is_sparse(pd_dtype):\n",
      "/Users/gohjunwei/anaconda3/lib/python3.11/site-packages/sklearn/utils/validation.py:614: FutureWarning: is_sparse is deprecated and will be removed in a future version. Check `isinstance(dtype, pd.SparseDtype)` instead.\n",
      "  if is_sparse(pd_dtype) or not is_extension_array_dtype(pd_dtype):\n",
      "/Users/gohjunwei/anaconda3/lib/python3.11/site-packages/sklearn/utils/validation.py:605: FutureWarning: is_sparse is deprecated and will be removed in a future version. Check `isinstance(dtype, pd.SparseDtype)` instead.\n",
      "  if is_sparse(pd_dtype):\n",
      "/Users/gohjunwei/anaconda3/lib/python3.11/site-packages/sklearn/utils/validation.py:614: FutureWarning: is_sparse is deprecated and will be removed in a future version. Check `isinstance(dtype, pd.SparseDtype)` instead.\n",
      "  if is_sparse(pd_dtype) or not is_extension_array_dtype(pd_dtype):\n",
      "/Users/gohjunwei/anaconda3/lib/python3.11/site-packages/sklearn/utils/validation.py:605: FutureWarning: is_sparse is deprecated and will be removed in a future version. Check `isinstance(dtype, pd.SparseDtype)` instead.\n",
      "  if is_sparse(pd_dtype):\n",
      "/Users/gohjunwei/anaconda3/lib/python3.11/site-packages/sklearn/utils/validation.py:614: FutureWarning: is_sparse is deprecated and will be removed in a future version. Check `isinstance(dtype, pd.SparseDtype)` instead.\n",
      "  if is_sparse(pd_dtype) or not is_extension_array_dtype(pd_dtype):\n"
     ]
    },
    {
     "name": "stdout",
     "output_type": "stream",
     "text": [
      "[CV] END learning_rate=0.36403628889802275, max_depth=8, n_estimators=408; total time=   1.5s\n"
     ]
    },
    {
     "name": "stderr",
     "output_type": "stream",
     "text": [
      "/Users/gohjunwei/anaconda3/lib/python3.11/site-packages/sklearn/utils/validation.py:605: FutureWarning: is_sparse is deprecated and will be removed in a future version. Check `isinstance(dtype, pd.SparseDtype)` instead.\n",
      "  if is_sparse(pd_dtype):\n",
      "/Users/gohjunwei/anaconda3/lib/python3.11/site-packages/sklearn/utils/validation.py:614: FutureWarning: is_sparse is deprecated and will be removed in a future version. Check `isinstance(dtype, pd.SparseDtype)` instead.\n",
      "  if is_sparse(pd_dtype) or not is_extension_array_dtype(pd_dtype):\n",
      "/Users/gohjunwei/anaconda3/lib/python3.11/site-packages/sklearn/utils/validation.py:605: FutureWarning: is_sparse is deprecated and will be removed in a future version. Check `isinstance(dtype, pd.SparseDtype)` instead.\n",
      "  if is_sparse(pd_dtype):\n",
      "/Users/gohjunwei/anaconda3/lib/python3.11/site-packages/sklearn/utils/validation.py:614: FutureWarning: is_sparse is deprecated and will be removed in a future version. Check `isinstance(dtype, pd.SparseDtype)` instead.\n",
      "  if is_sparse(pd_dtype) or not is_extension_array_dtype(pd_dtype):\n",
      "/Users/gohjunwei/anaconda3/lib/python3.11/site-packages/sklearn/utils/validation.py:605: FutureWarning: is_sparse is deprecated and will be removed in a future version. Check `isinstance(dtype, pd.SparseDtype)` instead.\n",
      "  if is_sparse(pd_dtype):\n",
      "/Users/gohjunwei/anaconda3/lib/python3.11/site-packages/sklearn/utils/validation.py:614: FutureWarning: is_sparse is deprecated and will be removed in a future version. Check `isinstance(dtype, pd.SparseDtype)` instead.\n",
      "  if is_sparse(pd_dtype) or not is_extension_array_dtype(pd_dtype):\n"
     ]
    },
    {
     "name": "stdout",
     "output_type": "stream",
     "text": [
      "[CV] END learning_rate=0.36403628889802275, max_depth=8, n_estimators=408; total time=   1.5s\n"
     ]
    },
    {
     "name": "stderr",
     "output_type": "stream",
     "text": [
      "/Users/gohjunwei/anaconda3/lib/python3.11/site-packages/sklearn/utils/validation.py:605: FutureWarning: is_sparse is deprecated and will be removed in a future version. Check `isinstance(dtype, pd.SparseDtype)` instead.\n",
      "  if is_sparse(pd_dtype):\n",
      "/Users/gohjunwei/anaconda3/lib/python3.11/site-packages/sklearn/utils/validation.py:614: FutureWarning: is_sparse is deprecated and will be removed in a future version. Check `isinstance(dtype, pd.SparseDtype)` instead.\n",
      "  if is_sparse(pd_dtype) or not is_extension_array_dtype(pd_dtype):\n",
      "/Users/gohjunwei/anaconda3/lib/python3.11/site-packages/sklearn/utils/validation.py:605: FutureWarning: is_sparse is deprecated and will be removed in a future version. Check `isinstance(dtype, pd.SparseDtype)` instead.\n",
      "  if is_sparse(pd_dtype):\n",
      "/Users/gohjunwei/anaconda3/lib/python3.11/site-packages/sklearn/utils/validation.py:614: FutureWarning: is_sparse is deprecated and will be removed in a future version. Check `isinstance(dtype, pd.SparseDtype)` instead.\n",
      "  if is_sparse(pd_dtype) or not is_extension_array_dtype(pd_dtype):\n",
      "/Users/gohjunwei/anaconda3/lib/python3.11/site-packages/sklearn/utils/validation.py:605: FutureWarning: is_sparse is deprecated and will be removed in a future version. Check `isinstance(dtype, pd.SparseDtype)` instead.\n",
      "  if is_sparse(pd_dtype):\n",
      "/Users/gohjunwei/anaconda3/lib/python3.11/site-packages/sklearn/utils/validation.py:614: FutureWarning: is_sparse is deprecated and will be removed in a future version. Check `isinstance(dtype, pd.SparseDtype)` instead.\n",
      "  if is_sparse(pd_dtype) or not is_extension_array_dtype(pd_dtype):\n"
     ]
    },
    {
     "name": "stdout",
     "output_type": "stream",
     "text": [
      "[CV] END learning_rate=0.49495492608099717, max_depth=14, n_estimators=513; total time=   2.9s\n"
     ]
    },
    {
     "name": "stderr",
     "output_type": "stream",
     "text": [
      "/Users/gohjunwei/anaconda3/lib/python3.11/site-packages/sklearn/utils/validation.py:605: FutureWarning: is_sparse is deprecated and will be removed in a future version. Check `isinstance(dtype, pd.SparseDtype)` instead.\n",
      "  if is_sparse(pd_dtype):\n",
      "/Users/gohjunwei/anaconda3/lib/python3.11/site-packages/sklearn/utils/validation.py:614: FutureWarning: is_sparse is deprecated and will be removed in a future version. Check `isinstance(dtype, pd.SparseDtype)` instead.\n",
      "  if is_sparse(pd_dtype) or not is_extension_array_dtype(pd_dtype):\n",
      "/Users/gohjunwei/anaconda3/lib/python3.11/site-packages/sklearn/utils/validation.py:605: FutureWarning: is_sparse is deprecated and will be removed in a future version. Check `isinstance(dtype, pd.SparseDtype)` instead.\n",
      "  if is_sparse(pd_dtype):\n",
      "/Users/gohjunwei/anaconda3/lib/python3.11/site-packages/sklearn/utils/validation.py:614: FutureWarning: is_sparse is deprecated and will be removed in a future version. Check `isinstance(dtype, pd.SparseDtype)` instead.\n",
      "  if is_sparse(pd_dtype) or not is_extension_array_dtype(pd_dtype):\n",
      "/Users/gohjunwei/anaconda3/lib/python3.11/site-packages/sklearn/utils/validation.py:605: FutureWarning: is_sparse is deprecated and will be removed in a future version. Check `isinstance(dtype, pd.SparseDtype)` instead.\n",
      "  if is_sparse(pd_dtype):\n",
      "/Users/gohjunwei/anaconda3/lib/python3.11/site-packages/sklearn/utils/validation.py:614: FutureWarning: is_sparse is deprecated and will be removed in a future version. Check `isinstance(dtype, pd.SparseDtype)` instead.\n",
      "  if is_sparse(pd_dtype) or not is_extension_array_dtype(pd_dtype):\n"
     ]
    },
    {
     "name": "stdout",
     "output_type": "stream",
     "text": [
      "[CV] END learning_rate=0.49495492608099717, max_depth=14, n_estimators=513; total time=   3.1s\n"
     ]
    },
    {
     "name": "stderr",
     "output_type": "stream",
     "text": [
      "/Users/gohjunwei/anaconda3/lib/python3.11/site-packages/sklearn/utils/validation.py:605: FutureWarning: is_sparse is deprecated and will be removed in a future version. Check `isinstance(dtype, pd.SparseDtype)` instead.\n",
      "  if is_sparse(pd_dtype):\n",
      "/Users/gohjunwei/anaconda3/lib/python3.11/site-packages/sklearn/utils/validation.py:614: FutureWarning: is_sparse is deprecated and will be removed in a future version. Check `isinstance(dtype, pd.SparseDtype)` instead.\n",
      "  if is_sparse(pd_dtype) or not is_extension_array_dtype(pd_dtype):\n",
      "/Users/gohjunwei/anaconda3/lib/python3.11/site-packages/sklearn/utils/validation.py:605: FutureWarning: is_sparse is deprecated and will be removed in a future version. Check `isinstance(dtype, pd.SparseDtype)` instead.\n",
      "  if is_sparse(pd_dtype):\n",
      "/Users/gohjunwei/anaconda3/lib/python3.11/site-packages/sklearn/utils/validation.py:614: FutureWarning: is_sparse is deprecated and will be removed in a future version. Check `isinstance(dtype, pd.SparseDtype)` instead.\n",
      "  if is_sparse(pd_dtype) or not is_extension_array_dtype(pd_dtype):\n",
      "/Users/gohjunwei/anaconda3/lib/python3.11/site-packages/sklearn/utils/validation.py:605: FutureWarning: is_sparse is deprecated and will be removed in a future version. Check `isinstance(dtype, pd.SparseDtype)` instead.\n",
      "  if is_sparse(pd_dtype):\n",
      "/Users/gohjunwei/anaconda3/lib/python3.11/site-packages/sklearn/utils/validation.py:614: FutureWarning: is_sparse is deprecated and will be removed in a future version. Check `isinstance(dtype, pd.SparseDtype)` instead.\n",
      "  if is_sparse(pd_dtype) or not is_extension_array_dtype(pd_dtype):\n"
     ]
    },
    {
     "name": "stdout",
     "output_type": "stream",
     "text": [
      "[CV] END learning_rate=0.49495492608099717, max_depth=14, n_estimators=513; total time=   2.9s\n"
     ]
    },
    {
     "name": "stderr",
     "output_type": "stream",
     "text": [
      "/Users/gohjunwei/anaconda3/lib/python3.11/site-packages/sklearn/utils/validation.py:605: FutureWarning: is_sparse is deprecated and will be removed in a future version. Check `isinstance(dtype, pd.SparseDtype)` instead.\n",
      "  if is_sparse(pd_dtype):\n",
      "/Users/gohjunwei/anaconda3/lib/python3.11/site-packages/sklearn/utils/validation.py:614: FutureWarning: is_sparse is deprecated and will be removed in a future version. Check `isinstance(dtype, pd.SparseDtype)` instead.\n",
      "  if is_sparse(pd_dtype) or not is_extension_array_dtype(pd_dtype):\n",
      "/Users/gohjunwei/anaconda3/lib/python3.11/site-packages/sklearn/utils/validation.py:605: FutureWarning: is_sparse is deprecated and will be removed in a future version. Check `isinstance(dtype, pd.SparseDtype)` instead.\n",
      "  if is_sparse(pd_dtype):\n",
      "/Users/gohjunwei/anaconda3/lib/python3.11/site-packages/sklearn/utils/validation.py:614: FutureWarning: is_sparse is deprecated and will be removed in a future version. Check `isinstance(dtype, pd.SparseDtype)` instead.\n",
      "  if is_sparse(pd_dtype) or not is_extension_array_dtype(pd_dtype):\n",
      "/Users/gohjunwei/anaconda3/lib/python3.11/site-packages/sklearn/utils/validation.py:605: FutureWarning: is_sparse is deprecated and will be removed in a future version. Check `isinstance(dtype, pd.SparseDtype)` instead.\n",
      "  if is_sparse(pd_dtype):\n",
      "/Users/gohjunwei/anaconda3/lib/python3.11/site-packages/sklearn/utils/validation.py:614: FutureWarning: is_sparse is deprecated and will be removed in a future version. Check `isinstance(dtype, pd.SparseDtype)` instead.\n",
      "  if is_sparse(pd_dtype) or not is_extension_array_dtype(pd_dtype):\n"
     ]
    },
    {
     "name": "stdout",
     "output_type": "stream",
     "text": [
      "[CV] END learning_rate=0.11616955533913807, max_depth=14, n_estimators=376; total time=   2.2s\n"
     ]
    },
    {
     "name": "stderr",
     "output_type": "stream",
     "text": [
      "/Users/gohjunwei/anaconda3/lib/python3.11/site-packages/sklearn/utils/validation.py:605: FutureWarning: is_sparse is deprecated and will be removed in a future version. Check `isinstance(dtype, pd.SparseDtype)` instead.\n",
      "  if is_sparse(pd_dtype):\n",
      "/Users/gohjunwei/anaconda3/lib/python3.11/site-packages/sklearn/utils/validation.py:614: FutureWarning: is_sparse is deprecated and will be removed in a future version. Check `isinstance(dtype, pd.SparseDtype)` instead.\n",
      "  if is_sparse(pd_dtype) or not is_extension_array_dtype(pd_dtype):\n",
      "/Users/gohjunwei/anaconda3/lib/python3.11/site-packages/sklearn/utils/validation.py:605: FutureWarning: is_sparse is deprecated and will be removed in a future version. Check `isinstance(dtype, pd.SparseDtype)` instead.\n",
      "  if is_sparse(pd_dtype):\n",
      "/Users/gohjunwei/anaconda3/lib/python3.11/site-packages/sklearn/utils/validation.py:614: FutureWarning: is_sparse is deprecated and will be removed in a future version. Check `isinstance(dtype, pd.SparseDtype)` instead.\n",
      "  if is_sparse(pd_dtype) or not is_extension_array_dtype(pd_dtype):\n",
      "/Users/gohjunwei/anaconda3/lib/python3.11/site-packages/sklearn/utils/validation.py:605: FutureWarning: is_sparse is deprecated and will be removed in a future version. Check `isinstance(dtype, pd.SparseDtype)` instead.\n",
      "  if is_sparse(pd_dtype):\n",
      "/Users/gohjunwei/anaconda3/lib/python3.11/site-packages/sklearn/utils/validation.py:614: FutureWarning: is_sparse is deprecated and will be removed in a future version. Check `isinstance(dtype, pd.SparseDtype)` instead.\n",
      "  if is_sparse(pd_dtype) or not is_extension_array_dtype(pd_dtype):\n"
     ]
    },
    {
     "name": "stdout",
     "output_type": "stream",
     "text": [
      "[CV] END learning_rate=0.11616955533913807, max_depth=14, n_estimators=376; total time=   2.5s\n"
     ]
    },
    {
     "name": "stderr",
     "output_type": "stream",
     "text": [
      "/Users/gohjunwei/anaconda3/lib/python3.11/site-packages/sklearn/utils/validation.py:605: FutureWarning: is_sparse is deprecated and will be removed in a future version. Check `isinstance(dtype, pd.SparseDtype)` instead.\n",
      "  if is_sparse(pd_dtype):\n",
      "/Users/gohjunwei/anaconda3/lib/python3.11/site-packages/sklearn/utils/validation.py:614: FutureWarning: is_sparse is deprecated and will be removed in a future version. Check `isinstance(dtype, pd.SparseDtype)` instead.\n",
      "  if is_sparse(pd_dtype) or not is_extension_array_dtype(pd_dtype):\n",
      "/Users/gohjunwei/anaconda3/lib/python3.11/site-packages/sklearn/utils/validation.py:605: FutureWarning: is_sparse is deprecated and will be removed in a future version. Check `isinstance(dtype, pd.SparseDtype)` instead.\n",
      "  if is_sparse(pd_dtype):\n",
      "/Users/gohjunwei/anaconda3/lib/python3.11/site-packages/sklearn/utils/validation.py:614: FutureWarning: is_sparse is deprecated and will be removed in a future version. Check `isinstance(dtype, pd.SparseDtype)` instead.\n",
      "  if is_sparse(pd_dtype) or not is_extension_array_dtype(pd_dtype):\n",
      "/Users/gohjunwei/anaconda3/lib/python3.11/site-packages/sklearn/utils/validation.py:605: FutureWarning: is_sparse is deprecated and will be removed in a future version. Check `isinstance(dtype, pd.SparseDtype)` instead.\n",
      "  if is_sparse(pd_dtype):\n",
      "/Users/gohjunwei/anaconda3/lib/python3.11/site-packages/sklearn/utils/validation.py:614: FutureWarning: is_sparse is deprecated and will be removed in a future version. Check `isinstance(dtype, pd.SparseDtype)` instead.\n",
      "  if is_sparse(pd_dtype) or not is_extension_array_dtype(pd_dtype):\n"
     ]
    },
    {
     "name": "stdout",
     "output_type": "stream",
     "text": [
      "[CV] END learning_rate=0.11616955533913807, max_depth=14, n_estimators=376; total time=   2.2s\n"
     ]
    },
    {
     "name": "stderr",
     "output_type": "stream",
     "text": [
      "/Users/gohjunwei/anaconda3/lib/python3.11/site-packages/sklearn/utils/validation.py:605: FutureWarning: is_sparse is deprecated and will be removed in a future version. Check `isinstance(dtype, pd.SparseDtype)` instead.\n",
      "  if is_sparse(pd_dtype):\n",
      "/Users/gohjunwei/anaconda3/lib/python3.11/site-packages/sklearn/utils/validation.py:614: FutureWarning: is_sparse is deprecated and will be removed in a future version. Check `isinstance(dtype, pd.SparseDtype)` instead.\n",
      "  if is_sparse(pd_dtype) or not is_extension_array_dtype(pd_dtype):\n",
      "/Users/gohjunwei/anaconda3/lib/python3.11/site-packages/sklearn/utils/validation.py:605: FutureWarning: is_sparse is deprecated and will be removed in a future version. Check `isinstance(dtype, pd.SparseDtype)` instead.\n",
      "  if is_sparse(pd_dtype):\n",
      "/Users/gohjunwei/anaconda3/lib/python3.11/site-packages/sklearn/utils/validation.py:614: FutureWarning: is_sparse is deprecated and will be removed in a future version. Check `isinstance(dtype, pd.SparseDtype)` instead.\n",
      "  if is_sparse(pd_dtype) or not is_extension_array_dtype(pd_dtype):\n",
      "/Users/gohjunwei/anaconda3/lib/python3.11/site-packages/sklearn/utils/validation.py:605: FutureWarning: is_sparse is deprecated and will be removed in a future version. Check `isinstance(dtype, pd.SparseDtype)` instead.\n",
      "  if is_sparse(pd_dtype):\n",
      "/Users/gohjunwei/anaconda3/lib/python3.11/site-packages/sklearn/utils/validation.py:614: FutureWarning: is_sparse is deprecated and will be removed in a future version. Check `isinstance(dtype, pd.SparseDtype)` instead.\n",
      "  if is_sparse(pd_dtype) or not is_extension_array_dtype(pd_dtype):\n"
     ]
    },
    {
     "name": "stdout",
     "output_type": "stream",
     "text": [
      "[CV] END learning_rate=0.3187407548138583, max_depth=12, n_estimators=121; total time=   0.7s\n"
     ]
    },
    {
     "name": "stderr",
     "output_type": "stream",
     "text": [
      "/Users/gohjunwei/anaconda3/lib/python3.11/site-packages/sklearn/utils/validation.py:605: FutureWarning: is_sparse is deprecated and will be removed in a future version. Check `isinstance(dtype, pd.SparseDtype)` instead.\n",
      "  if is_sparse(pd_dtype):\n",
      "/Users/gohjunwei/anaconda3/lib/python3.11/site-packages/sklearn/utils/validation.py:614: FutureWarning: is_sparse is deprecated and will be removed in a future version. Check `isinstance(dtype, pd.SparseDtype)` instead.\n",
      "  if is_sparse(pd_dtype) or not is_extension_array_dtype(pd_dtype):\n",
      "/Users/gohjunwei/anaconda3/lib/python3.11/site-packages/sklearn/utils/validation.py:605: FutureWarning: is_sparse is deprecated and will be removed in a future version. Check `isinstance(dtype, pd.SparseDtype)` instead.\n",
      "  if is_sparse(pd_dtype):\n",
      "/Users/gohjunwei/anaconda3/lib/python3.11/site-packages/sklearn/utils/validation.py:614: FutureWarning: is_sparse is deprecated and will be removed in a future version. Check `isinstance(dtype, pd.SparseDtype)` instead.\n",
      "  if is_sparse(pd_dtype) or not is_extension_array_dtype(pd_dtype):\n",
      "/Users/gohjunwei/anaconda3/lib/python3.11/site-packages/sklearn/utils/validation.py:605: FutureWarning: is_sparse is deprecated and will be removed in a future version. Check `isinstance(dtype, pd.SparseDtype)` instead.\n",
      "  if is_sparse(pd_dtype):\n",
      "/Users/gohjunwei/anaconda3/lib/python3.11/site-packages/sklearn/utils/validation.py:614: FutureWarning: is_sparse is deprecated and will be removed in a future version. Check `isinstance(dtype, pd.SparseDtype)` instead.\n",
      "  if is_sparse(pd_dtype) or not is_extension_array_dtype(pd_dtype):\n"
     ]
    },
    {
     "name": "stdout",
     "output_type": "stream",
     "text": [
      "[CV] END learning_rate=0.3187407548138583, max_depth=12, n_estimators=121; total time=   0.7s\n"
     ]
    },
    {
     "name": "stderr",
     "output_type": "stream",
     "text": [
      "/Users/gohjunwei/anaconda3/lib/python3.11/site-packages/sklearn/utils/validation.py:605: FutureWarning: is_sparse is deprecated and will be removed in a future version. Check `isinstance(dtype, pd.SparseDtype)` instead.\n",
      "  if is_sparse(pd_dtype):\n",
      "/Users/gohjunwei/anaconda3/lib/python3.11/site-packages/sklearn/utils/validation.py:614: FutureWarning: is_sparse is deprecated and will be removed in a future version. Check `isinstance(dtype, pd.SparseDtype)` instead.\n",
      "  if is_sparse(pd_dtype) or not is_extension_array_dtype(pd_dtype):\n",
      "/Users/gohjunwei/anaconda3/lib/python3.11/site-packages/sklearn/utils/validation.py:605: FutureWarning: is_sparse is deprecated and will be removed in a future version. Check `isinstance(dtype, pd.SparseDtype)` instead.\n",
      "  if is_sparse(pd_dtype):\n",
      "/Users/gohjunwei/anaconda3/lib/python3.11/site-packages/sklearn/utils/validation.py:614: FutureWarning: is_sparse is deprecated and will be removed in a future version. Check `isinstance(dtype, pd.SparseDtype)` instead.\n",
      "  if is_sparse(pd_dtype) or not is_extension_array_dtype(pd_dtype):\n",
      "/Users/gohjunwei/anaconda3/lib/python3.11/site-packages/sklearn/utils/validation.py:605: FutureWarning: is_sparse is deprecated and will be removed in a future version. Check `isinstance(dtype, pd.SparseDtype)` instead.\n",
      "  if is_sparse(pd_dtype):\n",
      "/Users/gohjunwei/anaconda3/lib/python3.11/site-packages/sklearn/utils/validation.py:614: FutureWarning: is_sparse is deprecated and will be removed in a future version. Check `isinstance(dtype, pd.SparseDtype)` instead.\n",
      "  if is_sparse(pd_dtype) or not is_extension_array_dtype(pd_dtype):\n"
     ]
    },
    {
     "name": "stdout",
     "output_type": "stream",
     "text": [
      "[CV] END learning_rate=0.3187407548138583, max_depth=12, n_estimators=121; total time=   0.7s\n"
     ]
    },
    {
     "name": "stderr",
     "output_type": "stream",
     "text": [
      "/Users/gohjunwei/anaconda3/lib/python3.11/site-packages/sklearn/utils/validation.py:605: FutureWarning: is_sparse is deprecated and will be removed in a future version. Check `isinstance(dtype, pd.SparseDtype)` instead.\n",
      "  if is_sparse(pd_dtype):\n",
      "/Users/gohjunwei/anaconda3/lib/python3.11/site-packages/sklearn/utils/validation.py:614: FutureWarning: is_sparse is deprecated and will be removed in a future version. Check `isinstance(dtype, pd.SparseDtype)` instead.\n",
      "  if is_sparse(pd_dtype) or not is_extension_array_dtype(pd_dtype):\n",
      "/Users/gohjunwei/anaconda3/lib/python3.11/site-packages/sklearn/utils/validation.py:605: FutureWarning: is_sparse is deprecated and will be removed in a future version. Check `isinstance(dtype, pd.SparseDtype)` instead.\n",
      "  if is_sparse(pd_dtype):\n",
      "/Users/gohjunwei/anaconda3/lib/python3.11/site-packages/sklearn/utils/validation.py:614: FutureWarning: is_sparse is deprecated and will be removed in a future version. Check `isinstance(dtype, pd.SparseDtype)` instead.\n",
      "  if is_sparse(pd_dtype) or not is_extension_array_dtype(pd_dtype):\n",
      "/Users/gohjunwei/anaconda3/lib/python3.11/site-packages/sklearn/utils/validation.py:605: FutureWarning: is_sparse is deprecated and will be removed in a future version. Check `isinstance(dtype, pd.SparseDtype)` instead.\n",
      "  if is_sparse(pd_dtype):\n",
      "/Users/gohjunwei/anaconda3/lib/python3.11/site-packages/sklearn/utils/validation.py:614: FutureWarning: is_sparse is deprecated and will be removed in a future version. Check `isinstance(dtype, pd.SparseDtype)` instead.\n",
      "  if is_sparse(pd_dtype) or not is_extension_array_dtype(pd_dtype):\n"
     ]
    },
    {
     "name": "stdout",
     "output_type": "stream",
     "text": [
      "[CV] END learning_rate=0.013533152609858703, max_depth=11, n_estimators=660; total time=   3.7s\n"
     ]
    },
    {
     "name": "stderr",
     "output_type": "stream",
     "text": [
      "/Users/gohjunwei/anaconda3/lib/python3.11/site-packages/sklearn/utils/validation.py:605: FutureWarning: is_sparse is deprecated and will be removed in a future version. Check `isinstance(dtype, pd.SparseDtype)` instead.\n",
      "  if is_sparse(pd_dtype):\n",
      "/Users/gohjunwei/anaconda3/lib/python3.11/site-packages/sklearn/utils/validation.py:614: FutureWarning: is_sparse is deprecated and will be removed in a future version. Check `isinstance(dtype, pd.SparseDtype)` instead.\n",
      "  if is_sparse(pd_dtype) or not is_extension_array_dtype(pd_dtype):\n",
      "/Users/gohjunwei/anaconda3/lib/python3.11/site-packages/sklearn/utils/validation.py:605: FutureWarning: is_sparse is deprecated and will be removed in a future version. Check `isinstance(dtype, pd.SparseDtype)` instead.\n",
      "  if is_sparse(pd_dtype):\n",
      "/Users/gohjunwei/anaconda3/lib/python3.11/site-packages/sklearn/utils/validation.py:614: FutureWarning: is_sparse is deprecated and will be removed in a future version. Check `isinstance(dtype, pd.SparseDtype)` instead.\n",
      "  if is_sparse(pd_dtype) or not is_extension_array_dtype(pd_dtype):\n",
      "/Users/gohjunwei/anaconda3/lib/python3.11/site-packages/sklearn/utils/validation.py:605: FutureWarning: is_sparse is deprecated and will be removed in a future version. Check `isinstance(dtype, pd.SparseDtype)` instead.\n",
      "  if is_sparse(pd_dtype):\n",
      "/Users/gohjunwei/anaconda3/lib/python3.11/site-packages/sklearn/utils/validation.py:614: FutureWarning: is_sparse is deprecated and will be removed in a future version. Check `isinstance(dtype, pd.SparseDtype)` instead.\n",
      "  if is_sparse(pd_dtype) or not is_extension_array_dtype(pd_dtype):\n"
     ]
    },
    {
     "name": "stdout",
     "output_type": "stream",
     "text": [
      "[CV] END learning_rate=0.013533152609858703, max_depth=11, n_estimators=660; total time=   3.3s\n"
     ]
    },
    {
     "name": "stderr",
     "output_type": "stream",
     "text": [
      "/Users/gohjunwei/anaconda3/lib/python3.11/site-packages/sklearn/utils/validation.py:605: FutureWarning: is_sparse is deprecated and will be removed in a future version. Check `isinstance(dtype, pd.SparseDtype)` instead.\n",
      "  if is_sparse(pd_dtype):\n",
      "/Users/gohjunwei/anaconda3/lib/python3.11/site-packages/sklearn/utils/validation.py:614: FutureWarning: is_sparse is deprecated and will be removed in a future version. Check `isinstance(dtype, pd.SparseDtype)` instead.\n",
      "  if is_sparse(pd_dtype) or not is_extension_array_dtype(pd_dtype):\n",
      "/Users/gohjunwei/anaconda3/lib/python3.11/site-packages/sklearn/utils/validation.py:605: FutureWarning: is_sparse is deprecated and will be removed in a future version. Check `isinstance(dtype, pd.SparseDtype)` instead.\n",
      "  if is_sparse(pd_dtype):\n",
      "/Users/gohjunwei/anaconda3/lib/python3.11/site-packages/sklearn/utils/validation.py:614: FutureWarning: is_sparse is deprecated and will be removed in a future version. Check `isinstance(dtype, pd.SparseDtype)` instead.\n",
      "  if is_sparse(pd_dtype) or not is_extension_array_dtype(pd_dtype):\n",
      "/Users/gohjunwei/anaconda3/lib/python3.11/site-packages/sklearn/utils/validation.py:605: FutureWarning: is_sparse is deprecated and will be removed in a future version. Check `isinstance(dtype, pd.SparseDtype)` instead.\n",
      "  if is_sparse(pd_dtype):\n",
      "/Users/gohjunwei/anaconda3/lib/python3.11/site-packages/sklearn/utils/validation.py:614: FutureWarning: is_sparse is deprecated and will be removed in a future version. Check `isinstance(dtype, pd.SparseDtype)` instead.\n",
      "  if is_sparse(pd_dtype) or not is_extension_array_dtype(pd_dtype):\n"
     ]
    },
    {
     "name": "stdout",
     "output_type": "stream",
     "text": [
      "[CV] END learning_rate=0.013533152609858703, max_depth=11, n_estimators=660; total time=   3.4s\n"
     ]
    },
    {
     "name": "stderr",
     "output_type": "stream",
     "text": [
      "/Users/gohjunwei/anaconda3/lib/python3.11/site-packages/sklearn/utils/validation.py:605: FutureWarning: is_sparse is deprecated and will be removed in a future version. Check `isinstance(dtype, pd.SparseDtype)` instead.\n",
      "  if is_sparse(pd_dtype):\n",
      "/Users/gohjunwei/anaconda3/lib/python3.11/site-packages/sklearn/utils/validation.py:614: FutureWarning: is_sparse is deprecated and will be removed in a future version. Check `isinstance(dtype, pd.SparseDtype)` instead.\n",
      "  if is_sparse(pd_dtype) or not is_extension_array_dtype(pd_dtype):\n",
      "/Users/gohjunwei/anaconda3/lib/python3.11/site-packages/sklearn/utils/validation.py:605: FutureWarning: is_sparse is deprecated and will be removed in a future version. Check `isinstance(dtype, pd.SparseDtype)` instead.\n",
      "  if is_sparse(pd_dtype):\n",
      "/Users/gohjunwei/anaconda3/lib/python3.11/site-packages/sklearn/utils/validation.py:614: FutureWarning: is_sparse is deprecated and will be removed in a future version. Check `isinstance(dtype, pd.SparseDtype)` instead.\n",
      "  if is_sparse(pd_dtype) or not is_extension_array_dtype(pd_dtype):\n",
      "/Users/gohjunwei/anaconda3/lib/python3.11/site-packages/sklearn/utils/validation.py:605: FutureWarning: is_sparse is deprecated and will be removed in a future version. Check `isinstance(dtype, pd.SparseDtype)` instead.\n",
      "  if is_sparse(pd_dtype):\n",
      "/Users/gohjunwei/anaconda3/lib/python3.11/site-packages/sklearn/utils/validation.py:614: FutureWarning: is_sparse is deprecated and will be removed in a future version. Check `isinstance(dtype, pd.SparseDtype)` instead.\n",
      "  if is_sparse(pd_dtype) or not is_extension_array_dtype(pd_dtype):\n"
     ]
    },
    {
     "name": "stdout",
     "output_type": "stream",
     "text": [
      "[CV] END learning_rate=0.2723873301291946, max_depth=12, n_estimators=575; total time=   2.9s\n"
     ]
    },
    {
     "name": "stderr",
     "output_type": "stream",
     "text": [
      "/Users/gohjunwei/anaconda3/lib/python3.11/site-packages/sklearn/utils/validation.py:605: FutureWarning: is_sparse is deprecated and will be removed in a future version. Check `isinstance(dtype, pd.SparseDtype)` instead.\n",
      "  if is_sparse(pd_dtype):\n",
      "/Users/gohjunwei/anaconda3/lib/python3.11/site-packages/sklearn/utils/validation.py:614: FutureWarning: is_sparse is deprecated and will be removed in a future version. Check `isinstance(dtype, pd.SparseDtype)` instead.\n",
      "  if is_sparse(pd_dtype) or not is_extension_array_dtype(pd_dtype):\n",
      "/Users/gohjunwei/anaconda3/lib/python3.11/site-packages/sklearn/utils/validation.py:605: FutureWarning: is_sparse is deprecated and will be removed in a future version. Check `isinstance(dtype, pd.SparseDtype)` instead.\n",
      "  if is_sparse(pd_dtype):\n",
      "/Users/gohjunwei/anaconda3/lib/python3.11/site-packages/sklearn/utils/validation.py:614: FutureWarning: is_sparse is deprecated and will be removed in a future version. Check `isinstance(dtype, pd.SparseDtype)` instead.\n",
      "  if is_sparse(pd_dtype) or not is_extension_array_dtype(pd_dtype):\n",
      "/Users/gohjunwei/anaconda3/lib/python3.11/site-packages/sklearn/utils/validation.py:605: FutureWarning: is_sparse is deprecated and will be removed in a future version. Check `isinstance(dtype, pd.SparseDtype)` instead.\n",
      "  if is_sparse(pd_dtype):\n",
      "/Users/gohjunwei/anaconda3/lib/python3.11/site-packages/sklearn/utils/validation.py:614: FutureWarning: is_sparse is deprecated and will be removed in a future version. Check `isinstance(dtype, pd.SparseDtype)` instead.\n",
      "  if is_sparse(pd_dtype) or not is_extension_array_dtype(pd_dtype):\n"
     ]
    },
    {
     "name": "stdout",
     "output_type": "stream",
     "text": [
      "[CV] END learning_rate=0.2723873301291946, max_depth=12, n_estimators=575; total time=   3.0s\n"
     ]
    },
    {
     "name": "stderr",
     "output_type": "stream",
     "text": [
      "/Users/gohjunwei/anaconda3/lib/python3.11/site-packages/sklearn/utils/validation.py:605: FutureWarning: is_sparse is deprecated and will be removed in a future version. Check `isinstance(dtype, pd.SparseDtype)` instead.\n",
      "  if is_sparse(pd_dtype):\n",
      "/Users/gohjunwei/anaconda3/lib/python3.11/site-packages/sklearn/utils/validation.py:614: FutureWarning: is_sparse is deprecated and will be removed in a future version. Check `isinstance(dtype, pd.SparseDtype)` instead.\n",
      "  if is_sparse(pd_dtype) or not is_extension_array_dtype(pd_dtype):\n",
      "/Users/gohjunwei/anaconda3/lib/python3.11/site-packages/sklearn/utils/validation.py:605: FutureWarning: is_sparse is deprecated and will be removed in a future version. Check `isinstance(dtype, pd.SparseDtype)` instead.\n",
      "  if is_sparse(pd_dtype):\n",
      "/Users/gohjunwei/anaconda3/lib/python3.11/site-packages/sklearn/utils/validation.py:614: FutureWarning: is_sparse is deprecated and will be removed in a future version. Check `isinstance(dtype, pd.SparseDtype)` instead.\n",
      "  if is_sparse(pd_dtype) or not is_extension_array_dtype(pd_dtype):\n",
      "/Users/gohjunwei/anaconda3/lib/python3.11/site-packages/sklearn/utils/validation.py:605: FutureWarning: is_sparse is deprecated and will be removed in a future version. Check `isinstance(dtype, pd.SparseDtype)` instead.\n",
      "  if is_sparse(pd_dtype):\n",
      "/Users/gohjunwei/anaconda3/lib/python3.11/site-packages/sklearn/utils/validation.py:614: FutureWarning: is_sparse is deprecated and will be removed in a future version. Check `isinstance(dtype, pd.SparseDtype)` instead.\n",
      "  if is_sparse(pd_dtype) or not is_extension_array_dtype(pd_dtype):\n"
     ]
    },
    {
     "name": "stdout",
     "output_type": "stream",
     "text": [
      "[CV] END learning_rate=0.2723873301291946, max_depth=12, n_estimators=575; total time=   2.6s\n"
     ]
    },
    {
     "name": "stderr",
     "output_type": "stream",
     "text": [
      "/Users/gohjunwei/anaconda3/lib/python3.11/site-packages/sklearn/utils/validation.py:605: FutureWarning: is_sparse is deprecated and will be removed in a future version. Check `isinstance(dtype, pd.SparseDtype)` instead.\n",
      "  if is_sparse(pd_dtype):\n",
      "/Users/gohjunwei/anaconda3/lib/python3.11/site-packages/sklearn/utils/validation.py:614: FutureWarning: is_sparse is deprecated and will be removed in a future version. Check `isinstance(dtype, pd.SparseDtype)` instead.\n",
      "  if is_sparse(pd_dtype) or not is_extension_array_dtype(pd_dtype):\n",
      "/Users/gohjunwei/anaconda3/lib/python3.11/site-packages/sklearn/utils/validation.py:605: FutureWarning: is_sparse is deprecated and will be removed in a future version. Check `isinstance(dtype, pd.SparseDtype)` instead.\n",
      "  if is_sparse(pd_dtype):\n",
      "/Users/gohjunwei/anaconda3/lib/python3.11/site-packages/sklearn/utils/validation.py:614: FutureWarning: is_sparse is deprecated and will be removed in a future version. Check `isinstance(dtype, pd.SparseDtype)` instead.\n",
      "  if is_sparse(pd_dtype) or not is_extension_array_dtype(pd_dtype):\n",
      "/Users/gohjunwei/anaconda3/lib/python3.11/site-packages/sklearn/utils/validation.py:605: FutureWarning: is_sparse is deprecated and will be removed in a future version. Check `isinstance(dtype, pd.SparseDtype)` instead.\n",
      "  if is_sparse(pd_dtype):\n",
      "/Users/gohjunwei/anaconda3/lib/python3.11/site-packages/sklearn/utils/validation.py:614: FutureWarning: is_sparse is deprecated and will be removed in a future version. Check `isinstance(dtype, pd.SparseDtype)` instead.\n",
      "  if is_sparse(pd_dtype) or not is_extension_array_dtype(pd_dtype):\n"
     ]
    },
    {
     "name": "stdout",
     "output_type": "stream",
     "text": [
      "[CV] END learning_rate=0.4968777594207296, max_depth=5, n_estimators=975; total time=   2.0s\n"
     ]
    },
    {
     "name": "stderr",
     "output_type": "stream",
     "text": [
      "/Users/gohjunwei/anaconda3/lib/python3.11/site-packages/sklearn/utils/validation.py:605: FutureWarning: is_sparse is deprecated and will be removed in a future version. Check `isinstance(dtype, pd.SparseDtype)` instead.\n",
      "  if is_sparse(pd_dtype):\n",
      "/Users/gohjunwei/anaconda3/lib/python3.11/site-packages/sklearn/utils/validation.py:614: FutureWarning: is_sparse is deprecated and will be removed in a future version. Check `isinstance(dtype, pd.SparseDtype)` instead.\n",
      "  if is_sparse(pd_dtype) or not is_extension_array_dtype(pd_dtype):\n",
      "/Users/gohjunwei/anaconda3/lib/python3.11/site-packages/sklearn/utils/validation.py:605: FutureWarning: is_sparse is deprecated and will be removed in a future version. Check `isinstance(dtype, pd.SparseDtype)` instead.\n",
      "  if is_sparse(pd_dtype):\n",
      "/Users/gohjunwei/anaconda3/lib/python3.11/site-packages/sklearn/utils/validation.py:614: FutureWarning: is_sparse is deprecated and will be removed in a future version. Check `isinstance(dtype, pd.SparseDtype)` instead.\n",
      "  if is_sparse(pd_dtype) or not is_extension_array_dtype(pd_dtype):\n",
      "/Users/gohjunwei/anaconda3/lib/python3.11/site-packages/sklearn/utils/validation.py:605: FutureWarning: is_sparse is deprecated and will be removed in a future version. Check `isinstance(dtype, pd.SparseDtype)` instead.\n",
      "  if is_sparse(pd_dtype):\n",
      "/Users/gohjunwei/anaconda3/lib/python3.11/site-packages/sklearn/utils/validation.py:614: FutureWarning: is_sparse is deprecated and will be removed in a future version. Check `isinstance(dtype, pd.SparseDtype)` instead.\n",
      "  if is_sparse(pd_dtype) or not is_extension_array_dtype(pd_dtype):\n"
     ]
    },
    {
     "name": "stdout",
     "output_type": "stream",
     "text": [
      "[CV] END learning_rate=0.4968777594207296, max_depth=5, n_estimators=975; total time=   1.9s\n"
     ]
    },
    {
     "name": "stderr",
     "output_type": "stream",
     "text": [
      "/Users/gohjunwei/anaconda3/lib/python3.11/site-packages/sklearn/utils/validation.py:605: FutureWarning: is_sparse is deprecated and will be removed in a future version. Check `isinstance(dtype, pd.SparseDtype)` instead.\n",
      "  if is_sparse(pd_dtype):\n",
      "/Users/gohjunwei/anaconda3/lib/python3.11/site-packages/sklearn/utils/validation.py:614: FutureWarning: is_sparse is deprecated and will be removed in a future version. Check `isinstance(dtype, pd.SparseDtype)` instead.\n",
      "  if is_sparse(pd_dtype) or not is_extension_array_dtype(pd_dtype):\n",
      "/Users/gohjunwei/anaconda3/lib/python3.11/site-packages/sklearn/utils/validation.py:605: FutureWarning: is_sparse is deprecated and will be removed in a future version. Check `isinstance(dtype, pd.SparseDtype)` instead.\n",
      "  if is_sparse(pd_dtype):\n",
      "/Users/gohjunwei/anaconda3/lib/python3.11/site-packages/sklearn/utils/validation.py:614: FutureWarning: is_sparse is deprecated and will be removed in a future version. Check `isinstance(dtype, pd.SparseDtype)` instead.\n",
      "  if is_sparse(pd_dtype) or not is_extension_array_dtype(pd_dtype):\n",
      "/Users/gohjunwei/anaconda3/lib/python3.11/site-packages/sklearn/utils/validation.py:605: FutureWarning: is_sparse is deprecated and will be removed in a future version. Check `isinstance(dtype, pd.SparseDtype)` instead.\n",
      "  if is_sparse(pd_dtype):\n",
      "/Users/gohjunwei/anaconda3/lib/python3.11/site-packages/sklearn/utils/validation.py:614: FutureWarning: is_sparse is deprecated and will be removed in a future version. Check `isinstance(dtype, pd.SparseDtype)` instead.\n",
      "  if is_sparse(pd_dtype) or not is_extension_array_dtype(pd_dtype):\n"
     ]
    },
    {
     "name": "stdout",
     "output_type": "stream",
     "text": [
      "[CV] END learning_rate=0.4968777594207296, max_depth=5, n_estimators=975; total time=   1.8s\n"
     ]
    },
    {
     "name": "stderr",
     "output_type": "stream",
     "text": [
      "/Users/gohjunwei/anaconda3/lib/python3.11/site-packages/sklearn/utils/validation.py:605: FutureWarning: is_sparse is deprecated and will be removed in a future version. Check `isinstance(dtype, pd.SparseDtype)` instead.\n",
      "  if is_sparse(pd_dtype):\n",
      "/Users/gohjunwei/anaconda3/lib/python3.11/site-packages/sklearn/utils/validation.py:614: FutureWarning: is_sparse is deprecated and will be removed in a future version. Check `isinstance(dtype, pd.SparseDtype)` instead.\n",
      "  if is_sparse(pd_dtype) or not is_extension_array_dtype(pd_dtype):\n",
      "/Users/gohjunwei/anaconda3/lib/python3.11/site-packages/sklearn/utils/validation.py:605: FutureWarning: is_sparse is deprecated and will be removed in a future version. Check `isinstance(dtype, pd.SparseDtype)` instead.\n",
      "  if is_sparse(pd_dtype):\n",
      "/Users/gohjunwei/anaconda3/lib/python3.11/site-packages/sklearn/utils/validation.py:614: FutureWarning: is_sparse is deprecated and will be removed in a future version. Check `isinstance(dtype, pd.SparseDtype)` instead.\n",
      "  if is_sparse(pd_dtype) or not is_extension_array_dtype(pd_dtype):\n",
      "/Users/gohjunwei/anaconda3/lib/python3.11/site-packages/sklearn/utils/validation.py:605: FutureWarning: is_sparse is deprecated and will be removed in a future version. Check `isinstance(dtype, pd.SparseDtype)` instead.\n",
      "  if is_sparse(pd_dtype):\n",
      "/Users/gohjunwei/anaconda3/lib/python3.11/site-packages/sklearn/utils/validation.py:614: FutureWarning: is_sparse is deprecated and will be removed in a future version. Check `isinstance(dtype, pd.SparseDtype)` instead.\n",
      "  if is_sparse(pd_dtype) or not is_extension_array_dtype(pd_dtype):\n"
     ]
    },
    {
     "name": "stdout",
     "output_type": "stream",
     "text": [
      "[CV] END learning_rate=0.2671172192068058, max_depth=11, n_estimators=230; total time=   1.0s\n"
     ]
    },
    {
     "name": "stderr",
     "output_type": "stream",
     "text": [
      "/Users/gohjunwei/anaconda3/lib/python3.11/site-packages/sklearn/utils/validation.py:605: FutureWarning: is_sparse is deprecated and will be removed in a future version. Check `isinstance(dtype, pd.SparseDtype)` instead.\n",
      "  if is_sparse(pd_dtype):\n",
      "/Users/gohjunwei/anaconda3/lib/python3.11/site-packages/sklearn/utils/validation.py:614: FutureWarning: is_sparse is deprecated and will be removed in a future version. Check `isinstance(dtype, pd.SparseDtype)` instead.\n",
      "  if is_sparse(pd_dtype) or not is_extension_array_dtype(pd_dtype):\n",
      "/Users/gohjunwei/anaconda3/lib/python3.11/site-packages/sklearn/utils/validation.py:605: FutureWarning: is_sparse is deprecated and will be removed in a future version. Check `isinstance(dtype, pd.SparseDtype)` instead.\n",
      "  if is_sparse(pd_dtype):\n",
      "/Users/gohjunwei/anaconda3/lib/python3.11/site-packages/sklearn/utils/validation.py:614: FutureWarning: is_sparse is deprecated and will be removed in a future version. Check `isinstance(dtype, pd.SparseDtype)` instead.\n",
      "  if is_sparse(pd_dtype) or not is_extension_array_dtype(pd_dtype):\n",
      "/Users/gohjunwei/anaconda3/lib/python3.11/site-packages/sklearn/utils/validation.py:605: FutureWarning: is_sparse is deprecated and will be removed in a future version. Check `isinstance(dtype, pd.SparseDtype)` instead.\n",
      "  if is_sparse(pd_dtype):\n",
      "/Users/gohjunwei/anaconda3/lib/python3.11/site-packages/sklearn/utils/validation.py:614: FutureWarning: is_sparse is deprecated and will be removed in a future version. Check `isinstance(dtype, pd.SparseDtype)` instead.\n",
      "  if is_sparse(pd_dtype) or not is_extension_array_dtype(pd_dtype):\n"
     ]
    },
    {
     "name": "stdout",
     "output_type": "stream",
     "text": [
      "[CV] END learning_rate=0.2671172192068058, max_depth=11, n_estimators=230; total time=   1.0s\n"
     ]
    },
    {
     "name": "stderr",
     "output_type": "stream",
     "text": [
      "/Users/gohjunwei/anaconda3/lib/python3.11/site-packages/sklearn/utils/validation.py:605: FutureWarning: is_sparse is deprecated and will be removed in a future version. Check `isinstance(dtype, pd.SparseDtype)` instead.\n",
      "  if is_sparse(pd_dtype):\n",
      "/Users/gohjunwei/anaconda3/lib/python3.11/site-packages/sklearn/utils/validation.py:614: FutureWarning: is_sparse is deprecated and will be removed in a future version. Check `isinstance(dtype, pd.SparseDtype)` instead.\n",
      "  if is_sparse(pd_dtype) or not is_extension_array_dtype(pd_dtype):\n",
      "/Users/gohjunwei/anaconda3/lib/python3.11/site-packages/sklearn/utils/validation.py:605: FutureWarning: is_sparse is deprecated and will be removed in a future version. Check `isinstance(dtype, pd.SparseDtype)` instead.\n",
      "  if is_sparse(pd_dtype):\n",
      "/Users/gohjunwei/anaconda3/lib/python3.11/site-packages/sklearn/utils/validation.py:614: FutureWarning: is_sparse is deprecated and will be removed in a future version. Check `isinstance(dtype, pd.SparseDtype)` instead.\n",
      "  if is_sparse(pd_dtype) or not is_extension_array_dtype(pd_dtype):\n",
      "/Users/gohjunwei/anaconda3/lib/python3.11/site-packages/sklearn/utils/validation.py:605: FutureWarning: is_sparse is deprecated and will be removed in a future version. Check `isinstance(dtype, pd.SparseDtype)` instead.\n",
      "  if is_sparse(pd_dtype):\n",
      "/Users/gohjunwei/anaconda3/lib/python3.11/site-packages/sklearn/utils/validation.py:614: FutureWarning: is_sparse is deprecated and will be removed in a future version. Check `isinstance(dtype, pd.SparseDtype)` instead.\n",
      "  if is_sparse(pd_dtype) or not is_extension_array_dtype(pd_dtype):\n"
     ]
    },
    {
     "name": "stdout",
     "output_type": "stream",
     "text": [
      "[CV] END learning_rate=0.2671172192068058, max_depth=11, n_estimators=230; total time=   1.4s\n"
     ]
    },
    {
     "name": "stderr",
     "output_type": "stream",
     "text": [
      "/Users/gohjunwei/anaconda3/lib/python3.11/site-packages/sklearn/utils/validation.py:605: FutureWarning: is_sparse is deprecated and will be removed in a future version. Check `isinstance(dtype, pd.SparseDtype)` instead.\n",
      "  if is_sparse(pd_dtype):\n",
      "/Users/gohjunwei/anaconda3/lib/python3.11/site-packages/sklearn/utils/validation.py:614: FutureWarning: is_sparse is deprecated and will be removed in a future version. Check `isinstance(dtype, pd.SparseDtype)` instead.\n",
      "  if is_sparse(pd_dtype) or not is_extension_array_dtype(pd_dtype):\n",
      "/Users/gohjunwei/anaconda3/lib/python3.11/site-packages/sklearn/utils/validation.py:605: FutureWarning: is_sparse is deprecated and will be removed in a future version. Check `isinstance(dtype, pd.SparseDtype)` instead.\n",
      "  if is_sparse(pd_dtype):\n",
      "/Users/gohjunwei/anaconda3/lib/python3.11/site-packages/sklearn/utils/validation.py:614: FutureWarning: is_sparse is deprecated and will be removed in a future version. Check `isinstance(dtype, pd.SparseDtype)` instead.\n",
      "  if is_sparse(pd_dtype) or not is_extension_array_dtype(pd_dtype):\n",
      "/Users/gohjunwei/anaconda3/lib/python3.11/site-packages/sklearn/utils/validation.py:605: FutureWarning: is_sparse is deprecated and will be removed in a future version. Check `isinstance(dtype, pd.SparseDtype)` instead.\n",
      "  if is_sparse(pd_dtype):\n",
      "/Users/gohjunwei/anaconda3/lib/python3.11/site-packages/sklearn/utils/validation.py:614: FutureWarning: is_sparse is deprecated and will be removed in a future version. Check `isinstance(dtype, pd.SparseDtype)` instead.\n",
      "  if is_sparse(pd_dtype) or not is_extension_array_dtype(pd_dtype):\n"
     ]
    },
    {
     "name": "stdout",
     "output_type": "stream",
     "text": [
      "[CV] END learning_rate=0.4399702033681603, max_depth=9, n_estimators=120; total time=   0.5s\n"
     ]
    },
    {
     "name": "stderr",
     "output_type": "stream",
     "text": [
      "/Users/gohjunwei/anaconda3/lib/python3.11/site-packages/sklearn/utils/validation.py:605: FutureWarning: is_sparse is deprecated and will be removed in a future version. Check `isinstance(dtype, pd.SparseDtype)` instead.\n",
      "  if is_sparse(pd_dtype):\n",
      "/Users/gohjunwei/anaconda3/lib/python3.11/site-packages/sklearn/utils/validation.py:614: FutureWarning: is_sparse is deprecated and will be removed in a future version. Check `isinstance(dtype, pd.SparseDtype)` instead.\n",
      "  if is_sparse(pd_dtype) or not is_extension_array_dtype(pd_dtype):\n",
      "/Users/gohjunwei/anaconda3/lib/python3.11/site-packages/sklearn/utils/validation.py:605: FutureWarning: is_sparse is deprecated and will be removed in a future version. Check `isinstance(dtype, pd.SparseDtype)` instead.\n",
      "  if is_sparse(pd_dtype):\n",
      "/Users/gohjunwei/anaconda3/lib/python3.11/site-packages/sklearn/utils/validation.py:614: FutureWarning: is_sparse is deprecated and will be removed in a future version. Check `isinstance(dtype, pd.SparseDtype)` instead.\n",
      "  if is_sparse(pd_dtype) or not is_extension_array_dtype(pd_dtype):\n",
      "/Users/gohjunwei/anaconda3/lib/python3.11/site-packages/sklearn/utils/validation.py:605: FutureWarning: is_sparse is deprecated and will be removed in a future version. Check `isinstance(dtype, pd.SparseDtype)` instead.\n",
      "  if is_sparse(pd_dtype):\n",
      "/Users/gohjunwei/anaconda3/lib/python3.11/site-packages/sklearn/utils/validation.py:614: FutureWarning: is_sparse is deprecated and will be removed in a future version. Check `isinstance(dtype, pd.SparseDtype)` instead.\n",
      "  if is_sparse(pd_dtype) or not is_extension_array_dtype(pd_dtype):\n"
     ]
    },
    {
     "name": "stdout",
     "output_type": "stream",
     "text": [
      "[CV] END learning_rate=0.4399702033681603, max_depth=9, n_estimators=120; total time=   0.4s\n"
     ]
    },
    {
     "name": "stderr",
     "output_type": "stream",
     "text": [
      "/Users/gohjunwei/anaconda3/lib/python3.11/site-packages/sklearn/utils/validation.py:605: FutureWarning: is_sparse is deprecated and will be removed in a future version. Check `isinstance(dtype, pd.SparseDtype)` instead.\n",
      "  if is_sparse(pd_dtype):\n",
      "/Users/gohjunwei/anaconda3/lib/python3.11/site-packages/sklearn/utils/validation.py:614: FutureWarning: is_sparse is deprecated and will be removed in a future version. Check `isinstance(dtype, pd.SparseDtype)` instead.\n",
      "  if is_sparse(pd_dtype) or not is_extension_array_dtype(pd_dtype):\n",
      "/Users/gohjunwei/anaconda3/lib/python3.11/site-packages/sklearn/utils/validation.py:605: FutureWarning: is_sparse is deprecated and will be removed in a future version. Check `isinstance(dtype, pd.SparseDtype)` instead.\n",
      "  if is_sparse(pd_dtype):\n",
      "/Users/gohjunwei/anaconda3/lib/python3.11/site-packages/sklearn/utils/validation.py:614: FutureWarning: is_sparse is deprecated and will be removed in a future version. Check `isinstance(dtype, pd.SparseDtype)` instead.\n",
      "  if is_sparse(pd_dtype) or not is_extension_array_dtype(pd_dtype):\n",
      "/Users/gohjunwei/anaconda3/lib/python3.11/site-packages/sklearn/utils/validation.py:605: FutureWarning: is_sparse is deprecated and will be removed in a future version. Check `isinstance(dtype, pd.SparseDtype)` instead.\n",
      "  if is_sparse(pd_dtype):\n",
      "/Users/gohjunwei/anaconda3/lib/python3.11/site-packages/sklearn/utils/validation.py:614: FutureWarning: is_sparse is deprecated and will be removed in a future version. Check `isinstance(dtype, pd.SparseDtype)` instead.\n",
      "  if is_sparse(pd_dtype) or not is_extension_array_dtype(pd_dtype):\n"
     ]
    },
    {
     "name": "stdout",
     "output_type": "stream",
     "text": [
      "[CV] END learning_rate=0.4399702033681603, max_depth=9, n_estimators=120; total time=   0.5s\n"
     ]
    },
    {
     "name": "stderr",
     "output_type": "stream",
     "text": [
      "/Users/gohjunwei/anaconda3/lib/python3.11/site-packages/sklearn/utils/validation.py:605: FutureWarning: is_sparse is deprecated and will be removed in a future version. Check `isinstance(dtype, pd.SparseDtype)` instead.\n",
      "  if is_sparse(pd_dtype):\n",
      "/Users/gohjunwei/anaconda3/lib/python3.11/site-packages/sklearn/utils/validation.py:614: FutureWarning: is_sparse is deprecated and will be removed in a future version. Check `isinstance(dtype, pd.SparseDtype)` instead.\n",
      "  if is_sparse(pd_dtype) or not is_extension_array_dtype(pd_dtype):\n",
      "/Users/gohjunwei/anaconda3/lib/python3.11/site-packages/sklearn/utils/validation.py:605: FutureWarning: is_sparse is deprecated and will be removed in a future version. Check `isinstance(dtype, pd.SparseDtype)` instead.\n",
      "  if is_sparse(pd_dtype):\n",
      "/Users/gohjunwei/anaconda3/lib/python3.11/site-packages/sklearn/utils/validation.py:614: FutureWarning: is_sparse is deprecated and will be removed in a future version. Check `isinstance(dtype, pd.SparseDtype)` instead.\n",
      "  if is_sparse(pd_dtype) or not is_extension_array_dtype(pd_dtype):\n",
      "/Users/gohjunwei/anaconda3/lib/python3.11/site-packages/sklearn/utils/validation.py:605: FutureWarning: is_sparse is deprecated and will be removed in a future version. Check `isinstance(dtype, pd.SparseDtype)` instead.\n",
      "  if is_sparse(pd_dtype):\n",
      "/Users/gohjunwei/anaconda3/lib/python3.11/site-packages/sklearn/utils/validation.py:614: FutureWarning: is_sparse is deprecated and will be removed in a future version. Check `isinstance(dtype, pd.SparseDtype)` instead.\n",
      "  if is_sparse(pd_dtype) or not is_extension_array_dtype(pd_dtype):\n"
     ]
    },
    {
     "name": "stdout",
     "output_type": "stream",
     "text": [
      "[CV] END learning_rate=0.2352496259847715, max_depth=4, n_estimators=487; total time=   0.9s\n"
     ]
    },
    {
     "name": "stderr",
     "output_type": "stream",
     "text": [
      "/Users/gohjunwei/anaconda3/lib/python3.11/site-packages/sklearn/utils/validation.py:605: FutureWarning: is_sparse is deprecated and will be removed in a future version. Check `isinstance(dtype, pd.SparseDtype)` instead.\n",
      "  if is_sparse(pd_dtype):\n",
      "/Users/gohjunwei/anaconda3/lib/python3.11/site-packages/sklearn/utils/validation.py:614: FutureWarning: is_sparse is deprecated and will be removed in a future version. Check `isinstance(dtype, pd.SparseDtype)` instead.\n",
      "  if is_sparse(pd_dtype) or not is_extension_array_dtype(pd_dtype):\n",
      "/Users/gohjunwei/anaconda3/lib/python3.11/site-packages/sklearn/utils/validation.py:605: FutureWarning: is_sparse is deprecated and will be removed in a future version. Check `isinstance(dtype, pd.SparseDtype)` instead.\n",
      "  if is_sparse(pd_dtype):\n",
      "/Users/gohjunwei/anaconda3/lib/python3.11/site-packages/sklearn/utils/validation.py:614: FutureWarning: is_sparse is deprecated and will be removed in a future version. Check `isinstance(dtype, pd.SparseDtype)` instead.\n",
      "  if is_sparse(pd_dtype) or not is_extension_array_dtype(pd_dtype):\n",
      "/Users/gohjunwei/anaconda3/lib/python3.11/site-packages/sklearn/utils/validation.py:605: FutureWarning: is_sparse is deprecated and will be removed in a future version. Check `isinstance(dtype, pd.SparseDtype)` instead.\n",
      "  if is_sparse(pd_dtype):\n",
      "/Users/gohjunwei/anaconda3/lib/python3.11/site-packages/sklearn/utils/validation.py:614: FutureWarning: is_sparse is deprecated and will be removed in a future version. Check `isinstance(dtype, pd.SparseDtype)` instead.\n",
      "  if is_sparse(pd_dtype) or not is_extension_array_dtype(pd_dtype):\n"
     ]
    },
    {
     "name": "stdout",
     "output_type": "stream",
     "text": [
      "[CV] END learning_rate=0.2352496259847715, max_depth=4, n_estimators=487; total time=   0.8s\n"
     ]
    },
    {
     "name": "stderr",
     "output_type": "stream",
     "text": [
      "/Users/gohjunwei/anaconda3/lib/python3.11/site-packages/sklearn/utils/validation.py:605: FutureWarning: is_sparse is deprecated and will be removed in a future version. Check `isinstance(dtype, pd.SparseDtype)` instead.\n",
      "  if is_sparse(pd_dtype):\n",
      "/Users/gohjunwei/anaconda3/lib/python3.11/site-packages/sklearn/utils/validation.py:614: FutureWarning: is_sparse is deprecated and will be removed in a future version. Check `isinstance(dtype, pd.SparseDtype)` instead.\n",
      "  if is_sparse(pd_dtype) or not is_extension_array_dtype(pd_dtype):\n",
      "/Users/gohjunwei/anaconda3/lib/python3.11/site-packages/sklearn/utils/validation.py:605: FutureWarning: is_sparse is deprecated and will be removed in a future version. Check `isinstance(dtype, pd.SparseDtype)` instead.\n",
      "  if is_sparse(pd_dtype):\n",
      "/Users/gohjunwei/anaconda3/lib/python3.11/site-packages/sklearn/utils/validation.py:614: FutureWarning: is_sparse is deprecated and will be removed in a future version. Check `isinstance(dtype, pd.SparseDtype)` instead.\n",
      "  if is_sparse(pd_dtype) or not is_extension_array_dtype(pd_dtype):\n",
      "/Users/gohjunwei/anaconda3/lib/python3.11/site-packages/sklearn/utils/validation.py:605: FutureWarning: is_sparse is deprecated and will be removed in a future version. Check `isinstance(dtype, pd.SparseDtype)` instead.\n",
      "  if is_sparse(pd_dtype):\n",
      "/Users/gohjunwei/anaconda3/lib/python3.11/site-packages/sklearn/utils/validation.py:614: FutureWarning: is_sparse is deprecated and will be removed in a future version. Check `isinstance(dtype, pd.SparseDtype)` instead.\n",
      "  if is_sparse(pd_dtype) or not is_extension_array_dtype(pd_dtype):\n"
     ]
    },
    {
     "name": "stdout",
     "output_type": "stream",
     "text": [
      "[CV] END learning_rate=0.2352496259847715, max_depth=4, n_estimators=487; total time=   0.8s\n"
     ]
    },
    {
     "name": "stderr",
     "output_type": "stream",
     "text": [
      "/Users/gohjunwei/anaconda3/lib/python3.11/site-packages/sklearn/utils/validation.py:605: FutureWarning: is_sparse is deprecated and will be removed in a future version. Check `isinstance(dtype, pd.SparseDtype)` instead.\n",
      "  if is_sparse(pd_dtype):\n",
      "/Users/gohjunwei/anaconda3/lib/python3.11/site-packages/sklearn/utils/validation.py:614: FutureWarning: is_sparse is deprecated and will be removed in a future version. Check `isinstance(dtype, pd.SparseDtype)` instead.\n",
      "  if is_sparse(pd_dtype) or not is_extension_array_dtype(pd_dtype):\n",
      "/Users/gohjunwei/anaconda3/lib/python3.11/site-packages/sklearn/utils/validation.py:605: FutureWarning: is_sparse is deprecated and will be removed in a future version. Check `isinstance(dtype, pd.SparseDtype)` instead.\n",
      "  if is_sparse(pd_dtype):\n",
      "/Users/gohjunwei/anaconda3/lib/python3.11/site-packages/sklearn/utils/validation.py:614: FutureWarning: is_sparse is deprecated and will be removed in a future version. Check `isinstance(dtype, pd.SparseDtype)` instead.\n",
      "  if is_sparse(pd_dtype) or not is_extension_array_dtype(pd_dtype):\n",
      "/Users/gohjunwei/anaconda3/lib/python3.11/site-packages/sklearn/utils/validation.py:605: FutureWarning: is_sparse is deprecated and will be removed in a future version. Check `isinstance(dtype, pd.SparseDtype)` instead.\n",
      "  if is_sparse(pd_dtype):\n",
      "/Users/gohjunwei/anaconda3/lib/python3.11/site-packages/sklearn/utils/validation.py:614: FutureWarning: is_sparse is deprecated and will be removed in a future version. Check `isinstance(dtype, pd.SparseDtype)` instead.\n",
      "  if is_sparse(pd_dtype) or not is_extension_array_dtype(pd_dtype):\n"
     ]
    },
    {
     "name": "stdout",
     "output_type": "stream",
     "text": [
      "[CV] END learning_rate=0.4811008778424264, max_depth=4, n_estimators=876; total time=   1.7s\n"
     ]
    },
    {
     "name": "stderr",
     "output_type": "stream",
     "text": [
      "/Users/gohjunwei/anaconda3/lib/python3.11/site-packages/sklearn/utils/validation.py:605: FutureWarning: is_sparse is deprecated and will be removed in a future version. Check `isinstance(dtype, pd.SparseDtype)` instead.\n",
      "  if is_sparse(pd_dtype):\n",
      "/Users/gohjunwei/anaconda3/lib/python3.11/site-packages/sklearn/utils/validation.py:614: FutureWarning: is_sparse is deprecated and will be removed in a future version. Check `isinstance(dtype, pd.SparseDtype)` instead.\n",
      "  if is_sparse(pd_dtype) or not is_extension_array_dtype(pd_dtype):\n",
      "/Users/gohjunwei/anaconda3/lib/python3.11/site-packages/sklearn/utils/validation.py:605: FutureWarning: is_sparse is deprecated and will be removed in a future version. Check `isinstance(dtype, pd.SparseDtype)` instead.\n",
      "  if is_sparse(pd_dtype):\n",
      "/Users/gohjunwei/anaconda3/lib/python3.11/site-packages/sklearn/utils/validation.py:614: FutureWarning: is_sparse is deprecated and will be removed in a future version. Check `isinstance(dtype, pd.SparseDtype)` instead.\n",
      "  if is_sparse(pd_dtype) or not is_extension_array_dtype(pd_dtype):\n",
      "/Users/gohjunwei/anaconda3/lib/python3.11/site-packages/sklearn/utils/validation.py:605: FutureWarning: is_sparse is deprecated and will be removed in a future version. Check `isinstance(dtype, pd.SparseDtype)` instead.\n",
      "  if is_sparse(pd_dtype):\n",
      "/Users/gohjunwei/anaconda3/lib/python3.11/site-packages/sklearn/utils/validation.py:614: FutureWarning: is_sparse is deprecated and will be removed in a future version. Check `isinstance(dtype, pd.SparseDtype)` instead.\n",
      "  if is_sparse(pd_dtype) or not is_extension_array_dtype(pd_dtype):\n"
     ]
    },
    {
     "name": "stdout",
     "output_type": "stream",
     "text": [
      "[CV] END learning_rate=0.4811008778424264, max_depth=4, n_estimators=876; total time=   1.7s\n"
     ]
    },
    {
     "name": "stderr",
     "output_type": "stream",
     "text": [
      "/Users/gohjunwei/anaconda3/lib/python3.11/site-packages/sklearn/utils/validation.py:605: FutureWarning: is_sparse is deprecated and will be removed in a future version. Check `isinstance(dtype, pd.SparseDtype)` instead.\n",
      "  if is_sparse(pd_dtype):\n",
      "/Users/gohjunwei/anaconda3/lib/python3.11/site-packages/sklearn/utils/validation.py:614: FutureWarning: is_sparse is deprecated and will be removed in a future version. Check `isinstance(dtype, pd.SparseDtype)` instead.\n",
      "  if is_sparse(pd_dtype) or not is_extension_array_dtype(pd_dtype):\n",
      "/Users/gohjunwei/anaconda3/lib/python3.11/site-packages/sklearn/utils/validation.py:605: FutureWarning: is_sparse is deprecated and will be removed in a future version. Check `isinstance(dtype, pd.SparseDtype)` instead.\n",
      "  if is_sparse(pd_dtype):\n",
      "/Users/gohjunwei/anaconda3/lib/python3.11/site-packages/sklearn/utils/validation.py:614: FutureWarning: is_sparse is deprecated and will be removed in a future version. Check `isinstance(dtype, pd.SparseDtype)` instead.\n",
      "  if is_sparse(pd_dtype) or not is_extension_array_dtype(pd_dtype):\n",
      "/Users/gohjunwei/anaconda3/lib/python3.11/site-packages/sklearn/utils/validation.py:605: FutureWarning: is_sparse is deprecated and will be removed in a future version. Check `isinstance(dtype, pd.SparseDtype)` instead.\n",
      "  if is_sparse(pd_dtype):\n",
      "/Users/gohjunwei/anaconda3/lib/python3.11/site-packages/sklearn/utils/validation.py:614: FutureWarning: is_sparse is deprecated and will be removed in a future version. Check `isinstance(dtype, pd.SparseDtype)` instead.\n",
      "  if is_sparse(pd_dtype) or not is_extension_array_dtype(pd_dtype):\n"
     ]
    },
    {
     "name": "stdout",
     "output_type": "stream",
     "text": [
      "[CV] END learning_rate=0.4811008778424264, max_depth=4, n_estimators=876; total time=   1.3s\n"
     ]
    },
    {
     "name": "stderr",
     "output_type": "stream",
     "text": [
      "/Users/gohjunwei/anaconda3/lib/python3.11/site-packages/sklearn/utils/validation.py:605: FutureWarning: is_sparse is deprecated and will be removed in a future version. Check `isinstance(dtype, pd.SparseDtype)` instead.\n",
      "  if is_sparse(pd_dtype):\n",
      "/Users/gohjunwei/anaconda3/lib/python3.11/site-packages/sklearn/utils/validation.py:614: FutureWarning: is_sparse is deprecated and will be removed in a future version. Check `isinstance(dtype, pd.SparseDtype)` instead.\n",
      "  if is_sparse(pd_dtype) or not is_extension_array_dtype(pd_dtype):\n",
      "/Users/gohjunwei/anaconda3/lib/python3.11/site-packages/sklearn/utils/validation.py:605: FutureWarning: is_sparse is deprecated and will be removed in a future version. Check `isinstance(dtype, pd.SparseDtype)` instead.\n",
      "  if is_sparse(pd_dtype):\n",
      "/Users/gohjunwei/anaconda3/lib/python3.11/site-packages/sklearn/utils/validation.py:614: FutureWarning: is_sparse is deprecated and will be removed in a future version. Check `isinstance(dtype, pd.SparseDtype)` instead.\n",
      "  if is_sparse(pd_dtype) or not is_extension_array_dtype(pd_dtype):\n",
      "/Users/gohjunwei/anaconda3/lib/python3.11/site-packages/sklearn/utils/validation.py:605: FutureWarning: is_sparse is deprecated and will be removed in a future version. Check `isinstance(dtype, pd.SparseDtype)` instead.\n",
      "  if is_sparse(pd_dtype):\n",
      "/Users/gohjunwei/anaconda3/lib/python3.11/site-packages/sklearn/utils/validation.py:614: FutureWarning: is_sparse is deprecated and will be removed in a future version. Check `isinstance(dtype, pd.SparseDtype)` instead.\n",
      "  if is_sparse(pd_dtype) or not is_extension_array_dtype(pd_dtype):\n"
     ]
    },
    {
     "name": "stdout",
     "output_type": "stream",
     "text": [
      "[CV] END learning_rate=0.0179831261101071, max_depth=4, n_estimators=439; total time=   0.7s\n"
     ]
    },
    {
     "name": "stderr",
     "output_type": "stream",
     "text": [
      "/Users/gohjunwei/anaconda3/lib/python3.11/site-packages/sklearn/utils/validation.py:605: FutureWarning: is_sparse is deprecated and will be removed in a future version. Check `isinstance(dtype, pd.SparseDtype)` instead.\n",
      "  if is_sparse(pd_dtype):\n",
      "/Users/gohjunwei/anaconda3/lib/python3.11/site-packages/sklearn/utils/validation.py:614: FutureWarning: is_sparse is deprecated and will be removed in a future version. Check `isinstance(dtype, pd.SparseDtype)` instead.\n",
      "  if is_sparse(pd_dtype) or not is_extension_array_dtype(pd_dtype):\n",
      "/Users/gohjunwei/anaconda3/lib/python3.11/site-packages/sklearn/utils/validation.py:605: FutureWarning: is_sparse is deprecated and will be removed in a future version. Check `isinstance(dtype, pd.SparseDtype)` instead.\n",
      "  if is_sparse(pd_dtype):\n",
      "/Users/gohjunwei/anaconda3/lib/python3.11/site-packages/sklearn/utils/validation.py:614: FutureWarning: is_sparse is deprecated and will be removed in a future version. Check `isinstance(dtype, pd.SparseDtype)` instead.\n",
      "  if is_sparse(pd_dtype) or not is_extension_array_dtype(pd_dtype):\n",
      "/Users/gohjunwei/anaconda3/lib/python3.11/site-packages/sklearn/utils/validation.py:605: FutureWarning: is_sparse is deprecated and will be removed in a future version. Check `isinstance(dtype, pd.SparseDtype)` instead.\n",
      "  if is_sparse(pd_dtype):\n",
      "/Users/gohjunwei/anaconda3/lib/python3.11/site-packages/sklearn/utils/validation.py:614: FutureWarning: is_sparse is deprecated and will be removed in a future version. Check `isinstance(dtype, pd.SparseDtype)` instead.\n",
      "  if is_sparse(pd_dtype) or not is_extension_array_dtype(pd_dtype):\n"
     ]
    },
    {
     "name": "stdout",
     "output_type": "stream",
     "text": [
      "[CV] END learning_rate=0.0179831261101071, max_depth=4, n_estimators=439; total time=   0.7s\n"
     ]
    },
    {
     "name": "stderr",
     "output_type": "stream",
     "text": [
      "/Users/gohjunwei/anaconda3/lib/python3.11/site-packages/sklearn/utils/validation.py:605: FutureWarning: is_sparse is deprecated and will be removed in a future version. Check `isinstance(dtype, pd.SparseDtype)` instead.\n",
      "  if is_sparse(pd_dtype):\n",
      "/Users/gohjunwei/anaconda3/lib/python3.11/site-packages/sklearn/utils/validation.py:614: FutureWarning: is_sparse is deprecated and will be removed in a future version. Check `isinstance(dtype, pd.SparseDtype)` instead.\n",
      "  if is_sparse(pd_dtype) or not is_extension_array_dtype(pd_dtype):\n",
      "/Users/gohjunwei/anaconda3/lib/python3.11/site-packages/sklearn/utils/validation.py:605: FutureWarning: is_sparse is deprecated and will be removed in a future version. Check `isinstance(dtype, pd.SparseDtype)` instead.\n",
      "  if is_sparse(pd_dtype):\n",
      "/Users/gohjunwei/anaconda3/lib/python3.11/site-packages/sklearn/utils/validation.py:614: FutureWarning: is_sparse is deprecated and will be removed in a future version. Check `isinstance(dtype, pd.SparseDtype)` instead.\n",
      "  if is_sparse(pd_dtype) or not is_extension_array_dtype(pd_dtype):\n",
      "/Users/gohjunwei/anaconda3/lib/python3.11/site-packages/sklearn/utils/validation.py:605: FutureWarning: is_sparse is deprecated and will be removed in a future version. Check `isinstance(dtype, pd.SparseDtype)` instead.\n",
      "  if is_sparse(pd_dtype):\n",
      "/Users/gohjunwei/anaconda3/lib/python3.11/site-packages/sklearn/utils/validation.py:614: FutureWarning: is_sparse is deprecated and will be removed in a future version. Check `isinstance(dtype, pd.SparseDtype)` instead.\n",
      "  if is_sparse(pd_dtype) or not is_extension_array_dtype(pd_dtype):\n"
     ]
    },
    {
     "name": "stdout",
     "output_type": "stream",
     "text": [
      "[CV] END learning_rate=0.0179831261101071, max_depth=4, n_estimators=439; total time=   0.7s\n"
     ]
    },
    {
     "name": "stderr",
     "output_type": "stream",
     "text": [
      "/Users/gohjunwei/anaconda3/lib/python3.11/site-packages/sklearn/utils/validation.py:605: FutureWarning: is_sparse is deprecated and will be removed in a future version. Check `isinstance(dtype, pd.SparseDtype)` instead.\n",
      "  if is_sparse(pd_dtype):\n",
      "/Users/gohjunwei/anaconda3/lib/python3.11/site-packages/sklearn/utils/validation.py:614: FutureWarning: is_sparse is deprecated and will be removed in a future version. Check `isinstance(dtype, pd.SparseDtype)` instead.\n",
      "  if is_sparse(pd_dtype) or not is_extension_array_dtype(pd_dtype):\n",
      "/Users/gohjunwei/anaconda3/lib/python3.11/site-packages/sklearn/utils/validation.py:605: FutureWarning: is_sparse is deprecated and will be removed in a future version. Check `isinstance(dtype, pd.SparseDtype)` instead.\n",
      "  if is_sparse(pd_dtype):\n",
      "/Users/gohjunwei/anaconda3/lib/python3.11/site-packages/sklearn/utils/validation.py:614: FutureWarning: is_sparse is deprecated and will be removed in a future version. Check `isinstance(dtype, pd.SparseDtype)` instead.\n",
      "  if is_sparse(pd_dtype) or not is_extension_array_dtype(pd_dtype):\n",
      "/Users/gohjunwei/anaconda3/lib/python3.11/site-packages/sklearn/utils/validation.py:605: FutureWarning: is_sparse is deprecated and will be removed in a future version. Check `isinstance(dtype, pd.SparseDtype)` instead.\n",
      "  if is_sparse(pd_dtype):\n",
      "/Users/gohjunwei/anaconda3/lib/python3.11/site-packages/sklearn/utils/validation.py:614: FutureWarning: is_sparse is deprecated and will be removed in a future version. Check `isinstance(dtype, pd.SparseDtype)` instead.\n",
      "  if is_sparse(pd_dtype) or not is_extension_array_dtype(pd_dtype):\n"
     ]
    },
    {
     "name": "stdout",
     "output_type": "stream",
     "text": [
      "[CV] END learning_rate=0.13051273301300587, max_depth=14, n_estimators=554; total time=   3.6s\n"
     ]
    },
    {
     "name": "stderr",
     "output_type": "stream",
     "text": [
      "/Users/gohjunwei/anaconda3/lib/python3.11/site-packages/sklearn/utils/validation.py:605: FutureWarning: is_sparse is deprecated and will be removed in a future version. Check `isinstance(dtype, pd.SparseDtype)` instead.\n",
      "  if is_sparse(pd_dtype):\n",
      "/Users/gohjunwei/anaconda3/lib/python3.11/site-packages/sklearn/utils/validation.py:614: FutureWarning: is_sparse is deprecated and will be removed in a future version. Check `isinstance(dtype, pd.SparseDtype)` instead.\n",
      "  if is_sparse(pd_dtype) or not is_extension_array_dtype(pd_dtype):\n",
      "/Users/gohjunwei/anaconda3/lib/python3.11/site-packages/sklearn/utils/validation.py:605: FutureWarning: is_sparse is deprecated and will be removed in a future version. Check `isinstance(dtype, pd.SparseDtype)` instead.\n",
      "  if is_sparse(pd_dtype):\n",
      "/Users/gohjunwei/anaconda3/lib/python3.11/site-packages/sklearn/utils/validation.py:614: FutureWarning: is_sparse is deprecated and will be removed in a future version. Check `isinstance(dtype, pd.SparseDtype)` instead.\n",
      "  if is_sparse(pd_dtype) or not is_extension_array_dtype(pd_dtype):\n",
      "/Users/gohjunwei/anaconda3/lib/python3.11/site-packages/sklearn/utils/validation.py:605: FutureWarning: is_sparse is deprecated and will be removed in a future version. Check `isinstance(dtype, pd.SparseDtype)` instead.\n",
      "  if is_sparse(pd_dtype):\n",
      "/Users/gohjunwei/anaconda3/lib/python3.11/site-packages/sklearn/utils/validation.py:614: FutureWarning: is_sparse is deprecated and will be removed in a future version. Check `isinstance(dtype, pd.SparseDtype)` instead.\n",
      "  if is_sparse(pd_dtype) or not is_extension_array_dtype(pd_dtype):\n"
     ]
    },
    {
     "name": "stdout",
     "output_type": "stream",
     "text": [
      "[CV] END learning_rate=0.13051273301300587, max_depth=14, n_estimators=554; total time=   3.2s\n"
     ]
    },
    {
     "name": "stderr",
     "output_type": "stream",
     "text": [
      "/Users/gohjunwei/anaconda3/lib/python3.11/site-packages/sklearn/utils/validation.py:605: FutureWarning: is_sparse is deprecated and will be removed in a future version. Check `isinstance(dtype, pd.SparseDtype)` instead.\n",
      "  if is_sparse(pd_dtype):\n",
      "/Users/gohjunwei/anaconda3/lib/python3.11/site-packages/sklearn/utils/validation.py:614: FutureWarning: is_sparse is deprecated and will be removed in a future version. Check `isinstance(dtype, pd.SparseDtype)` instead.\n",
      "  if is_sparse(pd_dtype) or not is_extension_array_dtype(pd_dtype):\n",
      "/Users/gohjunwei/anaconda3/lib/python3.11/site-packages/sklearn/utils/validation.py:605: FutureWarning: is_sparse is deprecated and will be removed in a future version. Check `isinstance(dtype, pd.SparseDtype)` instead.\n",
      "  if is_sparse(pd_dtype):\n",
      "/Users/gohjunwei/anaconda3/lib/python3.11/site-packages/sklearn/utils/validation.py:614: FutureWarning: is_sparse is deprecated and will be removed in a future version. Check `isinstance(dtype, pd.SparseDtype)` instead.\n",
      "  if is_sparse(pd_dtype) or not is_extension_array_dtype(pd_dtype):\n",
      "/Users/gohjunwei/anaconda3/lib/python3.11/site-packages/sklearn/utils/validation.py:605: FutureWarning: is_sparse is deprecated and will be removed in a future version. Check `isinstance(dtype, pd.SparseDtype)` instead.\n",
      "  if is_sparse(pd_dtype):\n",
      "/Users/gohjunwei/anaconda3/lib/python3.11/site-packages/sklearn/utils/validation.py:614: FutureWarning: is_sparse is deprecated and will be removed in a future version. Check `isinstance(dtype, pd.SparseDtype)` instead.\n",
      "  if is_sparse(pd_dtype) or not is_extension_array_dtype(pd_dtype):\n"
     ]
    },
    {
     "name": "stdout",
     "output_type": "stream",
     "text": [
      "[CV] END learning_rate=0.13051273301300587, max_depth=14, n_estimators=554; total time=   3.6s\n"
     ]
    },
    {
     "name": "stderr",
     "output_type": "stream",
     "text": [
      "/Users/gohjunwei/anaconda3/lib/python3.11/site-packages/sklearn/utils/validation.py:605: FutureWarning: is_sparse is deprecated and will be removed in a future version. Check `isinstance(dtype, pd.SparseDtype)` instead.\n",
      "  if is_sparse(pd_dtype):\n",
      "/Users/gohjunwei/anaconda3/lib/python3.11/site-packages/sklearn/utils/validation.py:614: FutureWarning: is_sparse is deprecated and will be removed in a future version. Check `isinstance(dtype, pd.SparseDtype)` instead.\n",
      "  if is_sparse(pd_dtype) or not is_extension_array_dtype(pd_dtype):\n",
      "/Users/gohjunwei/anaconda3/lib/python3.11/site-packages/sklearn/utils/validation.py:605: FutureWarning: is_sparse is deprecated and will be removed in a future version. Check `isinstance(dtype, pd.SparseDtype)` instead.\n",
      "  if is_sparse(pd_dtype):\n",
      "/Users/gohjunwei/anaconda3/lib/python3.11/site-packages/sklearn/utils/validation.py:614: FutureWarning: is_sparse is deprecated and will be removed in a future version. Check `isinstance(dtype, pd.SparseDtype)` instead.\n",
      "  if is_sparse(pd_dtype) or not is_extension_array_dtype(pd_dtype):\n",
      "/Users/gohjunwei/anaconda3/lib/python3.11/site-packages/sklearn/utils/validation.py:605: FutureWarning: is_sparse is deprecated and will be removed in a future version. Check `isinstance(dtype, pd.SparseDtype)` instead.\n",
      "  if is_sparse(pd_dtype):\n",
      "/Users/gohjunwei/anaconda3/lib/python3.11/site-packages/sklearn/utils/validation.py:614: FutureWarning: is_sparse is deprecated and will be removed in a future version. Check `isinstance(dtype, pd.SparseDtype)` instead.\n",
      "  if is_sparse(pd_dtype) or not is_extension_array_dtype(pd_dtype):\n"
     ]
    },
    {
     "name": "stdout",
     "output_type": "stream",
     "text": [
      "[CV] END learning_rate=0.31499832889131046, max_depth=10, n_estimators=134; total time=   0.7s\n"
     ]
    },
    {
     "name": "stderr",
     "output_type": "stream",
     "text": [
      "/Users/gohjunwei/anaconda3/lib/python3.11/site-packages/sklearn/utils/validation.py:605: FutureWarning: is_sparse is deprecated and will be removed in a future version. Check `isinstance(dtype, pd.SparseDtype)` instead.\n",
      "  if is_sparse(pd_dtype):\n",
      "/Users/gohjunwei/anaconda3/lib/python3.11/site-packages/sklearn/utils/validation.py:614: FutureWarning: is_sparse is deprecated and will be removed in a future version. Check `isinstance(dtype, pd.SparseDtype)` instead.\n",
      "  if is_sparse(pd_dtype) or not is_extension_array_dtype(pd_dtype):\n",
      "/Users/gohjunwei/anaconda3/lib/python3.11/site-packages/sklearn/utils/validation.py:605: FutureWarning: is_sparse is deprecated and will be removed in a future version. Check `isinstance(dtype, pd.SparseDtype)` instead.\n",
      "  if is_sparse(pd_dtype):\n",
      "/Users/gohjunwei/anaconda3/lib/python3.11/site-packages/sklearn/utils/validation.py:614: FutureWarning: is_sparse is deprecated and will be removed in a future version. Check `isinstance(dtype, pd.SparseDtype)` instead.\n",
      "  if is_sparse(pd_dtype) or not is_extension_array_dtype(pd_dtype):\n",
      "/Users/gohjunwei/anaconda3/lib/python3.11/site-packages/sklearn/utils/validation.py:605: FutureWarning: is_sparse is deprecated and will be removed in a future version. Check `isinstance(dtype, pd.SparseDtype)` instead.\n",
      "  if is_sparse(pd_dtype):\n",
      "/Users/gohjunwei/anaconda3/lib/python3.11/site-packages/sklearn/utils/validation.py:614: FutureWarning: is_sparse is deprecated and will be removed in a future version. Check `isinstance(dtype, pd.SparseDtype)` instead.\n",
      "  if is_sparse(pd_dtype) or not is_extension_array_dtype(pd_dtype):\n"
     ]
    },
    {
     "name": "stdout",
     "output_type": "stream",
     "text": [
      "[CV] END learning_rate=0.31499832889131046, max_depth=10, n_estimators=134; total time=   0.6s\n"
     ]
    },
    {
     "name": "stderr",
     "output_type": "stream",
     "text": [
      "/Users/gohjunwei/anaconda3/lib/python3.11/site-packages/sklearn/utils/validation.py:605: FutureWarning: is_sparse is deprecated and will be removed in a future version. Check `isinstance(dtype, pd.SparseDtype)` instead.\n",
      "  if is_sparse(pd_dtype):\n",
      "/Users/gohjunwei/anaconda3/lib/python3.11/site-packages/sklearn/utils/validation.py:614: FutureWarning: is_sparse is deprecated and will be removed in a future version. Check `isinstance(dtype, pd.SparseDtype)` instead.\n",
      "  if is_sparse(pd_dtype) or not is_extension_array_dtype(pd_dtype):\n",
      "/Users/gohjunwei/anaconda3/lib/python3.11/site-packages/sklearn/utils/validation.py:605: FutureWarning: is_sparse is deprecated and will be removed in a future version. Check `isinstance(dtype, pd.SparseDtype)` instead.\n",
      "  if is_sparse(pd_dtype):\n",
      "/Users/gohjunwei/anaconda3/lib/python3.11/site-packages/sklearn/utils/validation.py:614: FutureWarning: is_sparse is deprecated and will be removed in a future version. Check `isinstance(dtype, pd.SparseDtype)` instead.\n",
      "  if is_sparse(pd_dtype) or not is_extension_array_dtype(pd_dtype):\n",
      "/Users/gohjunwei/anaconda3/lib/python3.11/site-packages/sklearn/utils/validation.py:605: FutureWarning: is_sparse is deprecated and will be removed in a future version. Check `isinstance(dtype, pd.SparseDtype)` instead.\n",
      "  if is_sparse(pd_dtype):\n",
      "/Users/gohjunwei/anaconda3/lib/python3.11/site-packages/sklearn/utils/validation.py:614: FutureWarning: is_sparse is deprecated and will be removed in a future version. Check `isinstance(dtype, pd.SparseDtype)` instead.\n",
      "  if is_sparse(pd_dtype) or not is_extension_array_dtype(pd_dtype):\n"
     ]
    },
    {
     "name": "stdout",
     "output_type": "stream",
     "text": [
      "[CV] END learning_rate=0.31499832889131046, max_depth=10, n_estimators=134; total time=   0.6s\n"
     ]
    },
    {
     "name": "stderr",
     "output_type": "stream",
     "text": [
      "/Users/gohjunwei/anaconda3/lib/python3.11/site-packages/sklearn/utils/validation.py:605: FutureWarning: is_sparse is deprecated and will be removed in a future version. Check `isinstance(dtype, pd.SparseDtype)` instead.\n",
      "  if is_sparse(pd_dtype):\n",
      "/Users/gohjunwei/anaconda3/lib/python3.11/site-packages/sklearn/utils/validation.py:614: FutureWarning: is_sparse is deprecated and will be removed in a future version. Check `isinstance(dtype, pd.SparseDtype)` instead.\n",
      "  if is_sparse(pd_dtype) or not is_extension_array_dtype(pd_dtype):\n",
      "/Users/gohjunwei/anaconda3/lib/python3.11/site-packages/sklearn/utils/validation.py:605: FutureWarning: is_sparse is deprecated and will be removed in a future version. Check `isinstance(dtype, pd.SparseDtype)` instead.\n",
      "  if is_sparse(pd_dtype):\n",
      "/Users/gohjunwei/anaconda3/lib/python3.11/site-packages/sklearn/utils/validation.py:614: FutureWarning: is_sparse is deprecated and will be removed in a future version. Check `isinstance(dtype, pd.SparseDtype)` instead.\n",
      "  if is_sparse(pd_dtype) or not is_extension_array_dtype(pd_dtype):\n",
      "/Users/gohjunwei/anaconda3/lib/python3.11/site-packages/sklearn/utils/validation.py:605: FutureWarning: is_sparse is deprecated and will be removed in a future version. Check `isinstance(dtype, pd.SparseDtype)` instead.\n",
      "  if is_sparse(pd_dtype):\n",
      "/Users/gohjunwei/anaconda3/lib/python3.11/site-packages/sklearn/utils/validation.py:614: FutureWarning: is_sparse is deprecated and will be removed in a future version. Check `isinstance(dtype, pd.SparseDtype)` instead.\n",
      "  if is_sparse(pd_dtype) or not is_extension_array_dtype(pd_dtype):\n"
     ]
    },
    {
     "name": "stdout",
     "output_type": "stream",
     "text": [
      "[CV] END learning_rate=0.46466020103939104, max_depth=6, n_estimators=661; total time=   1.7s\n"
     ]
    },
    {
     "name": "stderr",
     "output_type": "stream",
     "text": [
      "/Users/gohjunwei/anaconda3/lib/python3.11/site-packages/sklearn/utils/validation.py:605: FutureWarning: is_sparse is deprecated and will be removed in a future version. Check `isinstance(dtype, pd.SparseDtype)` instead.\n",
      "  if is_sparse(pd_dtype):\n",
      "/Users/gohjunwei/anaconda3/lib/python3.11/site-packages/sklearn/utils/validation.py:614: FutureWarning: is_sparse is deprecated and will be removed in a future version. Check `isinstance(dtype, pd.SparseDtype)` instead.\n",
      "  if is_sparse(pd_dtype) or not is_extension_array_dtype(pd_dtype):\n",
      "/Users/gohjunwei/anaconda3/lib/python3.11/site-packages/sklearn/utils/validation.py:605: FutureWarning: is_sparse is deprecated and will be removed in a future version. Check `isinstance(dtype, pd.SparseDtype)` instead.\n",
      "  if is_sparse(pd_dtype):\n",
      "/Users/gohjunwei/anaconda3/lib/python3.11/site-packages/sklearn/utils/validation.py:614: FutureWarning: is_sparse is deprecated and will be removed in a future version. Check `isinstance(dtype, pd.SparseDtype)` instead.\n",
      "  if is_sparse(pd_dtype) or not is_extension_array_dtype(pd_dtype):\n",
      "/Users/gohjunwei/anaconda3/lib/python3.11/site-packages/sklearn/utils/validation.py:605: FutureWarning: is_sparse is deprecated and will be removed in a future version. Check `isinstance(dtype, pd.SparseDtype)` instead.\n",
      "  if is_sparse(pd_dtype):\n",
      "/Users/gohjunwei/anaconda3/lib/python3.11/site-packages/sklearn/utils/validation.py:614: FutureWarning: is_sparse is deprecated and will be removed in a future version. Check `isinstance(dtype, pd.SparseDtype)` instead.\n",
      "  if is_sparse(pd_dtype) or not is_extension_array_dtype(pd_dtype):\n"
     ]
    },
    {
     "name": "stdout",
     "output_type": "stream",
     "text": [
      "[CV] END learning_rate=0.46466020103939104, max_depth=6, n_estimators=661; total time=   2.1s\n"
     ]
    },
    {
     "name": "stderr",
     "output_type": "stream",
     "text": [
      "/Users/gohjunwei/anaconda3/lib/python3.11/site-packages/sklearn/utils/validation.py:605: FutureWarning: is_sparse is deprecated and will be removed in a future version. Check `isinstance(dtype, pd.SparseDtype)` instead.\n",
      "  if is_sparse(pd_dtype):\n",
      "/Users/gohjunwei/anaconda3/lib/python3.11/site-packages/sklearn/utils/validation.py:614: FutureWarning: is_sparse is deprecated and will be removed in a future version. Check `isinstance(dtype, pd.SparseDtype)` instead.\n",
      "  if is_sparse(pd_dtype) or not is_extension_array_dtype(pd_dtype):\n",
      "/Users/gohjunwei/anaconda3/lib/python3.11/site-packages/sklearn/utils/validation.py:605: FutureWarning: is_sparse is deprecated and will be removed in a future version. Check `isinstance(dtype, pd.SparseDtype)` instead.\n",
      "  if is_sparse(pd_dtype):\n",
      "/Users/gohjunwei/anaconda3/lib/python3.11/site-packages/sklearn/utils/validation.py:614: FutureWarning: is_sparse is deprecated and will be removed in a future version. Check `isinstance(dtype, pd.SparseDtype)` instead.\n",
      "  if is_sparse(pd_dtype) or not is_extension_array_dtype(pd_dtype):\n",
      "/Users/gohjunwei/anaconda3/lib/python3.11/site-packages/sklearn/utils/validation.py:605: FutureWarning: is_sparse is deprecated and will be removed in a future version. Check `isinstance(dtype, pd.SparseDtype)` instead.\n",
      "  if is_sparse(pd_dtype):\n",
      "/Users/gohjunwei/anaconda3/lib/python3.11/site-packages/sklearn/utils/validation.py:614: FutureWarning: is_sparse is deprecated and will be removed in a future version. Check `isinstance(dtype, pd.SparseDtype)` instead.\n",
      "  if is_sparse(pd_dtype) or not is_extension_array_dtype(pd_dtype):\n"
     ]
    },
    {
     "name": "stdout",
     "output_type": "stream",
     "text": [
      "[CV] END learning_rate=0.46466020103939104, max_depth=6, n_estimators=661; total time=   1.5s\n"
     ]
    },
    {
     "name": "stderr",
     "output_type": "stream",
     "text": [
      "/Users/gohjunwei/anaconda3/lib/python3.11/site-packages/sklearn/utils/validation.py:605: FutureWarning: is_sparse is deprecated and will be removed in a future version. Check `isinstance(dtype, pd.SparseDtype)` instead.\n",
      "  if is_sparse(pd_dtype):\n",
      "/Users/gohjunwei/anaconda3/lib/python3.11/site-packages/sklearn/utils/validation.py:614: FutureWarning: is_sparse is deprecated and will be removed in a future version. Check `isinstance(dtype, pd.SparseDtype)` instead.\n",
      "  if is_sparse(pd_dtype) or not is_extension_array_dtype(pd_dtype):\n",
      "/Users/gohjunwei/anaconda3/lib/python3.11/site-packages/sklearn/utils/validation.py:605: FutureWarning: is_sparse is deprecated and will be removed in a future version. Check `isinstance(dtype, pd.SparseDtype)` instead.\n",
      "  if is_sparse(pd_dtype):\n",
      "/Users/gohjunwei/anaconda3/lib/python3.11/site-packages/sklearn/utils/validation.py:614: FutureWarning: is_sparse is deprecated and will be removed in a future version. Check `isinstance(dtype, pd.SparseDtype)` instead.\n",
      "  if is_sparse(pd_dtype) or not is_extension_array_dtype(pd_dtype):\n",
      "/Users/gohjunwei/anaconda3/lib/python3.11/site-packages/sklearn/utils/validation.py:605: FutureWarning: is_sparse is deprecated and will be removed in a future version. Check `isinstance(dtype, pd.SparseDtype)` instead.\n",
      "  if is_sparse(pd_dtype):\n",
      "/Users/gohjunwei/anaconda3/lib/python3.11/site-packages/sklearn/utils/validation.py:614: FutureWarning: is_sparse is deprecated and will be removed in a future version. Check `isinstance(dtype, pd.SparseDtype)` instead.\n",
      "  if is_sparse(pd_dtype) or not is_extension_array_dtype(pd_dtype):\n"
     ]
    },
    {
     "name": "stdout",
     "output_type": "stream",
     "text": [
      "[CV] END learning_rate=0.341261142176991, max_depth=4, n_estimators=489; total time=   0.7s\n"
     ]
    },
    {
     "name": "stderr",
     "output_type": "stream",
     "text": [
      "/Users/gohjunwei/anaconda3/lib/python3.11/site-packages/sklearn/utils/validation.py:605: FutureWarning: is_sparse is deprecated and will be removed in a future version. Check `isinstance(dtype, pd.SparseDtype)` instead.\n",
      "  if is_sparse(pd_dtype):\n",
      "/Users/gohjunwei/anaconda3/lib/python3.11/site-packages/sklearn/utils/validation.py:614: FutureWarning: is_sparse is deprecated and will be removed in a future version. Check `isinstance(dtype, pd.SparseDtype)` instead.\n",
      "  if is_sparse(pd_dtype) or not is_extension_array_dtype(pd_dtype):\n",
      "/Users/gohjunwei/anaconda3/lib/python3.11/site-packages/sklearn/utils/validation.py:605: FutureWarning: is_sparse is deprecated and will be removed in a future version. Check `isinstance(dtype, pd.SparseDtype)` instead.\n",
      "  if is_sparse(pd_dtype):\n",
      "/Users/gohjunwei/anaconda3/lib/python3.11/site-packages/sklearn/utils/validation.py:614: FutureWarning: is_sparse is deprecated and will be removed in a future version. Check `isinstance(dtype, pd.SparseDtype)` instead.\n",
      "  if is_sparse(pd_dtype) or not is_extension_array_dtype(pd_dtype):\n",
      "/Users/gohjunwei/anaconda3/lib/python3.11/site-packages/sklearn/utils/validation.py:605: FutureWarning: is_sparse is deprecated and will be removed in a future version. Check `isinstance(dtype, pd.SparseDtype)` instead.\n",
      "  if is_sparse(pd_dtype):\n",
      "/Users/gohjunwei/anaconda3/lib/python3.11/site-packages/sklearn/utils/validation.py:614: FutureWarning: is_sparse is deprecated and will be removed in a future version. Check `isinstance(dtype, pd.SparseDtype)` instead.\n",
      "  if is_sparse(pd_dtype) or not is_extension_array_dtype(pd_dtype):\n"
     ]
    },
    {
     "name": "stdout",
     "output_type": "stream",
     "text": [
      "[CV] END learning_rate=0.341261142176991, max_depth=4, n_estimators=489; total time=   0.8s\n"
     ]
    },
    {
     "name": "stderr",
     "output_type": "stream",
     "text": [
      "/Users/gohjunwei/anaconda3/lib/python3.11/site-packages/sklearn/utils/validation.py:605: FutureWarning: is_sparse is deprecated and will be removed in a future version. Check `isinstance(dtype, pd.SparseDtype)` instead.\n",
      "  if is_sparse(pd_dtype):\n",
      "/Users/gohjunwei/anaconda3/lib/python3.11/site-packages/sklearn/utils/validation.py:614: FutureWarning: is_sparse is deprecated and will be removed in a future version. Check `isinstance(dtype, pd.SparseDtype)` instead.\n",
      "  if is_sparse(pd_dtype) or not is_extension_array_dtype(pd_dtype):\n",
      "/Users/gohjunwei/anaconda3/lib/python3.11/site-packages/sklearn/utils/validation.py:605: FutureWarning: is_sparse is deprecated and will be removed in a future version. Check `isinstance(dtype, pd.SparseDtype)` instead.\n",
      "  if is_sparse(pd_dtype):\n",
      "/Users/gohjunwei/anaconda3/lib/python3.11/site-packages/sklearn/utils/validation.py:614: FutureWarning: is_sparse is deprecated and will be removed in a future version. Check `isinstance(dtype, pd.SparseDtype)` instead.\n",
      "  if is_sparse(pd_dtype) or not is_extension_array_dtype(pd_dtype):\n",
      "/Users/gohjunwei/anaconda3/lib/python3.11/site-packages/sklearn/utils/validation.py:605: FutureWarning: is_sparse is deprecated and will be removed in a future version. Check `isinstance(dtype, pd.SparseDtype)` instead.\n",
      "  if is_sparse(pd_dtype):\n",
      "/Users/gohjunwei/anaconda3/lib/python3.11/site-packages/sklearn/utils/validation.py:614: FutureWarning: is_sparse is deprecated and will be removed in a future version. Check `isinstance(dtype, pd.SparseDtype)` instead.\n",
      "  if is_sparse(pd_dtype) or not is_extension_array_dtype(pd_dtype):\n"
     ]
    },
    {
     "name": "stdout",
     "output_type": "stream",
     "text": [
      "[CV] END learning_rate=0.341261142176991, max_depth=4, n_estimators=489; total time=   0.7s\n"
     ]
    },
    {
     "name": "stderr",
     "output_type": "stream",
     "text": [
      "/Users/gohjunwei/anaconda3/lib/python3.11/site-packages/sklearn/utils/validation.py:605: FutureWarning: is_sparse is deprecated and will be removed in a future version. Check `isinstance(dtype, pd.SparseDtype)` instead.\n",
      "  if is_sparse(pd_dtype):\n",
      "/Users/gohjunwei/anaconda3/lib/python3.11/site-packages/sklearn/utils/validation.py:614: FutureWarning: is_sparse is deprecated and will be removed in a future version. Check `isinstance(dtype, pd.SparseDtype)` instead.\n",
      "  if is_sparse(pd_dtype) or not is_extension_array_dtype(pd_dtype):\n",
      "/Users/gohjunwei/anaconda3/lib/python3.11/site-packages/sklearn/utils/validation.py:605: FutureWarning: is_sparse is deprecated and will be removed in a future version. Check `isinstance(dtype, pd.SparseDtype)` instead.\n",
      "  if is_sparse(pd_dtype):\n",
      "/Users/gohjunwei/anaconda3/lib/python3.11/site-packages/sklearn/utils/validation.py:614: FutureWarning: is_sparse is deprecated and will be removed in a future version. Check `isinstance(dtype, pd.SparseDtype)` instead.\n",
      "  if is_sparse(pd_dtype) or not is_extension_array_dtype(pd_dtype):\n",
      "/Users/gohjunwei/anaconda3/lib/python3.11/site-packages/sklearn/utils/validation.py:605: FutureWarning: is_sparse is deprecated and will be removed in a future version. Check `isinstance(dtype, pd.SparseDtype)` instead.\n",
      "  if is_sparse(pd_dtype):\n",
      "/Users/gohjunwei/anaconda3/lib/python3.11/site-packages/sklearn/utils/validation.py:614: FutureWarning: is_sparse is deprecated and will be removed in a future version. Check `isinstance(dtype, pd.SparseDtype)` instead.\n",
      "  if is_sparse(pd_dtype) or not is_extension_array_dtype(pd_dtype):\n"
     ]
    },
    {
     "name": "stdout",
     "output_type": "stream",
     "text": [
      "[CV] END learning_rate=0.11397083143409441, max_depth=6, n_estimators=921; total time=   2.3s\n"
     ]
    },
    {
     "name": "stderr",
     "output_type": "stream",
     "text": [
      "/Users/gohjunwei/anaconda3/lib/python3.11/site-packages/sklearn/utils/validation.py:605: FutureWarning: is_sparse is deprecated and will be removed in a future version. Check `isinstance(dtype, pd.SparseDtype)` instead.\n",
      "  if is_sparse(pd_dtype):\n",
      "/Users/gohjunwei/anaconda3/lib/python3.11/site-packages/sklearn/utils/validation.py:614: FutureWarning: is_sparse is deprecated and will be removed in a future version. Check `isinstance(dtype, pd.SparseDtype)` instead.\n",
      "  if is_sparse(pd_dtype) or not is_extension_array_dtype(pd_dtype):\n",
      "/Users/gohjunwei/anaconda3/lib/python3.11/site-packages/sklearn/utils/validation.py:605: FutureWarning: is_sparse is deprecated and will be removed in a future version. Check `isinstance(dtype, pd.SparseDtype)` instead.\n",
      "  if is_sparse(pd_dtype):\n",
      "/Users/gohjunwei/anaconda3/lib/python3.11/site-packages/sklearn/utils/validation.py:614: FutureWarning: is_sparse is deprecated and will be removed in a future version. Check `isinstance(dtype, pd.SparseDtype)` instead.\n",
      "  if is_sparse(pd_dtype) or not is_extension_array_dtype(pd_dtype):\n",
      "/Users/gohjunwei/anaconda3/lib/python3.11/site-packages/sklearn/utils/validation.py:605: FutureWarning: is_sparse is deprecated and will be removed in a future version. Check `isinstance(dtype, pd.SparseDtype)` instead.\n",
      "  if is_sparse(pd_dtype):\n",
      "/Users/gohjunwei/anaconda3/lib/python3.11/site-packages/sklearn/utils/validation.py:614: FutureWarning: is_sparse is deprecated and will be removed in a future version. Check `isinstance(dtype, pd.SparseDtype)` instead.\n",
      "  if is_sparse(pd_dtype) or not is_extension_array_dtype(pd_dtype):\n"
     ]
    },
    {
     "name": "stdout",
     "output_type": "stream",
     "text": [
      "[CV] END learning_rate=0.11397083143409441, max_depth=6, n_estimators=921; total time=   2.3s\n"
     ]
    },
    {
     "name": "stderr",
     "output_type": "stream",
     "text": [
      "/Users/gohjunwei/anaconda3/lib/python3.11/site-packages/sklearn/utils/validation.py:605: FutureWarning: is_sparse is deprecated and will be removed in a future version. Check `isinstance(dtype, pd.SparseDtype)` instead.\n",
      "  if is_sparse(pd_dtype):\n",
      "/Users/gohjunwei/anaconda3/lib/python3.11/site-packages/sklearn/utils/validation.py:614: FutureWarning: is_sparse is deprecated and will be removed in a future version. Check `isinstance(dtype, pd.SparseDtype)` instead.\n",
      "  if is_sparse(pd_dtype) or not is_extension_array_dtype(pd_dtype):\n",
      "/Users/gohjunwei/anaconda3/lib/python3.11/site-packages/sklearn/utils/validation.py:605: FutureWarning: is_sparse is deprecated and will be removed in a future version. Check `isinstance(dtype, pd.SparseDtype)` instead.\n",
      "  if is_sparse(pd_dtype):\n",
      "/Users/gohjunwei/anaconda3/lib/python3.11/site-packages/sklearn/utils/validation.py:614: FutureWarning: is_sparse is deprecated and will be removed in a future version. Check `isinstance(dtype, pd.SparseDtype)` instead.\n",
      "  if is_sparse(pd_dtype) or not is_extension_array_dtype(pd_dtype):\n",
      "/Users/gohjunwei/anaconda3/lib/python3.11/site-packages/sklearn/utils/validation.py:605: FutureWarning: is_sparse is deprecated and will be removed in a future version. Check `isinstance(dtype, pd.SparseDtype)` instead.\n",
      "  if is_sparse(pd_dtype):\n",
      "/Users/gohjunwei/anaconda3/lib/python3.11/site-packages/sklearn/utils/validation.py:614: FutureWarning: is_sparse is deprecated and will be removed in a future version. Check `isinstance(dtype, pd.SparseDtype)` instead.\n",
      "  if is_sparse(pd_dtype) or not is_extension_array_dtype(pd_dtype):\n"
     ]
    },
    {
     "name": "stdout",
     "output_type": "stream",
     "text": [
      "[CV] END learning_rate=0.11397083143409441, max_depth=6, n_estimators=921; total time=   2.0s\n"
     ]
    },
    {
     "name": "stderr",
     "output_type": "stream",
     "text": [
      "/Users/gohjunwei/anaconda3/lib/python3.11/site-packages/sklearn/utils/validation.py:605: FutureWarning: is_sparse is deprecated and will be removed in a future version. Check `isinstance(dtype, pd.SparseDtype)` instead.\n",
      "  if is_sparse(pd_dtype):\n",
      "/Users/gohjunwei/anaconda3/lib/python3.11/site-packages/sklearn/utils/validation.py:614: FutureWarning: is_sparse is deprecated and will be removed in a future version. Check `isinstance(dtype, pd.SparseDtype)` instead.\n",
      "  if is_sparse(pd_dtype) or not is_extension_array_dtype(pd_dtype):\n",
      "/Users/gohjunwei/anaconda3/lib/python3.11/site-packages/sklearn/utils/validation.py:605: FutureWarning: is_sparse is deprecated and will be removed in a future version. Check `isinstance(dtype, pd.SparseDtype)` instead.\n",
      "  if is_sparse(pd_dtype):\n",
      "/Users/gohjunwei/anaconda3/lib/python3.11/site-packages/sklearn/utils/validation.py:614: FutureWarning: is_sparse is deprecated and will be removed in a future version. Check `isinstance(dtype, pd.SparseDtype)` instead.\n",
      "  if is_sparse(pd_dtype) or not is_extension_array_dtype(pd_dtype):\n",
      "/Users/gohjunwei/anaconda3/lib/python3.11/site-packages/sklearn/utils/validation.py:605: FutureWarning: is_sparse is deprecated and will be removed in a future version. Check `isinstance(dtype, pd.SparseDtype)` instead.\n",
      "  if is_sparse(pd_dtype):\n",
      "/Users/gohjunwei/anaconda3/lib/python3.11/site-packages/sklearn/utils/validation.py:614: FutureWarning: is_sparse is deprecated and will be removed in a future version. Check `isinstance(dtype, pd.SparseDtype)` instead.\n",
      "  if is_sparse(pd_dtype) or not is_extension_array_dtype(pd_dtype):\n"
     ]
    },
    {
     "name": "stdout",
     "output_type": "stream",
     "text": [
      "[CV] END learning_rate=0.025656646227779294, max_depth=4, n_estimators=829; total time=   1.3s\n"
     ]
    },
    {
     "name": "stderr",
     "output_type": "stream",
     "text": [
      "/Users/gohjunwei/anaconda3/lib/python3.11/site-packages/sklearn/utils/validation.py:605: FutureWarning: is_sparse is deprecated and will be removed in a future version. Check `isinstance(dtype, pd.SparseDtype)` instead.\n",
      "  if is_sparse(pd_dtype):\n",
      "/Users/gohjunwei/anaconda3/lib/python3.11/site-packages/sklearn/utils/validation.py:614: FutureWarning: is_sparse is deprecated and will be removed in a future version. Check `isinstance(dtype, pd.SparseDtype)` instead.\n",
      "  if is_sparse(pd_dtype) or not is_extension_array_dtype(pd_dtype):\n",
      "/Users/gohjunwei/anaconda3/lib/python3.11/site-packages/sklearn/utils/validation.py:605: FutureWarning: is_sparse is deprecated and will be removed in a future version. Check `isinstance(dtype, pd.SparseDtype)` instead.\n",
      "  if is_sparse(pd_dtype):\n",
      "/Users/gohjunwei/anaconda3/lib/python3.11/site-packages/sklearn/utils/validation.py:614: FutureWarning: is_sparse is deprecated and will be removed in a future version. Check `isinstance(dtype, pd.SparseDtype)` instead.\n",
      "  if is_sparse(pd_dtype) or not is_extension_array_dtype(pd_dtype):\n",
      "/Users/gohjunwei/anaconda3/lib/python3.11/site-packages/sklearn/utils/validation.py:605: FutureWarning: is_sparse is deprecated and will be removed in a future version. Check `isinstance(dtype, pd.SparseDtype)` instead.\n",
      "  if is_sparse(pd_dtype):\n",
      "/Users/gohjunwei/anaconda3/lib/python3.11/site-packages/sklearn/utils/validation.py:614: FutureWarning: is_sparse is deprecated and will be removed in a future version. Check `isinstance(dtype, pd.SparseDtype)` instead.\n",
      "  if is_sparse(pd_dtype) or not is_extension_array_dtype(pd_dtype):\n"
     ]
    },
    {
     "name": "stdout",
     "output_type": "stream",
     "text": [
      "[CV] END learning_rate=0.025656646227779294, max_depth=4, n_estimators=829; total time=   1.3s\n"
     ]
    },
    {
     "name": "stderr",
     "output_type": "stream",
     "text": [
      "/Users/gohjunwei/anaconda3/lib/python3.11/site-packages/sklearn/utils/validation.py:605: FutureWarning: is_sparse is deprecated and will be removed in a future version. Check `isinstance(dtype, pd.SparseDtype)` instead.\n",
      "  if is_sparse(pd_dtype):\n",
      "/Users/gohjunwei/anaconda3/lib/python3.11/site-packages/sklearn/utils/validation.py:614: FutureWarning: is_sparse is deprecated and will be removed in a future version. Check `isinstance(dtype, pd.SparseDtype)` instead.\n",
      "  if is_sparse(pd_dtype) or not is_extension_array_dtype(pd_dtype):\n",
      "/Users/gohjunwei/anaconda3/lib/python3.11/site-packages/sklearn/utils/validation.py:605: FutureWarning: is_sparse is deprecated and will be removed in a future version. Check `isinstance(dtype, pd.SparseDtype)` instead.\n",
      "  if is_sparse(pd_dtype):\n",
      "/Users/gohjunwei/anaconda3/lib/python3.11/site-packages/sklearn/utils/validation.py:614: FutureWarning: is_sparse is deprecated and will be removed in a future version. Check `isinstance(dtype, pd.SparseDtype)` instead.\n",
      "  if is_sparse(pd_dtype) or not is_extension_array_dtype(pd_dtype):\n",
      "/Users/gohjunwei/anaconda3/lib/python3.11/site-packages/sklearn/utils/validation.py:605: FutureWarning: is_sparse is deprecated and will be removed in a future version. Check `isinstance(dtype, pd.SparseDtype)` instead.\n",
      "  if is_sparse(pd_dtype):\n",
      "/Users/gohjunwei/anaconda3/lib/python3.11/site-packages/sklearn/utils/validation.py:614: FutureWarning: is_sparse is deprecated and will be removed in a future version. Check `isinstance(dtype, pd.SparseDtype)` instead.\n",
      "  if is_sparse(pd_dtype) or not is_extension_array_dtype(pd_dtype):\n"
     ]
    },
    {
     "name": "stdout",
     "output_type": "stream",
     "text": [
      "[CV] END learning_rate=0.025656646227779294, max_depth=4, n_estimators=829; total time=   1.2s\n"
     ]
    },
    {
     "name": "stderr",
     "output_type": "stream",
     "text": [
      "/Users/gohjunwei/anaconda3/lib/python3.11/site-packages/sklearn/utils/validation.py:605: FutureWarning: is_sparse is deprecated and will be removed in a future version. Check `isinstance(dtype, pd.SparseDtype)` instead.\n",
      "  if is_sparse(pd_dtype):\n",
      "/Users/gohjunwei/anaconda3/lib/python3.11/site-packages/sklearn/utils/validation.py:614: FutureWarning: is_sparse is deprecated and will be removed in a future version. Check `isinstance(dtype, pd.SparseDtype)` instead.\n",
      "  if is_sparse(pd_dtype) or not is_extension_array_dtype(pd_dtype):\n",
      "/Users/gohjunwei/anaconda3/lib/python3.11/site-packages/sklearn/utils/validation.py:605: FutureWarning: is_sparse is deprecated and will be removed in a future version. Check `isinstance(dtype, pd.SparseDtype)` instead.\n",
      "  if is_sparse(pd_dtype):\n",
      "/Users/gohjunwei/anaconda3/lib/python3.11/site-packages/sklearn/utils/validation.py:614: FutureWarning: is_sparse is deprecated and will be removed in a future version. Check `isinstance(dtype, pd.SparseDtype)` instead.\n",
      "  if is_sparse(pd_dtype) or not is_extension_array_dtype(pd_dtype):\n",
      "/Users/gohjunwei/anaconda3/lib/python3.11/site-packages/sklearn/utils/validation.py:605: FutureWarning: is_sparse is deprecated and will be removed in a future version. Check `isinstance(dtype, pd.SparseDtype)` instead.\n",
      "  if is_sparse(pd_dtype):\n",
      "/Users/gohjunwei/anaconda3/lib/python3.11/site-packages/sklearn/utils/validation.py:614: FutureWarning: is_sparse is deprecated and will be removed in a future version. Check `isinstance(dtype, pd.SparseDtype)` instead.\n",
      "  if is_sparse(pd_dtype) or not is_extension_array_dtype(pd_dtype):\n"
     ]
    },
    {
     "name": "stdout",
     "output_type": "stream",
     "text": [
      "[CV] END learning_rate=0.23487706668488284, max_depth=12, n_estimators=369; total time=   1.7s\n"
     ]
    },
    {
     "name": "stderr",
     "output_type": "stream",
     "text": [
      "/Users/gohjunwei/anaconda3/lib/python3.11/site-packages/sklearn/utils/validation.py:605: FutureWarning: is_sparse is deprecated and will be removed in a future version. Check `isinstance(dtype, pd.SparseDtype)` instead.\n",
      "  if is_sparse(pd_dtype):\n",
      "/Users/gohjunwei/anaconda3/lib/python3.11/site-packages/sklearn/utils/validation.py:614: FutureWarning: is_sparse is deprecated and will be removed in a future version. Check `isinstance(dtype, pd.SparseDtype)` instead.\n",
      "  if is_sparse(pd_dtype) or not is_extension_array_dtype(pd_dtype):\n",
      "/Users/gohjunwei/anaconda3/lib/python3.11/site-packages/sklearn/utils/validation.py:605: FutureWarning: is_sparse is deprecated and will be removed in a future version. Check `isinstance(dtype, pd.SparseDtype)` instead.\n",
      "  if is_sparse(pd_dtype):\n",
      "/Users/gohjunwei/anaconda3/lib/python3.11/site-packages/sklearn/utils/validation.py:614: FutureWarning: is_sparse is deprecated and will be removed in a future version. Check `isinstance(dtype, pd.SparseDtype)` instead.\n",
      "  if is_sparse(pd_dtype) or not is_extension_array_dtype(pd_dtype):\n",
      "/Users/gohjunwei/anaconda3/lib/python3.11/site-packages/sklearn/utils/validation.py:605: FutureWarning: is_sparse is deprecated and will be removed in a future version. Check `isinstance(dtype, pd.SparseDtype)` instead.\n",
      "  if is_sparse(pd_dtype):\n",
      "/Users/gohjunwei/anaconda3/lib/python3.11/site-packages/sklearn/utils/validation.py:614: FutureWarning: is_sparse is deprecated and will be removed in a future version. Check `isinstance(dtype, pd.SparseDtype)` instead.\n",
      "  if is_sparse(pd_dtype) or not is_extension_array_dtype(pd_dtype):\n"
     ]
    },
    {
     "name": "stdout",
     "output_type": "stream",
     "text": [
      "[CV] END learning_rate=0.23487706668488284, max_depth=12, n_estimators=369; total time=   1.7s\n"
     ]
    },
    {
     "name": "stderr",
     "output_type": "stream",
     "text": [
      "/Users/gohjunwei/anaconda3/lib/python3.11/site-packages/sklearn/utils/validation.py:605: FutureWarning: is_sparse is deprecated and will be removed in a future version. Check `isinstance(dtype, pd.SparseDtype)` instead.\n",
      "  if is_sparse(pd_dtype):\n",
      "/Users/gohjunwei/anaconda3/lib/python3.11/site-packages/sklearn/utils/validation.py:614: FutureWarning: is_sparse is deprecated and will be removed in a future version. Check `isinstance(dtype, pd.SparseDtype)` instead.\n",
      "  if is_sparse(pd_dtype) or not is_extension_array_dtype(pd_dtype):\n",
      "/Users/gohjunwei/anaconda3/lib/python3.11/site-packages/sklearn/utils/validation.py:605: FutureWarning: is_sparse is deprecated and will be removed in a future version. Check `isinstance(dtype, pd.SparseDtype)` instead.\n",
      "  if is_sparse(pd_dtype):\n",
      "/Users/gohjunwei/anaconda3/lib/python3.11/site-packages/sklearn/utils/validation.py:614: FutureWarning: is_sparse is deprecated and will be removed in a future version. Check `isinstance(dtype, pd.SparseDtype)` instead.\n",
      "  if is_sparse(pd_dtype) or not is_extension_array_dtype(pd_dtype):\n",
      "/Users/gohjunwei/anaconda3/lib/python3.11/site-packages/sklearn/utils/validation.py:605: FutureWarning: is_sparse is deprecated and will be removed in a future version. Check `isinstance(dtype, pd.SparseDtype)` instead.\n",
      "  if is_sparse(pd_dtype):\n",
      "/Users/gohjunwei/anaconda3/lib/python3.11/site-packages/sklearn/utils/validation.py:614: FutureWarning: is_sparse is deprecated and will be removed in a future version. Check `isinstance(dtype, pd.SparseDtype)` instead.\n",
      "  if is_sparse(pd_dtype) or not is_extension_array_dtype(pd_dtype):\n"
     ]
    },
    {
     "name": "stdout",
     "output_type": "stream",
     "text": [
      "[CV] END learning_rate=0.23487706668488284, max_depth=12, n_estimators=369; total time=   2.3s\n"
     ]
    },
    {
     "name": "stderr",
     "output_type": "stream",
     "text": [
      "/Users/gohjunwei/anaconda3/lib/python3.11/site-packages/sklearn/utils/validation.py:605: FutureWarning: is_sparse is deprecated and will be removed in a future version. Check `isinstance(dtype, pd.SparseDtype)` instead.\n",
      "  if is_sparse(pd_dtype):\n",
      "/Users/gohjunwei/anaconda3/lib/python3.11/site-packages/sklearn/utils/validation.py:614: FutureWarning: is_sparse is deprecated and will be removed in a future version. Check `isinstance(dtype, pd.SparseDtype)` instead.\n",
      "  if is_sparse(pd_dtype) or not is_extension_array_dtype(pd_dtype):\n",
      "/Users/gohjunwei/anaconda3/lib/python3.11/site-packages/sklearn/utils/validation.py:605: FutureWarning: is_sparse is deprecated and will be removed in a future version. Check `isinstance(dtype, pd.SparseDtype)` instead.\n",
      "  if is_sparse(pd_dtype):\n",
      "/Users/gohjunwei/anaconda3/lib/python3.11/site-packages/sklearn/utils/validation.py:614: FutureWarning: is_sparse is deprecated and will be removed in a future version. Check `isinstance(dtype, pd.SparseDtype)` instead.\n",
      "  if is_sparse(pd_dtype) or not is_extension_array_dtype(pd_dtype):\n",
      "/Users/gohjunwei/anaconda3/lib/python3.11/site-packages/sklearn/utils/validation.py:605: FutureWarning: is_sparse is deprecated and will be removed in a future version. Check `isinstance(dtype, pd.SparseDtype)` instead.\n",
      "  if is_sparse(pd_dtype):\n",
      "/Users/gohjunwei/anaconda3/lib/python3.11/site-packages/sklearn/utils/validation.py:614: FutureWarning: is_sparse is deprecated and will be removed in a future version. Check `isinstance(dtype, pd.SparseDtype)` instead.\n",
      "  if is_sparse(pd_dtype) or not is_extension_array_dtype(pd_dtype):\n"
     ]
    },
    {
     "name": "stdout",
     "output_type": "stream",
     "text": [
      "[CV] END learning_rate=0.37363599792821045, max_depth=10, n_estimators=561; total time=   2.3s\n"
     ]
    },
    {
     "name": "stderr",
     "output_type": "stream",
     "text": [
      "/Users/gohjunwei/anaconda3/lib/python3.11/site-packages/sklearn/utils/validation.py:605: FutureWarning: is_sparse is deprecated and will be removed in a future version. Check `isinstance(dtype, pd.SparseDtype)` instead.\n",
      "  if is_sparse(pd_dtype):\n",
      "/Users/gohjunwei/anaconda3/lib/python3.11/site-packages/sklearn/utils/validation.py:614: FutureWarning: is_sparse is deprecated and will be removed in a future version. Check `isinstance(dtype, pd.SparseDtype)` instead.\n",
      "  if is_sparse(pd_dtype) or not is_extension_array_dtype(pd_dtype):\n",
      "/Users/gohjunwei/anaconda3/lib/python3.11/site-packages/sklearn/utils/validation.py:605: FutureWarning: is_sparse is deprecated and will be removed in a future version. Check `isinstance(dtype, pd.SparseDtype)` instead.\n",
      "  if is_sparse(pd_dtype):\n",
      "/Users/gohjunwei/anaconda3/lib/python3.11/site-packages/sklearn/utils/validation.py:614: FutureWarning: is_sparse is deprecated and will be removed in a future version. Check `isinstance(dtype, pd.SparseDtype)` instead.\n",
      "  if is_sparse(pd_dtype) or not is_extension_array_dtype(pd_dtype):\n",
      "/Users/gohjunwei/anaconda3/lib/python3.11/site-packages/sklearn/utils/validation.py:605: FutureWarning: is_sparse is deprecated and will be removed in a future version. Check `isinstance(dtype, pd.SparseDtype)` instead.\n",
      "  if is_sparse(pd_dtype):\n",
      "/Users/gohjunwei/anaconda3/lib/python3.11/site-packages/sklearn/utils/validation.py:614: FutureWarning: is_sparse is deprecated and will be removed in a future version. Check `isinstance(dtype, pd.SparseDtype)` instead.\n",
      "  if is_sparse(pd_dtype) or not is_extension_array_dtype(pd_dtype):\n"
     ]
    },
    {
     "name": "stdout",
     "output_type": "stream",
     "text": [
      "[CV] END learning_rate=0.37363599792821045, max_depth=10, n_estimators=561; total time=   2.1s\n"
     ]
    },
    {
     "name": "stderr",
     "output_type": "stream",
     "text": [
      "/Users/gohjunwei/anaconda3/lib/python3.11/site-packages/sklearn/utils/validation.py:605: FutureWarning: is_sparse is deprecated and will be removed in a future version. Check `isinstance(dtype, pd.SparseDtype)` instead.\n",
      "  if is_sparse(pd_dtype):\n",
      "/Users/gohjunwei/anaconda3/lib/python3.11/site-packages/sklearn/utils/validation.py:614: FutureWarning: is_sparse is deprecated and will be removed in a future version. Check `isinstance(dtype, pd.SparseDtype)` instead.\n",
      "  if is_sparse(pd_dtype) or not is_extension_array_dtype(pd_dtype):\n",
      "/Users/gohjunwei/anaconda3/lib/python3.11/site-packages/sklearn/utils/validation.py:605: FutureWarning: is_sparse is deprecated and will be removed in a future version. Check `isinstance(dtype, pd.SparseDtype)` instead.\n",
      "  if is_sparse(pd_dtype):\n",
      "/Users/gohjunwei/anaconda3/lib/python3.11/site-packages/sklearn/utils/validation.py:614: FutureWarning: is_sparse is deprecated and will be removed in a future version. Check `isinstance(dtype, pd.SparseDtype)` instead.\n",
      "  if is_sparse(pd_dtype) or not is_extension_array_dtype(pd_dtype):\n",
      "/Users/gohjunwei/anaconda3/lib/python3.11/site-packages/sklearn/utils/validation.py:605: FutureWarning: is_sparse is deprecated and will be removed in a future version. Check `isinstance(dtype, pd.SparseDtype)` instead.\n",
      "  if is_sparse(pd_dtype):\n",
      "/Users/gohjunwei/anaconda3/lib/python3.11/site-packages/sklearn/utils/validation.py:614: FutureWarning: is_sparse is deprecated and will be removed in a future version. Check `isinstance(dtype, pd.SparseDtype)` instead.\n",
      "  if is_sparse(pd_dtype) or not is_extension_array_dtype(pd_dtype):\n"
     ]
    },
    {
     "name": "stdout",
     "output_type": "stream",
     "text": [
      "[CV] END learning_rate=0.37363599792821045, max_depth=10, n_estimators=561; total time=   2.5s\n"
     ]
    },
    {
     "name": "stderr",
     "output_type": "stream",
     "text": [
      "/Users/gohjunwei/anaconda3/lib/python3.11/site-packages/sklearn/utils/validation.py:605: FutureWarning: is_sparse is deprecated and will be removed in a future version. Check `isinstance(dtype, pd.SparseDtype)` instead.\n",
      "  if is_sparse(pd_dtype):\n",
      "/Users/gohjunwei/anaconda3/lib/python3.11/site-packages/sklearn/utils/validation.py:614: FutureWarning: is_sparse is deprecated and will be removed in a future version. Check `isinstance(dtype, pd.SparseDtype)` instead.\n",
      "  if is_sparse(pd_dtype) or not is_extension_array_dtype(pd_dtype):\n",
      "/Users/gohjunwei/anaconda3/lib/python3.11/site-packages/sklearn/utils/validation.py:605: FutureWarning: is_sparse is deprecated and will be removed in a future version. Check `isinstance(dtype, pd.SparseDtype)` instead.\n",
      "  if is_sparse(pd_dtype):\n",
      "/Users/gohjunwei/anaconda3/lib/python3.11/site-packages/sklearn/utils/validation.py:614: FutureWarning: is_sparse is deprecated and will be removed in a future version. Check `isinstance(dtype, pd.SparseDtype)` instead.\n",
      "  if is_sparse(pd_dtype) or not is_extension_array_dtype(pd_dtype):\n",
      "/Users/gohjunwei/anaconda3/lib/python3.11/site-packages/sklearn/utils/validation.py:605: FutureWarning: is_sparse is deprecated and will be removed in a future version. Check `isinstance(dtype, pd.SparseDtype)` instead.\n",
      "  if is_sparse(pd_dtype):\n",
      "/Users/gohjunwei/anaconda3/lib/python3.11/site-packages/sklearn/utils/validation.py:614: FutureWarning: is_sparse is deprecated and will be removed in a future version. Check `isinstance(dtype, pd.SparseDtype)` instead.\n",
      "  if is_sparse(pd_dtype) or not is_extension_array_dtype(pd_dtype):\n"
     ]
    },
    {
     "name": "stdout",
     "output_type": "stream",
     "text": [
      "[CV] END learning_rate=0.1079914312095726, max_depth=11, n_estimators=801; total time=   3.4s\n"
     ]
    },
    {
     "name": "stderr",
     "output_type": "stream",
     "text": [
      "/Users/gohjunwei/anaconda3/lib/python3.11/site-packages/sklearn/utils/validation.py:605: FutureWarning: is_sparse is deprecated and will be removed in a future version. Check `isinstance(dtype, pd.SparseDtype)` instead.\n",
      "  if is_sparse(pd_dtype):\n",
      "/Users/gohjunwei/anaconda3/lib/python3.11/site-packages/sklearn/utils/validation.py:614: FutureWarning: is_sparse is deprecated and will be removed in a future version. Check `isinstance(dtype, pd.SparseDtype)` instead.\n",
      "  if is_sparse(pd_dtype) or not is_extension_array_dtype(pd_dtype):\n",
      "/Users/gohjunwei/anaconda3/lib/python3.11/site-packages/sklearn/utils/validation.py:605: FutureWarning: is_sparse is deprecated and will be removed in a future version. Check `isinstance(dtype, pd.SparseDtype)` instead.\n",
      "  if is_sparse(pd_dtype):\n",
      "/Users/gohjunwei/anaconda3/lib/python3.11/site-packages/sklearn/utils/validation.py:614: FutureWarning: is_sparse is deprecated and will be removed in a future version. Check `isinstance(dtype, pd.SparseDtype)` instead.\n",
      "  if is_sparse(pd_dtype) or not is_extension_array_dtype(pd_dtype):\n",
      "/Users/gohjunwei/anaconda3/lib/python3.11/site-packages/sklearn/utils/validation.py:605: FutureWarning: is_sparse is deprecated and will be removed in a future version. Check `isinstance(dtype, pd.SparseDtype)` instead.\n",
      "  if is_sparse(pd_dtype):\n",
      "/Users/gohjunwei/anaconda3/lib/python3.11/site-packages/sklearn/utils/validation.py:614: FutureWarning: is_sparse is deprecated and will be removed in a future version. Check `isinstance(dtype, pd.SparseDtype)` instead.\n",
      "  if is_sparse(pd_dtype) or not is_extension_array_dtype(pd_dtype):\n"
     ]
    },
    {
     "name": "stdout",
     "output_type": "stream",
     "text": [
      "[CV] END learning_rate=0.1079914312095726, max_depth=11, n_estimators=801; total time=   3.8s\n"
     ]
    },
    {
     "name": "stderr",
     "output_type": "stream",
     "text": [
      "/Users/gohjunwei/anaconda3/lib/python3.11/site-packages/sklearn/utils/validation.py:605: FutureWarning: is_sparse is deprecated and will be removed in a future version. Check `isinstance(dtype, pd.SparseDtype)` instead.\n",
      "  if is_sparse(pd_dtype):\n",
      "/Users/gohjunwei/anaconda3/lib/python3.11/site-packages/sklearn/utils/validation.py:614: FutureWarning: is_sparse is deprecated and will be removed in a future version. Check `isinstance(dtype, pd.SparseDtype)` instead.\n",
      "  if is_sparse(pd_dtype) or not is_extension_array_dtype(pd_dtype):\n",
      "/Users/gohjunwei/anaconda3/lib/python3.11/site-packages/sklearn/utils/validation.py:605: FutureWarning: is_sparse is deprecated and will be removed in a future version. Check `isinstance(dtype, pd.SparseDtype)` instead.\n",
      "  if is_sparse(pd_dtype):\n",
      "/Users/gohjunwei/anaconda3/lib/python3.11/site-packages/sklearn/utils/validation.py:614: FutureWarning: is_sparse is deprecated and will be removed in a future version. Check `isinstance(dtype, pd.SparseDtype)` instead.\n",
      "  if is_sparse(pd_dtype) or not is_extension_array_dtype(pd_dtype):\n",
      "/Users/gohjunwei/anaconda3/lib/python3.11/site-packages/sklearn/utils/validation.py:605: FutureWarning: is_sparse is deprecated and will be removed in a future version. Check `isinstance(dtype, pd.SparseDtype)` instead.\n",
      "  if is_sparse(pd_dtype):\n",
      "/Users/gohjunwei/anaconda3/lib/python3.11/site-packages/sklearn/utils/validation.py:614: FutureWarning: is_sparse is deprecated and will be removed in a future version. Check `isinstance(dtype, pd.SparseDtype)` instead.\n",
      "  if is_sparse(pd_dtype) or not is_extension_array_dtype(pd_dtype):\n"
     ]
    },
    {
     "name": "stdout",
     "output_type": "stream",
     "text": [
      "[CV] END learning_rate=0.1079914312095726, max_depth=11, n_estimators=801; total time=   3.7s\n"
     ]
    },
    {
     "data": {
      "text/plain": "RandomizedSearchCV(cv=3,\n                   estimator=XGBClassifier(base_score=None, booster=None,\n                                           callbacks=None,\n                                           colsample_bylevel=None,\n                                           colsample_bynode=None,\n                                           colsample_bytree=None, device=None,\n                                           early_stopping_rounds=None,\n                                           enable_categorical=False,\n                                           eval_metric=None, feature_types=None,\n                                           gamma=None, grow_policy=None,\n                                           importance_type=None,\n                                           interaction_constraints=None,\n                                           learning_rate...\n                                           random_state=None, ...),\n                   n_iter=25,\n                   param_distributions={'learning_rate': <scipy.stats._distn_infrastructure.rv_continuous_frozen object at 0x28daccbd0>,\n                                        'max_depth': <scipy.stats._distn_infrastructure.rv_discrete_frozen object at 0x28c75b010>,\n                                        'n_estimators': <scipy.stats._distn_infrastructure.rv_discrete_frozen object at 0x288557790>},\n                   random_state=42, scoring='accuracy', verbose=2)",
      "text/html": "<style>#sk-container-id-10 {color: black;background-color: white;}#sk-container-id-10 pre{padding: 0;}#sk-container-id-10 div.sk-toggleable {background-color: white;}#sk-container-id-10 label.sk-toggleable__label {cursor: pointer;display: block;width: 100%;margin-bottom: 0;padding: 0.3em;box-sizing: border-box;text-align: center;}#sk-container-id-10 label.sk-toggleable__label-arrow:before {content: \"▸\";float: left;margin-right: 0.25em;color: #696969;}#sk-container-id-10 label.sk-toggleable__label-arrow:hover:before {color: black;}#sk-container-id-10 div.sk-estimator:hover label.sk-toggleable__label-arrow:before {color: black;}#sk-container-id-10 div.sk-toggleable__content {max-height: 0;max-width: 0;overflow: hidden;text-align: left;background-color: #f0f8ff;}#sk-container-id-10 div.sk-toggleable__content pre {margin: 0.2em;color: black;border-radius: 0.25em;background-color: #f0f8ff;}#sk-container-id-10 input.sk-toggleable__control:checked~div.sk-toggleable__content {max-height: 200px;max-width: 100%;overflow: auto;}#sk-container-id-10 input.sk-toggleable__control:checked~label.sk-toggleable__label-arrow:before {content: \"▾\";}#sk-container-id-10 div.sk-estimator input.sk-toggleable__control:checked~label.sk-toggleable__label {background-color: #d4ebff;}#sk-container-id-10 div.sk-label input.sk-toggleable__control:checked~label.sk-toggleable__label {background-color: #d4ebff;}#sk-container-id-10 input.sk-hidden--visually {border: 0;clip: rect(1px 1px 1px 1px);clip: rect(1px, 1px, 1px, 1px);height: 1px;margin: -1px;overflow: hidden;padding: 0;position: absolute;width: 1px;}#sk-container-id-10 div.sk-estimator {font-family: monospace;background-color: #f0f8ff;border: 1px dotted black;border-radius: 0.25em;box-sizing: border-box;margin-bottom: 0.5em;}#sk-container-id-10 div.sk-estimator:hover {background-color: #d4ebff;}#sk-container-id-10 div.sk-parallel-item::after {content: \"\";width: 100%;border-bottom: 1px solid gray;flex-grow: 1;}#sk-container-id-10 div.sk-label:hover label.sk-toggleable__label {background-color: #d4ebff;}#sk-container-id-10 div.sk-serial::before {content: \"\";position: absolute;border-left: 1px solid gray;box-sizing: border-box;top: 0;bottom: 0;left: 50%;z-index: 0;}#sk-container-id-10 div.sk-serial {display: flex;flex-direction: column;align-items: center;background-color: white;padding-right: 0.2em;padding-left: 0.2em;position: relative;}#sk-container-id-10 div.sk-item {position: relative;z-index: 1;}#sk-container-id-10 div.sk-parallel {display: flex;align-items: stretch;justify-content: center;background-color: white;position: relative;}#sk-container-id-10 div.sk-item::before, #sk-container-id-10 div.sk-parallel-item::before {content: \"\";position: absolute;border-left: 1px solid gray;box-sizing: border-box;top: 0;bottom: 0;left: 50%;z-index: -1;}#sk-container-id-10 div.sk-parallel-item {display: flex;flex-direction: column;z-index: 1;position: relative;background-color: white;}#sk-container-id-10 div.sk-parallel-item:first-child::after {align-self: flex-end;width: 50%;}#sk-container-id-10 div.sk-parallel-item:last-child::after {align-self: flex-start;width: 50%;}#sk-container-id-10 div.sk-parallel-item:only-child::after {width: 0;}#sk-container-id-10 div.sk-dashed-wrapped {border: 1px dashed gray;margin: 0 0.4em 0.5em 0.4em;box-sizing: border-box;padding-bottom: 0.4em;background-color: white;}#sk-container-id-10 div.sk-label label {font-family: monospace;font-weight: bold;display: inline-block;line-height: 1.2em;}#sk-container-id-10 div.sk-label-container {text-align: center;}#sk-container-id-10 div.sk-container {/* jupyter's `normalize.less` sets `[hidden] { display: none; }` but bootstrap.min.css set `[hidden] { display: none !important; }` so we also need the `!important` here to be able to override the default hidden behavior on the sphinx rendered scikit-learn.org. See: https://github.com/scikit-learn/scikit-learn/issues/21755 */display: inline-block !important;position: relative;}#sk-container-id-10 div.sk-text-repr-fallback {display: none;}</style><div id=\"sk-container-id-10\" class=\"sk-top-container\"><div class=\"sk-text-repr-fallback\"><pre>RandomizedSearchCV(cv=3,\n                   estimator=XGBClassifier(base_score=None, booster=None,\n                                           callbacks=None,\n                                           colsample_bylevel=None,\n                                           colsample_bynode=None,\n                                           colsample_bytree=None, device=None,\n                                           early_stopping_rounds=None,\n                                           enable_categorical=False,\n                                           eval_metric=None, feature_types=None,\n                                           gamma=None, grow_policy=None,\n                                           importance_type=None,\n                                           interaction_constraints=None,\n                                           learning_rate...\n                                           random_state=None, ...),\n                   n_iter=25,\n                   param_distributions={&#x27;learning_rate&#x27;: &lt;scipy.stats._distn_infrastructure.rv_continuous_frozen object at 0x28daccbd0&gt;,\n                                        &#x27;max_depth&#x27;: &lt;scipy.stats._distn_infrastructure.rv_discrete_frozen object at 0x28c75b010&gt;,\n                                        &#x27;n_estimators&#x27;: &lt;scipy.stats._distn_infrastructure.rv_discrete_frozen object at 0x288557790&gt;},\n                   random_state=42, scoring=&#x27;accuracy&#x27;, verbose=2)</pre><b>In a Jupyter environment, please rerun this cell to show the HTML representation or trust the notebook. <br />On GitHub, the HTML representation is unable to render, please try loading this page with nbviewer.org.</b></div><div class=\"sk-container\" hidden><div class=\"sk-item sk-dashed-wrapped\"><div class=\"sk-label-container\"><div class=\"sk-label sk-toggleable\"><input class=\"sk-toggleable__control sk-hidden--visually\" id=\"sk-estimator-id-18\" type=\"checkbox\" ><label for=\"sk-estimator-id-18\" class=\"sk-toggleable__label sk-toggleable__label-arrow\">RandomizedSearchCV</label><div class=\"sk-toggleable__content\"><pre>RandomizedSearchCV(cv=3,\n                   estimator=XGBClassifier(base_score=None, booster=None,\n                                           callbacks=None,\n                                           colsample_bylevel=None,\n                                           colsample_bynode=None,\n                                           colsample_bytree=None, device=None,\n                                           early_stopping_rounds=None,\n                                           enable_categorical=False,\n                                           eval_metric=None, feature_types=None,\n                                           gamma=None, grow_policy=None,\n                                           importance_type=None,\n                                           interaction_constraints=None,\n                                           learning_rate...\n                                           random_state=None, ...),\n                   n_iter=25,\n                   param_distributions={&#x27;learning_rate&#x27;: &lt;scipy.stats._distn_infrastructure.rv_continuous_frozen object at 0x28daccbd0&gt;,\n                                        &#x27;max_depth&#x27;: &lt;scipy.stats._distn_infrastructure.rv_discrete_frozen object at 0x28c75b010&gt;,\n                                        &#x27;n_estimators&#x27;: &lt;scipy.stats._distn_infrastructure.rv_discrete_frozen object at 0x288557790&gt;},\n                   random_state=42, scoring=&#x27;accuracy&#x27;, verbose=2)</pre></div></div></div><div class=\"sk-parallel\"><div class=\"sk-parallel-item\"><div class=\"sk-item\"><div class=\"sk-label-container\"><div class=\"sk-label sk-toggleable\"><input class=\"sk-toggleable__control sk-hidden--visually\" id=\"sk-estimator-id-19\" type=\"checkbox\" ><label for=\"sk-estimator-id-19\" class=\"sk-toggleable__label sk-toggleable__label-arrow\">estimator: XGBClassifier</label><div class=\"sk-toggleable__content\"><pre>XGBClassifier(base_score=None, booster=None, callbacks=None,\n              colsample_bylevel=None, colsample_bynode=None,\n              colsample_bytree=None, device=None, early_stopping_rounds=None,\n              enable_categorical=False, eval_metric=None, feature_types=None,\n              gamma=None, grow_policy=None, importance_type=None,\n              interaction_constraints=None, learning_rate=None, max_bin=None,\n              max_cat_threshold=None, max_cat_to_onehot=None,\n              max_delta_step=None, max_depth=None, max_leaves=None,\n              min_child_weight=None, missing=nan, monotone_constraints=None,\n              multi_strategy=None, n_estimators=None, n_jobs=None,\n              num_parallel_tree=None, random_state=None, ...)</pre></div></div></div><div class=\"sk-serial\"><div class=\"sk-item\"><div class=\"sk-estimator sk-toggleable\"><input class=\"sk-toggleable__control sk-hidden--visually\" id=\"sk-estimator-id-20\" type=\"checkbox\" ><label for=\"sk-estimator-id-20\" class=\"sk-toggleable__label sk-toggleable__label-arrow\">XGBClassifier</label><div class=\"sk-toggleable__content\"><pre>XGBClassifier(base_score=None, booster=None, callbacks=None,\n              colsample_bylevel=None, colsample_bynode=None,\n              colsample_bytree=None, device=None, early_stopping_rounds=None,\n              enable_categorical=False, eval_metric=None, feature_types=None,\n              gamma=None, grow_policy=None, importance_type=None,\n              interaction_constraints=None, learning_rate=None, max_bin=None,\n              max_cat_threshold=None, max_cat_to_onehot=None,\n              max_delta_step=None, max_depth=None, max_leaves=None,\n              min_child_weight=None, missing=nan, monotone_constraints=None,\n              multi_strategy=None, n_estimators=None, n_jobs=None,\n              num_parallel_tree=None, random_state=None, ...)</pre></div></div></div></div></div></div></div></div></div></div>"
     },
     "execution_count": 209,
     "metadata": {},
     "output_type": "execute_result"
    }
   ],
   "source": [
    "from sklearn.model_selection import RandomizedSearchCV\n",
    "import xgboost as xgb\n",
    "from scipy.stats import randint, uniform\n",
    "\n",
    "param_dist = {\n",
    "    'n_estimators': randint(100, 1000),\n",
    "    'learning_rate': uniform(0.01, 0.5),\n",
    "    'max_depth': randint(3, 15)\n",
    "}\n",
    "\n",
    "accuracies = []\n",
    "\n",
    "xgb_clf = xgb.XGBClassifier()\n",
    "random_search = RandomizedSearchCV(xgb_clf, param_distributions=param_dist, n_iter=25, cv=3, scoring='accuracy', verbose=2, random_state=42)\n",
    "random_search.fit(X_train_scaled, y_train['above_median'])"
   ],
   "metadata": {
    "collapsed": false
   }
  },
  {
   "cell_type": "code",
   "execution_count": 210,
   "outputs": [
    {
     "data": {
      "text/plain": "{'learning_rate': 0.08799726016810132, 'max_depth': 13, 'n_estimators': 558}"
     },
     "execution_count": 210,
     "metadata": {},
     "output_type": "execute_result"
    }
   ],
   "source": [
    "random_search.best_params_"
   ],
   "metadata": {
    "collapsed": false
   }
  },
  {
   "cell_type": "code",
   "execution_count": 211,
   "outputs": [],
   "source": [
    "best_tree_model = random_search.best_estimator_\n",
    "y_pred = best_tree_model.predict(X_test_scaled)"
   ],
   "metadata": {
    "collapsed": false
   }
  },
  {
   "cell_type": "code",
   "execution_count": 212,
   "outputs": [
    {
     "name": "stdout",
     "output_type": "stream",
     "text": [
      "Accuracy: 0.6873646669214113\n",
      "Precision: 0.7229740239539586\n",
      "Recall: 0.5977366255144033\n",
      "F1 Score: 0.6544174586413235\n",
      "              precision    recall  f1-score   support\n",
      "\n",
      "           0       0.66      0.78      0.71      7926\n",
      "           1       0.72      0.60      0.65      7776\n",
      "\n",
      "    accuracy                           0.69     15702\n",
      "   macro avg       0.69      0.69      0.68     15702\n",
      "weighted avg       0.69      0.69      0.68     15702\n",
      "\n"
     ]
    },
    {
     "name": "stderr",
     "output_type": "stream",
     "text": [
      "/Users/gohjunwei/anaconda3/lib/python3.11/site-packages/sklearn/utils/validation.py:605: FutureWarning: is_sparse is deprecated and will be removed in a future version. Check `isinstance(dtype, pd.SparseDtype)` instead.\n",
      "  if is_sparse(pd_dtype):\n",
      "/Users/gohjunwei/anaconda3/lib/python3.11/site-packages/sklearn/utils/validation.py:614: FutureWarning: is_sparse is deprecated and will be removed in a future version. Check `isinstance(dtype, pd.SparseDtype)` instead.\n",
      "  if is_sparse(pd_dtype) or not is_extension_array_dtype(pd_dtype):\n",
      "/Users/gohjunwei/anaconda3/lib/python3.11/site-packages/sklearn/utils/validation.py:605: FutureWarning: is_sparse is deprecated and will be removed in a future version. Check `isinstance(dtype, pd.SparseDtype)` instead.\n",
      "  if is_sparse(pd_dtype):\n",
      "/Users/gohjunwei/anaconda3/lib/python3.11/site-packages/sklearn/utils/validation.py:614: FutureWarning: is_sparse is deprecated and will be removed in a future version. Check `isinstance(dtype, pd.SparseDtype)` instead.\n",
      "  if is_sparse(pd_dtype) or not is_extension_array_dtype(pd_dtype):\n",
      "/Users/gohjunwei/anaconda3/lib/python3.11/site-packages/sklearn/utils/validation.py:605: FutureWarning: is_sparse is deprecated and will be removed in a future version. Check `isinstance(dtype, pd.SparseDtype)` instead.\n",
      "  if is_sparse(pd_dtype):\n",
      "/Users/gohjunwei/anaconda3/lib/python3.11/site-packages/sklearn/utils/validation.py:614: FutureWarning: is_sparse is deprecated and will be removed in a future version. Check `isinstance(dtype, pd.SparseDtype)` instead.\n",
      "  if is_sparse(pd_dtype) or not is_extension_array_dtype(pd_dtype):\n",
      "/Users/gohjunwei/anaconda3/lib/python3.11/site-packages/sklearn/utils/validation.py:605: FutureWarning: is_sparse is deprecated and will be removed in a future version. Check `isinstance(dtype, pd.SparseDtype)` instead.\n",
      "  if is_sparse(pd_dtype):\n",
      "/Users/gohjunwei/anaconda3/lib/python3.11/site-packages/sklearn/utils/validation.py:614: FutureWarning: is_sparse is deprecated and will be removed in a future version. Check `isinstance(dtype, pd.SparseDtype)` instead.\n",
      "  if is_sparse(pd_dtype) or not is_extension_array_dtype(pd_dtype):\n",
      "/Users/gohjunwei/anaconda3/lib/python3.11/site-packages/sklearn/utils/validation.py:605: FutureWarning: is_sparse is deprecated and will be removed in a future version. Check `isinstance(dtype, pd.SparseDtype)` instead.\n",
      "  if is_sparse(pd_dtype):\n",
      "/Users/gohjunwei/anaconda3/lib/python3.11/site-packages/sklearn/utils/validation.py:614: FutureWarning: is_sparse is deprecated and will be removed in a future version. Check `isinstance(dtype, pd.SparseDtype)` instead.\n",
      "  if is_sparse(pd_dtype) or not is_extension_array_dtype(pd_dtype):\n",
      "/Users/gohjunwei/anaconda3/lib/python3.11/site-packages/sklearn/utils/validation.py:605: FutureWarning: is_sparse is deprecated and will be removed in a future version. Check `isinstance(dtype, pd.SparseDtype)` instead.\n",
      "  if is_sparse(pd_dtype):\n",
      "/Users/gohjunwei/anaconda3/lib/python3.11/site-packages/sklearn/utils/validation.py:614: FutureWarning: is_sparse is deprecated and will be removed in a future version. Check `isinstance(dtype, pd.SparseDtype)` instead.\n",
      "  if is_sparse(pd_dtype) or not is_extension_array_dtype(pd_dtype):\n",
      "/Users/gohjunwei/anaconda3/lib/python3.11/site-packages/sklearn/utils/validation.py:605: FutureWarning: is_sparse is deprecated and will be removed in a future version. Check `isinstance(dtype, pd.SparseDtype)` instead.\n",
      "  if is_sparse(pd_dtype):\n",
      "/Users/gohjunwei/anaconda3/lib/python3.11/site-packages/sklearn/utils/validation.py:614: FutureWarning: is_sparse is deprecated and will be removed in a future version. Check `isinstance(dtype, pd.SparseDtype)` instead.\n",
      "  if is_sparse(pd_dtype) or not is_extension_array_dtype(pd_dtype):\n",
      "/Users/gohjunwei/anaconda3/lib/python3.11/site-packages/sklearn/utils/validation.py:605: FutureWarning: is_sparse is deprecated and will be removed in a future version. Check `isinstance(dtype, pd.SparseDtype)` instead.\n",
      "  if is_sparse(pd_dtype):\n",
      "/Users/gohjunwei/anaconda3/lib/python3.11/site-packages/sklearn/utils/validation.py:614: FutureWarning: is_sparse is deprecated and will be removed in a future version. Check `isinstance(dtype, pd.SparseDtype)` instead.\n",
      "  if is_sparse(pd_dtype) or not is_extension_array_dtype(pd_dtype):\n",
      "/Users/gohjunwei/anaconda3/lib/python3.11/site-packages/sklearn/utils/validation.py:605: FutureWarning: is_sparse is deprecated and will be removed in a future version. Check `isinstance(dtype, pd.SparseDtype)` instead.\n",
      "  if is_sparse(pd_dtype):\n",
      "/Users/gohjunwei/anaconda3/lib/python3.11/site-packages/sklearn/utils/validation.py:614: FutureWarning: is_sparse is deprecated and will be removed in a future version. Check `isinstance(dtype, pd.SparseDtype)` instead.\n",
      "  if is_sparse(pd_dtype) or not is_extension_array_dtype(pd_dtype):\n",
      "/Users/gohjunwei/anaconda3/lib/python3.11/site-packages/sklearn/utils/validation.py:605: FutureWarning: is_sparse is deprecated and will be removed in a future version. Check `isinstance(dtype, pd.SparseDtype)` instead.\n",
      "  if is_sparse(pd_dtype):\n",
      "/Users/gohjunwei/anaconda3/lib/python3.11/site-packages/sklearn/utils/validation.py:614: FutureWarning: is_sparse is deprecated and will be removed in a future version. Check `isinstance(dtype, pd.SparseDtype)` instead.\n",
      "  if is_sparse(pd_dtype) or not is_extension_array_dtype(pd_dtype):\n",
      "/Users/gohjunwei/anaconda3/lib/python3.11/site-packages/sklearn/utils/validation.py:605: FutureWarning: is_sparse is deprecated and will be removed in a future version. Check `isinstance(dtype, pd.SparseDtype)` instead.\n",
      "  if is_sparse(pd_dtype):\n",
      "/Users/gohjunwei/anaconda3/lib/python3.11/site-packages/sklearn/utils/validation.py:614: FutureWarning: is_sparse is deprecated and will be removed in a future version. Check `isinstance(dtype, pd.SparseDtype)` instead.\n",
      "  if is_sparse(pd_dtype) or not is_extension_array_dtype(pd_dtype):\n",
      "/Users/gohjunwei/anaconda3/lib/python3.11/site-packages/sklearn/utils/validation.py:605: FutureWarning: is_sparse is deprecated and will be removed in a future version. Check `isinstance(dtype, pd.SparseDtype)` instead.\n",
      "  if is_sparse(pd_dtype):\n",
      "/Users/gohjunwei/anaconda3/lib/python3.11/site-packages/sklearn/utils/validation.py:614: FutureWarning: is_sparse is deprecated and will be removed in a future version. Check `isinstance(dtype, pd.SparseDtype)` instead.\n",
      "  if is_sparse(pd_dtype) or not is_extension_array_dtype(pd_dtype):\n",
      "/Users/gohjunwei/anaconda3/lib/python3.11/site-packages/sklearn/utils/validation.py:605: FutureWarning: is_sparse is deprecated and will be removed in a future version. Check `isinstance(dtype, pd.SparseDtype)` instead.\n",
      "  if is_sparse(pd_dtype):\n",
      "/Users/gohjunwei/anaconda3/lib/python3.11/site-packages/sklearn/utils/validation.py:614: FutureWarning: is_sparse is deprecated and will be removed in a future version. Check `isinstance(dtype, pd.SparseDtype)` instead.\n",
      "  if is_sparse(pd_dtype) or not is_extension_array_dtype(pd_dtype):\n",
      "/Users/gohjunwei/anaconda3/lib/python3.11/site-packages/sklearn/utils/validation.py:605: FutureWarning: is_sparse is deprecated and will be removed in a future version. Check `isinstance(dtype, pd.SparseDtype)` instead.\n",
      "  if is_sparse(pd_dtype):\n",
      "/Users/gohjunwei/anaconda3/lib/python3.11/site-packages/sklearn/utils/validation.py:614: FutureWarning: is_sparse is deprecated and will be removed in a future version. Check `isinstance(dtype, pd.SparseDtype)` instead.\n",
      "  if is_sparse(pd_dtype) or not is_extension_array_dtype(pd_dtype):\n",
      "/Users/gohjunwei/anaconda3/lib/python3.11/site-packages/sklearn/utils/validation.py:605: FutureWarning: is_sparse is deprecated and will be removed in a future version. Check `isinstance(dtype, pd.SparseDtype)` instead.\n",
      "  if is_sparse(pd_dtype):\n",
      "/Users/gohjunwei/anaconda3/lib/python3.11/site-packages/sklearn/utils/validation.py:614: FutureWarning: is_sparse is deprecated and will be removed in a future version. Check `isinstance(dtype, pd.SparseDtype)` instead.\n",
      "  if is_sparse(pd_dtype) or not is_extension_array_dtype(pd_dtype):\n",
      "/Users/gohjunwei/anaconda3/lib/python3.11/site-packages/sklearn/utils/validation.py:605: FutureWarning: is_sparse is deprecated and will be removed in a future version. Check `isinstance(dtype, pd.SparseDtype)` instead.\n",
      "  if is_sparse(pd_dtype):\n",
      "/Users/gohjunwei/anaconda3/lib/python3.11/site-packages/sklearn/utils/validation.py:614: FutureWarning: is_sparse is deprecated and will be removed in a future version. Check `isinstance(dtype, pd.SparseDtype)` instead.\n",
      "  if is_sparse(pd_dtype) or not is_extension_array_dtype(pd_dtype):\n",
      "/Users/gohjunwei/anaconda3/lib/python3.11/site-packages/sklearn/utils/validation.py:605: FutureWarning: is_sparse is deprecated and will be removed in a future version. Check `isinstance(dtype, pd.SparseDtype)` instead.\n",
      "  if is_sparse(pd_dtype):\n",
      "/Users/gohjunwei/anaconda3/lib/python3.11/site-packages/sklearn/utils/validation.py:614: FutureWarning: is_sparse is deprecated and will be removed in a future version. Check `isinstance(dtype, pd.SparseDtype)` instead.\n",
      "  if is_sparse(pd_dtype) or not is_extension_array_dtype(pd_dtype):\n",
      "/Users/gohjunwei/anaconda3/lib/python3.11/site-packages/sklearn/utils/validation.py:605: FutureWarning: is_sparse is deprecated and will be removed in a future version. Check `isinstance(dtype, pd.SparseDtype)` instead.\n",
      "  if is_sparse(pd_dtype):\n",
      "/Users/gohjunwei/anaconda3/lib/python3.11/site-packages/sklearn/utils/validation.py:614: FutureWarning: is_sparse is deprecated and will be removed in a future version. Check `isinstance(dtype, pd.SparseDtype)` instead.\n",
      "  if is_sparse(pd_dtype) or not is_extension_array_dtype(pd_dtype):\n",
      "/Users/gohjunwei/anaconda3/lib/python3.11/site-packages/sklearn/utils/validation.py:605: FutureWarning: is_sparse is deprecated and will be removed in a future version. Check `isinstance(dtype, pd.SparseDtype)` instead.\n",
      "  if is_sparse(pd_dtype):\n",
      "/Users/gohjunwei/anaconda3/lib/python3.11/site-packages/sklearn/utils/validation.py:614: FutureWarning: is_sparse is deprecated and will be removed in a future version. Check `isinstance(dtype, pd.SparseDtype)` instead.\n",
      "  if is_sparse(pd_dtype) or not is_extension_array_dtype(pd_dtype):\n",
      "/Users/gohjunwei/anaconda3/lib/python3.11/site-packages/sklearn/utils/validation.py:605: FutureWarning: is_sparse is deprecated and will be removed in a future version. Check `isinstance(dtype, pd.SparseDtype)` instead.\n",
      "  if is_sparse(pd_dtype):\n",
      "/Users/gohjunwei/anaconda3/lib/python3.11/site-packages/sklearn/utils/validation.py:614: FutureWarning: is_sparse is deprecated and will be removed in a future version. Check `isinstance(dtype, pd.SparseDtype)` instead.\n",
      "  if is_sparse(pd_dtype) or not is_extension_array_dtype(pd_dtype):\n",
      "/Users/gohjunwei/anaconda3/lib/python3.11/site-packages/sklearn/utils/validation.py:605: FutureWarning: is_sparse is deprecated and will be removed in a future version. Check `isinstance(dtype, pd.SparseDtype)` instead.\n",
      "  if is_sparse(pd_dtype):\n",
      "/Users/gohjunwei/anaconda3/lib/python3.11/site-packages/sklearn/utils/validation.py:614: FutureWarning: is_sparse is deprecated and will be removed in a future version. Check `isinstance(dtype, pd.SparseDtype)` instead.\n",
      "  if is_sparse(pd_dtype) or not is_extension_array_dtype(pd_dtype):\n",
      "/Users/gohjunwei/anaconda3/lib/python3.11/site-packages/sklearn/utils/validation.py:605: FutureWarning: is_sparse is deprecated and will be removed in a future version. Check `isinstance(dtype, pd.SparseDtype)` instead.\n",
      "  if is_sparse(pd_dtype):\n",
      "/Users/gohjunwei/anaconda3/lib/python3.11/site-packages/sklearn/utils/validation.py:614: FutureWarning: is_sparse is deprecated and will be removed in a future version. Check `isinstance(dtype, pd.SparseDtype)` instead.\n",
      "  if is_sparse(pd_dtype) or not is_extension_array_dtype(pd_dtype):\n",
      "/Users/gohjunwei/anaconda3/lib/python3.11/site-packages/sklearn/utils/validation.py:605: FutureWarning: is_sparse is deprecated and will be removed in a future version. Check `isinstance(dtype, pd.SparseDtype)` instead.\n",
      "  if is_sparse(pd_dtype):\n",
      "/Users/gohjunwei/anaconda3/lib/python3.11/site-packages/sklearn/utils/validation.py:614: FutureWarning: is_sparse is deprecated and will be removed in a future version. Check `isinstance(dtype, pd.SparseDtype)` instead.\n",
      "  if is_sparse(pd_dtype) or not is_extension_array_dtype(pd_dtype):\n",
      "/Users/gohjunwei/anaconda3/lib/python3.11/site-packages/sklearn/utils/validation.py:605: FutureWarning: is_sparse is deprecated and will be removed in a future version. Check `isinstance(dtype, pd.SparseDtype)` instead.\n",
      "  if is_sparse(pd_dtype):\n",
      "/Users/gohjunwei/anaconda3/lib/python3.11/site-packages/sklearn/utils/validation.py:614: FutureWarning: is_sparse is deprecated and will be removed in a future version. Check `isinstance(dtype, pd.SparseDtype)` instead.\n",
      "  if is_sparse(pd_dtype) or not is_extension_array_dtype(pd_dtype):\n"
     ]
    }
   ],
   "source": [
    "from sklearn.metrics import accuracy_score, precision_score, recall_score, f1_score, classification_report\n",
    "\n",
    "print(\"Accuracy:\", accuracy_score(y_test['above_median'], y_pred))\n",
    "print(\"Precision:\", precision_score(y_test['above_median'], y_pred))\n",
    "print(\"Recall:\", recall_score(y_test['above_median'], y_pred))\n",
    "print(\"F1 Score:\", f1_score(y_test['above_median'], y_pred))\n",
    "print(classification_report(y_test['above_median'], y_pred))"
   ],
   "metadata": {
    "collapsed": false
   }
  },
  {
   "cell_type": "markdown",
   "source": [
    "We have a GBT with an accuracy score of 69%, which is a statistically significant improvement over the base case."
   ],
   "metadata": {
    "collapsed": false
   }
  },
  {
   "cell_type": "code",
   "execution_count": 214,
   "outputs": [
    {
     "data": {
      "text/plain": "<Figure size 640x480 with 1 Axes>",
      "image/png": "[encoded data removed]"
     },
     "metadata": {},
     "output_type": "display_data"
    }
   ],
   "source": [
    "import matplotlib.pyplot as plt\n",
    "xgb.plot_importance(best_tree_model)\n",
    "plt.show()"
   ],
   "metadata": {
    "collapsed": false
   }
  },
  {
   "cell_type": "markdown",
   "source": [
    "We now attempt to run a logistic regression on the dataset as an alternative classification method."
   ],
   "metadata": {
    "collapsed": false
   }
  },
  {
   "cell_type": "code",
   "execution_count": 213,
   "outputs": [
    {
     "name": "stderr",
     "output_type": "stream",
     "text": [
      "/Users/gohjunwei/anaconda3/lib/python3.11/site-packages/sklearn/utils/validation.py:605: FutureWarning: is_sparse is deprecated and will be removed in a future version. Check `isinstance(dtype, pd.SparseDtype)` instead.\n",
      "  if is_sparse(pd_dtype):\n",
      "/Users/gohjunwei/anaconda3/lib/python3.11/site-packages/sklearn/utils/validation.py:614: FutureWarning: is_sparse is deprecated and will be removed in a future version. Check `isinstance(dtype, pd.SparseDtype)` instead.\n",
      "  if is_sparse(pd_dtype) or not is_extension_array_dtype(pd_dtype):\n"
     ]
    },
    {
     "name": "stdout",
     "output_type": "stream",
     "text": [
      "Accuracy: 0.6529104572665902\n",
      "Classification Report:\n",
      "               precision    recall  f1-score   support\n",
      "\n",
      "           0       0.64      0.70      0.67      7926\n",
      "           1       0.66      0.60      0.63      7776\n",
      "\n",
      "    accuracy                           0.65     15702\n",
      "   macro avg       0.65      0.65      0.65     15702\n",
      "weighted avg       0.65      0.65      0.65     15702\n",
      "\n"
     ]
    },
    {
     "name": "stderr",
     "output_type": "stream",
     "text": [
      "/Users/gohjunwei/anaconda3/lib/python3.11/site-packages/sklearn/utils/validation.py:605: FutureWarning: is_sparse is deprecated and will be removed in a future version. Check `isinstance(dtype, pd.SparseDtype)` instead.\n",
      "  if is_sparse(pd_dtype):\n",
      "/Users/gohjunwei/anaconda3/lib/python3.11/site-packages/sklearn/utils/validation.py:614: FutureWarning: is_sparse is deprecated and will be removed in a future version. Check `isinstance(dtype, pd.SparseDtype)` instead.\n",
      "  if is_sparse(pd_dtype) or not is_extension_array_dtype(pd_dtype):\n",
      "/Users/gohjunwei/anaconda3/lib/python3.11/site-packages/sklearn/utils/validation.py:605: FutureWarning: is_sparse is deprecated and will be removed in a future version. Check `isinstance(dtype, pd.SparseDtype)` instead.\n",
      "  if is_sparse(pd_dtype):\n",
      "/Users/gohjunwei/anaconda3/lib/python3.11/site-packages/sklearn/utils/validation.py:614: FutureWarning: is_sparse is deprecated and will be removed in a future version. Check `isinstance(dtype, pd.SparseDtype)` instead.\n",
      "  if is_sparse(pd_dtype) or not is_extension_array_dtype(pd_dtype):\n",
      "/Users/gohjunwei/anaconda3/lib/python3.11/site-packages/sklearn/utils/validation.py:605: FutureWarning: is_sparse is deprecated and will be removed in a future version. Check `isinstance(dtype, pd.SparseDtype)` instead.\n",
      "  if is_sparse(pd_dtype):\n",
      "/Users/gohjunwei/anaconda3/lib/python3.11/site-packages/sklearn/utils/validation.py:614: FutureWarning: is_sparse is deprecated and will be removed in a future version. Check `isinstance(dtype, pd.SparseDtype)` instead.\n",
      "  if is_sparse(pd_dtype) or not is_extension_array_dtype(pd_dtype):\n",
      "/Users/gohjunwei/anaconda3/lib/python3.11/site-packages/sklearn/utils/validation.py:605: FutureWarning: is_sparse is deprecated and will be removed in a future version. Check `isinstance(dtype, pd.SparseDtype)` instead.\n",
      "  if is_sparse(pd_dtype):\n",
      "/Users/gohjunwei/anaconda3/lib/python3.11/site-packages/sklearn/utils/validation.py:614: FutureWarning: is_sparse is deprecated and will be removed in a future version. Check `isinstance(dtype, pd.SparseDtype)` instead.\n",
      "  if is_sparse(pd_dtype) or not is_extension_array_dtype(pd_dtype):\n",
      "/Users/gohjunwei/anaconda3/lib/python3.11/site-packages/sklearn/utils/validation.py:605: FutureWarning: is_sparse is deprecated and will be removed in a future version. Check `isinstance(dtype, pd.SparseDtype)` instead.\n",
      "  if is_sparse(pd_dtype):\n",
      "/Users/gohjunwei/anaconda3/lib/python3.11/site-packages/sklearn/utils/validation.py:614: FutureWarning: is_sparse is deprecated and will be removed in a future version. Check `isinstance(dtype, pd.SparseDtype)` instead.\n",
      "  if is_sparse(pd_dtype) or not is_extension_array_dtype(pd_dtype):\n",
      "/Users/gohjunwei/anaconda3/lib/python3.11/site-packages/sklearn/utils/validation.py:605: FutureWarning: is_sparse is deprecated and will be removed in a future version. Check `isinstance(dtype, pd.SparseDtype)` instead.\n",
      "  if is_sparse(pd_dtype):\n",
      "/Users/gohjunwei/anaconda3/lib/python3.11/site-packages/sklearn/utils/validation.py:614: FutureWarning: is_sparse is deprecated and will be removed in a future version. Check `isinstance(dtype, pd.SparseDtype)` instead.\n",
      "  if is_sparse(pd_dtype) or not is_extension_array_dtype(pd_dtype):\n"
     ]
    }
   ],
   "source": [
    "from sklearn.linear_model import LogisticRegressionCV\n",
    "\n",
    "log_reg = LogisticRegressionCV()\n",
    "log_reg.fit(X_train_scaled, y_train['above_median'])\n",
    "\n",
    "y_pred = log_reg.predict(X_test_scaled)\n",
    "\n",
    "from sklearn.metrics import confusion_matrix, classification_report\n",
    "\n",
    "print(\"Accuracy:\", accuracy_score(y_test['above_median'], y_pred))\n",
    "\n",
    "# Classification Report (Precision, Recall, F1-score)\n",
    "print(\"Classification Report:\\n\", classification_report(y_test['above_median'], y_pred))"
   ],
   "metadata": {
    "collapsed": false
   }
  },
  {
   "cell_type": "markdown",
   "source": [
    "We see that a Logistic Regression provides us with a classification accuracy that slightly pales in comparison to a GBT approach."
   ],
   "metadata": {
    "collapsed": false
   }
  },
  {
   "cell_type": "markdown",
   "source": [],
   "metadata": {
    "collapsed": false
   }
  },
  {
   "cell_type": "code",
   "execution_count": 213,
   "outputs": [],
   "source": [],
   "metadata": {
    "collapsed": false
   }
  }
 ],
 "metadata": {
  "kernelspec": {
   "display_name": "Python 3",
   "language": "python",
   "name": "python3"
  },
  "language_info": {
   "codemirror_mode": {
    "name": "ipython",
    "version": 2
   },
   "file_extension": ".py",
   "mimetype": "text/x-python",
   "name": "python",
   "nbconvert_exporter": "python",
   "pygments_lexer": "ipython2",
   "version": "2.7.6"
  }
 },
 "nbformat": 4,
 "nbformat_minor": 0
}
