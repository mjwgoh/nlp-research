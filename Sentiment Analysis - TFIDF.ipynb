{
 "cells": [
  {
   "cell_type": "markdown",
   "source": [
    "We begin by conducting sentiment analysis using a dictionary."
   ],
   "metadata": {
    "collapsed": false
   }
  },
  {
   "cell_type": "code",
   "execution_count": 294,
   "outputs": [],
   "source": [
    "import pandas as pd\n",
    "import numpy as np"
   ],
   "metadata": {
    "collapsed": false
   }
  },
  {
   "cell_type": "code",
   "execution_count": 295,
   "metadata": {
    "collapsed": true
   },
   "outputs": [],
   "source": [
    "df = pd.read_csv('df_cleaned_X_train.csv')\n",
    "df_test  = pd.read_csv('df_cleaned_X_test.csv')\n",
    "\n",
    "df_train = pd.read_csv('df_cleaned_y_train.csv')\n",
    "df_test_y = pd.read_csv('df_cleaned_y_test.csv')"
   ]
  },
  {
   "cell_type": "code",
   "execution_count": 296,
   "outputs": [
    {
     "data": {
      "text/plain": "           id               created_at               updated_at  \\\n0      135871  2014-12-14 01:11:50.638  2016-04-02 16:31:58.139   \n1      148756  2014-11-09 19:50:25.589  2016-04-02 16:31:36.967   \n2       38486  2014-03-24 02:19:28.068  2016-04-02 16:26:23.861   \n3      147221  2014-10-20 00:19:19.265  2016-04-02 16:31:12.466   \n4       86092  2014-02-27 00:32:44.843  2016-04-02 16:29:00.646   \n...       ...                      ...                      ...   \n62799   14059  2015-03-27 16:57:13.191  2016-04-02 16:24:54.695   \n62800  129829  2014-11-02 17:38:46.671  2016-04-02 16:31:30.048   \n62801  133246  2014-11-25 20:44:40.537  2016-04-02 16:31:46.470   \n62802    1803  2015-01-08 03:56:53.527  2016-04-02 16:32:06.924   \n62803   35566  2014-02-24 18:33:45.178  2016-04-02 16:26:15.178   \n\n           clickability_test_id  \\\n0      548ce28d6536610018050000   \n1      545fc565dba561926a00000f   \n2      532f93deca310662e3000001   \n3      54445507ecd9a245d8000005   \n4      530e86e775e6a740a500004f   \n...                         ...   \n62799  55158be9616664002c100000   \n62800  5456566ab2bd23dced000009   \n62801  5474e8ae32376400120c0000   \n62802  54adffc76331630012440000   \n62803  530b8c33b768517a1400000f   \n\n                                                 excerpt  \\\n0                                                    NaN   \n1                       Things that matter. Pass 'em on.   \n2         Things that matter. Pass 'em on. #PromotedPost   \n3                       Things that matter. Pass 'em on.   \n4                                The drawings are bonus.   \n...                                                  ...   \n62799                      It was completely unexpected.   \n62800                   Things that matter. Pass 'em on.   \n62801  What dating a woman with an eating disorder is...   \n62802                      Humans. We're an odd species.   \n62803                 We surely can do better than this.   \n\n                                                headline  \\\n0      He Dissed A Rape Victim On National TV And Now...   \n1      You Might Call Jacob A Man With Lipstick. Well...   \n2      I Wouldn't Eat That If I Were You... It's Not ...   \n3      Despite What Happened At The End Of 'Titanic,'...   \n4      Economist Takes 2 Minutes And A Whiteboard To ...   \n...                                                  ...   \n62799  A scientist watched a bunch of male baboons di...   \n62800  How To Make The Most Awkward Kid Conversation ...   \n62801  A Beautiful And Real Response To A Disgusting ...   \n62802  The Bizarre Human Tendency That Drew Us To Her...   \n62803  17 Disconcerting Facts To Make You Realize How...   \n\n                                                    lede  \\\n0      <p>Anytime there's a new sexual assault case b...   \n1      <p>Meet Jacob. You might have met a person lik...   \n2      <p>Is anyone else as excited as I am for the n...   \n3      <p>You can see Leo really cares about what's h...   \n4      <p>I don't think rich people are generally mal...   \n...                                                  ...   \n62799  <p>The baboons show up halfway through. Just g...   \n62800  <p>Whether you're a parent or not, protecting ...   \n62801  <p><strong style=\"background-color: initial;\">...   \n62802  <p>Humans. We're an odd species.<span></span><...   \n62803  <p>I love my country. That doesn't mean I thin...   \n\n                                                    slug  \\\n0      he-dissed-a-rape-victim-on-national-tv-and-now...   \n1      you-might-call-jacob-a-man-with-lipstick-well-...   \n2      i-wouldnt-eat-that-if-i-were-you-its-not-poiso...   \n3      despite-what-happened-at-the-end-of-titanic-le...   \n4      economist-takes-2-minutes-and-a-whiteboard-to-...   \n...                                                  ...   \n62799  a-scientist-watched-a-bunch-of-male-baboons-di...   \n62800  how-to-make-the-most-awkward-kid-conversation-...   \n62801  a-beautiful-and-real-response-to-a-disgusting-...   \n62802  the-bizarre-human-tendency-that-drew-us-to-her...   \n62803  17-disconcerting-facts-to-make-you-realize-how...   \n\n                  eyecatcher_id  impressions  clicks  significance  \\\n0      548c6a30333034001b240000         3013      39         100.0   \n1      545dd264f1cb1f440b00001d         3103      62          24.8   \n2      5332ba0d1fae79f09f002be6         2233      40          89.0   \n3      5443f2398996644f84000015         3162      11           0.1   \n4      5332b6591fae79f09f000d6e         3670      86         100.0   \n...                         ...          ...     ...           ...   \n62799  5514afe3303261001c4d0000         2118      80          85.4   \n62800  545662b209e1045b59000015         3871      15           0.0   \n62801  5474b5541631de66cc00004a         2985      51           8.1   \n62802  54ab1fa962336500152a0000         2870      48          32.0   \n62803  5332f81aa2fc90ead00012d0         3029      68           0.1   \n\n       first_place  winner                                         share_text  \\\n0             True   False                                                NaN   \n1            False   False                                                NaN   \n2            False   False                                                NaN   \n3            False   False                                                NaN   \n4             True   False                                                NaN   \n...            ...     ...                                                ...   \n62799        False   False                  He didn't see it coming *at all.*   \n62800        False   False                                                NaN   \n62801        False   False                 It's time we all heard the truth.    \n62802        False   False  In 1987, the world was captivated by one littl...   \n62803        False   False                                                NaN   \n\n                                                  square  test_week  \\\n0                                                    NaN     201450   \n1                                                    NaN     201445   \n2      TakePartChavez20-19a6cac618ec3d3bf0f340ae6eb3d...     201412   \n3                                                    NaN     201442   \n4          benefits-e403880bf5ddc759e67826b8284a9846.png     201408   \n...                                                  ...        ...   \n62799                                                NaN     201512   \n62800                                                NaN     201444   \n62801                                                NaN     201447   \n62802                                                NaN     201501   \n62803  represent3-2-ff82c11b758d44231a79916d8324ce22.jpg     201408   \n\n                      timedelta  timedelta_numeric  timedelta_minmax  \n0      475 days 15:20:07.501000       4.109521e+07          0.193770  \n1      509 days 20:41:11.378000       4.405207e+07          0.242162  \n2      740 days 14:06:55.793000       6.398682e+07          0.568413  \n3      530 days 16:11:53.201000       4.585031e+07          0.271592  \n4      765 days 15:56:15.803000       6.615338e+07          0.603870  \n...                         ...                ...               ...  \n62799  371 days 23:27:41.504000       3.213886e+07          0.047192  \n62800  516 days 22:52:43.377000       4.466476e+07          0.252189  \n62801  493 days 19:47:05.933000       4.266643e+07          0.219485  \n62802  450 days 12:35:13.397000       3.892531e+07          0.158258  \n62803         767 days 21:52:30       6.634755e+07          0.607048  \n\n[62804 rows x 20 columns]",
      "text/html": "<div>\n<style scoped>\n    .dataframe tbody tr th:only-of-type {\n        vertical-align: middle;\n    }\n\n    .dataframe tbody tr th {\n        vertical-align: top;\n    }\n\n    .dataframe thead th {\n        text-align: right;\n    }\n</style>\n<table border=\"1\" class=\"dataframe\">\n  <thead>\n    <tr style=\"text-align: right;\">\n      <th></th>\n      <th>id</th>\n      <th>created_at</th>\n      <th>updated_at</th>\n      <th>clickability_test_id</th>\n      <th>excerpt</th>\n      <th>headline</th>\n      <th>lede</th>\n      <th>slug</th>\n      <th>eyecatcher_id</th>\n      <th>impressions</th>\n      <th>clicks</th>\n      <th>significance</th>\n      <th>first_place</th>\n      <th>winner</th>\n      <th>share_text</th>\n      <th>square</th>\n      <th>test_week</th>\n      <th>timedelta</th>\n      <th>timedelta_numeric</th>\n      <th>timedelta_minmax</th>\n    </tr>\n  </thead>\n  <tbody>\n    <tr>\n      <th>0</th>\n      <td>135871</td>\n      <td>2014-12-14 01:11:50.638</td>\n      <td>2016-04-02 16:31:58.139</td>\n      <td>548ce28d6536610018050000</td>\n      <td>NaN</td>\n      <td>He Dissed A Rape Victim On National TV And Now...</td>\n      <td>&lt;p&gt;Anytime there's a new sexual assault case b...</td>\n      <td>he-dissed-a-rape-victim-on-national-tv-and-now...</td>\n      <td>548c6a30333034001b240000</td>\n      <td>3013</td>\n      <td>39</td>\n      <td>100.0</td>\n      <td>True</td>\n      <td>False</td>\n      <td>NaN</td>\n      <td>NaN</td>\n      <td>201450</td>\n      <td>475 days 15:20:07.501000</td>\n      <td>4.109521e+07</td>\n      <td>0.193770</td>\n    </tr>\n    <tr>\n      <th>1</th>\n      <td>148756</td>\n      <td>2014-11-09 19:50:25.589</td>\n      <td>2016-04-02 16:31:36.967</td>\n      <td>545fc565dba561926a00000f</td>\n      <td>Things that matter. Pass 'em on.</td>\n      <td>You Might Call Jacob A Man With Lipstick. Well...</td>\n      <td>&lt;p&gt;Meet Jacob. You might have met a person lik...</td>\n      <td>you-might-call-jacob-a-man-with-lipstick-well-...</td>\n      <td>545dd264f1cb1f440b00001d</td>\n      <td>3103</td>\n      <td>62</td>\n      <td>24.8</td>\n      <td>False</td>\n      <td>False</td>\n      <td>NaN</td>\n      <td>NaN</td>\n      <td>201445</td>\n      <td>509 days 20:41:11.378000</td>\n      <td>4.405207e+07</td>\n      <td>0.242162</td>\n    </tr>\n    <tr>\n      <th>2</th>\n      <td>38486</td>\n      <td>2014-03-24 02:19:28.068</td>\n      <td>2016-04-02 16:26:23.861</td>\n      <td>532f93deca310662e3000001</td>\n      <td>Things that matter. Pass 'em on. #PromotedPost</td>\n      <td>I Wouldn't Eat That If I Were You... It's Not ...</td>\n      <td>&lt;p&gt;Is anyone else as excited as I am for the n...</td>\n      <td>i-wouldnt-eat-that-if-i-were-you-its-not-poiso...</td>\n      <td>5332ba0d1fae79f09f002be6</td>\n      <td>2233</td>\n      <td>40</td>\n      <td>89.0</td>\n      <td>False</td>\n      <td>False</td>\n      <td>NaN</td>\n      <td>TakePartChavez20-19a6cac618ec3d3bf0f340ae6eb3d...</td>\n      <td>201412</td>\n      <td>740 days 14:06:55.793000</td>\n      <td>6.398682e+07</td>\n      <td>0.568413</td>\n    </tr>\n    <tr>\n      <th>3</th>\n      <td>147221</td>\n      <td>2014-10-20 00:19:19.265</td>\n      <td>2016-04-02 16:31:12.466</td>\n      <td>54445507ecd9a245d8000005</td>\n      <td>Things that matter. Pass 'em on.</td>\n      <td>Despite What Happened At The End Of 'Titanic,'...</td>\n      <td>&lt;p&gt;You can see Leo really cares about what's h...</td>\n      <td>despite-what-happened-at-the-end-of-titanic-le...</td>\n      <td>5443f2398996644f84000015</td>\n      <td>3162</td>\n      <td>11</td>\n      <td>0.1</td>\n      <td>False</td>\n      <td>False</td>\n      <td>NaN</td>\n      <td>NaN</td>\n      <td>201442</td>\n      <td>530 days 16:11:53.201000</td>\n      <td>4.585031e+07</td>\n      <td>0.271592</td>\n    </tr>\n    <tr>\n      <th>4</th>\n      <td>86092</td>\n      <td>2014-02-27 00:32:44.843</td>\n      <td>2016-04-02 16:29:00.646</td>\n      <td>530e86e775e6a740a500004f</td>\n      <td>The drawings are bonus.</td>\n      <td>Economist Takes 2 Minutes And A Whiteboard To ...</td>\n      <td>&lt;p&gt;I don't think rich people are generally mal...</td>\n      <td>economist-takes-2-minutes-and-a-whiteboard-to-...</td>\n      <td>5332b6591fae79f09f000d6e</td>\n      <td>3670</td>\n      <td>86</td>\n      <td>100.0</td>\n      <td>True</td>\n      <td>False</td>\n      <td>NaN</td>\n      <td>benefits-e403880bf5ddc759e67826b8284a9846.png</td>\n      <td>201408</td>\n      <td>765 days 15:56:15.803000</td>\n      <td>6.615338e+07</td>\n      <td>0.603870</td>\n    </tr>\n    <tr>\n      <th>...</th>\n      <td>...</td>\n      <td>...</td>\n      <td>...</td>\n      <td>...</td>\n      <td>...</td>\n      <td>...</td>\n      <td>...</td>\n      <td>...</td>\n      <td>...</td>\n      <td>...</td>\n      <td>...</td>\n      <td>...</td>\n      <td>...</td>\n      <td>...</td>\n      <td>...</td>\n      <td>...</td>\n      <td>...</td>\n      <td>...</td>\n      <td>...</td>\n      <td>...</td>\n    </tr>\n    <tr>\n      <th>62799</th>\n      <td>14059</td>\n      <td>2015-03-27 16:57:13.191</td>\n      <td>2016-04-02 16:24:54.695</td>\n      <td>55158be9616664002c100000</td>\n      <td>It was completely unexpected.</td>\n      <td>A scientist watched a bunch of male baboons di...</td>\n      <td>&lt;p&gt;The baboons show up halfway through. Just g...</td>\n      <td>a-scientist-watched-a-bunch-of-male-baboons-di...</td>\n      <td>5514afe3303261001c4d0000</td>\n      <td>2118</td>\n      <td>80</td>\n      <td>85.4</td>\n      <td>False</td>\n      <td>False</td>\n      <td>He didn't see it coming *at all.*</td>\n      <td>NaN</td>\n      <td>201512</td>\n      <td>371 days 23:27:41.504000</td>\n      <td>3.213886e+07</td>\n      <td>0.047192</td>\n    </tr>\n    <tr>\n      <th>62800</th>\n      <td>129829</td>\n      <td>2014-11-02 17:38:46.671</td>\n      <td>2016-04-02 16:31:30.048</td>\n      <td>5456566ab2bd23dced000009</td>\n      <td>Things that matter. Pass 'em on.</td>\n      <td>How To Make The Most Awkward Kid Conversation ...</td>\n      <td>&lt;p&gt;Whether you're a parent or not, protecting ...</td>\n      <td>how-to-make-the-most-awkward-kid-conversation-...</td>\n      <td>545662b209e1045b59000015</td>\n      <td>3871</td>\n      <td>15</td>\n      <td>0.0</td>\n      <td>False</td>\n      <td>False</td>\n      <td>NaN</td>\n      <td>NaN</td>\n      <td>201444</td>\n      <td>516 days 22:52:43.377000</td>\n      <td>4.466476e+07</td>\n      <td>0.252189</td>\n    </tr>\n    <tr>\n      <th>62801</th>\n      <td>133246</td>\n      <td>2014-11-25 20:44:40.537</td>\n      <td>2016-04-02 16:31:46.470</td>\n      <td>5474e8ae32376400120c0000</td>\n      <td>What dating a woman with an eating disorder is...</td>\n      <td>A Beautiful And Real Response To A Disgusting ...</td>\n      <td>&lt;p&gt;&lt;strong style=\"background-color: initial;\"&gt;...</td>\n      <td>a-beautiful-and-real-response-to-a-disgusting-...</td>\n      <td>5474b5541631de66cc00004a</td>\n      <td>2985</td>\n      <td>51</td>\n      <td>8.1</td>\n      <td>False</td>\n      <td>False</td>\n      <td>It's time we all heard the truth.</td>\n      <td>NaN</td>\n      <td>201447</td>\n      <td>493 days 19:47:05.933000</td>\n      <td>4.266643e+07</td>\n      <td>0.219485</td>\n    </tr>\n    <tr>\n      <th>62802</th>\n      <td>1803</td>\n      <td>2015-01-08 03:56:53.527</td>\n      <td>2016-04-02 16:32:06.924</td>\n      <td>54adffc76331630012440000</td>\n      <td>Humans. We're an odd species.</td>\n      <td>The Bizarre Human Tendency That Drew Us To Her...</td>\n      <td>&lt;p&gt;Humans. We're an odd species.&lt;span&gt;&lt;/span&gt;&lt;...</td>\n      <td>the-bizarre-human-tendency-that-drew-us-to-her...</td>\n      <td>54ab1fa962336500152a0000</td>\n      <td>2870</td>\n      <td>48</td>\n      <td>32.0</td>\n      <td>False</td>\n      <td>False</td>\n      <td>In 1987, the world was captivated by one littl...</td>\n      <td>NaN</td>\n      <td>201501</td>\n      <td>450 days 12:35:13.397000</td>\n      <td>3.892531e+07</td>\n      <td>0.158258</td>\n    </tr>\n    <tr>\n      <th>62803</th>\n      <td>35566</td>\n      <td>2014-02-24 18:33:45.178</td>\n      <td>2016-04-02 16:26:15.178</td>\n      <td>530b8c33b768517a1400000f</td>\n      <td>We surely can do better than this.</td>\n      <td>17 Disconcerting Facts To Make You Realize How...</td>\n      <td>&lt;p&gt;I love my country. That doesn't mean I thin...</td>\n      <td>17-disconcerting-facts-to-make-you-realize-how...</td>\n      <td>5332f81aa2fc90ead00012d0</td>\n      <td>3029</td>\n      <td>68</td>\n      <td>0.1</td>\n      <td>False</td>\n      <td>False</td>\n      <td>NaN</td>\n      <td>represent3-2-ff82c11b758d44231a79916d8324ce22.jpg</td>\n      <td>201408</td>\n      <td>767 days 21:52:30</td>\n      <td>6.634755e+07</td>\n      <td>0.607048</td>\n    </tr>\n  </tbody>\n</table>\n<p>62804 rows × 20 columns</p>\n</div>"
     },
     "execution_count": 296,
     "metadata": {},
     "output_type": "execute_result"
    }
   ],
   "source": [
    "df"
   ],
   "metadata": {
    "collapsed": false
   }
  },
  {
   "cell_type": "code",
   "execution_count": 297,
   "outputs": [
    {
     "data": {
      "text/plain": "                  id   impressions        clicks  significance      test_week  \\\ncount   62804.000000  62804.000000  62804.000000  62804.000000   62804.000000   \nmean    77500.471355   3596.146042     53.287498     41.010356  201423.116107   \nstd     44200.160258   1461.289965     45.689207     39.884687      53.306474   \nmin        11.000000      1.000000      0.000000      0.000000  201320.000000   \n25%     36621.250000   2769.000000     23.000000      2.600000  201406.000000   \n50%     79026.000000   3141.000000     41.000000     25.800000  201432.000000   \n75%    116134.250000   4113.000000     68.000000     87.100000  201445.000000   \nmax    150814.000000  36908.000000    822.000000    100.000000  201517.000000   \n\n       timedelta_numeric  timedelta_minmax  \ncount       6.280400e+04      62804.000000  \nmean        5.552603e+07          0.429944  \nstd         1.590361e+07          0.260277  \nmin         2.925533e+07          0.000000  \n25%         4.380097e+07          0.238053  \n50%         5.155567e+07          0.364966  \n75%         6.717402e+07          0.620574  \nmax         9.035791e+07          1.000000  ",
      "text/html": "<div>\n<style scoped>\n    .dataframe tbody tr th:only-of-type {\n        vertical-align: middle;\n    }\n\n    .dataframe tbody tr th {\n        vertical-align: top;\n    }\n\n    .dataframe thead th {\n        text-align: right;\n    }\n</style>\n<table border=\"1\" class=\"dataframe\">\n  <thead>\n    <tr style=\"text-align: right;\">\n      <th></th>\n      <th>id</th>\n      <th>impressions</th>\n      <th>clicks</th>\n      <th>significance</th>\n      <th>test_week</th>\n      <th>timedelta_numeric</th>\n      <th>timedelta_minmax</th>\n    </tr>\n  </thead>\n  <tbody>\n    <tr>\n      <th>count</th>\n      <td>62804.000000</td>\n      <td>62804.000000</td>\n      <td>62804.000000</td>\n      <td>62804.000000</td>\n      <td>62804.000000</td>\n      <td>6.280400e+04</td>\n      <td>62804.000000</td>\n    </tr>\n    <tr>\n      <th>mean</th>\n      <td>77500.471355</td>\n      <td>3596.146042</td>\n      <td>53.287498</td>\n      <td>41.010356</td>\n      <td>201423.116107</td>\n      <td>5.552603e+07</td>\n      <td>0.429944</td>\n    </tr>\n    <tr>\n      <th>std</th>\n      <td>44200.160258</td>\n      <td>1461.289965</td>\n      <td>45.689207</td>\n      <td>39.884687</td>\n      <td>53.306474</td>\n      <td>1.590361e+07</td>\n      <td>0.260277</td>\n    </tr>\n    <tr>\n      <th>min</th>\n      <td>11.000000</td>\n      <td>1.000000</td>\n      <td>0.000000</td>\n      <td>0.000000</td>\n      <td>201320.000000</td>\n      <td>2.925533e+07</td>\n      <td>0.000000</td>\n    </tr>\n    <tr>\n      <th>25%</th>\n      <td>36621.250000</td>\n      <td>2769.000000</td>\n      <td>23.000000</td>\n      <td>2.600000</td>\n      <td>201406.000000</td>\n      <td>4.380097e+07</td>\n      <td>0.238053</td>\n    </tr>\n    <tr>\n      <th>50%</th>\n      <td>79026.000000</td>\n      <td>3141.000000</td>\n      <td>41.000000</td>\n      <td>25.800000</td>\n      <td>201432.000000</td>\n      <td>5.155567e+07</td>\n      <td>0.364966</td>\n    </tr>\n    <tr>\n      <th>75%</th>\n      <td>116134.250000</td>\n      <td>4113.000000</td>\n      <td>68.000000</td>\n      <td>87.100000</td>\n      <td>201445.000000</td>\n      <td>6.717402e+07</td>\n      <td>0.620574</td>\n    </tr>\n    <tr>\n      <th>max</th>\n      <td>150814.000000</td>\n      <td>36908.000000</td>\n      <td>822.000000</td>\n      <td>100.000000</td>\n      <td>201517.000000</td>\n      <td>9.035791e+07</td>\n      <td>1.000000</td>\n    </tr>\n  </tbody>\n</table>\n</div>"
     },
     "execution_count": 297,
     "metadata": {},
     "output_type": "execute_result"
    }
   ],
   "source": [
    "df.describe()"
   ],
   "metadata": {
    "collapsed": false
   }
  },
  {
   "cell_type": "code",
   "execution_count": 298,
   "outputs": [
    {
     "name": "stdout",
     "output_type": "stream",
     "text": [
      "<class 'pandas.core.frame.DataFrame'>\n",
      "RangeIndex: 62804 entries, 0 to 62803\n",
      "Data columns (total 20 columns):\n",
      " #   Column                Non-Null Count  Dtype  \n",
      "---  ------                --------------  -----  \n",
      " 0   id                    62804 non-null  int64  \n",
      " 1   created_at            62804 non-null  object \n",
      " 2   updated_at            62804 non-null  object \n",
      " 3   clickability_test_id  62804 non-null  object \n",
      " 4   excerpt               56308 non-null  object \n",
      " 5   headline              62803 non-null  object \n",
      " 6   lede                  62748 non-null  object \n",
      " 7   slug                  62804 non-null  object \n",
      " 8   eyecatcher_id         62668 non-null  object \n",
      " 9   impressions           62804 non-null  int64  \n",
      " 10  clicks                62804 non-null  int64  \n",
      " 11  significance          62804 non-null  float64\n",
      " 12  first_place           62804 non-null  bool   \n",
      " 13  winner                62804 non-null  bool   \n",
      " 14  share_text            10937 non-null  object \n",
      " 15  square                18491 non-null  object \n",
      " 16  test_week             62804 non-null  int64  \n",
      " 17  timedelta             62804 non-null  object \n",
      " 18  timedelta_numeric     62804 non-null  float64\n",
      " 19  timedelta_minmax      62804 non-null  float64\n",
      "dtypes: bool(2), float64(3), int64(4), object(11)\n",
      "memory usage: 8.7+ MB\n"
     ]
    }
   ],
   "source": [
    "df.info()"
   ],
   "metadata": {
    "collapsed": false
   }
  },
  {
   "cell_type": "markdown",
   "source": [
    "Checking through the data, we see that everything appears to be in order."
   ],
   "metadata": {
    "collapsed": false
   }
  },
  {
   "cell_type": "markdown",
   "source": [
    "We continue by preprocessing all headlines, converting them into lower case."
   ],
   "metadata": {
    "collapsed": false
   }
  },
  {
   "cell_type": "code",
   "execution_count": 299,
   "outputs": [],
   "source": [
    "df['headline'] = df['headline'].astype(str)\n",
    "df_test['headline'] = df['headline'].astype(str)"
   ],
   "metadata": {
    "collapsed": false
   }
  },
  {
   "cell_type": "code",
   "execution_count": 300,
   "outputs": [],
   "source": [
    "df['headline'] = df['headline'].str.lower()\n",
    "df_test['headline'] = df_test['headline'].str.lower()"
   ],
   "metadata": {
    "collapsed": false
   }
  },
  {
   "cell_type": "markdown",
   "source": [
    "We continue by preforming contractions on all headlines, removing all non alphanumeric characters and tokenizing the text in the headline.\n",
    "\n",
    "Reference: https://medium.com/analytics-vidhya/sentiment-analysis-on-amazon-reviews-using-tf-idf-approach-c5ab4c36e7a1"
   ],
   "metadata": {
    "collapsed": false
   }
  },
  {
   "cell_type": "code",
   "execution_count": 301,
   "outputs": [
    {
     "name": "stderr",
     "output_type": "stream",
     "text": [
      "[nltk_data] Downloading package punkt to /Users/gohjunwei/nltk_data...\n",
      "[nltk_data]   Package punkt is already up-to-date!\n"
     ]
    },
    {
     "data": {
      "text/plain": "True"
     },
     "execution_count": 301,
     "metadata": {},
     "output_type": "execute_result"
    }
   ],
   "source": [
    "import re\n",
    "import nltk\n",
    "\n",
    "nltk.download('punkt')"
   ],
   "metadata": {
    "collapsed": false
   }
  },
  {
   "cell_type": "markdown",
   "source": [
    "We begin by calculating the text complexity, similar to how we did so in our analysis leveraging VADER."
   ],
   "metadata": {
    "collapsed": false
   }
  },
  {
   "cell_type": "code",
   "execution_count": 302,
   "outputs": [],
   "source": [
    "df['length'] = df['headline'].apply(lambda x: len(x))\n",
    "df_test['length'] = df_test['headline'].apply(lambda x: len(x))\n",
    "\n",
    "max_length = max(df['length'])\n",
    "min_length = min(df['length'])\n",
    "\n",
    "max_length_test = max(df_test['length'])\n",
    "min_length_test = min(df_test['length'])\n",
    "\n",
    "df['length_minmax'] = (df['length'] - min_length) / (max_length - min_length)\n",
    "df_test['length_minmax'] = (df_test['length'] - min_length_test) / (max_length_test - min_length_test)\n",
    "\n",
    "import textstat\n",
    "\n",
    "df['flesch_reading'] = df['headline'].apply(lambda x: textstat.flesch_reading_ease(x))\n",
    "df['flesch_kincaid'] = df['headline'].apply(lambda x: textstat.textstat.flesch_kincaid_grade(x))\n",
    "df['gunning_fog'] = df['headline'].apply(lambda x: textstat.gunning_fog(x))\n",
    "df['length'] = df['headline'].apply(lambda x: len(x))\n",
    "\n",
    "df_test['flesch_reading'] = df_test['headline'].apply(lambda x: textstat.flesch_reading_ease(x))\n",
    "df_test['flesch_kincaid'] = df_test['headline'].apply(lambda x: textstat.textstat.flesch_kincaid_grade(x))\n",
    "df_test['gunning_fog'] = df_test['headline'].apply(lambda x: textstat.gunning_fog(x))\n",
    "df_test['length'] = df_test['headline'].apply(lambda x: len(x))"
   ],
   "metadata": {
    "collapsed": false
   }
  },
  {
   "cell_type": "code",
   "execution_count": 303,
   "outputs": [],
   "source": [
    "def contractions(s):\n",
    "    s = re.sub(r\"won't\", \"will not\", s)\n",
    "    s = re.sub(r\"wouldn't\", \"would not\", s)\n",
    "    s = re.sub(r\"couldn't\", \"could not\", s)\n",
    "    s = re.sub(r\"'d\", \" would\", s)\n",
    "    s = re.sub(r\"can't\", \"can not\", s)\n",
    "    s = re.sub(r\"n't\", \" not\", s)\n",
    "    s = re.sub(r\"'re\", \" are\", s)\n",
    "    s = re.sub(r\"'s\", \" is\", s)\n",
    "    s = re.sub(r\"'ll\", \" will\", s)\n",
    "    s = re.sub(r\"'t\", \" not\", s)\n",
    "    s = re.sub(r\"'ve\", \" have\", s)\n",
    "    s = re.sub(r\"'m\", \" am\", s)\n",
    "    return s"
   ],
   "metadata": {
    "collapsed": false
   }
  },
  {
   "cell_type": "code",
   "execution_count": 304,
   "outputs": [
    {
     "data": {
      "text/plain": "           id               created_at               updated_at  \\\n0      135871  2014-12-14 01:11:50.638  2016-04-02 16:31:58.139   \n1      148756  2014-11-09 19:50:25.589  2016-04-02 16:31:36.967   \n2       38486  2014-03-24 02:19:28.068  2016-04-02 16:26:23.861   \n3      147221  2014-10-20 00:19:19.265  2016-04-02 16:31:12.466   \n4       86092  2014-02-27 00:32:44.843  2016-04-02 16:29:00.646   \n...       ...                      ...                      ...   \n62799   14059  2015-03-27 16:57:13.191  2016-04-02 16:24:54.695   \n62800  129829  2014-11-02 17:38:46.671  2016-04-02 16:31:30.048   \n62801  133246  2014-11-25 20:44:40.537  2016-04-02 16:31:46.470   \n62802    1803  2015-01-08 03:56:53.527  2016-04-02 16:32:06.924   \n62803   35566  2014-02-24 18:33:45.178  2016-04-02 16:26:15.178   \n\n           clickability_test_id  \\\n0      548ce28d6536610018050000   \n1      545fc565dba561926a00000f   \n2      532f93deca310662e3000001   \n3      54445507ecd9a245d8000005   \n4      530e86e775e6a740a500004f   \n...                         ...   \n62799  55158be9616664002c100000   \n62800  5456566ab2bd23dced000009   \n62801  5474e8ae32376400120c0000   \n62802  54adffc76331630012440000   \n62803  530b8c33b768517a1400000f   \n\n                                                 excerpt  \\\n0                                                    NaN   \n1                       Things that matter. Pass 'em on.   \n2         Things that matter. Pass 'em on. #PromotedPost   \n3                       Things that matter. Pass 'em on.   \n4                                The drawings are bonus.   \n...                                                  ...   \n62799                      It was completely unexpected.   \n62800                   Things that matter. Pass 'em on.   \n62801  What dating a woman with an eating disorder is...   \n62802                      Humans. We're an odd species.   \n62803                 We surely can do better than this.   \n\n                                                headline  \\\n0      he dissed a rape victim on national tv and now...   \n1      you might call jacob a man with lipstick. well...   \n2      i wouldn't eat that if i were you... it's not ...   \n3      despite what happened at the end of 'titanic,'...   \n4      economist takes 2 minutes and a whiteboard to ...   \n...                                                  ...   \n62799  a scientist watched a bunch of male baboons di...   \n62800  how to make the most awkward kid conversation ...   \n62801  a beautiful and real response to a disgusting ...   \n62802  the bizarre human tendency that drew us to her...   \n62803  17 disconcerting facts to make you realize how...   \n\n                                                    lede  \\\n0      <p>Anytime there's a new sexual assault case b...   \n1      <p>Meet Jacob. You might have met a person lik...   \n2      <p>Is anyone else as excited as I am for the n...   \n3      <p>You can see Leo really cares about what's h...   \n4      <p>I don't think rich people are generally mal...   \n...                                                  ...   \n62799  <p>The baboons show up halfway through. Just g...   \n62800  <p>Whether you're a parent or not, protecting ...   \n62801  <p><strong style=\"background-color: initial;\">...   \n62802  <p>Humans. We're an odd species.<span></span><...   \n62803  <p>I love my country. That doesn't mean I thin...   \n\n                                                    slug  \\\n0      he-dissed-a-rape-victim-on-national-tv-and-now...   \n1      you-might-call-jacob-a-man-with-lipstick-well-...   \n2      i-wouldnt-eat-that-if-i-were-you-its-not-poiso...   \n3      despite-what-happened-at-the-end-of-titanic-le...   \n4      economist-takes-2-minutes-and-a-whiteboard-to-...   \n...                                                  ...   \n62799  a-scientist-watched-a-bunch-of-male-baboons-di...   \n62800  how-to-make-the-most-awkward-kid-conversation-...   \n62801  a-beautiful-and-real-response-to-a-disgusting-...   \n62802  the-bizarre-human-tendency-that-drew-us-to-her...   \n62803  17-disconcerting-facts-to-make-you-realize-how...   \n\n                  eyecatcher_id  impressions  ...  \\\n0      548c6a30333034001b240000         3013  ...   \n1      545dd264f1cb1f440b00001d         3103  ...   \n2      5332ba0d1fae79f09f002be6         2233  ...   \n3      5443f2398996644f84000015         3162  ...   \n4      5332b6591fae79f09f000d6e         3670  ...   \n...                         ...          ...  ...   \n62799  5514afe3303261001c4d0000         2118  ...   \n62800  545662b209e1045b59000015         3871  ...   \n62801  5474b5541631de66cc00004a         2985  ...   \n62802  54ab1fa962336500152a0000         2870  ...   \n62803  5332f81aa2fc90ead00012d0         3029  ...   \n\n                                                  square  test_week  \\\n0                                                    NaN     201450   \n1                                                    NaN     201445   \n2      TakePartChavez20-19a6cac618ec3d3bf0f340ae6eb3d...     201412   \n3                                                    NaN     201442   \n4          benefits-e403880bf5ddc759e67826b8284a9846.png     201408   \n...                                                  ...        ...   \n62799                                                NaN     201512   \n62800                                                NaN     201444   \n62801                                                NaN     201447   \n62802                                                NaN     201501   \n62803  represent3-2-ff82c11b758d44231a79916d8324ce22.jpg     201408   \n\n                      timedelta  timedelta_numeric timedelta_minmax length  \\\n0      475 days 15:20:07.501000       4.109521e+07         0.193770     79   \n1      509 days 20:41:11.378000       4.405207e+07         0.242162     89   \n2      740 days 14:06:55.793000       6.398682e+07         0.568413     78   \n3      530 days 16:11:53.201000       4.585031e+07         0.271592    100   \n4      765 days 15:56:15.803000       6.615338e+07         0.603870     99   \n...                         ...                ...              ...    ...   \n62799  371 days 23:27:41.504000       3.213886e+07         0.047192     93   \n62800  516 days 22:52:43.377000       4.466476e+07         0.252189     58   \n62801  493 days 19:47:05.933000       4.266643e+07         0.219485     77   \n62802  450 days 12:35:13.397000       3.892531e+07         0.158258     95   \n62803         767 days 21:52:30       6.634755e+07         0.607048     96   \n\n       length_minmax flesch_reading  flesch_kincaid  gunning_fog  \n0           0.554745          88.06             5.2         9.15  \n1           0.627737          79.60             6.4         6.80  \n2           0.547445          90.09             4.4         6.00  \n3           0.708029          71.14             7.6         9.15  \n4           0.700730          71.14             7.6         9.15  \n...              ...            ...             ...          ...  \n62799       0.656934          64.71             8.0        11.33  \n62800       0.401460          69.79             6.0         8.00  \n62801       0.540146          41.36            10.7        11.35  \n62802       0.671533          55.24             9.5        13.90  \n62803       0.678832          45.76            11.1        13.86  \n\n[62804 rows x 25 columns]",
      "text/html": "<div>\n<style scoped>\n    .dataframe tbody tr th:only-of-type {\n        vertical-align: middle;\n    }\n\n    .dataframe tbody tr th {\n        vertical-align: top;\n    }\n\n    .dataframe thead th {\n        text-align: right;\n    }\n</style>\n<table border=\"1\" class=\"dataframe\">\n  <thead>\n    <tr style=\"text-align: right;\">\n      <th></th>\n      <th>id</th>\n      <th>created_at</th>\n      <th>updated_at</th>\n      <th>clickability_test_id</th>\n      <th>excerpt</th>\n      <th>headline</th>\n      <th>lede</th>\n      <th>slug</th>\n      <th>eyecatcher_id</th>\n      <th>impressions</th>\n      <th>...</th>\n      <th>square</th>\n      <th>test_week</th>\n      <th>timedelta</th>\n      <th>timedelta_numeric</th>\n      <th>timedelta_minmax</th>\n      <th>length</th>\n      <th>length_minmax</th>\n      <th>flesch_reading</th>\n      <th>flesch_kincaid</th>\n      <th>gunning_fog</th>\n    </tr>\n  </thead>\n  <tbody>\n    <tr>\n      <th>0</th>\n      <td>135871</td>\n      <td>2014-12-14 01:11:50.638</td>\n      <td>2016-04-02 16:31:58.139</td>\n      <td>548ce28d6536610018050000</td>\n      <td>NaN</td>\n      <td>he dissed a rape victim on national tv and now...</td>\n      <td>&lt;p&gt;Anytime there's a new sexual assault case b...</td>\n      <td>he-dissed-a-rape-victim-on-national-tv-and-now...</td>\n      <td>548c6a30333034001b240000</td>\n      <td>3013</td>\n      <td>...</td>\n      <td>NaN</td>\n      <td>201450</td>\n      <td>475 days 15:20:07.501000</td>\n      <td>4.109521e+07</td>\n      <td>0.193770</td>\n      <td>79</td>\n      <td>0.554745</td>\n      <td>88.06</td>\n      <td>5.2</td>\n      <td>9.15</td>\n    </tr>\n    <tr>\n      <th>1</th>\n      <td>148756</td>\n      <td>2014-11-09 19:50:25.589</td>\n      <td>2016-04-02 16:31:36.967</td>\n      <td>545fc565dba561926a00000f</td>\n      <td>Things that matter. Pass 'em on.</td>\n      <td>you might call jacob a man with lipstick. well...</td>\n      <td>&lt;p&gt;Meet Jacob. You might have met a person lik...</td>\n      <td>you-might-call-jacob-a-man-with-lipstick-well-...</td>\n      <td>545dd264f1cb1f440b00001d</td>\n      <td>3103</td>\n      <td>...</td>\n      <td>NaN</td>\n      <td>201445</td>\n      <td>509 days 20:41:11.378000</td>\n      <td>4.405207e+07</td>\n      <td>0.242162</td>\n      <td>89</td>\n      <td>0.627737</td>\n      <td>79.60</td>\n      <td>6.4</td>\n      <td>6.80</td>\n    </tr>\n    <tr>\n      <th>2</th>\n      <td>38486</td>\n      <td>2014-03-24 02:19:28.068</td>\n      <td>2016-04-02 16:26:23.861</td>\n      <td>532f93deca310662e3000001</td>\n      <td>Things that matter. Pass 'em on. #PromotedPost</td>\n      <td>i wouldn't eat that if i were you... it's not ...</td>\n      <td>&lt;p&gt;Is anyone else as excited as I am for the n...</td>\n      <td>i-wouldnt-eat-that-if-i-were-you-its-not-poiso...</td>\n      <td>5332ba0d1fae79f09f002be6</td>\n      <td>2233</td>\n      <td>...</td>\n      <td>TakePartChavez20-19a6cac618ec3d3bf0f340ae6eb3d...</td>\n      <td>201412</td>\n      <td>740 days 14:06:55.793000</td>\n      <td>6.398682e+07</td>\n      <td>0.568413</td>\n      <td>78</td>\n      <td>0.547445</td>\n      <td>90.09</td>\n      <td>4.4</td>\n      <td>6.00</td>\n    </tr>\n    <tr>\n      <th>3</th>\n      <td>147221</td>\n      <td>2014-10-20 00:19:19.265</td>\n      <td>2016-04-02 16:31:12.466</td>\n      <td>54445507ecd9a245d8000005</td>\n      <td>Things that matter. Pass 'em on.</td>\n      <td>despite what happened at the end of 'titanic,'...</td>\n      <td>&lt;p&gt;You can see Leo really cares about what's h...</td>\n      <td>despite-what-happened-at-the-end-of-titanic-le...</td>\n      <td>5443f2398996644f84000015</td>\n      <td>3162</td>\n      <td>...</td>\n      <td>NaN</td>\n      <td>201442</td>\n      <td>530 days 16:11:53.201000</td>\n      <td>4.585031e+07</td>\n      <td>0.271592</td>\n      <td>100</td>\n      <td>0.708029</td>\n      <td>71.14</td>\n      <td>7.6</td>\n      <td>9.15</td>\n    </tr>\n    <tr>\n      <th>4</th>\n      <td>86092</td>\n      <td>2014-02-27 00:32:44.843</td>\n      <td>2016-04-02 16:29:00.646</td>\n      <td>530e86e775e6a740a500004f</td>\n      <td>The drawings are bonus.</td>\n      <td>economist takes 2 minutes and a whiteboard to ...</td>\n      <td>&lt;p&gt;I don't think rich people are generally mal...</td>\n      <td>economist-takes-2-minutes-and-a-whiteboard-to-...</td>\n      <td>5332b6591fae79f09f000d6e</td>\n      <td>3670</td>\n      <td>...</td>\n      <td>benefits-e403880bf5ddc759e67826b8284a9846.png</td>\n      <td>201408</td>\n      <td>765 days 15:56:15.803000</td>\n      <td>6.615338e+07</td>\n      <td>0.603870</td>\n      <td>99</td>\n      <td>0.700730</td>\n      <td>71.14</td>\n      <td>7.6</td>\n      <td>9.15</td>\n    </tr>\n    <tr>\n      <th>...</th>\n      <td>...</td>\n      <td>...</td>\n      <td>...</td>\n      <td>...</td>\n      <td>...</td>\n      <td>...</td>\n      <td>...</td>\n      <td>...</td>\n      <td>...</td>\n      <td>...</td>\n      <td>...</td>\n      <td>...</td>\n      <td>...</td>\n      <td>...</td>\n      <td>...</td>\n      <td>...</td>\n      <td>...</td>\n      <td>...</td>\n      <td>...</td>\n      <td>...</td>\n      <td>...</td>\n    </tr>\n    <tr>\n      <th>62799</th>\n      <td>14059</td>\n      <td>2015-03-27 16:57:13.191</td>\n      <td>2016-04-02 16:24:54.695</td>\n      <td>55158be9616664002c100000</td>\n      <td>It was completely unexpected.</td>\n      <td>a scientist watched a bunch of male baboons di...</td>\n      <td>&lt;p&gt;The baboons show up halfway through. Just g...</td>\n      <td>a-scientist-watched-a-bunch-of-male-baboons-di...</td>\n      <td>5514afe3303261001c4d0000</td>\n      <td>2118</td>\n      <td>...</td>\n      <td>NaN</td>\n      <td>201512</td>\n      <td>371 days 23:27:41.504000</td>\n      <td>3.213886e+07</td>\n      <td>0.047192</td>\n      <td>93</td>\n      <td>0.656934</td>\n      <td>64.71</td>\n      <td>8.0</td>\n      <td>11.33</td>\n    </tr>\n    <tr>\n      <th>62800</th>\n      <td>129829</td>\n      <td>2014-11-02 17:38:46.671</td>\n      <td>2016-04-02 16:31:30.048</td>\n      <td>5456566ab2bd23dced000009</td>\n      <td>Things that matter. Pass 'em on.</td>\n      <td>how to make the most awkward kid conversation ...</td>\n      <td>&lt;p&gt;Whether you're a parent or not, protecting ...</td>\n      <td>how-to-make-the-most-awkward-kid-conversation-...</td>\n      <td>545662b209e1045b59000015</td>\n      <td>3871</td>\n      <td>...</td>\n      <td>NaN</td>\n      <td>201444</td>\n      <td>516 days 22:52:43.377000</td>\n      <td>4.466476e+07</td>\n      <td>0.252189</td>\n      <td>58</td>\n      <td>0.401460</td>\n      <td>69.79</td>\n      <td>6.0</td>\n      <td>8.00</td>\n    </tr>\n    <tr>\n      <th>62801</th>\n      <td>133246</td>\n      <td>2014-11-25 20:44:40.537</td>\n      <td>2016-04-02 16:31:46.470</td>\n      <td>5474e8ae32376400120c0000</td>\n      <td>What dating a woman with an eating disorder is...</td>\n      <td>a beautiful and real response to a disgusting ...</td>\n      <td>&lt;p&gt;&lt;strong style=\"background-color: initial;\"&gt;...</td>\n      <td>a-beautiful-and-real-response-to-a-disgusting-...</td>\n      <td>5474b5541631de66cc00004a</td>\n      <td>2985</td>\n      <td>...</td>\n      <td>NaN</td>\n      <td>201447</td>\n      <td>493 days 19:47:05.933000</td>\n      <td>4.266643e+07</td>\n      <td>0.219485</td>\n      <td>77</td>\n      <td>0.540146</td>\n      <td>41.36</td>\n      <td>10.7</td>\n      <td>11.35</td>\n    </tr>\n    <tr>\n      <th>62802</th>\n      <td>1803</td>\n      <td>2015-01-08 03:56:53.527</td>\n      <td>2016-04-02 16:32:06.924</td>\n      <td>54adffc76331630012440000</td>\n      <td>Humans. We're an odd species.</td>\n      <td>the bizarre human tendency that drew us to her...</td>\n      <td>&lt;p&gt;Humans. We're an odd species.&lt;span&gt;&lt;/span&gt;&lt;...</td>\n      <td>the-bizarre-human-tendency-that-drew-us-to-her...</td>\n      <td>54ab1fa962336500152a0000</td>\n      <td>2870</td>\n      <td>...</td>\n      <td>NaN</td>\n      <td>201501</td>\n      <td>450 days 12:35:13.397000</td>\n      <td>3.892531e+07</td>\n      <td>0.158258</td>\n      <td>95</td>\n      <td>0.671533</td>\n      <td>55.24</td>\n      <td>9.5</td>\n      <td>13.90</td>\n    </tr>\n    <tr>\n      <th>62803</th>\n      <td>35566</td>\n      <td>2014-02-24 18:33:45.178</td>\n      <td>2016-04-02 16:26:15.178</td>\n      <td>530b8c33b768517a1400000f</td>\n      <td>We surely can do better than this.</td>\n      <td>17 disconcerting facts to make you realize how...</td>\n      <td>&lt;p&gt;I love my country. That doesn't mean I thin...</td>\n      <td>17-disconcerting-facts-to-make-you-realize-how...</td>\n      <td>5332f81aa2fc90ead00012d0</td>\n      <td>3029</td>\n      <td>...</td>\n      <td>represent3-2-ff82c11b758d44231a79916d8324ce22.jpg</td>\n      <td>201408</td>\n      <td>767 days 21:52:30</td>\n      <td>6.634755e+07</td>\n      <td>0.607048</td>\n      <td>96</td>\n      <td>0.678832</td>\n      <td>45.76</td>\n      <td>11.1</td>\n      <td>13.86</td>\n    </tr>\n  </tbody>\n</table>\n<p>62804 rows × 25 columns</p>\n</div>"
     },
     "execution_count": 304,
     "metadata": {},
     "output_type": "execute_result"
    }
   ],
   "source": [
    "df"
   ],
   "metadata": {
    "collapsed": false
   }
  },
  {
   "cell_type": "markdown",
   "source": [
    "Here, we convert all contractions"
   ],
   "metadata": {
    "collapsed": false
   }
  },
  {
   "cell_type": "code",
   "execution_count": 305,
   "outputs": [],
   "source": [
    "df['headline'] = df['headline'].apply(lambda x: contractions(x))\n",
    "df_test['headline'] = df_test['headline'].apply(lambda x: contractions(x))"
   ],
   "metadata": {
    "collapsed": false
   }
  },
  {
   "cell_type": "markdown",
   "source": [
    "We continue by removing all non alphanumeric characters"
   ],
   "metadata": {
    "collapsed": false
   }
  },
  {
   "cell_type": "code",
   "execution_count": 306,
   "outputs": [],
   "source": [
    "df['headline']=df['headline'].apply(lambda x: \" \".join([re.sub('[^A-Za-z]+','', x) for x in nltk.word_tokenize(x)]))\n",
    "\n",
    "df_test['headline']=df_test['headline'].apply(lambda x: \" \".join([re.sub('[^A-Za-z]+','', x) for x in nltk.word_tokenize(x)]))"
   ],
   "metadata": {
    "collapsed": false
   }
  },
  {
   "cell_type": "markdown",
   "source": [
    "Now, we remove all extra spaces."
   ],
   "metadata": {
    "collapsed": false
   }
  },
  {
   "cell_type": "code",
   "execution_count": 307,
   "outputs": [],
   "source": [
    "df['headline'] = df['headline'].apply(lambda x: re.sub(' +', ' ', x))\n",
    "df_test['headline'] = df_test['headline'].apply(lambda x: re.sub(' +', ' ', x))"
   ],
   "metadata": {
    "collapsed": false
   }
  },
  {
   "cell_type": "markdown",
   "source": [
    "We now remove all stop words. These are words such as the, a, etc that do not add meaning to a sentence."
   ],
   "metadata": {
    "collapsed": false
   }
  },
  {
   "cell_type": "code",
   "execution_count": 308,
   "outputs": [
    {
     "name": "stderr",
     "output_type": "stream",
     "text": [
      "[nltk_data] Downloading package stopwords to\n",
      "[nltk_data]     /Users/gohjunwei/nltk_data...\n",
      "[nltk_data]   Package stopwords is already up-to-date!\n"
     ]
    }
   ],
   "source": [
    "nltk.download('stopwords')\n",
    "\n",
    "from nltk.corpus import stopwords\n",
    "stop = stopwords.words('english') #stop is a dictionary\n",
    "\n",
    "df['headline'] = df['headline'].apply(lambda x: \" \".join([x for x in x.split() if x not in stop]))\n",
    "df_test['headline'] = df_test['headline'].apply(lambda x: \" \".join([x for x in x.split() if x not in stop]))"
   ],
   "metadata": {
    "collapsed": false
   }
  },
  {
   "cell_type": "markdown",
   "source": [
    "We proceed by lemmatizing the words. We can see that this converts words to their base or root form."
   ],
   "metadata": {
    "collapsed": false
   }
  },
  {
   "cell_type": "code",
   "execution_count": 309,
   "outputs": [
    {
     "name": "stderr",
     "output_type": "stream",
     "text": [
      "[nltk_data] Downloading package wordnet to\n",
      "[nltk_data]     /Users/gohjunwei/nltk_data...\n",
      "[nltk_data]   Package wordnet is already up-to-date!\n"
     ]
    }
   ],
   "source": [
    "nltk.download('wordnet')\n",
    "\n",
    "from nltk.stem import WordNetLemmatizer\n",
    "\n",
    "lemmatizer = WordNetLemmatizer()\n",
    "\n",
    "df['headline'] = df['headline'].apply(lambda x: \" \".join([lemmatizer.lemmatize(w) for w in nltk.word_tokenize(x)]))\n",
    "df_test['headline'] = df_test['headline'].apply(lambda x: \" \".join([lemmatizer.lemmatize(w) for w in nltk.word_tokenize(x)]))"
   ],
   "metadata": {
    "collapsed": false
   }
  },
  {
   "cell_type": "code",
   "execution_count": 310,
   "outputs": [
    {
     "data": {
      "text/plain": "           id               created_at               updated_at  \\\n0      135871  2014-12-14 01:11:50.638  2016-04-02 16:31:58.139   \n1      148756  2014-11-09 19:50:25.589  2016-04-02 16:31:36.967   \n2       38486  2014-03-24 02:19:28.068  2016-04-02 16:26:23.861   \n3      147221  2014-10-20 00:19:19.265  2016-04-02 16:31:12.466   \n4       86092  2014-02-27 00:32:44.843  2016-04-02 16:29:00.646   \n...       ...                      ...                      ...   \n62799   14059  2015-03-27 16:57:13.191  2016-04-02 16:24:54.695   \n62800  129829  2014-11-02 17:38:46.671  2016-04-02 16:31:30.048   \n62801  133246  2014-11-25 20:44:40.537  2016-04-02 16:31:46.470   \n62802    1803  2015-01-08 03:56:53.527  2016-04-02 16:32:06.924   \n62803   35566  2014-02-24 18:33:45.178  2016-04-02 16:26:15.178   \n\n           clickability_test_id  \\\n0      548ce28d6536610018050000   \n1      545fc565dba561926a00000f   \n2      532f93deca310662e3000001   \n3      54445507ecd9a245d8000005   \n4      530e86e775e6a740a500004f   \n...                         ...   \n62799  55158be9616664002c100000   \n62800  5456566ab2bd23dced000009   \n62801  5474e8ae32376400120c0000   \n62802  54adffc76331630012440000   \n62803  530b8c33b768517a1400000f   \n\n                                                 excerpt  \\\n0                                                    NaN   \n1                       Things that matter. Pass 'em on.   \n2         Things that matter. Pass 'em on. #PromotedPost   \n3                       Things that matter. Pass 'em on.   \n4                                The drawings are bonus.   \n...                                                  ...   \n62799                      It was completely unexpected.   \n62800                   Things that matter. Pass 'em on.   \n62801  What dating a woman with an eating disorder is...   \n62802                      Humans. We're an odd species.   \n62803                 We surely can do better than this.   \n\n                                                headline  \\\n0      dissed rape victim national tv need shut entir...   \n1      might call jacob man lipstick well jacob man h...   \n2                              would eat poison anything   \n3      despite happened end notitanic leonardo dicapr...   \n4      economist take minute whiteboard explain shift...   \n...                                                  ...   \n62799  scientist watched bunch male baboon die reveal...   \n62800           make awkward kid conversation le awkward   \n62801  beautiful real response disgusting article nev...   \n62802  bizarre human tendency drew u frightening stor...   \n62803  disconcerting fact make realize fundamentally ...   \n\n                                                    lede  \\\n0      <p>Anytime there's a new sexual assault case b...   \n1      <p>Meet Jacob. You might have met a person lik...   \n2      <p>Is anyone else as excited as I am for the n...   \n3      <p>You can see Leo really cares about what's h...   \n4      <p>I don't think rich people are generally mal...   \n...                                                  ...   \n62799  <p>The baboons show up halfway through. Just g...   \n62800  <p>Whether you're a parent or not, protecting ...   \n62801  <p><strong style=\"background-color: initial;\">...   \n62802  <p>Humans. We're an odd species.<span></span><...   \n62803  <p>I love my country. That doesn't mean I thin...   \n\n                                                    slug  \\\n0      he-dissed-a-rape-victim-on-national-tv-and-now...   \n1      you-might-call-jacob-a-man-with-lipstick-well-...   \n2      i-wouldnt-eat-that-if-i-were-you-its-not-poiso...   \n3      despite-what-happened-at-the-end-of-titanic-le...   \n4      economist-takes-2-minutes-and-a-whiteboard-to-...   \n...                                                  ...   \n62799  a-scientist-watched-a-bunch-of-male-baboons-di...   \n62800  how-to-make-the-most-awkward-kid-conversation-...   \n62801  a-beautiful-and-real-response-to-a-disgusting-...   \n62802  the-bizarre-human-tendency-that-drew-us-to-her...   \n62803  17-disconcerting-facts-to-make-you-realize-how...   \n\n                  eyecatcher_id  impressions  ...  \\\n0      548c6a30333034001b240000         3013  ...   \n1      545dd264f1cb1f440b00001d         3103  ...   \n2      5332ba0d1fae79f09f002be6         2233  ...   \n3      5443f2398996644f84000015         3162  ...   \n4      5332b6591fae79f09f000d6e         3670  ...   \n...                         ...          ...  ...   \n62799  5514afe3303261001c4d0000         2118  ...   \n62800  545662b209e1045b59000015         3871  ...   \n62801  5474b5541631de66cc00004a         2985  ...   \n62802  54ab1fa962336500152a0000         2870  ...   \n62803  5332f81aa2fc90ead00012d0         3029  ...   \n\n                                                  square  test_week  \\\n0                                                    NaN     201450   \n1                                                    NaN     201445   \n2      TakePartChavez20-19a6cac618ec3d3bf0f340ae6eb3d...     201412   \n3                                                    NaN     201442   \n4          benefits-e403880bf5ddc759e67826b8284a9846.png     201408   \n...                                                  ...        ...   \n62799                                                NaN     201512   \n62800                                                NaN     201444   \n62801                                                NaN     201447   \n62802                                                NaN     201501   \n62803  represent3-2-ff82c11b758d44231a79916d8324ce22.jpg     201408   \n\n                      timedelta  timedelta_numeric timedelta_minmax length  \\\n0      475 days 15:20:07.501000       4.109521e+07         0.193770     79   \n1      509 days 20:41:11.378000       4.405207e+07         0.242162     89   \n2      740 days 14:06:55.793000       6.398682e+07         0.568413     78   \n3      530 days 16:11:53.201000       4.585031e+07         0.271592    100   \n4      765 days 15:56:15.803000       6.615338e+07         0.603870     99   \n...                         ...                ...              ...    ...   \n62799  371 days 23:27:41.504000       3.213886e+07         0.047192     93   \n62800  516 days 22:52:43.377000       4.466476e+07         0.252189     58   \n62801  493 days 19:47:05.933000       4.266643e+07         0.219485     77   \n62802  450 days 12:35:13.397000       3.892531e+07         0.158258     95   \n62803         767 days 21:52:30       6.634755e+07         0.607048     96   \n\n       length_minmax flesch_reading  flesch_kincaid  gunning_fog  \n0           0.554745          88.06             5.2         9.15  \n1           0.627737          79.60             6.4         6.80  \n2           0.547445          90.09             4.4         6.00  \n3           0.708029          71.14             7.6         9.15  \n4           0.700730          71.14             7.6         9.15  \n...              ...            ...             ...          ...  \n62799       0.656934          64.71             8.0        11.33  \n62800       0.401460          69.79             6.0         8.00  \n62801       0.540146          41.36            10.7        11.35  \n62802       0.671533          55.24             9.5        13.90  \n62803       0.678832          45.76            11.1        13.86  \n\n[62804 rows x 25 columns]",
      "text/html": "<div>\n<style scoped>\n    .dataframe tbody tr th:only-of-type {\n        vertical-align: middle;\n    }\n\n    .dataframe tbody tr th {\n        vertical-align: top;\n    }\n\n    .dataframe thead th {\n        text-align: right;\n    }\n</style>\n<table border=\"1\" class=\"dataframe\">\n  <thead>\n    <tr style=\"text-align: right;\">\n      <th></th>\n      <th>id</th>\n      <th>created_at</th>\n      <th>updated_at</th>\n      <th>clickability_test_id</th>\n      <th>excerpt</th>\n      <th>headline</th>\n      <th>lede</th>\n      <th>slug</th>\n      <th>eyecatcher_id</th>\n      <th>impressions</th>\n      <th>...</th>\n      <th>square</th>\n      <th>test_week</th>\n      <th>timedelta</th>\n      <th>timedelta_numeric</th>\n      <th>timedelta_minmax</th>\n      <th>length</th>\n      <th>length_minmax</th>\n      <th>flesch_reading</th>\n      <th>flesch_kincaid</th>\n      <th>gunning_fog</th>\n    </tr>\n  </thead>\n  <tbody>\n    <tr>\n      <th>0</th>\n      <td>135871</td>\n      <td>2014-12-14 01:11:50.638</td>\n      <td>2016-04-02 16:31:58.139</td>\n      <td>548ce28d6536610018050000</td>\n      <td>NaN</td>\n      <td>dissed rape victim national tv need shut entir...</td>\n      <td>&lt;p&gt;Anytime there's a new sexual assault case b...</td>\n      <td>he-dissed-a-rape-victim-on-national-tv-and-now...</td>\n      <td>548c6a30333034001b240000</td>\n      <td>3013</td>\n      <td>...</td>\n      <td>NaN</td>\n      <td>201450</td>\n      <td>475 days 15:20:07.501000</td>\n      <td>4.109521e+07</td>\n      <td>0.193770</td>\n      <td>79</td>\n      <td>0.554745</td>\n      <td>88.06</td>\n      <td>5.2</td>\n      <td>9.15</td>\n    </tr>\n    <tr>\n      <th>1</th>\n      <td>148756</td>\n      <td>2014-11-09 19:50:25.589</td>\n      <td>2016-04-02 16:31:36.967</td>\n      <td>545fc565dba561926a00000f</td>\n      <td>Things that matter. Pass 'em on.</td>\n      <td>might call jacob man lipstick well jacob man h...</td>\n      <td>&lt;p&gt;Meet Jacob. You might have met a person lik...</td>\n      <td>you-might-call-jacob-a-man-with-lipstick-well-...</td>\n      <td>545dd264f1cb1f440b00001d</td>\n      <td>3103</td>\n      <td>...</td>\n      <td>NaN</td>\n      <td>201445</td>\n      <td>509 days 20:41:11.378000</td>\n      <td>4.405207e+07</td>\n      <td>0.242162</td>\n      <td>89</td>\n      <td>0.627737</td>\n      <td>79.60</td>\n      <td>6.4</td>\n      <td>6.80</td>\n    </tr>\n    <tr>\n      <th>2</th>\n      <td>38486</td>\n      <td>2014-03-24 02:19:28.068</td>\n      <td>2016-04-02 16:26:23.861</td>\n      <td>532f93deca310662e3000001</td>\n      <td>Things that matter. Pass 'em on. #PromotedPost</td>\n      <td>would eat poison anything</td>\n      <td>&lt;p&gt;Is anyone else as excited as I am for the n...</td>\n      <td>i-wouldnt-eat-that-if-i-were-you-its-not-poiso...</td>\n      <td>5332ba0d1fae79f09f002be6</td>\n      <td>2233</td>\n      <td>...</td>\n      <td>TakePartChavez20-19a6cac618ec3d3bf0f340ae6eb3d...</td>\n      <td>201412</td>\n      <td>740 days 14:06:55.793000</td>\n      <td>6.398682e+07</td>\n      <td>0.568413</td>\n      <td>78</td>\n      <td>0.547445</td>\n      <td>90.09</td>\n      <td>4.4</td>\n      <td>6.00</td>\n    </tr>\n    <tr>\n      <th>3</th>\n      <td>147221</td>\n      <td>2014-10-20 00:19:19.265</td>\n      <td>2016-04-02 16:31:12.466</td>\n      <td>54445507ecd9a245d8000005</td>\n      <td>Things that matter. Pass 'em on.</td>\n      <td>despite happened end notitanic leonardo dicapr...</td>\n      <td>&lt;p&gt;You can see Leo really cares about what's h...</td>\n      <td>despite-what-happened-at-the-end-of-titanic-le...</td>\n      <td>5443f2398996644f84000015</td>\n      <td>3162</td>\n      <td>...</td>\n      <td>NaN</td>\n      <td>201442</td>\n      <td>530 days 16:11:53.201000</td>\n      <td>4.585031e+07</td>\n      <td>0.271592</td>\n      <td>100</td>\n      <td>0.708029</td>\n      <td>71.14</td>\n      <td>7.6</td>\n      <td>9.15</td>\n    </tr>\n    <tr>\n      <th>4</th>\n      <td>86092</td>\n      <td>2014-02-27 00:32:44.843</td>\n      <td>2016-04-02 16:29:00.646</td>\n      <td>530e86e775e6a740a500004f</td>\n      <td>The drawings are bonus.</td>\n      <td>economist take minute whiteboard explain shift...</td>\n      <td>&lt;p&gt;I don't think rich people are generally mal...</td>\n      <td>economist-takes-2-minutes-and-a-whiteboard-to-...</td>\n      <td>5332b6591fae79f09f000d6e</td>\n      <td>3670</td>\n      <td>...</td>\n      <td>benefits-e403880bf5ddc759e67826b8284a9846.png</td>\n      <td>201408</td>\n      <td>765 days 15:56:15.803000</td>\n      <td>6.615338e+07</td>\n      <td>0.603870</td>\n      <td>99</td>\n      <td>0.700730</td>\n      <td>71.14</td>\n      <td>7.6</td>\n      <td>9.15</td>\n    </tr>\n    <tr>\n      <th>...</th>\n      <td>...</td>\n      <td>...</td>\n      <td>...</td>\n      <td>...</td>\n      <td>...</td>\n      <td>...</td>\n      <td>...</td>\n      <td>...</td>\n      <td>...</td>\n      <td>...</td>\n      <td>...</td>\n      <td>...</td>\n      <td>...</td>\n      <td>...</td>\n      <td>...</td>\n      <td>...</td>\n      <td>...</td>\n      <td>...</td>\n      <td>...</td>\n      <td>...</td>\n      <td>...</td>\n    </tr>\n    <tr>\n      <th>62799</th>\n      <td>14059</td>\n      <td>2015-03-27 16:57:13.191</td>\n      <td>2016-04-02 16:24:54.695</td>\n      <td>55158be9616664002c100000</td>\n      <td>It was completely unexpected.</td>\n      <td>scientist watched bunch male baboon die reveal...</td>\n      <td>&lt;p&gt;The baboons show up halfway through. Just g...</td>\n      <td>a-scientist-watched-a-bunch-of-male-baboons-di...</td>\n      <td>5514afe3303261001c4d0000</td>\n      <td>2118</td>\n      <td>...</td>\n      <td>NaN</td>\n      <td>201512</td>\n      <td>371 days 23:27:41.504000</td>\n      <td>3.213886e+07</td>\n      <td>0.047192</td>\n      <td>93</td>\n      <td>0.656934</td>\n      <td>64.71</td>\n      <td>8.0</td>\n      <td>11.33</td>\n    </tr>\n    <tr>\n      <th>62800</th>\n      <td>129829</td>\n      <td>2014-11-02 17:38:46.671</td>\n      <td>2016-04-02 16:31:30.048</td>\n      <td>5456566ab2bd23dced000009</td>\n      <td>Things that matter. Pass 'em on.</td>\n      <td>make awkward kid conversation le awkward</td>\n      <td>&lt;p&gt;Whether you're a parent or not, protecting ...</td>\n      <td>how-to-make-the-most-awkward-kid-conversation-...</td>\n      <td>545662b209e1045b59000015</td>\n      <td>3871</td>\n      <td>...</td>\n      <td>NaN</td>\n      <td>201444</td>\n      <td>516 days 22:52:43.377000</td>\n      <td>4.466476e+07</td>\n      <td>0.252189</td>\n      <td>58</td>\n      <td>0.401460</td>\n      <td>69.79</td>\n      <td>6.0</td>\n      <td>8.00</td>\n    </tr>\n    <tr>\n      <th>62801</th>\n      <td>133246</td>\n      <td>2014-11-25 20:44:40.537</td>\n      <td>2016-04-02 16:31:46.470</td>\n      <td>5474e8ae32376400120c0000</td>\n      <td>What dating a woman with an eating disorder is...</td>\n      <td>beautiful real response disgusting article nev...</td>\n      <td>&lt;p&gt;&lt;strong style=\"background-color: initial;\"&gt;...</td>\n      <td>a-beautiful-and-real-response-to-a-disgusting-...</td>\n      <td>5474b5541631de66cc00004a</td>\n      <td>2985</td>\n      <td>...</td>\n      <td>NaN</td>\n      <td>201447</td>\n      <td>493 days 19:47:05.933000</td>\n      <td>4.266643e+07</td>\n      <td>0.219485</td>\n      <td>77</td>\n      <td>0.540146</td>\n      <td>41.36</td>\n      <td>10.7</td>\n      <td>11.35</td>\n    </tr>\n    <tr>\n      <th>62802</th>\n      <td>1803</td>\n      <td>2015-01-08 03:56:53.527</td>\n      <td>2016-04-02 16:32:06.924</td>\n      <td>54adffc76331630012440000</td>\n      <td>Humans. We're an odd species.</td>\n      <td>bizarre human tendency drew u frightening stor...</td>\n      <td>&lt;p&gt;Humans. We're an odd species.&lt;span&gt;&lt;/span&gt;&lt;...</td>\n      <td>the-bizarre-human-tendency-that-drew-us-to-her...</td>\n      <td>54ab1fa962336500152a0000</td>\n      <td>2870</td>\n      <td>...</td>\n      <td>NaN</td>\n      <td>201501</td>\n      <td>450 days 12:35:13.397000</td>\n      <td>3.892531e+07</td>\n      <td>0.158258</td>\n      <td>95</td>\n      <td>0.671533</td>\n      <td>55.24</td>\n      <td>9.5</td>\n      <td>13.90</td>\n    </tr>\n    <tr>\n      <th>62803</th>\n      <td>35566</td>\n      <td>2014-02-24 18:33:45.178</td>\n      <td>2016-04-02 16:26:15.178</td>\n      <td>530b8c33b768517a1400000f</td>\n      <td>We surely can do better than this.</td>\n      <td>disconcerting fact make realize fundamentally ...</td>\n      <td>&lt;p&gt;I love my country. That doesn't mean I thin...</td>\n      <td>17-disconcerting-facts-to-make-you-realize-how...</td>\n      <td>5332f81aa2fc90ead00012d0</td>\n      <td>3029</td>\n      <td>...</td>\n      <td>represent3-2-ff82c11b758d44231a79916d8324ce22.jpg</td>\n      <td>201408</td>\n      <td>767 days 21:52:30</td>\n      <td>6.634755e+07</td>\n      <td>0.607048</td>\n      <td>96</td>\n      <td>0.678832</td>\n      <td>45.76</td>\n      <td>11.1</td>\n      <td>13.86</td>\n    </tr>\n  </tbody>\n</table>\n<p>62804 rows × 25 columns</p>\n</div>"
     },
     "execution_count": 310,
     "metadata": {},
     "output_type": "execute_result"
    }
   ],
   "source": [
    "df"
   ],
   "metadata": {
    "collapsed": false
   }
  },
  {
   "cell_type": "markdown",
   "source": [
    "We now proceed to compute determine the percentage of positive and negative words for each headline. We do so using SentiWordNet, which measures the sentiment score of each headline."
   ],
   "metadata": {
    "collapsed": false
   }
  },
  {
   "cell_type": "code",
   "execution_count": 311,
   "outputs": [
    {
     "name": "stderr",
     "output_type": "stream",
     "text": [
      "[nltk_data] Downloading package sentiwordnet to\n",
      "[nltk_data]     /Users/gohjunwei/nltk_data...\n",
      "[nltk_data]   Package sentiwordnet is already up-to-date!\n",
      "[nltk_data] Downloading package averaged_perceptron_tagger to\n",
      "[nltk_data]     /Users/gohjunwei/nltk_data...\n",
      "[nltk_data]   Package averaged_perceptron_tagger is already up-to-\n",
      "[nltk_data]       date!\n",
      "[nltk_data] Downloading package wordnet to\n",
      "[nltk_data]     /Users/gohjunwei/nltk_data...\n",
      "[nltk_data]   Package wordnet is already up-to-date!\n"
     ]
    },
    {
     "data": {
      "text/plain": "True"
     },
     "execution_count": 311,
     "metadata": {},
     "output_type": "execute_result"
    }
   ],
   "source": [
    "from nltk.corpus import sentiwordnet as swn\n",
    "from nltk.corpus import wordnet as wn\n",
    "\n",
    "nltk.download('sentiwordnet')\n",
    "nltk.download('averaged_perceptron_tagger')\n",
    "nltk.download('wordnet')"
   ],
   "metadata": {
    "collapsed": false
   }
  },
  {
   "cell_type": "markdown",
   "source": [
    "We continue by tagging each word in our sanitized headline with a noun (NN), verb (VB), adjective (JJ), or an adverb (RB)."
   ],
   "metadata": {
    "collapsed": false
   }
  },
  {
   "cell_type": "code",
   "execution_count": 312,
   "outputs": [],
   "source": [
    "def get_wordnet_pos(treebank_tag):\n",
    "    if treebank_tag.startswith('J'):\n",
    "        return wn.ADJ\n",
    "    elif treebank_tag.startswith('V'):\n",
    "        return wn.VERB\n",
    "    elif treebank_tag.startswith('N'):\n",
    "        return wn.NOUN\n",
    "    elif treebank_tag.startswith('R'):\n",
    "        return wn.ADV\n",
    "    else:\n",
    "        return ''"
   ],
   "metadata": {
    "collapsed": false
   }
  },
  {
   "cell_type": "markdown",
   "source": [
    "And obtaining the positive and negative sentiment scores"
   ],
   "metadata": {
    "collapsed": false
   }
  },
  {
   "cell_type": "code",
   "execution_count": 313,
   "outputs": [],
   "source": [
    "def get_sentiment(input_text):\n",
    "    positive_sentiment = 0.0\n",
    "    negative_sentiment = 0.0\n",
    "    tokens_count = 0\n",
    "\n",
    "    text = nltk.word_tokenize(input_text)\n",
    "    tagged_text = nltk.pos_tag(text)\n",
    "\n",
    "    for word, tag in tagged_text:\n",
    "        wn_tag = get_wordnet_pos(tag)\n",
    "\n",
    "        if wn_tag not in (wn.NOUN, wn.VERB, wn.ADJ, wn.ADV):\n",
    "            continue\n",
    "\n",
    "        lemma = lemmatizer.lemmatize(word, pos = wn_tag)\n",
    "\n",
    "        if not lemma:\n",
    "            continue\n",
    "\n",
    "        synsets = wn.synsets(lemma, pos = wn_tag)\n",
    "        if not synsets:\n",
    "            continue\n",
    "\n",
    "        synset = synsets[0]\n",
    "\n",
    "        swn_synset = swn.senti_synset(synset.name())\n",
    "\n",
    "        positive_sentiment += swn_synset.pos_score()\n",
    "        negative_sentiment += swn_synset.neg_score()\n",
    "        tokens_count += 1\n",
    "\n",
    "    sentiment = positive_sentiment - negative_sentiment\n",
    "\n",
    "    if not tokens_count:\n",
    "        return 0, 0, 0\n",
    "\n",
    "    return positive_sentiment, negative_sentiment, sentiment"
   ],
   "metadata": {
    "collapsed": false
   }
  },
  {
   "cell_type": "code",
   "execution_count": 314,
   "outputs": [],
   "source": [
    "df[['positive_sentiment', 'negative_sentiment', 'sentiment']] = pd.DataFrame(df['headline'].apply(get_sentiment).tolist(), index=df.index)\n",
    "df_test[['positive_sentiment', 'negative_sentiment', 'sentiment']] = pd.DataFrame(df_test['headline'].apply(get_sentiment).tolist(), index=df_test.index)"
   ],
   "metadata": {
    "collapsed": false
   }
  },
  {
   "cell_type": "code",
   "execution_count": 315,
   "outputs": [],
   "source": [
    "df['polarity'] = df['positive_sentiment'] + df['negative_sentiment']\n",
    "df_test['polarity'] = abs(df_test['positive_sentiment']) + abs(df_test['negative_sentiment'])"
   ],
   "metadata": {
    "collapsed": false
   }
  },
  {
   "cell_type": "markdown",
   "source": [
    "We now proceed with a standard classification, similar to our technique with Vader."
   ],
   "metadata": {
    "collapsed": false
   }
  },
  {
   "cell_type": "code",
   "execution_count": 316,
   "outputs": [
    {
     "data": {
      "text/plain": "0.011920316447054"
     },
     "execution_count": 316,
     "metadata": {},
     "output_type": "execute_result"
    }
   ],
   "source": [
    "df_all = pd.concat([df_test, df_test_y])\n",
    "median = df_all['CTR'].median()\n",
    "median"
   ],
   "metadata": {
    "collapsed": false
   }
  },
  {
   "cell_type": "code",
   "execution_count": 317,
   "outputs": [
    {
     "data": {
      "text/plain": "           id               created_at               updated_at  \\\n0      135871  2014-12-14 01:11:50.638  2016-04-02 16:31:58.139   \n1      148756  2014-11-09 19:50:25.589  2016-04-02 16:31:36.967   \n2       38486  2014-03-24 02:19:28.068  2016-04-02 16:26:23.861   \n3      147221  2014-10-20 00:19:19.265  2016-04-02 16:31:12.466   \n4       86092  2014-02-27 00:32:44.843  2016-04-02 16:29:00.646   \n...       ...                      ...                      ...   \n62799   14059  2015-03-27 16:57:13.191  2016-04-02 16:24:54.695   \n62800  129829  2014-11-02 17:38:46.671  2016-04-02 16:31:30.048   \n62801  133246  2014-11-25 20:44:40.537  2016-04-02 16:31:46.470   \n62802    1803  2015-01-08 03:56:53.527  2016-04-02 16:32:06.924   \n62803   35566  2014-02-24 18:33:45.178  2016-04-02 16:26:15.178   \n\n           clickability_test_id  \\\n0      548ce28d6536610018050000   \n1      545fc565dba561926a00000f   \n2      532f93deca310662e3000001   \n3      54445507ecd9a245d8000005   \n4      530e86e775e6a740a500004f   \n...                         ...   \n62799  55158be9616664002c100000   \n62800  5456566ab2bd23dced000009   \n62801  5474e8ae32376400120c0000   \n62802  54adffc76331630012440000   \n62803  530b8c33b768517a1400000f   \n\n                                                 excerpt  \\\n0                                                    NaN   \n1                       Things that matter. Pass 'em on.   \n2         Things that matter. Pass 'em on. #PromotedPost   \n3                       Things that matter. Pass 'em on.   \n4                                The drawings are bonus.   \n...                                                  ...   \n62799                      It was completely unexpected.   \n62800                   Things that matter. Pass 'em on.   \n62801  What dating a woman with an eating disorder is...   \n62802                      Humans. We're an odd species.   \n62803                 We surely can do better than this.   \n\n                                                headline  \\\n0      dissed rape victim national tv need shut entir...   \n1      might call jacob man lipstick well jacob man h...   \n2                              would eat poison anything   \n3      despite happened end notitanic leonardo dicapr...   \n4      economist take minute whiteboard explain shift...   \n...                                                  ...   \n62799  scientist watched bunch male baboon die reveal...   \n62800           make awkward kid conversation le awkward   \n62801  beautiful real response disgusting article nev...   \n62802  bizarre human tendency drew u frightening stor...   \n62803  disconcerting fact make realize fundamentally ...   \n\n                                                    lede  \\\n0      <p>Anytime there's a new sexual assault case b...   \n1      <p>Meet Jacob. You might have met a person lik...   \n2      <p>Is anyone else as excited as I am for the n...   \n3      <p>You can see Leo really cares about what's h...   \n4      <p>I don't think rich people are generally mal...   \n...                                                  ...   \n62799  <p>The baboons show up halfway through. Just g...   \n62800  <p>Whether you're a parent or not, protecting ...   \n62801  <p><strong style=\"background-color: initial;\">...   \n62802  <p>Humans. We're an odd species.<span></span><...   \n62803  <p>I love my country. That doesn't mean I thin...   \n\n                                                    slug  \\\n0      he-dissed-a-rape-victim-on-national-tv-and-now...   \n1      you-might-call-jacob-a-man-with-lipstick-well-...   \n2      i-wouldnt-eat-that-if-i-were-you-its-not-poiso...   \n3      despite-what-happened-at-the-end-of-titanic-le...   \n4      economist-takes-2-minutes-and-a-whiteboard-to-...   \n...                                                  ...   \n62799  a-scientist-watched-a-bunch-of-male-baboons-di...   \n62800  how-to-make-the-most-awkward-kid-conversation-...   \n62801  a-beautiful-and-real-response-to-a-disgusting-...   \n62802  the-bizarre-human-tendency-that-drew-us-to-her...   \n62803  17-disconcerting-facts-to-make-you-realize-how...   \n\n                  eyecatcher_id  impressions  ...  timedelta_minmax  length  \\\n0      548c6a30333034001b240000         3013  ...          0.193770      79   \n1      545dd264f1cb1f440b00001d         3103  ...          0.242162      89   \n2      5332ba0d1fae79f09f002be6         2233  ...          0.568413      78   \n3      5443f2398996644f84000015         3162  ...          0.271592     100   \n4      5332b6591fae79f09f000d6e         3670  ...          0.603870      99   \n...                         ...          ...  ...               ...     ...   \n62799  5514afe3303261001c4d0000         2118  ...          0.047192      93   \n62800  545662b209e1045b59000015         3871  ...          0.252189      58   \n62801  5474b5541631de66cc00004a         2985  ...          0.219485      77   \n62802  54ab1fa962336500152a0000         2870  ...          0.158258      95   \n62803  5332f81aa2fc90ead00012d0         3029  ...          0.607048      96   \n\n       length_minmax  flesch_reading flesch_kincaid gunning_fog  \\\n0           0.554745           88.06            5.2        9.15   \n1           0.627737           79.60            6.4        6.80   \n2           0.547445           90.09            4.4        6.00   \n3           0.708029           71.14            7.6        9.15   \n4           0.700730           71.14            7.6        9.15   \n...              ...             ...            ...         ...   \n62799       0.656934           64.71            8.0       11.33   \n62800       0.401460           69.79            6.0        8.00   \n62801       0.540146           41.36           10.7       11.35   \n62802       0.671533           55.24            9.5       13.90   \n62803       0.678832           45.76           11.1       13.86   \n\n       positive_sentiment negative_sentiment  sentiment  polarity  \n0                   0.250              0.750     -0.500     1.000  \n1                   0.625              0.000      0.625     0.625  \n2                   0.000              0.125     -0.125     0.125  \n3                   0.500              0.125      0.375     0.625  \n4                   0.750              1.500     -0.750     2.250  \n...                   ...                ...        ...       ...  \n62799               0.375              0.000      0.375     0.375  \n62800               0.000              0.750     -0.750     0.750  \n62801               0.750              0.750      0.000     1.500  \n62802               1.250              0.375      0.875     1.625  \n62803               1.250              1.125      0.125     2.375  \n\n[62804 rows x 29 columns]",
      "text/html": "<div>\n<style scoped>\n    .dataframe tbody tr th:only-of-type {\n        vertical-align: middle;\n    }\n\n    .dataframe tbody tr th {\n        vertical-align: top;\n    }\n\n    .dataframe thead th {\n        text-align: right;\n    }\n</style>\n<table border=\"1\" class=\"dataframe\">\n  <thead>\n    <tr style=\"text-align: right;\">\n      <th></th>\n      <th>id</th>\n      <th>created_at</th>\n      <th>updated_at</th>\n      <th>clickability_test_id</th>\n      <th>excerpt</th>\n      <th>headline</th>\n      <th>lede</th>\n      <th>slug</th>\n      <th>eyecatcher_id</th>\n      <th>impressions</th>\n      <th>...</th>\n      <th>timedelta_minmax</th>\n      <th>length</th>\n      <th>length_minmax</th>\n      <th>flesch_reading</th>\n      <th>flesch_kincaid</th>\n      <th>gunning_fog</th>\n      <th>positive_sentiment</th>\n      <th>negative_sentiment</th>\n      <th>sentiment</th>\n      <th>polarity</th>\n    </tr>\n  </thead>\n  <tbody>\n    <tr>\n      <th>0</th>\n      <td>135871</td>\n      <td>2014-12-14 01:11:50.638</td>\n      <td>2016-04-02 16:31:58.139</td>\n      <td>548ce28d6536610018050000</td>\n      <td>NaN</td>\n      <td>dissed rape victim national tv need shut entir...</td>\n      <td>&lt;p&gt;Anytime there's a new sexual assault case b...</td>\n      <td>he-dissed-a-rape-victim-on-national-tv-and-now...</td>\n      <td>548c6a30333034001b240000</td>\n      <td>3013</td>\n      <td>...</td>\n      <td>0.193770</td>\n      <td>79</td>\n      <td>0.554745</td>\n      <td>88.06</td>\n      <td>5.2</td>\n      <td>9.15</td>\n      <td>0.250</td>\n      <td>0.750</td>\n      <td>-0.500</td>\n      <td>1.000</td>\n    </tr>\n    <tr>\n      <th>1</th>\n      <td>148756</td>\n      <td>2014-11-09 19:50:25.589</td>\n      <td>2016-04-02 16:31:36.967</td>\n      <td>545fc565dba561926a00000f</td>\n      <td>Things that matter. Pass 'em on.</td>\n      <td>might call jacob man lipstick well jacob man h...</td>\n      <td>&lt;p&gt;Meet Jacob. You might have met a person lik...</td>\n      <td>you-might-call-jacob-a-man-with-lipstick-well-...</td>\n      <td>545dd264f1cb1f440b00001d</td>\n      <td>3103</td>\n      <td>...</td>\n      <td>0.242162</td>\n      <td>89</td>\n      <td>0.627737</td>\n      <td>79.60</td>\n      <td>6.4</td>\n      <td>6.80</td>\n      <td>0.625</td>\n      <td>0.000</td>\n      <td>0.625</td>\n      <td>0.625</td>\n    </tr>\n    <tr>\n      <th>2</th>\n      <td>38486</td>\n      <td>2014-03-24 02:19:28.068</td>\n      <td>2016-04-02 16:26:23.861</td>\n      <td>532f93deca310662e3000001</td>\n      <td>Things that matter. Pass 'em on. #PromotedPost</td>\n      <td>would eat poison anything</td>\n      <td>&lt;p&gt;Is anyone else as excited as I am for the n...</td>\n      <td>i-wouldnt-eat-that-if-i-were-you-its-not-poiso...</td>\n      <td>5332ba0d1fae79f09f002be6</td>\n      <td>2233</td>\n      <td>...</td>\n      <td>0.568413</td>\n      <td>78</td>\n      <td>0.547445</td>\n      <td>90.09</td>\n      <td>4.4</td>\n      <td>6.00</td>\n      <td>0.000</td>\n      <td>0.125</td>\n      <td>-0.125</td>\n      <td>0.125</td>\n    </tr>\n    <tr>\n      <th>3</th>\n      <td>147221</td>\n      <td>2014-10-20 00:19:19.265</td>\n      <td>2016-04-02 16:31:12.466</td>\n      <td>54445507ecd9a245d8000005</td>\n      <td>Things that matter. Pass 'em on.</td>\n      <td>despite happened end notitanic leonardo dicapr...</td>\n      <td>&lt;p&gt;You can see Leo really cares about what's h...</td>\n      <td>despite-what-happened-at-the-end-of-titanic-le...</td>\n      <td>5443f2398996644f84000015</td>\n      <td>3162</td>\n      <td>...</td>\n      <td>0.271592</td>\n      <td>100</td>\n      <td>0.708029</td>\n      <td>71.14</td>\n      <td>7.6</td>\n      <td>9.15</td>\n      <td>0.500</td>\n      <td>0.125</td>\n      <td>0.375</td>\n      <td>0.625</td>\n    </tr>\n    <tr>\n      <th>4</th>\n      <td>86092</td>\n      <td>2014-02-27 00:32:44.843</td>\n      <td>2016-04-02 16:29:00.646</td>\n      <td>530e86e775e6a740a500004f</td>\n      <td>The drawings are bonus.</td>\n      <td>economist take minute whiteboard explain shift...</td>\n      <td>&lt;p&gt;I don't think rich people are generally mal...</td>\n      <td>economist-takes-2-minutes-and-a-whiteboard-to-...</td>\n      <td>5332b6591fae79f09f000d6e</td>\n      <td>3670</td>\n      <td>...</td>\n      <td>0.603870</td>\n      <td>99</td>\n      <td>0.700730</td>\n      <td>71.14</td>\n      <td>7.6</td>\n      <td>9.15</td>\n      <td>0.750</td>\n      <td>1.500</td>\n      <td>-0.750</td>\n      <td>2.250</td>\n    </tr>\n    <tr>\n      <th>...</th>\n      <td>...</td>\n      <td>...</td>\n      <td>...</td>\n      <td>...</td>\n      <td>...</td>\n      <td>...</td>\n      <td>...</td>\n      <td>...</td>\n      <td>...</td>\n      <td>...</td>\n      <td>...</td>\n      <td>...</td>\n      <td>...</td>\n      <td>...</td>\n      <td>...</td>\n      <td>...</td>\n      <td>...</td>\n      <td>...</td>\n      <td>...</td>\n      <td>...</td>\n      <td>...</td>\n    </tr>\n    <tr>\n      <th>62799</th>\n      <td>14059</td>\n      <td>2015-03-27 16:57:13.191</td>\n      <td>2016-04-02 16:24:54.695</td>\n      <td>55158be9616664002c100000</td>\n      <td>It was completely unexpected.</td>\n      <td>scientist watched bunch male baboon die reveal...</td>\n      <td>&lt;p&gt;The baboons show up halfway through. Just g...</td>\n      <td>a-scientist-watched-a-bunch-of-male-baboons-di...</td>\n      <td>5514afe3303261001c4d0000</td>\n      <td>2118</td>\n      <td>...</td>\n      <td>0.047192</td>\n      <td>93</td>\n      <td>0.656934</td>\n      <td>64.71</td>\n      <td>8.0</td>\n      <td>11.33</td>\n      <td>0.375</td>\n      <td>0.000</td>\n      <td>0.375</td>\n      <td>0.375</td>\n    </tr>\n    <tr>\n      <th>62800</th>\n      <td>129829</td>\n      <td>2014-11-02 17:38:46.671</td>\n      <td>2016-04-02 16:31:30.048</td>\n      <td>5456566ab2bd23dced000009</td>\n      <td>Things that matter. Pass 'em on.</td>\n      <td>make awkward kid conversation le awkward</td>\n      <td>&lt;p&gt;Whether you're a parent or not, protecting ...</td>\n      <td>how-to-make-the-most-awkward-kid-conversation-...</td>\n      <td>545662b209e1045b59000015</td>\n      <td>3871</td>\n      <td>...</td>\n      <td>0.252189</td>\n      <td>58</td>\n      <td>0.401460</td>\n      <td>69.79</td>\n      <td>6.0</td>\n      <td>8.00</td>\n      <td>0.000</td>\n      <td>0.750</td>\n      <td>-0.750</td>\n      <td>0.750</td>\n    </tr>\n    <tr>\n      <th>62801</th>\n      <td>133246</td>\n      <td>2014-11-25 20:44:40.537</td>\n      <td>2016-04-02 16:31:46.470</td>\n      <td>5474e8ae32376400120c0000</td>\n      <td>What dating a woman with an eating disorder is...</td>\n      <td>beautiful real response disgusting article nev...</td>\n      <td>&lt;p&gt;&lt;strong style=\"background-color: initial;\"&gt;...</td>\n      <td>a-beautiful-and-real-response-to-a-disgusting-...</td>\n      <td>5474b5541631de66cc00004a</td>\n      <td>2985</td>\n      <td>...</td>\n      <td>0.219485</td>\n      <td>77</td>\n      <td>0.540146</td>\n      <td>41.36</td>\n      <td>10.7</td>\n      <td>11.35</td>\n      <td>0.750</td>\n      <td>0.750</td>\n      <td>0.000</td>\n      <td>1.500</td>\n    </tr>\n    <tr>\n      <th>62802</th>\n      <td>1803</td>\n      <td>2015-01-08 03:56:53.527</td>\n      <td>2016-04-02 16:32:06.924</td>\n      <td>54adffc76331630012440000</td>\n      <td>Humans. We're an odd species.</td>\n      <td>bizarre human tendency drew u frightening stor...</td>\n      <td>&lt;p&gt;Humans. We're an odd species.&lt;span&gt;&lt;/span&gt;&lt;...</td>\n      <td>the-bizarre-human-tendency-that-drew-us-to-her...</td>\n      <td>54ab1fa962336500152a0000</td>\n      <td>2870</td>\n      <td>...</td>\n      <td>0.158258</td>\n      <td>95</td>\n      <td>0.671533</td>\n      <td>55.24</td>\n      <td>9.5</td>\n      <td>13.90</td>\n      <td>1.250</td>\n      <td>0.375</td>\n      <td>0.875</td>\n      <td>1.625</td>\n    </tr>\n    <tr>\n      <th>62803</th>\n      <td>35566</td>\n      <td>2014-02-24 18:33:45.178</td>\n      <td>2016-04-02 16:26:15.178</td>\n      <td>530b8c33b768517a1400000f</td>\n      <td>We surely can do better than this.</td>\n      <td>disconcerting fact make realize fundamentally ...</td>\n      <td>&lt;p&gt;I love my country. That doesn't mean I thin...</td>\n      <td>17-disconcerting-facts-to-make-you-realize-how...</td>\n      <td>5332f81aa2fc90ead00012d0</td>\n      <td>3029</td>\n      <td>...</td>\n      <td>0.607048</td>\n      <td>96</td>\n      <td>0.678832</td>\n      <td>45.76</td>\n      <td>11.1</td>\n      <td>13.86</td>\n      <td>1.250</td>\n      <td>1.125</td>\n      <td>0.125</td>\n      <td>2.375</td>\n    </tr>\n  </tbody>\n</table>\n<p>62804 rows × 29 columns</p>\n</div>"
     },
     "execution_count": 317,
     "metadata": {},
     "output_type": "execute_result"
    }
   ],
   "source": [
    "df"
   ],
   "metadata": {
    "collapsed": false
   }
  },
  {
   "cell_type": "code",
   "execution_count": 318,
   "outputs": [],
   "source": [
    "X_train = df[['timedelta_numeric', 'polarity', 'positive_sentiment', 'negative_sentiment', 'length', 'flesch_reading']]\n",
    "X_test = df_test[['timedelta_numeric', 'polarity', 'positive_sentiment', 'negative_sentiment', 'length', 'flesch_reading']]\n",
    "y_train = df_train['CTR'].apply(lambda x: 1 if x > median else 0)\n",
    "y_test = df_test_y['CTR'].apply(lambda x: 1 if x > median else 0)"
   ],
   "metadata": {
    "collapsed": false
   }
  },
  {
   "cell_type": "markdown",
   "source": [
    "We begin by determining the relevance of each feature"
   ],
   "metadata": {
    "collapsed": false
   }
  },
  {
   "cell_type": "code",
   "execution_count": 319,
   "outputs": [],
   "source": [
    "from sklearn.metrics import mean_squared_error, r2_score"
   ],
   "metadata": {
    "collapsed": false
   }
  },
  {
   "cell_type": "markdown",
   "source": [
    "And determine the significance of each variable"
   ],
   "metadata": {
    "collapsed": false
   }
  },
  {
   "cell_type": "code",
   "execution_count": 320,
   "outputs": [
    {
     "name": "stdout",
     "output_type": "stream",
     "text": [
      "                            OLS Regression Results                            \n",
      "==============================================================================\n",
      "Dep. Variable:                    CTR   R-squared:                       0.103\n",
      "Model:                            OLS   Adj. R-squared:                  0.103\n",
      "Method:                 Least Squares   F-statistic:                     1443.\n",
      "Date:                Sun, 03 Mar 2024   Prob (F-statistic):               0.00\n",
      "Time:                        15:59:39   Log-Likelihood:                -42162.\n",
      "No. Observations:               62804   AIC:                         8.434e+04\n",
      "Df Residuals:                   62798   BIC:                         8.439e+04\n",
      "Df Model:                           5                                         \n",
      "Covariance Type:            nonrobust                                         \n",
      "======================================================================================\n",
      "                         coef    std err          t      P>|t|      [0.025      0.975]\n",
      "--------------------------------------------------------------------------------------\n",
      "const                 -0.2730      0.014    -18.993      0.000      -0.301      -0.245\n",
      "timedelta_numeric   9.893e-09   1.19e-10     82.899      0.000    9.66e-09    1.01e-08\n",
      "polarity               0.0142      0.002      6.850      0.000       0.010       0.018\n",
      "positive_sentiment    -0.0241      0.003     -7.266      0.000      -0.031      -0.018\n",
      "negative_sentiment     0.0383      0.004     10.775      0.000       0.031       0.045\n",
      "length                 0.0025      0.000     18.724      0.000       0.002       0.003\n",
      "flesch_reading         0.0001   5.84e-05      2.131      0.033    9.97e-06       0.000\n",
      "==============================================================================\n",
      "Omnibus:                   317282.770   Durbin-Watson:                   2.009\n",
      "Prob(Omnibus):                  0.000   Jarque-Bera (JB):             6555.818\n",
      "Skew:                           0.021   Prob(JB):                         0.00\n",
      "Kurtosis:                       1.418   Cond. No.                     7.01e+21\n",
      "==============================================================================\n",
      "\n",
      "Notes:\n",
      "[1] Standard Errors assume that the covariance matrix of the errors is correctly specified.\n",
      "[2] The smallest eigenvalue is 4.26e-24. This might indicate that there are\n",
      "strong multicollinearity problems or that the design matrix is singular.\n"
     ]
    }
   ],
   "source": [
    "import statsmodels.api as sm\n",
    "\n",
    "# Add a constant to the features\n",
    "X_train_with_constant = sm.add_constant(X_train)\n",
    "\n",
    "# Fit an ordinary least squares regression model\n",
    "model = sm.OLS(y_train, X_train_with_constant)\n",
    "results = model.fit()\n",
    "\n",
    "# Print the summary of the results\n",
    "print(results.summary())"
   ],
   "metadata": {
    "collapsed": false
   }
  },
  {
   "cell_type": "markdown",
   "source": [
    "We begin with a simple logistic regression."
   ],
   "metadata": {
    "collapsed": false
   }
  },
  {
   "cell_type": "code",
   "execution_count": 321,
   "outputs": [
    {
     "name": "stderr",
     "output_type": "stream",
     "text": [
      "/Users/gohjunwei/anaconda3/lib/python3.11/site-packages/sklearn/utils/validation.py:767: FutureWarning: is_sparse is deprecated and will be removed in a future version. Check `isinstance(dtype, pd.SparseDtype)` instead.\n",
      "  if not hasattr(array, \"sparse\") and array.dtypes.apply(is_sparse).any():\n",
      "/Users/gohjunwei/anaconda3/lib/python3.11/site-packages/sklearn/utils/validation.py:605: FutureWarning: is_sparse is deprecated and will be removed in a future version. Check `isinstance(dtype, pd.SparseDtype)` instead.\n",
      "  if is_sparse(pd_dtype):\n",
      "/Users/gohjunwei/anaconda3/lib/python3.11/site-packages/sklearn/utils/validation.py:614: FutureWarning: is_sparse is deprecated and will be removed in a future version. Check `isinstance(dtype, pd.SparseDtype)` instead.\n",
      "  if is_sparse(pd_dtype) or not is_extension_array_dtype(pd_dtype):\n",
      "/Users/gohjunwei/anaconda3/lib/python3.11/site-packages/sklearn/utils/validation.py:767: FutureWarning: is_sparse is deprecated and will be removed in a future version. Check `isinstance(dtype, pd.SparseDtype)` instead.\n",
      "  if not hasattr(array, \"sparse\") and array.dtypes.apply(is_sparse).any():\n",
      "/Users/gohjunwei/anaconda3/lib/python3.11/site-packages/sklearn/utils/validation.py:605: FutureWarning: is_sparse is deprecated and will be removed in a future version. Check `isinstance(dtype, pd.SparseDtype)` instead.\n",
      "  if is_sparse(pd_dtype):\n",
      "/Users/gohjunwei/anaconda3/lib/python3.11/site-packages/sklearn/utils/validation.py:614: FutureWarning: is_sparse is deprecated and will be removed in a future version. Check `isinstance(dtype, pd.SparseDtype)` instead.\n",
      "  if is_sparse(pd_dtype) or not is_extension_array_dtype(pd_dtype):\n",
      "/Users/gohjunwei/anaconda3/lib/python3.11/site-packages/sklearn/utils/validation.py:767: FutureWarning: is_sparse is deprecated and will be removed in a future version. Check `isinstance(dtype, pd.SparseDtype)` instead.\n",
      "  if not hasattr(array, \"sparse\") and array.dtypes.apply(is_sparse).any():\n",
      "/Users/gohjunwei/anaconda3/lib/python3.11/site-packages/sklearn/utils/validation.py:605: FutureWarning: is_sparse is deprecated and will be removed in a future version. Check `isinstance(dtype, pd.SparseDtype)` instead.\n",
      "  if is_sparse(pd_dtype):\n",
      "/Users/gohjunwei/anaconda3/lib/python3.11/site-packages/sklearn/utils/validation.py:614: FutureWarning: is_sparse is deprecated and will be removed in a future version. Check `isinstance(dtype, pd.SparseDtype)` instead.\n",
      "  if is_sparse(pd_dtype) or not is_extension_array_dtype(pd_dtype):\n",
      "/Users/gohjunwei/anaconda3/lib/python3.11/site-packages/sklearn/utils/validation.py:767: FutureWarning: is_sparse is deprecated and will be removed in a future version. Check `isinstance(dtype, pd.SparseDtype)` instead.\n",
      "  if not hasattr(array, \"sparse\") and array.dtypes.apply(is_sparse).any():\n",
      "/Users/gohjunwei/anaconda3/lib/python3.11/site-packages/sklearn/utils/validation.py:605: FutureWarning: is_sparse is deprecated and will be removed in a future version. Check `isinstance(dtype, pd.SparseDtype)` instead.\n",
      "  if is_sparse(pd_dtype):\n",
      "/Users/gohjunwei/anaconda3/lib/python3.11/site-packages/sklearn/utils/validation.py:614: FutureWarning: is_sparse is deprecated and will be removed in a future version. Check `isinstance(dtype, pd.SparseDtype)` instead.\n",
      "  if is_sparse(pd_dtype) or not is_extension_array_dtype(pd_dtype):\n"
     ]
    }
   ],
   "source": [
    "from sklearn.preprocessing import StandardScaler\n",
    "\n",
    "scaler = StandardScaler()\n",
    "\n",
    "X_train_scaled = scaler.fit_transform(df[['timedelta_numeric', 'polarity', 'positive_sentiment', 'negative_sentiment', 'length', 'flesch_reading']])\n",
    "X_test_scaled = scaler.fit_transform(df_test[['timedelta_numeric', 'polarity', 'positive_sentiment', 'negative_sentiment', 'length', 'flesch_reading']])"
   ],
   "metadata": {
    "collapsed": false
   }
  },
  {
   "cell_type": "code",
   "execution_count": 322,
   "outputs": [
    {
     "name": "stderr",
     "output_type": "stream",
     "text": [
      "/Users/gohjunwei/anaconda3/lib/python3.11/site-packages/sklearn/utils/validation.py:605: FutureWarning: is_sparse is deprecated and will be removed in a future version. Check `isinstance(dtype, pd.SparseDtype)` instead.\n",
      "  if is_sparse(pd_dtype):\n",
      "/Users/gohjunwei/anaconda3/lib/python3.11/site-packages/sklearn/utils/validation.py:614: FutureWarning: is_sparse is deprecated and will be removed in a future version. Check `isinstance(dtype, pd.SparseDtype)` instead.\n",
      "  if is_sparse(pd_dtype) or not is_extension_array_dtype(pd_dtype):\n"
     ]
    }
   ],
   "source": [
    "from sklearn.linear_model import LogisticRegressionCV\n",
    "\n",
    "logistic = LogisticRegressionCV()\n",
    "\n",
    "logistic.fit(X_train_scaled, y_train)\n",
    "\n",
    "y_preds_logistic = logistic.predict(X_test_scaled)"
   ],
   "metadata": {
    "collapsed": false
   }
  },
  {
   "cell_type": "code",
   "execution_count": 323,
   "outputs": [
    {
     "data": {
      "text/plain": "array([[-0.90740049,  0.3101365 , -0.45431983,  0.99901432, -0.20230359,\n         0.33554767],\n       [-0.72147489, -0.28657365,  0.37405183, -0.87146058,  0.49020984,\n         0.07586238],\n       [ 0.53200834, -1.08218718, -1.00656761, -0.55971477, -0.27155493,\n         0.39785987],\n       ...,\n       [-0.80860334,  1.10575002,  0.65017572,  0.99901432, -0.34080628,\n        -1.09793971],\n       [-1.04384197,  1.30465341,  1.75467126,  0.06377687,  0.9057179 ,\n        -0.67188393],\n       [ 0.68044971,  2.4980737 ,  1.75467126,  1.93425177,  0.97496924,\n        -0.9628788 ]])"
     },
     "execution_count": 323,
     "metadata": {},
     "output_type": "execute_result"
    }
   ],
   "source": [
    "X_train_scaled"
   ],
   "metadata": {
    "collapsed": false
   }
  },
  {
   "cell_type": "code",
   "execution_count": 324,
   "outputs": [
    {
     "name": "stdout",
     "output_type": "stream",
     "text": [
      "              precision    recall  f1-score   support\n",
      "\n",
      "           0       0.63      0.69      0.66      7851\n",
      "           1       0.66      0.59      0.62      7851\n",
      "\n",
      "    accuracy                           0.64     15702\n",
      "   macro avg       0.64      0.64      0.64     15702\n",
      "weighted avg       0.64      0.64      0.64     15702\n",
      "\n"
     ]
    },
    {
     "name": "stderr",
     "output_type": "stream",
     "text": [
      "/Users/gohjunwei/anaconda3/lib/python3.11/site-packages/sklearn/utils/validation.py:605: FutureWarning: is_sparse is deprecated and will be removed in a future version. Check `isinstance(dtype, pd.SparseDtype)` instead.\n",
      "  if is_sparse(pd_dtype):\n",
      "/Users/gohjunwei/anaconda3/lib/python3.11/site-packages/sklearn/utils/validation.py:614: FutureWarning: is_sparse is deprecated and will be removed in a future version. Check `isinstance(dtype, pd.SparseDtype)` instead.\n",
      "  if is_sparse(pd_dtype) or not is_extension_array_dtype(pd_dtype):\n",
      "/Users/gohjunwei/anaconda3/lib/python3.11/site-packages/sklearn/utils/validation.py:605: FutureWarning: is_sparse is deprecated and will be removed in a future version. Check `isinstance(dtype, pd.SparseDtype)` instead.\n",
      "  if is_sparse(pd_dtype):\n",
      "/Users/gohjunwei/anaconda3/lib/python3.11/site-packages/sklearn/utils/validation.py:614: FutureWarning: is_sparse is deprecated and will be removed in a future version. Check `isinstance(dtype, pd.SparseDtype)` instead.\n",
      "  if is_sparse(pd_dtype) or not is_extension_array_dtype(pd_dtype):\n",
      "/Users/gohjunwei/anaconda3/lib/python3.11/site-packages/sklearn/utils/validation.py:605: FutureWarning: is_sparse is deprecated and will be removed in a future version. Check `isinstance(dtype, pd.SparseDtype)` instead.\n",
      "  if is_sparse(pd_dtype):\n",
      "/Users/gohjunwei/anaconda3/lib/python3.11/site-packages/sklearn/utils/validation.py:614: FutureWarning: is_sparse is deprecated and will be removed in a future version. Check `isinstance(dtype, pd.SparseDtype)` instead.\n",
      "  if is_sparse(pd_dtype) or not is_extension_array_dtype(pd_dtype):\n",
      "/Users/gohjunwei/anaconda3/lib/python3.11/site-packages/sklearn/utils/validation.py:605: FutureWarning: is_sparse is deprecated and will be removed in a future version. Check `isinstance(dtype, pd.SparseDtype)` instead.\n",
      "  if is_sparse(pd_dtype):\n",
      "/Users/gohjunwei/anaconda3/lib/python3.11/site-packages/sklearn/utils/validation.py:614: FutureWarning: is_sparse is deprecated and will be removed in a future version. Check `isinstance(dtype, pd.SparseDtype)` instead.\n",
      "  if is_sparse(pd_dtype) or not is_extension_array_dtype(pd_dtype):\n",
      "/Users/gohjunwei/anaconda3/lib/python3.11/site-packages/sklearn/utils/validation.py:605: FutureWarning: is_sparse is deprecated and will be removed in a future version. Check `isinstance(dtype, pd.SparseDtype)` instead.\n",
      "  if is_sparse(pd_dtype):\n",
      "/Users/gohjunwei/anaconda3/lib/python3.11/site-packages/sklearn/utils/validation.py:614: FutureWarning: is_sparse is deprecated and will be removed in a future version. Check `isinstance(dtype, pd.SparseDtype)` instead.\n",
      "  if is_sparse(pd_dtype) or not is_extension_array_dtype(pd_dtype):\n",
      "/Users/gohjunwei/anaconda3/lib/python3.11/site-packages/sklearn/utils/validation.py:605: FutureWarning: is_sparse is deprecated and will be removed in a future version. Check `isinstance(dtype, pd.SparseDtype)` instead.\n",
      "  if is_sparse(pd_dtype):\n",
      "/Users/gohjunwei/anaconda3/lib/python3.11/site-packages/sklearn/utils/validation.py:614: FutureWarning: is_sparse is deprecated and will be removed in a future version. Check `isinstance(dtype, pd.SparseDtype)` instead.\n",
      "  if is_sparse(pd_dtype) or not is_extension_array_dtype(pd_dtype):\n",
      "/Users/gohjunwei/anaconda3/lib/python3.11/site-packages/sklearn/utils/validation.py:605: FutureWarning: is_sparse is deprecated and will be removed in a future version. Check `isinstance(dtype, pd.SparseDtype)` instead.\n",
      "  if is_sparse(pd_dtype):\n",
      "/Users/gohjunwei/anaconda3/lib/python3.11/site-packages/sklearn/utils/validation.py:614: FutureWarning: is_sparse is deprecated and will be removed in a future version. Check `isinstance(dtype, pd.SparseDtype)` instead.\n",
      "  if is_sparse(pd_dtype) or not is_extension_array_dtype(pd_dtype):\n",
      "/Users/gohjunwei/anaconda3/lib/python3.11/site-packages/sklearn/utils/validation.py:605: FutureWarning: is_sparse is deprecated and will be removed in a future version. Check `isinstance(dtype, pd.SparseDtype)` instead.\n",
      "  if is_sparse(pd_dtype):\n",
      "/Users/gohjunwei/anaconda3/lib/python3.11/site-packages/sklearn/utils/validation.py:614: FutureWarning: is_sparse is deprecated and will be removed in a future version. Check `isinstance(dtype, pd.SparseDtype)` instead.\n",
      "  if is_sparse(pd_dtype) or not is_extension_array_dtype(pd_dtype):\n",
      "/Users/gohjunwei/anaconda3/lib/python3.11/site-packages/sklearn/utils/validation.py:605: FutureWarning: is_sparse is deprecated and will be removed in a future version. Check `isinstance(dtype, pd.SparseDtype)` instead.\n",
      "  if is_sparse(pd_dtype):\n",
      "/Users/gohjunwei/anaconda3/lib/python3.11/site-packages/sklearn/utils/validation.py:614: FutureWarning: is_sparse is deprecated and will be removed in a future version. Check `isinstance(dtype, pd.SparseDtype)` instead.\n",
      "  if is_sparse(pd_dtype) or not is_extension_array_dtype(pd_dtype):\n",
      "/Users/gohjunwei/anaconda3/lib/python3.11/site-packages/sklearn/utils/validation.py:605: FutureWarning: is_sparse is deprecated and will be removed in a future version. Check `isinstance(dtype, pd.SparseDtype)` instead.\n",
      "  if is_sparse(pd_dtype):\n",
      "/Users/gohjunwei/anaconda3/lib/python3.11/site-packages/sklearn/utils/validation.py:614: FutureWarning: is_sparse is deprecated and will be removed in a future version. Check `isinstance(dtype, pd.SparseDtype)` instead.\n",
      "  if is_sparse(pd_dtype) or not is_extension_array_dtype(pd_dtype):\n",
      "/Users/gohjunwei/anaconda3/lib/python3.11/site-packages/sklearn/utils/validation.py:605: FutureWarning: is_sparse is deprecated and will be removed in a future version. Check `isinstance(dtype, pd.SparseDtype)` instead.\n",
      "  if is_sparse(pd_dtype):\n",
      "/Users/gohjunwei/anaconda3/lib/python3.11/site-packages/sklearn/utils/validation.py:614: FutureWarning: is_sparse is deprecated and will be removed in a future version. Check `isinstance(dtype, pd.SparseDtype)` instead.\n",
      "  if is_sparse(pd_dtype) or not is_extension_array_dtype(pd_dtype):\n",
      "/Users/gohjunwei/anaconda3/lib/python3.11/site-packages/sklearn/utils/validation.py:605: FutureWarning: is_sparse is deprecated and will be removed in a future version. Check `isinstance(dtype, pd.SparseDtype)` instead.\n",
      "  if is_sparse(pd_dtype):\n",
      "/Users/gohjunwei/anaconda3/lib/python3.11/site-packages/sklearn/utils/validation.py:614: FutureWarning: is_sparse is deprecated and will be removed in a future version. Check `isinstance(dtype, pd.SparseDtype)` instead.\n",
      "  if is_sparse(pd_dtype) or not is_extension_array_dtype(pd_dtype):\n"
     ]
    }
   ],
   "source": [
    "from sklearn.metrics import accuracy_score\n",
    "from sklearn.metrics import f1_score\n",
    "from sklearn.metrics import classification_report\n",
    "\n",
    "accuracy = accuracy_score(y_test, y_preds_logistic)\n",
    "f1 = f1_score(y_test, y_preds_logistic)\n",
    "classification = classification_report(y_test, y_preds_logistic)\n",
    "\n",
    "print(classification)"
   ],
   "metadata": {
    "collapsed": false
   }
  },
  {
   "cell_type": "markdown",
   "source": [
    "Immediately, we see that TFIDF provides us with similar outcomes to VADER despite not having accounted for negation, etc.\n",
    "\n",
    "We proceed with additional analysis using GBTs."
   ],
   "metadata": {
    "collapsed": false
   }
  },
  {
   "cell_type": "code",
   "execution_count": 325,
   "outputs": [
    {
     "name": "stderr",
     "output_type": "stream",
     "text": [
      "/Users/gohjunwei/anaconda3/lib/python3.11/site-packages/sklearn/utils/validation.py:605: FutureWarning: is_sparse is deprecated and will be removed in a future version. Check `isinstance(dtype, pd.SparseDtype)` instead.\n",
      "  if is_sparse(pd_dtype):\n",
      "/Users/gohjunwei/anaconda3/lib/python3.11/site-packages/sklearn/utils/validation.py:614: FutureWarning: is_sparse is deprecated and will be removed in a future version. Check `isinstance(dtype, pd.SparseDtype)` instead.\n",
      "  if is_sparse(pd_dtype) or not is_extension_array_dtype(pd_dtype):\n",
      "/Users/gohjunwei/anaconda3/lib/python3.11/site-packages/sklearn/utils/validation.py:605: FutureWarning: is_sparse is deprecated and will be removed in a future version. Check `isinstance(dtype, pd.SparseDtype)` instead.\n",
      "  if is_sparse(pd_dtype):\n",
      "/Users/gohjunwei/anaconda3/lib/python3.11/site-packages/sklearn/utils/validation.py:614: FutureWarning: is_sparse is deprecated and will be removed in a future version. Check `isinstance(dtype, pd.SparseDtype)` instead.\n",
      "  if is_sparse(pd_dtype) or not is_extension_array_dtype(pd_dtype):\n",
      "/Users/gohjunwei/anaconda3/lib/python3.11/site-packages/sklearn/utils/validation.py:605: FutureWarning: is_sparse is deprecated and will be removed in a future version. Check `isinstance(dtype, pd.SparseDtype)` instead.\n",
      "  if is_sparse(pd_dtype):\n",
      "/Users/gohjunwei/anaconda3/lib/python3.11/site-packages/sklearn/utils/validation.py:614: FutureWarning: is_sparse is deprecated and will be removed in a future version. Check `isinstance(dtype, pd.SparseDtype)` instead.\n",
      "  if is_sparse(pd_dtype) or not is_extension_array_dtype(pd_dtype):\n"
     ]
    },
    {
     "name": "stdout",
     "output_type": "stream",
     "text": [
      "Fitting 3 folds for each of 25 candidates, totalling 75 fits\n"
     ]
    },
    {
     "name": "stderr",
     "output_type": "stream",
     "text": [
      "/Users/gohjunwei/anaconda3/lib/python3.11/site-packages/sklearn/utils/validation.py:605: FutureWarning: is_sparse is deprecated and will be removed in a future version. Check `isinstance(dtype, pd.SparseDtype)` instead.\n",
      "  if is_sparse(pd_dtype):\n",
      "/Users/gohjunwei/anaconda3/lib/python3.11/site-packages/sklearn/utils/validation.py:614: FutureWarning: is_sparse is deprecated and will be removed in a future version. Check `isinstance(dtype, pd.SparseDtype)` instead.\n",
      "  if is_sparse(pd_dtype) or not is_extension_array_dtype(pd_dtype):\n",
      "/Users/gohjunwei/anaconda3/lib/python3.11/site-packages/sklearn/utils/validation.py:605: FutureWarning: is_sparse is deprecated and will be removed in a future version. Check `isinstance(dtype, pd.SparseDtype)` instead.\n",
      "  if is_sparse(pd_dtype):\n",
      "/Users/gohjunwei/anaconda3/lib/python3.11/site-packages/sklearn/utils/validation.py:614: FutureWarning: is_sparse is deprecated and will be removed in a future version. Check `isinstance(dtype, pd.SparseDtype)` instead.\n",
      "  if is_sparse(pd_dtype) or not is_extension_array_dtype(pd_dtype):\n",
      "/Users/gohjunwei/anaconda3/lib/python3.11/site-packages/sklearn/utils/validation.py:605: FutureWarning: is_sparse is deprecated and will be removed in a future version. Check `isinstance(dtype, pd.SparseDtype)` instead.\n",
      "  if is_sparse(pd_dtype):\n",
      "/Users/gohjunwei/anaconda3/lib/python3.11/site-packages/sklearn/utils/validation.py:614: FutureWarning: is_sparse is deprecated and will be removed in a future version. Check `isinstance(dtype, pd.SparseDtype)` instead.\n",
      "  if is_sparse(pd_dtype) or not is_extension_array_dtype(pd_dtype):\n"
     ]
    },
    {
     "name": "stdout",
     "output_type": "stream",
     "text": [
      "[CV] END learning_rate=0.19727005942368125, max_depth=13, n_estimators=171; total time=   1.2s\n"
     ]
    },
    {
     "name": "stderr",
     "output_type": "stream",
     "text": [
      "/Users/gohjunwei/anaconda3/lib/python3.11/site-packages/sklearn/utils/validation.py:605: FutureWarning: is_sparse is deprecated and will be removed in a future version. Check `isinstance(dtype, pd.SparseDtype)` instead.\n",
      "  if is_sparse(pd_dtype):\n",
      "/Users/gohjunwei/anaconda3/lib/python3.11/site-packages/sklearn/utils/validation.py:614: FutureWarning: is_sparse is deprecated and will be removed in a future version. Check `isinstance(dtype, pd.SparseDtype)` instead.\n",
      "  if is_sparse(pd_dtype) or not is_extension_array_dtype(pd_dtype):\n",
      "/Users/gohjunwei/anaconda3/lib/python3.11/site-packages/sklearn/utils/validation.py:605: FutureWarning: is_sparse is deprecated and will be removed in a future version. Check `isinstance(dtype, pd.SparseDtype)` instead.\n",
      "  if is_sparse(pd_dtype):\n",
      "/Users/gohjunwei/anaconda3/lib/python3.11/site-packages/sklearn/utils/validation.py:614: FutureWarning: is_sparse is deprecated and will be removed in a future version. Check `isinstance(dtype, pd.SparseDtype)` instead.\n",
      "  if is_sparse(pd_dtype) or not is_extension_array_dtype(pd_dtype):\n",
      "/Users/gohjunwei/anaconda3/lib/python3.11/site-packages/sklearn/utils/validation.py:605: FutureWarning: is_sparse is deprecated and will be removed in a future version. Check `isinstance(dtype, pd.SparseDtype)` instead.\n",
      "  if is_sparse(pd_dtype):\n",
      "/Users/gohjunwei/anaconda3/lib/python3.11/site-packages/sklearn/utils/validation.py:614: FutureWarning: is_sparse is deprecated and will be removed in a future version. Check `isinstance(dtype, pd.SparseDtype)` instead.\n",
      "  if is_sparse(pd_dtype) or not is_extension_array_dtype(pd_dtype):\n"
     ]
    },
    {
     "name": "stdout",
     "output_type": "stream",
     "text": [
      "[CV] END learning_rate=0.19727005942368125, max_depth=13, n_estimators=171; total time=   1.0s\n"
     ]
    },
    {
     "name": "stderr",
     "output_type": "stream",
     "text": [
      "/Users/gohjunwei/anaconda3/lib/python3.11/site-packages/sklearn/utils/validation.py:605: FutureWarning: is_sparse is deprecated and will be removed in a future version. Check `isinstance(dtype, pd.SparseDtype)` instead.\n",
      "  if is_sparse(pd_dtype):\n",
      "/Users/gohjunwei/anaconda3/lib/python3.11/site-packages/sklearn/utils/validation.py:614: FutureWarning: is_sparse is deprecated and will be removed in a future version. Check `isinstance(dtype, pd.SparseDtype)` instead.\n",
      "  if is_sparse(pd_dtype) or not is_extension_array_dtype(pd_dtype):\n",
      "/Users/gohjunwei/anaconda3/lib/python3.11/site-packages/sklearn/utils/validation.py:605: FutureWarning: is_sparse is deprecated and will be removed in a future version. Check `isinstance(dtype, pd.SparseDtype)` instead.\n",
      "  if is_sparse(pd_dtype):\n",
      "/Users/gohjunwei/anaconda3/lib/python3.11/site-packages/sklearn/utils/validation.py:614: FutureWarning: is_sparse is deprecated and will be removed in a future version. Check `isinstance(dtype, pd.SparseDtype)` instead.\n",
      "  if is_sparse(pd_dtype) or not is_extension_array_dtype(pd_dtype):\n",
      "/Users/gohjunwei/anaconda3/lib/python3.11/site-packages/sklearn/utils/validation.py:605: FutureWarning: is_sparse is deprecated and will be removed in a future version. Check `isinstance(dtype, pd.SparseDtype)` instead.\n",
      "  if is_sparse(pd_dtype):\n",
      "/Users/gohjunwei/anaconda3/lib/python3.11/site-packages/sklearn/utils/validation.py:614: FutureWarning: is_sparse is deprecated and will be removed in a future version. Check `isinstance(dtype, pd.SparseDtype)` instead.\n",
      "  if is_sparse(pd_dtype) or not is_extension_array_dtype(pd_dtype):\n"
     ]
    },
    {
     "name": "stdout",
     "output_type": "stream",
     "text": [
      "[CV] END learning_rate=0.19727005942368125, max_depth=13, n_estimators=171; total time=   1.0s\n"
     ]
    },
    {
     "name": "stderr",
     "output_type": "stream",
     "text": [
      "/Users/gohjunwei/anaconda3/lib/python3.11/site-packages/sklearn/utils/validation.py:605: FutureWarning: is_sparse is deprecated and will be removed in a future version. Check `isinstance(dtype, pd.SparseDtype)` instead.\n",
      "  if is_sparse(pd_dtype):\n",
      "/Users/gohjunwei/anaconda3/lib/python3.11/site-packages/sklearn/utils/validation.py:614: FutureWarning: is_sparse is deprecated and will be removed in a future version. Check `isinstance(dtype, pd.SparseDtype)` instead.\n",
      "  if is_sparse(pd_dtype) or not is_extension_array_dtype(pd_dtype):\n",
      "/Users/gohjunwei/anaconda3/lib/python3.11/site-packages/sklearn/utils/validation.py:605: FutureWarning: is_sparse is deprecated and will be removed in a future version. Check `isinstance(dtype, pd.SparseDtype)` instead.\n",
      "  if is_sparse(pd_dtype):\n",
      "/Users/gohjunwei/anaconda3/lib/python3.11/site-packages/sklearn/utils/validation.py:614: FutureWarning: is_sparse is deprecated and will be removed in a future version. Check `isinstance(dtype, pd.SparseDtype)` instead.\n",
      "  if is_sparse(pd_dtype) or not is_extension_array_dtype(pd_dtype):\n",
      "/Users/gohjunwei/anaconda3/lib/python3.11/site-packages/sklearn/utils/validation.py:605: FutureWarning: is_sparse is deprecated and will be removed in a future version. Check `isinstance(dtype, pd.SparseDtype)` instead.\n",
      "  if is_sparse(pd_dtype):\n",
      "/Users/gohjunwei/anaconda3/lib/python3.11/site-packages/sklearn/utils/validation.py:614: FutureWarning: is_sparse is deprecated and will be removed in a future version. Check `isinstance(dtype, pd.SparseDtype)` instead.\n",
      "  if is_sparse(pd_dtype) or not is_extension_array_dtype(pd_dtype):\n"
     ]
    },
    {
     "name": "stdout",
     "output_type": "stream",
     "text": [
      "[CV] END learning_rate=0.3093292420985183, max_depth=9, n_estimators=221; total time=   0.9s\n"
     ]
    },
    {
     "name": "stderr",
     "output_type": "stream",
     "text": [
      "/Users/gohjunwei/anaconda3/lib/python3.11/site-packages/sklearn/utils/validation.py:605: FutureWarning: is_sparse is deprecated and will be removed in a future version. Check `isinstance(dtype, pd.SparseDtype)` instead.\n",
      "  if is_sparse(pd_dtype):\n",
      "/Users/gohjunwei/anaconda3/lib/python3.11/site-packages/sklearn/utils/validation.py:614: FutureWarning: is_sparse is deprecated and will be removed in a future version. Check `isinstance(dtype, pd.SparseDtype)` instead.\n",
      "  if is_sparse(pd_dtype) or not is_extension_array_dtype(pd_dtype):\n",
      "/Users/gohjunwei/anaconda3/lib/python3.11/site-packages/sklearn/utils/validation.py:605: FutureWarning: is_sparse is deprecated and will be removed in a future version. Check `isinstance(dtype, pd.SparseDtype)` instead.\n",
      "  if is_sparse(pd_dtype):\n",
      "/Users/gohjunwei/anaconda3/lib/python3.11/site-packages/sklearn/utils/validation.py:614: FutureWarning: is_sparse is deprecated and will be removed in a future version. Check `isinstance(dtype, pd.SparseDtype)` instead.\n",
      "  if is_sparse(pd_dtype) or not is_extension_array_dtype(pd_dtype):\n",
      "/Users/gohjunwei/anaconda3/lib/python3.11/site-packages/sklearn/utils/validation.py:605: FutureWarning: is_sparse is deprecated and will be removed in a future version. Check `isinstance(dtype, pd.SparseDtype)` instead.\n",
      "  if is_sparse(pd_dtype):\n",
      "/Users/gohjunwei/anaconda3/lib/python3.11/site-packages/sklearn/utils/validation.py:614: FutureWarning: is_sparse is deprecated and will be removed in a future version. Check `isinstance(dtype, pd.SparseDtype)` instead.\n",
      "  if is_sparse(pd_dtype) or not is_extension_array_dtype(pd_dtype):\n"
     ]
    },
    {
     "name": "stdout",
     "output_type": "stream",
     "text": [
      "[CV] END learning_rate=0.3093292420985183, max_depth=9, n_estimators=221; total time=   0.9s\n"
     ]
    },
    {
     "name": "stderr",
     "output_type": "stream",
     "text": [
      "/Users/gohjunwei/anaconda3/lib/python3.11/site-packages/sklearn/utils/validation.py:605: FutureWarning: is_sparse is deprecated and will be removed in a future version. Check `isinstance(dtype, pd.SparseDtype)` instead.\n",
      "  if is_sparse(pd_dtype):\n",
      "/Users/gohjunwei/anaconda3/lib/python3.11/site-packages/sklearn/utils/validation.py:614: FutureWarning: is_sparse is deprecated and will be removed in a future version. Check `isinstance(dtype, pd.SparseDtype)` instead.\n",
      "  if is_sparse(pd_dtype) or not is_extension_array_dtype(pd_dtype):\n",
      "/Users/gohjunwei/anaconda3/lib/python3.11/site-packages/sklearn/utils/validation.py:605: FutureWarning: is_sparse is deprecated and will be removed in a future version. Check `isinstance(dtype, pd.SparseDtype)` instead.\n",
      "  if is_sparse(pd_dtype):\n",
      "/Users/gohjunwei/anaconda3/lib/python3.11/site-packages/sklearn/utils/validation.py:614: FutureWarning: is_sparse is deprecated and will be removed in a future version. Check `isinstance(dtype, pd.SparseDtype)` instead.\n",
      "  if is_sparse(pd_dtype) or not is_extension_array_dtype(pd_dtype):\n",
      "/Users/gohjunwei/anaconda3/lib/python3.11/site-packages/sklearn/utils/validation.py:605: FutureWarning: is_sparse is deprecated and will be removed in a future version. Check `isinstance(dtype, pd.SparseDtype)` instead.\n",
      "  if is_sparse(pd_dtype):\n",
      "/Users/gohjunwei/anaconda3/lib/python3.11/site-packages/sklearn/utils/validation.py:614: FutureWarning: is_sparse is deprecated and will be removed in a future version. Check `isinstance(dtype, pd.SparseDtype)` instead.\n",
      "  if is_sparse(pd_dtype) or not is_extension_array_dtype(pd_dtype):\n"
     ]
    },
    {
     "name": "stdout",
     "output_type": "stream",
     "text": [
      "[CV] END learning_rate=0.3093292420985183, max_depth=9, n_estimators=221; total time=   0.8s\n"
     ]
    },
    {
     "name": "stderr",
     "output_type": "stream",
     "text": [
      "/Users/gohjunwei/anaconda3/lib/python3.11/site-packages/sklearn/utils/validation.py:605: FutureWarning: is_sparse is deprecated and will be removed in a future version. Check `isinstance(dtype, pd.SparseDtype)` instead.\n",
      "  if is_sparse(pd_dtype):\n",
      "/Users/gohjunwei/anaconda3/lib/python3.11/site-packages/sklearn/utils/validation.py:614: FutureWarning: is_sparse is deprecated and will be removed in a future version. Check `isinstance(dtype, pd.SparseDtype)` instead.\n",
      "  if is_sparse(pd_dtype) or not is_extension_array_dtype(pd_dtype):\n",
      "/Users/gohjunwei/anaconda3/lib/python3.11/site-packages/sklearn/utils/validation.py:605: FutureWarning: is_sparse is deprecated and will be removed in a future version. Check `isinstance(dtype, pd.SparseDtype)` instead.\n",
      "  if is_sparse(pd_dtype):\n",
      "/Users/gohjunwei/anaconda3/lib/python3.11/site-packages/sklearn/utils/validation.py:614: FutureWarning: is_sparse is deprecated and will be removed in a future version. Check `isinstance(dtype, pd.SparseDtype)` instead.\n",
      "  if is_sparse(pd_dtype) or not is_extension_array_dtype(pd_dtype):\n",
      "/Users/gohjunwei/anaconda3/lib/python3.11/site-packages/sklearn/utils/validation.py:605: FutureWarning: is_sparse is deprecated and will be removed in a future version. Check `isinstance(dtype, pd.SparseDtype)` instead.\n",
      "  if is_sparse(pd_dtype):\n",
      "/Users/gohjunwei/anaconda3/lib/python3.11/site-packages/sklearn/utils/validation.py:614: FutureWarning: is_sparse is deprecated and will be removed in a future version. Check `isinstance(dtype, pd.SparseDtype)` instead.\n",
      "  if is_sparse(pd_dtype) or not is_extension_array_dtype(pd_dtype):\n"
     ]
    },
    {
     "name": "stdout",
     "output_type": "stream",
     "text": [
      "[CV] END learning_rate=0.08799726016810132, max_depth=13, n_estimators=558; total time=   2.9s\n"
     ]
    },
    {
     "name": "stderr",
     "output_type": "stream",
     "text": [
      "/Users/gohjunwei/anaconda3/lib/python3.11/site-packages/sklearn/utils/validation.py:605: FutureWarning: is_sparse is deprecated and will be removed in a future version. Check `isinstance(dtype, pd.SparseDtype)` instead.\n",
      "  if is_sparse(pd_dtype):\n",
      "/Users/gohjunwei/anaconda3/lib/python3.11/site-packages/sklearn/utils/validation.py:614: FutureWarning: is_sparse is deprecated and will be removed in a future version. Check `isinstance(dtype, pd.SparseDtype)` instead.\n",
      "  if is_sparse(pd_dtype) or not is_extension_array_dtype(pd_dtype):\n",
      "/Users/gohjunwei/anaconda3/lib/python3.11/site-packages/sklearn/utils/validation.py:605: FutureWarning: is_sparse is deprecated and will be removed in a future version. Check `isinstance(dtype, pd.SparseDtype)` instead.\n",
      "  if is_sparse(pd_dtype):\n",
      "/Users/gohjunwei/anaconda3/lib/python3.11/site-packages/sklearn/utils/validation.py:614: FutureWarning: is_sparse is deprecated and will be removed in a future version. Check `isinstance(dtype, pd.SparseDtype)` instead.\n",
      "  if is_sparse(pd_dtype) or not is_extension_array_dtype(pd_dtype):\n",
      "/Users/gohjunwei/anaconda3/lib/python3.11/site-packages/sklearn/utils/validation.py:605: FutureWarning: is_sparse is deprecated and will be removed in a future version. Check `isinstance(dtype, pd.SparseDtype)` instead.\n",
      "  if is_sparse(pd_dtype):\n",
      "/Users/gohjunwei/anaconda3/lib/python3.11/site-packages/sklearn/utils/validation.py:614: FutureWarning: is_sparse is deprecated and will be removed in a future version. Check `isinstance(dtype, pd.SparseDtype)` instead.\n",
      "  if is_sparse(pd_dtype) or not is_extension_array_dtype(pd_dtype):\n"
     ]
    },
    {
     "name": "stdout",
     "output_type": "stream",
     "text": [
      "[CV] END learning_rate=0.08799726016810132, max_depth=13, n_estimators=558; total time=   3.2s\n"
     ]
    },
    {
     "name": "stderr",
     "output_type": "stream",
     "text": [
      "/Users/gohjunwei/anaconda3/lib/python3.11/site-packages/sklearn/utils/validation.py:605: FutureWarning: is_sparse is deprecated and will be removed in a future version. Check `isinstance(dtype, pd.SparseDtype)` instead.\n",
      "  if is_sparse(pd_dtype):\n",
      "/Users/gohjunwei/anaconda3/lib/python3.11/site-packages/sklearn/utils/validation.py:614: FutureWarning: is_sparse is deprecated and will be removed in a future version. Check `isinstance(dtype, pd.SparseDtype)` instead.\n",
      "  if is_sparse(pd_dtype) or not is_extension_array_dtype(pd_dtype):\n",
      "/Users/gohjunwei/anaconda3/lib/python3.11/site-packages/sklearn/utils/validation.py:605: FutureWarning: is_sparse is deprecated and will be removed in a future version. Check `isinstance(dtype, pd.SparseDtype)` instead.\n",
      "  if is_sparse(pd_dtype):\n",
      "/Users/gohjunwei/anaconda3/lib/python3.11/site-packages/sklearn/utils/validation.py:614: FutureWarning: is_sparse is deprecated and will be removed in a future version. Check `isinstance(dtype, pd.SparseDtype)` instead.\n",
      "  if is_sparse(pd_dtype) or not is_extension_array_dtype(pd_dtype):\n",
      "/Users/gohjunwei/anaconda3/lib/python3.11/site-packages/sklearn/utils/validation.py:605: FutureWarning: is_sparse is deprecated and will be removed in a future version. Check `isinstance(dtype, pd.SparseDtype)` instead.\n",
      "  if is_sparse(pd_dtype):\n",
      "/Users/gohjunwei/anaconda3/lib/python3.11/site-packages/sklearn/utils/validation.py:614: FutureWarning: is_sparse is deprecated and will be removed in a future version. Check `isinstance(dtype, pd.SparseDtype)` instead.\n",
      "  if is_sparse(pd_dtype) or not is_extension_array_dtype(pd_dtype):\n"
     ]
    },
    {
     "name": "stdout",
     "output_type": "stream",
     "text": [
      "[CV] END learning_rate=0.08799726016810132, max_depth=13, n_estimators=558; total time=   2.9s\n"
     ]
    },
    {
     "name": "stderr",
     "output_type": "stream",
     "text": [
      "/Users/gohjunwei/anaconda3/lib/python3.11/site-packages/sklearn/utils/validation.py:605: FutureWarning: is_sparse is deprecated and will be removed in a future version. Check `isinstance(dtype, pd.SparseDtype)` instead.\n",
      "  if is_sparse(pd_dtype):\n",
      "/Users/gohjunwei/anaconda3/lib/python3.11/site-packages/sklearn/utils/validation.py:614: FutureWarning: is_sparse is deprecated and will be removed in a future version. Check `isinstance(dtype, pd.SparseDtype)` instead.\n",
      "  if is_sparse(pd_dtype) or not is_extension_array_dtype(pd_dtype):\n",
      "/Users/gohjunwei/anaconda3/lib/python3.11/site-packages/sklearn/utils/validation.py:605: FutureWarning: is_sparse is deprecated and will be removed in a future version. Check `isinstance(dtype, pd.SparseDtype)` instead.\n",
      "  if is_sparse(pd_dtype):\n",
      "/Users/gohjunwei/anaconda3/lib/python3.11/site-packages/sklearn/utils/validation.py:614: FutureWarning: is_sparse is deprecated and will be removed in a future version. Check `isinstance(dtype, pd.SparseDtype)` instead.\n",
      "  if is_sparse(pd_dtype) or not is_extension_array_dtype(pd_dtype):\n",
      "/Users/gohjunwei/anaconda3/lib/python3.11/site-packages/sklearn/utils/validation.py:605: FutureWarning: is_sparse is deprecated and will be removed in a future version. Check `isinstance(dtype, pd.SparseDtype)` instead.\n",
      "  if is_sparse(pd_dtype):\n",
      "/Users/gohjunwei/anaconda3/lib/python3.11/site-packages/sklearn/utils/validation.py:614: FutureWarning: is_sparse is deprecated and will be removed in a future version. Check `isinstance(dtype, pd.SparseDtype)` instead.\n",
      "  if is_sparse(pd_dtype) or not is_extension_array_dtype(pd_dtype):\n"
     ]
    },
    {
     "name": "stdout",
     "output_type": "stream",
     "text": [
      "[CV] END learning_rate=0.4430880728874676, max_depth=6, n_estimators=971; total time=   2.3s\n"
     ]
    },
    {
     "name": "stderr",
     "output_type": "stream",
     "text": [
      "/Users/gohjunwei/anaconda3/lib/python3.11/site-packages/sklearn/utils/validation.py:605: FutureWarning: is_sparse is deprecated and will be removed in a future version. Check `isinstance(dtype, pd.SparseDtype)` instead.\n",
      "  if is_sparse(pd_dtype):\n",
      "/Users/gohjunwei/anaconda3/lib/python3.11/site-packages/sklearn/utils/validation.py:614: FutureWarning: is_sparse is deprecated and will be removed in a future version. Check `isinstance(dtype, pd.SparseDtype)` instead.\n",
      "  if is_sparse(pd_dtype) or not is_extension_array_dtype(pd_dtype):\n",
      "/Users/gohjunwei/anaconda3/lib/python3.11/site-packages/sklearn/utils/validation.py:605: FutureWarning: is_sparse is deprecated and will be removed in a future version. Check `isinstance(dtype, pd.SparseDtype)` instead.\n",
      "  if is_sparse(pd_dtype):\n",
      "/Users/gohjunwei/anaconda3/lib/python3.11/site-packages/sklearn/utils/validation.py:614: FutureWarning: is_sparse is deprecated and will be removed in a future version. Check `isinstance(dtype, pd.SparseDtype)` instead.\n",
      "  if is_sparse(pd_dtype) or not is_extension_array_dtype(pd_dtype):\n",
      "/Users/gohjunwei/anaconda3/lib/python3.11/site-packages/sklearn/utils/validation.py:605: FutureWarning: is_sparse is deprecated and will be removed in a future version. Check `isinstance(dtype, pd.SparseDtype)` instead.\n",
      "  if is_sparse(pd_dtype):\n",
      "/Users/gohjunwei/anaconda3/lib/python3.11/site-packages/sklearn/utils/validation.py:614: FutureWarning: is_sparse is deprecated and will be removed in a future version. Check `isinstance(dtype, pd.SparseDtype)` instead.\n",
      "  if is_sparse(pd_dtype) or not is_extension_array_dtype(pd_dtype):\n"
     ]
    },
    {
     "name": "stdout",
     "output_type": "stream",
     "text": [
      "[CV] END learning_rate=0.4430880728874676, max_depth=6, n_estimators=971; total time=   2.3s\n"
     ]
    },
    {
     "name": "stderr",
     "output_type": "stream",
     "text": [
      "/Users/gohjunwei/anaconda3/lib/python3.11/site-packages/sklearn/utils/validation.py:605: FutureWarning: is_sparse is deprecated and will be removed in a future version. Check `isinstance(dtype, pd.SparseDtype)` instead.\n",
      "  if is_sparse(pd_dtype):\n",
      "/Users/gohjunwei/anaconda3/lib/python3.11/site-packages/sklearn/utils/validation.py:614: FutureWarning: is_sparse is deprecated and will be removed in a future version. Check `isinstance(dtype, pd.SparseDtype)` instead.\n",
      "  if is_sparse(pd_dtype) or not is_extension_array_dtype(pd_dtype):\n",
      "/Users/gohjunwei/anaconda3/lib/python3.11/site-packages/sklearn/utils/validation.py:605: FutureWarning: is_sparse is deprecated and will be removed in a future version. Check `isinstance(dtype, pd.SparseDtype)` instead.\n",
      "  if is_sparse(pd_dtype):\n",
      "/Users/gohjunwei/anaconda3/lib/python3.11/site-packages/sklearn/utils/validation.py:614: FutureWarning: is_sparse is deprecated and will be removed in a future version. Check `isinstance(dtype, pd.SparseDtype)` instead.\n",
      "  if is_sparse(pd_dtype) or not is_extension_array_dtype(pd_dtype):\n",
      "/Users/gohjunwei/anaconda3/lib/python3.11/site-packages/sklearn/utils/validation.py:605: FutureWarning: is_sparse is deprecated and will be removed in a future version. Check `isinstance(dtype, pd.SparseDtype)` instead.\n",
      "  if is_sparse(pd_dtype):\n",
      "/Users/gohjunwei/anaconda3/lib/python3.11/site-packages/sklearn/utils/validation.py:614: FutureWarning: is_sparse is deprecated and will be removed in a future version. Check `isinstance(dtype, pd.SparseDtype)` instead.\n",
      "  if is_sparse(pd_dtype) or not is_extension_array_dtype(pd_dtype):\n"
     ]
    },
    {
     "name": "stdout",
     "output_type": "stream",
     "text": [
      "[CV] END learning_rate=0.4430880728874676, max_depth=6, n_estimators=971; total time=   2.0s\n"
     ]
    },
    {
     "name": "stderr",
     "output_type": "stream",
     "text": [
      "/Users/gohjunwei/anaconda3/lib/python3.11/site-packages/sklearn/utils/validation.py:605: FutureWarning: is_sparse is deprecated and will be removed in a future version. Check `isinstance(dtype, pd.SparseDtype)` instead.\n",
      "  if is_sparse(pd_dtype):\n",
      "/Users/gohjunwei/anaconda3/lib/python3.11/site-packages/sklearn/utils/validation.py:614: FutureWarning: is_sparse is deprecated and will be removed in a future version. Check `isinstance(dtype, pd.SparseDtype)` instead.\n",
      "  if is_sparse(pd_dtype) or not is_extension_array_dtype(pd_dtype):\n",
      "/Users/gohjunwei/anaconda3/lib/python3.11/site-packages/sklearn/utils/validation.py:605: FutureWarning: is_sparse is deprecated and will be removed in a future version. Check `isinstance(dtype, pd.SparseDtype)` instead.\n",
      "  if is_sparse(pd_dtype):\n",
      "/Users/gohjunwei/anaconda3/lib/python3.11/site-packages/sklearn/utils/validation.py:614: FutureWarning: is_sparse is deprecated and will be removed in a future version. Check `isinstance(dtype, pd.SparseDtype)` instead.\n",
      "  if is_sparse(pd_dtype) or not is_extension_array_dtype(pd_dtype):\n",
      "/Users/gohjunwei/anaconda3/lib/python3.11/site-packages/sklearn/utils/validation.py:605: FutureWarning: is_sparse is deprecated and will be removed in a future version. Check `isinstance(dtype, pd.SparseDtype)` instead.\n",
      "  if is_sparse(pd_dtype):\n",
      "/Users/gohjunwei/anaconda3/lib/python3.11/site-packages/sklearn/utils/validation.py:614: FutureWarning: is_sparse is deprecated and will be removed in a future version. Check `isinstance(dtype, pd.SparseDtype)` instead.\n",
      "  if is_sparse(pd_dtype) or not is_extension_array_dtype(pd_dtype):\n"
     ]
    },
    {
     "name": "stdout",
     "output_type": "stream",
     "text": [
      "[CV] END learning_rate=0.36403628889802275, max_depth=8, n_estimators=408; total time=   1.1s\n"
     ]
    },
    {
     "name": "stderr",
     "output_type": "stream",
     "text": [
      "/Users/gohjunwei/anaconda3/lib/python3.11/site-packages/sklearn/utils/validation.py:605: FutureWarning: is_sparse is deprecated and will be removed in a future version. Check `isinstance(dtype, pd.SparseDtype)` instead.\n",
      "  if is_sparse(pd_dtype):\n",
      "/Users/gohjunwei/anaconda3/lib/python3.11/site-packages/sklearn/utils/validation.py:614: FutureWarning: is_sparse is deprecated and will be removed in a future version. Check `isinstance(dtype, pd.SparseDtype)` instead.\n",
      "  if is_sparse(pd_dtype) or not is_extension_array_dtype(pd_dtype):\n",
      "/Users/gohjunwei/anaconda3/lib/python3.11/site-packages/sklearn/utils/validation.py:605: FutureWarning: is_sparse is deprecated and will be removed in a future version. Check `isinstance(dtype, pd.SparseDtype)` instead.\n",
      "  if is_sparse(pd_dtype):\n",
      "/Users/gohjunwei/anaconda3/lib/python3.11/site-packages/sklearn/utils/validation.py:614: FutureWarning: is_sparse is deprecated and will be removed in a future version. Check `isinstance(dtype, pd.SparseDtype)` instead.\n",
      "  if is_sparse(pd_dtype) or not is_extension_array_dtype(pd_dtype):\n",
      "/Users/gohjunwei/anaconda3/lib/python3.11/site-packages/sklearn/utils/validation.py:605: FutureWarning: is_sparse is deprecated and will be removed in a future version. Check `isinstance(dtype, pd.SparseDtype)` instead.\n",
      "  if is_sparse(pd_dtype):\n",
      "/Users/gohjunwei/anaconda3/lib/python3.11/site-packages/sklearn/utils/validation.py:614: FutureWarning: is_sparse is deprecated and will be removed in a future version. Check `isinstance(dtype, pd.SparseDtype)` instead.\n",
      "  if is_sparse(pd_dtype) or not is_extension_array_dtype(pd_dtype):\n"
     ]
    },
    {
     "name": "stdout",
     "output_type": "stream",
     "text": [
      "[CV] END learning_rate=0.36403628889802275, max_depth=8, n_estimators=408; total time=   1.1s\n"
     ]
    },
    {
     "name": "stderr",
     "output_type": "stream",
     "text": [
      "/Users/gohjunwei/anaconda3/lib/python3.11/site-packages/sklearn/utils/validation.py:605: FutureWarning: is_sparse is deprecated and will be removed in a future version. Check `isinstance(dtype, pd.SparseDtype)` instead.\n",
      "  if is_sparse(pd_dtype):\n",
      "/Users/gohjunwei/anaconda3/lib/python3.11/site-packages/sklearn/utils/validation.py:614: FutureWarning: is_sparse is deprecated and will be removed in a future version. Check `isinstance(dtype, pd.SparseDtype)` instead.\n",
      "  if is_sparse(pd_dtype) or not is_extension_array_dtype(pd_dtype):\n",
      "/Users/gohjunwei/anaconda3/lib/python3.11/site-packages/sklearn/utils/validation.py:605: FutureWarning: is_sparse is deprecated and will be removed in a future version. Check `isinstance(dtype, pd.SparseDtype)` instead.\n",
      "  if is_sparse(pd_dtype):\n",
      "/Users/gohjunwei/anaconda3/lib/python3.11/site-packages/sklearn/utils/validation.py:614: FutureWarning: is_sparse is deprecated and will be removed in a future version. Check `isinstance(dtype, pd.SparseDtype)` instead.\n",
      "  if is_sparse(pd_dtype) or not is_extension_array_dtype(pd_dtype):\n",
      "/Users/gohjunwei/anaconda3/lib/python3.11/site-packages/sklearn/utils/validation.py:605: FutureWarning: is_sparse is deprecated and will be removed in a future version. Check `isinstance(dtype, pd.SparseDtype)` instead.\n",
      "  if is_sparse(pd_dtype):\n",
      "/Users/gohjunwei/anaconda3/lib/python3.11/site-packages/sklearn/utils/validation.py:614: FutureWarning: is_sparse is deprecated and will be removed in a future version. Check `isinstance(dtype, pd.SparseDtype)` instead.\n",
      "  if is_sparse(pd_dtype) or not is_extension_array_dtype(pd_dtype):\n"
     ]
    },
    {
     "name": "stdout",
     "output_type": "stream",
     "text": [
      "[CV] END learning_rate=0.36403628889802275, max_depth=8, n_estimators=408; total time=   1.4s\n"
     ]
    },
    {
     "name": "stderr",
     "output_type": "stream",
     "text": [
      "/Users/gohjunwei/anaconda3/lib/python3.11/site-packages/sklearn/utils/validation.py:605: FutureWarning: is_sparse is deprecated and will be removed in a future version. Check `isinstance(dtype, pd.SparseDtype)` instead.\n",
      "  if is_sparse(pd_dtype):\n",
      "/Users/gohjunwei/anaconda3/lib/python3.11/site-packages/sklearn/utils/validation.py:614: FutureWarning: is_sparse is deprecated and will be removed in a future version. Check `isinstance(dtype, pd.SparseDtype)` instead.\n",
      "  if is_sparse(pd_dtype) or not is_extension_array_dtype(pd_dtype):\n",
      "/Users/gohjunwei/anaconda3/lib/python3.11/site-packages/sklearn/utils/validation.py:605: FutureWarning: is_sparse is deprecated and will be removed in a future version. Check `isinstance(dtype, pd.SparseDtype)` instead.\n",
      "  if is_sparse(pd_dtype):\n",
      "/Users/gohjunwei/anaconda3/lib/python3.11/site-packages/sklearn/utils/validation.py:614: FutureWarning: is_sparse is deprecated and will be removed in a future version. Check `isinstance(dtype, pd.SparseDtype)` instead.\n",
      "  if is_sparse(pd_dtype) or not is_extension_array_dtype(pd_dtype):\n",
      "/Users/gohjunwei/anaconda3/lib/python3.11/site-packages/sklearn/utils/validation.py:605: FutureWarning: is_sparse is deprecated and will be removed in a future version. Check `isinstance(dtype, pd.SparseDtype)` instead.\n",
      "  if is_sparse(pd_dtype):\n",
      "/Users/gohjunwei/anaconda3/lib/python3.11/site-packages/sklearn/utils/validation.py:614: FutureWarning: is_sparse is deprecated and will be removed in a future version. Check `isinstance(dtype, pd.SparseDtype)` instead.\n",
      "  if is_sparse(pd_dtype) or not is_extension_array_dtype(pd_dtype):\n"
     ]
    },
    {
     "name": "stdout",
     "output_type": "stream",
     "text": [
      "[CV] END learning_rate=0.49495492608099717, max_depth=14, n_estimators=513; total time=   2.8s\n"
     ]
    },
    {
     "name": "stderr",
     "output_type": "stream",
     "text": [
      "/Users/gohjunwei/anaconda3/lib/python3.11/site-packages/sklearn/utils/validation.py:605: FutureWarning: is_sparse is deprecated and will be removed in a future version. Check `isinstance(dtype, pd.SparseDtype)` instead.\n",
      "  if is_sparse(pd_dtype):\n",
      "/Users/gohjunwei/anaconda3/lib/python3.11/site-packages/sklearn/utils/validation.py:614: FutureWarning: is_sparse is deprecated and will be removed in a future version. Check `isinstance(dtype, pd.SparseDtype)` instead.\n",
      "  if is_sparse(pd_dtype) or not is_extension_array_dtype(pd_dtype):\n",
      "/Users/gohjunwei/anaconda3/lib/python3.11/site-packages/sklearn/utils/validation.py:605: FutureWarning: is_sparse is deprecated and will be removed in a future version. Check `isinstance(dtype, pd.SparseDtype)` instead.\n",
      "  if is_sparse(pd_dtype):\n",
      "/Users/gohjunwei/anaconda3/lib/python3.11/site-packages/sklearn/utils/validation.py:614: FutureWarning: is_sparse is deprecated and will be removed in a future version. Check `isinstance(dtype, pd.SparseDtype)` instead.\n",
      "  if is_sparse(pd_dtype) or not is_extension_array_dtype(pd_dtype):\n",
      "/Users/gohjunwei/anaconda3/lib/python3.11/site-packages/sklearn/utils/validation.py:605: FutureWarning: is_sparse is deprecated and will be removed in a future version. Check `isinstance(dtype, pd.SparseDtype)` instead.\n",
      "  if is_sparse(pd_dtype):\n",
      "/Users/gohjunwei/anaconda3/lib/python3.11/site-packages/sklearn/utils/validation.py:614: FutureWarning: is_sparse is deprecated and will be removed in a future version. Check `isinstance(dtype, pd.SparseDtype)` instead.\n",
      "  if is_sparse(pd_dtype) or not is_extension_array_dtype(pd_dtype):\n"
     ]
    },
    {
     "name": "stdout",
     "output_type": "stream",
     "text": [
      "[CV] END learning_rate=0.49495492608099717, max_depth=14, n_estimators=513; total time=   3.2s\n"
     ]
    },
    {
     "name": "stderr",
     "output_type": "stream",
     "text": [
      "/Users/gohjunwei/anaconda3/lib/python3.11/site-packages/sklearn/utils/validation.py:605: FutureWarning: is_sparse is deprecated and will be removed in a future version. Check `isinstance(dtype, pd.SparseDtype)` instead.\n",
      "  if is_sparse(pd_dtype):\n",
      "/Users/gohjunwei/anaconda3/lib/python3.11/site-packages/sklearn/utils/validation.py:614: FutureWarning: is_sparse is deprecated and will be removed in a future version. Check `isinstance(dtype, pd.SparseDtype)` instead.\n",
      "  if is_sparse(pd_dtype) or not is_extension_array_dtype(pd_dtype):\n",
      "/Users/gohjunwei/anaconda3/lib/python3.11/site-packages/sklearn/utils/validation.py:605: FutureWarning: is_sparse is deprecated and will be removed in a future version. Check `isinstance(dtype, pd.SparseDtype)` instead.\n",
      "  if is_sparse(pd_dtype):\n",
      "/Users/gohjunwei/anaconda3/lib/python3.11/site-packages/sklearn/utils/validation.py:614: FutureWarning: is_sparse is deprecated and will be removed in a future version. Check `isinstance(dtype, pd.SparseDtype)` instead.\n",
      "  if is_sparse(pd_dtype) or not is_extension_array_dtype(pd_dtype):\n",
      "/Users/gohjunwei/anaconda3/lib/python3.11/site-packages/sklearn/utils/validation.py:605: FutureWarning: is_sparse is deprecated and will be removed in a future version. Check `isinstance(dtype, pd.SparseDtype)` instead.\n",
      "  if is_sparse(pd_dtype):\n",
      "/Users/gohjunwei/anaconda3/lib/python3.11/site-packages/sklearn/utils/validation.py:614: FutureWarning: is_sparse is deprecated and will be removed in a future version. Check `isinstance(dtype, pd.SparseDtype)` instead.\n",
      "  if is_sparse(pd_dtype) or not is_extension_array_dtype(pd_dtype):\n"
     ]
    },
    {
     "name": "stdout",
     "output_type": "stream",
     "text": [
      "[CV] END learning_rate=0.49495492608099717, max_depth=14, n_estimators=513; total time=   2.9s\n"
     ]
    },
    {
     "name": "stderr",
     "output_type": "stream",
     "text": [
      "/Users/gohjunwei/anaconda3/lib/python3.11/site-packages/sklearn/utils/validation.py:605: FutureWarning: is_sparse is deprecated and will be removed in a future version. Check `isinstance(dtype, pd.SparseDtype)` instead.\n",
      "  if is_sparse(pd_dtype):\n",
      "/Users/gohjunwei/anaconda3/lib/python3.11/site-packages/sklearn/utils/validation.py:614: FutureWarning: is_sparse is deprecated and will be removed in a future version. Check `isinstance(dtype, pd.SparseDtype)` instead.\n",
      "  if is_sparse(pd_dtype) or not is_extension_array_dtype(pd_dtype):\n",
      "/Users/gohjunwei/anaconda3/lib/python3.11/site-packages/sklearn/utils/validation.py:605: FutureWarning: is_sparse is deprecated and will be removed in a future version. Check `isinstance(dtype, pd.SparseDtype)` instead.\n",
      "  if is_sparse(pd_dtype):\n",
      "/Users/gohjunwei/anaconda3/lib/python3.11/site-packages/sklearn/utils/validation.py:614: FutureWarning: is_sparse is deprecated and will be removed in a future version. Check `isinstance(dtype, pd.SparseDtype)` instead.\n",
      "  if is_sparse(pd_dtype) or not is_extension_array_dtype(pd_dtype):\n",
      "/Users/gohjunwei/anaconda3/lib/python3.11/site-packages/sklearn/utils/validation.py:605: FutureWarning: is_sparse is deprecated and will be removed in a future version. Check `isinstance(dtype, pd.SparseDtype)` instead.\n",
      "  if is_sparse(pd_dtype):\n",
      "/Users/gohjunwei/anaconda3/lib/python3.11/site-packages/sklearn/utils/validation.py:614: FutureWarning: is_sparse is deprecated and will be removed in a future version. Check `isinstance(dtype, pd.SparseDtype)` instead.\n",
      "  if is_sparse(pd_dtype) or not is_extension_array_dtype(pd_dtype):\n"
     ]
    },
    {
     "name": "stdout",
     "output_type": "stream",
     "text": [
      "[CV] END learning_rate=0.11616955533913807, max_depth=14, n_estimators=376; total time=   2.2s\n"
     ]
    },
    {
     "name": "stderr",
     "output_type": "stream",
     "text": [
      "/Users/gohjunwei/anaconda3/lib/python3.11/site-packages/sklearn/utils/validation.py:605: FutureWarning: is_sparse is deprecated and will be removed in a future version. Check `isinstance(dtype, pd.SparseDtype)` instead.\n",
      "  if is_sparse(pd_dtype):\n",
      "/Users/gohjunwei/anaconda3/lib/python3.11/site-packages/sklearn/utils/validation.py:614: FutureWarning: is_sparse is deprecated and will be removed in a future version. Check `isinstance(dtype, pd.SparseDtype)` instead.\n",
      "  if is_sparse(pd_dtype) or not is_extension_array_dtype(pd_dtype):\n",
      "/Users/gohjunwei/anaconda3/lib/python3.11/site-packages/sklearn/utils/validation.py:605: FutureWarning: is_sparse is deprecated and will be removed in a future version. Check `isinstance(dtype, pd.SparseDtype)` instead.\n",
      "  if is_sparse(pd_dtype):\n",
      "/Users/gohjunwei/anaconda3/lib/python3.11/site-packages/sklearn/utils/validation.py:614: FutureWarning: is_sparse is deprecated and will be removed in a future version. Check `isinstance(dtype, pd.SparseDtype)` instead.\n",
      "  if is_sparse(pd_dtype) or not is_extension_array_dtype(pd_dtype):\n",
      "/Users/gohjunwei/anaconda3/lib/python3.11/site-packages/sklearn/utils/validation.py:605: FutureWarning: is_sparse is deprecated and will be removed in a future version. Check `isinstance(dtype, pd.SparseDtype)` instead.\n",
      "  if is_sparse(pd_dtype):\n",
      "/Users/gohjunwei/anaconda3/lib/python3.11/site-packages/sklearn/utils/validation.py:614: FutureWarning: is_sparse is deprecated and will be removed in a future version. Check `isinstance(dtype, pd.SparseDtype)` instead.\n",
      "  if is_sparse(pd_dtype) or not is_extension_array_dtype(pd_dtype):\n"
     ]
    },
    {
     "name": "stdout",
     "output_type": "stream",
     "text": [
      "[CV] END learning_rate=0.11616955533913807, max_depth=14, n_estimators=376; total time=   2.9s\n"
     ]
    },
    {
     "name": "stderr",
     "output_type": "stream",
     "text": [
      "/Users/gohjunwei/anaconda3/lib/python3.11/site-packages/sklearn/utils/validation.py:605: FutureWarning: is_sparse is deprecated and will be removed in a future version. Check `isinstance(dtype, pd.SparseDtype)` instead.\n",
      "  if is_sparse(pd_dtype):\n",
      "/Users/gohjunwei/anaconda3/lib/python3.11/site-packages/sklearn/utils/validation.py:614: FutureWarning: is_sparse is deprecated and will be removed in a future version. Check `isinstance(dtype, pd.SparseDtype)` instead.\n",
      "  if is_sparse(pd_dtype) or not is_extension_array_dtype(pd_dtype):\n",
      "/Users/gohjunwei/anaconda3/lib/python3.11/site-packages/sklearn/utils/validation.py:605: FutureWarning: is_sparse is deprecated and will be removed in a future version. Check `isinstance(dtype, pd.SparseDtype)` instead.\n",
      "  if is_sparse(pd_dtype):\n",
      "/Users/gohjunwei/anaconda3/lib/python3.11/site-packages/sklearn/utils/validation.py:614: FutureWarning: is_sparse is deprecated and will be removed in a future version. Check `isinstance(dtype, pd.SparseDtype)` instead.\n",
      "  if is_sparse(pd_dtype) or not is_extension_array_dtype(pd_dtype):\n",
      "/Users/gohjunwei/anaconda3/lib/python3.11/site-packages/sklearn/utils/validation.py:605: FutureWarning: is_sparse is deprecated and will be removed in a future version. Check `isinstance(dtype, pd.SparseDtype)` instead.\n",
      "  if is_sparse(pd_dtype):\n",
      "/Users/gohjunwei/anaconda3/lib/python3.11/site-packages/sklearn/utils/validation.py:614: FutureWarning: is_sparse is deprecated and will be removed in a future version. Check `isinstance(dtype, pd.SparseDtype)` instead.\n",
      "  if is_sparse(pd_dtype) or not is_extension_array_dtype(pd_dtype):\n"
     ]
    },
    {
     "name": "stdout",
     "output_type": "stream",
     "text": [
      "[CV] END learning_rate=0.11616955533913807, max_depth=14, n_estimators=376; total time=   2.3s\n"
     ]
    },
    {
     "name": "stderr",
     "output_type": "stream",
     "text": [
      "/Users/gohjunwei/anaconda3/lib/python3.11/site-packages/sklearn/utils/validation.py:605: FutureWarning: is_sparse is deprecated and will be removed in a future version. Check `isinstance(dtype, pd.SparseDtype)` instead.\n",
      "  if is_sparse(pd_dtype):\n",
      "/Users/gohjunwei/anaconda3/lib/python3.11/site-packages/sklearn/utils/validation.py:614: FutureWarning: is_sparse is deprecated and will be removed in a future version. Check `isinstance(dtype, pd.SparseDtype)` instead.\n",
      "  if is_sparse(pd_dtype) or not is_extension_array_dtype(pd_dtype):\n",
      "/Users/gohjunwei/anaconda3/lib/python3.11/site-packages/sklearn/utils/validation.py:605: FutureWarning: is_sparse is deprecated and will be removed in a future version. Check `isinstance(dtype, pd.SparseDtype)` instead.\n",
      "  if is_sparse(pd_dtype):\n",
      "/Users/gohjunwei/anaconda3/lib/python3.11/site-packages/sklearn/utils/validation.py:614: FutureWarning: is_sparse is deprecated and will be removed in a future version. Check `isinstance(dtype, pd.SparseDtype)` instead.\n",
      "  if is_sparse(pd_dtype) or not is_extension_array_dtype(pd_dtype):\n",
      "/Users/gohjunwei/anaconda3/lib/python3.11/site-packages/sklearn/utils/validation.py:605: FutureWarning: is_sparse is deprecated and will be removed in a future version. Check `isinstance(dtype, pd.SparseDtype)` instead.\n",
      "  if is_sparse(pd_dtype):\n",
      "/Users/gohjunwei/anaconda3/lib/python3.11/site-packages/sklearn/utils/validation.py:614: FutureWarning: is_sparse is deprecated and will be removed in a future version. Check `isinstance(dtype, pd.SparseDtype)` instead.\n",
      "  if is_sparse(pd_dtype) or not is_extension_array_dtype(pd_dtype):\n"
     ]
    },
    {
     "name": "stdout",
     "output_type": "stream",
     "text": [
      "[CV] END learning_rate=0.3187407548138583, max_depth=12, n_estimators=121; total time=   0.6s\n"
     ]
    },
    {
     "name": "stderr",
     "output_type": "stream",
     "text": [
      "/Users/gohjunwei/anaconda3/lib/python3.11/site-packages/sklearn/utils/validation.py:605: FutureWarning: is_sparse is deprecated and will be removed in a future version. Check `isinstance(dtype, pd.SparseDtype)` instead.\n",
      "  if is_sparse(pd_dtype):\n",
      "/Users/gohjunwei/anaconda3/lib/python3.11/site-packages/sklearn/utils/validation.py:614: FutureWarning: is_sparse is deprecated and will be removed in a future version. Check `isinstance(dtype, pd.SparseDtype)` instead.\n",
      "  if is_sparse(pd_dtype) or not is_extension_array_dtype(pd_dtype):\n",
      "/Users/gohjunwei/anaconda3/lib/python3.11/site-packages/sklearn/utils/validation.py:605: FutureWarning: is_sparse is deprecated and will be removed in a future version. Check `isinstance(dtype, pd.SparseDtype)` instead.\n",
      "  if is_sparse(pd_dtype):\n",
      "/Users/gohjunwei/anaconda3/lib/python3.11/site-packages/sklearn/utils/validation.py:614: FutureWarning: is_sparse is deprecated and will be removed in a future version. Check `isinstance(dtype, pd.SparseDtype)` instead.\n",
      "  if is_sparse(pd_dtype) or not is_extension_array_dtype(pd_dtype):\n",
      "/Users/gohjunwei/anaconda3/lib/python3.11/site-packages/sklearn/utils/validation.py:605: FutureWarning: is_sparse is deprecated and will be removed in a future version. Check `isinstance(dtype, pd.SparseDtype)` instead.\n",
      "  if is_sparse(pd_dtype):\n",
      "/Users/gohjunwei/anaconda3/lib/python3.11/site-packages/sklearn/utils/validation.py:614: FutureWarning: is_sparse is deprecated and will be removed in a future version. Check `isinstance(dtype, pd.SparseDtype)` instead.\n",
      "  if is_sparse(pd_dtype) or not is_extension_array_dtype(pd_dtype):\n"
     ]
    },
    {
     "name": "stdout",
     "output_type": "stream",
     "text": [
      "[CV] END learning_rate=0.3187407548138583, max_depth=12, n_estimators=121; total time=   0.6s\n"
     ]
    },
    {
     "name": "stderr",
     "output_type": "stream",
     "text": [
      "/Users/gohjunwei/anaconda3/lib/python3.11/site-packages/sklearn/utils/validation.py:605: FutureWarning: is_sparse is deprecated and will be removed in a future version. Check `isinstance(dtype, pd.SparseDtype)` instead.\n",
      "  if is_sparse(pd_dtype):\n",
      "/Users/gohjunwei/anaconda3/lib/python3.11/site-packages/sklearn/utils/validation.py:614: FutureWarning: is_sparse is deprecated and will be removed in a future version. Check `isinstance(dtype, pd.SparseDtype)` instead.\n",
      "  if is_sparse(pd_dtype) or not is_extension_array_dtype(pd_dtype):\n",
      "/Users/gohjunwei/anaconda3/lib/python3.11/site-packages/sklearn/utils/validation.py:605: FutureWarning: is_sparse is deprecated and will be removed in a future version. Check `isinstance(dtype, pd.SparseDtype)` instead.\n",
      "  if is_sparse(pd_dtype):\n",
      "/Users/gohjunwei/anaconda3/lib/python3.11/site-packages/sklearn/utils/validation.py:614: FutureWarning: is_sparse is deprecated and will be removed in a future version. Check `isinstance(dtype, pd.SparseDtype)` instead.\n",
      "  if is_sparse(pd_dtype) or not is_extension_array_dtype(pd_dtype):\n",
      "/Users/gohjunwei/anaconda3/lib/python3.11/site-packages/sklearn/utils/validation.py:605: FutureWarning: is_sparse is deprecated and will be removed in a future version. Check `isinstance(dtype, pd.SparseDtype)` instead.\n",
      "  if is_sparse(pd_dtype):\n",
      "/Users/gohjunwei/anaconda3/lib/python3.11/site-packages/sklearn/utils/validation.py:614: FutureWarning: is_sparse is deprecated and will be removed in a future version. Check `isinstance(dtype, pd.SparseDtype)` instead.\n",
      "  if is_sparse(pd_dtype) or not is_extension_array_dtype(pd_dtype):\n"
     ]
    },
    {
     "name": "stdout",
     "output_type": "stream",
     "text": [
      "[CV] END learning_rate=0.3187407548138583, max_depth=12, n_estimators=121; total time=   0.6s\n"
     ]
    },
    {
     "name": "stderr",
     "output_type": "stream",
     "text": [
      "/Users/gohjunwei/anaconda3/lib/python3.11/site-packages/sklearn/utils/validation.py:605: FutureWarning: is_sparse is deprecated and will be removed in a future version. Check `isinstance(dtype, pd.SparseDtype)` instead.\n",
      "  if is_sparse(pd_dtype):\n",
      "/Users/gohjunwei/anaconda3/lib/python3.11/site-packages/sklearn/utils/validation.py:614: FutureWarning: is_sparse is deprecated and will be removed in a future version. Check `isinstance(dtype, pd.SparseDtype)` instead.\n",
      "  if is_sparse(pd_dtype) or not is_extension_array_dtype(pd_dtype):\n",
      "/Users/gohjunwei/anaconda3/lib/python3.11/site-packages/sklearn/utils/validation.py:605: FutureWarning: is_sparse is deprecated and will be removed in a future version. Check `isinstance(dtype, pd.SparseDtype)` instead.\n",
      "  if is_sparse(pd_dtype):\n",
      "/Users/gohjunwei/anaconda3/lib/python3.11/site-packages/sklearn/utils/validation.py:614: FutureWarning: is_sparse is deprecated and will be removed in a future version. Check `isinstance(dtype, pd.SparseDtype)` instead.\n",
      "  if is_sparse(pd_dtype) or not is_extension_array_dtype(pd_dtype):\n",
      "/Users/gohjunwei/anaconda3/lib/python3.11/site-packages/sklearn/utils/validation.py:605: FutureWarning: is_sparse is deprecated and will be removed in a future version. Check `isinstance(dtype, pd.SparseDtype)` instead.\n",
      "  if is_sparse(pd_dtype):\n",
      "/Users/gohjunwei/anaconda3/lib/python3.11/site-packages/sklearn/utils/validation.py:614: FutureWarning: is_sparse is deprecated and will be removed in a future version. Check `isinstance(dtype, pd.SparseDtype)` instead.\n",
      "  if is_sparse(pd_dtype) or not is_extension_array_dtype(pd_dtype):\n"
     ]
    },
    {
     "name": "stdout",
     "output_type": "stream",
     "text": [
      "[CV] END learning_rate=0.013533152609858703, max_depth=11, n_estimators=660; total time=   3.2s\n"
     ]
    },
    {
     "name": "stderr",
     "output_type": "stream",
     "text": [
      "/Users/gohjunwei/anaconda3/lib/python3.11/site-packages/sklearn/utils/validation.py:605: FutureWarning: is_sparse is deprecated and will be removed in a future version. Check `isinstance(dtype, pd.SparseDtype)` instead.\n",
      "  if is_sparse(pd_dtype):\n",
      "/Users/gohjunwei/anaconda3/lib/python3.11/site-packages/sklearn/utils/validation.py:614: FutureWarning: is_sparse is deprecated and will be removed in a future version. Check `isinstance(dtype, pd.SparseDtype)` instead.\n",
      "  if is_sparse(pd_dtype) or not is_extension_array_dtype(pd_dtype):\n",
      "/Users/gohjunwei/anaconda3/lib/python3.11/site-packages/sklearn/utils/validation.py:605: FutureWarning: is_sparse is deprecated and will be removed in a future version. Check `isinstance(dtype, pd.SparseDtype)` instead.\n",
      "  if is_sparse(pd_dtype):\n",
      "/Users/gohjunwei/anaconda3/lib/python3.11/site-packages/sklearn/utils/validation.py:614: FutureWarning: is_sparse is deprecated and will be removed in a future version. Check `isinstance(dtype, pd.SparseDtype)` instead.\n",
      "  if is_sparse(pd_dtype) or not is_extension_array_dtype(pd_dtype):\n",
      "/Users/gohjunwei/anaconda3/lib/python3.11/site-packages/sklearn/utils/validation.py:605: FutureWarning: is_sparse is deprecated and will be removed in a future version. Check `isinstance(dtype, pd.SparseDtype)` instead.\n",
      "  if is_sparse(pd_dtype):\n",
      "/Users/gohjunwei/anaconda3/lib/python3.11/site-packages/sklearn/utils/validation.py:614: FutureWarning: is_sparse is deprecated and will be removed in a future version. Check `isinstance(dtype, pd.SparseDtype)` instead.\n",
      "  if is_sparse(pd_dtype) or not is_extension_array_dtype(pd_dtype):\n"
     ]
    },
    {
     "name": "stdout",
     "output_type": "stream",
     "text": [
      "[CV] END learning_rate=0.013533152609858703, max_depth=11, n_estimators=660; total time=   3.0s\n"
     ]
    },
    {
     "name": "stderr",
     "output_type": "stream",
     "text": [
      "/Users/gohjunwei/anaconda3/lib/python3.11/site-packages/sklearn/utils/validation.py:605: FutureWarning: is_sparse is deprecated and will be removed in a future version. Check `isinstance(dtype, pd.SparseDtype)` instead.\n",
      "  if is_sparse(pd_dtype):\n",
      "/Users/gohjunwei/anaconda3/lib/python3.11/site-packages/sklearn/utils/validation.py:614: FutureWarning: is_sparse is deprecated and will be removed in a future version. Check `isinstance(dtype, pd.SparseDtype)` instead.\n",
      "  if is_sparse(pd_dtype) or not is_extension_array_dtype(pd_dtype):\n",
      "/Users/gohjunwei/anaconda3/lib/python3.11/site-packages/sklearn/utils/validation.py:605: FutureWarning: is_sparse is deprecated and will be removed in a future version. Check `isinstance(dtype, pd.SparseDtype)` instead.\n",
      "  if is_sparse(pd_dtype):\n",
      "/Users/gohjunwei/anaconda3/lib/python3.11/site-packages/sklearn/utils/validation.py:614: FutureWarning: is_sparse is deprecated and will be removed in a future version. Check `isinstance(dtype, pd.SparseDtype)` instead.\n",
      "  if is_sparse(pd_dtype) or not is_extension_array_dtype(pd_dtype):\n",
      "/Users/gohjunwei/anaconda3/lib/python3.11/site-packages/sklearn/utils/validation.py:605: FutureWarning: is_sparse is deprecated and will be removed in a future version. Check `isinstance(dtype, pd.SparseDtype)` instead.\n",
      "  if is_sparse(pd_dtype):\n",
      "/Users/gohjunwei/anaconda3/lib/python3.11/site-packages/sklearn/utils/validation.py:614: FutureWarning: is_sparse is deprecated and will be removed in a future version. Check `isinstance(dtype, pd.SparseDtype)` instead.\n",
      "  if is_sparse(pd_dtype) or not is_extension_array_dtype(pd_dtype):\n"
     ]
    },
    {
     "name": "stdout",
     "output_type": "stream",
     "text": [
      "[CV] END learning_rate=0.013533152609858703, max_depth=11, n_estimators=660; total time=   3.5s\n"
     ]
    },
    {
     "name": "stderr",
     "output_type": "stream",
     "text": [
      "/Users/gohjunwei/anaconda3/lib/python3.11/site-packages/sklearn/utils/validation.py:605: FutureWarning: is_sparse is deprecated and will be removed in a future version. Check `isinstance(dtype, pd.SparseDtype)` instead.\n",
      "  if is_sparse(pd_dtype):\n",
      "/Users/gohjunwei/anaconda3/lib/python3.11/site-packages/sklearn/utils/validation.py:614: FutureWarning: is_sparse is deprecated and will be removed in a future version. Check `isinstance(dtype, pd.SparseDtype)` instead.\n",
      "  if is_sparse(pd_dtype) or not is_extension_array_dtype(pd_dtype):\n",
      "/Users/gohjunwei/anaconda3/lib/python3.11/site-packages/sklearn/utils/validation.py:605: FutureWarning: is_sparse is deprecated and will be removed in a future version. Check `isinstance(dtype, pd.SparseDtype)` instead.\n",
      "  if is_sparse(pd_dtype):\n",
      "/Users/gohjunwei/anaconda3/lib/python3.11/site-packages/sklearn/utils/validation.py:614: FutureWarning: is_sparse is deprecated and will be removed in a future version. Check `isinstance(dtype, pd.SparseDtype)` instead.\n",
      "  if is_sparse(pd_dtype) or not is_extension_array_dtype(pd_dtype):\n",
      "/Users/gohjunwei/anaconda3/lib/python3.11/site-packages/sklearn/utils/validation.py:605: FutureWarning: is_sparse is deprecated and will be removed in a future version. Check `isinstance(dtype, pd.SparseDtype)` instead.\n",
      "  if is_sparse(pd_dtype):\n",
      "/Users/gohjunwei/anaconda3/lib/python3.11/site-packages/sklearn/utils/validation.py:614: FutureWarning: is_sparse is deprecated and will be removed in a future version. Check `isinstance(dtype, pd.SparseDtype)` instead.\n",
      "  if is_sparse(pd_dtype) or not is_extension_array_dtype(pd_dtype):\n"
     ]
    },
    {
     "name": "stdout",
     "output_type": "stream",
     "text": [
      "[CV] END learning_rate=0.2723873301291946, max_depth=12, n_estimators=575; total time=   2.6s\n"
     ]
    },
    {
     "name": "stderr",
     "output_type": "stream",
     "text": [
      "/Users/gohjunwei/anaconda3/lib/python3.11/site-packages/sklearn/utils/validation.py:605: FutureWarning: is_sparse is deprecated and will be removed in a future version. Check `isinstance(dtype, pd.SparseDtype)` instead.\n",
      "  if is_sparse(pd_dtype):\n",
      "/Users/gohjunwei/anaconda3/lib/python3.11/site-packages/sklearn/utils/validation.py:614: FutureWarning: is_sparse is deprecated and will be removed in a future version. Check `isinstance(dtype, pd.SparseDtype)` instead.\n",
      "  if is_sparse(pd_dtype) or not is_extension_array_dtype(pd_dtype):\n",
      "/Users/gohjunwei/anaconda3/lib/python3.11/site-packages/sklearn/utils/validation.py:605: FutureWarning: is_sparse is deprecated and will be removed in a future version. Check `isinstance(dtype, pd.SparseDtype)` instead.\n",
      "  if is_sparse(pd_dtype):\n",
      "/Users/gohjunwei/anaconda3/lib/python3.11/site-packages/sklearn/utils/validation.py:614: FutureWarning: is_sparse is deprecated and will be removed in a future version. Check `isinstance(dtype, pd.SparseDtype)` instead.\n",
      "  if is_sparse(pd_dtype) or not is_extension_array_dtype(pd_dtype):\n",
      "/Users/gohjunwei/anaconda3/lib/python3.11/site-packages/sklearn/utils/validation.py:605: FutureWarning: is_sparse is deprecated and will be removed in a future version. Check `isinstance(dtype, pd.SparseDtype)` instead.\n",
      "  if is_sparse(pd_dtype):\n",
      "/Users/gohjunwei/anaconda3/lib/python3.11/site-packages/sklearn/utils/validation.py:614: FutureWarning: is_sparse is deprecated and will be removed in a future version. Check `isinstance(dtype, pd.SparseDtype)` instead.\n",
      "  if is_sparse(pd_dtype) or not is_extension_array_dtype(pd_dtype):\n"
     ]
    },
    {
     "name": "stdout",
     "output_type": "stream",
     "text": [
      "[CV] END learning_rate=0.2723873301291946, max_depth=12, n_estimators=575; total time=   2.9s\n"
     ]
    },
    {
     "name": "stderr",
     "output_type": "stream",
     "text": [
      "/Users/gohjunwei/anaconda3/lib/python3.11/site-packages/sklearn/utils/validation.py:605: FutureWarning: is_sparse is deprecated and will be removed in a future version. Check `isinstance(dtype, pd.SparseDtype)` instead.\n",
      "  if is_sparse(pd_dtype):\n",
      "/Users/gohjunwei/anaconda3/lib/python3.11/site-packages/sklearn/utils/validation.py:614: FutureWarning: is_sparse is deprecated and will be removed in a future version. Check `isinstance(dtype, pd.SparseDtype)` instead.\n",
      "  if is_sparse(pd_dtype) or not is_extension_array_dtype(pd_dtype):\n",
      "/Users/gohjunwei/anaconda3/lib/python3.11/site-packages/sklearn/utils/validation.py:605: FutureWarning: is_sparse is deprecated and will be removed in a future version. Check `isinstance(dtype, pd.SparseDtype)` instead.\n",
      "  if is_sparse(pd_dtype):\n",
      "/Users/gohjunwei/anaconda3/lib/python3.11/site-packages/sklearn/utils/validation.py:614: FutureWarning: is_sparse is deprecated and will be removed in a future version. Check `isinstance(dtype, pd.SparseDtype)` instead.\n",
      "  if is_sparse(pd_dtype) or not is_extension_array_dtype(pd_dtype):\n",
      "/Users/gohjunwei/anaconda3/lib/python3.11/site-packages/sklearn/utils/validation.py:605: FutureWarning: is_sparse is deprecated and will be removed in a future version. Check `isinstance(dtype, pd.SparseDtype)` instead.\n",
      "  if is_sparse(pd_dtype):\n",
      "/Users/gohjunwei/anaconda3/lib/python3.11/site-packages/sklearn/utils/validation.py:614: FutureWarning: is_sparse is deprecated and will be removed in a future version. Check `isinstance(dtype, pd.SparseDtype)` instead.\n",
      "  if is_sparse(pd_dtype) or not is_extension_array_dtype(pd_dtype):\n"
     ]
    },
    {
     "name": "stdout",
     "output_type": "stream",
     "text": [
      "[CV] END learning_rate=0.2723873301291946, max_depth=12, n_estimators=575; total time=   2.6s\n"
     ]
    },
    {
     "name": "stderr",
     "output_type": "stream",
     "text": [
      "/Users/gohjunwei/anaconda3/lib/python3.11/site-packages/sklearn/utils/validation.py:605: FutureWarning: is_sparse is deprecated and will be removed in a future version. Check `isinstance(dtype, pd.SparseDtype)` instead.\n",
      "  if is_sparse(pd_dtype):\n",
      "/Users/gohjunwei/anaconda3/lib/python3.11/site-packages/sklearn/utils/validation.py:614: FutureWarning: is_sparse is deprecated and will be removed in a future version. Check `isinstance(dtype, pd.SparseDtype)` instead.\n",
      "  if is_sparse(pd_dtype) or not is_extension_array_dtype(pd_dtype):\n",
      "/Users/gohjunwei/anaconda3/lib/python3.11/site-packages/sklearn/utils/validation.py:605: FutureWarning: is_sparse is deprecated and will be removed in a future version. Check `isinstance(dtype, pd.SparseDtype)` instead.\n",
      "  if is_sparse(pd_dtype):\n",
      "/Users/gohjunwei/anaconda3/lib/python3.11/site-packages/sklearn/utils/validation.py:614: FutureWarning: is_sparse is deprecated and will be removed in a future version. Check `isinstance(dtype, pd.SparseDtype)` instead.\n",
      "  if is_sparse(pd_dtype) or not is_extension_array_dtype(pd_dtype):\n",
      "/Users/gohjunwei/anaconda3/lib/python3.11/site-packages/sklearn/utils/validation.py:605: FutureWarning: is_sparse is deprecated and will be removed in a future version. Check `isinstance(dtype, pd.SparseDtype)` instead.\n",
      "  if is_sparse(pd_dtype):\n",
      "/Users/gohjunwei/anaconda3/lib/python3.11/site-packages/sklearn/utils/validation.py:614: FutureWarning: is_sparse is deprecated and will be removed in a future version. Check `isinstance(dtype, pd.SparseDtype)` instead.\n",
      "  if is_sparse(pd_dtype) or not is_extension_array_dtype(pd_dtype):\n"
     ]
    },
    {
     "name": "stdout",
     "output_type": "stream",
     "text": [
      "[CV] END learning_rate=0.4968777594207296, max_depth=5, n_estimators=975; total time=   1.8s\n"
     ]
    },
    {
     "name": "stderr",
     "output_type": "stream",
     "text": [
      "/Users/gohjunwei/anaconda3/lib/python3.11/site-packages/sklearn/utils/validation.py:605: FutureWarning: is_sparse is deprecated and will be removed in a future version. Check `isinstance(dtype, pd.SparseDtype)` instead.\n",
      "  if is_sparse(pd_dtype):\n",
      "/Users/gohjunwei/anaconda3/lib/python3.11/site-packages/sklearn/utils/validation.py:614: FutureWarning: is_sparse is deprecated and will be removed in a future version. Check `isinstance(dtype, pd.SparseDtype)` instead.\n",
      "  if is_sparse(pd_dtype) or not is_extension_array_dtype(pd_dtype):\n",
      "/Users/gohjunwei/anaconda3/lib/python3.11/site-packages/sklearn/utils/validation.py:605: FutureWarning: is_sparse is deprecated and will be removed in a future version. Check `isinstance(dtype, pd.SparseDtype)` instead.\n",
      "  if is_sparse(pd_dtype):\n",
      "/Users/gohjunwei/anaconda3/lib/python3.11/site-packages/sklearn/utils/validation.py:614: FutureWarning: is_sparse is deprecated and will be removed in a future version. Check `isinstance(dtype, pd.SparseDtype)` instead.\n",
      "  if is_sparse(pd_dtype) or not is_extension_array_dtype(pd_dtype):\n",
      "/Users/gohjunwei/anaconda3/lib/python3.11/site-packages/sklearn/utils/validation.py:605: FutureWarning: is_sparse is deprecated and will be removed in a future version. Check `isinstance(dtype, pd.SparseDtype)` instead.\n",
      "  if is_sparse(pd_dtype):\n",
      "/Users/gohjunwei/anaconda3/lib/python3.11/site-packages/sklearn/utils/validation.py:614: FutureWarning: is_sparse is deprecated and will be removed in a future version. Check `isinstance(dtype, pd.SparseDtype)` instead.\n",
      "  if is_sparse(pd_dtype) or not is_extension_array_dtype(pd_dtype):\n"
     ]
    },
    {
     "name": "stdout",
     "output_type": "stream",
     "text": [
      "[CV] END learning_rate=0.4968777594207296, max_depth=5, n_estimators=975; total time=   1.8s\n"
     ]
    },
    {
     "name": "stderr",
     "output_type": "stream",
     "text": [
      "/Users/gohjunwei/anaconda3/lib/python3.11/site-packages/sklearn/utils/validation.py:605: FutureWarning: is_sparse is deprecated and will be removed in a future version. Check `isinstance(dtype, pd.SparseDtype)` instead.\n",
      "  if is_sparse(pd_dtype):\n",
      "/Users/gohjunwei/anaconda3/lib/python3.11/site-packages/sklearn/utils/validation.py:614: FutureWarning: is_sparse is deprecated and will be removed in a future version. Check `isinstance(dtype, pd.SparseDtype)` instead.\n",
      "  if is_sparse(pd_dtype) or not is_extension_array_dtype(pd_dtype):\n",
      "/Users/gohjunwei/anaconda3/lib/python3.11/site-packages/sklearn/utils/validation.py:605: FutureWarning: is_sparse is deprecated and will be removed in a future version. Check `isinstance(dtype, pd.SparseDtype)` instead.\n",
      "  if is_sparse(pd_dtype):\n",
      "/Users/gohjunwei/anaconda3/lib/python3.11/site-packages/sklearn/utils/validation.py:614: FutureWarning: is_sparse is deprecated and will be removed in a future version. Check `isinstance(dtype, pd.SparseDtype)` instead.\n",
      "  if is_sparse(pd_dtype) or not is_extension_array_dtype(pd_dtype):\n",
      "/Users/gohjunwei/anaconda3/lib/python3.11/site-packages/sklearn/utils/validation.py:605: FutureWarning: is_sparse is deprecated and will be removed in a future version. Check `isinstance(dtype, pd.SparseDtype)` instead.\n",
      "  if is_sparse(pd_dtype):\n",
      "/Users/gohjunwei/anaconda3/lib/python3.11/site-packages/sklearn/utils/validation.py:614: FutureWarning: is_sparse is deprecated and will be removed in a future version. Check `isinstance(dtype, pd.SparseDtype)` instead.\n",
      "  if is_sparse(pd_dtype) or not is_extension_array_dtype(pd_dtype):\n"
     ]
    },
    {
     "name": "stdout",
     "output_type": "stream",
     "text": [
      "[CV] END learning_rate=0.4968777594207296, max_depth=5, n_estimators=975; total time=   1.8s\n"
     ]
    },
    {
     "name": "stderr",
     "output_type": "stream",
     "text": [
      "/Users/gohjunwei/anaconda3/lib/python3.11/site-packages/sklearn/utils/validation.py:605: FutureWarning: is_sparse is deprecated and will be removed in a future version. Check `isinstance(dtype, pd.SparseDtype)` instead.\n",
      "  if is_sparse(pd_dtype):\n",
      "/Users/gohjunwei/anaconda3/lib/python3.11/site-packages/sklearn/utils/validation.py:614: FutureWarning: is_sparse is deprecated and will be removed in a future version. Check `isinstance(dtype, pd.SparseDtype)` instead.\n",
      "  if is_sparse(pd_dtype) or not is_extension_array_dtype(pd_dtype):\n",
      "/Users/gohjunwei/anaconda3/lib/python3.11/site-packages/sklearn/utils/validation.py:605: FutureWarning: is_sparse is deprecated and will be removed in a future version. Check `isinstance(dtype, pd.SparseDtype)` instead.\n",
      "  if is_sparse(pd_dtype):\n",
      "/Users/gohjunwei/anaconda3/lib/python3.11/site-packages/sklearn/utils/validation.py:614: FutureWarning: is_sparse is deprecated and will be removed in a future version. Check `isinstance(dtype, pd.SparseDtype)` instead.\n",
      "  if is_sparse(pd_dtype) or not is_extension_array_dtype(pd_dtype):\n",
      "/Users/gohjunwei/anaconda3/lib/python3.11/site-packages/sklearn/utils/validation.py:605: FutureWarning: is_sparse is deprecated and will be removed in a future version. Check `isinstance(dtype, pd.SparseDtype)` instead.\n",
      "  if is_sparse(pd_dtype):\n",
      "/Users/gohjunwei/anaconda3/lib/python3.11/site-packages/sklearn/utils/validation.py:614: FutureWarning: is_sparse is deprecated and will be removed in a future version. Check `isinstance(dtype, pd.SparseDtype)` instead.\n",
      "  if is_sparse(pd_dtype) or not is_extension_array_dtype(pd_dtype):\n"
     ]
    },
    {
     "name": "stdout",
     "output_type": "stream",
     "text": [
      "[CV] END learning_rate=0.2671172192068058, max_depth=11, n_estimators=230; total time=   1.0s\n"
     ]
    },
    {
     "name": "stderr",
     "output_type": "stream",
     "text": [
      "/Users/gohjunwei/anaconda3/lib/python3.11/site-packages/sklearn/utils/validation.py:605: FutureWarning: is_sparse is deprecated and will be removed in a future version. Check `isinstance(dtype, pd.SparseDtype)` instead.\n",
      "  if is_sparse(pd_dtype):\n",
      "/Users/gohjunwei/anaconda3/lib/python3.11/site-packages/sklearn/utils/validation.py:614: FutureWarning: is_sparse is deprecated and will be removed in a future version. Check `isinstance(dtype, pd.SparseDtype)` instead.\n",
      "  if is_sparse(pd_dtype) or not is_extension_array_dtype(pd_dtype):\n",
      "/Users/gohjunwei/anaconda3/lib/python3.11/site-packages/sklearn/utils/validation.py:605: FutureWarning: is_sparse is deprecated and will be removed in a future version. Check `isinstance(dtype, pd.SparseDtype)` instead.\n",
      "  if is_sparse(pd_dtype):\n",
      "/Users/gohjunwei/anaconda3/lib/python3.11/site-packages/sklearn/utils/validation.py:614: FutureWarning: is_sparse is deprecated and will be removed in a future version. Check `isinstance(dtype, pd.SparseDtype)` instead.\n",
      "  if is_sparse(pd_dtype) or not is_extension_array_dtype(pd_dtype):\n",
      "/Users/gohjunwei/anaconda3/lib/python3.11/site-packages/sklearn/utils/validation.py:605: FutureWarning: is_sparse is deprecated and will be removed in a future version. Check `isinstance(dtype, pd.SparseDtype)` instead.\n",
      "  if is_sparse(pd_dtype):\n",
      "/Users/gohjunwei/anaconda3/lib/python3.11/site-packages/sklearn/utils/validation.py:614: FutureWarning: is_sparse is deprecated and will be removed in a future version. Check `isinstance(dtype, pd.SparseDtype)` instead.\n",
      "  if is_sparse(pd_dtype) or not is_extension_array_dtype(pd_dtype):\n"
     ]
    },
    {
     "name": "stdout",
     "output_type": "stream",
     "text": [
      "[CV] END learning_rate=0.2671172192068058, max_depth=11, n_estimators=230; total time=   1.0s\n"
     ]
    },
    {
     "name": "stderr",
     "output_type": "stream",
     "text": [
      "/Users/gohjunwei/anaconda3/lib/python3.11/site-packages/sklearn/utils/validation.py:605: FutureWarning: is_sparse is deprecated and will be removed in a future version. Check `isinstance(dtype, pd.SparseDtype)` instead.\n",
      "  if is_sparse(pd_dtype):\n",
      "/Users/gohjunwei/anaconda3/lib/python3.11/site-packages/sklearn/utils/validation.py:614: FutureWarning: is_sparse is deprecated and will be removed in a future version. Check `isinstance(dtype, pd.SparseDtype)` instead.\n",
      "  if is_sparse(pd_dtype) or not is_extension_array_dtype(pd_dtype):\n",
      "/Users/gohjunwei/anaconda3/lib/python3.11/site-packages/sklearn/utils/validation.py:605: FutureWarning: is_sparse is deprecated and will be removed in a future version. Check `isinstance(dtype, pd.SparseDtype)` instead.\n",
      "  if is_sparse(pd_dtype):\n",
      "/Users/gohjunwei/anaconda3/lib/python3.11/site-packages/sklearn/utils/validation.py:614: FutureWarning: is_sparse is deprecated and will be removed in a future version. Check `isinstance(dtype, pd.SparseDtype)` instead.\n",
      "  if is_sparse(pd_dtype) or not is_extension_array_dtype(pd_dtype):\n",
      "/Users/gohjunwei/anaconda3/lib/python3.11/site-packages/sklearn/utils/validation.py:605: FutureWarning: is_sparse is deprecated and will be removed in a future version. Check `isinstance(dtype, pd.SparseDtype)` instead.\n",
      "  if is_sparse(pd_dtype):\n",
      "/Users/gohjunwei/anaconda3/lib/python3.11/site-packages/sklearn/utils/validation.py:614: FutureWarning: is_sparse is deprecated and will be removed in a future version. Check `isinstance(dtype, pd.SparseDtype)` instead.\n",
      "  if is_sparse(pd_dtype) or not is_extension_array_dtype(pd_dtype):\n"
     ]
    },
    {
     "name": "stdout",
     "output_type": "stream",
     "text": [
      "[CV] END learning_rate=0.2671172192068058, max_depth=11, n_estimators=230; total time=   1.3s\n"
     ]
    },
    {
     "name": "stderr",
     "output_type": "stream",
     "text": [
      "/Users/gohjunwei/anaconda3/lib/python3.11/site-packages/sklearn/utils/validation.py:605: FutureWarning: is_sparse is deprecated and will be removed in a future version. Check `isinstance(dtype, pd.SparseDtype)` instead.\n",
      "  if is_sparse(pd_dtype):\n",
      "/Users/gohjunwei/anaconda3/lib/python3.11/site-packages/sklearn/utils/validation.py:614: FutureWarning: is_sparse is deprecated and will be removed in a future version. Check `isinstance(dtype, pd.SparseDtype)` instead.\n",
      "  if is_sparse(pd_dtype) or not is_extension_array_dtype(pd_dtype):\n",
      "/Users/gohjunwei/anaconda3/lib/python3.11/site-packages/sklearn/utils/validation.py:605: FutureWarning: is_sparse is deprecated and will be removed in a future version. Check `isinstance(dtype, pd.SparseDtype)` instead.\n",
      "  if is_sparse(pd_dtype):\n",
      "/Users/gohjunwei/anaconda3/lib/python3.11/site-packages/sklearn/utils/validation.py:614: FutureWarning: is_sparse is deprecated and will be removed in a future version. Check `isinstance(dtype, pd.SparseDtype)` instead.\n",
      "  if is_sparse(pd_dtype) or not is_extension_array_dtype(pd_dtype):\n",
      "/Users/gohjunwei/anaconda3/lib/python3.11/site-packages/sklearn/utils/validation.py:605: FutureWarning: is_sparse is deprecated and will be removed in a future version. Check `isinstance(dtype, pd.SparseDtype)` instead.\n",
      "  if is_sparse(pd_dtype):\n",
      "/Users/gohjunwei/anaconda3/lib/python3.11/site-packages/sklearn/utils/validation.py:614: FutureWarning: is_sparse is deprecated and will be removed in a future version. Check `isinstance(dtype, pd.SparseDtype)` instead.\n",
      "  if is_sparse(pd_dtype) or not is_extension_array_dtype(pd_dtype):\n"
     ]
    },
    {
     "name": "stdout",
     "output_type": "stream",
     "text": [
      "[CV] END learning_rate=0.4399702033681603, max_depth=9, n_estimators=120; total time=   0.6s\n"
     ]
    },
    {
     "name": "stderr",
     "output_type": "stream",
     "text": [
      "/Users/gohjunwei/anaconda3/lib/python3.11/site-packages/sklearn/utils/validation.py:605: FutureWarning: is_sparse is deprecated and will be removed in a future version. Check `isinstance(dtype, pd.SparseDtype)` instead.\n",
      "  if is_sparse(pd_dtype):\n",
      "/Users/gohjunwei/anaconda3/lib/python3.11/site-packages/sklearn/utils/validation.py:614: FutureWarning: is_sparse is deprecated and will be removed in a future version. Check `isinstance(dtype, pd.SparseDtype)` instead.\n",
      "  if is_sparse(pd_dtype) or not is_extension_array_dtype(pd_dtype):\n",
      "/Users/gohjunwei/anaconda3/lib/python3.11/site-packages/sklearn/utils/validation.py:605: FutureWarning: is_sparse is deprecated and will be removed in a future version. Check `isinstance(dtype, pd.SparseDtype)` instead.\n",
      "  if is_sparse(pd_dtype):\n",
      "/Users/gohjunwei/anaconda3/lib/python3.11/site-packages/sklearn/utils/validation.py:614: FutureWarning: is_sparse is deprecated and will be removed in a future version. Check `isinstance(dtype, pd.SparseDtype)` instead.\n",
      "  if is_sparse(pd_dtype) or not is_extension_array_dtype(pd_dtype):\n",
      "/Users/gohjunwei/anaconda3/lib/python3.11/site-packages/sklearn/utils/validation.py:605: FutureWarning: is_sparse is deprecated and will be removed in a future version. Check `isinstance(dtype, pd.SparseDtype)` instead.\n",
      "  if is_sparse(pd_dtype):\n",
      "/Users/gohjunwei/anaconda3/lib/python3.11/site-packages/sklearn/utils/validation.py:614: FutureWarning: is_sparse is deprecated and will be removed in a future version. Check `isinstance(dtype, pd.SparseDtype)` instead.\n",
      "  if is_sparse(pd_dtype) or not is_extension_array_dtype(pd_dtype):\n"
     ]
    },
    {
     "name": "stdout",
     "output_type": "stream",
     "text": [
      "[CV] END learning_rate=0.4399702033681603, max_depth=9, n_estimators=120; total time=   0.5s\n"
     ]
    },
    {
     "name": "stderr",
     "output_type": "stream",
     "text": [
      "/Users/gohjunwei/anaconda3/lib/python3.11/site-packages/sklearn/utils/validation.py:605: FutureWarning: is_sparse is deprecated and will be removed in a future version. Check `isinstance(dtype, pd.SparseDtype)` instead.\n",
      "  if is_sparse(pd_dtype):\n",
      "/Users/gohjunwei/anaconda3/lib/python3.11/site-packages/sklearn/utils/validation.py:614: FutureWarning: is_sparse is deprecated and will be removed in a future version. Check `isinstance(dtype, pd.SparseDtype)` instead.\n",
      "  if is_sparse(pd_dtype) or not is_extension_array_dtype(pd_dtype):\n",
      "/Users/gohjunwei/anaconda3/lib/python3.11/site-packages/sklearn/utils/validation.py:605: FutureWarning: is_sparse is deprecated and will be removed in a future version. Check `isinstance(dtype, pd.SparseDtype)` instead.\n",
      "  if is_sparse(pd_dtype):\n",
      "/Users/gohjunwei/anaconda3/lib/python3.11/site-packages/sklearn/utils/validation.py:614: FutureWarning: is_sparse is deprecated and will be removed in a future version. Check `isinstance(dtype, pd.SparseDtype)` instead.\n",
      "  if is_sparse(pd_dtype) or not is_extension_array_dtype(pd_dtype):\n",
      "/Users/gohjunwei/anaconda3/lib/python3.11/site-packages/sklearn/utils/validation.py:605: FutureWarning: is_sparse is deprecated and will be removed in a future version. Check `isinstance(dtype, pd.SparseDtype)` instead.\n",
      "  if is_sparse(pd_dtype):\n",
      "/Users/gohjunwei/anaconda3/lib/python3.11/site-packages/sklearn/utils/validation.py:614: FutureWarning: is_sparse is deprecated and will be removed in a future version. Check `isinstance(dtype, pd.SparseDtype)` instead.\n",
      "  if is_sparse(pd_dtype) or not is_extension_array_dtype(pd_dtype):\n"
     ]
    },
    {
     "name": "stdout",
     "output_type": "stream",
     "text": [
      "[CV] END learning_rate=0.4399702033681603, max_depth=9, n_estimators=120; total time=   0.5s\n"
     ]
    },
    {
     "name": "stderr",
     "output_type": "stream",
     "text": [
      "/Users/gohjunwei/anaconda3/lib/python3.11/site-packages/sklearn/utils/validation.py:605: FutureWarning: is_sparse is deprecated and will be removed in a future version. Check `isinstance(dtype, pd.SparseDtype)` instead.\n",
      "  if is_sparse(pd_dtype):\n",
      "/Users/gohjunwei/anaconda3/lib/python3.11/site-packages/sklearn/utils/validation.py:614: FutureWarning: is_sparse is deprecated and will be removed in a future version. Check `isinstance(dtype, pd.SparseDtype)` instead.\n",
      "  if is_sparse(pd_dtype) or not is_extension_array_dtype(pd_dtype):\n",
      "/Users/gohjunwei/anaconda3/lib/python3.11/site-packages/sklearn/utils/validation.py:605: FutureWarning: is_sparse is deprecated and will be removed in a future version. Check `isinstance(dtype, pd.SparseDtype)` instead.\n",
      "  if is_sparse(pd_dtype):\n",
      "/Users/gohjunwei/anaconda3/lib/python3.11/site-packages/sklearn/utils/validation.py:614: FutureWarning: is_sparse is deprecated and will be removed in a future version. Check `isinstance(dtype, pd.SparseDtype)` instead.\n",
      "  if is_sparse(pd_dtype) or not is_extension_array_dtype(pd_dtype):\n",
      "/Users/gohjunwei/anaconda3/lib/python3.11/site-packages/sklearn/utils/validation.py:605: FutureWarning: is_sparse is deprecated and will be removed in a future version. Check `isinstance(dtype, pd.SparseDtype)` instead.\n",
      "  if is_sparse(pd_dtype):\n",
      "/Users/gohjunwei/anaconda3/lib/python3.11/site-packages/sklearn/utils/validation.py:614: FutureWarning: is_sparse is deprecated and will be removed in a future version. Check `isinstance(dtype, pd.SparseDtype)` instead.\n",
      "  if is_sparse(pd_dtype) or not is_extension_array_dtype(pd_dtype):\n"
     ]
    },
    {
     "name": "stdout",
     "output_type": "stream",
     "text": [
      "[CV] END learning_rate=0.2352496259847715, max_depth=4, n_estimators=487; total time=   0.7s\n"
     ]
    },
    {
     "name": "stderr",
     "output_type": "stream",
     "text": [
      "/Users/gohjunwei/anaconda3/lib/python3.11/site-packages/sklearn/utils/validation.py:605: FutureWarning: is_sparse is deprecated and will be removed in a future version. Check `isinstance(dtype, pd.SparseDtype)` instead.\n",
      "  if is_sparse(pd_dtype):\n",
      "/Users/gohjunwei/anaconda3/lib/python3.11/site-packages/sklearn/utils/validation.py:614: FutureWarning: is_sparse is deprecated and will be removed in a future version. Check `isinstance(dtype, pd.SparseDtype)` instead.\n",
      "  if is_sparse(pd_dtype) or not is_extension_array_dtype(pd_dtype):\n",
      "/Users/gohjunwei/anaconda3/lib/python3.11/site-packages/sklearn/utils/validation.py:605: FutureWarning: is_sparse is deprecated and will be removed in a future version. Check `isinstance(dtype, pd.SparseDtype)` instead.\n",
      "  if is_sparse(pd_dtype):\n",
      "/Users/gohjunwei/anaconda3/lib/python3.11/site-packages/sklearn/utils/validation.py:614: FutureWarning: is_sparse is deprecated and will be removed in a future version. Check `isinstance(dtype, pd.SparseDtype)` instead.\n",
      "  if is_sparse(pd_dtype) or not is_extension_array_dtype(pd_dtype):\n",
      "/Users/gohjunwei/anaconda3/lib/python3.11/site-packages/sklearn/utils/validation.py:605: FutureWarning: is_sparse is deprecated and will be removed in a future version. Check `isinstance(dtype, pd.SparseDtype)` instead.\n",
      "  if is_sparse(pd_dtype):\n",
      "/Users/gohjunwei/anaconda3/lib/python3.11/site-packages/sklearn/utils/validation.py:614: FutureWarning: is_sparse is deprecated and will be removed in a future version. Check `isinstance(dtype, pd.SparseDtype)` instead.\n",
      "  if is_sparse(pd_dtype) or not is_extension_array_dtype(pd_dtype):\n"
     ]
    },
    {
     "name": "stdout",
     "output_type": "stream",
     "text": [
      "[CV] END learning_rate=0.2352496259847715, max_depth=4, n_estimators=487; total time=   0.7s\n"
     ]
    },
    {
     "name": "stderr",
     "output_type": "stream",
     "text": [
      "/Users/gohjunwei/anaconda3/lib/python3.11/site-packages/sklearn/utils/validation.py:605: FutureWarning: is_sparse is deprecated and will be removed in a future version. Check `isinstance(dtype, pd.SparseDtype)` instead.\n",
      "  if is_sparse(pd_dtype):\n",
      "/Users/gohjunwei/anaconda3/lib/python3.11/site-packages/sklearn/utils/validation.py:614: FutureWarning: is_sparse is deprecated and will be removed in a future version. Check `isinstance(dtype, pd.SparseDtype)` instead.\n",
      "  if is_sparse(pd_dtype) or not is_extension_array_dtype(pd_dtype):\n",
      "/Users/gohjunwei/anaconda3/lib/python3.11/site-packages/sklearn/utils/validation.py:605: FutureWarning: is_sparse is deprecated and will be removed in a future version. Check `isinstance(dtype, pd.SparseDtype)` instead.\n",
      "  if is_sparse(pd_dtype):\n",
      "/Users/gohjunwei/anaconda3/lib/python3.11/site-packages/sklearn/utils/validation.py:614: FutureWarning: is_sparse is deprecated and will be removed in a future version. Check `isinstance(dtype, pd.SparseDtype)` instead.\n",
      "  if is_sparse(pd_dtype) or not is_extension_array_dtype(pd_dtype):\n",
      "/Users/gohjunwei/anaconda3/lib/python3.11/site-packages/sklearn/utils/validation.py:605: FutureWarning: is_sparse is deprecated and will be removed in a future version. Check `isinstance(dtype, pd.SparseDtype)` instead.\n",
      "  if is_sparse(pd_dtype):\n",
      "/Users/gohjunwei/anaconda3/lib/python3.11/site-packages/sklearn/utils/validation.py:614: FutureWarning: is_sparse is deprecated and will be removed in a future version. Check `isinstance(dtype, pd.SparseDtype)` instead.\n",
      "  if is_sparse(pd_dtype) or not is_extension_array_dtype(pd_dtype):\n"
     ]
    },
    {
     "name": "stdout",
     "output_type": "stream",
     "text": [
      "[CV] END learning_rate=0.2352496259847715, max_depth=4, n_estimators=487; total time=   0.8s\n"
     ]
    },
    {
     "name": "stderr",
     "output_type": "stream",
     "text": [
      "/Users/gohjunwei/anaconda3/lib/python3.11/site-packages/sklearn/utils/validation.py:605: FutureWarning: is_sparse is deprecated and will be removed in a future version. Check `isinstance(dtype, pd.SparseDtype)` instead.\n",
      "  if is_sparse(pd_dtype):\n",
      "/Users/gohjunwei/anaconda3/lib/python3.11/site-packages/sklearn/utils/validation.py:614: FutureWarning: is_sparse is deprecated and will be removed in a future version. Check `isinstance(dtype, pd.SparseDtype)` instead.\n",
      "  if is_sparse(pd_dtype) or not is_extension_array_dtype(pd_dtype):\n",
      "/Users/gohjunwei/anaconda3/lib/python3.11/site-packages/sklearn/utils/validation.py:605: FutureWarning: is_sparse is deprecated and will be removed in a future version. Check `isinstance(dtype, pd.SparseDtype)` instead.\n",
      "  if is_sparse(pd_dtype):\n",
      "/Users/gohjunwei/anaconda3/lib/python3.11/site-packages/sklearn/utils/validation.py:614: FutureWarning: is_sparse is deprecated and will be removed in a future version. Check `isinstance(dtype, pd.SparseDtype)` instead.\n",
      "  if is_sparse(pd_dtype) or not is_extension_array_dtype(pd_dtype):\n",
      "/Users/gohjunwei/anaconda3/lib/python3.11/site-packages/sklearn/utils/validation.py:605: FutureWarning: is_sparse is deprecated and will be removed in a future version. Check `isinstance(dtype, pd.SparseDtype)` instead.\n",
      "  if is_sparse(pd_dtype):\n",
      "/Users/gohjunwei/anaconda3/lib/python3.11/site-packages/sklearn/utils/validation.py:614: FutureWarning: is_sparse is deprecated and will be removed in a future version. Check `isinstance(dtype, pd.SparseDtype)` instead.\n",
      "  if is_sparse(pd_dtype) or not is_extension_array_dtype(pd_dtype):\n"
     ]
    },
    {
     "name": "stdout",
     "output_type": "stream",
     "text": [
      "[CV] END learning_rate=0.4811008778424264, max_depth=4, n_estimators=876; total time=   1.3s\n"
     ]
    },
    {
     "name": "stderr",
     "output_type": "stream",
     "text": [
      "/Users/gohjunwei/anaconda3/lib/python3.11/site-packages/sklearn/utils/validation.py:605: FutureWarning: is_sparse is deprecated and will be removed in a future version. Check `isinstance(dtype, pd.SparseDtype)` instead.\n",
      "  if is_sparse(pd_dtype):\n",
      "/Users/gohjunwei/anaconda3/lib/python3.11/site-packages/sklearn/utils/validation.py:614: FutureWarning: is_sparse is deprecated and will be removed in a future version. Check `isinstance(dtype, pd.SparseDtype)` instead.\n",
      "  if is_sparse(pd_dtype) or not is_extension_array_dtype(pd_dtype):\n",
      "/Users/gohjunwei/anaconda3/lib/python3.11/site-packages/sklearn/utils/validation.py:605: FutureWarning: is_sparse is deprecated and will be removed in a future version. Check `isinstance(dtype, pd.SparseDtype)` instead.\n",
      "  if is_sparse(pd_dtype):\n",
      "/Users/gohjunwei/anaconda3/lib/python3.11/site-packages/sklearn/utils/validation.py:614: FutureWarning: is_sparse is deprecated and will be removed in a future version. Check `isinstance(dtype, pd.SparseDtype)` instead.\n",
      "  if is_sparse(pd_dtype) or not is_extension_array_dtype(pd_dtype):\n",
      "/Users/gohjunwei/anaconda3/lib/python3.11/site-packages/sklearn/utils/validation.py:605: FutureWarning: is_sparse is deprecated and will be removed in a future version. Check `isinstance(dtype, pd.SparseDtype)` instead.\n",
      "  if is_sparse(pd_dtype):\n",
      "/Users/gohjunwei/anaconda3/lib/python3.11/site-packages/sklearn/utils/validation.py:614: FutureWarning: is_sparse is deprecated and will be removed in a future version. Check `isinstance(dtype, pd.SparseDtype)` instead.\n",
      "  if is_sparse(pd_dtype) or not is_extension_array_dtype(pd_dtype):\n"
     ]
    },
    {
     "name": "stdout",
     "output_type": "stream",
     "text": [
      "[CV] END learning_rate=0.4811008778424264, max_depth=4, n_estimators=876; total time=   1.5s\n"
     ]
    },
    {
     "name": "stderr",
     "output_type": "stream",
     "text": [
      "/Users/gohjunwei/anaconda3/lib/python3.11/site-packages/sklearn/utils/validation.py:605: FutureWarning: is_sparse is deprecated and will be removed in a future version. Check `isinstance(dtype, pd.SparseDtype)` instead.\n",
      "  if is_sparse(pd_dtype):\n",
      "/Users/gohjunwei/anaconda3/lib/python3.11/site-packages/sklearn/utils/validation.py:614: FutureWarning: is_sparse is deprecated and will be removed in a future version. Check `isinstance(dtype, pd.SparseDtype)` instead.\n",
      "  if is_sparse(pd_dtype) or not is_extension_array_dtype(pd_dtype):\n",
      "/Users/gohjunwei/anaconda3/lib/python3.11/site-packages/sklearn/utils/validation.py:605: FutureWarning: is_sparse is deprecated and will be removed in a future version. Check `isinstance(dtype, pd.SparseDtype)` instead.\n",
      "  if is_sparse(pd_dtype):\n",
      "/Users/gohjunwei/anaconda3/lib/python3.11/site-packages/sklearn/utils/validation.py:614: FutureWarning: is_sparse is deprecated and will be removed in a future version. Check `isinstance(dtype, pd.SparseDtype)` instead.\n",
      "  if is_sparse(pd_dtype) or not is_extension_array_dtype(pd_dtype):\n",
      "/Users/gohjunwei/anaconda3/lib/python3.11/site-packages/sklearn/utils/validation.py:605: FutureWarning: is_sparse is deprecated and will be removed in a future version. Check `isinstance(dtype, pd.SparseDtype)` instead.\n",
      "  if is_sparse(pd_dtype):\n",
      "/Users/gohjunwei/anaconda3/lib/python3.11/site-packages/sklearn/utils/validation.py:614: FutureWarning: is_sparse is deprecated and will be removed in a future version. Check `isinstance(dtype, pd.SparseDtype)` instead.\n",
      "  if is_sparse(pd_dtype) or not is_extension_array_dtype(pd_dtype):\n"
     ]
    },
    {
     "name": "stdout",
     "output_type": "stream",
     "text": [
      "[CV] END learning_rate=0.4811008778424264, max_depth=4, n_estimators=876; total time=   1.7s\n"
     ]
    },
    {
     "name": "stderr",
     "output_type": "stream",
     "text": [
      "/Users/gohjunwei/anaconda3/lib/python3.11/site-packages/sklearn/utils/validation.py:605: FutureWarning: is_sparse is deprecated and will be removed in a future version. Check `isinstance(dtype, pd.SparseDtype)` instead.\n",
      "  if is_sparse(pd_dtype):\n",
      "/Users/gohjunwei/anaconda3/lib/python3.11/site-packages/sklearn/utils/validation.py:614: FutureWarning: is_sparse is deprecated and will be removed in a future version. Check `isinstance(dtype, pd.SparseDtype)` instead.\n",
      "  if is_sparse(pd_dtype) or not is_extension_array_dtype(pd_dtype):\n",
      "/Users/gohjunwei/anaconda3/lib/python3.11/site-packages/sklearn/utils/validation.py:605: FutureWarning: is_sparse is deprecated and will be removed in a future version. Check `isinstance(dtype, pd.SparseDtype)` instead.\n",
      "  if is_sparse(pd_dtype):\n",
      "/Users/gohjunwei/anaconda3/lib/python3.11/site-packages/sklearn/utils/validation.py:614: FutureWarning: is_sparse is deprecated and will be removed in a future version. Check `isinstance(dtype, pd.SparseDtype)` instead.\n",
      "  if is_sparse(pd_dtype) or not is_extension_array_dtype(pd_dtype):\n",
      "/Users/gohjunwei/anaconda3/lib/python3.11/site-packages/sklearn/utils/validation.py:605: FutureWarning: is_sparse is deprecated and will be removed in a future version. Check `isinstance(dtype, pd.SparseDtype)` instead.\n",
      "  if is_sparse(pd_dtype):\n",
      "/Users/gohjunwei/anaconda3/lib/python3.11/site-packages/sklearn/utils/validation.py:614: FutureWarning: is_sparse is deprecated and will be removed in a future version. Check `isinstance(dtype, pd.SparseDtype)` instead.\n",
      "  if is_sparse(pd_dtype) or not is_extension_array_dtype(pd_dtype):\n"
     ]
    },
    {
     "name": "stdout",
     "output_type": "stream",
     "text": [
      "[CV] END learning_rate=0.0179831261101071, max_depth=4, n_estimators=439; total time=   0.8s\n"
     ]
    },
    {
     "name": "stderr",
     "output_type": "stream",
     "text": [
      "/Users/gohjunwei/anaconda3/lib/python3.11/site-packages/sklearn/utils/validation.py:605: FutureWarning: is_sparse is deprecated and will be removed in a future version. Check `isinstance(dtype, pd.SparseDtype)` instead.\n",
      "  if is_sparse(pd_dtype):\n",
      "/Users/gohjunwei/anaconda3/lib/python3.11/site-packages/sklearn/utils/validation.py:614: FutureWarning: is_sparse is deprecated and will be removed in a future version. Check `isinstance(dtype, pd.SparseDtype)` instead.\n",
      "  if is_sparse(pd_dtype) or not is_extension_array_dtype(pd_dtype):\n",
      "/Users/gohjunwei/anaconda3/lib/python3.11/site-packages/sklearn/utils/validation.py:605: FutureWarning: is_sparse is deprecated and will be removed in a future version. Check `isinstance(dtype, pd.SparseDtype)` instead.\n",
      "  if is_sparse(pd_dtype):\n",
      "/Users/gohjunwei/anaconda3/lib/python3.11/site-packages/sklearn/utils/validation.py:614: FutureWarning: is_sparse is deprecated and will be removed in a future version. Check `isinstance(dtype, pd.SparseDtype)` instead.\n",
      "  if is_sparse(pd_dtype) or not is_extension_array_dtype(pd_dtype):\n",
      "/Users/gohjunwei/anaconda3/lib/python3.11/site-packages/sklearn/utils/validation.py:605: FutureWarning: is_sparse is deprecated and will be removed in a future version. Check `isinstance(dtype, pd.SparseDtype)` instead.\n",
      "  if is_sparse(pd_dtype):\n",
      "/Users/gohjunwei/anaconda3/lib/python3.11/site-packages/sklearn/utils/validation.py:614: FutureWarning: is_sparse is deprecated and will be removed in a future version. Check `isinstance(dtype, pd.SparseDtype)` instead.\n",
      "  if is_sparse(pd_dtype) or not is_extension_array_dtype(pd_dtype):\n"
     ]
    },
    {
     "name": "stdout",
     "output_type": "stream",
     "text": [
      "[CV] END learning_rate=0.0179831261101071, max_depth=4, n_estimators=439; total time=   0.8s\n"
     ]
    },
    {
     "name": "stderr",
     "output_type": "stream",
     "text": [
      "/Users/gohjunwei/anaconda3/lib/python3.11/site-packages/sklearn/utils/validation.py:605: FutureWarning: is_sparse is deprecated and will be removed in a future version. Check `isinstance(dtype, pd.SparseDtype)` instead.\n",
      "  if is_sparse(pd_dtype):\n",
      "/Users/gohjunwei/anaconda3/lib/python3.11/site-packages/sklearn/utils/validation.py:614: FutureWarning: is_sparse is deprecated and will be removed in a future version. Check `isinstance(dtype, pd.SparseDtype)` instead.\n",
      "  if is_sparse(pd_dtype) or not is_extension_array_dtype(pd_dtype):\n",
      "/Users/gohjunwei/anaconda3/lib/python3.11/site-packages/sklearn/utils/validation.py:605: FutureWarning: is_sparse is deprecated and will be removed in a future version. Check `isinstance(dtype, pd.SparseDtype)` instead.\n",
      "  if is_sparse(pd_dtype):\n",
      "/Users/gohjunwei/anaconda3/lib/python3.11/site-packages/sklearn/utils/validation.py:614: FutureWarning: is_sparse is deprecated and will be removed in a future version. Check `isinstance(dtype, pd.SparseDtype)` instead.\n",
      "  if is_sparse(pd_dtype) or not is_extension_array_dtype(pd_dtype):\n",
      "/Users/gohjunwei/anaconda3/lib/python3.11/site-packages/sklearn/utils/validation.py:605: FutureWarning: is_sparse is deprecated and will be removed in a future version. Check `isinstance(dtype, pd.SparseDtype)` instead.\n",
      "  if is_sparse(pd_dtype):\n",
      "/Users/gohjunwei/anaconda3/lib/python3.11/site-packages/sklearn/utils/validation.py:614: FutureWarning: is_sparse is deprecated and will be removed in a future version. Check `isinstance(dtype, pd.SparseDtype)` instead.\n",
      "  if is_sparse(pd_dtype) or not is_extension_array_dtype(pd_dtype):\n"
     ]
    },
    {
     "name": "stdout",
     "output_type": "stream",
     "text": [
      "[CV] END learning_rate=0.0179831261101071, max_depth=4, n_estimators=439; total time=   0.7s\n"
     ]
    },
    {
     "name": "stderr",
     "output_type": "stream",
     "text": [
      "/Users/gohjunwei/anaconda3/lib/python3.11/site-packages/sklearn/utils/validation.py:605: FutureWarning: is_sparse is deprecated and will be removed in a future version. Check `isinstance(dtype, pd.SparseDtype)` instead.\n",
      "  if is_sparse(pd_dtype):\n",
      "/Users/gohjunwei/anaconda3/lib/python3.11/site-packages/sklearn/utils/validation.py:614: FutureWarning: is_sparse is deprecated and will be removed in a future version. Check `isinstance(dtype, pd.SparseDtype)` instead.\n",
      "  if is_sparse(pd_dtype) or not is_extension_array_dtype(pd_dtype):\n",
      "/Users/gohjunwei/anaconda3/lib/python3.11/site-packages/sklearn/utils/validation.py:605: FutureWarning: is_sparse is deprecated and will be removed in a future version. Check `isinstance(dtype, pd.SparseDtype)` instead.\n",
      "  if is_sparse(pd_dtype):\n",
      "/Users/gohjunwei/anaconda3/lib/python3.11/site-packages/sklearn/utils/validation.py:614: FutureWarning: is_sparse is deprecated and will be removed in a future version. Check `isinstance(dtype, pd.SparseDtype)` instead.\n",
      "  if is_sparse(pd_dtype) or not is_extension_array_dtype(pd_dtype):\n",
      "/Users/gohjunwei/anaconda3/lib/python3.11/site-packages/sklearn/utils/validation.py:605: FutureWarning: is_sparse is deprecated and will be removed in a future version. Check `isinstance(dtype, pd.SparseDtype)` instead.\n",
      "  if is_sparse(pd_dtype):\n",
      "/Users/gohjunwei/anaconda3/lib/python3.11/site-packages/sklearn/utils/validation.py:614: FutureWarning: is_sparse is deprecated and will be removed in a future version. Check `isinstance(dtype, pd.SparseDtype)` instead.\n",
      "  if is_sparse(pd_dtype) or not is_extension_array_dtype(pd_dtype):\n"
     ]
    },
    {
     "name": "stdout",
     "output_type": "stream",
     "text": [
      "[CV] END learning_rate=0.13051273301300587, max_depth=14, n_estimators=554; total time=   4.3s\n"
     ]
    },
    {
     "name": "stderr",
     "output_type": "stream",
     "text": [
      "/Users/gohjunwei/anaconda3/lib/python3.11/site-packages/sklearn/utils/validation.py:605: FutureWarning: is_sparse is deprecated and will be removed in a future version. Check `isinstance(dtype, pd.SparseDtype)` instead.\n",
      "  if is_sparse(pd_dtype):\n",
      "/Users/gohjunwei/anaconda3/lib/python3.11/site-packages/sklearn/utils/validation.py:614: FutureWarning: is_sparse is deprecated and will be removed in a future version. Check `isinstance(dtype, pd.SparseDtype)` instead.\n",
      "  if is_sparse(pd_dtype) or not is_extension_array_dtype(pd_dtype):\n",
      "/Users/gohjunwei/anaconda3/lib/python3.11/site-packages/sklearn/utils/validation.py:605: FutureWarning: is_sparse is deprecated and will be removed in a future version. Check `isinstance(dtype, pd.SparseDtype)` instead.\n",
      "  if is_sparse(pd_dtype):\n",
      "/Users/gohjunwei/anaconda3/lib/python3.11/site-packages/sklearn/utils/validation.py:614: FutureWarning: is_sparse is deprecated and will be removed in a future version. Check `isinstance(dtype, pd.SparseDtype)` instead.\n",
      "  if is_sparse(pd_dtype) or not is_extension_array_dtype(pd_dtype):\n",
      "/Users/gohjunwei/anaconda3/lib/python3.11/site-packages/sklearn/utils/validation.py:605: FutureWarning: is_sparse is deprecated and will be removed in a future version. Check `isinstance(dtype, pd.SparseDtype)` instead.\n",
      "  if is_sparse(pd_dtype):\n",
      "/Users/gohjunwei/anaconda3/lib/python3.11/site-packages/sklearn/utils/validation.py:614: FutureWarning: is_sparse is deprecated and will be removed in a future version. Check `isinstance(dtype, pd.SparseDtype)` instead.\n",
      "  if is_sparse(pd_dtype) or not is_extension_array_dtype(pd_dtype):\n"
     ]
    },
    {
     "name": "stdout",
     "output_type": "stream",
     "text": [
      "[CV] END learning_rate=0.13051273301300587, max_depth=14, n_estimators=554; total time=   3.9s\n"
     ]
    },
    {
     "name": "stderr",
     "output_type": "stream",
     "text": [
      "/Users/gohjunwei/anaconda3/lib/python3.11/site-packages/sklearn/utils/validation.py:605: FutureWarning: is_sparse is deprecated and will be removed in a future version. Check `isinstance(dtype, pd.SparseDtype)` instead.\n",
      "  if is_sparse(pd_dtype):\n",
      "/Users/gohjunwei/anaconda3/lib/python3.11/site-packages/sklearn/utils/validation.py:614: FutureWarning: is_sparse is deprecated and will be removed in a future version. Check `isinstance(dtype, pd.SparseDtype)` instead.\n",
      "  if is_sparse(pd_dtype) or not is_extension_array_dtype(pd_dtype):\n",
      "/Users/gohjunwei/anaconda3/lib/python3.11/site-packages/sklearn/utils/validation.py:605: FutureWarning: is_sparse is deprecated and will be removed in a future version. Check `isinstance(dtype, pd.SparseDtype)` instead.\n",
      "  if is_sparse(pd_dtype):\n",
      "/Users/gohjunwei/anaconda3/lib/python3.11/site-packages/sklearn/utils/validation.py:614: FutureWarning: is_sparse is deprecated and will be removed in a future version. Check `isinstance(dtype, pd.SparseDtype)` instead.\n",
      "  if is_sparse(pd_dtype) or not is_extension_array_dtype(pd_dtype):\n",
      "/Users/gohjunwei/anaconda3/lib/python3.11/site-packages/sklearn/utils/validation.py:605: FutureWarning: is_sparse is deprecated and will be removed in a future version. Check `isinstance(dtype, pd.SparseDtype)` instead.\n",
      "  if is_sparse(pd_dtype):\n",
      "/Users/gohjunwei/anaconda3/lib/python3.11/site-packages/sklearn/utils/validation.py:614: FutureWarning: is_sparse is deprecated and will be removed in a future version. Check `isinstance(dtype, pd.SparseDtype)` instead.\n",
      "  if is_sparse(pd_dtype) or not is_extension_array_dtype(pd_dtype):\n"
     ]
    },
    {
     "name": "stdout",
     "output_type": "stream",
     "text": [
      "[CV] END learning_rate=0.13051273301300587, max_depth=14, n_estimators=554; total time=   4.1s\n"
     ]
    },
    {
     "name": "stderr",
     "output_type": "stream",
     "text": [
      "/Users/gohjunwei/anaconda3/lib/python3.11/site-packages/sklearn/utils/validation.py:605: FutureWarning: is_sparse is deprecated and will be removed in a future version. Check `isinstance(dtype, pd.SparseDtype)` instead.\n",
      "  if is_sparse(pd_dtype):\n",
      "/Users/gohjunwei/anaconda3/lib/python3.11/site-packages/sklearn/utils/validation.py:614: FutureWarning: is_sparse is deprecated and will be removed in a future version. Check `isinstance(dtype, pd.SparseDtype)` instead.\n",
      "  if is_sparse(pd_dtype) or not is_extension_array_dtype(pd_dtype):\n",
      "/Users/gohjunwei/anaconda3/lib/python3.11/site-packages/sklearn/utils/validation.py:605: FutureWarning: is_sparse is deprecated and will be removed in a future version. Check `isinstance(dtype, pd.SparseDtype)` instead.\n",
      "  if is_sparse(pd_dtype):\n",
      "/Users/gohjunwei/anaconda3/lib/python3.11/site-packages/sklearn/utils/validation.py:614: FutureWarning: is_sparse is deprecated and will be removed in a future version. Check `isinstance(dtype, pd.SparseDtype)` instead.\n",
      "  if is_sparse(pd_dtype) or not is_extension_array_dtype(pd_dtype):\n",
      "/Users/gohjunwei/anaconda3/lib/python3.11/site-packages/sklearn/utils/validation.py:605: FutureWarning: is_sparse is deprecated and will be removed in a future version. Check `isinstance(dtype, pd.SparseDtype)` instead.\n",
      "  if is_sparse(pd_dtype):\n",
      "/Users/gohjunwei/anaconda3/lib/python3.11/site-packages/sklearn/utils/validation.py:614: FutureWarning: is_sparse is deprecated and will be removed in a future version. Check `isinstance(dtype, pd.SparseDtype)` instead.\n",
      "  if is_sparse(pd_dtype) or not is_extension_array_dtype(pd_dtype):\n"
     ]
    },
    {
     "name": "stdout",
     "output_type": "stream",
     "text": [
      "[CV] END learning_rate=0.31499832889131046, max_depth=10, n_estimators=134; total time=   0.5s\n"
     ]
    },
    {
     "name": "stderr",
     "output_type": "stream",
     "text": [
      "/Users/gohjunwei/anaconda3/lib/python3.11/site-packages/sklearn/utils/validation.py:605: FutureWarning: is_sparse is deprecated and will be removed in a future version. Check `isinstance(dtype, pd.SparseDtype)` instead.\n",
      "  if is_sparse(pd_dtype):\n",
      "/Users/gohjunwei/anaconda3/lib/python3.11/site-packages/sklearn/utils/validation.py:614: FutureWarning: is_sparse is deprecated and will be removed in a future version. Check `isinstance(dtype, pd.SparseDtype)` instead.\n",
      "  if is_sparse(pd_dtype) or not is_extension_array_dtype(pd_dtype):\n",
      "/Users/gohjunwei/anaconda3/lib/python3.11/site-packages/sklearn/utils/validation.py:605: FutureWarning: is_sparse is deprecated and will be removed in a future version. Check `isinstance(dtype, pd.SparseDtype)` instead.\n",
      "  if is_sparse(pd_dtype):\n",
      "/Users/gohjunwei/anaconda3/lib/python3.11/site-packages/sklearn/utils/validation.py:614: FutureWarning: is_sparse is deprecated and will be removed in a future version. Check `isinstance(dtype, pd.SparseDtype)` instead.\n",
      "  if is_sparse(pd_dtype) or not is_extension_array_dtype(pd_dtype):\n",
      "/Users/gohjunwei/anaconda3/lib/python3.11/site-packages/sklearn/utils/validation.py:605: FutureWarning: is_sparse is deprecated and will be removed in a future version. Check `isinstance(dtype, pd.SparseDtype)` instead.\n",
      "  if is_sparse(pd_dtype):\n",
      "/Users/gohjunwei/anaconda3/lib/python3.11/site-packages/sklearn/utils/validation.py:614: FutureWarning: is_sparse is deprecated and will be removed in a future version. Check `isinstance(dtype, pd.SparseDtype)` instead.\n",
      "  if is_sparse(pd_dtype) or not is_extension_array_dtype(pd_dtype):\n"
     ]
    },
    {
     "name": "stdout",
     "output_type": "stream",
     "text": [
      "[CV] END learning_rate=0.31499832889131046, max_depth=10, n_estimators=134; total time=   0.6s\n"
     ]
    },
    {
     "name": "stderr",
     "output_type": "stream",
     "text": [
      "/Users/gohjunwei/anaconda3/lib/python3.11/site-packages/sklearn/utils/validation.py:605: FutureWarning: is_sparse is deprecated and will be removed in a future version. Check `isinstance(dtype, pd.SparseDtype)` instead.\n",
      "  if is_sparse(pd_dtype):\n",
      "/Users/gohjunwei/anaconda3/lib/python3.11/site-packages/sklearn/utils/validation.py:614: FutureWarning: is_sparse is deprecated and will be removed in a future version. Check `isinstance(dtype, pd.SparseDtype)` instead.\n",
      "  if is_sparse(pd_dtype) or not is_extension_array_dtype(pd_dtype):\n",
      "/Users/gohjunwei/anaconda3/lib/python3.11/site-packages/sklearn/utils/validation.py:605: FutureWarning: is_sparse is deprecated and will be removed in a future version. Check `isinstance(dtype, pd.SparseDtype)` instead.\n",
      "  if is_sparse(pd_dtype):\n",
      "/Users/gohjunwei/anaconda3/lib/python3.11/site-packages/sklearn/utils/validation.py:614: FutureWarning: is_sparse is deprecated and will be removed in a future version. Check `isinstance(dtype, pd.SparseDtype)` instead.\n",
      "  if is_sparse(pd_dtype) or not is_extension_array_dtype(pd_dtype):\n",
      "/Users/gohjunwei/anaconda3/lib/python3.11/site-packages/sklearn/utils/validation.py:605: FutureWarning: is_sparse is deprecated and will be removed in a future version. Check `isinstance(dtype, pd.SparseDtype)` instead.\n",
      "  if is_sparse(pd_dtype):\n",
      "/Users/gohjunwei/anaconda3/lib/python3.11/site-packages/sklearn/utils/validation.py:614: FutureWarning: is_sparse is deprecated and will be removed in a future version. Check `isinstance(dtype, pd.SparseDtype)` instead.\n",
      "  if is_sparse(pd_dtype) or not is_extension_array_dtype(pd_dtype):\n"
     ]
    },
    {
     "name": "stdout",
     "output_type": "stream",
     "text": [
      "[CV] END learning_rate=0.31499832889131046, max_depth=10, n_estimators=134; total time=   0.6s\n"
     ]
    },
    {
     "name": "stderr",
     "output_type": "stream",
     "text": [
      "/Users/gohjunwei/anaconda3/lib/python3.11/site-packages/sklearn/utils/validation.py:605: FutureWarning: is_sparse is deprecated and will be removed in a future version. Check `isinstance(dtype, pd.SparseDtype)` instead.\n",
      "  if is_sparse(pd_dtype):\n",
      "/Users/gohjunwei/anaconda3/lib/python3.11/site-packages/sklearn/utils/validation.py:614: FutureWarning: is_sparse is deprecated and will be removed in a future version. Check `isinstance(dtype, pd.SparseDtype)` instead.\n",
      "  if is_sparse(pd_dtype) or not is_extension_array_dtype(pd_dtype):\n",
      "/Users/gohjunwei/anaconda3/lib/python3.11/site-packages/sklearn/utils/validation.py:605: FutureWarning: is_sparse is deprecated and will be removed in a future version. Check `isinstance(dtype, pd.SparseDtype)` instead.\n",
      "  if is_sparse(pd_dtype):\n",
      "/Users/gohjunwei/anaconda3/lib/python3.11/site-packages/sklearn/utils/validation.py:614: FutureWarning: is_sparse is deprecated and will be removed in a future version. Check `isinstance(dtype, pd.SparseDtype)` instead.\n",
      "  if is_sparse(pd_dtype) or not is_extension_array_dtype(pd_dtype):\n",
      "/Users/gohjunwei/anaconda3/lib/python3.11/site-packages/sklearn/utils/validation.py:605: FutureWarning: is_sparse is deprecated and will be removed in a future version. Check `isinstance(dtype, pd.SparseDtype)` instead.\n",
      "  if is_sparse(pd_dtype):\n",
      "/Users/gohjunwei/anaconda3/lib/python3.11/site-packages/sklearn/utils/validation.py:614: FutureWarning: is_sparse is deprecated and will be removed in a future version. Check `isinstance(dtype, pd.SparseDtype)` instead.\n",
      "  if is_sparse(pd_dtype) or not is_extension_array_dtype(pd_dtype):\n"
     ]
    },
    {
     "name": "stdout",
     "output_type": "stream",
     "text": [
      "[CV] END learning_rate=0.46466020103939104, max_depth=6, n_estimators=661; total time=   2.0s\n"
     ]
    },
    {
     "name": "stderr",
     "output_type": "stream",
     "text": [
      "/Users/gohjunwei/anaconda3/lib/python3.11/site-packages/sklearn/utils/validation.py:605: FutureWarning: is_sparse is deprecated and will be removed in a future version. Check `isinstance(dtype, pd.SparseDtype)` instead.\n",
      "  if is_sparse(pd_dtype):\n",
      "/Users/gohjunwei/anaconda3/lib/python3.11/site-packages/sklearn/utils/validation.py:614: FutureWarning: is_sparse is deprecated and will be removed in a future version. Check `isinstance(dtype, pd.SparseDtype)` instead.\n",
      "  if is_sparse(pd_dtype) or not is_extension_array_dtype(pd_dtype):\n",
      "/Users/gohjunwei/anaconda3/lib/python3.11/site-packages/sklearn/utils/validation.py:605: FutureWarning: is_sparse is deprecated and will be removed in a future version. Check `isinstance(dtype, pd.SparseDtype)` instead.\n",
      "  if is_sparse(pd_dtype):\n",
      "/Users/gohjunwei/anaconda3/lib/python3.11/site-packages/sklearn/utils/validation.py:614: FutureWarning: is_sparse is deprecated and will be removed in a future version. Check `isinstance(dtype, pd.SparseDtype)` instead.\n",
      "  if is_sparse(pd_dtype) or not is_extension_array_dtype(pd_dtype):\n",
      "/Users/gohjunwei/anaconda3/lib/python3.11/site-packages/sklearn/utils/validation.py:605: FutureWarning: is_sparse is deprecated and will be removed in a future version. Check `isinstance(dtype, pd.SparseDtype)` instead.\n",
      "  if is_sparse(pd_dtype):\n",
      "/Users/gohjunwei/anaconda3/lib/python3.11/site-packages/sklearn/utils/validation.py:614: FutureWarning: is_sparse is deprecated and will be removed in a future version. Check `isinstance(dtype, pd.SparseDtype)` instead.\n",
      "  if is_sparse(pd_dtype) or not is_extension_array_dtype(pd_dtype):\n"
     ]
    },
    {
     "name": "stdout",
     "output_type": "stream",
     "text": [
      "[CV] END learning_rate=0.46466020103939104, max_depth=6, n_estimators=661; total time=   1.6s\n"
     ]
    },
    {
     "name": "stderr",
     "output_type": "stream",
     "text": [
      "/Users/gohjunwei/anaconda3/lib/python3.11/site-packages/sklearn/utils/validation.py:605: FutureWarning: is_sparse is deprecated and will be removed in a future version. Check `isinstance(dtype, pd.SparseDtype)` instead.\n",
      "  if is_sparse(pd_dtype):\n",
      "/Users/gohjunwei/anaconda3/lib/python3.11/site-packages/sklearn/utils/validation.py:614: FutureWarning: is_sparse is deprecated and will be removed in a future version. Check `isinstance(dtype, pd.SparseDtype)` instead.\n",
      "  if is_sparse(pd_dtype) or not is_extension_array_dtype(pd_dtype):\n",
      "/Users/gohjunwei/anaconda3/lib/python3.11/site-packages/sklearn/utils/validation.py:605: FutureWarning: is_sparse is deprecated and will be removed in a future version. Check `isinstance(dtype, pd.SparseDtype)` instead.\n",
      "  if is_sparse(pd_dtype):\n",
      "/Users/gohjunwei/anaconda3/lib/python3.11/site-packages/sklearn/utils/validation.py:614: FutureWarning: is_sparse is deprecated and will be removed in a future version. Check `isinstance(dtype, pd.SparseDtype)` instead.\n",
      "  if is_sparse(pd_dtype) or not is_extension_array_dtype(pd_dtype):\n",
      "/Users/gohjunwei/anaconda3/lib/python3.11/site-packages/sklearn/utils/validation.py:605: FutureWarning: is_sparse is deprecated and will be removed in a future version. Check `isinstance(dtype, pd.SparseDtype)` instead.\n",
      "  if is_sparse(pd_dtype):\n",
      "/Users/gohjunwei/anaconda3/lib/python3.11/site-packages/sklearn/utils/validation.py:614: FutureWarning: is_sparse is deprecated and will be removed in a future version. Check `isinstance(dtype, pd.SparseDtype)` instead.\n",
      "  if is_sparse(pd_dtype) or not is_extension_array_dtype(pd_dtype):\n"
     ]
    },
    {
     "name": "stdout",
     "output_type": "stream",
     "text": [
      "[CV] END learning_rate=0.46466020103939104, max_depth=6, n_estimators=661; total time=   1.4s\n"
     ]
    },
    {
     "name": "stderr",
     "output_type": "stream",
     "text": [
      "/Users/gohjunwei/anaconda3/lib/python3.11/site-packages/sklearn/utils/validation.py:605: FutureWarning: is_sparse is deprecated and will be removed in a future version. Check `isinstance(dtype, pd.SparseDtype)` instead.\n",
      "  if is_sparse(pd_dtype):\n",
      "/Users/gohjunwei/anaconda3/lib/python3.11/site-packages/sklearn/utils/validation.py:614: FutureWarning: is_sparse is deprecated and will be removed in a future version. Check `isinstance(dtype, pd.SparseDtype)` instead.\n",
      "  if is_sparse(pd_dtype) or not is_extension_array_dtype(pd_dtype):\n",
      "/Users/gohjunwei/anaconda3/lib/python3.11/site-packages/sklearn/utils/validation.py:605: FutureWarning: is_sparse is deprecated and will be removed in a future version. Check `isinstance(dtype, pd.SparseDtype)` instead.\n",
      "  if is_sparse(pd_dtype):\n",
      "/Users/gohjunwei/anaconda3/lib/python3.11/site-packages/sklearn/utils/validation.py:614: FutureWarning: is_sparse is deprecated and will be removed in a future version. Check `isinstance(dtype, pd.SparseDtype)` instead.\n",
      "  if is_sparse(pd_dtype) or not is_extension_array_dtype(pd_dtype):\n",
      "/Users/gohjunwei/anaconda3/lib/python3.11/site-packages/sklearn/utils/validation.py:605: FutureWarning: is_sparse is deprecated and will be removed in a future version. Check `isinstance(dtype, pd.SparseDtype)` instead.\n",
      "  if is_sparse(pd_dtype):\n",
      "/Users/gohjunwei/anaconda3/lib/python3.11/site-packages/sklearn/utils/validation.py:614: FutureWarning: is_sparse is deprecated and will be removed in a future version. Check `isinstance(dtype, pd.SparseDtype)` instead.\n",
      "  if is_sparse(pd_dtype) or not is_extension_array_dtype(pd_dtype):\n"
     ]
    },
    {
     "name": "stdout",
     "output_type": "stream",
     "text": [
      "[CV] END learning_rate=0.341261142176991, max_depth=4, n_estimators=489; total time=   0.8s\n"
     ]
    },
    {
     "name": "stderr",
     "output_type": "stream",
     "text": [
      "/Users/gohjunwei/anaconda3/lib/python3.11/site-packages/sklearn/utils/validation.py:605: FutureWarning: is_sparse is deprecated and will be removed in a future version. Check `isinstance(dtype, pd.SparseDtype)` instead.\n",
      "  if is_sparse(pd_dtype):\n",
      "/Users/gohjunwei/anaconda3/lib/python3.11/site-packages/sklearn/utils/validation.py:614: FutureWarning: is_sparse is deprecated and will be removed in a future version. Check `isinstance(dtype, pd.SparseDtype)` instead.\n",
      "  if is_sparse(pd_dtype) or not is_extension_array_dtype(pd_dtype):\n",
      "/Users/gohjunwei/anaconda3/lib/python3.11/site-packages/sklearn/utils/validation.py:605: FutureWarning: is_sparse is deprecated and will be removed in a future version. Check `isinstance(dtype, pd.SparseDtype)` instead.\n",
      "  if is_sparse(pd_dtype):\n",
      "/Users/gohjunwei/anaconda3/lib/python3.11/site-packages/sklearn/utils/validation.py:614: FutureWarning: is_sparse is deprecated and will be removed in a future version. Check `isinstance(dtype, pd.SparseDtype)` instead.\n",
      "  if is_sparse(pd_dtype) or not is_extension_array_dtype(pd_dtype):\n",
      "/Users/gohjunwei/anaconda3/lib/python3.11/site-packages/sklearn/utils/validation.py:605: FutureWarning: is_sparse is deprecated and will be removed in a future version. Check `isinstance(dtype, pd.SparseDtype)` instead.\n",
      "  if is_sparse(pd_dtype):\n",
      "/Users/gohjunwei/anaconda3/lib/python3.11/site-packages/sklearn/utils/validation.py:614: FutureWarning: is_sparse is deprecated and will be removed in a future version. Check `isinstance(dtype, pd.SparseDtype)` instead.\n",
      "  if is_sparse(pd_dtype) or not is_extension_array_dtype(pd_dtype):\n"
     ]
    },
    {
     "name": "stdout",
     "output_type": "stream",
     "text": [
      "[CV] END learning_rate=0.341261142176991, max_depth=4, n_estimators=489; total time=   0.8s\n"
     ]
    },
    {
     "name": "stderr",
     "output_type": "stream",
     "text": [
      "/Users/gohjunwei/anaconda3/lib/python3.11/site-packages/sklearn/utils/validation.py:605: FutureWarning: is_sparse is deprecated and will be removed in a future version. Check `isinstance(dtype, pd.SparseDtype)` instead.\n",
      "  if is_sparse(pd_dtype):\n",
      "/Users/gohjunwei/anaconda3/lib/python3.11/site-packages/sklearn/utils/validation.py:614: FutureWarning: is_sparse is deprecated and will be removed in a future version. Check `isinstance(dtype, pd.SparseDtype)` instead.\n",
      "  if is_sparse(pd_dtype) or not is_extension_array_dtype(pd_dtype):\n",
      "/Users/gohjunwei/anaconda3/lib/python3.11/site-packages/sklearn/utils/validation.py:605: FutureWarning: is_sparse is deprecated and will be removed in a future version. Check `isinstance(dtype, pd.SparseDtype)` instead.\n",
      "  if is_sparse(pd_dtype):\n",
      "/Users/gohjunwei/anaconda3/lib/python3.11/site-packages/sklearn/utils/validation.py:614: FutureWarning: is_sparse is deprecated and will be removed in a future version. Check `isinstance(dtype, pd.SparseDtype)` instead.\n",
      "  if is_sparse(pd_dtype) or not is_extension_array_dtype(pd_dtype):\n",
      "/Users/gohjunwei/anaconda3/lib/python3.11/site-packages/sklearn/utils/validation.py:605: FutureWarning: is_sparse is deprecated and will be removed in a future version. Check `isinstance(dtype, pd.SparseDtype)` instead.\n",
      "  if is_sparse(pd_dtype):\n",
      "/Users/gohjunwei/anaconda3/lib/python3.11/site-packages/sklearn/utils/validation.py:614: FutureWarning: is_sparse is deprecated and will be removed in a future version. Check `isinstance(dtype, pd.SparseDtype)` instead.\n",
      "  if is_sparse(pd_dtype) or not is_extension_array_dtype(pd_dtype):\n"
     ]
    },
    {
     "name": "stdout",
     "output_type": "stream",
     "text": [
      "[CV] END learning_rate=0.341261142176991, max_depth=4, n_estimators=489; total time=   0.7s\n"
     ]
    },
    {
     "name": "stderr",
     "output_type": "stream",
     "text": [
      "/Users/gohjunwei/anaconda3/lib/python3.11/site-packages/sklearn/utils/validation.py:605: FutureWarning: is_sparse is deprecated and will be removed in a future version. Check `isinstance(dtype, pd.SparseDtype)` instead.\n",
      "  if is_sparse(pd_dtype):\n",
      "/Users/gohjunwei/anaconda3/lib/python3.11/site-packages/sklearn/utils/validation.py:614: FutureWarning: is_sparse is deprecated and will be removed in a future version. Check `isinstance(dtype, pd.SparseDtype)` instead.\n",
      "  if is_sparse(pd_dtype) or not is_extension_array_dtype(pd_dtype):\n",
      "/Users/gohjunwei/anaconda3/lib/python3.11/site-packages/sklearn/utils/validation.py:605: FutureWarning: is_sparse is deprecated and will be removed in a future version. Check `isinstance(dtype, pd.SparseDtype)` instead.\n",
      "  if is_sparse(pd_dtype):\n",
      "/Users/gohjunwei/anaconda3/lib/python3.11/site-packages/sklearn/utils/validation.py:614: FutureWarning: is_sparse is deprecated and will be removed in a future version. Check `isinstance(dtype, pd.SparseDtype)` instead.\n",
      "  if is_sparse(pd_dtype) or not is_extension_array_dtype(pd_dtype):\n",
      "/Users/gohjunwei/anaconda3/lib/python3.11/site-packages/sklearn/utils/validation.py:605: FutureWarning: is_sparse is deprecated and will be removed in a future version. Check `isinstance(dtype, pd.SparseDtype)` instead.\n",
      "  if is_sparse(pd_dtype):\n",
      "/Users/gohjunwei/anaconda3/lib/python3.11/site-packages/sklearn/utils/validation.py:614: FutureWarning: is_sparse is deprecated and will be removed in a future version. Check `isinstance(dtype, pd.SparseDtype)` instead.\n",
      "  if is_sparse(pd_dtype) or not is_extension_array_dtype(pd_dtype):\n"
     ]
    },
    {
     "name": "stdout",
     "output_type": "stream",
     "text": [
      "[CV] END learning_rate=0.11397083143409441, max_depth=6, n_estimators=921; total time=   2.8s\n"
     ]
    },
    {
     "name": "stderr",
     "output_type": "stream",
     "text": [
      "/Users/gohjunwei/anaconda3/lib/python3.11/site-packages/sklearn/utils/validation.py:605: FutureWarning: is_sparse is deprecated and will be removed in a future version. Check `isinstance(dtype, pd.SparseDtype)` instead.\n",
      "  if is_sparse(pd_dtype):\n",
      "/Users/gohjunwei/anaconda3/lib/python3.11/site-packages/sklearn/utils/validation.py:614: FutureWarning: is_sparse is deprecated and will be removed in a future version. Check `isinstance(dtype, pd.SparseDtype)` instead.\n",
      "  if is_sparse(pd_dtype) or not is_extension_array_dtype(pd_dtype):\n",
      "/Users/gohjunwei/anaconda3/lib/python3.11/site-packages/sklearn/utils/validation.py:605: FutureWarning: is_sparse is deprecated and will be removed in a future version. Check `isinstance(dtype, pd.SparseDtype)` instead.\n",
      "  if is_sparse(pd_dtype):\n",
      "/Users/gohjunwei/anaconda3/lib/python3.11/site-packages/sklearn/utils/validation.py:614: FutureWarning: is_sparse is deprecated and will be removed in a future version. Check `isinstance(dtype, pd.SparseDtype)` instead.\n",
      "  if is_sparse(pd_dtype) or not is_extension_array_dtype(pd_dtype):\n",
      "/Users/gohjunwei/anaconda3/lib/python3.11/site-packages/sklearn/utils/validation.py:605: FutureWarning: is_sparse is deprecated and will be removed in a future version. Check `isinstance(dtype, pd.SparseDtype)` instead.\n",
      "  if is_sparse(pd_dtype):\n",
      "/Users/gohjunwei/anaconda3/lib/python3.11/site-packages/sklearn/utils/validation.py:614: FutureWarning: is_sparse is deprecated and will be removed in a future version. Check `isinstance(dtype, pd.SparseDtype)` instead.\n",
      "  if is_sparse(pd_dtype) or not is_extension_array_dtype(pd_dtype):\n"
     ]
    },
    {
     "name": "stdout",
     "output_type": "stream",
     "text": [
      "[CV] END learning_rate=0.11397083143409441, max_depth=6, n_estimators=921; total time=   2.1s\n"
     ]
    },
    {
     "name": "stderr",
     "output_type": "stream",
     "text": [
      "/Users/gohjunwei/anaconda3/lib/python3.11/site-packages/sklearn/utils/validation.py:605: FutureWarning: is_sparse is deprecated and will be removed in a future version. Check `isinstance(dtype, pd.SparseDtype)` instead.\n",
      "  if is_sparse(pd_dtype):\n",
      "/Users/gohjunwei/anaconda3/lib/python3.11/site-packages/sklearn/utils/validation.py:614: FutureWarning: is_sparse is deprecated and will be removed in a future version. Check `isinstance(dtype, pd.SparseDtype)` instead.\n",
      "  if is_sparse(pd_dtype) or not is_extension_array_dtype(pd_dtype):\n",
      "/Users/gohjunwei/anaconda3/lib/python3.11/site-packages/sklearn/utils/validation.py:605: FutureWarning: is_sparse is deprecated and will be removed in a future version. Check `isinstance(dtype, pd.SparseDtype)` instead.\n",
      "  if is_sparse(pd_dtype):\n",
      "/Users/gohjunwei/anaconda3/lib/python3.11/site-packages/sklearn/utils/validation.py:614: FutureWarning: is_sparse is deprecated and will be removed in a future version. Check `isinstance(dtype, pd.SparseDtype)` instead.\n",
      "  if is_sparse(pd_dtype) or not is_extension_array_dtype(pd_dtype):\n",
      "/Users/gohjunwei/anaconda3/lib/python3.11/site-packages/sklearn/utils/validation.py:605: FutureWarning: is_sparse is deprecated and will be removed in a future version. Check `isinstance(dtype, pd.SparseDtype)` instead.\n",
      "  if is_sparse(pd_dtype):\n",
      "/Users/gohjunwei/anaconda3/lib/python3.11/site-packages/sklearn/utils/validation.py:614: FutureWarning: is_sparse is deprecated and will be removed in a future version. Check `isinstance(dtype, pd.SparseDtype)` instead.\n",
      "  if is_sparse(pd_dtype) or not is_extension_array_dtype(pd_dtype):\n"
     ]
    },
    {
     "name": "stdout",
     "output_type": "stream",
     "text": [
      "[CV] END learning_rate=0.11397083143409441, max_depth=6, n_estimators=921; total time=   2.6s\n"
     ]
    },
    {
     "name": "stderr",
     "output_type": "stream",
     "text": [
      "/Users/gohjunwei/anaconda3/lib/python3.11/site-packages/sklearn/utils/validation.py:605: FutureWarning: is_sparse is deprecated and will be removed in a future version. Check `isinstance(dtype, pd.SparseDtype)` instead.\n",
      "  if is_sparse(pd_dtype):\n",
      "/Users/gohjunwei/anaconda3/lib/python3.11/site-packages/sklearn/utils/validation.py:614: FutureWarning: is_sparse is deprecated and will be removed in a future version. Check `isinstance(dtype, pd.SparseDtype)` instead.\n",
      "  if is_sparse(pd_dtype) or not is_extension_array_dtype(pd_dtype):\n",
      "/Users/gohjunwei/anaconda3/lib/python3.11/site-packages/sklearn/utils/validation.py:605: FutureWarning: is_sparse is deprecated and will be removed in a future version. Check `isinstance(dtype, pd.SparseDtype)` instead.\n",
      "  if is_sparse(pd_dtype):\n",
      "/Users/gohjunwei/anaconda3/lib/python3.11/site-packages/sklearn/utils/validation.py:614: FutureWarning: is_sparse is deprecated and will be removed in a future version. Check `isinstance(dtype, pd.SparseDtype)` instead.\n",
      "  if is_sparse(pd_dtype) or not is_extension_array_dtype(pd_dtype):\n",
      "/Users/gohjunwei/anaconda3/lib/python3.11/site-packages/sklearn/utils/validation.py:605: FutureWarning: is_sparse is deprecated and will be removed in a future version. Check `isinstance(dtype, pd.SparseDtype)` instead.\n",
      "  if is_sparse(pd_dtype):\n",
      "/Users/gohjunwei/anaconda3/lib/python3.11/site-packages/sklearn/utils/validation.py:614: FutureWarning: is_sparse is deprecated and will be removed in a future version. Check `isinstance(dtype, pd.SparseDtype)` instead.\n",
      "  if is_sparse(pd_dtype) or not is_extension_array_dtype(pd_dtype):\n"
     ]
    },
    {
     "name": "stdout",
     "output_type": "stream",
     "text": [
      "[CV] END learning_rate=0.025656646227779294, max_depth=4, n_estimators=829; total time=   1.9s\n"
     ]
    },
    {
     "name": "stderr",
     "output_type": "stream",
     "text": [
      "/Users/gohjunwei/anaconda3/lib/python3.11/site-packages/sklearn/utils/validation.py:605: FutureWarning: is_sparse is deprecated and will be removed in a future version. Check `isinstance(dtype, pd.SparseDtype)` instead.\n",
      "  if is_sparse(pd_dtype):\n",
      "/Users/gohjunwei/anaconda3/lib/python3.11/site-packages/sklearn/utils/validation.py:614: FutureWarning: is_sparse is deprecated and will be removed in a future version. Check `isinstance(dtype, pd.SparseDtype)` instead.\n",
      "  if is_sparse(pd_dtype) or not is_extension_array_dtype(pd_dtype):\n",
      "/Users/gohjunwei/anaconda3/lib/python3.11/site-packages/sklearn/utils/validation.py:605: FutureWarning: is_sparse is deprecated and will be removed in a future version. Check `isinstance(dtype, pd.SparseDtype)` instead.\n",
      "  if is_sparse(pd_dtype):\n",
      "/Users/gohjunwei/anaconda3/lib/python3.11/site-packages/sklearn/utils/validation.py:614: FutureWarning: is_sparse is deprecated and will be removed in a future version. Check `isinstance(dtype, pd.SparseDtype)` instead.\n",
      "  if is_sparse(pd_dtype) or not is_extension_array_dtype(pd_dtype):\n",
      "/Users/gohjunwei/anaconda3/lib/python3.11/site-packages/sklearn/utils/validation.py:605: FutureWarning: is_sparse is deprecated and will be removed in a future version. Check `isinstance(dtype, pd.SparseDtype)` instead.\n",
      "  if is_sparse(pd_dtype):\n",
      "/Users/gohjunwei/anaconda3/lib/python3.11/site-packages/sklearn/utils/validation.py:614: FutureWarning: is_sparse is deprecated and will be removed in a future version. Check `isinstance(dtype, pd.SparseDtype)` instead.\n",
      "  if is_sparse(pd_dtype) or not is_extension_array_dtype(pd_dtype):\n"
     ]
    },
    {
     "name": "stdout",
     "output_type": "stream",
     "text": [
      "[CV] END learning_rate=0.025656646227779294, max_depth=4, n_estimators=829; total time=   1.5s\n"
     ]
    },
    {
     "name": "stderr",
     "output_type": "stream",
     "text": [
      "/Users/gohjunwei/anaconda3/lib/python3.11/site-packages/sklearn/utils/validation.py:605: FutureWarning: is_sparse is deprecated and will be removed in a future version. Check `isinstance(dtype, pd.SparseDtype)` instead.\n",
      "  if is_sparse(pd_dtype):\n",
      "/Users/gohjunwei/anaconda3/lib/python3.11/site-packages/sklearn/utils/validation.py:614: FutureWarning: is_sparse is deprecated and will be removed in a future version. Check `isinstance(dtype, pd.SparseDtype)` instead.\n",
      "  if is_sparse(pd_dtype) or not is_extension_array_dtype(pd_dtype):\n",
      "/Users/gohjunwei/anaconda3/lib/python3.11/site-packages/sklearn/utils/validation.py:605: FutureWarning: is_sparse is deprecated and will be removed in a future version. Check `isinstance(dtype, pd.SparseDtype)` instead.\n",
      "  if is_sparse(pd_dtype):\n",
      "/Users/gohjunwei/anaconda3/lib/python3.11/site-packages/sklearn/utils/validation.py:614: FutureWarning: is_sparse is deprecated and will be removed in a future version. Check `isinstance(dtype, pd.SparseDtype)` instead.\n",
      "  if is_sparse(pd_dtype) or not is_extension_array_dtype(pd_dtype):\n",
      "/Users/gohjunwei/anaconda3/lib/python3.11/site-packages/sklearn/utils/validation.py:605: FutureWarning: is_sparse is deprecated and will be removed in a future version. Check `isinstance(dtype, pd.SparseDtype)` instead.\n",
      "  if is_sparse(pd_dtype):\n",
      "/Users/gohjunwei/anaconda3/lib/python3.11/site-packages/sklearn/utils/validation.py:614: FutureWarning: is_sparse is deprecated and will be removed in a future version. Check `isinstance(dtype, pd.SparseDtype)` instead.\n",
      "  if is_sparse(pd_dtype) or not is_extension_array_dtype(pd_dtype):\n"
     ]
    },
    {
     "name": "stdout",
     "output_type": "stream",
     "text": [
      "[CV] END learning_rate=0.025656646227779294, max_depth=4, n_estimators=829; total time=   1.4s\n"
     ]
    },
    {
     "name": "stderr",
     "output_type": "stream",
     "text": [
      "/Users/gohjunwei/anaconda3/lib/python3.11/site-packages/sklearn/utils/validation.py:605: FutureWarning: is_sparse is deprecated and will be removed in a future version. Check `isinstance(dtype, pd.SparseDtype)` instead.\n",
      "  if is_sparse(pd_dtype):\n",
      "/Users/gohjunwei/anaconda3/lib/python3.11/site-packages/sklearn/utils/validation.py:614: FutureWarning: is_sparse is deprecated and will be removed in a future version. Check `isinstance(dtype, pd.SparseDtype)` instead.\n",
      "  if is_sparse(pd_dtype) or not is_extension_array_dtype(pd_dtype):\n",
      "/Users/gohjunwei/anaconda3/lib/python3.11/site-packages/sklearn/utils/validation.py:605: FutureWarning: is_sparse is deprecated and will be removed in a future version. Check `isinstance(dtype, pd.SparseDtype)` instead.\n",
      "  if is_sparse(pd_dtype):\n",
      "/Users/gohjunwei/anaconda3/lib/python3.11/site-packages/sklearn/utils/validation.py:614: FutureWarning: is_sparse is deprecated and will be removed in a future version. Check `isinstance(dtype, pd.SparseDtype)` instead.\n",
      "  if is_sparse(pd_dtype) or not is_extension_array_dtype(pd_dtype):\n",
      "/Users/gohjunwei/anaconda3/lib/python3.11/site-packages/sklearn/utils/validation.py:605: FutureWarning: is_sparse is deprecated and will be removed in a future version. Check `isinstance(dtype, pd.SparseDtype)` instead.\n",
      "  if is_sparse(pd_dtype):\n",
      "/Users/gohjunwei/anaconda3/lib/python3.11/site-packages/sklearn/utils/validation.py:614: FutureWarning: is_sparse is deprecated and will be removed in a future version. Check `isinstance(dtype, pd.SparseDtype)` instead.\n",
      "  if is_sparse(pd_dtype) or not is_extension_array_dtype(pd_dtype):\n"
     ]
    },
    {
     "name": "stdout",
     "output_type": "stream",
     "text": [
      "[CV] END learning_rate=0.23487706668488284, max_depth=12, n_estimators=369; total time=   2.5s\n"
     ]
    },
    {
     "name": "stderr",
     "output_type": "stream",
     "text": [
      "/Users/gohjunwei/anaconda3/lib/python3.11/site-packages/sklearn/utils/validation.py:605: FutureWarning: is_sparse is deprecated and will be removed in a future version. Check `isinstance(dtype, pd.SparseDtype)` instead.\n",
      "  if is_sparse(pd_dtype):\n",
      "/Users/gohjunwei/anaconda3/lib/python3.11/site-packages/sklearn/utils/validation.py:614: FutureWarning: is_sparse is deprecated and will be removed in a future version. Check `isinstance(dtype, pd.SparseDtype)` instead.\n",
      "  if is_sparse(pd_dtype) or not is_extension_array_dtype(pd_dtype):\n",
      "/Users/gohjunwei/anaconda3/lib/python3.11/site-packages/sklearn/utils/validation.py:605: FutureWarning: is_sparse is deprecated and will be removed in a future version. Check `isinstance(dtype, pd.SparseDtype)` instead.\n",
      "  if is_sparse(pd_dtype):\n",
      "/Users/gohjunwei/anaconda3/lib/python3.11/site-packages/sklearn/utils/validation.py:614: FutureWarning: is_sparse is deprecated and will be removed in a future version. Check `isinstance(dtype, pd.SparseDtype)` instead.\n",
      "  if is_sparse(pd_dtype) or not is_extension_array_dtype(pd_dtype):\n",
      "/Users/gohjunwei/anaconda3/lib/python3.11/site-packages/sklearn/utils/validation.py:605: FutureWarning: is_sparse is deprecated and will be removed in a future version. Check `isinstance(dtype, pd.SparseDtype)` instead.\n",
      "  if is_sparse(pd_dtype):\n",
      "/Users/gohjunwei/anaconda3/lib/python3.11/site-packages/sklearn/utils/validation.py:614: FutureWarning: is_sparse is deprecated and will be removed in a future version. Check `isinstance(dtype, pd.SparseDtype)` instead.\n",
      "  if is_sparse(pd_dtype) or not is_extension_array_dtype(pd_dtype):\n"
     ]
    },
    {
     "name": "stdout",
     "output_type": "stream",
     "text": [
      "[CV] END learning_rate=0.23487706668488284, max_depth=12, n_estimators=369; total time=   2.0s\n"
     ]
    },
    {
     "name": "stderr",
     "output_type": "stream",
     "text": [
      "/Users/gohjunwei/anaconda3/lib/python3.11/site-packages/sklearn/utils/validation.py:605: FutureWarning: is_sparse is deprecated and will be removed in a future version. Check `isinstance(dtype, pd.SparseDtype)` instead.\n",
      "  if is_sparse(pd_dtype):\n",
      "/Users/gohjunwei/anaconda3/lib/python3.11/site-packages/sklearn/utils/validation.py:614: FutureWarning: is_sparse is deprecated and will be removed in a future version. Check `isinstance(dtype, pd.SparseDtype)` instead.\n",
      "  if is_sparse(pd_dtype) or not is_extension_array_dtype(pd_dtype):\n",
      "/Users/gohjunwei/anaconda3/lib/python3.11/site-packages/sklearn/utils/validation.py:605: FutureWarning: is_sparse is deprecated and will be removed in a future version. Check `isinstance(dtype, pd.SparseDtype)` instead.\n",
      "  if is_sparse(pd_dtype):\n",
      "/Users/gohjunwei/anaconda3/lib/python3.11/site-packages/sklearn/utils/validation.py:614: FutureWarning: is_sparse is deprecated and will be removed in a future version. Check `isinstance(dtype, pd.SparseDtype)` instead.\n",
      "  if is_sparse(pd_dtype) or not is_extension_array_dtype(pd_dtype):\n",
      "/Users/gohjunwei/anaconda3/lib/python3.11/site-packages/sklearn/utils/validation.py:605: FutureWarning: is_sparse is deprecated and will be removed in a future version. Check `isinstance(dtype, pd.SparseDtype)` instead.\n",
      "  if is_sparse(pd_dtype):\n",
      "/Users/gohjunwei/anaconda3/lib/python3.11/site-packages/sklearn/utils/validation.py:614: FutureWarning: is_sparse is deprecated and will be removed in a future version. Check `isinstance(dtype, pd.SparseDtype)` instead.\n",
      "  if is_sparse(pd_dtype) or not is_extension_array_dtype(pd_dtype):\n"
     ]
    },
    {
     "name": "stdout",
     "output_type": "stream",
     "text": [
      "[CV] END learning_rate=0.23487706668488284, max_depth=12, n_estimators=369; total time=   2.0s\n"
     ]
    },
    {
     "name": "stderr",
     "output_type": "stream",
     "text": [
      "/Users/gohjunwei/anaconda3/lib/python3.11/site-packages/sklearn/utils/validation.py:605: FutureWarning: is_sparse is deprecated and will be removed in a future version. Check `isinstance(dtype, pd.SparseDtype)` instead.\n",
      "  if is_sparse(pd_dtype):\n",
      "/Users/gohjunwei/anaconda3/lib/python3.11/site-packages/sklearn/utils/validation.py:614: FutureWarning: is_sparse is deprecated and will be removed in a future version. Check `isinstance(dtype, pd.SparseDtype)` instead.\n",
      "  if is_sparse(pd_dtype) or not is_extension_array_dtype(pd_dtype):\n",
      "/Users/gohjunwei/anaconda3/lib/python3.11/site-packages/sklearn/utils/validation.py:605: FutureWarning: is_sparse is deprecated and will be removed in a future version. Check `isinstance(dtype, pd.SparseDtype)` instead.\n",
      "  if is_sparse(pd_dtype):\n",
      "/Users/gohjunwei/anaconda3/lib/python3.11/site-packages/sklearn/utils/validation.py:614: FutureWarning: is_sparse is deprecated and will be removed in a future version. Check `isinstance(dtype, pd.SparseDtype)` instead.\n",
      "  if is_sparse(pd_dtype) or not is_extension_array_dtype(pd_dtype):\n",
      "/Users/gohjunwei/anaconda3/lib/python3.11/site-packages/sklearn/utils/validation.py:605: FutureWarning: is_sparse is deprecated and will be removed in a future version. Check `isinstance(dtype, pd.SparseDtype)` instead.\n",
      "  if is_sparse(pd_dtype):\n",
      "/Users/gohjunwei/anaconda3/lib/python3.11/site-packages/sklearn/utils/validation.py:614: FutureWarning: is_sparse is deprecated and will be removed in a future version. Check `isinstance(dtype, pd.SparseDtype)` instead.\n",
      "  if is_sparse(pd_dtype) or not is_extension_array_dtype(pd_dtype):\n"
     ]
    },
    {
     "name": "stdout",
     "output_type": "stream",
     "text": [
      "[CV] END learning_rate=0.37363599792821045, max_depth=10, n_estimators=561; total time=   3.1s\n"
     ]
    },
    {
     "name": "stderr",
     "output_type": "stream",
     "text": [
      "/Users/gohjunwei/anaconda3/lib/python3.11/site-packages/sklearn/utils/validation.py:605: FutureWarning: is_sparse is deprecated and will be removed in a future version. Check `isinstance(dtype, pd.SparseDtype)` instead.\n",
      "  if is_sparse(pd_dtype):\n",
      "/Users/gohjunwei/anaconda3/lib/python3.11/site-packages/sklearn/utils/validation.py:614: FutureWarning: is_sparse is deprecated and will be removed in a future version. Check `isinstance(dtype, pd.SparseDtype)` instead.\n",
      "  if is_sparse(pd_dtype) or not is_extension_array_dtype(pd_dtype):\n",
      "/Users/gohjunwei/anaconda3/lib/python3.11/site-packages/sklearn/utils/validation.py:605: FutureWarning: is_sparse is deprecated and will be removed in a future version. Check `isinstance(dtype, pd.SparseDtype)` instead.\n",
      "  if is_sparse(pd_dtype):\n",
      "/Users/gohjunwei/anaconda3/lib/python3.11/site-packages/sklearn/utils/validation.py:614: FutureWarning: is_sparse is deprecated and will be removed in a future version. Check `isinstance(dtype, pd.SparseDtype)` instead.\n",
      "  if is_sparse(pd_dtype) or not is_extension_array_dtype(pd_dtype):\n",
      "/Users/gohjunwei/anaconda3/lib/python3.11/site-packages/sklearn/utils/validation.py:605: FutureWarning: is_sparse is deprecated and will be removed in a future version. Check `isinstance(dtype, pd.SparseDtype)` instead.\n",
      "  if is_sparse(pd_dtype):\n",
      "/Users/gohjunwei/anaconda3/lib/python3.11/site-packages/sklearn/utils/validation.py:614: FutureWarning: is_sparse is deprecated and will be removed in a future version. Check `isinstance(dtype, pd.SparseDtype)` instead.\n",
      "  if is_sparse(pd_dtype) or not is_extension_array_dtype(pd_dtype):\n"
     ]
    },
    {
     "name": "stdout",
     "output_type": "stream",
     "text": [
      "[CV] END learning_rate=0.37363599792821045, max_depth=10, n_estimators=561; total time=   2.4s\n"
     ]
    },
    {
     "name": "stderr",
     "output_type": "stream",
     "text": [
      "/Users/gohjunwei/anaconda3/lib/python3.11/site-packages/sklearn/utils/validation.py:605: FutureWarning: is_sparse is deprecated and will be removed in a future version. Check `isinstance(dtype, pd.SparseDtype)` instead.\n",
      "  if is_sparse(pd_dtype):\n",
      "/Users/gohjunwei/anaconda3/lib/python3.11/site-packages/sklearn/utils/validation.py:614: FutureWarning: is_sparse is deprecated and will be removed in a future version. Check `isinstance(dtype, pd.SparseDtype)` instead.\n",
      "  if is_sparse(pd_dtype) or not is_extension_array_dtype(pd_dtype):\n",
      "/Users/gohjunwei/anaconda3/lib/python3.11/site-packages/sklearn/utils/validation.py:605: FutureWarning: is_sparse is deprecated and will be removed in a future version. Check `isinstance(dtype, pd.SparseDtype)` instead.\n",
      "  if is_sparse(pd_dtype):\n",
      "/Users/gohjunwei/anaconda3/lib/python3.11/site-packages/sklearn/utils/validation.py:614: FutureWarning: is_sparse is deprecated and will be removed in a future version. Check `isinstance(dtype, pd.SparseDtype)` instead.\n",
      "  if is_sparse(pd_dtype) or not is_extension_array_dtype(pd_dtype):\n",
      "/Users/gohjunwei/anaconda3/lib/python3.11/site-packages/sklearn/utils/validation.py:605: FutureWarning: is_sparse is deprecated and will be removed in a future version. Check `isinstance(dtype, pd.SparseDtype)` instead.\n",
      "  if is_sparse(pd_dtype):\n",
      "/Users/gohjunwei/anaconda3/lib/python3.11/site-packages/sklearn/utils/validation.py:614: FutureWarning: is_sparse is deprecated and will be removed in a future version. Check `isinstance(dtype, pd.SparseDtype)` instead.\n",
      "  if is_sparse(pd_dtype) or not is_extension_array_dtype(pd_dtype):\n"
     ]
    },
    {
     "name": "stdout",
     "output_type": "stream",
     "text": [
      "[CV] END learning_rate=0.37363599792821045, max_depth=10, n_estimators=561; total time=   2.6s\n"
     ]
    },
    {
     "name": "stderr",
     "output_type": "stream",
     "text": [
      "/Users/gohjunwei/anaconda3/lib/python3.11/site-packages/sklearn/utils/validation.py:605: FutureWarning: is_sparse is deprecated and will be removed in a future version. Check `isinstance(dtype, pd.SparseDtype)` instead.\n",
      "  if is_sparse(pd_dtype):\n",
      "/Users/gohjunwei/anaconda3/lib/python3.11/site-packages/sklearn/utils/validation.py:614: FutureWarning: is_sparse is deprecated and will be removed in a future version. Check `isinstance(dtype, pd.SparseDtype)` instead.\n",
      "  if is_sparse(pd_dtype) or not is_extension_array_dtype(pd_dtype):\n",
      "/Users/gohjunwei/anaconda3/lib/python3.11/site-packages/sklearn/utils/validation.py:605: FutureWarning: is_sparse is deprecated and will be removed in a future version. Check `isinstance(dtype, pd.SparseDtype)` instead.\n",
      "  if is_sparse(pd_dtype):\n",
      "/Users/gohjunwei/anaconda3/lib/python3.11/site-packages/sklearn/utils/validation.py:614: FutureWarning: is_sparse is deprecated and will be removed in a future version. Check `isinstance(dtype, pd.SparseDtype)` instead.\n",
      "  if is_sparse(pd_dtype) or not is_extension_array_dtype(pd_dtype):\n",
      "/Users/gohjunwei/anaconda3/lib/python3.11/site-packages/sklearn/utils/validation.py:605: FutureWarning: is_sparse is deprecated and will be removed in a future version. Check `isinstance(dtype, pd.SparseDtype)` instead.\n",
      "  if is_sparse(pd_dtype):\n",
      "/Users/gohjunwei/anaconda3/lib/python3.11/site-packages/sklearn/utils/validation.py:614: FutureWarning: is_sparse is deprecated and will be removed in a future version. Check `isinstance(dtype, pd.SparseDtype)` instead.\n",
      "  if is_sparse(pd_dtype) or not is_extension_array_dtype(pd_dtype):\n"
     ]
    },
    {
     "name": "stdout",
     "output_type": "stream",
     "text": [
      "[CV] END learning_rate=0.1079914312095726, max_depth=11, n_estimators=801; total time=   3.9s\n"
     ]
    },
    {
     "name": "stderr",
     "output_type": "stream",
     "text": [
      "/Users/gohjunwei/anaconda3/lib/python3.11/site-packages/sklearn/utils/validation.py:605: FutureWarning: is_sparse is deprecated and will be removed in a future version. Check `isinstance(dtype, pd.SparseDtype)` instead.\n",
      "  if is_sparse(pd_dtype):\n",
      "/Users/gohjunwei/anaconda3/lib/python3.11/site-packages/sklearn/utils/validation.py:614: FutureWarning: is_sparse is deprecated and will be removed in a future version. Check `isinstance(dtype, pd.SparseDtype)` instead.\n",
      "  if is_sparse(pd_dtype) or not is_extension_array_dtype(pd_dtype):\n",
      "/Users/gohjunwei/anaconda3/lib/python3.11/site-packages/sklearn/utils/validation.py:605: FutureWarning: is_sparse is deprecated and will be removed in a future version. Check `isinstance(dtype, pd.SparseDtype)` instead.\n",
      "  if is_sparse(pd_dtype):\n",
      "/Users/gohjunwei/anaconda3/lib/python3.11/site-packages/sklearn/utils/validation.py:614: FutureWarning: is_sparse is deprecated and will be removed in a future version. Check `isinstance(dtype, pd.SparseDtype)` instead.\n",
      "  if is_sparse(pd_dtype) or not is_extension_array_dtype(pd_dtype):\n",
      "/Users/gohjunwei/anaconda3/lib/python3.11/site-packages/sklearn/utils/validation.py:605: FutureWarning: is_sparse is deprecated and will be removed in a future version. Check `isinstance(dtype, pd.SparseDtype)` instead.\n",
      "  if is_sparse(pd_dtype):\n",
      "/Users/gohjunwei/anaconda3/lib/python3.11/site-packages/sklearn/utils/validation.py:614: FutureWarning: is_sparse is deprecated and will be removed in a future version. Check `isinstance(dtype, pd.SparseDtype)` instead.\n",
      "  if is_sparse(pd_dtype) or not is_extension_array_dtype(pd_dtype):\n"
     ]
    },
    {
     "name": "stdout",
     "output_type": "stream",
     "text": [
      "[CV] END learning_rate=0.1079914312095726, max_depth=11, n_estimators=801; total time=   4.0s\n"
     ]
    },
    {
     "name": "stderr",
     "output_type": "stream",
     "text": [
      "/Users/gohjunwei/anaconda3/lib/python3.11/site-packages/sklearn/utils/validation.py:605: FutureWarning: is_sparse is deprecated and will be removed in a future version. Check `isinstance(dtype, pd.SparseDtype)` instead.\n",
      "  if is_sparse(pd_dtype):\n",
      "/Users/gohjunwei/anaconda3/lib/python3.11/site-packages/sklearn/utils/validation.py:614: FutureWarning: is_sparse is deprecated and will be removed in a future version. Check `isinstance(dtype, pd.SparseDtype)` instead.\n",
      "  if is_sparse(pd_dtype) or not is_extension_array_dtype(pd_dtype):\n",
      "/Users/gohjunwei/anaconda3/lib/python3.11/site-packages/sklearn/utils/validation.py:605: FutureWarning: is_sparse is deprecated and will be removed in a future version. Check `isinstance(dtype, pd.SparseDtype)` instead.\n",
      "  if is_sparse(pd_dtype):\n",
      "/Users/gohjunwei/anaconda3/lib/python3.11/site-packages/sklearn/utils/validation.py:614: FutureWarning: is_sparse is deprecated and will be removed in a future version. Check `isinstance(dtype, pd.SparseDtype)` instead.\n",
      "  if is_sparse(pd_dtype) or not is_extension_array_dtype(pd_dtype):\n",
      "/Users/gohjunwei/anaconda3/lib/python3.11/site-packages/sklearn/utils/validation.py:605: FutureWarning: is_sparse is deprecated and will be removed in a future version. Check `isinstance(dtype, pd.SparseDtype)` instead.\n",
      "  if is_sparse(pd_dtype):\n",
      "/Users/gohjunwei/anaconda3/lib/python3.11/site-packages/sklearn/utils/validation.py:614: FutureWarning: is_sparse is deprecated and will be removed in a future version. Check `isinstance(dtype, pd.SparseDtype)` instead.\n",
      "  if is_sparse(pd_dtype) or not is_extension_array_dtype(pd_dtype):\n"
     ]
    },
    {
     "name": "stdout",
     "output_type": "stream",
     "text": [
      "[CV] END learning_rate=0.1079914312095726, max_depth=11, n_estimators=801; total time=   3.6s\n"
     ]
    },
    {
     "data": {
      "text/plain": "RandomizedSearchCV(cv=3,\n                   estimator=XGBClassifier(base_score=None, booster=None,\n                                           callbacks=None,\n                                           colsample_bylevel=None,\n                                           colsample_bynode=None,\n                                           colsample_bytree=None, device=None,\n                                           early_stopping_rounds=None,\n                                           enable_categorical=False,\n                                           eval_metric=None, feature_types=None,\n                                           gamma=None, grow_policy=None,\n                                           importance_type=None,\n                                           interaction_constraints=None,\n                                           learning_rate...\n                                           random_state=None, ...),\n                   n_iter=25,\n                   param_distributions={'learning_rate': <scipy.stats._distn_infrastructure.rv_continuous_frozen object at 0x2bffa28d0>,\n                                        'max_depth': <scipy.stats._distn_infrastructure.rv_discrete_frozen object at 0x2b0af2d10>,\n                                        'n_estimators': <scipy.stats._distn_infrastructure.rv_discrete_frozen object at 0x2b118f190>},\n                   random_state=42, scoring='accuracy', verbose=2)",
      "text/html": "<style>#sk-container-id-6 {color: black;background-color: white;}#sk-container-id-6 pre{padding: 0;}#sk-container-id-6 div.sk-toggleable {background-color: white;}#sk-container-id-6 label.sk-toggleable__label {cursor: pointer;display: block;width: 100%;margin-bottom: 0;padding: 0.3em;box-sizing: border-box;text-align: center;}#sk-container-id-6 label.sk-toggleable__label-arrow:before {content: \"▸\";float: left;margin-right: 0.25em;color: #696969;}#sk-container-id-6 label.sk-toggleable__label-arrow:hover:before {color: black;}#sk-container-id-6 div.sk-estimator:hover label.sk-toggleable__label-arrow:before {color: black;}#sk-container-id-6 div.sk-toggleable__content {max-height: 0;max-width: 0;overflow: hidden;text-align: left;background-color: #f0f8ff;}#sk-container-id-6 div.sk-toggleable__content pre {margin: 0.2em;color: black;border-radius: 0.25em;background-color: #f0f8ff;}#sk-container-id-6 input.sk-toggleable__control:checked~div.sk-toggleable__content {max-height: 200px;max-width: 100%;overflow: auto;}#sk-container-id-6 input.sk-toggleable__control:checked~label.sk-toggleable__label-arrow:before {content: \"▾\";}#sk-container-id-6 div.sk-estimator input.sk-toggleable__control:checked~label.sk-toggleable__label {background-color: #d4ebff;}#sk-container-id-6 div.sk-label input.sk-toggleable__control:checked~label.sk-toggleable__label {background-color: #d4ebff;}#sk-container-id-6 input.sk-hidden--visually {border: 0;clip: rect(1px 1px 1px 1px);clip: rect(1px, 1px, 1px, 1px);height: 1px;margin: -1px;overflow: hidden;padding: 0;position: absolute;width: 1px;}#sk-container-id-6 div.sk-estimator {font-family: monospace;background-color: #f0f8ff;border: 1px dotted black;border-radius: 0.25em;box-sizing: border-box;margin-bottom: 0.5em;}#sk-container-id-6 div.sk-estimator:hover {background-color: #d4ebff;}#sk-container-id-6 div.sk-parallel-item::after {content: \"\";width: 100%;border-bottom: 1px solid gray;flex-grow: 1;}#sk-container-id-6 div.sk-label:hover label.sk-toggleable__label {background-color: #d4ebff;}#sk-container-id-6 div.sk-serial::before {content: \"\";position: absolute;border-left: 1px solid gray;box-sizing: border-box;top: 0;bottom: 0;left: 50%;z-index: 0;}#sk-container-id-6 div.sk-serial {display: flex;flex-direction: column;align-items: center;background-color: white;padding-right: 0.2em;padding-left: 0.2em;position: relative;}#sk-container-id-6 div.sk-item {position: relative;z-index: 1;}#sk-container-id-6 div.sk-parallel {display: flex;align-items: stretch;justify-content: center;background-color: white;position: relative;}#sk-container-id-6 div.sk-item::before, #sk-container-id-6 div.sk-parallel-item::before {content: \"\";position: absolute;border-left: 1px solid gray;box-sizing: border-box;top: 0;bottom: 0;left: 50%;z-index: -1;}#sk-container-id-6 div.sk-parallel-item {display: flex;flex-direction: column;z-index: 1;position: relative;background-color: white;}#sk-container-id-6 div.sk-parallel-item:first-child::after {align-self: flex-end;width: 50%;}#sk-container-id-6 div.sk-parallel-item:last-child::after {align-self: flex-start;width: 50%;}#sk-container-id-6 div.sk-parallel-item:only-child::after {width: 0;}#sk-container-id-6 div.sk-dashed-wrapped {border: 1px dashed gray;margin: 0 0.4em 0.5em 0.4em;box-sizing: border-box;padding-bottom: 0.4em;background-color: white;}#sk-container-id-6 div.sk-label label {font-family: monospace;font-weight: bold;display: inline-block;line-height: 1.2em;}#sk-container-id-6 div.sk-label-container {text-align: center;}#sk-container-id-6 div.sk-container {/* jupyter's `normalize.less` sets `[hidden] { display: none; }` but bootstrap.min.css set `[hidden] { display: none !important; }` so we also need the `!important` here to be able to override the default hidden behavior on the sphinx rendered scikit-learn.org. See: https://github.com/scikit-learn/scikit-learn/issues/21755 */display: inline-block !important;position: relative;}#sk-container-id-6 div.sk-text-repr-fallback {display: none;}</style><div id=\"sk-container-id-6\" class=\"sk-top-container\"><div class=\"sk-text-repr-fallback\"><pre>RandomizedSearchCV(cv=3,\n                   estimator=XGBClassifier(base_score=None, booster=None,\n                                           callbacks=None,\n                                           colsample_bylevel=None,\n                                           colsample_bynode=None,\n                                           colsample_bytree=None, device=None,\n                                           early_stopping_rounds=None,\n                                           enable_categorical=False,\n                                           eval_metric=None, feature_types=None,\n                                           gamma=None, grow_policy=None,\n                                           importance_type=None,\n                                           interaction_constraints=None,\n                                           learning_rate...\n                                           random_state=None, ...),\n                   n_iter=25,\n                   param_distributions={&#x27;learning_rate&#x27;: &lt;scipy.stats._distn_infrastructure.rv_continuous_frozen object at 0x2bffa28d0&gt;,\n                                        &#x27;max_depth&#x27;: &lt;scipy.stats._distn_infrastructure.rv_discrete_frozen object at 0x2b0af2d10&gt;,\n                                        &#x27;n_estimators&#x27;: &lt;scipy.stats._distn_infrastructure.rv_discrete_frozen object at 0x2b118f190&gt;},\n                   random_state=42, scoring=&#x27;accuracy&#x27;, verbose=2)</pre><b>In a Jupyter environment, please rerun this cell to show the HTML representation or trust the notebook. <br />On GitHub, the HTML representation is unable to render, please try loading this page with nbviewer.org.</b></div><div class=\"sk-container\" hidden><div class=\"sk-item sk-dashed-wrapped\"><div class=\"sk-label-container\"><div class=\"sk-label sk-toggleable\"><input class=\"sk-toggleable__control sk-hidden--visually\" id=\"sk-estimator-id-16\" type=\"checkbox\" ><label for=\"sk-estimator-id-16\" class=\"sk-toggleable__label sk-toggleable__label-arrow\">RandomizedSearchCV</label><div class=\"sk-toggleable__content\"><pre>RandomizedSearchCV(cv=3,\n                   estimator=XGBClassifier(base_score=None, booster=None,\n                                           callbacks=None,\n                                           colsample_bylevel=None,\n                                           colsample_bynode=None,\n                                           colsample_bytree=None, device=None,\n                                           early_stopping_rounds=None,\n                                           enable_categorical=False,\n                                           eval_metric=None, feature_types=None,\n                                           gamma=None, grow_policy=None,\n                                           importance_type=None,\n                                           interaction_constraints=None,\n                                           learning_rate...\n                                           random_state=None, ...),\n                   n_iter=25,\n                   param_distributions={&#x27;learning_rate&#x27;: &lt;scipy.stats._distn_infrastructure.rv_continuous_frozen object at 0x2bffa28d0&gt;,\n                                        &#x27;max_depth&#x27;: &lt;scipy.stats._distn_infrastructure.rv_discrete_frozen object at 0x2b0af2d10&gt;,\n                                        &#x27;n_estimators&#x27;: &lt;scipy.stats._distn_infrastructure.rv_discrete_frozen object at 0x2b118f190&gt;},\n                   random_state=42, scoring=&#x27;accuracy&#x27;, verbose=2)</pre></div></div></div><div class=\"sk-parallel\"><div class=\"sk-parallel-item\"><div class=\"sk-item\"><div class=\"sk-label-container\"><div class=\"sk-label sk-toggleable\"><input class=\"sk-toggleable__control sk-hidden--visually\" id=\"sk-estimator-id-17\" type=\"checkbox\" ><label for=\"sk-estimator-id-17\" class=\"sk-toggleable__label sk-toggleable__label-arrow\">estimator: XGBClassifier</label><div class=\"sk-toggleable__content\"><pre>XGBClassifier(base_score=None, booster=None, callbacks=None,\n              colsample_bylevel=None, colsample_bynode=None,\n              colsample_bytree=None, device=None, early_stopping_rounds=None,\n              enable_categorical=False, eval_metric=None, feature_types=None,\n              gamma=None, grow_policy=None, importance_type=None,\n              interaction_constraints=None, learning_rate=None, max_bin=None,\n              max_cat_threshold=None, max_cat_to_onehot=None,\n              max_delta_step=None, max_depth=None, max_leaves=None,\n              min_child_weight=None, missing=nan, monotone_constraints=None,\n              multi_strategy=None, n_estimators=None, n_jobs=None,\n              num_parallel_tree=None, random_state=None, ...)</pre></div></div></div><div class=\"sk-serial\"><div class=\"sk-item\"><div class=\"sk-estimator sk-toggleable\"><input class=\"sk-toggleable__control sk-hidden--visually\" id=\"sk-estimator-id-18\" type=\"checkbox\" ><label for=\"sk-estimator-id-18\" class=\"sk-toggleable__label sk-toggleable__label-arrow\">XGBClassifier</label><div class=\"sk-toggleable__content\"><pre>XGBClassifier(base_score=None, booster=None, callbacks=None,\n              colsample_bylevel=None, colsample_bynode=None,\n              colsample_bytree=None, device=None, early_stopping_rounds=None,\n              enable_categorical=False, eval_metric=None, feature_types=None,\n              gamma=None, grow_policy=None, importance_type=None,\n              interaction_constraints=None, learning_rate=None, max_bin=None,\n              max_cat_threshold=None, max_cat_to_onehot=None,\n              max_delta_step=None, max_depth=None, max_leaves=None,\n              min_child_weight=None, missing=nan, monotone_constraints=None,\n              multi_strategy=None, n_estimators=None, n_jobs=None,\n              num_parallel_tree=None, random_state=None, ...)</pre></div></div></div></div></div></div></div></div></div></div>"
     },
     "execution_count": 325,
     "metadata": {},
     "output_type": "execute_result"
    }
   ],
   "source": [
    "from sklearn.model_selection import RandomizedSearchCV\n",
    "import xgboost as xgb\n",
    "from scipy.stats import randint, uniform\n",
    "\n",
    "param_dist = {\n",
    "    'n_estimators': randint(100, 1000),\n",
    "    'learning_rate': uniform(0.01, 0.5),\n",
    "    'max_depth': randint(3, 15)\n",
    "}\n",
    "\n",
    "accuracies = []\n",
    "\n",
    "xgb_clf = xgb.XGBClassifier()\n",
    "random_search = RandomizedSearchCV(xgb_clf, param_distributions=param_dist, n_iter=25, cv=3, scoring='accuracy', verbose=2, random_state=42)\n",
    "random_search.fit(X_train_scaled, y_train)"
   ],
   "metadata": {
    "collapsed": false
   }
  },
  {
   "cell_type": "code",
   "execution_count": 326,
   "outputs": [
    {
     "data": {
      "text/plain": "{'learning_rate': 0.11616955533913807, 'max_depth': 14, 'n_estimators': 376}"
     },
     "execution_count": 326,
     "metadata": {},
     "output_type": "execute_result"
    }
   ],
   "source": [
    "random_search.best_params_"
   ],
   "metadata": {
    "collapsed": false
   }
  },
  {
   "cell_type": "code",
   "execution_count": 327,
   "outputs": [],
   "source": [
    "best_tree_model = random_search.best_estimator_\n",
    "y_pred_tree = best_tree_model.predict(X_test_scaled)"
   ],
   "metadata": {
    "collapsed": false
   }
  },
  {
   "cell_type": "code",
   "execution_count": 328,
   "outputs": [
    {
     "name": "stdout",
     "output_type": "stream",
     "text": [
      "0.6403642848044835 0.6222489798648739\n",
      "              precision    recall  f1-score   support\n",
      "\n",
      "           0       0.59      0.74      0.66      7851\n",
      "           1       0.65      0.49      0.56      7851\n",
      "\n",
      "    accuracy                           0.61     15702\n",
      "   macro avg       0.62      0.61      0.61     15702\n",
      "weighted avg       0.62      0.61      0.61     15702\n",
      "\n"
     ]
    },
    {
     "name": "stderr",
     "output_type": "stream",
     "text": [
      "/Users/gohjunwei/anaconda3/lib/python3.11/site-packages/sklearn/utils/validation.py:605: FutureWarning: is_sparse is deprecated and will be removed in a future version. Check `isinstance(dtype, pd.SparseDtype)` instead.\n",
      "  if is_sparse(pd_dtype):\n",
      "/Users/gohjunwei/anaconda3/lib/python3.11/site-packages/sklearn/utils/validation.py:614: FutureWarning: is_sparse is deprecated and will be removed in a future version. Check `isinstance(dtype, pd.SparseDtype)` instead.\n",
      "  if is_sparse(pd_dtype) or not is_extension_array_dtype(pd_dtype):\n",
      "/Users/gohjunwei/anaconda3/lib/python3.11/site-packages/sklearn/utils/validation.py:605: FutureWarning: is_sparse is deprecated and will be removed in a future version. Check `isinstance(dtype, pd.SparseDtype)` instead.\n",
      "  if is_sparse(pd_dtype):\n",
      "/Users/gohjunwei/anaconda3/lib/python3.11/site-packages/sklearn/utils/validation.py:614: FutureWarning: is_sparse is deprecated and will be removed in a future version. Check `isinstance(dtype, pd.SparseDtype)` instead.\n",
      "  if is_sparse(pd_dtype) or not is_extension_array_dtype(pd_dtype):\n",
      "/Users/gohjunwei/anaconda3/lib/python3.11/site-packages/sklearn/utils/validation.py:605: FutureWarning: is_sparse is deprecated and will be removed in a future version. Check `isinstance(dtype, pd.SparseDtype)` instead.\n",
      "  if is_sparse(pd_dtype):\n",
      "/Users/gohjunwei/anaconda3/lib/python3.11/site-packages/sklearn/utils/validation.py:614: FutureWarning: is_sparse is deprecated and will be removed in a future version. Check `isinstance(dtype, pd.SparseDtype)` instead.\n",
      "  if is_sparse(pd_dtype) or not is_extension_array_dtype(pd_dtype):\n",
      "/Users/gohjunwei/anaconda3/lib/python3.11/site-packages/sklearn/utils/validation.py:605: FutureWarning: is_sparse is deprecated and will be removed in a future version. Check `isinstance(dtype, pd.SparseDtype)` instead.\n",
      "  if is_sparse(pd_dtype):\n",
      "/Users/gohjunwei/anaconda3/lib/python3.11/site-packages/sklearn/utils/validation.py:614: FutureWarning: is_sparse is deprecated and will be removed in a future version. Check `isinstance(dtype, pd.SparseDtype)` instead.\n",
      "  if is_sparse(pd_dtype) or not is_extension_array_dtype(pd_dtype):\n",
      "/Users/gohjunwei/anaconda3/lib/python3.11/site-packages/sklearn/utils/validation.py:605: FutureWarning: is_sparse is deprecated and will be removed in a future version. Check `isinstance(dtype, pd.SparseDtype)` instead.\n",
      "  if is_sparse(pd_dtype):\n",
      "/Users/gohjunwei/anaconda3/lib/python3.11/site-packages/sklearn/utils/validation.py:614: FutureWarning: is_sparse is deprecated and will be removed in a future version. Check `isinstance(dtype, pd.SparseDtype)` instead.\n",
      "  if is_sparse(pd_dtype) or not is_extension_array_dtype(pd_dtype):\n",
      "/Users/gohjunwei/anaconda3/lib/python3.11/site-packages/sklearn/utils/validation.py:605: FutureWarning: is_sparse is deprecated and will be removed in a future version. Check `isinstance(dtype, pd.SparseDtype)` instead.\n",
      "  if is_sparse(pd_dtype):\n",
      "/Users/gohjunwei/anaconda3/lib/python3.11/site-packages/sklearn/utils/validation.py:614: FutureWarning: is_sparse is deprecated and will be removed in a future version. Check `isinstance(dtype, pd.SparseDtype)` instead.\n",
      "  if is_sparse(pd_dtype) or not is_extension_array_dtype(pd_dtype):\n",
      "/Users/gohjunwei/anaconda3/lib/python3.11/site-packages/sklearn/utils/validation.py:605: FutureWarning: is_sparse is deprecated and will be removed in a future version. Check `isinstance(dtype, pd.SparseDtype)` instead.\n",
      "  if is_sparse(pd_dtype):\n",
      "/Users/gohjunwei/anaconda3/lib/python3.11/site-packages/sklearn/utils/validation.py:614: FutureWarning: is_sparse is deprecated and will be removed in a future version. Check `isinstance(dtype, pd.SparseDtype)` instead.\n",
      "  if is_sparse(pd_dtype) or not is_extension_array_dtype(pd_dtype):\n",
      "/Users/gohjunwei/anaconda3/lib/python3.11/site-packages/sklearn/utils/validation.py:605: FutureWarning: is_sparse is deprecated and will be removed in a future version. Check `isinstance(dtype, pd.SparseDtype)` instead.\n",
      "  if is_sparse(pd_dtype):\n",
      "/Users/gohjunwei/anaconda3/lib/python3.11/site-packages/sklearn/utils/validation.py:614: FutureWarning: is_sparse is deprecated and will be removed in a future version. Check `isinstance(dtype, pd.SparseDtype)` instead.\n",
      "  if is_sparse(pd_dtype) or not is_extension_array_dtype(pd_dtype):\n",
      "/Users/gohjunwei/anaconda3/lib/python3.11/site-packages/sklearn/utils/validation.py:605: FutureWarning: is_sparse is deprecated and will be removed in a future version. Check `isinstance(dtype, pd.SparseDtype)` instead.\n",
      "  if is_sparse(pd_dtype):\n",
      "/Users/gohjunwei/anaconda3/lib/python3.11/site-packages/sklearn/utils/validation.py:614: FutureWarning: is_sparse is deprecated and will be removed in a future version. Check `isinstance(dtype, pd.SparseDtype)` instead.\n",
      "  if is_sparse(pd_dtype) or not is_extension_array_dtype(pd_dtype):\n",
      "/Users/gohjunwei/anaconda3/lib/python3.11/site-packages/sklearn/utils/validation.py:605: FutureWarning: is_sparse is deprecated and will be removed in a future version. Check `isinstance(dtype, pd.SparseDtype)` instead.\n",
      "  if is_sparse(pd_dtype):\n",
      "/Users/gohjunwei/anaconda3/lib/python3.11/site-packages/sklearn/utils/validation.py:614: FutureWarning: is_sparse is deprecated and will be removed in a future version. Check `isinstance(dtype, pd.SparseDtype)` instead.\n",
      "  if is_sparse(pd_dtype) or not is_extension_array_dtype(pd_dtype):\n",
      "/Users/gohjunwei/anaconda3/lib/python3.11/site-packages/sklearn/utils/validation.py:605: FutureWarning: is_sparse is deprecated and will be removed in a future version. Check `isinstance(dtype, pd.SparseDtype)` instead.\n",
      "  if is_sparse(pd_dtype):\n",
      "/Users/gohjunwei/anaconda3/lib/python3.11/site-packages/sklearn/utils/validation.py:614: FutureWarning: is_sparse is deprecated and will be removed in a future version. Check `isinstance(dtype, pd.SparseDtype)` instead.\n",
      "  if is_sparse(pd_dtype) or not is_extension_array_dtype(pd_dtype):\n",
      "/Users/gohjunwei/anaconda3/lib/python3.11/site-packages/sklearn/utils/validation.py:605: FutureWarning: is_sparse is deprecated and will be removed in a future version. Check `isinstance(dtype, pd.SparseDtype)` instead.\n",
      "  if is_sparse(pd_dtype):\n",
      "/Users/gohjunwei/anaconda3/lib/python3.11/site-packages/sklearn/utils/validation.py:614: FutureWarning: is_sparse is deprecated and will be removed in a future version. Check `isinstance(dtype, pd.SparseDtype)` instead.\n",
      "  if is_sparse(pd_dtype) or not is_extension_array_dtype(pd_dtype):\n"
     ]
    }
   ],
   "source": [
    "accuracy_tree = accuracy_score(y_test, y_preds_logistic)\n",
    "f1_tree = f1_score(y_test, y_preds_logistic)\n",
    "classification = classification_report(y_test, y_pred_tree)\n",
    "\n",
    "print(accuracy_tree, f1_tree)\n",
    "print(classification)"
   ],
   "metadata": {
    "collapsed": false
   }
  },
  {
   "cell_type": "markdown",
   "source": [
    "Interestingly, we see that despite using GBTs, TFIDF does not outperform VADER in accuracy or prediction. This makes sense as our implementation of TFIDF does not take into consideration negation, fine-grained sentiment, capitalization, and more."
   ],
   "metadata": {
    "collapsed": false
   }
  },
  {
   "cell_type": "code",
   "execution_count": 329,
   "outputs": [
    {
     "name": "stderr",
     "output_type": "stream",
     "text": [
      "/Users/gohjunwei/anaconda3/lib/python3.11/site-packages/seaborn/_oldcore.py:1498: FutureWarning: is_categorical_dtype is deprecated and will be removed in a future version. Use isinstance(dtype, CategoricalDtype) instead\n",
      "  if pd.api.types.is_categorical_dtype(vector):\n",
      "/Users/gohjunwei/anaconda3/lib/python3.11/site-packages/seaborn/_oldcore.py:1498: FutureWarning: is_categorical_dtype is deprecated and will be removed in a future version. Use isinstance(dtype, CategoricalDtype) instead\n",
      "  if pd.api.types.is_categorical_dtype(vector):\n",
      "/Users/gohjunwei/anaconda3/lib/python3.11/site-packages/seaborn/_oldcore.py:1498: FutureWarning: is_categorical_dtype is deprecated and will be removed in a future version. Use isinstance(dtype, CategoricalDtype) instead\n",
      "  if pd.api.types.is_categorical_dtype(vector):\n",
      "/Users/gohjunwei/anaconda3/lib/python3.11/site-packages/seaborn/_oldcore.py:1498: FutureWarning: is_categorical_dtype is deprecated and will be removed in a future version. Use isinstance(dtype, CategoricalDtype) instead\n",
      "  if pd.api.types.is_categorical_dtype(vector):\n",
      "/Users/gohjunwei/anaconda3/lib/python3.11/site-packages/seaborn/_oldcore.py:1498: FutureWarning: is_categorical_dtype is deprecated and will be removed in a future version. Use isinstance(dtype, CategoricalDtype) instead\n",
      "  if pd.api.types.is_categorical_dtype(vector):\n",
      "/Users/gohjunwei/anaconda3/lib/python3.11/site-packages/seaborn/_oldcore.py:1498: FutureWarning: is_categorical_dtype is deprecated and will be removed in a future version. Use isinstance(dtype, CategoricalDtype) instead\n",
      "  if pd.api.types.is_categorical_dtype(vector):\n"
     ]
    },
    {
     "data": {
      "text/plain": "<Figure size 2000x500 with 3 Axes>",
      "image/png": "[encoded data removed]"
     },
     "metadata": {},
     "output_type": "display_data"
    }
   ],
   "source": [
    "import pandas as pd\n",
    "import matplotlib.pyplot as plt\n",
    "import seaborn as sns\n",
    "\n",
    "# Convert the RandomizedSearchCV results to a pandas DataFrame\n",
    "results = pd.DataFrame(random_search.cv_results_)\n",
    "\n",
    "# Plotting\n",
    "fig, axs = plt.subplots(1, 3, figsize=(20, 5))\n",
    "\n",
    "# n_estimators vs. accuracy\n",
    "sns.scatterplot(data=results, x='param_n_estimators', y='mean_test_score', ax=axs[0])\n",
    "axs[0].set_title('n_estimators vs. Accuracy')\n",
    "axs[0].set_xlabel('n_estimators')\n",
    "axs[0].set_ylabel('Accuracy')\n",
    "\n",
    "# learning_rate vs. accuracy\n",
    "sns.scatterplot(data=results, x='param_learning_rate', y='mean_test_score', ax=axs[1])\n",
    "axs[1].set_title('Learning Rate vs. Accuracy')\n",
    "axs[1].set_xlabel('Learning Rate')\n",
    "axs[1].set_ylabel('Accuracy')\n",
    "\n",
    "# max_depth vs. accuracy\n",
    "sns.scatterplot(data=results, x='param_max_depth', y='mean_test_score', ax=axs[2])\n",
    "axs[2].set_title('Max Depth vs. Accuracy')\n",
    "axs[2].set_xlabel('Max Depth')\n",
    "axs[2].set_ylabel('Accuracy')\n",
    "\n",
    "plt.tight_layout()\n",
    "plt.show()"
   ],
   "metadata": {
    "collapsed": false
   }
  },
  {
   "cell_type": "code",
   "execution_count": 330,
   "outputs": [
    {
     "data": {
      "text/plain": "<Figure size 640x480 with 1 Axes>",
      "image/png": "[encoded data removed]"
     },
     "metadata": {},
     "output_type": "display_data"
    }
   ],
   "source": [
    "import matplotlib.pyplot as plt\n",
    "xgb.plot_importance(best_tree_model)\n",
    "plt.show()"
   ],
   "metadata": {
    "collapsed": false
   }
  },
  {
   "cell_type": "code",
   "execution_count": null,
   "outputs": [],
   "source": [],
   "metadata": {
    "collapsed": false
   }
  }
 ],
 "metadata": {
  "kernelspec": {
   "display_name": "Python 3",
   "language": "python",
   "name": "python3"
  },
  "language_info": {
   "codemirror_mode": {
    "name": "ipython",
    "version": 2
   },
   "file_extension": ".py",
   "mimetype": "text/x-python",
   "name": "python",
   "nbconvert_exporter": "python",
   "pygments_lexer": "ipython2",
   "version": "2.7.6"
  }
 },
 "nbformat": 4,
 "nbformat_minor": 0
}
